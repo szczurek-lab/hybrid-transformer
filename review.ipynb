{
 "cells": [
  {
   "cell_type": "markdown",
   "source": [
    "# Review"
   ],
   "metadata": {
    "collapsed": false
   },
   "id": "442e15c12f19f14c"
  },
  {
   "cell_type": "markdown",
   "source": [
    "# 1. Run MOSES\n",
    "# 2. Run Classification task from MoleculeNet\n",
    "# 3. Evaluate all models all metrics on Guacamol\n"
   ],
   "metadata": {
    "collapsed": false
   },
   "id": "94ecefc5784ae8ff"
  },
  {
   "cell_type": "code",
   "execution_count": 7,
   "outputs": [
    {
     "name": "stdout",
     "output_type": "stream",
     "text": [
      "The autoreload extension is already loaded. To reload it, use:\n",
      "  %reload_ext autoreload\n"
     ]
    }
   ],
   "source": [
    "# 1,5h MOSES run\n",
    "\n",
    "# Install by downloading the package and running pip install e\n",
    "# pandas 1.5.3\n",
    "# git lts or manual file handling\n",
    "\n",
    "from hybrid_transformer.utils.datasets.auto import AutoDataset\n",
    "from hybrid_transformer.configs.task import TaskConfig\n",
    "\n",
    "%load_ext autoreload\n",
    "%autoreload 2\n",
    "\n",
    "config = TaskConfig.from_pretrained('./configs/tasks/molecule_net/bace/config.json')\n",
    "dataset = AutoDataset.from_config(config, 'train')"
   ],
   "metadata": {
    "collapsed": false,
    "ExecuteTime": {
     "end_time": "2024-03-23T09:53:16.661555700Z",
     "start_time": "2024-03-23T09:53:16.616606079Z"
    }
   },
   "id": "9e4e6a8c7e121aa8"
  },
  {
   "cell_type": "code",
   "execution_count": 1,
   "outputs": [
    {
     "ename": "NameError",
     "evalue": "name 'inputs' is not defined",
     "output_type": "error",
     "traceback": [
      "\u001B[0;31m---------------------------------------------------------------------------\u001B[0m",
      "\u001B[0;31mNameError\u001B[0m                                 Traceback (most recent call last)",
      "Cell \u001B[0;32mIn[1], line 1\u001B[0m\n\u001B[0;32m----> 1\u001B[0m \u001B[43minputs\u001B[49m[\u001B[38;5;124m'\u001B[39m\u001B[38;5;124mtarget\u001B[39m\u001B[38;5;124m'\u001B[39m]\n",
      "\u001B[0;31mNameError\u001B[0m: name 'inputs' is not defined"
     ]
    }
   ],
   "source": [
    "inputs['target']"
   ],
   "metadata": {
    "collapsed": false,
    "ExecuteTime": {
     "end_time": "2024-03-23T12:04:41.900153299Z",
     "start_time": "2024-03-23T12:04:41.833129272Z"
    }
   },
   "id": "393d6a739b1387cb"
  },
  {
   "cell_type": "code",
   "execution_count": 5,
   "outputs": [
    {
     "name": "stdout",
     "output_type": "stream",
     "text": [
      "/home/adam/Projects/moses/moses/dataset/data/test.csv.gz\n"
     ]
    }
   ],
   "source": [
    "import moses\n",
    "\n",
    "test = moses.get_dataset('test')\n"
   ],
   "metadata": {
    "collapsed": false
   },
   "id": "93882547e38c0ea3"
  },
  {
   "cell_type": "code",
   "execution_count": 7,
   "outputs": [
    {
     "name": "stdout",
     "output_type": "stream",
     "text": [
      "/home/adam/Projects/moses/moses/dataset/data/train.csv.gz\n"
     ]
    },
    {
     "data": {
      "text/plain": "<moses.utils.StringDataset at 0x725d5338f9d0>"
     },
     "execution_count": 7,
     "metadata": {},
     "output_type": "execute_result"
    }
   ],
   "source": [
    "from torch.utils.data import DataLoader\n",
    "from moses import CharVocab, StringDataset\n",
    "\n",
    "train = moses.get_dataset('train')\n",
    "vocab = CharVocab.from_data(train)\n",
    "train_dataset = StringDataset(vocab, train)\n",
    "train_dataloader = DataLoader(\n",
    "    train_dataset, batch_size=512,\n",
    "    shuffle=True, collate_fn=train_dataset.default_collate\n",
    ")\n",
    "\n",
    "train_dataset"
   ],
   "metadata": {
    "collapsed": false
   },
   "id": "bba8bf1bba667d9"
  },
  {
   "cell_type": "code",
   "execution_count": 8,
   "outputs": [],
   "source": [
    "from hybrid_transformer.utils.datasets.utils import load_txt_into_list\n",
    "\n",
    "smiles = load_txt_into_list('/home/adam/Projects/hybrid-transformer/generated_gpt.smi')"
   ],
   "metadata": {
    "collapsed": false
   },
   "id": "c1a251a1383ae66f"
  },
  {
   "cell_type": "code",
   "execution_count": 11,
   "outputs": [
    {
     "name": "stdout",
     "output_type": "stream",
     "text": [
      "/home/adam/Projects/moses/moses/dataset/data/test.csv.gz\n",
      "/home/adam/Projects/moses/moses/dataset/data/test_scaffolds.csv.gz\n",
      "/home/adam/Projects/moses/moses/dataset/data/train.csv.gz\n"
     ]
    },
    {
     "name": "stderr",
     "output_type": "stream",
     "text": [
      "/home/adam/Projects/moses/moses/metrics/metrics.py:215: UserWarning: Can't compute unique@10000.gen contains only 9909 molecules\n",
      "  warnings.warn(\n"
     ]
    }
   ],
   "source": [
    "import moses\n",
    "metrics = moses.get_all_metrics(smiles)"
   ],
   "metadata": {
    "collapsed": false
   },
   "id": "39e9b8c59ed7c40"
  },
  {
   "cell_type": "code",
   "execution_count": 14,
   "outputs": [
    {
     "data": {
      "text/plain": "0.2447023588790254"
     },
     "execution_count": 14,
     "metadata": {},
     "output_type": "execute_result"
    }
   ],
   "source": [
    "from math import exp\n",
    "\n",
    "exp(-0.2 * metrics['FCD/Test'])\n"
   ],
   "metadata": {
    "collapsed": false
   },
   "id": "45f2b9ceab3bf3bb"
  },
  {
   "cell_type": "code",
   "execution_count": 15,
   "outputs": [
    {
     "data": {
      "text/plain": "{'valid': 0.9909,\n 'unique@1000': 1.0,\n 'unique@10000': 0.9983853062872137,\n 'FCD/Test': 7.038563343491916,\n 'SNN/Test': 0.4426048239517289,\n 'Frag/Test': 0.9508913713812144,\n 'Scaf/Test': 0.2943603102033059,\n 'FCD/TestSF': 7.51176318079483,\n 'SNN/TestSF': 0.4272644210188381,\n 'Frag/TestSF': 0.948620021616539,\n 'Scaf/TestSF': 0.13022108886395767,\n 'IntDiv': 0.8757455496225649,\n 'IntDiv2': 0.8697819611597389,\n 'Filters': 0.7808053284892522,\n 'logP': 1.1389456416388857,\n 'SA': 0.42997357641483513,\n 'QED': 0.2579468459001779,\n 'weight': 99.0361644733469,\n 'Novelty': 0.982613969473365}"
     },
     "execution_count": 15,
     "metadata": {},
     "output_type": "execute_result"
    }
   ],
   "source": [
    "metrics"
   ],
   "metadata": {
    "collapsed": false
   },
   "id": "70aea1b084f7f4e9"
  },
  {
   "cell_type": "code",
   "execution_count": 13,
   "outputs": [
    {
     "ename": "NameError",
     "evalue": "name '__file__' is not defined",
     "output_type": "error",
     "traceback": [
      "\u001B[0;31m---------------------------------------------------------------------------\u001B[0m",
      "\u001B[0;31mNameError\u001B[0m                                 Traceback (most recent call last)",
      "Cell \u001B[0;32mIn[13], line 6\u001B[0m\n\u001B[1;32m      3\u001B[0m \u001B[38;5;28;01mfrom\u001B[39;00m \u001B[38;5;21;01murllib\u001B[39;00m\u001B[38;5;21;01m.\u001B[39;00m\u001B[38;5;21;01mrequest\u001B[39;00m \u001B[38;5;28;01mimport\u001B[39;00m urlretrieve\n\u001B[1;32m      5\u001B[0m split \u001B[38;5;241m=\u001B[39m \u001B[38;5;124m'\u001B[39m\u001B[38;5;124mtest\u001B[39m\u001B[38;5;124m'\u001B[39m\n\u001B[0;32m----> 6\u001B[0m base_path \u001B[38;5;241m=\u001B[39m os\u001B[38;5;241m.\u001B[39mpath\u001B[38;5;241m.\u001B[39mdirname(\u001B[38;5;18;43m__file__\u001B[39;49m)\n\u001B[1;32m      7\u001B[0m path \u001B[38;5;241m=\u001B[39m os\u001B[38;5;241m.\u001B[39mpath\u001B[38;5;241m.\u001B[39mjoin(base_path, \u001B[38;5;124m'\u001B[39m\u001B[38;5;124mdata\u001B[39m\u001B[38;5;124m'\u001B[39m, split\u001B[38;5;241m+\u001B[39m\u001B[38;5;124m'\u001B[39m\u001B[38;5;124m.csv.gz\u001B[39m\u001B[38;5;124m'\u001B[39m)\n\u001B[1;32m      8\u001B[0m smiles \u001B[38;5;241m=\u001B[39m pd\u001B[38;5;241m.\u001B[39mread_csv(path, compression\u001B[38;5;241m=\u001B[39m\u001B[38;5;124m'\u001B[39m\u001B[38;5;124mgzip\u001B[39m\u001B[38;5;124m'\u001B[39m)[\u001B[38;5;124m'\u001B[39m\u001B[38;5;124mSMILES\u001B[39m\u001B[38;5;124m'\u001B[39m]\u001B[38;5;241m.\u001B[39mvalues\n",
      "\u001B[0;31mNameError\u001B[0m: name '__file__' is not defined"
     ]
    }
   ],
   "source": [
    "import os\n",
    "import pandas as pd\n",
    "from urllib.request import urlretrieve\n",
    "\n",
    "split = 'test'\n",
    "base_path = os.path.dirname(__file__)\n",
    "path = os.path.join(base_path, 'data', split+'.csv.gz')\n",
    "smiles = pd.read_csv(path, compression='gzip')['SMILES'].values"
   ],
   "metadata": {
    "collapsed": false
   },
   "id": "b7bda5dec8fe4dcf"
  },
  {
   "cell_type": "code",
   "execution_count": 18,
   "outputs": [],
   "source": [
    "path = 'https://media.githubusercontent.com/media/molecularsets/moses/master/data/dataset_v1.csv'"
   ],
   "metadata": {
    "collapsed": false
   },
   "id": "a5bb1f2f398585e0"
  },
  {
   "cell_type": "code",
   "execution_count": 19,
   "outputs": [
    {
     "data": {
      "text/plain": "('./data/moses/smiles.csv', <http.client.HTTPMessage at 0x7528af410510>)"
     },
     "execution_count": 19,
     "metadata": {},
     "output_type": "execute_result"
    }
   ],
   "source": [
    "from urllib.request import urlretrieve\n",
    "\n",
    "os.makedirs('./data/moses', exist_ok=True)\n",
    "urlretrieve(path, './data/moses/smiles.csv')"
   ],
   "metadata": {
    "collapsed": false
   },
   "id": "400db6a486d8b187"
  },
  {
   "cell_type": "code",
   "execution_count": 22,
   "outputs": [],
   "source": [
    "\n",
    "\n",
    "df = pd.read_csv('./data/moses/smiles.csv')"
   ],
   "metadata": {
    "collapsed": false,
    "ExecuteTime": {
     "end_time": "2024-03-22T10:11:23.811744676Z",
     "start_time": "2024-03-22T10:11:22.908126996Z"
    }
   },
   "id": "8e3bbd29670b197f"
  },
  {
   "cell_type": "code",
   "execution_count": 25,
   "outputs": [],
   "source": [
    "df_test = df[df['SPLIT'] == 'test']\n",
    "df_train = df[df['SPLIT'] == 'train']\n",
    "df_test_scaffold = df[df['SPLIT'] == 'test_scaffolds']"
   ],
   "metadata": {
    "collapsed": false,
    "ExecuteTime": {
     "end_time": "2024-03-22T10:12:19.524396353Z",
     "start_time": "2024-03-22T10:12:19.307530310Z"
    }
   },
   "id": "aacf8c223af45363"
  },
  {
   "cell_type": "code",
   "execution_count": 28,
   "outputs": [
    {
     "data": {
      "text/plain": "                                              SMILES SPLIT\n2             CC1C2CCC(C2)C1CN(CCO)C(=O)c1ccc(Cl)cc1  test\n66       COc1ccc(-c2cc(=O)c3c(O)c(OC)c(OC)cc3o2)cc1O  test\n69           CCOC(=O)c1ncn2c1CN(C)C(=O)c1cc(F)ccc1-2  test\n89                     Clc1ccccc1-c1nc(-c2ccncc2)no1  test\n91           CC(C)(Oc1ccc(Cl)cc1)C(=O)OCc1cccc(CO)n1  test\n...                                              ...   ...\n1936925        COC(=O)CN(C)C(=O)Nc1ccc(OC)cc1C(=O)OC  test\n1936931                      Cc1cnc2cc(Br)c(Br)cc2n1  test\n1936936              COC(=O)c1nc2cc(Cl)ccn2c1C(=O)OC  test\n1936938               COc1ccc(C(=O)Cc2cc(Br)ccn2)cc1  test\n1936942                   COC(=O)CNC(=O)c1cc(Br)ccn1  test\n\n[176074 rows x 2 columns]",
      "text/html": "<div>\n<style scoped>\n    .dataframe tbody tr th:only-of-type {\n        vertical-align: middle;\n    }\n\n    .dataframe tbody tr th {\n        vertical-align: top;\n    }\n\n    .dataframe thead th {\n        text-align: right;\n    }\n</style>\n<table border=\"1\" class=\"dataframe\">\n  <thead>\n    <tr style=\"text-align: right;\">\n      <th></th>\n      <th>SMILES</th>\n      <th>SPLIT</th>\n    </tr>\n  </thead>\n  <tbody>\n    <tr>\n      <th>2</th>\n      <td>CC1C2CCC(C2)C1CN(CCO)C(=O)c1ccc(Cl)cc1</td>\n      <td>test</td>\n    </tr>\n    <tr>\n      <th>66</th>\n      <td>COc1ccc(-c2cc(=O)c3c(O)c(OC)c(OC)cc3o2)cc1O</td>\n      <td>test</td>\n    </tr>\n    <tr>\n      <th>69</th>\n      <td>CCOC(=O)c1ncn2c1CN(C)C(=O)c1cc(F)ccc1-2</td>\n      <td>test</td>\n    </tr>\n    <tr>\n      <th>89</th>\n      <td>Clc1ccccc1-c1nc(-c2ccncc2)no1</td>\n      <td>test</td>\n    </tr>\n    <tr>\n      <th>91</th>\n      <td>CC(C)(Oc1ccc(Cl)cc1)C(=O)OCc1cccc(CO)n1</td>\n      <td>test</td>\n    </tr>\n    <tr>\n      <th>...</th>\n      <td>...</td>\n      <td>...</td>\n    </tr>\n    <tr>\n      <th>1936925</th>\n      <td>COC(=O)CN(C)C(=O)Nc1ccc(OC)cc1C(=O)OC</td>\n      <td>test</td>\n    </tr>\n    <tr>\n      <th>1936931</th>\n      <td>Cc1cnc2cc(Br)c(Br)cc2n1</td>\n      <td>test</td>\n    </tr>\n    <tr>\n      <th>1936936</th>\n      <td>COC(=O)c1nc2cc(Cl)ccn2c1C(=O)OC</td>\n      <td>test</td>\n    </tr>\n    <tr>\n      <th>1936938</th>\n      <td>COc1ccc(C(=O)Cc2cc(Br)ccn2)cc1</td>\n      <td>test</td>\n    </tr>\n    <tr>\n      <th>1936942</th>\n      <td>COC(=O)CNC(=O)c1cc(Br)ccn1</td>\n      <td>test</td>\n    </tr>\n  </tbody>\n</table>\n<p>176074 rows × 2 columns</p>\n</div>"
     },
     "execution_count": 28,
     "metadata": {},
     "output_type": "execute_result"
    }
   ],
   "source": [
    "df_test"
   ],
   "metadata": {
    "collapsed": false,
    "ExecuteTime": {
     "end_time": "2024-03-22T10:12:49.734525126Z",
     "start_time": "2024-03-22T10:12:49.730850746Z"
    }
   },
   "id": "ecba835921585d87"
  },
  {
   "cell_type": "code",
   "execution_count": 29,
   "outputs": [],
   "source": [
    "df_test.to_csv('./data/moses/test.csv.gz', compression='gzip')"
   ],
   "metadata": {
    "collapsed": false,
    "ExecuteTime": {
     "end_time": "2024-03-22T10:14:52.448050285Z",
     "start_time": "2024-03-22T10:14:50.909471242Z"
    }
   },
   "id": "274720d6eedd193"
  },
  {
   "cell_type": "code",
   "execution_count": 30,
   "outputs": [],
   "source": [
    "df_train.to_csv('./data/moses/train.csv.gz', compression='gzip')"
   ],
   "metadata": {
    "collapsed": false,
    "ExecuteTime": {
     "end_time": "2024-03-22T10:15:05.352666982Z",
     "start_time": "2024-03-22T10:14:53.656315655Z"
    }
   },
   "id": "e0122287ea8c03f9"
  },
  {
   "cell_type": "code",
   "execution_count": 31,
   "outputs": [],
   "source": [
    "df_test_scaffold.to_csv('./data/moses/test_scaffold.csv.gz', compression='gzip')"
   ],
   "metadata": {
    "collapsed": false,
    "ExecuteTime": {
     "end_time": "2024-03-22T10:15:06.606066153Z",
     "start_time": "2024-03-22T10:15:05.393555357Z"
    }
   },
   "id": "1f0fe1d00f52b45"
  },
  {
   "cell_type": "code",
   "execution_count": 16,
   "outputs": [],
   "source": [
    "smiles = pd.read_csv('./data/moses/test.csv.gz', compression='gzip')['SMILES'].values"
   ],
   "metadata": {
    "collapsed": false,
    "ExecuteTime": {
     "end_time": "2024-03-22T10:47:00.834406704Z",
     "start_time": "2024-03-22T10:47:00.723046375Z"
    }
   },
   "id": "ae034d69372999ee"
  },
  {
   "cell_type": "code",
   "execution_count": 17,
   "outputs": [
    {
     "data": {
      "text/plain": "array(['CC1C2CCC(C2)C1CN(CCO)C(=O)c1ccc(Cl)cc1',\n       'COc1ccc(-c2cc(=O)c3c(O)c(OC)c(OC)cc3o2)cc1O',\n       'CCOC(=O)c1ncn2c1CN(C)C(=O)c1cc(F)ccc1-2', ...,\n       'COC(=O)c1nc2cc(Cl)ccn2c1C(=O)OC',\n       'COc1ccc(C(=O)Cc2cc(Br)ccn2)cc1', 'COC(=O)CNC(=O)c1cc(Br)ccn1'],\n      dtype=object)"
     },
     "execution_count": 17,
     "metadata": {},
     "output_type": "execute_result"
    }
   ],
   "source": [
    "smiles"
   ],
   "metadata": {
    "collapsed": false,
    "ExecuteTime": {
     "end_time": "2024-03-22T10:47:01.375234184Z",
     "start_time": "2024-03-22T10:47:01.372706652Z"
    }
   },
   "id": "9f166e3158759c4c"
  },
  {
   "cell_type": "code",
   "execution_count": 6,
   "outputs": [
    {
     "ename": "AttributeError",
     "evalue": "module 'scipy.stats' has no attribute 'gilbrat'",
     "output_type": "error",
     "traceback": [
      "\u001B[0;31m---------------------------------------------------------------------------\u001B[0m",
      "\u001B[0;31mAttributeError\u001B[0m                            Traceback (most recent call last)",
      "Cell \u001B[0;32mIn[6], line 1\u001B[0m\n\u001B[0;32m----> 1\u001B[0m \u001B[38;5;28;01mimport\u001B[39;00m \u001B[38;5;21;01mdeepchem\u001B[39;00m \u001B[38;5;28;01mas\u001B[39;00m \u001B[38;5;21;01mdc\u001B[39;00m\n\u001B[1;32m      2\u001B[0m \u001B[38;5;28;01mfrom\u001B[39;00m \u001B[38;5;21;01mdeepchem\u001B[39;00m\u001B[38;5;21;01m.\u001B[39;00m\u001B[38;5;21;01mfeat\u001B[39;00m\u001B[38;5;21;01m.\u001B[39;00m\u001B[38;5;21;01mmolecule_featurizers\u001B[39;00m\u001B[38;5;21;01m.\u001B[39;00m\u001B[38;5;21;01mraw_featurizer\u001B[39;00m \u001B[38;5;28;01mimport\u001B[39;00m RawFeaturizer\n",
      "File \u001B[0;32m~/miniconda3/envs/dc/lib/python3.9/site-packages/deepchem/__init__.py:8\u001B[0m\n\u001B[1;32m      5\u001B[0m \u001B[38;5;66;03m# If you push the tag, please remove `.dev`\u001B[39;00m\n\u001B[1;32m      6\u001B[0m __version__ \u001B[38;5;241m=\u001B[39m \u001B[38;5;124m'\u001B[39m\u001B[38;5;124m2.7.1\u001B[39m\u001B[38;5;124m'\u001B[39m\n\u001B[0;32m----> 8\u001B[0m \u001B[38;5;28;01mimport\u001B[39;00m \u001B[38;5;21;01mdeepchem\u001B[39;00m\u001B[38;5;21;01m.\u001B[39;00m\u001B[38;5;21;01mdata\u001B[39;00m\n\u001B[1;32m      9\u001B[0m \u001B[38;5;28;01mimport\u001B[39;00m \u001B[38;5;21;01mdeepchem\u001B[39;00m\u001B[38;5;21;01m.\u001B[39;00m\u001B[38;5;21;01mfeat\u001B[39;00m\n\u001B[1;32m     10\u001B[0m \u001B[38;5;28;01mimport\u001B[39;00m \u001B[38;5;21;01mdeepchem\u001B[39;00m\u001B[38;5;21;01m.\u001B[39;00m\u001B[38;5;21;01mhyper\u001B[39;00m\n",
      "File \u001B[0;32m~/miniconda3/envs/dc/lib/python3.9/site-packages/deepchem/data/__init__.py:16\u001B[0m\n\u001B[1;32m     14\u001B[0m \u001B[38;5;28;01mfrom\u001B[39;00m \u001B[38;5;21;01mdeepchem\u001B[39;00m\u001B[38;5;21;01m.\u001B[39;00m\u001B[38;5;21;01mdata\u001B[39;00m\u001B[38;5;21;01m.\u001B[39;00m\u001B[38;5;21;01mdatasets\u001B[39;00m \u001B[38;5;28;01mimport\u001B[39;00m densify_features\n\u001B[1;32m     15\u001B[0m \u001B[38;5;28;01mfrom\u001B[39;00m \u001B[38;5;21;01mdeepchem\u001B[39;00m\u001B[38;5;21;01m.\u001B[39;00m\u001B[38;5;21;01mdata\u001B[39;00m\u001B[38;5;21;01m.\u001B[39;00m\u001B[38;5;21;01msupports\u001B[39;00m \u001B[38;5;28;01mimport\u001B[39;00m \u001B[38;5;241m*\u001B[39m\n\u001B[0;32m---> 16\u001B[0m \u001B[38;5;28;01mfrom\u001B[39;00m \u001B[38;5;21;01mdeepchem\u001B[39;00m\u001B[38;5;21;01m.\u001B[39;00m\u001B[38;5;21;01mdata\u001B[39;00m\u001B[38;5;21;01m.\u001B[39;00m\u001B[38;5;21;01mdata_loader\u001B[39;00m \u001B[38;5;28;01mimport\u001B[39;00m DataLoader\n\u001B[1;32m     17\u001B[0m \u001B[38;5;28;01mfrom\u001B[39;00m \u001B[38;5;21;01mdeepchem\u001B[39;00m\u001B[38;5;21;01m.\u001B[39;00m\u001B[38;5;21;01mdata\u001B[39;00m\u001B[38;5;21;01m.\u001B[39;00m\u001B[38;5;21;01mdata_loader\u001B[39;00m \u001B[38;5;28;01mimport\u001B[39;00m CSVLoader\n\u001B[1;32m     18\u001B[0m \u001B[38;5;28;01mfrom\u001B[39;00m \u001B[38;5;21;01mdeepchem\u001B[39;00m\u001B[38;5;21;01m.\u001B[39;00m\u001B[38;5;21;01mdata\u001B[39;00m\u001B[38;5;21;01m.\u001B[39;00m\u001B[38;5;21;01mdata_loader\u001B[39;00m \u001B[38;5;28;01mimport\u001B[39;00m UserCSVLoader\n",
      "File \u001B[0;32m~/miniconda3/envs/dc/lib/python3.9/site-packages/deepchem/data/data_loader.py:17\u001B[0m\n\u001B[1;32m     15\u001B[0m \u001B[38;5;28;01mfrom\u001B[39;00m \u001B[38;5;21;01mdeepchem\u001B[39;00m\u001B[38;5;21;01m.\u001B[39;00m\u001B[38;5;21;01mutils\u001B[39;00m\u001B[38;5;21;01m.\u001B[39;00m\u001B[38;5;21;01mtyping\u001B[39;00m \u001B[38;5;28;01mimport\u001B[39;00m OneOrMany\n\u001B[1;32m     16\u001B[0m \u001B[38;5;28;01mfrom\u001B[39;00m \u001B[38;5;21;01mdeepchem\u001B[39;00m\u001B[38;5;21;01m.\u001B[39;00m\u001B[38;5;21;01mutils\u001B[39;00m\u001B[38;5;21;01m.\u001B[39;00m\u001B[38;5;21;01mdata_utils\u001B[39;00m \u001B[38;5;28;01mimport\u001B[39;00m load_image_files, load_csv_files, load_json_files, load_sdf_files, unzip_file\n\u001B[0;32m---> 17\u001B[0m \u001B[38;5;28;01mfrom\u001B[39;00m \u001B[38;5;21;01mdeepchem\u001B[39;00m\u001B[38;5;21;01m.\u001B[39;00m\u001B[38;5;21;01mfeat\u001B[39;00m \u001B[38;5;28;01mimport\u001B[39;00m UserDefinedFeaturizer, Featurizer\n\u001B[1;32m     18\u001B[0m \u001B[38;5;28;01mfrom\u001B[39;00m \u001B[38;5;21;01mdeepchem\u001B[39;00m\u001B[38;5;21;01m.\u001B[39;00m\u001B[38;5;21;01mdata\u001B[39;00m \u001B[38;5;28;01mimport\u001B[39;00m Dataset, DiskDataset, NumpyDataset, ImageDataset\n\u001B[1;32m     19\u001B[0m \u001B[38;5;28;01mfrom\u001B[39;00m \u001B[38;5;21;01mdeepchem\u001B[39;00m\u001B[38;5;21;01m.\u001B[39;00m\u001B[38;5;21;01mfeat\u001B[39;00m\u001B[38;5;21;01m.\u001B[39;00m\u001B[38;5;21;01mmolecule_featurizers\u001B[39;00m \u001B[38;5;28;01mimport\u001B[39;00m OneHotFeaturizer\n",
      "File \u001B[0;32m~/miniconda3/envs/dc/lib/python3.9/site-packages/deepchem/feat/__init__.py:21\u001B[0m\n\u001B[1;32m     18\u001B[0m \u001B[38;5;28;01mfrom\u001B[39;00m \u001B[38;5;21;01mdeepchem\u001B[39;00m\u001B[38;5;21;01m.\u001B[39;00m\u001B[38;5;21;01mfeat\u001B[39;00m\u001B[38;5;21;01m.\u001B[39;00m\u001B[38;5;21;01mbinding_pocket_features\u001B[39;00m \u001B[38;5;28;01mimport\u001B[39;00m BindingPocketFeaturizer\n\u001B[1;32m     20\u001B[0m \u001B[38;5;66;03m# molecule featurizers\u001B[39;00m\n\u001B[0;32m---> 21\u001B[0m \u001B[38;5;28;01mfrom\u001B[39;00m \u001B[38;5;21;01mdeepchem\u001B[39;00m\u001B[38;5;21;01m.\u001B[39;00m\u001B[38;5;21;01mfeat\u001B[39;00m\u001B[38;5;21;01m.\u001B[39;00m\u001B[38;5;21;01mmolecule_featurizers\u001B[39;00m \u001B[38;5;28;01mimport\u001B[39;00m AtomicCoordinates\n\u001B[1;32m     22\u001B[0m \u001B[38;5;28;01mfrom\u001B[39;00m \u001B[38;5;21;01mdeepchem\u001B[39;00m\u001B[38;5;21;01m.\u001B[39;00m\u001B[38;5;21;01mfeat\u001B[39;00m\u001B[38;5;21;01m.\u001B[39;00m\u001B[38;5;21;01mmolecule_featurizers\u001B[39;00m \u001B[38;5;28;01mimport\u001B[39;00m BPSymmetryFunctionInput\n\u001B[1;32m     23\u001B[0m \u001B[38;5;28;01mfrom\u001B[39;00m \u001B[38;5;21;01mdeepchem\u001B[39;00m\u001B[38;5;21;01m.\u001B[39;00m\u001B[38;5;21;01mfeat\u001B[39;00m\u001B[38;5;21;01m.\u001B[39;00m\u001B[38;5;21;01mmolecule_featurizers\u001B[39;00m \u001B[38;5;28;01mimport\u001B[39;00m CircularFingerprint\n",
      "File \u001B[0;32m~/miniconda3/envs/dc/lib/python3.9/site-packages/deepchem/feat/molecule_featurizers/__init__.py:22\u001B[0m\n\u001B[1;32m     20\u001B[0m \u001B[38;5;28;01mfrom\u001B[39;00m \u001B[38;5;21;01mdeepchem\u001B[39;00m\u001B[38;5;21;01m.\u001B[39;00m\u001B[38;5;21;01mfeat\u001B[39;00m\u001B[38;5;21;01m.\u001B[39;00m\u001B[38;5;21;01mmolecule_featurizers\u001B[39;00m\u001B[38;5;21;01m.\u001B[39;00m\u001B[38;5;21;01mmolgan_featurizer\u001B[39;00m \u001B[38;5;28;01mimport\u001B[39;00m MolGanFeaturizer\n\u001B[1;32m     21\u001B[0m \u001B[38;5;28;01mfrom\u001B[39;00m \u001B[38;5;21;01mdeepchem\u001B[39;00m\u001B[38;5;21;01m.\u001B[39;00m\u001B[38;5;21;01mfeat\u001B[39;00m\u001B[38;5;21;01m.\u001B[39;00m\u001B[38;5;21;01mmolecule_featurizers\u001B[39;00m\u001B[38;5;21;01m.\u001B[39;00m\u001B[38;5;21;01mmat_featurizer\u001B[39;00m \u001B[38;5;28;01mimport\u001B[39;00m MATFeaturizer\n\u001B[0;32m---> 22\u001B[0m \u001B[38;5;28;01mfrom\u001B[39;00m \u001B[38;5;21;01mdeepchem\u001B[39;00m\u001B[38;5;21;01m.\u001B[39;00m\u001B[38;5;21;01mfeat\u001B[39;00m\u001B[38;5;21;01m.\u001B[39;00m\u001B[38;5;21;01mmolecule_featurizers\u001B[39;00m\u001B[38;5;21;01m.\u001B[39;00m\u001B[38;5;21;01mdmpnn_featurizer\u001B[39;00m \u001B[38;5;28;01mimport\u001B[39;00m DMPNNFeaturizer\n",
      "File \u001B[0;32m~/miniconda3/envs/dc/lib/python3.9/site-packages/deepchem/feat/molecule_featurizers/dmpnn_featurizer.py:24\u001B[0m\n\u001B[1;32m     19\u001B[0m \u001B[38;5;28;01mfrom\u001B[39;00m \u001B[38;5;21;01mdeepchem\u001B[39;00m\u001B[38;5;21;01m.\u001B[39;00m\u001B[38;5;21;01mfeat\u001B[39;00m\u001B[38;5;21;01m.\u001B[39;00m\u001B[38;5;21;01mgraph_features\u001B[39;00m \u001B[38;5;28;01mimport\u001B[39;00m bond_features \u001B[38;5;28;01mas\u001B[39;00m b_Feats\n\u001B[1;32m     21\u001B[0m logger \u001B[38;5;241m=\u001B[39m logging\u001B[38;5;241m.\u001B[39mgetLogger(\u001B[38;5;18m__name__\u001B[39m)\n\u001B[0;32m---> 24\u001B[0m \u001B[38;5;28;01mclass\u001B[39;00m \u001B[38;5;21;01mGraphConvConstants\u001B[39;00m(\u001B[38;5;28mobject\u001B[39m):\n\u001B[1;32m     25\u001B[0m \u001B[38;5;250m  \u001B[39m\u001B[38;5;124;03m\"\"\"\u001B[39;00m\n\u001B[1;32m     26\u001B[0m \u001B[38;5;124;03m  A class for holding featurization parameters.\u001B[39;00m\n\u001B[1;32m     27\u001B[0m \u001B[38;5;124;03m  \"\"\"\u001B[39;00m\n\u001B[1;32m     29\u001B[0m   MAX_ATOMIC_NUM \u001B[38;5;241m=\u001B[39m \u001B[38;5;241m100\u001B[39m\n",
      "File \u001B[0;32m~/miniconda3/envs/dc/lib/python3.9/site-packages/deepchem/feat/molecule_featurizers/dmpnn_featurizer.py:57\u001B[0m, in \u001B[0;36mGraphConvConstants\u001B[0;34m()\u001B[0m\n\u001B[1;32m     43\u001B[0m BOND_FDIM \u001B[38;5;241m=\u001B[39m \u001B[38;5;241m14\u001B[39m\n\u001B[1;32m     45\u001B[0m \u001B[38;5;66;03m# dictionary of available feature generators\u001B[39;00m\n\u001B[1;32m     46\u001B[0m FEATURE_GENERATORS: Dict[\u001B[38;5;28mstr\u001B[39m, MolecularFeaturizer] \u001B[38;5;241m=\u001B[39m {\n\u001B[1;32m     47\u001B[0m     \u001B[38;5;124m\"\u001B[39m\u001B[38;5;124mmorgan\u001B[39m\u001B[38;5;124m\"\u001B[39m:\n\u001B[1;32m     48\u001B[0m         CircularFingerprint(radius\u001B[38;5;241m=\u001B[39m\u001B[38;5;241m2\u001B[39m, size\u001B[38;5;241m=\u001B[39m\u001B[38;5;241m2048\u001B[39m, sparse\u001B[38;5;241m=\u001B[39m\u001B[38;5;28;01mFalse\u001B[39;00m),\n\u001B[1;32m     49\u001B[0m     \u001B[38;5;124m\"\u001B[39m\u001B[38;5;124mmorgan_count\u001B[39m\u001B[38;5;124m\"\u001B[39m:\n\u001B[1;32m     50\u001B[0m         CircularFingerprint(radius\u001B[38;5;241m=\u001B[39m\u001B[38;5;241m2\u001B[39m,\n\u001B[1;32m     51\u001B[0m                             size\u001B[38;5;241m=\u001B[39m\u001B[38;5;241m2048\u001B[39m,\n\u001B[1;32m     52\u001B[0m                             sparse\u001B[38;5;241m=\u001B[39m\u001B[38;5;28;01mFalse\u001B[39;00m,\n\u001B[1;32m     53\u001B[0m                             is_counts_based\u001B[38;5;241m=\u001B[39m\u001B[38;5;28;01mTrue\u001B[39;00m),\n\u001B[1;32m     54\u001B[0m     \u001B[38;5;124m\"\u001B[39m\u001B[38;5;124mrdkit_desc\u001B[39m\u001B[38;5;124m\"\u001B[39m:\n\u001B[1;32m     55\u001B[0m         RDKitDescriptors(use_bcut2d\u001B[38;5;241m=\u001B[39m\u001B[38;5;28;01mFalse\u001B[39;00m),\n\u001B[1;32m     56\u001B[0m     \u001B[38;5;124m\"\u001B[39m\u001B[38;5;124mrdkit_desc_normalized\u001B[39m\u001B[38;5;124m\"\u001B[39m:\n\u001B[0;32m---> 57\u001B[0m         \u001B[43mRDKitDescriptors\u001B[49m\u001B[43m(\u001B[49m\u001B[43muse_bcut2d\u001B[49m\u001B[38;5;241;43m=\u001B[39;49m\u001B[38;5;28;43;01mFalse\u001B[39;49;00m\u001B[43m,\u001B[49m\u001B[43m \u001B[49m\u001B[43mis_normalized\u001B[49m\u001B[38;5;241;43m=\u001B[39;49m\u001B[38;5;28;43;01mTrue\u001B[39;49;00m\u001B[43m)\u001B[49m\n\u001B[1;32m     58\u001B[0m }\n",
      "File \u001B[0;32m~/miniconda3/envs/dc/lib/python3.9/site-packages/deepchem/feat/molecule_featurizers/rdkit_descriptors.py:113\u001B[0m, in \u001B[0;36mRDKitDescriptors.__init__\u001B[0;34m(self, use_fragment, ipc_avg, is_normalized, use_bcut2d)\u001B[0m\n\u001B[1;32m    111\u001B[0m \u001B[38;5;66;03m# creates normalized functions dictionary if normalized features are required\u001B[39;00m\n\u001B[1;32m    112\u001B[0m \u001B[38;5;28;01mif\u001B[39;00m is_normalized:\n\u001B[0;32m--> 113\u001B[0m   \u001B[38;5;28;43mself\u001B[39;49m\u001B[38;5;241;43m.\u001B[39;49m\u001B[43m_make_normalised_func_dict\u001B[49m\u001B[43m(\u001B[49m\u001B[43m)\u001B[49m\n",
      "File \u001B[0;32m~/miniconda3/envs/dc/lib/python3.9/site-packages/deepchem/feat/molecule_featurizers/rdkit_descriptors.py:216\u001B[0m, in \u001B[0;36mRDKitDescriptors._make_normalised_func_dict\u001B[0;34m(self)\u001B[0m\n\u001B[1;32m    213\u001B[0m scale: \u001B[38;5;28mfloat\u001B[39m \u001B[38;5;241m=\u001B[39m params[\u001B[38;5;241m-\u001B[39m\u001B[38;5;241m1\u001B[39m]\n\u001B[1;32m    215\u001B[0m \u001B[38;5;66;03m# get required distribution_ from `scipy.stats` module.\u001B[39;00m\n\u001B[0;32m--> 216\u001B[0m cont_distribution: rv_continuous \u001B[38;5;241m=\u001B[39m \u001B[38;5;28;43mgetattr\u001B[39;49m\u001B[43m(\u001B[49m\u001B[43mst\u001B[49m\u001B[43m,\u001B[49m\u001B[43m \u001B[49m\u001B[43mdistribution_name\u001B[49m\u001B[43m)\u001B[49m\n\u001B[1;32m    218\u001B[0m \u001B[38;5;66;03m# cdf => cumulative density functions\u001B[39;00m\n\u001B[1;32m    219\u001B[0m \u001B[38;5;66;03m# make the cdf with the parameters.\u001B[39;00m\n\u001B[1;32m    220\u001B[0m \u001B[38;5;28;01mdef\u001B[39;00m \u001B[38;5;21mnorm_cdf\u001B[39m(v: Union[\u001B[38;5;28mint\u001B[39m, \u001B[38;5;28mfloat\u001B[39m],\n\u001B[1;32m    221\u001B[0m              distribution_: rv_continuous \u001B[38;5;241m=\u001B[39m cont_distribution,\n\u001B[1;32m    222\u001B[0m              arg: Sequence[\u001B[38;5;28mfloat\u001B[39m] \u001B[38;5;241m=\u001B[39m arg,\n\u001B[0;32m   (...)\u001B[0m\n\u001B[1;32m    225\u001B[0m              minV: \u001B[38;5;28mfloat\u001B[39m \u001B[38;5;241m=\u001B[39m minV,\n\u001B[1;32m    226\u001B[0m              maxV: \u001B[38;5;28mfloat\u001B[39m \u001B[38;5;241m=\u001B[39m maxV) \u001B[38;5;241m-\u001B[39m\u001B[38;5;241m>\u001B[39m np\u001B[38;5;241m.\u001B[39mndarray:\n",
      "\u001B[0;31mAttributeError\u001B[0m: module 'scipy.stats' has no attribute 'gilbrat'"
     ]
    }
   ],
   "source": [
    "import deepchem as dc\n",
    "from deepchem.feat.molecule_featurizers.raw_featurizer import RawFeaturizer"
   ],
   "metadata": {
    "collapsed": false,
    "ExecuteTime": {
     "end_time": "2024-03-25T10:07:57.054402090Z",
     "start_time": "2024-03-25T10:07:56.907717725Z"
    }
   },
   "id": "b645205c5f75a467"
  },
  {
   "cell_type": "code",
   "execution_count": 7,
   "outputs": [
    {
     "ename": "NameError",
     "evalue": "name 'RawFeaturizer' is not defined",
     "output_type": "error",
     "traceback": [
      "\u001B[0;31m---------------------------------------------------------------------------\u001B[0m",
      "\u001B[0;31mNameError\u001B[0m                                 Traceback (most recent call last)",
      "Cell \u001B[0;32mIn[7], line 1\u001B[0m\n\u001B[0;32m----> 1\u001B[0m featurizer \u001B[38;5;241m=\u001B[39m \u001B[43mRawFeaturizer\u001B[49m(smiles\u001B[38;5;241m=\u001B[39m\u001B[38;5;28;01mTrue\u001B[39;00m)\n\u001B[1;32m      2\u001B[0m splitter \u001B[38;5;241m=\u001B[39m \u001B[38;5;124m'\u001B[39m\u001B[38;5;124mrandom\u001B[39m\u001B[38;5;124m'\u001B[39m\n\u001B[1;32m      4\u001B[0m _, datasets, _ \u001B[38;5;241m=\u001B[39m dc\u001B[38;5;241m.\u001B[39mmolnet\u001B[38;5;241m.\u001B[39mload_bbbp(\n\u001B[1;32m      5\u001B[0m                 featurizer\u001B[38;5;241m=\u001B[39mfeaturizer, splitter\u001B[38;5;241m=\u001B[39msplitter)\n",
      "\u001B[0;31mNameError\u001B[0m: name 'RawFeaturizer' is not defined"
     ]
    }
   ],
   "source": [
    "featurizer = RawFeaturizer(smiles=True)\n",
    "splitter = 'random'\n",
    "\n",
    "_, datasets, _ = dc.molnet.load_bbbp(\n",
    "                featurizer=featurizer, splitter=splitter)"
   ],
   "metadata": {
    "collapsed": false,
    "ExecuteTime": {
     "end_time": "2024-03-25T10:07:57.703840352Z",
     "start_time": "2024-03-25T10:07:57.685816832Z"
    }
   },
   "id": "51f038fca4063911"
  },
  {
   "cell_type": "code",
   "execution_count": 87,
   "outputs": [
    {
     "ename": "AttributeError",
     "evalue": "module 'deepchem.feat' has no attribute 'DummyFeaturizer'",
     "output_type": "error",
     "traceback": [
      "\u001B[0;31m---------------------------------------------------------------------------\u001B[0m",
      "\u001B[0;31mAttributeError\u001B[0m                            Traceback (most recent call last)",
      "Cell \u001B[0;32mIn[87], line 1\u001B[0m\n\u001B[0;32m----> 1\u001B[0m Featurizer \u001B[38;5;241m=\u001B[39m \u001B[43mdc\u001B[49m\u001B[38;5;241;43m.\u001B[39;49m\u001B[43mfeat\u001B[49m\u001B[38;5;241;43m.\u001B[39;49m\u001B[43mDummyFeaturizer\u001B[49m()\n",
      "\u001B[0;31mAttributeError\u001B[0m: module 'deepchem.feat' has no attribute 'DummyFeaturizer'"
     ]
    }
   ],
   "source": [
    "Featurizer = dc.feat.DummyFeaturizer()"
   ],
   "metadata": {
    "collapsed": false
   },
   "id": "54197d35d61842a2"
  },
  {
   "cell_type": "code",
   "execution_count": 69,
   "outputs": [
    {
     "data": {
      "text/plain": "(<DiskDataset X.shape: (32901,), y.shape: (32901, 1), w.shape: (32901, 1), task_names: ['HIV_active']>,\n <DiskDataset X.shape: (4113,), y.shape: (4113, 1), w.shape: (4113, 1), task_names: ['HIV_active']>,\n <DiskDataset X.shape: (4113,), y.shape: (4113, 1), w.shape: (4113, 1), task_names: ['HIV_active']>)"
     },
     "execution_count": 69,
     "metadata": {},
     "output_type": "execute_result"
    }
   ],
   "source": [
    "datasets"
   ],
   "metadata": {
    "collapsed": false,
    "ExecuteTime": {
     "end_time": "2024-03-25T09:00:54.790851088Z",
     "start_time": "2024-03-25T09:00:54.770913841Z"
    }
   },
   "id": "57a3ebc4ecbc8a81"
  },
  {
   "cell_type": "code",
   "execution_count": 22,
   "outputs": [],
   "source": [
    "smiles = [\"C1CCC1\", \"CCC\"]\n",
    "labels = [0., 1.]\n",
    "featurizer = RawFeaturizer(smiles=False)\n",
    "X = featurizer.featurize(smiles)"
   ],
   "metadata": {
    "collapsed": false,
    "ExecuteTime": {
     "end_time": "2024-03-25T07:25:09.243761107Z",
     "start_time": "2024-03-25T07:25:09.234266129Z"
    }
   },
   "id": "c558e573a86707d0"
  },
  {
   "cell_type": "code",
   "execution_count": 23,
   "outputs": [
    {
     "data": {
      "text/plain": "array([<rdkit.Chem.rdchem.Mol object at 0x7df9d711ba70>,\n       <rdkit.Chem.rdchem.Mol object at 0x7df9d711bf40>], dtype=object)"
     },
     "execution_count": 23,
     "metadata": {},
     "output_type": "execute_result"
    }
   ],
   "source": [
    "X"
   ],
   "metadata": {
    "collapsed": false,
    "ExecuteTime": {
     "end_time": "2024-03-25T07:25:09.921869668Z",
     "start_time": "2024-03-25T07:25:09.918760097Z"
    }
   },
   "id": "3e1b073123d5f607"
  },
  {
   "cell_type": "code",
   "execution_count": 20,
   "outputs": [],
   "source": [
    "import pandas as pd\n",
    "\n",
    "df = pd.read_csv('/home/adam/Projects/hybrid-transformer/BBBP.csv')"
   ],
   "metadata": {
    "collapsed": false,
    "ExecuteTime": {
     "end_time": "2024-03-25T07:25:05.232123214Z",
     "start_time": "2024-03-25T07:25:05.221191619Z"
    }
   },
   "id": "f94d018aee14cd91"
  },
  {
   "cell_type": "code",
   "execution_count": 21,
   "outputs": [],
   "source": [
    "smiles = df.smiles.values.tolist()"
   ],
   "metadata": {
    "collapsed": false,
    "ExecuteTime": {
     "end_time": "2024-03-25T07:25:05.944583351Z",
     "start_time": "2024-03-25T07:25:05.938695549Z"
    }
   },
   "id": "4552809a20dfa1fd"
  },
  {
   "cell_type": "code",
   "execution_count": 24,
   "outputs": [],
   "source": [
    "featurized_smiles = []\n",
    "\n",
    "for smile in smiles:\n",
    "    featurized_smiles.append(featurizer.featurize(smile))"
   ],
   "metadata": {
    "collapsed": false,
    "ExecuteTime": {
     "end_time": "2024-03-25T07:25:12.930323404Z",
     "start_time": "2024-03-25T07:25:12.927476025Z"
    }
   },
   "id": "55750cba1b30006e"
  },
  {
   "cell_type": "code",
   "execution_count": 26,
   "outputs": [
    {
     "data": {
      "text/plain": "array([<rdkit.Chem.rdchem.Mol object at 0x7df9d711bed0>], dtype=object)"
     },
     "execution_count": 26,
     "metadata": {},
     "output_type": "execute_result"
    }
   ],
   "source": [
    "\n",
    "\n",
    "featurized_smiles[0]"
   ],
   "metadata": {
    "collapsed": false,
    "ExecuteTime": {
     "end_time": "2024-03-25T07:25:23.235862560Z",
     "start_time": "2024-03-25T07:25:23.230031353Z"
    }
   },
   "id": "8b030d30d39cbf95"
  },
  {
   "cell_type": "code",
   "execution_count": 6,
   "outputs": [],
   "source": [
    "import os\n",
    "import torch\n",
    "import random\n",
    "\n",
    "import numpy as np\n",
    "\n",
    "from urllib.request import urlretrieve\n",
    "from itertools import compress\n",
    "from rdkit.Chem.Scaffolds import MurckoScaffold\n",
    "from collections import defaultdict\n",
    "from sklearn.model_selection import StratifiedKFold\n",
    "\n",
    "# splitter function\n",
    "\n",
    "def generate_scaffold(smiles, include_chirality=False):\n",
    "    \"\"\"\n",
    "    Obtain Bemis-Murcko scaffold from smiles\n",
    "    :param smiles:\n",
    "    :param include_chirality:\n",
    "    :return: smiles of scaffold\n",
    "    \"\"\"\n",
    "    scaffold = MurckoScaffold.MurckoScaffoldSmiles(\n",
    "        smiles=smiles, includeChirality=include_chirality)\n",
    "    return scaffold\n",
    "\n",
    "def create_dir_from_path(path: str, overwrite: bool = True) -> None:\n",
    "    os.makedirs(os.path.dirname(path), exist_ok=overwrite)\n",
    "\n",
    "def create_dir(dir: str, overwrite: bool = True) -> None:\n",
    "    os.makedirs(dir, exist_ok=overwrite)\n",
    "\n",
    "def download_bbpb_dataset(path: str) -> None:\n",
    "    create_dir_from_path(path)\n",
    "    url = 'https://deepchemdata.s3-us-west-1.amazonaws.com/datasets/BBBP.csv'\n",
    "    urlretrieve(url, path)\n",
    "\n",
    "def _load_bbbp_dataset(input_path, seed: int = 0):\n",
    "    \"\"\"\n",
    "\n",
    "    :param input_path:\n",
    "    :return: list of smiles, list of rdkit mol obj, np.array containing the\n",
    "    labels\n",
    "    \"\"\"\n",
    "    input_df = pd.read_csv(input_path, sep=',')\n",
    "    smiles_list = input_df['smiles']\n",
    "    rdkit_mol_objs_list = [AllChem.MolFromSmiles(s) for s in smiles_list]\n",
    "\n",
    "    preprocessed_rdkit_mol_objs_list = [m if m != None else None for m in\n",
    "                                                          rdkit_mol_objs_list]\n",
    "    preprocessed_smiles_list = [AllChem.MolToSmiles(m) if m != None else\n",
    "                                None for m in preprocessed_rdkit_mol_objs_list]\n",
    "    labels = input_df['p_np']\n",
    "    # convert 0 to -1\n",
    "    labels = labels.replace(0, -1)\n",
    "    # there are no nans\n",
    "    assert len(smiles_list) == len(preprocessed_rdkit_mol_objs_list)\n",
    "    assert len(smiles_list) == len(preprocessed_smiles_list)\n",
    "    assert len(smiles_list) == len(labels)\n",
    "    \n",
    "    dataset = dc.data.DiskDataset.from_numpy(X=preprocessed_smiles_list, y=labels.values)\n",
    "    scaffoldsplitter = dc.splits.ScaffoldSplitter()\n",
    "    train_dataset, val_dataset, test_dataset = scaffoldsplitter.train_valid_test_split(dataset, seed=seed)\n",
    "    \n",
    "    return preprocessed_smiles_list, preprocessed_rdkit_mol_objs_list, \\\n",
    "           labels.values\n",
    "\n"
   ],
   "metadata": {
    "collapsed": false,
    "ExecuteTime": {
     "end_time": "2024-03-25T12:00:36.407237842Z",
     "start_time": "2024-03-25T12:00:36.366158465Z"
    }
   },
   "id": "f7746a3b0ed5ac8e"
  },
  {
   "cell_type": "code",
   "execution_count": 81,
   "outputs": [
    {
     "name": "stderr",
     "output_type": "stream",
     "text": [
      "[10:11:47] Explicit valence for atom # 1 N, 4, is greater than permitted\n",
      "[10:11:47] WARNING: not removing hydrogen atom without neighbors\n",
      "[10:11:47] Explicit valence for atom # 6 N, 4, is greater than permitted\n",
      "[10:11:47] WARNING: not removing hydrogen atom without neighbors\n",
      "[10:11:47] WARNING: not removing hydrogen atom without neighbors\n",
      "[10:11:47] WARNING: not removing hydrogen atom without neighbors\n",
      "[10:11:47] WARNING: not removing hydrogen atom without neighbors\n",
      "[10:11:47] WARNING: not removing hydrogen atom without neighbors\n",
      "[10:11:47] WARNING: not removing hydrogen atom without neighbors\n",
      "[10:11:47] Explicit valence for atom # 6 N, 4, is greater than permitted\n",
      "[10:11:47] WARNING: not removing hydrogen atom without neighbors\n",
      "[10:11:47] WARNING: not removing hydrogen atom without neighbors\n",
      "[10:11:47] WARNING: not removing hydrogen atom without neighbors\n",
      "[10:11:47] WARNING: not removing hydrogen atom without neighbors\n",
      "[10:11:47] Explicit valence for atom # 11 N, 4, is greater than permitted\n",
      "[10:11:47] Explicit valence for atom # 12 N, 4, is greater than permitted\n",
      "[10:11:47] Explicit valence for atom # 5 N, 4, is greater than permitted\n",
      "[10:11:47] Explicit valence for atom # 5 N, 4, is greater than permitted\n",
      "[10:11:47] Explicit valence for atom # 5 N, 4, is greater than permitted\n",
      "[10:11:47] Explicit valence for atom # 5 N, 4, is greater than permitted\n",
      "[10:11:47] Explicit valence for atom # 5 N, 4, is greater than permitted\n",
      "[10:11:47] WARNING: not removing hydrogen atom without neighbors\n",
      "[10:11:47] WARNING: not removing hydrogen atom without neighbors\n",
      "[10:11:47] Explicit valence for atom # 5 N, 4, is greater than permitted\n",
      "[10:11:47] WARNING: not removing hydrogen atom without neighbors\n",
      "[10:11:47] WARNING: not removing hydrogen atom without neighbors\n",
      "[10:11:47] WARNING: not removing hydrogen atom without neighbors\n",
      "[10:11:47] WARNING: not removing hydrogen atom without neighbors\n",
      "[10:11:47] WARNING: not removing hydrogen atom without neighbors\n",
      "[10:11:47] WARNING: not removing hydrogen atom without neighbors\n",
      "[10:11:47] WARNING: not removing hydrogen atom without neighbors\n",
      "[10:11:47] WARNING: not removing hydrogen atom without neighbors\n",
      "[10:11:47] WARNING: not removing hydrogen atom without neighbors\n",
      "[10:11:47] WARNING: not removing hydrogen atom without neighbors\n",
      "[10:11:47] WARNING: not removing hydrogen atom without neighbors\n",
      "[10:11:47] WARNING: not removing hydrogen atom without neighbors\n",
      "[10:11:47] WARNING: not removing hydrogen atom without neighbors\n",
      "[10:11:47] WARNING: not removing hydrogen atom without neighbors\n",
      "[10:11:47] WARNING: not removing hydrogen atom without neighbors\n",
      "[10:11:47] WARNING: not removing hydrogen atom without neighbors\n",
      "[10:11:47] WARNING: not removing hydrogen atom without neighbors\n",
      "[10:11:47] WARNING: not removing hydrogen atom without neighbors\n",
      "[10:11:47] WARNING: not removing hydrogen atom without neighbors\n",
      "[10:11:47] WARNING: not removing hydrogen atom without neighbors\n",
      "[10:11:47] WARNING: not removing hydrogen atom without neighbors\n",
      "[10:11:47] WARNING: not removing hydrogen atom without neighbors\n",
      "[10:11:47] WARNING: not removing hydrogen atom without neighbors\n",
      "[10:11:47] WARNING: not removing hydrogen atom without neighbors\n",
      "[10:11:47] WARNING: not removing hydrogen atom without neighbors\n",
      "[10:11:47] WARNING: not removing hydrogen atom without neighbors\n",
      "[10:11:47] WARNING: not removing hydrogen atom without neighbors\n"
     ]
    },
    {
     "ename": "TypeError",
     "evalue": "No registered converter was able to produce a C++ rvalue of type std::basic_string<wchar_t, std::char_traits<wchar_t>, std::allocator<wchar_t> > from this Python object of type int",
     "output_type": "error",
     "traceback": [
      "\u001B[0;31m---------------------------------------------------------------------------\u001B[0m",
      "\u001B[0;31mTypeError\u001B[0m                                 Traceback (most recent call last)",
      "Cell \u001B[0;32mIn[81], line 3\u001B[0m\n\u001B[1;32m      1\u001B[0m path \u001B[38;5;241m=\u001B[39m \u001B[38;5;124m'\u001B[39m\u001B[38;5;124m./data/molecule_net/bbbp/bbbp.csv\u001B[39m\u001B[38;5;124m'\u001B[39m\n\u001B[1;32m      2\u001B[0m download_bbpb_dataset(path)\n\u001B[0;32m----> 3\u001B[0m x, y, z \u001B[38;5;241m=\u001B[39m \u001B[43m_load_bbbp_dataset\u001B[49m\u001B[43m(\u001B[49m\u001B[43mpath\u001B[49m\u001B[43m)\u001B[49m\n",
      "Cell \u001B[0;32mIn[80], line 62\u001B[0m, in \u001B[0;36m_load_bbbp_dataset\u001B[0;34m(input_path, seed)\u001B[0m\n\u001B[1;32m     60\u001B[0m dataset \u001B[38;5;241m=\u001B[39m dc\u001B[38;5;241m.\u001B[39mdata\u001B[38;5;241m.\u001B[39mDiskDataset\u001B[38;5;241m.\u001B[39mfrom_numpy(X\u001B[38;5;241m=\u001B[39mpreprocessed_smiles_list)\n\u001B[1;32m     61\u001B[0m scaffoldsplitter \u001B[38;5;241m=\u001B[39m dc\u001B[38;5;241m.\u001B[39msplits\u001B[38;5;241m.\u001B[39mScaffoldSplitter()\n\u001B[0;32m---> 62\u001B[0m train_dataset, val_dataset, test_dataset \u001B[38;5;241m=\u001B[39m \u001B[43mscaffoldsplitter\u001B[49m\u001B[38;5;241;43m.\u001B[39;49m\u001B[43mtrain_valid_test_split\u001B[49m\u001B[43m(\u001B[49m\u001B[43mdataset\u001B[49m\u001B[43m,\u001B[49m\u001B[43m \u001B[49m\u001B[43mseed\u001B[49m\u001B[38;5;241;43m=\u001B[39;49m\u001B[43mseed\u001B[49m\u001B[43m)\u001B[49m\n\u001B[1;32m     64\u001B[0m \u001B[38;5;28;01mreturn\u001B[39;00m preprocessed_smiles_list, preprocessed_rdkit_mol_objs_list, \\\n\u001B[1;32m     65\u001B[0m        labels\u001B[38;5;241m.\u001B[39mvalues\n",
      "File \u001B[0;32m~/miniconda3/envs/hybrid-transformer/lib/python3.11/site-packages/deepchem/splits/splitters.py:159\u001B[0m, in \u001B[0;36mSplitter.train_valid_test_split\u001B[0;34m(self, dataset, train_dir, valid_dir, test_dir, frac_train, frac_valid, frac_test, seed, log_every_n, **kwargs)\u001B[0m\n\u001B[1;32m    119\u001B[0m \u001B[38;5;250m\u001B[39m\u001B[38;5;124;03m\"\"\" Splits self into train/validation/test sets.\u001B[39;00m\n\u001B[1;32m    120\u001B[0m \n\u001B[1;32m    121\u001B[0m \u001B[38;5;124;03mReturns Dataset objects for train, valid, test.\u001B[39;00m\n\u001B[0;32m   (...)\u001B[0m\n\u001B[1;32m    156\u001B[0m \u001B[38;5;124;03m  A tuple of train, valid and test datasets as dc.data.Dataset objects.\u001B[39;00m\n\u001B[1;32m    157\u001B[0m \u001B[38;5;124;03m\"\"\"\u001B[39;00m\n\u001B[1;32m    158\u001B[0m logger\u001B[38;5;241m.\u001B[39minfo(\u001B[38;5;124m\"\u001B[39m\u001B[38;5;124mComputing train/valid/test indices\u001B[39m\u001B[38;5;124m\"\u001B[39m)\n\u001B[0;32m--> 159\u001B[0m train_inds, valid_inds, test_inds \u001B[38;5;241m=\u001B[39m \u001B[38;5;28;43mself\u001B[39;49m\u001B[38;5;241;43m.\u001B[39;49m\u001B[43msplit\u001B[49m\u001B[43m(\u001B[49m\n\u001B[1;32m    160\u001B[0m \u001B[43m    \u001B[49m\u001B[43mdataset\u001B[49m\u001B[43m,\u001B[49m\n\u001B[1;32m    161\u001B[0m \u001B[43m    \u001B[49m\u001B[43mfrac_train\u001B[49m\u001B[38;5;241;43m=\u001B[39;49m\u001B[43mfrac_train\u001B[49m\u001B[43m,\u001B[49m\n\u001B[1;32m    162\u001B[0m \u001B[43m    \u001B[49m\u001B[43mfrac_test\u001B[49m\u001B[38;5;241;43m=\u001B[39;49m\u001B[43mfrac_test\u001B[49m\u001B[43m,\u001B[49m\n\u001B[1;32m    163\u001B[0m \u001B[43m    \u001B[49m\u001B[43mfrac_valid\u001B[49m\u001B[38;5;241;43m=\u001B[39;49m\u001B[43mfrac_valid\u001B[49m\u001B[43m,\u001B[49m\n\u001B[1;32m    164\u001B[0m \u001B[43m    \u001B[49m\u001B[43mseed\u001B[49m\u001B[38;5;241;43m=\u001B[39;49m\u001B[43mseed\u001B[49m\u001B[43m,\u001B[49m\n\u001B[1;32m    165\u001B[0m \u001B[43m    \u001B[49m\u001B[43mlog_every_n\u001B[49m\u001B[38;5;241;43m=\u001B[39;49m\u001B[43mlog_every_n\u001B[49m\u001B[43m)\u001B[49m\n\u001B[1;32m    166\u001B[0m \u001B[38;5;28;01mif\u001B[39;00m train_dir \u001B[38;5;129;01mis\u001B[39;00m \u001B[38;5;28;01mNone\u001B[39;00m:\n\u001B[1;32m    167\u001B[0m   train_dir \u001B[38;5;241m=\u001B[39m tempfile\u001B[38;5;241m.\u001B[39mmkdtemp()\n",
      "File \u001B[0;32m~/miniconda3/envs/hybrid-transformer/lib/python3.11/site-packages/deepchem/splits/splitters.py:1358\u001B[0m, in \u001B[0;36mScaffoldSplitter.split\u001B[0;34m(self, dataset, frac_train, frac_valid, frac_test, seed, log_every_n)\u001B[0m\n\u001B[1;32m   1332\u001B[0m \u001B[38;5;250m\u001B[39m\u001B[38;5;124;03m\"\"\"\u001B[39;00m\n\u001B[1;32m   1333\u001B[0m \u001B[38;5;124;03mSplits internal compounds into train/validation/test by scaffold.\u001B[39;00m\n\u001B[1;32m   1334\u001B[0m \n\u001B[0;32m   (...)\u001B[0m\n\u001B[1;32m   1355\u001B[0m \u001B[38;5;124;03m  Each indices is a list of integers.\u001B[39;00m\n\u001B[1;32m   1356\u001B[0m \u001B[38;5;124;03m\"\"\"\u001B[39;00m\n\u001B[1;32m   1357\u001B[0m np\u001B[38;5;241m.\u001B[39mtesting\u001B[38;5;241m.\u001B[39massert_almost_equal(frac_train \u001B[38;5;241m+\u001B[39m frac_valid \u001B[38;5;241m+\u001B[39m frac_test, \u001B[38;5;241m1.\u001B[39m)\n\u001B[0;32m-> 1358\u001B[0m scaffold_sets \u001B[38;5;241m=\u001B[39m \u001B[38;5;28;43mself\u001B[39;49m\u001B[38;5;241;43m.\u001B[39;49m\u001B[43mgenerate_scaffolds\u001B[49m\u001B[43m(\u001B[49m\u001B[43mdataset\u001B[49m\u001B[43m)\u001B[49m\n\u001B[1;32m   1360\u001B[0m train_cutoff \u001B[38;5;241m=\u001B[39m frac_train \u001B[38;5;241m*\u001B[39m \u001B[38;5;28mlen\u001B[39m(dataset)\n\u001B[1;32m   1361\u001B[0m valid_cutoff \u001B[38;5;241m=\u001B[39m (frac_train \u001B[38;5;241m+\u001B[39m frac_valid) \u001B[38;5;241m*\u001B[39m \u001B[38;5;28mlen\u001B[39m(dataset)\n",
      "File \u001B[0;32m~/miniconda3/envs/hybrid-transformer/lib/python3.11/site-packages/deepchem/splits/splitters.py:1401\u001B[0m, in \u001B[0;36mScaffoldSplitter.generate_scaffolds\u001B[0;34m(self, dataset, log_every_n)\u001B[0m\n\u001B[1;32m   1399\u001B[0m \u001B[38;5;28;01mif\u001B[39;00m ind \u001B[38;5;241m%\u001B[39m log_every_n \u001B[38;5;241m==\u001B[39m \u001B[38;5;241m0\u001B[39m:\n\u001B[1;32m   1400\u001B[0m   logger\u001B[38;5;241m.\u001B[39minfo(\u001B[38;5;124m\"\u001B[39m\u001B[38;5;124mGenerating scaffold \u001B[39m\u001B[38;5;132;01m%d\u001B[39;00m\u001B[38;5;124m/\u001B[39m\u001B[38;5;132;01m%d\u001B[39;00m\u001B[38;5;124m\"\u001B[39m \u001B[38;5;241m%\u001B[39m (ind, data_len))\n\u001B[0;32m-> 1401\u001B[0m scaffold \u001B[38;5;241m=\u001B[39m \u001B[43m_generate_scaffold\u001B[49m\u001B[43m(\u001B[49m\u001B[43msmiles\u001B[49m\u001B[43m)\u001B[49m\n\u001B[1;32m   1402\u001B[0m \u001B[38;5;28;01mif\u001B[39;00m scaffold \u001B[38;5;129;01mnot\u001B[39;00m \u001B[38;5;129;01min\u001B[39;00m scaffolds:\n\u001B[1;32m   1403\u001B[0m   scaffolds[scaffold] \u001B[38;5;241m=\u001B[39m [ind]\n",
      "File \u001B[0;32m~/miniconda3/envs/hybrid-transformer/lib/python3.11/site-packages/deepchem/splits/splitters.py:1174\u001B[0m, in \u001B[0;36m_generate_scaffold\u001B[0;34m(smiles, include_chirality)\u001B[0m\n\u001B[1;32m   1171\u001B[0m \u001B[38;5;28;01mexcept\u001B[39;00m \u001B[38;5;167;01mModuleNotFoundError\u001B[39;00m:\n\u001B[1;32m   1172\u001B[0m   \u001B[38;5;28;01mraise\u001B[39;00m \u001B[38;5;167;01mImportError\u001B[39;00m(\u001B[38;5;124m\"\u001B[39m\u001B[38;5;124mThis function requires RDKit to be installed.\u001B[39m\u001B[38;5;124m\"\u001B[39m)\n\u001B[0;32m-> 1174\u001B[0m mol \u001B[38;5;241m=\u001B[39m \u001B[43mChem\u001B[49m\u001B[38;5;241;43m.\u001B[39;49m\u001B[43mMolFromSmiles\u001B[49m\u001B[43m(\u001B[49m\u001B[43msmiles\u001B[49m\u001B[43m)\u001B[49m\n\u001B[1;32m   1175\u001B[0m scaffold \u001B[38;5;241m=\u001B[39m MurckoScaffoldSmiles(mol\u001B[38;5;241m=\u001B[39mmol, includeChirality\u001B[38;5;241m=\u001B[39minclude_chirality)\n\u001B[1;32m   1176\u001B[0m \u001B[38;5;28;01mreturn\u001B[39;00m scaffold\n",
      "\u001B[0;31mTypeError\u001B[0m: No registered converter was able to produce a C++ rvalue of type std::basic_string<wchar_t, std::char_traits<wchar_t>, std::allocator<wchar_t> > from this Python object of type int"
     ]
    }
   ],
   "source": [
    "path = './data/molecule_net/bbbp/bbbp.csv'\n",
    "download_bbpb_dataset(path)\n",
    "x, y, z = _load_bbbp_dataset(path)"
   ],
   "metadata": {
    "collapsed": false,
    "ExecuteTime": {
     "end_time": "2024-03-25T09:11:48.109532061Z",
     "start_time": "2024-03-25T09:11:46.253329982Z"
    }
   },
   "id": "3c28b83bd8f759d0"
  },
  {
   "cell_type": "code",
   "execution_count": 52,
   "outputs": [
    {
     "data": {
      "text/plain": "['CC(C)NCC(O)COc1cccc2ccccc12.[Cl]',\n 'CC(C)(C)OC(=O)CCCc1ccc(N(CCCl)CCCl)cc1',\n 'CC1COc2c(N3CCN(C)CC3)c(F)cc3c(=O)c(C(=O)O)cn1c23',\n 'CC(=O)NCCCOc1cccc(CN2CCCCC2)c1',\n 'Cc1onc(-c2ccccc2Cl)c1C(=O)N[C@@H]1C(=O)N2[C@@H]1SC(C)(C)[C@@H]2C(=O)O',\n 'CCN1CCN(C(=O)N[C@@H](C(=O)N[C@@H]2C(=O)N3C(C(=O)O)=C(CSc4nnnn4C)CS[C@H]23)c2ccc(O)cc2)C(=O)C1=O',\n 'CN(C)[C@@H]1C(=O)/C(=C(/O)NCN2CCCC2)C(=O)[C@@]2(O)C(=O)C3=C(O)c4c(O)cccc4[C@@](C)(O)[C@H]3C[C@@H]12',\n 'Cc1nccn1CC1CCc2c(c3ccccc3n2C)C1=O',\n 'COc1ccc([C@@H]2Sc3ccccc3N(CCN(C)C)C(=O)[C@@H]2OC(C)=O)cc1',\n 'NC(N)=NC(=O)c1nc(Cl)c(N)nc1N',\n 'CN1Cc2c(-c3noc(C(C)(O)CO)n3)ncn2-c2cccc(Cl)c2C1=O',\n 'Cc1cn([C@H]2C[C@H](F)[C@@H](CO)O2)c(=O)[nH]c1=O',\n 'ClCCl',\n 'CC(C)(C)NC(=O)C1CC2CCCCC2CN1CC(O)C(Cc1ccccc1)NC(=O)C(CC(N)=O)NC(=O)c1ccc2ccccc2n1',\n 'CCC(=O)C(CC(C)N(C)C)(c1ccccc1)c1ccccc1',\n 'CCC(=O)N(c1ccccc1)C1(COC)CCN(CCn2nnn(CC)c2=O)CC1',\n 'CN(C)C(=O)C(CCN1CCC(O)(c2ccc(Cl)cc2)CC1)(c1ccccc1)c1ccccc1',\n 'CN1C2CCC1CC(OC(=O)[C@H](CO)c1ccccc1)C2',\n 'COc1ccc(Cl)cc1C(=O)NCCc1ccc(S(=O)(=O)NC(=O)NC2CCCCC2)cc1',\n 'Nc1nnc(-c2cccc(Cl)c2Cl)c(N)n1',\n 'CCCC(C)C',\n 'C[C@H](N)Cc1ccccc1',\n 'CN(C)Cc1ccc(CSCCNc2nc(=O)c(Cc3ccc4ccccc4c3)c[nH]2)o1',\n 'CC(C)(C)NCC(O)COc1cccc2c1C[C@H](O)[C@H](O)C2',\n 'CCC(=O)N(c1ccccc1)C1(COC)CCN(CCc2cccs2)CC1',\n 'CCNC(=NC#N)NCCSCc1ncccc1Br',\n 'Cc1ccc(-c2nc3ccc(C)cn3c2CC(=O)N(C)C)cc1',\n 'CN1CCN(C2=c3ccccc3=Nc3ccc(Cl)cc3N2)CC1',\n 'FC(F)(F)c1ccc(N2CCNCC2)nc1Cl',\n 'CCN1CCN(C(=O)N[C@@H](C(=O)N[C@@H]2C(=O)N3[C@@H]2SC(C)(C)[C@@H]3C(=O)O)c2ccccc2)C(=O)C1=O.O',\n 'CCCC(C)C1(CC)C(=O)NC(=O)NC1=O',\n 'C[C@H]1COc2c(N3CCN(C)CC3)c(F)cc3c(=O)c(C(=O)O)cn1c23',\n 'O=C(NCCCOc1cccc(CN2CCCCC2)c1)c1ccccc1',\n 'CN1Cc2c(C(=O)OC(C)(C)C)ncn2-c2ccsc2C1=O',\n 'CCC(=O)N(c1ccccc1)C1CCN(CCc2ccccc2)CC1',\n 'CCOC(=O)c1cncn1C(C)c1ccccc1',\n 'CN(C)c1cc(-c2nc(N)n[nH]2)ccn1',\n 'CN1CCN(CCCN2c3ccccc3Sc3ccc(Cl)cc32)CC1',\n 'Nc1ccc(-c2nc3ccc(O)cc3s2)cc1I',\n 'CC(=O)Nc1cccc(-c2csc(N=C(N)N)n2)c1',\n 'CN1[C@@H]2CCC[C@H]1CC(NC(=O)c1nn(C)c3ccccc13)C2',\n 'CS(=O)(=O)c1ccc([C@@H](O)[C@@H](CO)NC(=O)C(Cl)Cl)cc1',\n 'NC(N)=Nc1nc(-c2ccccc2)cs1',\n 'Cc1cccc(C)c1OCC(C)N',\n 'CCC(=O)O[C@](Cc1ccccc1)(c1ccccc1)[C@H](C)CN(C)C',\n 'CNCCCN1c2ccccc2Sc2ccc(Cl)cc21',\n 'CN(C)Cc1ccc(-c2cccc(NC3N=CC=C3[N+](=O)[O-])c2)o1',\n 'Cn1nnnc1SCC1=C(C(=O)O)N2C(=O)[C@@H](NC(=O)[C@H](O)c3ccccc3)[C@H]2SC1',\n 'CN(C)CCc1ccccn1',\n 'O=C1CCCN1CCCCN1CCN(c2cc(C(F)(F)F)ccn2)CC1',\n 'C=C[C@H]1CN2CC[C@H]1C[C@@H]2[C@@H](O)c1ccnc2ccc(OC)cc12',\n 'CCc1ccccc1',\n 'NC(N)=Nc1nc(-c2cccc(N)c2)cs1',\n 'CC[C@]1(O)C[C@H]2CN(CCc3c([nH]c4ccccc34)[C@@](C(=O)OC)(c3cc4c(cc3OC)N(C)[C@H]3[C@@](O)(C(=O)OC)[C@H](OC(C)=O)[C@]5(CC)C=CCN6CC[C@]43[C@@H]65)C2)C1',\n 'CCCC(=O)Nc1ccc(OCC(O)CNC(C)C)c(C(C)=O)c1',\n 'NCCCN1c2ccccc2Sc2ccc(Cl)cc21',\n 'CN(C)Cc1ccc(CSCCNc2[nH]cc(Cc3ccccc3)c2[N+](=O)[O-])o1',\n 'CNC(=NC#N)Nc1cccc(-c2csc(N=C(N)N)n2)c1',\n 'CNCCc1ccccn1',\n None,\n 'CN[C@H]1CC[C@@H](c2ccc(Cl)c(Cl)c2)c2ccccc21.[Cl-].[H+]',\n None,\n 'CC[C@]1(O)C[C@H]2CN(CCc3c([nH]c4ccccc34)[C@@](C(=O)OC)(c3cc4c(cc3OC)N(C=O)[C@H]3[C@@](O)(C(=O)OC)[C@H](OC(C)=O)[C@]5(CC)C=CCN6CC[C@]43[C@@H]65)C2)C1',\n 'CCC(NC(=O)c1c(C)c(-c2ccccc2)nc2ccccc12)c1ccccc1',\n 'O=S(=O)(c1ccc2cc[nH]c2c1)N1CCCC1CCN1CCC(Oc2cccc(Cl)c2)CC1',\n 'CN(C)Cc1ccnc(-c2cccc(NC3N=CC=C3[N+](=O)[O-])c2)c1',\n 'CNCCCC12CCC(c3ccccc31)c1ccccc12',\n 'c1cc(CN2CCCCC2)cc(OCCCNc2nccs2)c1',\n 'CN1Cc2c(-c3noc(C(C)(C)O)n3)ncn2-c2cccc(Cl)c2C1=O',\n 'CO/N=C(\\\\C(=O)N[C@H]1C(=O)N2C(C(=O)[O-])=C(COC(C)=O)CS[C@@H]12)c1csc(N)n1.[Na+]',\n 'NC(=O)N1c2ccccc2C2OC2c2ccccc21',\n 'C1CCCCC1',\n 'Cc1csc(N=C(N)N)n1',\n 'CCCN(CCC)CCc1ccc(O)c2c1CC(=O)N2',\n 'CN1CC2c3ccccc3Oc3ccc(Cl)cc3C2C1',\n 'CN(C)Cc1ccc(CSCCNC2N=CC=C2[N+](=O)[O-])o1',\n 'CO/N=C(\\\\C(=O)N[C@@H]1C(=O)N2C(C(=O)O)=C(COC(N)=O)CS[C@H]12)c1ccco1',\n 'c1cc(CN2CCCCC2)cc(OCCCNc2nc3ccccc3o2)c1',\n 'Cc1cccc2c1Oc1ccccc1C1(O)CCN(C)CC21',\n 'O=[N+]([O-])C1=CC=NC1NCCSCc1ccccn1',\n 'CCCSc1ccc2[nH]c(NC(=O)OC)nc2c1',\n 'NCCc1cn2ccccc2n1',\n 'Cc1ncc([N+](=O)[O-])n1CC(O)CCl',\n 'CCCN(CCC)CCc1cccc2c1CC(=O)N2',\n 'Clc1ccc2c(c1)C1CNCC1c1ccccc1O2',\n 'CN(C)CCC=C1c2ccccc2CCc2ccccc21',\n 'CO/N=C(\\\\C(=O)N[C@@H]1C(=O)N2C(C(=O)O)=C(CSc3nc(=O)c(=O)[nH]n3C)CS[C@H]12)c1csc(N)n1',\n 'c1ccc(NCCCOc2cccc(CN3CCCCC3)c2)nc1',\n 'Cc1cccc2c1Oc1ccccc1C1(O)CCNCC21',\n 'O=[N+]([O-])C1=CC=NC1NCCSCc1ncccc1Br',\n 'COc1cc2c(c(OC)c1OC)-c1ccc(OC)c(=O)cc1C(NC(C)=O)CC2',\n 'OCCCOc1cccc(CN2CCCCC2)c1',\n 'Cc1ncsc1CCCl',\n 'CCN(CC)C(=O)Nc1ccc(OCC(O)CNC(C)(C)C)c(C(C)=O)c1',\n 'FC(F)(F)CCl',\n 'CC(C)c1nc(-c2ncn3c2CN(C)C(=O)c2c(Cl)cccc2-3)no1',\n 'CO[C@@]1(NC(=O)Cc2cccs2)C(=O)N2C(C(=O)O)=C(COC(N)=O)CS[C@@H]21',\n 'C=CCC(N)c1ccccc1-c1noc2ccccc12',\n 'Cc1nc2n(c(=O)c1CCN1CCC(c3noc4cc(F)ccc34)CC1)CCCC2O',\n 'CC(=O)Nc1ccc(O)cc1',\n 'CC(=O)Oc1ccccc1C(=O)O',\n 'O=c1ncnc2[nH][nH]cc1-2',\n 'CCCCC[C@H](O)/C=C/[C@H]1[C@H](O)CC(=O)[C@@H]1CCCCCCC(=O)O',\n 'Cn1c(=O)c2[nH]cnc2n(C)c1=O.Cn1c(=O)c2[nH]cnc2n(C)c1=O.NCCN',\n 'CCCCc1oc2ccccc2c1C(=O)c1cc(I)c(OCCN(CC)CC)c(I)c1',\n 'CC1(C)S[C@@H]2[C@H](NC(=O)[C@H](N)c3ccc(O)cc3)C(=O)N2[C@H]1C(=O)O.O.O.O',\n 'CC1(C)S[C@@H]2[C@H](NC(=O)[C@H](N)c3ccccc3)C(=O)N2[C@H]1C(=O)O',\n 'C[C@]12CCC(=O)C=C1CC[C@@H]1[C@@H]2CC[C@@]2(C)[C@H]1CC[C@]2(C)O',\n 'FC(F)(F)c1ccc2c(c1)N(CCCN1CCN(CCC3OCCCO3)CC1)c1ccccc1S2.O=C(O)CCC(=O)O',\n 'O=C1Nc2ccc(Cl)cc2C(c2ccccc2)=NC1O',\n 'O=c1[nH]c2ccccc2n1C1CCN(CCOc2ccccc2)CC1',\n 'COc1ccc2c3c1O[C@H]1C(=O)CC[C@@]4(O)[C@@H](C2)N(C)CC[C@]314',\n 'CN1CC[C@]23c4c5ccc(O)c4O[C@H]2C(=O)CC[C@@]3(O)[C@H]1C5',\n 'CN1CCCC(CN2c3ccccc3Sc3ccccc32)C1',\n 'NC1=NC(=O)C(c2ccccc2)O1',\n 'CC(C)=CCN1CC[C@@]2(C)c3cc(O)ccc3C[C@@H]1[C@H]2C',\n 'CCc1cc(C(N)=S)ccn1',\n 'COc1cc([C@@H]2c3cc4c(cc3[C@@H](O[C@@H]3O[C@@H]5CO[C@@H](C)O[C@H]5[C@H](O)[C@H]3O)C3COC(=O)[C@@H]32)OCO4)cc(OC)c1O',\n 'NC(N)=Nc1nc(CSCCC(N)=NS(N)(=O)=O)cs1',\n 'OC(Cn1cncn1)(Cn1cncn1)c1ccc(F)cc1F',\n 'O=C([O-])P(=O)([O-])[O-].[Na+].[Na+].[Na+]',\n 'NCC1(CC(=O)O)CCCCC1',\n 'CCOc1ccc2ccccc2c1C(=O)N[C@@H]1C(=O)N2[C@@H]1SC(C)(C)[C@@H]2C(=O)[O-].[Na+]',\n 'CCn1cc(C(=O)O)c(=O)c2ccc(C)nc21',\n 'Cc1c(O)cccc1C(=O)N[C@@H](CSc1ccccc1)[C@H](O)CN1C[C@H]2CCCC[C@H]2C[C@H]1C(=O)NC(C)(C)C',\n 'COc1ccc(CCN2CCC(Nc3nc4ccccc4n3Cc3ccc(F)cc3)CC2)cc1',\n 'CN1C2CCC1CC(OC(=O)C(CO)c1ccccc1)C2',\n 'CN(C)[C@@H]1C(=O)/C(=C(\\\\N)O)C(=O)[C@@]2(O)C(=O)C3=C(O)c4c(O)ccc(Cl)c4[C@@](C)(O)[C@H]3C[C@@H]12.[Cl-].[H+]',\n 'C[C@H]1C[C@H]2[C@@H]3CCC4=CC(=O)C=C[C@]4(C)[C@@]3(F)[C@@H](O)C[C@]2(C)[C@@]1(O)C(=O)CO',\n 'CC1(C)S[C@@H]2[C@H](NC(=O)C(C(=O)O)c3ccccc3)C(=O)N2[C@H]1C(=O)O',\n 'C[C@@](Cc1ccc(O)c(O)c1)(NN)C(=O)O',\n 'CC(C)(C)NCC(O)COc1cccc2c1CCC(=O)N2',\n 'Cc1nnc(SCC2=C(C(=O)[O-])N3C(=O)[C@@H](NC(=O)Cn4cnnn4)[C@H]3SC2)s1.[Na+]',\n 'CC(=O)OCC1=C(C(=O)O)N2C(=O)[C@@H](NC(=O)CSc3ccncc3)[C@H]2SC1',\n 'O=C(O)CCCc1ccc(N(CCCl)CCCl)cc1',\n 'CCCN1C[C@H](CSC)C[C@@H]2c3cccc4[nH]cc(c34)C[C@H]21',\n 'CN1CCN(C2=Nc3ccccc3Cc3ccccc32)CC1',\n 'OCCN1CCN(CCCN2c3ccccc3Sc3ccc(Cl)cc32)CC1',\n 'CCOC(=O)C1(c2ccccc2)CCN(C)CC1',\n 'c1ccc(C2(N3CCCCC3)CCCCC2)cc1',\n 'NNCCc1ccccc1.O=S(=O)(O)O',\n 'CCC1(c2ccccc2)C(=O)NC(=O)NC1=O',\n 'NC(=O)OCCCc1ccccc1',\n 'CNC(=O)Oc1ccc2c(c1)[C@]1(C)CCN(C)[C@@H]1N2C',\n 'NCC(O)c1ccc(O)c(O)c1',\n 'COc1ccc2nc(S(=O)Cc3ncc(C)c(OC)c3C)[nH]c2c1',\n 'Cc1onc(-c2ccccc2)c1C(=O)N[C@@H]1C(=O)N2[C@@H]1SC(C)(C)[C@@H]2C(=O)O',\n 'OC[C@H]1O[C@@H](n2cnc3c2NC=NC[C@H]3O)C[C@@H]1O',\n 'CC1(C)S[C@@H]2[C@H](NC(=O)COc3ccccc3)C(=O)N2[C@H]1C(=O)[O-]',\n 'O=C(NC(CO)C(O)c1ccc([N+](=O)[O-])cc1)C(Cl)Cl',\n 'NS(=O)(=O)c1cc2c(cc1Cl)NC=NS2(=O)=O',\n 'CCCNC(=O)NS(=O)(=O)c1ccc(Cl)cc1',\n 'CN(C)[C@@H]1C(=O)/C(=C(\\\\N)O)C(=O)[C@@]2(O)C(=O)C3=C(O)c4c(O)ccc(Cl)c4[C@@](C)(O)[C@H]3C[C@@H]12',\n 'NS(=O)(=O)c1cc(C2(O)NC(=O)c3ccccc32)ccc1Cl',\n 'CCOC(=O)C(C)(C)Oc1ccc(Cl)cc1',\n 'CC(C)(Oc1ccc(Cl)cc1)C(=O)O',\n 'Clc1ccccc1C(c1ccccc1)(c1ccccc1)n1ccnc1',\n 'C[C@]12C[C@H](O)[C@H]3[C@@H](CCC4=CC(=O)CC[C@@]43C)[C@@H]1CC[C@@H]2C(=O)CO',\n 'C[C@]12CCC(=O)C=C1CC[C@@H]1[C@@H]2C(=O)C[C@@]2(C)[C@H]1CC[C@]2(O)C(=O)CO',\n 'OCCC1CCN(CC/C=C2\\\\c3ccc(F)cc3Sc3ccc(C(F)(F)F)cc32)CC1',\n 'O=c1[nH]c2ccccc2n1C1CCN(CCCC(c2ccc(F)cc2)c2ccc(F)cc2)CC1',\n 'OCCN1CCN(CC/C=C2/c3ccccc3COc3ccc(Cl)cc32)CC1',\n 'NC(=O)C1(N2CCCCC2)CCN(CCCC(=O)c2ccc(F)cc2)CC1',\n 'O=C1CN=C(c2ccccc2)c2cc(Cl)ccc2N1CC1CC1',\n 'CC(=O)[C@H]1CC[C@H]2[C@@H]3CC[C@@H]4C[C@H](O)CC[C@]4(C)[C@H]3CC[C@]12C',\n 'CCC1(c2ccccc2)C(=O)NCNC1=O',\n 'CCN(CC)CCOC(=O)c1ccc(N)cc1',\n 'OC(CCN1CCCC1)(c1ccccc1)C1CCCCC1',\n 'CN(C)CCCN1c2ccccc2Sc2ccccc21',\n 'CC(C)NCC(O)COc1cccc2[nH]ccc12',\n 'CO[C@H](C(=O)[C@@H](O)[C@@H](C)O)[C@@H]1Cc2cc3cc(O[C@H]4C[C@@H](O[C@H]5C[C@@H](O)[C@H](O)[C@@H](C)O5)[C@H](O)[C@@H](C)O4)c(C)c(O)c3c(O)c2C(=O)[C@H]1O[C@H]1C[C@@H](O[C@H]2C[C@@H](O[C@H]3C[C@](C)(O)[C@H](O)[C@@H](C)O3)[C@H](O)[C@@H](C)O2)[C@H](O)[C@@H](C)O1',\n 'CC[C@H](C)C(=O)O[C@H]1C[C@H](O)C=C2C=C[C@H](C)[C@H](CC[C@@H](O)C[C@@H](O)CC(=O)O)[C@H]21',\n 'O=C(C1CCCCC1)N1CC(=O)N2CCc3ccccc3C2C1',\n 'COc1cc(Cc2cnc(N)nc2N)cc(OC)c1OC',\n 'COc1cc(NCc2ccc3nc(N)nc(N)c3c2C)cc(OC)c1OC',\n 'NC(CO)(CO)CO',\n 'NC1[C@H]2CN(c3nc4c(cc3F)c(=O)c(C(=O)O)cn4-c3ccc(F)cc3F)C[C@@H]12',\n 'NC(N)=O',\n 'O=c1ccc2ccccc2o1',\n 'Nc1ccc(S(=O)(=O)c2ccc(N)cc2)cc1',\n 'C[C@H](CCC(=O)O)[C@H]1CC[C@H]2[C@@H]3C(=O)C[C@@H]4CC(=O)CC[C@]4(C)[C@H]3CC(=O)[C@]12C',\n 'O=c1c(Cc2c(O)oc3ccccc3c2=O)c(O)oc2ccccc12',\n 'CCN(CC)CCOC(=O)C1(C2CCCCC2)CCCCC1',\n 'CC/C(=C(/CC)c1ccc(O)cc1)c1ccc(O)cc1',\n 'C[C@H]1O[C@@H](O[C@H]2[C@@H](O)C[C@H](O[C@H]3[C@@H](O)C[C@H](O[C@H]4CC[C@@]5(C)[C@H](CC[C@@H]6[C@@H]5CC[C@]5(C)[C@H](C7=CC(=O)OC7)CC[C@]65O)C4)O[C@@H]3C)O[C@@H]2C)C[C@H](O)[C@@H]1O',\n 'C[C@H]1O[C@@H](O[C@H]2[C@@H](O)C[C@H](O[C@H]3[C@@H](O)C[C@H](O[C@H]4CC[C@@]5(C)[C@H](CC[C@@H]6[C@@H]5C[C@@H](O)[C@]5(C)[C@@H](C7=CC(=O)OC7)CC[C@]65O)C4)O[C@@H]3C)O[C@@H]2C)C[C@H](O)[C@@H]1O',\n 'O=c1[nH]c2ccccc2n1CCCN1CCC(n2c(=O)[nH]c3cc(Cl)ccc32)CC1',\n 'CC(CN1c2ccccc2Sc2ccccc21)N(C)C',\n 'CCC(=O)c1ccc2c(c1)N(CC(C)N(C)C)c1ccccc1S2',\n 'CC(C)c1cccc(C(C)C)c1O',\n 'CNCCCC1c2ccccc2C=Cc2ccccc21',\n 'O=c1cc[nH]nc1',\n 'Fc1ccccc1C1=NCC(=S)N(CC(F)(F)F)c2ccc(Cl)cc21',\n 'COC(=O)[C@H]1[C@H]2C[C@@H]3c4[nH]c5cc(OC)ccc5c4CCN3C[C@H]2C[C@@H](OC(=O)/C=C/c2cc(OC)c(OC)c(OC)c2)[C@@H]1OC',\n 'COC(=O)[C@H]1[C@H]2C[C@@H]3c4[nH]c5cc(OC)ccc5c4CCN3C[C@H]2C[C@@H](OC(=O)c2cc(OC)c(OC)c(OC)c2)[C@@H]1OC',\n 'C=CCC1(C(C)CCC)C(=O)NC(=O)NC1=O',\n 'O=C1CSC2(CCN(CCCN3c4ccccc4Sc4ccc(Cl)cc43)CC2)N1.[Cl-].[H+]',\n 'O=C1C(=O)c2ccccc2C(O)=C1C1CCC(c2ccc(Cl)cc2)CC1',\n 'O=C(O)CCCCCCCC(=O)O',\n 'CC[C@H]1OC(=O)[C@H](C)[C@@H](O[C@H]2C[C@@](C)(OC)[C@@H](O)[C@H](C)O2)C(C)[C@@H](O[C@@H]2O[C@H](C)C[C@H](N(C)C)[C@H]2O)[C@](C)(O)C[C@@H](C)CN(C)[C@H](C)[C@@H](O)[C@]1(C)O',\n 'CCC(C)C(N)C1=NC(C(=O)N[C@@H](CC(C)C)C(=O)N[C@H](CCC(=O)O)C(=O)N[C@H](C(=O)NCCCC[C@@H]2NC(=O)[C@H](CC(N)=O)NC(=O)[C@@H](CC(=O)O)NC(=O)[C@H](Cc3cnc[nH]3)NC(=O)[C@@H](Cc3ccccc3)NC(=O)[C@H]([C@@H](C)CC)NC(=O)[C@@H](CCCN)NC2=O)[C@@H](C)CC)CS1',\n 'CC(C[N+](C)(C)C)OC(N)=O.[Cl-]',\n 'CC[N+](C)(C)Cc1ccccc1Br.Cc1ccc(S(=O)(=O)[O-])cc1',\n 'CC(C)C[C@H]1C(=O)N2CCC[C@H]2[C@]2(O)O[C@](NC(=O)[C@@H]3C=C4c5cccc6[nH]c(Br)c(c56)C[C@H]4N(C)C3)(C(C)C)C(=O)N12',\n 'CO[C@]12CC[C@@]3(C[C@@H]1[C@](C)(O)C(C)(C)C)[C@H]1Cc4ccc(O)c5c4[C@@]3(CCN1CC1CC1)[C@H]2O5',\n 'NCCc1ccc(O)c(O)c1',\n 'COc1cccc2c1C(=O)c1c(O)c3c(c(O)c1C2=O)C[C@@](O)(C(=O)CO)C[C@@H]3O[C@H]1C[C@H](N)[C@H](O)[C@H](C)O1',\n 'C[C@H]1c2cccc(O)c2C(O)=C2C(=O)[C@]3(O)C(=O)/C(=C(/N)O)C(=O)[C@@H](N(C)C)[C@@H]3[C@@H](O)[C@@H]21.O',\n 'CCCCOc1ccc(C(=O)CCN2CCCCC2)cc1.[Cl]',\n 'Clc1ccc(COC(Cn2ccnc2)c2ccc(Cl)cc2Cl)cc1',\n 'CC(C)[C@H](NC(=O)[C@H](Cc1ccccc1)NC(=O)CNC(=O)[C@@H](C)NC(=O)[C@@H](N)Cc1ccc(O)cc1)C(N)=O',\n 'CN[C@@H](C)[C@H](O)c1ccccc1',\n 'CNC[C@H](O)c1ccc(O)c(O)c1',\n 'CC[C@H]1OC(=O)[C@H](C)[C@@H](O[C@H]2C[C@@](C)(OC)[C@@H](O)[C@H](C)O2)[C@H](C)[C@@H](O[C@@H]2O[C@H](C)C[C@H](N(C)C)[C@H]2O)[C@](C)(O)C[C@@H](C)C(=O)[C@H](C)[C@@H](O)[C@]1(C)O',\n 'C[C@]12CC[C@@H]3c4ccc(O)cc4CC[C@H]3[C@@H]1CC[C@@H]2O',\n 'Nc1c2c(nc3ccccc13)CCCC2',\n 'CN1C(=O)C(O)N=C(c2ccccc2)c2cc(Cl)ccc21',\n 'COc1cc2c(cc1OC)C1CC(=O)C(CC(C)C)CN1CC2',\n 'CCCCCc1cc(O)c2c(c1)OC(C)(C)[C@@H]1CCC(C)=C[C@@H]21',\n 'COC1=CC=C2[C@H]3Cc4ccc(OC)c5c4[C@@]2(CCN3C)[C@H]1O5',\n 'CCSc1ccc2c(c1)N(CCCN1CCN(C)CC1)c1ccccc1S2',\n 'CSc1ccc2c(c1)N(CCC1CCCCN1C)c1ccccc1S2',\n 'CN1CCN(CC/C=C2\\\\c3ccccc3Sc3ccc(S(=O)(=O)N(C)C)cc32)CC1',\n 'N[C@@H]1C[C@H]1c1ccccc1.[Cl-].[H+]',\n 'O=c1n(CCCN2CCN(c3cccc(Cl)c3)CC2)nc2ccccn12',\n 'CS(=O)(=O)OCCCCOS(C)(=O)=O',\n 'CC1=C(C(=O)O)N2C(=O)[C@@H](NC(=O)[C@H](N)C3=CCC=CC3)[C@H]2SC1',\n 'CCN(CC)CCCC(C)Nc1ccnc2cc(Cl)ccc12',\n 'COc1cc(N)c(Cl)cc1C(=O)NC1CCN(CCCOc2ccc(F)cc2)CC1OC.O',\n 'Nc1nc(Cl)nc2c1ncn2[C@H]1C[C@H](O)[C@@H](CO)O1',\n 'C[N+]12CCC(CC1)C(OC(=O)C(O)(c1ccccc1)c1ccccc1)C2.[Br-]',\n 'C[C@]12CC[C@@H]3c4ccc(O)cc4CC[C@H]3[C@@H]1CCC2=O',\n 'C=C(CC)C(=O)c1ccc(OCC(=O)O)c(Cl)c1Cl',\n 'C#C[C@]1(O)CC[C@H]2[C@@H]3CCc4cc(O)ccc4[C@H]3CC[C@@]21C',\n 'CC(Cc1ccc(O)cc1)NCC(O)c1cc(O)cc(O)c1',\n 'O=c1[nH]c(=O)n([C@H]2C[C@H](O)[C@@H](CO)O2)cc1F',\n 'Cc1onc(-c2c(F)cccc2Cl)c1C(=O)N[C@@H]1C(=O)N2[C@@H]1SC(C)(C)[C@@H]2C(=O)O',\n 'O=c1[nH]cc(F)c(=O)[nH]1',\n 'NS(=O)(=O)c1cc(C(=O)O)c(NCc2ccco2)cc1Cl',\n 'Nc1nc(=O)c2ncn(COC(CO)CO)c2[nH]1',\n 'C[N+]1(C)CCC(OC(=O)C(O)(c2ccccc2)C2CCCC2)C1.[Br-]',\n 'O=C(CCCN1CCC(O)(c2cccc(C(F)(F)F)c2)CC1)c1ccc(F)cc1',\n 'CN(C)CCCN1c2ccccc2Sc2ccc(C(F)(F)F)cc21',\n 'CN1CCN(CCCN2c3ccccc3Sc3ccc(C(F)(F)F)cc32)CC1',\n 'OC(CCN1CCCCC1)(c1ccccc1)C1CCCCC1',\n 'COc1cc(C(=O)N2CCOCC2)cc(OC)c1OC',\n 'CC(CN(C)C)CN1c2ccccc2CCc2ccccc21',\n 'CCCCNC(=O)OCC(C)(CCC)COC(N)=O',\n 'O=c1ccn(C2OC(CO)C(O)C2O)c(=O)[nH]1',\n 'CCCC(CCC)C(=O)O',\n 'CN(C)C/C=C(/c1ccc(Br)cc1)c1cccnc1',\n 'CC(C)N=c1cc2n(-c3ccc(Cl)cc3)c3ccccc3nc-2cc1Nc1ccc(Cl)cc1',\n 'COc1cc2c(c(OC)c1OC)-c1ccc(OC)c(=O)cc1[C@@H](NC(C)=O)CC2',\n 'O=C(O)c1cc(=O)c2cc(OCC(O)COc3cccc4oc(C(=O)O)cc(=O)c34)ccc2o1',\n 'NC1CONC1=O',\n 'NC(=O)NO',\n 'CC(C)[N+]1(C)C2CCC1CC(OC(=O)C(CO)c1ccccc1)C2.[Br-]',\n 'NC(N)=N/N=C/c1c(Cl)cccc1Cl',\n 'NC(N)=NCCN1CCCCCCC1',\n 'CN1C2CCC1CC(OC(=O)C(O)c1ccccc1)C2',\n 'NNc1nncc2ccccc12',\n 'NS(=O)(=O)c1cc2c(cc1Cl)NCNS2(=O)=O',\n 'C[C@]12CCC(=O)C=C1CC[C@@H]1[C@@H]2[C@@H](O)C[C@@]2(C)[C@H]1CC[C@]2(O)C(=O)CO',\n 'NS(=O)(=O)c1cc2c(cc1C(F)(F)F)NCNS2(=O)=O',\n 'CC(C)Cc1ccc(C(C)C(=O)O)cc1',\n 'COc1ccc2c(c1)c(CC(=O)O)c(C)n2C(=O)c1ccc(Cl)cc1',\n 'CN1Cc2c(-c3noc([C@](C)(O)CO)n3)ncn2-c2cccc(Cl)c2C1=O',\n 'NCCc1cn2ccccc2n1',\n 'C=C1Cc2c(CCN(CCC)CCC)ccc(O)c2N1',\n 'Cc1nc2n(c(=O)c1CCN1CCC(c3noc4cc(F)ccc34)CC1)CCC[C@H]2O',\n 'Cc1nnc2n1-c1ccc(Cl)cc1C(c1ccccc1)=NC2',\n 'O=NN(CCCl)C(=O)NCCCl',\n 'CCC(C)n1ncn(-c2ccc(N3CCN(c4ccc(OC[C@H]5CO[C@](Cn6cncn6)(c6ccc(Cl)cc6Cl)O5)cc4)CC3)cc2)c1=O',\n 'NCC1OC(OC2C(N)CC(N)C(OC3OC(CO)C(O)C(N)C3O)C2O)C(O)C(O)C1O',\n 'CC(C(=O)O)c1cccc(C(=O)c2ccccc2)c1',\n 'O=C(c1ccccc1)c1ccc2n1CCC2C(=O)O',\n 'C[C@H](N)[C@H](O)c1cccc(O)c1',\n 'NNC(=O)c1ccncc1',\n 'CC(C)NCC(O)c1ccc(O)c(O)c1',\n 'O=c1c(O[C@@H]2O[C@H](CO)[C@@H](O)[C@H](O)[C@H]2O)c(-c2ccc(O)c(O)c2)oc2cc(O)cc(O)c12',\n 'CC(=O)N1CCN(c2ccc(OC[C@H]3CO[C@](Cn4ccnc4)(c4ccc(Cl)cc4Cl)O3)cc2)CC1',\n 'CC(CCc1ccccc1)NCC(O)c1ccc(O)c(C(N)=O)c1',\n 'N[C@@H](Cc1ccc(O)c(O)c1)C(=O)O',\n 'OCC(O)C(O)C(O)C(O)CO',\n 'C=C1c2c(Cl)ccc(O)c2C(O)=C2C(=O)C3(O)C(=O)/C(=C(/N)O)C(=O)C(N(C)C)C3C(O)C12',\n 'Cc1ccc(Cl)c(Nc2ccccc2C(=O)O)c1Cl',\n 'Cc1cccc(Nc2ccccc2C(=O)O)c1C',\n 'CN=C(NC#N)NCCSCc1nc[nH]c1C',\n 'Clc1cccc(Cl)c1NC1=NCCN1',\n 'O=c1nc[nH]c2c1ncn2[C@H]1CC[C@@H](CO)O1',\n 'COCCc1ccc(OCC(O)CNC(C)C)cc1',\n 'Cc1ncc([N+](=O)[O-])n1CCO',\n 'CC#C[C@]1(O)CC[C@H]2[C@@H]3CCC4=CC(=O)CCC4=C3[C@@H](c3ccc(N(C)C)cc3)C[C@@]21C',\n 'CN(C)c1ccc(O)c2c1C[C@H]1C[C@H]3[C@H](N(C)C)C(O)=C(C(N)=O)C(=O)[C@@]3(O)C(O)=C1C2=O',\n 'O=C(NCCN1CCOCC1)c1ccc(Cl)cc1',\n 'CC(C)[N+](C)(CCOC(=O)C1c2ccccc2Oc2ccccc21)C(C)C.[Br-]',\n 'NC(=O)c1cnccn1',\n 'CN(C)C(=O)Oc1ccc[n+](C)c1.[Br-]',\n 'CCc1nc(N)nc(N)c1-c1ccc(Cl)cc1',\n 'C=C[C@H]1CN2CC[C@@H]1C[C@H]2[C@H](O)c1ccnc2ccc(OC)cc12',\n 'NC(Cc1ccc(N(CCCl)CCCl)cc1)C(=O)O',\n 'C[N+]1(C)CCCC(OC(=O)C(O)(c2ccccc2)c2ccccc2)C1.[Br-]',\n 'COc1ccc(CN(CCN(C)C)c2ccccn2)cc1',\n 'c1ccc2c(c1)Sc1ccccc1N2CC1CN2CCC1CC2',\n 'C#C[C@]1(O)CC[C@H]2[C@@H]3CCc4cc(OC)ccc4[C@H]3CC[C@@]21C',\n 'CC[N+](C)(CC)CCOC(=O)C1c2ccccc2Oc2ccccc21',\n 'CN(Cc1cnc2nc(N)nc(N)c2n1)c1ccc(C(=O)N[C@@H](CCC(=O)O)C(=O)O)cc1',\n 'CN1C(CCl)Nc2cc(Cl)c(S(N)(=O)=O)cc2S1(=O)=O',\n 'C[C@](N)(Cc1ccc(O)c(O)c1)C(=O)O',\n 'COc1cccnc1CCCCNc1ncc(Cc2ccc(C)nc2)c(=O)[nH]1.[Cl-].[Cl-].[Cl-].[H+].[H+].[H+]',\n 'CC(C)c1nc(-c2ncn3c2CN(C)C(=O)c2c(Cl)cccc2-3)no1',\n 'Cc1ccc(Cc2cnc(NCCSCc3ccc(C(C)(C)N)o3)[nH]c2=O)cn1',\n 'CN1CCN2c3ccccc3Cc3ccccc3C2C1',\n 'Cc1ncc2n1-c1ccc(Cl)cc1C(c1ccccc1F)=NC2',\n 'CC(C)c1nc(CN(C)C(=O)N[C@H](C(=O)N[C@@H](Cc2ccccc2)C[C@H](O)[C@H](Cc2ccccc2)NC(=O)OCc2cncs2)C(C)C)cs1',\n 'CC(C)(C)NC(=O)[C@@H]1C[C@@H]2CCCC[C@@H]2CN1C[C@@H](O)[C@H](Cc1ccccc1)NC(=O)[C@H](CC(N)=O)NC(=O)c1ccc2ccccc2n1',\n 'FCOC(C(F)(F)F)C(F)(F)F',\n 'CC(=O)Nc1c(I)c(NC(C)=O)c(I)c(C(=O)[O-])c1I.[Na+]',\n 'CC(C)NCC(O)c1ccc(NS(C)(=O)=O)cc1',\n 'Cc1cn([C@H]2C=C[C@@H](CO)O2)c(=O)[nH]c1=O',\n 'CN[C@@H]1[C@H](O[C@H]2[C@H](O[C@H]3[C@H](O)[C@@H](O)[C@H](N=C(N)N)[C@@H](O)[C@@H]3N=C(N)N)O[C@@H](C)[C@]2(O)C=O)O[C@@H](CO)[C@H](O)[C@H]1O',\n 'Nc1ccc(S(=O)(=O)Nc2ncccn2)cc1',\n 'Cc1noc(NS(=O)(=O)c2ccc(N)cc2)c1C',\n 'C[C@H]1C[C@@H]2[C@H]([C@@H](O)C[C@@]3(C)[C@H]2CC[C@]3(O)C(=O)CO)[C@@]2(C)C=CC(=O)C=C12',\n 'Clc1ccc(COC(Cn2ccnc2)c2ccc(Cl)cc2Cl)c(Cl)c1',\n 'C[C@]12CC[C@H]3[C@@H](CCC4=CC(=O)CC[C@@H]43)[C@@H]1CC[C@@H]2O',\n 'CCOC(=O)C(c1c(O)oc2ccccc2c1=O)c1c(O)oc2ccccc2c1=O',\n 'OCc1cccnc1',\n 'C#C[C@]1(O)CC[C@H]2[C@@H]3CCC4=CC(=O)CC[C@@H]4[C@H]3CC[C@@]21C',\n 'NCC(O)c1cccc(O)c1',\n 'CC(CCc1ccccc1)NC(C)C(O)c1ccc(O)cc1',\n 'C[C@]12COC(=O)C[C@@H]1CC[C@@H]1[C@@H]2CC[C@@]2(C)[C@H]1CC[C@]2(C)O',\n 'O=C(O)CCc1nc(-c2ccccc2)c(-c2ccccc2)o1',\n 'CN1CCN2c3ncccc3Cc3ccccc3C2C1',\n 'Cc1ccnc2c1NC(=O)c1cccnc1N2C1CC1',\n 'FC(F)(F)c1ccc(N2CCNCC2)nc1Cl',\n 'Clc1ccc2c(c1)[C@H]1CNC[C@H]1c1ccccc1O2',\n 'Cc1cccc2c1Oc1ccccc1[C@@]1(O)CCNC[C@H]21',\n 'C=CC[C@H](N)c1ccccc1-c1noc2ccccc12',\n 'Cc1cccc2c1Oc1ccccc1[C@@]1(O)CCN(C)C[C@H]21',\n 'CN1C[C@@H]2c3cc(Cl)ccc3Oc3ccccc3[C@@H]2C1',\n 'CN/C(=C\\\\[N+](=O)[O-])NCCSCc1ccc(CN(C)C)o1',\n 'Cc1cc(NS(=O)(=O)c2ccc(N)cc2)no1',\n 'CC/C(=C(\\\\c1ccccc1)c1ccc(OCCN(C)C)cc1)c1ccccc1',\n 'CC1(C)S[C@@H]2[C@H](NC(=O)[C@H](C(=O)[O-])c3ccsc3)C(=O)N2[C@H]1C(=O)[O-].[Na+].[Na+]',\n 'CC[C@@]1(O)C(=O)OCc2c1cc1n(c2=O)Cc2cc3c(CN(C)C)c(O)ccc3nc2-1',\n 'Nc1ccn([C@H]2CC[C@@H](CO)O2)c(=O)n1',\n 'NS(=O)(=O)Cc1noc2ccccc12',\n 'C[C@@H]1[C@H](O)[C@@H](C)/C=C\\\\C=C/C=C\\\\C=C/C=C\\\\C=C/C=C\\\\[C@H](O[C@@H]2O[C@H](C)[C@@H](O)[C@H](N)[C@@H]2O)C[C@@H]2O[C@](O)(C[C@@H](O)C[C@@H](O)[C@H](O)CC[C@@H](O)C[C@@H](O)CC(=O)O[C@H]1C)C[C@H](O)[C@H]2C(=O)O',\n 'Nc1nc(=O)c2c([nH]1)NCC(CNc1ccc(C(=O)N[C@@H](CCC(=O)[O-])C(=O)[O-])cc1)N2C=O.[Ca+2]',\n 'CN(C)[C@@H]1C(=O)/C(=C(\\\\N)O)C(=O)[C@@]2(O)C(=O)C3=C(O)c4c(O)cccc4[C@@](C)(O)[C@H]3[C@H](O)[C@@H]12.O.O',\n 'COc1ccc(Cc2nccc3cc(OC)c(OC)cc23)cc1OC',\n 'CC1(C)S[C@@H]2[C@H](NC(=O)Cc3ccccc3)C(=O)N2[C@H]1C(=O)O',\n 'CCOc1ccc(NC(C)=O)cc1',\n 'Nc1ccc(N=Nc2ccccc2)c(N)n1',\n 'CN(C)CCC(c1ccccc1)c1ccccn1',\n 'O=C1OC(c2ccc(O)cc2)(c2ccc(O)cc2)c2ccccc21',\n 'CC(COc1ccccc1)N(CCCl)Cc1ccccc1',\n 'CCCCC1C(=O)N(c2ccccc2)N(c2ccccc2)C1=O',\n 'CC(C)(C)NCC(O)c1ccc(O)c(CO)n1',\n 'Cc1nc2n(c(=O)c1CCN1CCC(c3noc4cc(F)ccc34)CC1)CCCC2',\n 'CN1CC[C@@]2(C)c3cc(OC(=O)Nc4ccccc4)ccc3N(C)[C@@H]12',\n 'Cc1ccc(Cc2cnc(NCCCCc3ncc(Br)cc3C)[nH]c2=O)cn1',\n 'C#C[C@]1(O)CC[C@H]2[C@@H]3[C@H](C)CC4=C(CCC(=O)C4)[C@H]3CC[C@@]21C',\n 'CC(C)(O/N=C(\\\\C(=O)N[C@@H]1C(=O)N2C(C(=O)[O-])=C(C[n+]3ccccc3)CS[C@H]12)c1csc(N)n1)C(=O)O',\n 'Nc1[nH]c(=O)ncc1F',\n 'NC(N)=NCC1COC2(CCCCC2)O1',\n 'O=NN(CCCl)C(=O)NC1CCCCC1',\n 'O=S(=O)([O-])CCS.[Na+]',\n 'CN(N=O)C(=O)N[C@@H]1[C@@H](O)[C@H](O)[C@@H](CO)O[C@@H]1O',\n 'COc1cc([C@@H]2c3cc4c(cc3[C@@H](OC3OC5COC(c6cccs6)OC5C(O)C3O)[C@H]3COC(=O)[C@H]23)OCO4)cc(OC)c1O',\n 'S=P(N1CC1)(N1CC1)N1CC1',\n 'CN[C@H](CC(C)C)C(=O)NC1C(=O)N[C@@H](CC(N)=O)C(=O)N[C@H]2C(=O)N[C@H]3C(=O)N[C@H](C(=O)N[C@@H](C(=O)O)c4cc(O)cc(O)c4-c4cc3ccc4O)[C@H](O)c3ccc(c(Cl)c3)Oc3cc2cc(c3O[C@@H]2O[C@H](CO)[C@@H](O)[C@H](O)[C@H]2O[C@H]2C[C@](C)(N)[C@H](O)[C@H](C)O2)Oc2ccc(cc2Cl)[C@H]1O',\n 'CN1C(CSCC(F)(F)F)Nc2cc(Cl)c(S(N)(=O)=O)cc2S1(=O)=O',\n 'C[C@]12C=CC(=O)C=C1CC[C@@H]1[C@@H]2[C@@H](O)C[C@@]2(C)[C@H]1CC[C@]2(O)C(=O)CO',\n 'C[C@]12C=CC(=O)C=C1CC[C@@H]1[C@@H]2C(=O)C[C@@]2(C)[C@H]1CC[C@]2(O)C(=O)CO',\n 'CCCN(CCC)S(=O)(=O)c1ccc(C(=O)O)cc1',\n 'CC(=O)[C@H]1CC[C@H]2[C@@H]3CCC4=CC(=O)CC[C@]4(C)[C@H]3CC[C@]12C',\n 'CC(C)NCC(O)COc1cccc2ccccc12',\n 'CC1OC(O[C@@H]2C=C3CC[C@@H]4[C@H](CC[C@]5(C)[C@@H](c6ccc(=O)oc6)CC[C@]45O)[C@@]3(C)CC2)C(O)C(O)C1O',\n 'COc1ccc(C[C@H](N)C(=O)NC2[C@@H](O)[C@H](n3cnc4c(N(C)C)ncnc43)O[C@@H]2CO)cc1',\n 'NC(=O)c1ncn([C@@H]2O[C@H](CO)[C@@H](O)[C@H]2O)n1',\n 'CN=C(NC#N)NCCSCc1csc(N=C(N)N)n1',\n 'O=C(O)/C=C\\\\C(=O)O.O=C(O)/C=C\\\\C(=O)O.c1cc(CN2CCCCC2)cc(OCCCNc2nc3ccccc3s2)c1',\n 'OCc1ncc2n1-c1ccc(Cl)cc1C(c1ccccc1F)=NC2',\n 'CC(Cl)(Cl)Cl',\n 'FC(F)(F)CCl',\n 'CC(C)CO',\n 'CCC(C)(C)C',\n 'Nc1ncnc2c1ncn2C1OC(CO)C(O)C1O',\n 'CN1Cc2c(-c3noc(C(C)(CO)CO)n3)ncn2-c2cccc(Cl)c2C1=O',\n None,\n 'CN1Cc2c(-c3noc(C(C)(C)O)n3)ncn2-c2cccc(Cl)c2C1=O',\n 'S=C(NC1CCCCC1)N1CCC(c2cnc[nH]2)CC1',\n 'COC1C=COC2(C)Oc3c(C)c(O)c4c(c3C2=O)C(=O)C(=CNN2CCN(C)CC2)C(=C4O)NC(=O)C(C)=CC=CC(C)C(O)C(C)C(O)C(C)C(OC(C)=O)C1C',\n 'O=C(O)c1ccccc1O',\n 'CN1[C@@H]2CC(OC(=O)[C@H](CO)c3ccccc3)C[C@H]1[C@@H]1O[C@@H]12',\n 'CC(=O)S[C@@H]1CC2=CC(=O)CC[C@]2(C)[C@H]2CC[C@@]3(C)[C@@H](CC[C@@]34CCC(=O)O4)[C@H]12',\n 'C[C@]12Cc3cn[nH]c3C[C@@H]1CC[C@@H]1[C@@H]2CC[C@@]2(C)[C@H]1CC[C@]2(C)O',\n 'O=C(O)C1=C/C(=N\\\\Nc2ccc(S(=O)(=O)Nc3ccccn3)cc2)C=CC1=O',\n 'CC(C)N1CCN(c2ccc(OC[C@H]3CO[C@](Cn4cncn4)(c4ccc(Cl)cc4Cl)O3)cc2)CC1',\n 'C[C@]12C=CC(=O)C=C1CC[C@@H]1[C@@H]2CC[C@]2(C)OC(=O)CC[C@@H]12',\n 'C[C@]12CC[C@H]3[C@@H](CCC4=CC(=O)CC[C@@]43C)[C@@H]1CC[C@@H]2O',\n 'CN(C)[C@@H]1C(=O)/C(=C(\\\\N)O)C(=O)[C@@]2(O)C(=O)C3=C(O)c4c(O)cccc4[C@@](C)(O)[C@H]3C[C@@H]12',\n 'CCCC(C)CC',\n 'CCC(C)CC',\n 'Cc1ncc2n1-c1ccc(Cl)cc1C(c1ccccc1F)=NC2O',\n 'Cc1c(N(C)C)c(=O)n(-c2ccccc2)n1C',\n 'CC(C)NCC(O)COc1ccc(CC(N)=O)cc1',\n 'c1ccccc1',\n 'CC(C)(C)OC(=O)c1ncn2c1[C@@H]1CCCN1C(=O)c1c(Br)cccc1-2',\n 'O=C(CCCN1CCC(O)(c2ccc(Br)cc2)CC1)c1ccc(F)cc1',\n 'OC(c1cc(C(F)(F)F)nc2c(C(F)(F)F)cccc12)C1CCCCN1',\n 'CC1COc2c(N3CCN(C)CC3)c(F)cc3c(=O)c(C(=O)O)cn1c23',\n 'CN1c2ccccc2C(c2ccccc2F)=NCC1CNC(=O)c1ccsc1',\n 'C[C@]12CCC(=O)C=C1CC[C@@H]1[C@@H]2[C@@H](O)C[C@]2(C=O)[C@@H](C(=O)CO)CC[C@@H]12',\n 'O=C(Cc1ccc(Cl)c(Cl)c1)N1CCCC[C@H]1CN1CCCC1',\n 'O=C(Cc1ccc(Cl)c(Cl)c1)N1CCc2ccccc2[C@H]1CN1CCCC1',\n 'O=C(Cc1ccc(C(F)(F)F)cc1)N1CCCC[C@H]1CN1CCCC1',\n 'O=C(Cc1ccc(Cl)c(Cl)c1)N1CCc2sccc2[C@H]1CN1CCCC1',\n 'Cn1c(=O)c2[nH]cnc2n(C)c1=O',\n 'Nc1nc(=S)c2[nH]cnc2[nH]1',\n 'Cc1ccc(S(=O)(=O)NC(=O)NN2CCCCCC2)cc1',\n 'CCCCNC(=O)NS(=O)(=O)c1ccc(C)cc1',\n 'C[C@]12C=CC(=O)C=C1CC[C@H]1[C@@H]3C[C@@H](O)[C@](O)(C(=O)CO)[C@@]3(C)C[C@H](O)[C@@]12F',\n 'Nc1nc(N)c2nc(-c3ccccc3)c(N)nc2n1',\n 'NS(=O)(=O)c1cc2c(cc1Cl)NC(C(Cl)Cl)NS2(=O)=O',\n 'CC(C)C1NC(=O)[C@@H](C(C)C)OC(=O)[C@H](C(C)C)NC(=O)[C@H](C)OC(=O)[C@@H](C(C)C)NC(=O)[C@@H](C(C)C)OC(=O)[C@H](C(C)C)NC(=O)[C@H](C)OC(=O)[C@@H](C(C)C)NC(=O)[C@@H](C(C)C)OC(=O)[C@H](C(C)C)NC(=O)[C@H](C)OC1=O',\n 'COc1ccc(CCN(C)CCCC(C#N)(c2ccc(OC)c(OC)c2)C(C)C)cc1OC',\n 'CC(=O)CC(c1ccccc1)c1c(O)oc2ccccc2c1=O',\n 'CCC(C)=O',\n 'C1CC1',\n 'NCCCN1c2ccccc2CCc2ccccc21',\n 'ClCCl',\n 'CCOCC',\n 'C=COC=C',\n 'FC(F)OC(F)(F)C(F)Cl',\n 'O=C(Cc1ccc(Cl)c(Cl)c1)N1CCc2[nH]cnc2[C@H]1CN1CCCC1',\n 'CC1(C)CCN(C(=O)Cc2ccc(Cl)c(Cl)c2)[C@@H](CN2CCCC2)C1',\n 'CC(C)(C(=O)O)c1ccc(C(=O)CCCN2CCC(OC(c3ccccc3)c3ccccc3)CC2)cc1',\n 'O=C(O)COCCN1CCN(C(c2ccccc2)c2ccc(Cl)cc2)CC1',\n 'O=C(O)c1cn(C2CC2)c2cc(N3CCNCC3)c(F)cc2c1=O',\n 'CCc1c(O)c(=O)ccn1CCO',\n 'CCc1c(O)c(=O)ccn1CCCCO',\n 'COC(=O)[C@@H]1[C@H]2C[C@H]3c4[nH]c5ccccc5c4CCN3C[C@@H]2CC[C@@H]1O',\n 'Cc1cn([C@H]2C[C@H](N=[N+]=[N-])[C@@H](CO)O2)c(=O)[nH]c1=O',\n 'CC(=O)c1ccc2c(c1)N(CCCN(C)C)c1ccccc1S2',\n 'CC(=O)c1ccc2c(c1)N(CCCN1CCN(CCO)CC1)c1ccccc1S2',\n 'CC(=O)Nc1nnc(S(N)(=O)=O)s1',\n 'C=CCC1(CC=C)C(=O)NC(=O)NC1=O',\n 'NC12CC3CC(CC(C3)C1)C2.[Cl-].[H+]',\n 'CN(C)CCC=C1c2ccccc2CCc2ccccc21',\n 'CCC1(CCC(C)C)C(=O)NC(=O)NC1=O',\n 'CC(N)Cc1ccccc1',\n 'CCO',\n 'CCc1ccccc1',\n 'CCOC(=O)c1ncn2c1CN(C)C(=O)c1cc(F)ccc1-2',\n 'CN1C(=O)CN=C(c2ccccc2F)c2cc([N+](=O)[O-])ccc21',\n 'C=COCC(F)(F)F',\n 'FC(F)(F)C(Cl)Br',\n 'CCCCCCC',\n 'CCCCCC',\n 'Cc1c(O)c(=O)ccn1C',\n 'CCn1ccc(=O)c(O)c1C',\n 'CCCCn1ccc(=O)c(O)c1C',\n 'CCCCCn1ccc(=O)c(O)c1C',\n 'CCCCCn1ccc(=O)c(O)c1C',\n 'Cc1c(O)c(=O)ccn1CCCO',\n 'CCc1c(O)c(=O)ccn1CC',\n 'CN1CCN(c2cc3c(cc2F)c(=O)c(C(=O)O)cn3-c2ccc(F)cc2)CC1',\n 'Cc1cc(=O)n(-c2ccccc2)n1C',\n 'CN1CCc2cccc3c2[C@H]1Cc1ccc(O)c(O)c1-3',\n 'COC(=O)C1=CCCN(C)C1',\n 'O=C(CCCN1CCN(c2ccccn2)CC1)c1ccc(F)cc1',\n 'CCN(CC)CCOC(=O)C(O)(c1ccccc1)c1ccccc1.[Cl-].[H+]',\n 'O=C(CCCN1CCC(n2c(=O)[nH]c3ccccc32)CC1)c1ccc(F)cc1',\n 'CCOC(=O)c1ccc(N)cc1',\n 'CCN(CC)C(=O)C1CN2CCc3cc(OC)c(OC)cc3C2CC1OC(C)=O',\n 'CN1C2CCC1CC(OC(c1ccccc1)c1ccccc1)C2.O=S(=O)(O)O',\n 'OC(CCN1CCCCC1)(c1ccccc1)C1CC2C=CC1C2',\n 'CN1C(=O)NC(=O)C(C)(C2=CCCCC2)C1=O',\n 'CC(C)(C)NC(=O)[C@@H]1CN(Cc2cccnc2)CCN1C[C@@H](O)C[C@@H](Cc1ccccc1)C(=O)N[C@H]1c2ccccc2C[C@H]1O',\n 'FC(F)OC(Cl)C(F)(F)F',\n 'C=CCC1(C(C)C#CCC)C(=O)NC(=O)N(C)C1=O',\n 'COC(F)(F)C(Cl)Cl',\n 'CC1CCCC1',\n 'CNCCCN1c2ccccc2Sc2ccc(Cl)cc21',\n 'NCCCN1c2ccccc2Sc2ccc(Cl)cc21',\n 'CN(C)CCOC(C)(c1ccccc1)c1ccccn1',\n 'CN(C(=O)Cc1ccccc1N)[C@@H](CN1CC[C@@H](O)C1)c1ccccc1',\n 'CCn1cc(C(=O)O)c(=O)c2cc(F)c(N3CCNCC3)nc21',\n 'CN1CCN(c2c(F)cc3c(=O)c(C(=O)O)cn(CCF)c3c2F)CC1',\n 'CC(=O)N1CCN(C(=O)Cc2ccc(Cl)c(Cl)c2)[C@@H](CN2CCCC2)C1',\n 'O=C(Cc1ccc(Cl)c(Cl)c1)N1CCc2occc2[C@H]1CN1CCCC1',\n 'COC(=O)N1CCN(C(=O)Cc2ccc(Cl)c(Cl)c2)[C@@H](CN2CCCC2)C1',\n 'O=C1CN=C(c2ccccn2)c2cc(Br)ccc2N1',\n 'CC(C)(C)c1ccc(CN2CCN(C(c3ccccc3)c3ccc(Cl)cc3)CC2)cc1',\n 'CN(C)CCc1c[nH]c2ccc(O)cc12',\n 'CC(NC(C)(C)C)C(=O)c1cccc(Cl)c1',\n 'O=C(NCc1ccccc1)OCCO',\n 'CCC(C)C1(CC)C(=O)NC(=O)NC1=O',\n 'Cn1c(=O)c2c(ncn2C)n(C)c1=O',\n 'C=C(C)[C@@H]1CCC(C)=CC1c1c(O)cc(CCCCC)cc1O',\n 'CCC(C)C(CC)C(=O)NC(N)=O',\n 'NC(=O)N1c2ccccc2C=Cc2ccccc21',\n 'CSc1ccc2c(c1)N(CCC1CCCNC1)c1ccccc1S2',\n 'O=C1CCCN1CCCCN1CCN(c2cc(C(F)(F)F)ccn2)CC1',\n 'Cn1c(=O)[nH]c2ncn(C)c2c1=O',\n 'CCCCC',\n 'CCCO',\n 'CC(C)=O',\n 'CCOC(=O)N1CCN(C(=O)Cc2ccc(Cl)c(Cl)c2)[C@@H](CN2CCCC2)C1',\n 'CCCOC(=O)N1CCN(C(=O)Cc2ccc(Cl)c(Cl)c2)[C@@H](CN2CCCC2)C1',\n 'O=C(Cc1ccc(Cl)c(Cl)c1)N1CCc2occc2[C@H]1CN1CC[C@@H](O)C1',\n 'CC(=O)N1CCN(C(=O)Cc2ccc(Cl)c(Cl)c2)[C@@H](CN2CC[C@@H](O)C2)C1',\n 'CC(=O)N1CCN(C(=O)Cc2ccc(C(F)(F)F)cc2)[C@@H](CN2CC[C@@H](O)C2)C1',\n 'CSc1ccc(CC(=O)N2CCN(C(C)=O)C[C@@H]2CN2CC[C@@H](O)C2)cc1',\n 'CC(=O)N1CCN(C(=O)Cc2cc(F)cc(F)c2)[C@@H](CN2CC[C@@H](O)C2)C1',\n 'COc1cccc(CC(=O)N2CCN(C(C)=O)C[C@@H]2CN2CC[C@@H](O)C2)c1',\n 'CC(=O)N1CCN(C(=O)Cc2ccc([N+](=O)[O-])cc2)[C@@H](CN2CC[C@H](O)C2)C1',\n 'COc1ccc(CC(=O)N2CCN(C(C)=O)C[C@@H]2CN2CC[C@@H](O)C2)cc1',\n 'CCC(=O)c1ccc2c(c1)N(CCCN1CCN(CCO)CC1)c1ccccc1S2',\n 'CCCCNc1c(C(=O)OCC)cnc2c1cnn2CC',\n 'Nn1cnc2cc3ccccc3cc2c1=O',\n 'OC(O)C(Cl)(Cl)Cl',\n 'CN=C1CN(O)C(c2ccccc2)=c2cc(Cl)ccc2=N1',\n 'CN(C)CCCN1c2ccccc2Sc2ccc(Cl)cc21',\n 'CN(C)CC/C=C1/c2ccccc2Sc2ccc(Cl)cc21',\n 'O=c1[nH]c2cc(Cl)ccc2o1',\n 'C[N+](C)(C)CCO',\n 'CN1C(=O)CC(=O)N(c2ccccc2)c2cc(Cl)ccc21',\n 'CN1Cc2c(C(=O)OC(C)(C)C)ncn2-c2ccsc2C1=O',\n 'CCCN(CCC)CCc1cccc2c1CC(=O)N2',\n 'CCCN(CCC)CCc1ccc(O)c2c1CC(=O)N2',\n 'O=C(O)CNC(=O)c1ccccc1O',\n 'CN1CCCCC1CCN1c2ccccc2Sc2ccc(S(C)(=O)=O)cc21',\n 'FC(Br)C(F)(F)F',\n 'Cn1cnc2c1c(=O)[nH]c(=O)n2C',\n 'CCCC(C)C1(CC)C(=O)NC(=S)NC1=O',\n 'Cc1ccccc1',\n 'Cc1nnc2n1-c1ccc(Cl)cc1C(c1ccccc1Cl)=NC2',\n 'CC(=O)N1CCN(C(=O)Cc2cccc([N+](=O)[O-])c2)[C@@H](CN2CC[C@H](O)C2)C1',\n 'CC(=O)N1CCN(C(=O)Cc2ccccc2)[C@@H](CN2CC[C@@H](O)C2)C1',\n 'CC(=O)N1CCN(C(=O)Cc2ccc([S@@](C)=O)cc2)[C@@H](CN2CC[C@H](O)C2)C1',\n 'CC(=O)N1CCN(C(=O)Cc2ccc(S(C)(=O)=O)cc2)[C@@H](CN2CC[C@H](O)C2)C1',\n 'CC(C)[C@@H](CN1CCCC1)N(C)C(=O)Cc1ccc(Cl)c(Cl)c1',\n 'CN(C(=O)Cc1ccc(Cl)c(Cl)c1)[C@@H](CN1CCCC1)c1ccccc1',\n 'Cc1cc(N/C(O)=C2\\\\C(=O)c3ccccc3S(=O)(=O)N2C)no1',\n 'C=CCN1CC[C@]23CCCC[C@H]2[C@H]1Cc1ccc(O)cc13',\n 'CCn1cc(C(=O)O)c(=O)c2cc(F)c(N3CCNC(C)C3)c(F)c21',\n 'CN(C)C(=O)C(CCN1CCC(O)(c2ccc(Cl)cc2)CC1)(c1ccccc1)c1ccccc1',\n 'CN(C)CCCN1c2ccccc2CCc2ccc(Cl)cc21',\n 'O=C1CN=C(c2ccccc2Cl)c2cc([N+](=O)[O-])ccc2N1',\n 'OCCN1CCN(CC/C=C2/c3ccccc3Sc3ccc(Cl)cc32)CC1',\n 'O=c1[nH]c2cc(Cl)ccc2n1C1CCN(CCCC(c2ccc(F)cc2)c2ccc(F)cc2)CC1',\n 'COC(=O)[C@@H]1C2CCC(C[C@@H]1OC(=O)c1ccccc1)N2C',\n 'COc1ccc2c3c1O[C@H]1[C@@H](O)C=C[C@H]4[C@@H](C2)N(C)CC[C@@]341',\n 'CC1C2Cc3ccc(O)cc3C1(C)CCN2CC1CC1',\n 'FC(F)(F)c1ccc2c(c1)N(CCCN1CCN(C3CC3)CC1)c1ccccc1S2',\n 'CN(C)CCO',\n 'CCOC(=O)C1(c2ccccc2)CCN(C)CC1.[Cl-].[H+]',\n 'ClC=C(Cl)Cl',\n 'ClC(Cl)Cl',\n 'CNCCc1ccccn1',\n 'CN(C)CCc1ccccn1',\n 'NCCc1nccs1',\n 'NCCc1nc(-c2ccccc2)cs1',\n 'NCCc1cn2ccccc2n1',\n 'Cc1cccc(C)c1',\n 'CCOC(=O)N1CCC(=C2c3ccc(Cl)cc3CCc3cccnc32)CC1',\n 'Cc1cnc(N/C(O)=C2/C(=O)c3ccccc3S(=O)(=O)N2C)s1',\n 'C=CCN1CC[C@]23c4c5ccc(O)c4O[C@H]2[C@@H](O)C=C[C@H]3[C@H]1C5',\n 'O=C1CC[C@@]2(O)[C@H]3Cc4ccc(O)c5c4[C@@]2(CCN3CC2CC2)[C@H]1O5',\n 'CCn1cc(C(=O)O)c(=O)c2cc(F)c(N3CCNCC3)cc21',\n 'CCn1cc(C(=O)O)c(=O)c2cc(F)c(N3CCN(C)CC3)cc21',\n 'CN1/C(=C(/O)Nc2ccccn2)C(=O)c2ccccc2S1(=O)=O',\n 'CS(=O)(=O)O.Oc1ccc2[nH]cc(CCCCN3CC=C(c4ccccc4)CC3)c2c1',\n 'COC(=O)[C@H]1[C@H]2C[C@@H]3c4[nH]c5ccccc5c4CCN3C[C@H]2C[C@@H](OC(=O)c2cc(OC)c(OC)c(OC)c2)[C@@H]1OC',\n 'CNCCCN1c2ccccc2CCc2ccccc21',\n 'CN1C(=O)CN=C(c2ccccc2)c2cc(Cl)ccc21',\n 'COc1ccc2c3c1O[C@H]1[C@@H](O)CC[C@H]4[C@@H](C2)N(C)CC[C@@]341',\n 'CN1CCC23c4c5ccc(O)c4OC2C(O)CCC3C1C5',\n 'CN(C)CCOC(c1ccccc1)c1ccccc1',\n 'O=C1NC(=O)C(c2ccccc2)(c2ccccc2)N1',\n 'CC(CN1CCN(CCOCCO)CC1)CN1c2ccccc2Sc2ccccc21',\n 'COC(=O)c1ccc(C(=O)OC)cc1',\n 'Cc1ccccc1C',\n 'Cc1ccc(C)cc1',\n 'CC(C)O',\n 'NC(=O)N1c2ccccc2C2OC2c2ccccc21',\n 'CC[C@H](NC(=O)c1c(C)c(-c2ccccc2)nc2ccccc12)c1ccccc1',\n 'CC(C)(C)OC(=O)CCCc1ccc(N(CCCl)CCCl)cc1',\n 'CC(C)Nc1cccnc1N1CCN(C(=O)c2cc3cc(NS(C)(=O)=O)ccc3[nH]2)CC1',\n 'CC(C)(C)c1ccc(C(=O)CCCN2CCC(OC(c3ccccc3)c3ccccc3)CC2)cc1',\n 'CN1CCN(CC(=O)N2c3ccccc3C(=O)Nc3cccnc32)CC1',\n 'CCCNC(=O)c1ccc2c(c1)N([C@@H](C)CN1CCCC1)c1ccccc1S2',\n 'CN1CCN(c2c(F)cc3c(=O)c(C(=O)O)cn4c3c2SCC4)CC1',\n 'CC(C)(C)NCC(O)c1ccc(O)c(CO)c1',\n 'CN1CCN(C(=O)Cc2ccc(Cl)c(Cl)c2)[C@@H](CN2CCCC2)C1',\n 'O=C(Cc1ccc(Cl)c(Cl)c1)N1CCn2ccnc2[C@H]1CN1CCCC1',\n 'O=C1NC(=O)[C@@]2(CCN(C(=O)Cc3ccc(Cl)c(Cl)c3)[C@@H](CN3CCCC3)C2)N1',\n 'O=C(Cc1ccc(Cl)c(Cl)c1)N1CCn2ccnc2[C@H]1CN1CC[C@@H](O)C1',\n 'O=C(Cc1ccc(Cl)c(Cl)c1)N1CCn2ncnc2[C@H]1CN1CCCC1',\n 'O=C(Cc1ccc(Cl)c(Cl)c1)N1CCN(CCO)C[C@@H]1CN1CC[C@@H](O)C1',\n 'CN(C)CC/C=C1/c2ccccc2COc2ccccc21.[Cl-].[H+]',\n 'CN(C)CCOC(C)(c1ccccc1)c1ccccn1.O=C(O)CCC(=O)O',\n 'O=C(CCCN1CC=C(n2c(=O)[nH]c3ccccc32)CC1)c1ccc(F)cc1',\n 'C/C=C(\\\\CC)C(=O)NC(N)=O',\n 'CCC(C)(CC)OC(N)=O',\n 'Clc1ccc2c(c1)C(c1ccccc1)=NCc1nncn1-2',\n 'CCc1ccccc1-n1c(C)nc2ccccc2c1=O',\n 'CCOC(=O)c1cnc2c(cnn2CC)c1NN=C(C)C',\n 'C#CC(O)(/C=C/Cl)CC',\n 'C#CC1(OC(N)=O)CCCCC1',\n None,\n 'CNCCc1ccccn1',\n 'CN(C)CCc1ccccn1',\n 'NCCc1nccs1',\n 'S=C(NC1CCCCC1)N1CCC(c2c[nH]cn2)CC1',\n 'CN1CC[C@@H]2c3cc(Cl)ccc3Oc3ccccc3[C@H]2C1',\n 'O=C1CCCN1CCCCN1CCN(c2cc(C(F)(F)F)cc(Cl)n2)CC1',\n 'Clc1ccc2c(c1)[C@H]1CCNC[C@@H]1c1ccccc1O2',\n 'O=C(Cc1ccc(Cl)c(Cl)c1)N1CCc2[nH]cnc2[C@H]1CN1CC[C@@H](O)C1',\n 'CC[C@H](NC(=O)c1c(O)c(-c2ccccc2)nc2ccccc12)c1ccccc1',\n 'CC[C@H](NC(=O)c1c(OCCCN(C)C)c(-c2ccccc2)nc2ccccc12)c1ccccc1',\n 'CC[C@H](NC(=O)c1c(OCC(=O)O)c(-c2ccccc2)nc2ccccc12)c1ccccc1',\n 'CC[C@H](NC(=O)c1c(OCCCC(=O)O)c(-c2ccccc2)nc2ccccc12)c1ccccc1',\n 'CC[C@H](NC(=O)c1c(OCCNC(=O)Cc2ccccc2C(=O)O)c(-c2ccccc2)nc2ccccc12)c1ccccc1',\n 'CC[C@H](NC(=O)c1c(OCCNC(=O)Cc2ccccn2)c(-c2ccccc2)nc2ccccc12)c1ccccc1',\n 'CC[C@H](NC(=O)c1c(OCCNC(=O)[C@@H]2CCCN2)c(-c2ccccc2)nc2ccccc12)c1ccccc1',\n 'CC[C@H](NC(=O)c1c(Cn2ccnc2)c(-c2ccccc2)nc2ccccc12)c1ccccc1',\n 'C[C@@H]1CN(c2c(F)c(N)c3c(=O)c(C(=O)O)cn(C4CC4)c3c2F)C[C@H](C)N1',\n 'CCC1(C)CC(=O)NC1=O',\n 'CCc1ccc2c(c1)N(CC(C)CN(C)C)c1ccccc1S2',\n 'OCCN1CCN(CC/C=C2/c3ccccc3Sc3ccc(C(F)(F)F)cc32)CC1',\n 'OCCN1CCN(CCCN2c3ccccc3Sc3ccc(C(F)(F)F)cc32)CC1',\n 'CCN(CC)CCN1C(=O)CN=C(c2ccccc2F)c2cc(Cl)ccc21',\n 'COc1cc2c3c(c1O)C1(C=CC(=O)C=C1)CC3N(C)CC2',\n 'CCC1(c2ccccc2)CCC(=O)NC1=O',\n 'O=C(CCCN1CCC(O)(c2ccc(Cl)cc2)CC1)c1ccc(F)cc1',\n 'Cc1[nH]ccc2c1[nH]c1cc(=O)ccc12',\n 'Cc1nccc2c1[nH]c1ccccc12',\n None,\n 'O=[N+]([O-])c1cc[nH]c1NCCSCc1ccccn1',\n 'Cc1cc(C(C)(C)SC(C)(C)CNc2[nH]ccc2[N+](=O)[O-])nc(C)c1C',\n None,\n None,\n None,\n None,\n None,\n 'C[NH+]O.Cc1oc(C(C)(C)N(C(C)(C)N)C(C)(C)N)c(C)c1C.[OH-]',\n 'Cc1c[nH+][o+]c(C([NH])CC(C)C(C)(C)N(C(C)(C)C)C(C)(N)N)c1[O-]',\n 'CCNCc1c(CSC)cnc(C)c1O',\n 'CN1/C(=C(\\\\O)Nc2ccccn2)C(=O)c2sccc2S1(=O)=O',\n 'CC(C)(C)c1ccc(C(O)CCCN2CCC(C(O)(c3ccccc3)c3ccccc3)CC2)cc1',\n 'CN(C(=O)Cc1ccc(Cl)c(Cl)c1)C1CCCC[C@H]1N1CCCC1',\n 'CC(=O)Oc1ccc2c3c1O[C@H]1[C@@H](OC(C)=O)C=C[C@H]4[C@@H](C2)N(C)CC[C@@]341',\n 'C#CCC1(OC(N)=O)CCCCC1',\n 'OCCN1CCCN(CCCN2c3ccccc3Sc3cc(C(F)(F)F)ccc32)CC1.[Cl-].[Cl-].[H+].[H+]',\n 'COc1ccc2c3c1O[C@H]1C(=O)CC[C@H]4[C@@H](C2)N(C)CC[C@]314',\n 'CCC(O)(COC(N)=O)c1ccccc1',\n 'OCCOCCN1CCN(C(c2ccccc2)c2ccc(Cl)cc2)CC1',\n 'CN(C)CCCN1c2ccccc2CCc2ccccc21',\n 'CNC1(c2ccccc2Cl)CCCCC1=O',\n 'O=C(O)c1cc(=O)c2ccccc2[nH]1',\n 'CC(=O)NCCCOc1cccc(CN2CCCCC2)c1',\n 'O=C(NCCCOc1cccc(CN2CCCCC2)c1)c1ccccc1',\n 'OCCCOc1cccc(CN2CCCCC2)c1',\n 'c1ccc(NCCCOc2cccc(CN3CCCCC3)c2)nc1',\n 'c1cc(CN2CCCCC2)cc(OCCCNc2nccs2)c1',\n 'c1cc(CN2CCCCC2)cc(OCCCNc2nc3ccccc3o2)c1',\n 'CN(C)Cc1ccc(CSCCNc2nc(=O)c(Cc3ccc4ccccc4c3)c[nH]2)o1',\n 'Cc1ccc(CC2=CNC(NCCSCc3ccc(CN(C)C)o3)=NC2)cn1',\n 'CN(C)c1cc(-c2n[nH]c(N)n2)ccn1',\n 'Cn1c(=O)c2nc[nH]c2n(C)c1=O',\n 'O=C(CCCN1CCC(C(=O)c2ccc(F)cc2)CC1)c1ccc(F)cc1',\n 'CN1CC[C@]23CCCC[C@H]2[C@H]1Cc1ccc(O)cc13',\n 'CCN(CC)CC(=O)Nc1c(C)cccc1C',\n 'O=C1Nc2ccc(Cl)cc2C(c2ccccc2Cl)=NC1O',\n 'CC(C)N1CCC(N(C(=O)Cc2ccccc2)c2ccc(Cl)cc2)CC1',\n 'CN(C)CCOC(=O)COc1ccc(Cl)cc1',\n 'Cc1nc2ccccc2c(=O)n1-c1ccccc1Cl',\n 'CN1CCN=C(c2ccccc2)c2cc(Cl)ccc21',\n 'CCCC(C)(COC(N)=O)COC(N)=O',\n 'COc1cc2c(c(CN[C@@H]3CCCN[C@H]3c3ccccc3)c1)OCC2',\n None,\n 'NCCn1ncc2cc(Cl)c(Cl)cc21',\n 'Nc1nc(NC2CC2)c2ncn([C@H]3C=C[C@@H](CO)C3)c2n1',\n 'CCCC(=O)Nc1ccc(OCC(O)CNC(C)C)c(C(C)=O)c1',\n 'Nc1nc(=O)c2ncn(COCCO)c2[nH]1',\n 'CCCSc1ccc2nc(NC(=O)OC)[nH]c2c1',\n 'NCCCNCCSP(=O)(O)O',\n 'COc1cc(CCN)cc(OC)c1OC',\n 'CN1CCCCC1CCN1c2ccccc2Sc2ccc(S(C)=O)cc21',\n 'CN[C@@H](C)Cc1ccccc1',\n 'Cc1ccccc1-n1c(C)nc2ccccc2c1=O',\n 'COc1ccccc1OCC(O)COC(N)=O',\n 'COc1ccc2c(c1)N(CCCN(C)C)c1ccccc1S2',\n 'COc1ccc2c(c1)N(C[C@H](C)CN(C)C)c1ccccc1S2',\n 'C#CC(C)(O)CC',\n 'COC(=O)C(c1ccccc1)C1CCCCN1',\n 'CCC1(CC)C(=O)NCC(C)C1=O',\n 'NCC[C@H](O)C(=O)N[C@@H]1C[C@H](N)[C@@H](O[C@H]2O[C@H](CN)[C@@H](O)[C@H](O)[C@H]2O)[C@H](O)[C@H]1O[C@H]1O[C@H](CO)[C@@H](O)[C@H](N)[C@H]1O',\n 'Nc1ccc(C(=O)O)c(O)c1',\n 'Nc1ccn([C@@H]2O[C@H](CO)[C@@H](O)[C@@H]2O)c(=O)n1',\n 'CN(C)N/N=C1/N=CN=C1C(N)=O',\n 'COc1cccc2c1C(=O)c1c(O)c3c(c(O)c1C2=O)C[C@@](O)(C(C)=O)C[C@@H]3O[C@H]1C[C@H](N)[C@H](O)[C@H](C)O1',\n 'CN(C)[C@@H]1C(=O)/C(=C(\\\\N)O)C(=O)[C@@]2(O)C(=O)C3=C(O)c4c(O)ccc(Cl)c4[C@@H](O)[C@H]3C[C@@H]12',\n 'O=C1CC(=O)N(c2ccccc2)c2cc(Cl)ccc2N1',\n 'CNCCCN1c2ccccc2Sc2ccccc21',\n 'C[C@@H](CN1CC(=O)NC(=O)C1)N1CC(=O)NC(=O)C1',\n 'Cc1ncc2n1-c1ccc(Cl)cc1C(c1ccccc1F)=NC2.O=C(O)/C=C\\\\C(=O)O',\n 'Cc1ccc(C2(O)CCN(CCCC(=O)c3ccc(F)cc3)CC2)cc1',\n 'CN1CC[C@]23c4c5ccc(O)c4O[C@H]2C(O)C=C[C@H]3[C@H]1C5',\n 'CN1CC=C(c2ccccc2)CC1',\n 'C=CCN1CC[C@]23c4c5ccc(O)c4O[C@H]2C(=O)CC[C@@]3(O)[C@H]1C5',\n 'CN1CCC[C@H]1c1cccnc1',\n 'O=C1CN=C(c2ccccc2)c2cc([N+](=O)[O-])ccc2N1',\n 'O=C1CN=C(c2ccccc2)c2cc(Cl)ccc2N1',\n 'CNCCC=C1c2ccccc2CCc2ccccc21',\n 'Cc1ccccc1C(OCCN(C)C)c1ccccc1',\n 'COc1ccc2c(c1)[C@]13CCCC[C@@H]1[C@H](C2)N(C)CC3',\n 'CN1C[C@H](C(=O)N[C@]2(C)O[C@@]3(O)[C@@H]4CCCN4C(=O)[C@H](Cc4ccccc4)N3C2=O)C[C@@H]2c3cccc4[nH]cc(c34)C[C@H]21',\n 'CCN(CC)C(=S)SSC(=S)N(CC)CC',\n 'O=C1Nc2ccc(Cl)cc2[C@@](C#CC2CC2)(C(F)(F)F)O1',\n 'CCOC(=O)[C@H](CCc1ccccc1)N[C@@H](C)C(=O)N1CCC[C@H]1C(=O)O',\n 'CC[C@@H](CO)NCCN[C@@H](CC)CO',\n 'CC[C@@]1(O)C[C@H](OC2CC(N(C)C)C(OC3CC(O)C(OC4CCC(=O)C(C)O4)C(C)O3)C(C)O2)c2c(cc3c(c2O)C(=O)c2c(O)cccc2C3=O)[C@H]1C(=O)OC',\n 'CC1(C)S[C@@H]2[C@H](NC(=O)CCC[C@@H](N)C(=O)O)C(=O)N2[C@H]1C(=O)O',\n 'CNCC(O)c1ccc(O)c(O)c1',\n 'COc1cccc2c1C(=O)c1c(O)c3c(c(O)c1C2=O)CC(O)(C(=O)CO)CC3O',\n 'C=CCSCC(=O)NC1C(=O)N2C1SC(C)(C)C2C(=O)[O-].[Na+]',\n 'CC1(C)S[C@@H]2[C@H](NC(=O)C34C[C@@H]5C[C@@H](CC(N)(C5)C3)C4)C(=O)N2[C@H]1C(=O)O',\n 'CC(C)(C)C(=O)OCOC(=O)C1N2C(=O)[C@@H](N=CN3CCCCCC3)[C@H]2SC1(C)C',\n 'CN(C)[C@@H]1C(=O)/C(=C(\\\\N)O)C(=O)[C@@]2(O)C(=O)C3=C(O)c4c(ccc(N)c4O)C[C@H]3C[C@@H]12',\n 'CC(=O)[C@]1(N)Cc2c(O)c3c(c(O)c2[C@@H](O[C@H]2C[C@H](O)[C@H](O)CO2)C1)C(=O)c1ccccc1C3=O.[Cl-].[H+]',\n 'CC1(C)S[C@@H]2C(NC(=O)[C@H](NC(=O)c3c[nH]c4cccnc4c3=O)c3ccccc3)C(=O)N2[C@H]1C(=O)O',\n 'CN(C)[C@@H]1C(=O)/C(=C(/O)NC(C(=O)O)N2CCN(CCO)CC2)C(=O)[C@@]2(O)C(=O)C3=C(O)c4c(O)cccc4[C@@](C)(O)[C@H]3C[C@@H]12',\n 'CN[C@@H]1[C@@H](O[C@H]2O[C@H](CO)[C@@H](N)[C@H](O)[C@H]2O)O[C@H]2C[C@@H](N)[C@H](O[C@H]3[C@H](O)[C@@H](O)[C@H](N)C[C@@H]3N)O[C@@H]2[C@@H]1O',\n 'NCC[C@H](O)C(=O)N[C@@H]1C[C@H](N)[C@@H](O[C@H]2O[C@H](CN)CC[C@H]2N)[C@H](O)[C@H]1O[C@H]1O[C@H](CO)[C@@H](O)[C@H](N)[C@H]1O',\n 'CNC(=O)C[C@@H](N)C(=O)N[C@@H](C(=O)N[C@@H]1C(=O)N2[C@@H]1SC(C)(C)[C@@H]2C(=O)O)c1ccc(O)cc1',\n 'CO[C@H]1[C@@H](O)[C@H](N)[C@@H](O[C@H]2O[C@H](C(C)N)CC[C@H]2N)[C@H](O)[C@@H]1N(C)C(=O)CN',\n 'C[C@H]1[C@H](NC(=O)/C(=N\\\\OC(C)(C)C(=O)O)c2csc([NH3+])n2)C(=O)N1S(=O)(=O)[O-]',\n 'CCOC(=O)OC(C)OC(=O)[C@@H]1N2C(=O)[C@@H](N=CN3CCCCCC3)[C@H]2SC1(C)C',\n 'NCC1OC(OC2C(N)CC(N)C(OC3OC(CO)C(O)C(N)C3O)C2O)C(N)C(O)C1O',\n 'NC(CO)C(=O)NNCc1ccc(O)c(O)c1O',\n 'CC(C)COCC(CN(Cc1ccccc1)c1ccccc1)N1CCCC1',\n 'CC[C@H]1OC(=O)[C@H](C)[C@@H](OC2CC(C)(OC)C(O)C(C)O2)C(C)[C@@H](OC2OC(C)CC(N(C)C)C2O)[C@](C)(O)C[C@@H](C)C(=O)[C@H](C)[C@@H](O)[C@H]1C',\n 'NCCC(O)CNC1CC(N)C(OC2OC(CN)C(O)C(O)C2O)C(O)C1OC1OC(CO)C(O)C(N)C1O',\n 'CC(C)(C)NCC(O)c1ccc(O)c(NC(N)=O)c1',\n 'CC1(C)S[C@@H]2[C@H](NC(=O)C(C(=O)Oc3ccccc3)c3ccccc3)C(=O)N2[C@H]1C(=O)O',\n 'CC1(C)S[C@@H]2[C@H](NC(=O)C(C(=O)Oc3ccc4c(c3)CCC4)c3ccccc3)C(=O)N2[C@H]1C(=O)O',\n 'CC(=O)[C@]1(O)Cc2c(O)c3c(c(O)c2C(OC2CC(N)C(O)C(C)O2)C1)C(=O)c1c(O)cccc1C3=O',\n 'NC(=O)OCC1[C@H](NC(=O)/C(=N\\\\OCC(=O)O)c2csc(N)n2)C(=O)N1S(=O)(=O)O',\n 'N[C@@H](C(=O)N[C@@H]1C(=O)N2C(C(=O)O)=C(Cl)CS[C@H]12)c1ccccc1',\n 'CC1=C(C(=O)O)N2C(=O)[C@@H](NC(=O)[C@H](N)c3ccc(O)cc3)[C@H]2SC1',\n 'CC1=C(C(=O)O)N2C(=O)[C@@H](NC(=O)[C@H](N)c3ccccc3)[C@H]2SC1',\n 'CC(=O)OCC1=C(C(=O)O)N2C(=O)[C@@H](NC(=O)Cc3ccccc3)[C@H]2SC1',\n 'Cc1nnc(SCC2=C(C(=O)O)N3C(=O)[C@@H](NC(=O)C(N)c4ccc(O)cc4)[C@H]3SC2)s1',\n 'NC(C(=O)N[C@@H]1C(=O)N2C(C(=O)O)=C(CSc3cn[nH]n3)CS[C@H]12)c1ccc(O)cc1',\n 'Cn1nnnc1SCC1=C(C(=O)[O-])N2C(=O)[C@@H](NC(=O)CSC(F)(F)F)[C@H]2SC1.[Na+]',\n 'Cc1nnc(SCC2=C(C(=O)O)N3C(=O)[C@@H](NC(=O)Cn4cc(Cl)c(=O)c(Cl)c4)[C@H]3SC2)s1',\n 'Cc1nnc(SCC2=C(C(=O)O)N3C(=O)[C@@H](NC(=O)[C@H](O)c4ccccc4)[C@H]3SC2)s1',\n 'Cc1nnc(SCC2=C(C(=O)OCc3oc(=O)oc3C)N3C(=O)C(NC(=O)C(OC(=O)C(C)N)c4ccccc4)C3SC2)s1',\n 'CC/C=C(\\\\C(=O)N[C@@H]1C(=O)N2C(C(=O)O)=C(COC(N)=O)CS[C@H]12)c1csc(N)n1',\n 'COCC1=C(C(=O)O)N2C(=O)[C@@H](NC(=O)/C(=N\\\\O)c3csc(N)n3)[C@H]2SC1',\n 'C=CC1=C(C(=O)O)N2C(=O)[C@@H](NC(=O)/C(=N\\\\O)c3csc(N)n3)[C@H]2SC1',\n 'CO/N=C(\\\\C(=O)NC1C(=O)N2C(C(=O)O)=C(/C=C\\\\c3scnc3C)CS[C@H]12)c1csc(N)n1',\n 'CC1=C(C(=O)O)N2C(=O)[C@@H](NC(=O)[C@H](N)c3ccc(O)c(Cl)c3)[C@H]2SC1',\n 'CO/N=C(\\\\C(=O)N[C@@H]1C(=O)N2C(C(=O)O)=C(C)CS[C@H]12)c1csc(N)n1',\n 'O=C(Cc1cccs1)N[C@@H]1C(=O)N2C(C(=O)O)=C(CSc3ncn[nH]3)CS[C@H]12',\n 'Cn1nnnc1SCC1=C(C(=O)O)N2C(=O)[C@@H](NC(=O)CS/C=C\\\\C#N)[C@H]2SC1',\n 'C=CC1=C(C(=O)O)N2C(=O)[C@@H](NC(=O)/C(=N\\\\OCC(=O)O)c3csc(N)n3)[C@H]2SC1',\n 'CO/N=C(\\\\C(=O)N[C@@H]1C(=O)N2C(C(=O)O)=C(CSc3nnnn3C)CS[C@H]12)c1csc(N)n1',\n 'CO[C@@]1(NC(=O)CSCC#N)C(=O)N2C(C(=O)O)=C(CSc3nnnn3C)CS[C@@H]21',\n 'CO[C@@]1(NC(=O)CSC[C@@H](N)C(=O)O)C(=O)N2C(C(=O)O)=C(CSc3nnnn3C)CS[C@@H]21',\n 'CO/N=C(/C(=O)N[C@@H]1C(=O)N2C(C(=O)O)=C(CSc3nc(C)c(CC(=O)O)s3)CS[C@H]12)c1csc(N)n1',\n 'O=C(O)C1=C(CSc2nnnn2CS(=O)(=O)O)CS[C@@H]2[C@H](NC(=O)C(O)c3ccccc3)C(=O)N12',\n 'NCc1ccccc1CC(=O)N[C@@H]1C(=O)N2C(C(=O)O)=C(CSc3nnnn3CC(=O)O)CS[C@H]12',\n 'CO[C@@]1(NC(=O)C2SC(=C(C(N)=O)C(=O)O)S2)C(=O)N2C(C(=O)O)=C(CSc3nnnn3C)CS[C@@H]21',\n 'CN(C)CCn1nnnc1SCC1=C(C(=O)O)N2C(=O)[C@@H](NC(=O)Cc3csc(N)n3)[C@H]2SC1',\n 'CC(=O)OCC1=C(C(=O)O)N2C(=O)[C@@H](NC(=O)c3c(-c4ccccc4Cl)noc3C)[C@H]2SC1',\n 'Cc1cc(=O)c(C(=O)N[C@@H](C(=O)NC2C(=O)N3C(C(=O)O)=C(CSc4nnnn4C)CS[C@H]23)c2ccc(O)cc2)c[nH]1',\n 'COCC1=C(C(=O)[O-])N2C(=O)[C@@H](NC(=O)/C(=N\\\\OC)c3csc(N)n3)[C@H]2SC1.[Na+]',\n 'C/C=C/C1=C(C(=O)O)N2C(=O)[C@@H](NC(=O)[C@H](N)c3ccc(O)cc3)[C@H]2SC1.O',\n 'CC1=C(C(=O)O)N2C(=O)[C@@H](NC(=O)Cc3ccc(C4=NCCCN4)cc3)[C@H]2SC1',\n 'COC1=C(C(=O)O)N2C(=O)C(NC(=O)C(N)C3C=CCC=C3)C2SC1',\n 'CC1=C(C(=O)O)N2C(=O)[C@@H](NC(=O)[C@H](N)c3cccc(NS(C)(=O)=O)c3)[C@H]2SC1',\n 'CO/N=C(\\\\C(=O)N[C@@H]1C(=O)N2C(C(=O)O)=C(Cn3nnc(C)n3)CS[C@H]12)c1csc(N)n1',\n 'O=C(Cn1cnnn1)N[C@@H]1C(=O)N2C(C(=O)O)=C(CSc3nncs3)CS[C@H]12',\n 'Nc1nc(/C(=C/CC(=O)O)C(=O)N[C@@H]2C(=O)N3C(C(=O)O)=CCS[C@H]23)cs1.O.O',\n 'CO/N=C(\\\\C(=O)N[C@@H]1C(=O)N2C(C(=O)O)=C(CSC(=O)c3ccco3)CS[C@H]12)c1csc(N)n1',\n 'CO/N=C(\\\\C(=O)N[C@@H]1C(=O)N2C(C(=O)O)=C(/C=C/Sc3n[nH]c(=O)c(=O)n3CC=O)CS[C@H]12)c1csc(N)n1',\n 'CO/N=C(\\\\C(=O)N[C@@H]1C(=O)N2C(C(=O)O)=C(COC(C)=O)CS(=O)[C@H]12)c1csc(N)n1',\n 'CO/N=C(\\\\C(=O)N[C@@H]1C(=O)N2C(C(=O)O)=CCS[C@H]12)c1csc(N)n1',\n 'CO/N=C(\\\\C(=O)N[C@@H]1C(=O)N2C(C(=O)O)=C(COC(C)=O)CS[C@H]12)c1ccco1',\n 'CO/N=C(\\\\C(=O)N[C@@H]1C(=O)N2C(C(=O)OC(C)OC(C)=O)=C(COC(N)=O)CS[C@H]12)c1ccco1',\n 'COCCCC(=O)OC(C)OC(=O)C1=C(COC(N)=O)CS[C@@H]2[C@H](NC(=O)/C(=N\\\\OC)c3ccco3)C(=O)N12',\n 'CO/N=C(\\\\C(=O)N[C@@H]1C(=O)N2C(C(=O)O)=C(CSc3cnns3)CS[C@H]12)c1csc(N)n1',\n 'CC(=O)OCC1=C(C(=O)[O-])N2C(=O)[C@H](NC(=O)CC#N)[C@@H]2SC1.[Na+]',\n 'CC(=O)OCC1=C(C(=O)O)N2C(=O)[C@@H](NC(=O)[C@H](N)c3ccccc3)[C@H]2SC1.O.O',\n 'CC(=O)OCC1=C(C(=O)O)N2C(=O)[C@@H](NC(=O)CCC[C@@H](N)C(=O)O)[C@H]2SC1',\n 'CC(=O)OCC1=C(C(=O)O)N2C(=O)[C@@H](NC(=O)Cc3cccs3)[C@H]2SC1',\n 'CC(=O)C1=C(O)[C@@]2(O)C(=O)c3c(c(C)c4ccc(C)c(O)c4c3O)C[C@H]2[C@@H](N)C1=O',\n 'CC[C@H]1OC(=O)[C@H](C)[C@@H](O[C@H]2C[C@@](C)(OC)[C@@H](O)[C@H](C)O2)[C@H](C)[C@@H](O[C@@H]2O[C@H](C)C[C@H](N(C)C)[C@H]2O)[C@](C)(OC)C[C@@H](C)C(=O)[C@H](C)[C@@H](O)[C@]1(C)O',\n 'CCC[C@@H]1C[C@@H](C(=O)NC(C(C)Cl)[C@H]2O[C@H](SC)[C@H](O)[C@@H](O)[C@H]2O)N(C)C1',\n 'CCC[C@@H]1C[C@@H](C(=O)NC(C(C)Cl)[C@H]2O[C@H](SC)[C@H](OP(=O)(O)O)[C@@H](O)[C@H]2O)N(C)C1',\n 'COC(C(=O)N[C@@H]1C(=O)N2[C@@H]1SC(C)(C)[C@@H]2C(=O)O)c1ccc(Cl)c(Cl)c1',\n 'CN(C)[C@@H]1C(=O)/C(=C(/O)NCO)C(=O)[C@@]2(O)C(=O)C3=C(O)c4c(O)ccc(Cl)c4[C@@](C)(O)[C@H]3C[C@@H]12',\n 'CC1(C)S[C@@H]2[C@H](NC(=O)C3(N)CCCCC3)C(=O)N2[C@H]1C(=O)O',\n 'CC=CCC(C)C(O)C1C(=O)NC(CC)C(=O)N(C)CC(=O)N(C)C(CC(C)C)C(=O)NC(C(C)C)C(=O)N(C)C(CC(C)C)C(=O)NC(C)C(=O)NC(C)C(=O)N(C)C(CC(C)C)C(=O)N(C)C(CC(C)C)C(=O)N(C)C(C(C)C)C(=O)N1C',\n 'Cc1c2oc3c(C)ccc(C(=O)NC4C(=O)NC(C(C)C)C(=O)N5CCCC5C(=O)N(C)CC(=O)N(C)C(C(C)C)C(=O)OC4C)c3nc-2c(C(=O)NC2C(=O)NC(C(C)C)C(=O)N3CCCC3C(=O)N(C)CC(=O)N(C)C(C(C)C)C(=O)OC2C)c(N)c1=O',\n 'CN(C)[C@@H]1C(=O)/C(=C(\\\\N)O)C(=O)[C@@]2(O)C(=O)C3=C(O)c4c(O)cccc4[C@@H](O)[C@H]3C[C@@H]12',\n 'CCOC(OCC)C(=O)OCC(=O)C1(O)Cc2c(O)c3c(c(O)c2C(OC2CC(N)C(O)C(C)O2)C1)C(=O)c1c(OC)cccc1C3=O',\n 'NCC1CCC(N)C(OC2C(N)CC(N)C(OC3OC(CO)C(O)C(N)C3O)C2O)O1',\n 'Cc1onc(-c2c(Cl)cccc2Cl)c1C(=O)N[C@@H]1C(=O)N2[C@@H]1SC(C)(C)[C@@H]2C(=O)O',\n 'CN[C@@H]1[C@H](O[C@H]2[C@H](O[C@@H]3[C@@H](O)[C@H](O)[C@@H](N=C(N)N)[C@H](O)[C@H]3N=C(N)N)O[C@@H](C)[C@]2(O)CO)O[C@@H](CO)[C@H](O)[C@H]1O',\n 'COc1ccc(-c2cc(=O)c3c(O)cc(O[C@@H]4O[C@H](CO[C@@H]5O[C@@H](C)[C@H](O)[C@@H](O)[C@H]5O)[C@@H](O)[C@H](O)[C@H]4O)cc3o2)cc1O',\n 'CNCC(O)c1ccc(OC(=O)C(C)(C)C)c(OC(=O)C(C)(C)C)c1',\n 'CCC(=O)O[C@H]1[C@H](C)O[C@@H](O[C@@H]2C(C)C(=O)O[C@H](C)[C@H](C)[C@H](OC(=O)CC)[C@@H](C)C(=O)[C@]3(CO3)CC(C)[C@H](O[C@@H]3O[C@H](C)C[C@H](N(C)C)[C@H]3O)[C@H]2C)C[C@@H]1OC',\n 'OCCN(CCO)c1nc(N2CCCCC2)c2nc(N(CCO)CCO)nc(N3CCCCC3)c2n1',\n 'CC[C@H]1OC(=O)[C@H](C)[C@@H](O[C@H]2C[C@@](C)(OC)[C@@H](O)[C@H](C)O2)[C@H](C)[C@@H](O[C@@H]2O[C@H](C)C[C@H](N(C)C)[C@H]2O)[C@](C)(O)C[C@@H](C)[C@@H]2N[C@@H](COCCOC)O[C@H]([C@H]2C)[C@]1(C)O',\n 'CC(=O)O[C@@]12CO[C@@H]1C[C@H](O)[C@@]1(C)C(=O)[C@H](O)C3=C(C)[C@@H](OC(=O)[C@H](O)[C@@H](NC(=O)OC(C)(C)C)c4ccccc4)C[C@@](O)([C@@H](OC(=O)c4ccccc4)[C@H]21)C3(C)C',\n 'C/C=C/C=C/C1OC(O)(C(CC)C(=O)NC/C=C/C=C(\\\\C)C(OC)C(C)C2OC(/C=C/C=C/C=C(\\\\C)C(=O)c3c(O)n(C)ccc3=O)C(O)C2O)C(O)C(OC2OC(C)C(OC3OC(C)C(OC)C(O)C3OC)C(OC)C2O)C1(C)C',\n 'CC[C@H]1CN2CCc3cc(OC)c(OC)cc3[C@@H]2C[C@@H]1C[C@H]1NCCc2cc(OC)c(OC)cc21.[Cl]',\n 'CC1(C)S[C@@H]2[C@H](NC(=O)[C@H](N)C3=CCC=CC3)C(=O)N2[C@H]1C(=O)O',\n 'CCC(C)[C@H]1O[C@]2(CC[C@@H]1C)CC1C[C@@H](C/C=C(\\\\C)[C@@H](O[C@H]3C[C@H](OC)[C@@H](OC4C[C@H](OC)[C@@H](O)[C@H](C)O4)[C@H](C)O3)[C@@H](C)/C=C/C=C3\\\\CO[C@@H]4[C@H](O)C(C)=C[C@@H](C(=O)O1)[C@]34O)O2.CO[C@H]1CC(O[C@H]2[C@H](C)O[C@@H](O[C@@H]3/C(C)=C/C[C@@H]4CC(C[C@]5(CC[C@H](C)[C@@H](C(C)C)O5)O4)OC(=O)[C@@H]4C=C(C)[C@@H](O)[C@H]5OC/C(=C\\\\C=C\\\\[C@@H]3C)[C@]54O)C[C@@H]2OC)O[C@@H](C)[C@@H]1O',\n 'COc1cccc2c1C(=O)c1c(O)c3c(c(O)c1C2=O)C[C@](O)(C(=O)CO)C[C@H]3OC1CC(N)CC(C)O1',\n 'CN(CCN(C)CN/C(O)=C1\\\\C(=O)[C@@H](N(C)C)[C@@H]2C[C@H]3C(=C(O)c4c(O)cccc4[C@@]3(C)O)C(=O)[C@]2(O)C1=O)CN/C(O)=C1\\\\C(=O)[C@@H](N(C)C)[C@@H]2C[C@H]3C(=C(O)c4c(O)cccc4[C@@]3(C)O)C(=O)[C@]2(O)C1=O',\n 'CCNCC(O)c1cccc(O)c1',\n 'CCOC(=O)C1=C(C)NC(C)=C(C(=O)OC)C1c1cccc(Cl)c1Cl',\n 'CC1(C)S[C@@H]2[C@H](NC(=O)C(Oc3ccccc3)c3ccccc3)C(=O)N2[C@H]1C(=O)O',\n 'CC(C)c1ccccc1OCC1=NCCN1',\n 'CC(C)(C(=O)O)c1ccc(C(O)CCCN2CCC(C(O)(c3ccccc3)c3ccccc3)CC2)cc1',\n 'CC(C)(Oc1ccc(Cl)cc1)C(=O)N[C@@H](C(=O)N[C@@H]1C(=O)N2[C@@H]1SC(C)(C)[C@@H]2C(=O)O)c1ccccc1',\n 'CO[C@@]1(NC(=O)CSC(F)(F)F)C(=O)N2C(C(=O)O)=C(CSc3nnnn3CCO)CO[C@@H]21.[Na]',\n 'CC[C@H]1OC(=O)[C@H](C)[C@@H](O[C@H]2C[C@@](C)(OC)[C@@H](O)[C@H](C)O2)[C@H](C)[C@@H](O[C@@H]2O[C@H](C)C[C@H](N(C)C)[C@H]2O)[C@](C)(O)C[C@](C)(F)C(=O)[C@H](C)[C@@H](O)[C@]1(C)O',\n 'C[C@@H](O)[C@H]1C(=O)N2C(C(=O)O)=C([C@H]3CCCO3)S[C@H]12',\n 'CC1(C)S[C@@H]2[C@H](NC(=O)[C@@H](N=Cc3ccco3)c3ccc(O)cc3)C(=O)N2[C@H]1C(=O)O',\n 'CC(C)CC(OC(=O)c1ccco1)C(=O)N[C@@H]1C(=O)N2[C@@H]1SC(C)(C)[C@@H]2C(=O)O',\n 'CC(=O)O[C@H]1C[C@@]2(C)[C@@H](C[C@@H](O)[C@H]3[C@@]4(C)CC[C@@H](O)[C@@H](C)[C@@H]4CC[C@@]32C)/C1=C(\\\\CCC=C(C)C)C(=O)O',\n 'CNC(C)C1CCC(N)C(OC2C(N)CC(N)C(OC3OCC(C)(O)C(NC)C3O)C2O)O1',\n 'CO/N=C(\\\\C(=O)N[C@@H]1C(=O)N(OCC(=O)OCC(=O)OC(C)(C)C)[C@H]1C)c1csc(N)n1',\n 'CC(C)CC1NC(=O)C(CCCN)NC(=O)C(C(C)C)NC(=O)C2CCCN2C(=O)C(Cc2ccccc2)NC(=O)C(CC(C)C)NC(=O)C(CCCN)NC(=O)C(C(C)C)NC(=O)C2CCCN2C(=O)C(Cc2ccccc2)NC1=O',\n 'Cc1c(F)c(N2CCNC(C)C2)cc2c1c(=O)c(C(=O)O)cn2C1CC1',\n 'CN(C)C1C(=O)/C(=C(/O)NCN2CCN(C(=N)N=C(N)N)CC2)C(=O)C2(O)C(=O)C3=C(O)c4c(O)cccc4C(C)(O)C3CC12',\n 'CC1(C)S[C@@H]2[C@H](N3C(=O)[C@@H](c4ccccc4)NC3(C)C)C(=O)N2[C@H]1C(=O)O',\n 'CC(Cc1ccccc1)NO',\n 'CNC(C)C(O)c1ccc(O)cc1',\n 'Cc1cc(=O)oc2cc(O)ccc12',\n 'CC(=O)[C@]1(O)Cc2c(O)c3c(c(O)c2[C@@H](O[C@H]2C[C@H](N)[C@H](O)[C@H](C)O2)C1)C(=O)c1ccccc1C3=O',\n 'C[C@H](O)[C@H]1C(=O)N2C(C(=O)O)=C(SCCN=CN)C[C@H]12.O',\n 'CNC1C(O)C(OC2C(NC(=O)C(O)CN)CC(N)C(OC3OC(CN)C(O)C(O)C3O)C2O)OCC1(C)O',\n 'CC(C)(Oc1ccccc1)C(=O)N[C@@H]1C(=O)N2[C@@H]1SC(C)(C)[C@@H]2C(=O)O',\n 'CO[C@@H]1[C@@H](O[C@@H]2O[C@H](C)[C@@H](O[C@H]3C[C@@](C)(O)[C@@H](OC(=O)CC(C)C)[C@H](C)O3)[C@H](N(C)C)[C@H]2O)[C@@H](CC=O)C[C@@H](C)[C@@H](O)/C=C/C=C/C[C@@H](C)OC(=O)C[C@H]1OC(C)=O',\n 'Cc1oc(=O)oc1COC(=O)[C@@H]1N2C(=O)[C@@H](NC(=O)[C@H](N)c3ccccc3)[C@H]2SC1(C)C',\n 'CNCC[C@@H](O)[C@@H]1C[C@H](SC2=C(C(=O)O)N3C(=O)[C@H]([C@@H](C)O)[C@H]3[C@H]2C)CN1',\n 'COc1cccc2c1C(=O)c1c(O)c3c(c(O)c1C2=O)C[C@@](O)(C(=O)CO)C[C@@H]3O[C@H]1C[C@H](NC(=O)[C@@H](N)CC(C)C)[C@H](O)[C@H](C)O1',\n 'CC[C@H]1OC(=O)[C@H](C)[C@@H](OC2CC(C)(OC)C(O)C(C)O2)C(C)[C@@H](OC2OC(C)CC(N(C)C)C2O)[C@](C)(O)C[C@@H](C)/C(=N\\\\OC)[C@H](C)[C@@H](O)[C@]1(C)O',\n 'CCCC1CC(C(=O)NC(C(C)O)C2OC(SC)C(O)C(O)C2O)N(C)C1',\n 'N[C@@H](C(=O)NC1C(=O)N2C(C(=O)O)=C(Cl)CCC12)c1ccccc1.O',\n 'CCCCc1nc(Cl)c(CO)n1Cc1ccc(-c2ccccc2-c2nn[nH]n2)cc1',\n 'CN(C)[C@@H]1C(=O)/C(=C(/N)O)C(=O)[C@@]2(O)C(=O)C3=C(O)c4c(O)ccc(Cl)c4[C@@](C)(O)[C@H]3C[C@@H]12.[Cl-].[H+]',\n 'CC1(C)S[C@@H]2[C@H](N=CN3CCCCCC3)C(=O)N2[C@H]1C(=O)O',\n 'CC(CN(C)C)OC(C)(c1ccccc1)c1ccc(Cl)cc1',\n 'CC1OC(OC2CC(O)(C(=O)CO)Cc3c(O)c4c(c(O)c32)C(=O)c2ccccc2C4=O)CC(N)C1O',\n 'C[C@H](O)C1C(=O)N2C(C(=O)O)=C(S[C@@H]3CN[C@H](C(=O)N(C)C)C3)[C@H](C)C12.O.O.O',\n 'C=NC(C(=O)NC1C(=O)N2C1SC(C)(C)C2C(=O)O)c1ccccc1',\n 'C=C1c2cccc(O)c2C(O)=C2C(=O)[C@]3(O)C(=O)/C(=C(/N)O)C(=O)[C@@H](N(C)C)[C@@H]3[C@@H](O)[C@H]12',\n 'CNC(C)C(=O)c1ccc(OC)cc1',\n 'COc1cccc(OC)c1C(=O)N[C@@H]1C(=O)N2[C@@H]1SC(C)(C)[C@@H]2C(=O)O',\n 'CC1(C)S[C@@H]2[C@H](NC(=O)[C@H](NC(=O)N3CCN(S(C)(=O)=O)C3=O)c3ccccc3)C(=O)N2[C@H]1C(=O)O',\n 'COCC(=O)O[C@]1(CCN(C)CCCc2nc3ccccc3[nH]2)CCc2cc(F)ccc2[C@@H]1C(C)C',\n 'CCC(=O)OC1CC(=O)OC(C)C/C=C/C=C\\\\C(O)C(C)CC(CC=O)C(O[C@@H]2O[C@H](C)[C@@H](O[C@H]3C[C@@](C)(O)[C@H](OC(=O)CC)[C@@H](C)O3)[C@H](N(C)C)[C@H]2O)C1OC',\n 'CCC1NC(=O)C(NC(=O)c2ncccc2O)C(C)OC(=O)C(c2ccccc2)NC(=O)C2CC(=O)CCN2C(=O)C(Cc2ccc(N(C)C)cc2)N(C)C(=O)C2CCCN2C1=O',\n 'CCCCCC1CNC(C(=O)NC(C(C)Cl)C2OC(SC)C(O)C(O)C2O)C1',\n 'CO[C@@]12[C@H](COC(N)=O)C3=C(C(=O)C(C)=C(N)C3=O)N1C[C@@H]1N[C@@H]12',\n 'CO[C@@]1(NC(=O)C(C(=O)O)c2ccc(O)cc2)C(=O)N2C(C(=O)O)=C(CSc3nnnn3C)CO[C@@H]21',\n 'NC[C@H]1O[C@H](O[C@H]2[C@H](O)[C@@H](O)[C@H](N)C[C@@H]2N)[C@H](N)[C@@H](O)[C@@H]1O',\n 'CCN[C@@H]1C[C@H](N)[C@@H](O[C@H]2OC(CN)=CC[C@H]2N)[C@H](O)[C@H]1O[C@H]1OC[C@](C)(O)[C@H](NC)[C@H]1O',\n 'COC(=O)C1=C(C)NC(C)=C(C(=O)OCCN(C)Cc2ccccc2)C1c1cccc([N+](=O)[O-])c1',\n 'COC(=O)C1=C(C)NC(C)=C(C(=O)OC)C1c1ccccc1[N+](=O)[O-]',\n 'CCOC(=O)C1=C(C)NC(C)=C(C(=O)OC)C1c1cccc([N+](=O)[O-])c1',\n 'CN(C)[C@@H]1C(=O)/C(=C(\\\\N)O)C(=O)[C@@]2(O)C(=O)C3=C(O)c4c(O)ccc([N+](=O)[O-])c4C[C@H]3C[C@@H]12',\n 'CO[C@@H]1[C@@H](OC(N)=O)[C@@H](O)[C@H](Oc2ccc3c(=O)c(NC(=O)c4ccc(O)c(CC=C(C)C)c4)c(O)oc3c2C)OC1(C)C',\n 'COC1CC(O[C@H]2[C@H](C)[C@@H](OC3OC(C)CC(N(C)C)C3O)[C@@H](C)C[C@]3(CO3)C(=O)[C@H](C)[C@@H](O)[C@@H](C)[C@@H](C)OC(=O)[C@@H]2C)OC(C)C1O',\n 'CC1(C)S[C@@H]2[C@H]([NH+]3C(=O)C(c4ccc(O)cc4)NC3(C)C)C(=O)N2[C@H]1C(=O)O',\n 'CO/N=C(\\\\C(=O)NC1C(=O)N(OCC(=O)O)[C@H]1C)c1csc(N)n1',\n 'CC(=O)O[C@H]1C(=O)[C@@]2(C)C([C@H](OC(=O)c3ccccc3)[C@]3(O)C[C@H](OC(=O)[C@H](O)[C@@H](NC(=O)c4ccccc4)c4ccccc4)C(C)=C1C3(C)C)[C@]1(OC(C)=O)CO[C@@H]1C[C@@H]2O',\n 'CN(C)[C@@H]1C(=O)/C(=C(/O)NCN2CCCC(C(=O)O)C2)C(=O)[C@@]2(O)C(=O)C3=C(O)c4c(O)cccc4[C@@](C)(O)[C@H]3C[C@@H]12',\n 'CC(=O)OCOC(=O)C1N2C(=O)C(NC(=O)Cc3ccccc3)C2SC1(C)C',\n 'CC1(C)SC2C(NC(=O)Cc3ccccc3)C(=O)N2C1C(=O)O.[Na]',\n 'CN(C)[C@@H]1C(=O)/C(=C(/O)NCNC(C(=O)NC2C(=O)N3C2SC(C)(C)C3C(=O)O)c2ccccc2)C(=O)[C@@]2(O)C(=O)C3=C(O)c4c(O)cccc4[C@@](C)(O)[C@H]3C[C@@H]12',\n 'CC(Oc1ccccc1)C(=O)NC1C(=O)N2C1SC(C)(C)C2C(=O)O',\n 'CN(C)C1C(=O)/C(=C(/O)NCN2CCN(CCO)CC2)C(=O)C2(O)C(=O)C3=C(O)c4c(O)cccc4C(C)(O)C3CC12',\n 'COc1cccc2c1C(=O)c1c(O)c3c(c(O)c1C2=O)C[C@@](O)(C(=O)CO)C[C@@H]3O[C@H]1C[C@H](N)[C@H](O[C@H]2CCCCO2)[C@H](C)O1',\n 'CC1(C)SC2C(N(C(=N)c3ccncc3)[C@H](C(=O)NC(=O)CN)c3ccccc3)C(=O)N2C1C(=O)O',\n 'CC1(C)S[C@@H]2[C@H](NC(=O)[C@H](NC(=O)c3ccc(-c4ccc(S(=O)(=O)N(CCO)CCO)cc4)[nH]c3=O)c3ccc(O)cc3)C(=O)N2[C@H]1C(=O)[O-].[Na+]',\n 'CC1(C)S[C@@H]2[C@H](NC(=O)[C@H](NC(=O)Nc3cnc(Nc4ccc(S(N)(=O)=O)cc4)[nH]c3=O)c3ccc(O)cc3)C(=O)N2[C@H]1C(=O)O',\n 'CC(C)(C)C(=O)OCOC(=O)[C@@H]1N2C(=O)[C@@H](NC(=O)[C@H](N)c3ccccc3)[C@H]2SC1(C)C',\n 'CNCC(O)c1cccc(OC(=O)C(C)(C)C)c1',\n 'Cc1cnn(-c2c(Cl)cccc2Cl)c1C(=O)N[C@@H]1C(=O)N2[C@@H]1SC(C)(C)[C@@H]2C(=O)O',\n 'CC1NC(=O)C(NC(=O)c2ncccc2O)C(C)OC(=O)C(c2ccccc2)NC(=O)C2CC(=O)CCN2C(=O)C(Cc2ccc(N(C)C)cc2)N(C)C(=O)C2CCCN2C1=O',\n 'CCCNCC(O)COc1ccccc1C(=O)CCc1ccccc1',\n 'CCC(Oc1ccccc1)C(=O)NC1C(=O)N2C1SC(C)(C)C2C(=O)O',\n 'NCC1OC(OC2C(N)CC(NC(CO)CO)C(OC3OC(CO)C(O)C(N)C3O)C2O)C(N)C(O)C1O',\n 'CC1(C)S[C@@H]2[C@H](NC(=O)c3nc4ccccc4nc3C(=O)O)C(=O)N2[C@H]1C(=O)O',\n 'CO[C@H]1/C=C/O[C@@]2(C)Oc3c(C)c(O)c4c(c3C2=O)C2=NC3(CCN(CC(C)C)CC3)NC2=C(NC(=O)/C(C)=C\\\\C=C\\\\[C@H](C)[C@H](O)[C@@H](C)[C@@H](O)[C@@H](C)[C@H](OC(C)=O)[C@@H]1C)C4=O',\n 'CCN(CC)C(C)=NN=Cc1c2c(O)c3c(O)c(C)c4c(c3c1O)C(=O)C(C)(OC=CC(OC)C(C)C(OC(C)=O)C(C)C(O)C(C)C(O)C(C)C=CC=C(C)C(=O)N2)O4',\n 'CCN(CC)c1nc2c(s1)c1c(O)c3c(O)c(C)c4c(c32)C(=O)[C@@](C)(O/C=C/[C@H](OC)[C@@H](C)[C@@H](OC(C)=O)[C@H](C)[C@H](O)[C@H](C)[C@@H](O)[C@@H](C)/C=C/C=C(/C)C(=O)N1)O4',\n 'CCN(CC)C(=O)COc1cc2c(O)c3c(O)c(C)c4c(c13)C(=O)[C@@](C)(O/C=C/[C@H](OC)[C@@H](C)[C@@H](OC(C)=O)[C@H](C)[C@H](O)[C@H](C)[C@@H](O)[C@@H](C)/C=C/C=C(/C)C(=O)N2)O4',\n 'COC1C=COC2(C)Oc3c(C)c(O)c4c(O)c(c(C=NN5CCN(C)CC5)c(O)c4c3C2=O)NC(=O)C(C)=CC=CC(C)C(O)C(C)C(O)C(C)C(OC(C)=O)C1C',\n 'CO[C@H]1/C=C/O[C@@]2(C)Oc3c(C)c(O)c4c(O)c(cc(O)c4c3C2=O)NC(=O)/C(C)=C\\\\C=C\\\\[C@H](C)[C@H](O)[C@@H](C)[C@@H](O)[C@@H](C)[C@H](OC(C)=O)[C@@H]1C',\n 'CO[C@H]1/C=C/O[C@@]2(C)Oc3c(C)c(O)c4c(c3C2=O)C(=O)/C(=C/NN2CCN(C3CCCC3)CC2)C(=C4O)NC(=O)/C(C)=C\\\\C=C\\\\[C@H](C)[C@H](O)[C@@H](C)[C@@H](O)[C@@H](C)[C@H](OC(C)=O)[C@@H]1C',\n 'CO[C@H]1/C=C/O[C@@]2(C)Oc3c(C)c(O)c4c(O)c(c5c(nc6cc(C)ccn65)c4c3C2=O)NC(=O)/C(C)=C\\\\C=C\\\\[C@H](C)[C@H](O)[C@@H](C)[C@@H](O)[C@@H](C)[C@H](OC(C)=O)[C@@H]1C',\n 'C[C@@H](O)[C@H]1C(=O)N2C(C(=O)[O-])=C(COC(N)=O)S[C@H]12.[Na+]',\n 'CC[C@@]1(O)C[C@H](O[C@H]2C[C@H](N(C)C)[C@H](O[C@H]3C[C@@H]4O[C@H]5CC(=O)[C@H](C)O[C@H]5O[C@@H]4[C@H](C)O3)[C@H](C)O2)c2c(O)c3c(c(O)c2[C@H]1O[C@H]1C[C@H](N(C)C)[C@H](O)[C@H](C)O1)C(=O)c1cccc(O)c1C3=O',\n 'CC1(C)S[C@@H]2[C@H](NC(=O)[C@H](NC(=O)Cc3ccc(C4=NCCCN4)cc3)c3ccccc3)C(=O)N2[C@H]1C(=O)O',\n 'CC[C@H]1OC(=O)[C@H](C)[C@@H](O[C@H]2C[C@@](C)(OC)[C@@H](O)[C@H](C)O2)[C@H](C)[C@@H](O[C@@H]2O[C@H](C)C[C@H](N(C)C)[C@H]2O)[C@](C)(O)C[C@@H](C)/C(=N/OCOCCOC)[C@H](C)[C@@H](O)[C@]1(C)O',\n 'COC1CCCC2C1=C(C(=O)[O-])N1C(=O)C(C(C)O)C21',\n 'COCOC(=O)C1N2C(=O)C(N3C(=O)C(c4ccc(O)cc4)NC3(C)C)C2SC1(C)C',\n 'COCOC(=O)[C@@H]1N2C(=O)[C@@H](N3C(=O)C(c4ccccc4)NC3(C)C)[C@H]2SC1(C)C',\n 'CC(=O)OC1/C=C/C(C)=C/CC(O)/C=C/C(C)=C/C(NC(=O)C(C)=O)C2(C)C(=O)OC(C1)C(C)C2=O',\n 'CN[C@@H]1[C@@H](O)[C@@H](O[C@@H]2[C@@H](O)[C@H](O[C@H]3OC(CN)=CC[C@H]3N)[C@@H](N)C[C@H]2N)OC[C@]1(C)O',\n 'COC1C(O)CC(=O)OC(C)C/C=C/C=C/C(OC2CCC(N(C)C)C(C)O2)C(C)CC(CC=O)C1OC1OC(C)C(OC2CC(C)(O)C(O)C(C)O2)C(N(C)C)C1O',\n 'CC1(C)S[C@@H]2[C@H](NC(=O)C(c3ccccc3)S(=O)(=O)O)C(=O)N2[C@H]1C(=O)O',\n 'C[C@@H](O)[C@H]1C(=O)N2C(C(=O)O)=C(SC3CCS(=O)C3)S[C@H]12',\n 'CC1(C)S[C@@H]2[C@H](NC(=O)[C@H](N)c3ccccc3)C(=O)N2[C@H]1C(=O)O.CC1(C)[C@H](C(=O)O)N2C(=O)C[C@H]2S1(=O)=O',\n 'CC1(C)S[C@@H]2[C@H](NC(=O)[C@H](NS(=O)(=O)[O-])c3ccccc3)C(=O)N2[C@H]1C(=O)[O-].[Na+].[Na+]',\n 'C=CC[C@@H]1/C=C(\\\\C)C[C@H](C)C[C@H](OC)[C@H]2O[C@@](O)(C(=O)C(=O)N3CCCC[C@H]3C(=O)O[C@H](/C(C)=C/[C@@H]3CC[C@@H](O)[C@H](OC)C3)[C@H](C)[C@@H](O)CC1=O)[C@H](C)C[C@@H]2OC',\n 'CC1(C)S[C@@H]2[C@H](NC(=O)[C@H](N)c3ccccc3)C(=O)N2[C@H]1C(=O)OC1OC(=O)c2ccccc21',\n 'C[C@]1(Cn2ccnn2)[C@H](C(=O)O)N2C(=O)C[C@H]2S1(=O)=O',\n 'CCCCCCCCCC(=O)N[C@H]1[C@H](Oc2c3cc4cc2Oc2ccc(cc2Cl)[C@@H](O[C@@H]2O[C@H](CO)[C@@H](O)[C@H](O)[C@H]2NC(C)=O)[C@@H]2NC(=O)[C@H](NC(=O)[C@@H]4NC(=O)[C@H]4NC(=O)[C@@H](Cc5ccc(c(Cl)c5)O3)NC(=O)[C@H](N)c3ccc(O)c(c3)Oc3cc(O)cc4c3)c3ccc(O)c(c3)-c3c(O[C@H]4O[C@H](CO)[C@@H](O)[C@H](O)[C@@H]4O)cc(O)cc3[C@H](C(=O)O)NC2=O)O[C@H](CO)[C@@H](O)[C@@H]1O',\n 'CO[C@@]1(NC(=O)C(C(=O)O)c2ccsc2)C(=O)N2[C@@H](C(=O)O)C(C)(C)S[C@@H]21',\n 'Cn1c(=O)c2c(ncn2CCNCC(O)c2ccc(O)c(O)c2)n(C)c1=O',\n 'CC1(C)SC2C(NC(=O)CSc3ccccc3)C(=O)N2C1C(=O)O',\n 'CC1(C)[C@H](NC(=O)/C(=N\\\\OCC(=O)O)c2csc(N)n2)C(=O)N1OS(=O)(=O)O',\n 'CC(C)C(=O)OCc1cccc(OC(=O)[C@@H]2N3C(=O)[C@@H](NC(=O)Cc4ccccc4)[C@H]3SC2(C)C)c1',\n 'NC[C@H]1O[C@H](O[C@H]2[C@H](O)[C@@H](O[C@H]3O[C@H](CO)[C@@H](O)[C@H](N)[C@H]3O)[C@H](N)C[C@@H]2N)[C@H](N)C[C@@H]1O',\n 'Cc1ccc(C(=O)c2cc(O)c(O)c([N+](=O)[O-])c2)cc1',\n 'CO[C@H]1C[C@H](O[C@H]2[C@H](C)[C@@H](O[C@@H]3O[C@H](C)C[C@H](N(C)C)[C@H]3OC(C)=O)[C@@H](C)C[C@@]3(CO3)C(=O)[C@H](C)[C@@H](OC(C)=O)[C@@H](C)[C@@H](C)OC(=O)[C@@H]2C)O[C@@H](C)[C@@H]1OC(C)=O',\n 'CCCC[C@@H]1CC(=O)[C@]2(O)O[C@@H]3[C@@H](NC)[C@@H](O)[C@@H](NC)[C@H](O)[C@H]3O[C@@H]2O1',\n 'Cc1ccc(C(C)C)c(OCC2=NCCN2)c1',\n 'CC[C@]1(O)C[C@H]2CN(CCc3c([nH]c4ccccc34)[C@@](C(=O)OC)(c3cc4c(cc3OC)N(C)[C@H]3[C@@](O)(C(N)=O)[C@H](O)[C@]5(CC)C=CCN6CC[C@]43[C@@H]65)C2)C1',\n 'CC1=C/C(O)CC(=O)Cc2nc(co2)C(=O)N2CCC=C2C(=O)OC(C(C)C)C(C)/C=C\\\\C(=O)NC/C=C\\\\1',\n '[C-]#[N+]C(=C\\\\c1ccc(O)cc1)/C(=C/c1ccc(O)cc1)[N+]#[C-]',\n 'COc1cccc2c1C(=O)c1c(O)c3c(c(O)c1C2=O)C[C@@](O)(/C(C)=N/NC(=O)c1ccccc1)C[C@@H]3O[C@H]1C[C@H](N)[C@H](O)[C@H](C)O1.[Cl-].[H+]',\n 'FC(F)(Cl)C(F)(F)Cl',\n 'C[C@H]1CCCC[C@@]1(c1cccs1)N1CCCCC1',\n 'CC(Cc1ccccc1)NCCn1cnc2c1c(=O)n(C)c(=O)n2C.[Cl-].[H+]',\n 'CC(=O)NCCCN1CCN(c2cc(Cl)ccc2Cl)CC1',\n 'CC(=O)OC1CC[C@@]2(C)C([C@@H]1Br)[C@H](Br)C[C@H]1[C@@H]3CC[C@H]([C@H](C)CCCC(C)C)[C@@]3(C)CC[C@@H]12',\n 'CCC(Br)(CC)C(=O)NC(=O)NC(C)=O',\n 'CC(=O)OCC(=O)OCC/C(SC(=O)c1ccco1)=C(/C)N(C=O)Cc1cnc(C)nc1N',\n 'CC(=O)NC(CCC(N)=O)C(=O)O',\n 'CC(=O)NCC1(c2ccccc2)CCN(CCCC(=O)c2ccc(F)cc2)CC1',\n 'CC(=O)Nc1ccc(OC(=O)c2ccccc2O)cc1',\n 'CC(=O)Nc1nnc(S(N)(=O)=O)s1',\n 'CC(=O)OCC/C(SC(C)=O)=C(/C)N(C=O)Cc1cnc(C)nc1N',\n 'CC(=O)SCC(Cc1ccccc1)C(=O)NCC(=O)OCc1ccccc1',\n 'CCC[C@@](C)(O)[C@H]1CC23C=CC1(OC)[C@H]1Oc4c(OC(C)=O)ccc5c4C12CCN(C)C3C5',\n 'CCC(OC(C)=O)C(CC(C)N(C)C)(c1ccccc1)c1ccccc1',\n 'CC(=O)OCC1=CO[C@@H](OC(=O)CC(C)C)[C@H]2C1=C[C@H](OC(=O)CC(C)(C)OC(C)=O)[C@]21CO1',\n 'C=CC1O[C@@H]2CC3C4CCC5=CC(=O)C=CC5(C)C4(F)C(O)CC3(C)[C@]2(C(=O)CO)O1',\n 'Nc1nc(=O)c2ncn(COCCO)c2[nH]1',\n 'O=C(COc1ccc(Cl)cc1)OCCNC12CC3CC(CC(C3)C1)C2',\n 'O=C(NCCN1CCN(c2ncccn2)CC1)C12CC3CC(CC(C3)C1)C2',\n 'CC(N)C(=O)OC(C)(C)Cc1ccc(Cl)cc1',\n 'CCC(=O)OCC(=O)[C@@]1(OC(=O)CC)[C@H](C)C[C@H]2[C@H]3[C@H]([C@@H](O)C[C@@]21C)[C@@]1(C)C=CC(=O)C=C1C[C@H]3Cl',\n 'CCCN(CCC)C1Cc2cccc3cc(O)cc(c23)C1',\n 'CC12CC(=O)[C@H]3C(CC[C@H]4C[C@H](O)CCC43C)[C@@H]1CCC2C(=O)CO',\n 'CC(=O)[C@H]1CC[C@H]2[C@@H]3CC[C@H]4C[C@H](O)CC[C@]4(C)[C@H]3C(=O)C[C@]12C',\n 'CC(=O)C12OC(C)(C)OC1CC1C3CCC4=CC(=O)CCC4(C)C3CCC12C',\n 'COC1(F)C(F)(F)C1(F)Cl',\n 'C=CCN1CCC23c4c5ccc(O)c4OC2C2(OC)C=CC3(CC2[C@](C)(O)CCC)C1C5',\n 'C=CCN1C(=O)OC(C)C1=O',\n 'CNC[C@@H]1CN(c2ccc(OCc3cccc(Cl)c3)cc2)C(=O)O1',\n 'CCCN(CCCCN1C(=O)CC2(CCCC2)CC1=O)C1COc2cccc(OC)c2C1.[Cl-].[H+]',\n 'O=C1CCC2(CCC(=O)c3ccccc32)C(=O)N1',\n 'CC(=O)NCCn1c(C)cc(C=O)c1C',\n 'CC(CC#N)N(C)CC(=O)N(C)c1ccc(Cl)cc1C(=O)c1ccccc1F',\n 'CCC(=O)O[C@]1(c2ccccc2)CCN(C)C[C@@H]1CC',\n 'CC[C@@H](O)C(C[C@@H](C)N(C)C)(c1ccccc1)c1ccccc1',\n 'C=CCN1CCCC1CNC(=O)c1cc(S(=O)(=O)NC)c(N)cc1OC',\n 'O=C(O)CN1C(=O)c2cccc3cccc(c23)C1=O',\n 'CCC1(CC)O[C@@H]2C[C@H]3C4CCC5=CC(=O)C=CC5(C)[C@@]4(F)[C@@H](O)CC3(C)[C@]2(C(=O)CO)O1',\n 'CC12C[C@H](O)[C@@]3(F)C(CCC4=CC(=O)C=CC43C)[C@@H]1C[C@H]1O[C@@](C)(c3ccccc3)O[C@]12C(=O)CO',\n 'CC(=O)OCC(=O)[C@@]12OC3(CCCC3)O[C@@H]1C[C@H]1[C@@H]3CCC4=CC(=O)C=C[C@]4(C)[C@@]3(F)[C@@H](O)C[C@@]12C',\n 'CCC(=O)O[C@]1(C(=O)COC)[C@@H](C)C[C@H]2[C@@H]3CCC4=CC(=O)C=C[C@]4(C)[C@@]3(F)[C@@H](O)C[C@@]21C',\n 'Cc1cccc(C)c1NC(=O)c1ccc(N)cc1',\n 'CC(C)n1cc2c3c(cccc31)C1C[C@@H](C(=O)NC3CCCCC3)CN(C)C1C2',\n 'CC(Cc1ccccc1)NC(C#N)c1ccccc1',\n 'O=C(O)CCCCCC[NH2+]C1c2ccccc2CCc2ccccc21.[Cl-]',\n 'CCN1CCCC1CNC(=O)c1cc(S(=O)(=O)CC)c(N)cc1OC',\n 'C[N+](C)([O-])CCC=C1c2ccccc2CCc2ccccc21',\n 'CC(C)CCOC(CN1CCCC1)c1ccccc1',\n 'CCNC(=O)N1CCN(CCCC(c2ccc(F)cc2)c2ccc(F)cc2)CC1',\n 'Nc1cccc(-n2ccccc2=O)c1',\n 'CN(C)c1cnccn1',\n 'CCC(C)(C)O',\n ...]"
     },
     "execution_count": 52,
     "metadata": {},
     "output_type": "execute_result"
    }
   ],
   "source": [
    "scaffold_split()"
   ],
   "metadata": {
    "collapsed": false,
    "ExecuteTime": {
     "end_time": "2024-03-25T08:12:18.013104025Z",
     "start_time": "2024-03-25T08:12:17.989212726Z"
    }
   },
   "id": "7d56d9577c45711a"
  },
  {
   "cell_type": "code",
   "execution_count": 9,
   "outputs": [
    {
     "ename": "ModuleNotFoundError",
     "evalue": "No module named 'deepchem'",
     "output_type": "error",
     "traceback": [
      "\u001B[0;31m---------------------------------------------------------------------------\u001B[0m",
      "\u001B[0;31mModuleNotFoundError\u001B[0m                       Traceback (most recent call last)",
      "Cell \u001B[0;32mIn[9], line 1\u001B[0m\n\u001B[0;32m----> 1\u001B[0m \u001B[38;5;28;01mimport\u001B[39;00m \u001B[38;5;21;01mdeepchem\u001B[39;00m \u001B[38;5;28;01mas\u001B[39;00m \u001B[38;5;21;01mdc\u001B[39;00m\n\u001B[1;32m      3\u001B[0m \u001B[38;5;66;03m# creation of demo data set with some smiles strings\u001B[39;00m\n\u001B[1;32m      5\u001B[0m data_test\u001B[38;5;241m=\u001B[39m [\u001B[38;5;124m\"\u001B[39m\u001B[38;5;124mCC(C)Cl\u001B[39m\u001B[38;5;124m\"\u001B[39m , \u001B[38;5;124m\"\u001B[39m\u001B[38;5;124mCCC(C)CO\u001B[39m\u001B[38;5;124m\"\u001B[39m ,  \u001B[38;5;124m\"\u001B[39m\u001B[38;5;124mCCCCCCCO\u001B[39m\u001B[38;5;124m\"\u001B[39m , \u001B[38;5;124m\"\u001B[39m\u001B[38;5;124mCCCCCCCC(=O)OC\u001B[39m\u001B[38;5;124m\"\u001B[39m , \u001B[38;5;124m\"\u001B[39m\u001B[38;5;124mc3ccc2nc1ccccc1cc2c3\u001B[39m\u001B[38;5;124m\"\u001B[39m , \u001B[38;5;124m\"\u001B[39m\u001B[38;5;124mNc2cccc3nc1ccccc1cc23\u001B[39m\u001B[38;5;124m\"\u001B[39m , \u001B[38;5;124m\"\u001B[39m\u001B[38;5;124mC1CCCCCC1\u001B[39m\u001B[38;5;124m\"\u001B[39m ]\n",
      "\u001B[0;31mModuleNotFoundError\u001B[0m: No module named 'deepchem'"
     ]
    }
   ],
   "source": [
    "import deepchem as dc\n",
    "\n",
    "# creation of demo data set with some smiles strings\n",
    "\n",
    "data_test= [\"CC(C)Cl\" , \"CCC(C)CO\" ,  \"CCCCCCCO\" , \"CCCCCCCC(=O)OC\" , \"c3ccc2nc1ccccc1cc2c3\" , \"Nc2cccc3nc1ccccc1cc23\" , \"C1CCCCCC1\" ]\n",
    "\n",
    "Xs = np.zeros(len(data_test))\n",
    "\n",
    "Ys = np.ones(len(data_test))\n",
    "\n",
    "# creation of a deepchem dataset with the smile codes in the ids field\n",
    "\n",
    "dataset = dc.data.DiskDataset.from_numpy(X=Xs,ids=data_test)\n",
    "\n",
    "scaffoldsplitter = dc.splits.ScaffoldSplitter()\n",
    "\n",
    "train,test = scaffoldsplitter.train_test_split(dataset)\n",
    "\n",
    "train"
   ],
   "metadata": {
    "collapsed": false,
    "ExecuteTime": {
     "end_time": "2024-03-25T11:58:20.763087433Z",
     "start_time": "2024-03-25T11:58:20.716758440Z"
    }
   },
   "id": "60143db0532cffc6"
  },
  {
   "cell_type": "code",
   "execution_count": 63,
   "outputs": [
    {
     "data": {
      "text/plain": "array(['CC(C)Cl', 'CCC(C)CO', 'CCCCCCCO', 'CCCCCCCC(=O)OC', 'C1CCCCCC1'],\n      dtype=object)"
     },
     "execution_count": 63,
     "metadata": {},
     "output_type": "execute_result"
    }
   ],
   "source": [
    "train.ids"
   ],
   "metadata": {
    "collapsed": false,
    "ExecuteTime": {
     "end_time": "2024-03-25T08:40:45.610808496Z",
     "start_time": "2024-03-25T08:40:45.597926154Z"
    }
   },
   "id": "fe5ba4911a10fc45"
  },
  {
   "cell_type": "code",
   "execution_count": null,
   "outputs": [],
   "source": [
    "_load_bbbp_dataset()"
   ],
   "metadata": {
    "collapsed": false
   },
   "id": "16834be695ff81f9"
  },
  {
   "cell_type": "code",
   "execution_count": null,
   "outputs": [],
   "source": [
    "def scaffold_split():\n",
    "    pass "
   ],
   "metadata": {
    "collapsed": false
   },
   "id": "319ae169e4e83651"
  },
  {
   "cell_type": "code",
   "execution_count": null,
   "outputs": [],
   "source": [
    "smiles_list, rdkit_mol_objs, labels = \\\n",
    "                _load_bbbp_dataset(self.raw_paths[0])\n",
    "            for i in range(len(smiles_list)):\n",
    "                print(i)\n",
    "                rdkit_mol = rdkit_mol_objs[i]\n",
    "                if rdkit_mol != None:\n",
    "                    # # convert aromatic bonds to double bonds\n",
    "                    # Chem.SanitizeMol(rdkit_mol,\n",
    "                    #                  sanitizeOps=Chem.SanitizeFlags.SANITIZE_KEKULIZE)\n",
    "                    data = mol_to_graph_data_obj_simple(rdkit_mol)\n",
    "                    # manually add mol id\n",
    "                    data.id = torch.tensor(\n",
    "                        [i])  # id here is the index of the mol in\n",
    "                    # the dataset\n",
    "                    data.y = torch.tensor([labels[i]])\n",
    "                    data_list.append(data)\n",
    "                    data_smiles_list.append(smiles_list[i])"
   ],
   "metadata": {
    "collapsed": false
   },
   "id": "84596ac919085453"
  },
  {
   "cell_type": "code",
   "execution_count": 8,
   "outputs": [
    {
     "ename": "NameError",
     "evalue": "name 'dataset' is not defined",
     "output_type": "error",
     "traceback": [
      "\u001B[0;31m---------------------------------------------------------------------------\u001B[0m",
      "\u001B[0;31mNameError\u001B[0m                                 Traceback (most recent call last)",
      "Cell \u001B[0;32mIn[8], line 7\u001B[0m\n\u001B[1;32m      3\u001B[0m \u001B[38;5;28;01mfrom\u001B[39;00m \u001B[38;5;21;01mrdkit\u001B[39;00m\u001B[38;5;21;01m.\u001B[39;00m\u001B[38;5;21;01mML\u001B[39;00m\u001B[38;5;21;01m.\u001B[39;00m\u001B[38;5;21;01mCluster\u001B[39;00m \u001B[38;5;28;01mimport\u001B[39;00m Butina\n\u001B[1;32m      6\u001B[0m mols \u001B[38;5;241m=\u001B[39m []\n\u001B[0;32m----> 7\u001B[0m \u001B[38;5;28;01mfor\u001B[39;00m ind, smiles \u001B[38;5;129;01min\u001B[39;00m \u001B[38;5;28menumerate\u001B[39m(\u001B[43mdataset\u001B[49m\u001B[38;5;241m.\u001B[39mids):\n\u001B[1;32m      8\u001B[0m     mols\u001B[38;5;241m.\u001B[39mappend(Chem\u001B[38;5;241m.\u001B[39mMolFromSmiles(smiles))\n\u001B[1;32m      9\u001B[0m fps \u001B[38;5;241m=\u001B[39m [AllChem\u001B[38;5;241m.\u001B[39mGetMorganFingerprintAsBitVect(x, \u001B[38;5;241m2\u001B[39m, \u001B[38;5;241m1024\u001B[39m) \u001B[38;5;28;01mfor\u001B[39;00m x \u001B[38;5;129;01min\u001B[39;00m mols]\n",
      "\u001B[0;31mNameError\u001B[0m: name 'dataset' is not defined"
     ]
    }
   ],
   "source": [
    "from rdkit import Chem, DataStructs\n",
    "from rdkit.Chem import AllChem\n",
    "from rdkit.ML.Cluster import Butina\n",
    "        \n",
    "\n",
    "mols = []\n",
    "for ind, smiles in enumerate(dataset.ids):\n",
    "    mols.append(Chem.MolFromSmiles(smiles))\n",
    "fps = [AllChem.GetMorganFingerprintAsBitVect(x, 2, 1024) for x in mols]\n",
    "\n",
    "# calcaulate scaffold sets\n",
    "# (ytz): this is directly copypasta'd from Greg Landrum's clustering example.\n",
    "dists = []\n",
    "nfps = len(fps)\n",
    "for i in range(1, nfps):\n",
    "    sims = DataStructs.BulkTanimotoSimilarity(fps[i], fps[:i])\n",
    "    dists.extend([1 - x for x in sims])\n",
    "scaffold_sets = Butina.ClusterData(dists,\n",
    "                                   nfps,\n",
    "                                   self.cutoff,\n",
    "                                   isDistData=True)\n",
    "scaffold_sets = sorted(scaffold_sets, key=lambda x: -len(x))\n",
    "\n",
    "train_cutoff = frac_train * len(dataset)\n",
    "valid_cutoff = (frac_train + frac_valid) * len(dataset)\n",
    "train_inds: List[int] = []\n",
    "valid_inds: List[int] = []\n",
    "test_inds: List[int] = []\n",
    "\n",
    "logger.info(\"About to sort in scaffold sets\")\n",
    "for scaffold_set in scaffold_sets:\n",
    "    if len(train_inds) + len(scaffold_set) > train_cutoff:\n",
    "        if len(train_inds) + len(valid_inds) + len(\n",
    "                scaffold_set) > valid_cutoff:\n",
    "            test_inds += scaffold_set\n",
    "        else:\n",
    "            valid_inds += scaffold_set\n",
    "    else:\n",
    "        train_inds += scaffold_set\n",
    "return train_inds, valid_inds, test_inds\n"
   ],
   "metadata": {
    "collapsed": false,
    "ExecuteTime": {
     "end_time": "2024-03-25T11:58:00.515761911Z",
     "start_time": "2024-03-25T11:58:00.462131426Z"
    }
   },
   "id": "72cc233eb40262d5"
  },
  {
   "cell_type": "code",
   "execution_count": 4,
   "outputs": [],
   "source": [
    "import deepchem as dc\n",
    "import numpy as np"
   ],
   "metadata": {
    "collapsed": false,
    "ExecuteTime": {
     "end_time": "2024-03-25T12:00:02.236399421Z",
     "start_time": "2024-03-25T12:00:02.218120776Z"
    }
   },
   "id": "b9836d36ee8e302f"
  },
  {
   "cell_type": "code",
   "execution_count": 5,
   "outputs": [
    {
     "data": {
      "text/plain": "<DiskDataset X.shape: (5,), y.shape: (5, 1), w.shape: (5, 1), ids: ['CC(C)Cl' 'CCC(C)CO' 'CCCCCCCO' 'CCCCCCCC(=O)OC' 'C1CCCCCC1'], task_names: [0]>"
     },
     "execution_count": 5,
     "metadata": {},
     "output_type": "execute_result"
    }
   ],
   "source": [
    "data_test= [\"CC(C)Cl\" , \"CCC(C)CO\" ,  \"CCCCCCCO\" , \"CCCCCCCC(=O)OC\" , \"c3ccc2nc1ccccc1cc2c3\" , \"Nc2cccc3nc1ccccc1cc23\" , \"C1CCCCCC1\" ]\n",
    "\n",
    "Xs = np.zeros(len(data_test))\n",
    "\n",
    "Ys = np.ones(len(data_test))\n",
    "\n",
    "# creation of a deepchem dataset with the smile codes in the ids field\n",
    "\n",
    "dataset = dc.data.DiskDataset.from_numpy(X=Xs,ids=data_test)\n",
    "\n",
    "scaffoldsplitter = dc.splits.ScaffoldSplitter()\n",
    "\n",
    "train,test = scaffoldsplitter.train_test_split(dataset)\n",
    "\n",
    "train"
   ],
   "metadata": {
    "collapsed": false,
    "ExecuteTime": {
     "end_time": "2024-03-25T12:00:03.115852094Z",
     "start_time": "2024-03-25T12:00:02.811865239Z"
    }
   },
   "id": "be9a521246bd34d8"
  },
  {
   "cell_type": "code",
   "execution_count": 53,
   "outputs": [],
   "source": [
    "import os\n",
    "import torch\n",
    "import random\n",
    "\n",
    "import numpy as np\n",
    "import pandas as pd\n",
    "\n",
    "from urllib.request import urlretrieve\n",
    "from itertools import compress\n",
    "from rdkit.Chem.Scaffolds import MurckoScaffold\n",
    "from collections import defaultdict\n",
    "from sklearn.model_selection import StratifiedKFold\n",
    "from rdkit import Chem, DataStructs\n",
    "from rdkit.Chem import AllChem\n",
    "from rdkit.ML.Cluster import Butina\n",
    "# splitter function\n",
    "\n",
    "def generate_scaffold(smiles, include_chirality=False):\n",
    "    \"\"\"\n",
    "    Obtain Bemis-Murcko scaffold from smiles\n",
    "    :param smiles:\n",
    "    :param include_chirality:\n",
    "    :return: smiles of scaffold\n",
    "    \"\"\"\n",
    "    scaffold = MurckoScaffold.MurckoScaffoldSmiles(\n",
    "        smiles=smiles, includeChirality=include_chirality)\n",
    "    return scaffold\n",
    "\n",
    "def create_dir_from_path(path: str, overwrite: bool = True) -> None:\n",
    "    os.makedirs(os.path.dirname(path), exist_ok=overwrite)\n",
    "\n",
    "def create_dir(dir: str, overwrite: bool = True) -> None:\n",
    "    os.makedirs(dir, exist_ok=overwrite)\n",
    "\n",
    "def download_bbpb_dataset(path: str) -> None:\n",
    "    create_dir_from_path(path)\n",
    "    url = 'https://deepchemdata.s3-us-west-1.amazonaws.com/datasets/BBBP.csv'\n",
    "    urlretrieve(url, path)\n",
    "\n",
    "def _load_bbbp_dataset(input_path, seed: int = 0):\n",
    "    \"\"\"\n",
    "\n",
    "    :param input_path:\n",
    "    :return: list of smiles, list of rdkit mol obj, np.array containing the\n",
    "    labels\n",
    "    \"\"\"\n",
    "    input_df = pd.read_csv(input_path, sep=',')\n",
    "    smiles_list = input_df['smiles']\n",
    "    rdkit_mol_objs_list = [AllChem.MolFromSmiles(s) for s in smiles_list]\n",
    "\n",
    "    preprocessed_rdkit_mol_objs_list = [m if m != None else None for m in\n",
    "                                                          rdkit_mol_objs_list]\n",
    "    preprocessed_smiles_list = [AllChem.MolToSmiles(m) if m != None else\n",
    "                                None for m in preprocessed_rdkit_mol_objs_list]\n",
    "    preprocessed_smiles_list = [smiles for smiles in preprocessed_smiles_list if smiles is not None]\n",
    "    \n",
    "    labels = input_df['p_np']\n",
    "    # convert 0 to -1\n",
    "    labels = labels.replace(0, -1)\n",
    "    # there are no nans\n",
    "    assert len(smiles_list) == len(preprocessed_rdkit_mol_objs_list)\n",
    "    assert len(smiles_list) == len(preprocessed_smiles_list)\n",
    "    assert len(smiles_list) == len(labels)\n",
    "\n",
    "    dataset = dc.data.DiskDataset.from_numpy(X=preprocessed_smiles_list, y=labels.values)\n",
    "    #scaffoldsplitter = dc.splits.ScaffoldSplitter()\n",
    "    #train_dataset, val_dataset, test_dataset = scaffoldsplitter.train_valid_test_split(dataset, seed=seed)\n",
    "    \n",
    "    return preprocessed_smiles_list, preprocessed_rdkit_mol_objs_list, \\\n",
    "           labels.values\n",
    "\n"
   ],
   "metadata": {
    "collapsed": false,
    "ExecuteTime": {
     "end_time": "2024-03-25T12:13:58.281163965Z",
     "start_time": "2024-03-25T12:13:58.272646477Z"
    }
   },
   "id": "1dfd6def6dd368bf"
  },
  {
   "cell_type": "code",
   "execution_count": 54,
   "outputs": [
    {
     "name": "stderr",
     "output_type": "stream",
     "text": [
      "[13:14:00] Explicit valence for atom # 1 N, 4, is greater than permitted\n",
      "[13:14:00] WARNING: not removing hydrogen atom without neighbors\n",
      "[13:14:00] Explicit valence for atom # 6 N, 4, is greater than permitted\n",
      "[13:14:00] WARNING: not removing hydrogen atom without neighbors\n",
      "[13:14:00] WARNING: not removing hydrogen atom without neighbors\n",
      "[13:14:00] WARNING: not removing hydrogen atom without neighbors\n",
      "[13:14:00] WARNING: not removing hydrogen atom without neighbors\n",
      "[13:14:00] WARNING: not removing hydrogen atom without neighbors\n",
      "[13:14:00] WARNING: not removing hydrogen atom without neighbors\n",
      "[13:14:00] Explicit valence for atom # 6 N, 4, is greater than permitted\n",
      "[13:14:00] WARNING: not removing hydrogen atom without neighbors\n",
      "[13:14:00] WARNING: not removing hydrogen atom without neighbors\n",
      "[13:14:00] WARNING: not removing hydrogen atom without neighbors\n",
      "[13:14:00] WARNING: not removing hydrogen atom without neighbors\n",
      "[13:14:00] Explicit valence for atom # 11 N, 4, is greater than permitted\n",
      "[13:14:00] Explicit valence for atom # 12 N, 4, is greater than permitted\n",
      "[13:14:00] Explicit valence for atom # 5 N, 4, is greater than permitted\n",
      "[13:14:00] Explicit valence for atom # 5 N, 4, is greater than permitted\n",
      "[13:14:00] Explicit valence for atom # 5 N, 4, is greater than permitted\n",
      "[13:14:00] Explicit valence for atom # 5 N, 4, is greater than permitted\n",
      "[13:14:00] Explicit valence for atom # 5 N, 4, is greater than permitted\n",
      "[13:14:00] WARNING: not removing hydrogen atom without neighbors\n",
      "[13:14:00] WARNING: not removing hydrogen atom without neighbors\n",
      "[13:14:00] Explicit valence for atom # 5 N, 4, is greater than permitted\n",
      "[13:14:00] WARNING: not removing hydrogen atom without neighbors\n",
      "[13:14:00] WARNING: not removing hydrogen atom without neighbors\n",
      "[13:14:00] WARNING: not removing hydrogen atom without neighbors\n",
      "[13:14:00] WARNING: not removing hydrogen atom without neighbors\n",
      "[13:14:00] WARNING: not removing hydrogen atom without neighbors\n",
      "[13:14:00] WARNING: not removing hydrogen atom without neighbors\n",
      "[13:14:00] WARNING: not removing hydrogen atom without neighbors\n",
      "[13:14:00] WARNING: not removing hydrogen atom without neighbors\n",
      "[13:14:00] WARNING: not removing hydrogen atom without neighbors\n",
      "[13:14:00] WARNING: not removing hydrogen atom without neighbors\n",
      "[13:14:00] WARNING: not removing hydrogen atom without neighbors\n",
      "[13:14:00] WARNING: not removing hydrogen atom without neighbors\n",
      "[13:14:00] WARNING: not removing hydrogen atom without neighbors\n",
      "[13:14:00] WARNING: not removing hydrogen atom without neighbors\n",
      "[13:14:00] WARNING: not removing hydrogen atom without neighbors\n",
      "[13:14:00] WARNING: not removing hydrogen atom without neighbors\n",
      "[13:14:00] WARNING: not removing hydrogen atom without neighbors\n",
      "[13:14:00] WARNING: not removing hydrogen atom without neighbors\n",
      "[13:14:00] WARNING: not removing hydrogen atom without neighbors\n",
      "[13:14:00] WARNING: not removing hydrogen atom without neighbors\n",
      "[13:14:00] WARNING: not removing hydrogen atom without neighbors\n",
      "[13:14:00] WARNING: not removing hydrogen atom without neighbors\n",
      "[13:14:00] WARNING: not removing hydrogen atom without neighbors\n",
      "[13:14:00] WARNING: not removing hydrogen atom without neighbors\n",
      "[13:14:00] WARNING: not removing hydrogen atom without neighbors\n",
      "[13:14:00] WARNING: not removing hydrogen atom without neighbors\n",
      "[13:14:00] WARNING: not removing hydrogen atom without neighbors\n"
     ]
    },
    {
     "ename": "AssertionError",
     "evalue": "",
     "output_type": "error",
     "traceback": [
      "\u001B[0;31m---------------------------------------------------------------------------\u001B[0m",
      "\u001B[0;31mAssertionError\u001B[0m                            Traceback (most recent call last)",
      "Cell \u001B[0;32mIn[54], line 3\u001B[0m\n\u001B[1;32m      1\u001B[0m path \u001B[38;5;241m=\u001B[39m \u001B[38;5;124m'\u001B[39m\u001B[38;5;124m./data/molecule_net/bbbp/bbbp.csv\u001B[39m\u001B[38;5;124m'\u001B[39m\n\u001B[1;32m      2\u001B[0m download_bbpb_dataset(path)\n\u001B[0;32m----> 3\u001B[0m x, y, z \u001B[38;5;241m=\u001B[39m \u001B[43m_load_bbbp_dataset\u001B[49m\u001B[43m(\u001B[49m\u001B[43mpath\u001B[49m\u001B[43m)\u001B[49m\n\u001B[1;32m      4\u001B[0m \u001B[38;5;28mlen\u001B[39m(x)\n",
      "Cell \u001B[0;32mIn[53], line 62\u001B[0m, in \u001B[0;36m_load_bbbp_dataset\u001B[0;34m(input_path, seed)\u001B[0m\n\u001B[1;32m     60\u001B[0m \u001B[38;5;66;03m# there are no nans\u001B[39;00m\n\u001B[1;32m     61\u001B[0m \u001B[38;5;28;01massert\u001B[39;00m \u001B[38;5;28mlen\u001B[39m(smiles_list) \u001B[38;5;241m==\u001B[39m \u001B[38;5;28mlen\u001B[39m(preprocessed_rdkit_mol_objs_list)\n\u001B[0;32m---> 62\u001B[0m \u001B[38;5;28;01massert\u001B[39;00m \u001B[38;5;28mlen\u001B[39m(smiles_list) \u001B[38;5;241m==\u001B[39m \u001B[38;5;28mlen\u001B[39m(preprocessed_smiles_list)\n\u001B[1;32m     63\u001B[0m \u001B[38;5;28;01massert\u001B[39;00m \u001B[38;5;28mlen\u001B[39m(smiles_list) \u001B[38;5;241m==\u001B[39m \u001B[38;5;28mlen\u001B[39m(labels)\n\u001B[1;32m     65\u001B[0m dataset \u001B[38;5;241m=\u001B[39m dc\u001B[38;5;241m.\u001B[39mdata\u001B[38;5;241m.\u001B[39mDiskDataset\u001B[38;5;241m.\u001B[39mfrom_numpy(X\u001B[38;5;241m=\u001B[39mpreprocessed_smiles_list, y\u001B[38;5;241m=\u001B[39mlabels\u001B[38;5;241m.\u001B[39mvalues)\n",
      "\u001B[0;31mAssertionError\u001B[0m: "
     ]
    }
   ],
   "source": [
    "path = './data/molecule_net/bbbp/bbbp.csv'\n",
    "download_bbpb_dataset(path)\n",
    "x, y, z = _load_bbbp_dataset(path)\n",
    "len(x)"
   ],
   "metadata": {
    "collapsed": false,
    "ExecuteTime": {
     "end_time": "2024-03-25T12:14:00.555375619Z",
     "start_time": "2024-03-25T12:13:58.893385483Z"
    }
   },
   "id": "ba2101728fde0986"
  },
  {
   "cell_type": "code",
   "execution_count": 52,
   "outputs": [
    {
     "data": {
      "text/plain": "2039"
     },
     "execution_count": 52,
     "metadata": {},
     "output_type": "execute_result"
    }
   ],
   "source": [
    "x = [x_el for x_el in x if x_el is not None]\n",
    "len(x)"
   ],
   "metadata": {
    "collapsed": false,
    "ExecuteTime": {
     "end_time": "2024-03-25T12:13:35.682681053Z",
     "start_time": "2024-03-25T12:13:35.671476091Z"
    }
   },
   "id": "184323c5a1fed47"
  },
  {
   "cell_type": "code",
   "execution_count": 48,
   "outputs": [],
   "source": [
    "dataset = dc.data.DiskDataset.from_numpy(ids=x, X=np.ones(len(x)))"
   ],
   "metadata": {
    "collapsed": false,
    "ExecuteTime": {
     "end_time": "2024-03-25T12:10:37.404290914Z",
     "start_time": "2024-03-25T12:10:37.398224537Z"
    }
   },
   "id": "50256eefda63ba09"
  },
  {
   "cell_type": "code",
   "execution_count": 49,
   "outputs": [
    {
     "name": "stderr",
     "output_type": "stream",
     "text": [
      "[13:10:38] WARNING: not removing hydrogen atom without neighbors\n",
      "[13:10:38] WARNING: not removing hydrogen atom without neighbors\n",
      "[13:10:38] WARNING: not removing hydrogen atom without neighbors\n",
      "[13:10:38] WARNING: not removing hydrogen atom without neighbors\n",
      "[13:10:38] WARNING: not removing hydrogen atom without neighbors\n",
      "[13:10:38] WARNING: not removing hydrogen atom without neighbors\n",
      "[13:10:38] WARNING: not removing hydrogen atom without neighbors\n",
      "[13:10:38] WARNING: not removing hydrogen atom without neighbors\n",
      "[13:10:38] WARNING: not removing hydrogen atom without neighbors\n",
      "[13:10:38] WARNING: not removing hydrogen atom without neighbors\n",
      "[13:10:38] WARNING: not removing hydrogen atom without neighbors\n",
      "[13:10:38] WARNING: not removing hydrogen atom without neighbors\n",
      "[13:10:38] WARNING: not removing hydrogen atom without neighbors\n",
      "[13:10:38] WARNING: not removing hydrogen atom without neighbors\n",
      "[13:10:38] WARNING: not removing hydrogen atom without neighbors\n",
      "[13:10:38] WARNING: not removing hydrogen atom without neighbors\n",
      "[13:10:38] WARNING: not removing hydrogen atom without neighbors\n",
      "[13:10:38] WARNING: not removing hydrogen atom without neighbors\n",
      "[13:10:38] WARNING: not removing hydrogen atom without neighbors\n",
      "[13:10:38] WARNING: not removing hydrogen atom without neighbors\n",
      "[13:10:38] WARNING: not removing hydrogen atom without neighbors\n",
      "[13:10:38] WARNING: not removing hydrogen atom without neighbors\n",
      "[13:10:38] WARNING: not removing hydrogen atom without neighbors\n",
      "[13:10:38] WARNING: not removing hydrogen atom without neighbors\n",
      "[13:10:38] WARNING: not removing hydrogen atom without neighbors\n",
      "[13:10:38] WARNING: not removing hydrogen atom without neighbors\n",
      "[13:10:38] WARNING: not removing hydrogen atom without neighbors\n",
      "[13:10:38] WARNING: not removing hydrogen atom without neighbors\n",
      "[13:10:38] WARNING: not removing hydrogen atom without neighbors\n",
      "[13:10:38] WARNING: not removing hydrogen atom without neighbors\n",
      "[13:10:38] WARNING: not removing hydrogen atom without neighbors\n",
      "[13:10:38] WARNING: not removing hydrogen atom without neighbors\n",
      "[13:10:38] WARNING: not removing hydrogen atom without neighbors\n",
      "[13:10:38] WARNING: not removing hydrogen atom without neighbors\n",
      "[13:10:38] WARNING: not removing hydrogen atom without neighbors\n",
      "[13:10:38] WARNING: not removing hydrogen atom without neighbors\n",
      "[13:10:38] WARNING: not removing hydrogen atom without neighbors\n",
      "[13:10:38] WARNING: not removing hydrogen atom without neighbors\n",
      "[13:10:38] WARNING: not removing hydrogen atom without neighbors\n",
      "[13:10:38] WARNING: not removing hydrogen atom without neighbors\n"
     ]
    }
   ],
   "source": [
    "scaffoldsplitter = dc.splits.ScaffoldSplitter()\n",
    "\n",
    "train, test = scaffoldsplitter.train_test_split(dataset)"
   ],
   "metadata": {
    "collapsed": false,
    "ExecuteTime": {
     "end_time": "2024-03-25T12:10:38.507843086Z",
     "start_time": "2024-03-25T12:10:38.023729654Z"
    }
   },
   "id": "27c3e4d726eb0719"
  },
  {
   "cell_type": "code",
   "execution_count": 30,
   "outputs": [
    {
     "ename": "NameError",
     "evalue": "name 'generate_scaffolds' is not defined",
     "output_type": "error",
     "traceback": [
      "\u001B[0;31m---------------------------------------------------------------------------\u001B[0m",
      "\u001B[0;31mNameError\u001B[0m                                 Traceback (most recent call last)",
      "Cell \u001B[0;32mIn[30], line 1\u001B[0m\n\u001B[0;32m----> 1\u001B[0m scaffold_sets \u001B[38;5;241m=\u001B[39m \u001B[43mgenerate_scaffolds\u001B[49m(dataset)\n",
      "\u001B[0;31mNameError\u001B[0m: name 'generate_scaffolds' is not defined"
     ]
    }
   ],
   "source": [
    "scaffold_sets = generate_scaffolds(dataset)"
   ],
   "metadata": {
    "collapsed": false,
    "ExecuteTime": {
     "end_time": "2024-03-25T12:07:05.743098247Z",
     "start_time": "2024-03-25T12:07:05.697067920Z"
    }
   },
   "id": "3380ec720208edca"
  },
  {
   "cell_type": "code",
   "execution_count": 43,
   "outputs": [],
   "source": [
    "def generate_scaffolds(dataset, log_every_n: int = 1000):\n",
    "        \"\"\"Returns all scaffolds from the dataset.\n",
    "\n",
    "        Parameters\n",
    "        ----------\n",
    "        dataset: Dataset\n",
    "            Dataset to be split.\n",
    "        log_every_n: int, optional (default 1000)\n",
    "            Controls the logger by dictating how often logger outputs\n",
    "            will be produced.\n",
    "\n",
    "        Returns\n",
    "        -------\n",
    "        scaffold_sets: List[List[int]]\n",
    "            List of indices of each scaffold in the dataset.\n",
    "        \"\"\"\n",
    "        scaffolds = {}\n",
    "        data_len = len(dataset)\n",
    "\n",
    "        for ind, smiles in enumerate(dataset.ids):\n",
    "            print(smiles)\n",
    "            scaffold = generate_scaffold(smiles)\n",
    "            if scaffold is not None:\n",
    "                if scaffold not in scaffolds:\n",
    "                    scaffolds[scaffold] = [ind]\n",
    "                else:\n",
    "                    scaffolds[scaffold].append(ind)\n",
    "\n",
    "        # Sort from largest to smallest scaffold sets\n",
    "        scaffolds = {key: sorted(value) for key, value in scaffolds.items()}\n",
    "        scaffold_sets = [\n",
    "            scaffold_set\n",
    "            for (scaffold,\n",
    "                 scaffold_set) in sorted(scaffolds.items(),\n",
    "                                         key=lambda x: (len(x[1]), x[1][0]),\n",
    "                                         reverse=True)\n",
    "        ]\n",
    "        return scaffold_sets"
   ],
   "metadata": {
    "collapsed": false,
    "ExecuteTime": {
     "end_time": "2024-03-25T12:09:42.747170022Z",
     "start_time": "2024-03-25T12:09:42.700085981Z"
    }
   },
   "id": "8583f41e9861dbbe"
  },
  {
   "cell_type": "code",
   "execution_count": 44,
   "outputs": [
    {
     "name": "stdout",
     "output_type": "stream",
     "text": [
      "CC(C)NCC(O)COc1cccc2ccccc12.[Cl]\n",
      "CC(C)(C)OC(=O)CCCc1ccc(N(CCCl)CCCl)cc1\n",
      "CC1COc2c(N3CCN(C)CC3)c(F)cc3c(=O)c(C(=O)O)cn1c23\n",
      "CC(=O)NCCCOc1cccc(CN2CCCCC2)c1\n",
      "Cc1onc(-c2ccccc2Cl)c1C(=O)N[C@@H]1C(=O)N2[C@@H]1SC(C)(C)[C@@H]2C(=O)O\n",
      "CCN1CCN(C(=O)N[C@@H](C(=O)N[C@@H]2C(=O)N3C(C(=O)O)=C(CSc4nnnn4C)CS[C@H]23)c2ccc(O)cc2)C(=O)C1=O\n",
      "CN(C)[C@@H]1C(=O)/C(=C(/O)NCN2CCCC2)C(=O)[C@@]2(O)C(=O)C3=C(O)c4c(O)cccc4[C@@](C)(O)[C@H]3C[C@@H]12\n",
      "Cc1nccn1CC1CCc2c(c3ccccc3n2C)C1=O\n",
      "COc1ccc([C@@H]2Sc3ccccc3N(CCN(C)C)C(=O)[C@@H]2OC(C)=O)cc1\n",
      "NC(N)=NC(=O)c1nc(Cl)c(N)nc1N\n",
      "CN1Cc2c(-c3noc(C(C)(O)CO)n3)ncn2-c2cccc(Cl)c2C1=O\n",
      "Cc1cn([C@H]2C[C@H](F)[C@@H](CO)O2)c(=O)[nH]c1=O\n",
      "ClCCl\n",
      "CC(C)(C)NC(=O)C1CC2CCCCC2CN1CC(O)C(Cc1ccccc1)NC(=O)C(CC(N)=O)NC(=O)c1ccc2ccccc2n1\n",
      "CCC(=O)C(CC(C)N(C)C)(c1ccccc1)c1ccccc1\n",
      "CCC(=O)N(c1ccccc1)C1(COC)CCN(CCn2nnn(CC)c2=O)CC1\n",
      "CN(C)C(=O)C(CCN1CCC(O)(c2ccc(Cl)cc2)CC1)(c1ccccc1)c1ccccc1\n",
      "CN1C2CCC1CC(OC(=O)[C@H](CO)c1ccccc1)C2\n",
      "COc1ccc(Cl)cc1C(=O)NCCc1ccc(S(=O)(=O)NC(=O)NC2CCCCC2)cc1\n",
      "Nc1nnc(-c2cccc(Cl)c2Cl)c(N)n1\n",
      "CCCC(C)C\n",
      "C[C@H](N)Cc1ccccc1\n",
      "CN(C)Cc1ccc(CSCCNc2nc(=O)c(Cc3ccc4ccccc4c3)c[nH]2)o1\n",
      "CC(C)(C)NCC(O)COc1cccc2c1C[C@H](O)[C@H](O)C2\n",
      "CCC(=O)N(c1ccccc1)C1(COC)CCN(CCc2cccs2)CC1\n",
      "CCNC(=NC#N)NCCSCc1ncccc1Br\n",
      "Cc1ccc(-c2nc3ccc(C)cn3c2CC(=O)N(C)C)cc1\n",
      "CN1CCN(C2=c3ccccc3=Nc3ccc(Cl)cc3N2)CC1\n",
      "FC(F)(F)c1ccc(N2CCNCC2)nc1Cl\n",
      "CCN1CCN(C(=O)N[C@@H](C(=O)N[C@@H]2C(=O)N3[C@@H]2SC(C)(C)[C@@H]3C(=O)O)c2ccccc2)C(=O)C1=O.O\n",
      "CCCC(C)C1(CC)C(=O)NC(=O)NC1=O\n",
      "C[C@H]1COc2c(N3CCN(C)CC3)c(F)cc3c(=O)c(C(=O)O)cn1c23\n",
      "O=C(NCCCOc1cccc(CN2CCCCC2)c1)c1ccccc1\n",
      "CN1Cc2c(C(=O)OC(C)(C)C)ncn2-c2ccsc2C1=O\n",
      "CCC(=O)N(c1ccccc1)C1CCN(CCc2ccccc2)CC1\n",
      "CCOC(=O)c1cncn1C(C)c1ccccc1\n",
      "CN(C)c1cc(-c2nc(N)n[nH]2)ccn1\n",
      "CN1CCN(CCCN2c3ccccc3Sc3ccc(Cl)cc32)CC1\n",
      "Nc1ccc(-c2nc3ccc(O)cc3s2)cc1I\n",
      "CC(=O)Nc1cccc(-c2csc(N=C(N)N)n2)c1\n",
      "CN1[C@@H]2CCC[C@H]1CC(NC(=O)c1nn(C)c3ccccc13)C2\n",
      "CS(=O)(=O)c1ccc([C@@H](O)[C@@H](CO)NC(=O)C(Cl)Cl)cc1\n",
      "NC(N)=Nc1nc(-c2ccccc2)cs1\n",
      "Cc1cccc(C)c1OCC(C)N\n",
      "CCC(=O)O[C@](Cc1ccccc1)(c1ccccc1)[C@H](C)CN(C)C\n",
      "CNCCCN1c2ccccc2Sc2ccc(Cl)cc21\n",
      "CN(C)Cc1ccc(-c2cccc(NC3N=CC=C3[N+](=O)[O-])c2)o1\n",
      "Cn1nnnc1SCC1=C(C(=O)O)N2C(=O)[C@@H](NC(=O)[C@H](O)c3ccccc3)[C@H]2SC1\n",
      "CN(C)CCc1ccccn1\n",
      "O=C1CCCN1CCCCN1CCN(c2cc(C(F)(F)F)ccn2)CC1\n",
      "C=C[C@H]1CN2CC[C@H]1C[C@@H]2[C@@H](O)c1ccnc2ccc(OC)cc12\n",
      "CCc1ccccc1\n",
      "NC(N)=Nc1nc(-c2cccc(N)c2)cs1\n",
      "CC[C@]1(O)C[C@H]2CN(CCc3c([nH]c4ccccc34)[C@@](C(=O)OC)(c3cc4c(cc3OC)N(C)[C@H]3[C@@](O)(C(=O)OC)[C@H](OC(C)=O)[C@]5(CC)C=CCN6CC[C@]43[C@@H]65)C2)C1\n",
      "CCCC(=O)Nc1ccc(OCC(O)CNC(C)C)c(C(C)=O)c1\n",
      "NCCCN1c2ccccc2Sc2ccc(Cl)cc21\n",
      "CN(C)Cc1ccc(CSCCNc2[nH]cc(Cc3ccccc3)c2[N+](=O)[O-])o1\n",
      "CNC(=NC#N)Nc1cccc(-c2csc(N=C(N)N)n2)c1\n",
      "CNCCc1ccccn1\n",
      "None\n"
     ]
    },
    {
     "ename": "ValueError",
     "evalue": "No molecule provided",
     "output_type": "error",
     "traceback": [
      "\u001B[0;31m---------------------------------------------------------------------------\u001B[0m",
      "\u001B[0;31mValueError\u001B[0m                                Traceback (most recent call last)",
      "Cell \u001B[0;32mIn[44], line 1\u001B[0m\n\u001B[0;32m----> 1\u001B[0m \u001B[43mgenerate_scaffolds\u001B[49m\u001B[43m(\u001B[49m\u001B[43mdataset\u001B[49m\u001B[38;5;241;43m=\u001B[39;49m\u001B[43mdataset\u001B[49m\u001B[43m)\u001B[49m\n",
      "Cell \u001B[0;32mIn[43], line 22\u001B[0m, in \u001B[0;36mgenerate_scaffolds\u001B[0;34m(dataset, log_every_n)\u001B[0m\n\u001B[1;32m     20\u001B[0m \u001B[38;5;28;01mfor\u001B[39;00m ind, smiles \u001B[38;5;129;01min\u001B[39;00m \u001B[38;5;28menumerate\u001B[39m(dataset\u001B[38;5;241m.\u001B[39mids):\n\u001B[1;32m     21\u001B[0m     \u001B[38;5;28mprint\u001B[39m(smiles)\n\u001B[0;32m---> 22\u001B[0m     scaffold \u001B[38;5;241m=\u001B[39m \u001B[43mgenerate_scaffold\u001B[49m\u001B[43m(\u001B[49m\u001B[43msmiles\u001B[49m\u001B[43m)\u001B[49m\n\u001B[1;32m     23\u001B[0m     \u001B[38;5;28;01mif\u001B[39;00m scaffold \u001B[38;5;129;01mis\u001B[39;00m \u001B[38;5;129;01mnot\u001B[39;00m \u001B[38;5;28;01mNone\u001B[39;00m:\n\u001B[1;32m     24\u001B[0m         \u001B[38;5;28;01mif\u001B[39;00m scaffold \u001B[38;5;129;01mnot\u001B[39;00m \u001B[38;5;129;01min\u001B[39;00m scaffolds:\n",
      "Cell \u001B[0;32mIn[23], line 25\u001B[0m, in \u001B[0;36mgenerate_scaffold\u001B[0;34m(smiles, include_chirality)\u001B[0m\n\u001B[1;32m     18\u001B[0m \u001B[38;5;28;01mdef\u001B[39;00m \u001B[38;5;21mgenerate_scaffold\u001B[39m(smiles, include_chirality\u001B[38;5;241m=\u001B[39m\u001B[38;5;28;01mFalse\u001B[39;00m):\n\u001B[1;32m     19\u001B[0m \u001B[38;5;250m    \u001B[39m\u001B[38;5;124;03m\"\"\"\u001B[39;00m\n\u001B[1;32m     20\u001B[0m \u001B[38;5;124;03m    Obtain Bemis-Murcko scaffold from smiles\u001B[39;00m\n\u001B[1;32m     21\u001B[0m \u001B[38;5;124;03m    :param smiles:\u001B[39;00m\n\u001B[1;32m     22\u001B[0m \u001B[38;5;124;03m    :param include_chirality:\u001B[39;00m\n\u001B[1;32m     23\u001B[0m \u001B[38;5;124;03m    :return: smiles of scaffold\u001B[39;00m\n\u001B[1;32m     24\u001B[0m \u001B[38;5;124;03m    \"\"\"\u001B[39;00m\n\u001B[0;32m---> 25\u001B[0m     scaffold \u001B[38;5;241m=\u001B[39m \u001B[43mMurckoScaffold\u001B[49m\u001B[38;5;241;43m.\u001B[39;49m\u001B[43mMurckoScaffoldSmiles\u001B[49m\u001B[43m(\u001B[49m\n\u001B[1;32m     26\u001B[0m \u001B[43m        \u001B[49m\u001B[43msmiles\u001B[49m\u001B[38;5;241;43m=\u001B[39;49m\u001B[43msmiles\u001B[49m\u001B[43m,\u001B[49m\u001B[43m \u001B[49m\u001B[43mincludeChirality\u001B[49m\u001B[38;5;241;43m=\u001B[39;49m\u001B[43minclude_chirality\u001B[49m\u001B[43m)\u001B[49m\n\u001B[1;32m     27\u001B[0m     \u001B[38;5;28;01mreturn\u001B[39;00m scaffold\n",
      "File \u001B[0;32m~/miniconda3/envs/hybrid-transformer/lib/python3.11/site-packages/rdkit/Chem/Scaffolds/MurckoScaffold.py:114\u001B[0m, in \u001B[0;36mMurckoScaffoldSmiles\u001B[0;34m(smiles, mol, includeChirality)\u001B[0m\n\u001B[1;32m    112\u001B[0m   mol \u001B[38;5;241m=\u001B[39m Chem\u001B[38;5;241m.\u001B[39mMolFromSmiles(smiles)\n\u001B[1;32m    113\u001B[0m \u001B[38;5;28;01mif\u001B[39;00m mol \u001B[38;5;129;01mis\u001B[39;00m \u001B[38;5;28;01mNone\u001B[39;00m:\n\u001B[0;32m--> 114\u001B[0m   \u001B[38;5;28;01mraise\u001B[39;00m \u001B[38;5;167;01mValueError\u001B[39;00m(\u001B[38;5;124m'\u001B[39m\u001B[38;5;124mNo molecule provided\u001B[39m\u001B[38;5;124m'\u001B[39m)\n\u001B[1;32m    115\u001B[0m scaffold \u001B[38;5;241m=\u001B[39m GetScaffoldForMol(mol)\n\u001B[1;32m    116\u001B[0m \u001B[38;5;28;01mif\u001B[39;00m \u001B[38;5;129;01mnot\u001B[39;00m scaffold:\n",
      "\u001B[0;31mValueError\u001B[0m: No molecule provided"
     ]
    }
   ],
   "source": [
    "generate_scaffolds(dataset=dataset)"
   ],
   "metadata": {
    "collapsed": false,
    "ExecuteTime": {
     "end_time": "2024-03-25T12:09:43.687480020Z",
     "start_time": "2024-03-25T12:09:43.628203998Z"
    }
   },
   "id": "66aacc147ef6baa9"
  },
  {
   "cell_type": "code",
   "execution_count": 50,
   "outputs": [
    {
     "data": {
      "text/plain": "<DiskDataset X.shape: (1631,), y.shape: (1631, 1), w.shape: (1631, 1), task_names: [0]>"
     },
     "execution_count": 50,
     "metadata": {},
     "output_type": "execute_result"
    }
   ],
   "source": [
    "train"
   ],
   "metadata": {
    "collapsed": false,
    "ExecuteTime": {
     "end_time": "2024-03-25T12:11:20.291397334Z",
     "start_time": "2024-03-25T12:11:20.242176117Z"
    }
   },
   "id": "5bee8c56d5b0bb7d"
  },
  {
   "cell_type": "code",
   "execution_count": 55,
   "outputs": [
    {
     "name": "stderr",
     "output_type": "stream",
     "text": [
      "[13:15:13] Explicit valence for atom # 1 N, 4, is greater than permitted\n",
      "[13:15:13] WARNING: not removing hydrogen atom without neighbors\n",
      "[13:15:13] Explicit valence for atom # 6 N, 4, is greater than permitted\n",
      "[13:15:13] WARNING: not removing hydrogen atom without neighbors\n",
      "[13:15:13] WARNING: not removing hydrogen atom without neighbors\n",
      "[13:15:13] WARNING: not removing hydrogen atom without neighbors\n",
      "[13:15:13] WARNING: not removing hydrogen atom without neighbors\n",
      "[13:15:13] WARNING: not removing hydrogen atom without neighbors\n",
      "[13:15:13] WARNING: not removing hydrogen atom without neighbors\n",
      "[13:15:13] Explicit valence for atom # 6 N, 4, is greater than permitted\n",
      "[13:15:13] WARNING: not removing hydrogen atom without neighbors\n",
      "[13:15:13] WARNING: not removing hydrogen atom without neighbors\n",
      "[13:15:13] WARNING: not removing hydrogen atom without neighbors\n",
      "[13:15:13] WARNING: not removing hydrogen atom without neighbors\n",
      "[13:15:13] Explicit valence for atom # 11 N, 4, is greater than permitted\n",
      "[13:15:13] Explicit valence for atom # 12 N, 4, is greater than permitted\n",
      "[13:15:13] Explicit valence for atom # 5 N, 4, is greater than permitted\n",
      "[13:15:13] Explicit valence for atom # 5 N, 4, is greater than permitted\n",
      "[13:15:13] Explicit valence for atom # 5 N, 4, is greater than permitted\n",
      "[13:15:13] Explicit valence for atom # 5 N, 4, is greater than permitted\n",
      "[13:15:13] Explicit valence for atom # 5 N, 4, is greater than permitted\n",
      "[13:15:13] WARNING: not removing hydrogen atom without neighbors\n",
      "[13:15:13] WARNING: not removing hydrogen atom without neighbors\n",
      "[13:15:13] Explicit valence for atom # 5 N, 4, is greater than permitted\n",
      "[13:15:13] WARNING: not removing hydrogen atom without neighbors\n",
      "[13:15:13] WARNING: not removing hydrogen atom without neighbors\n",
      "[13:15:13] WARNING: not removing hydrogen atom without neighbors\n",
      "[13:15:13] WARNING: not removing hydrogen atom without neighbors\n",
      "[13:15:13] WARNING: not removing hydrogen atom without neighbors\n",
      "[13:15:13] WARNING: not removing hydrogen atom without neighbors\n",
      "[13:15:13] WARNING: not removing hydrogen atom without neighbors\n",
      "[13:15:13] WARNING: not removing hydrogen atom without neighbors\n",
      "[13:15:13] WARNING: not removing hydrogen atom without neighbors\n",
      "[13:15:13] WARNING: not removing hydrogen atom without neighbors\n",
      "[13:15:13] WARNING: not removing hydrogen atom without neighbors\n",
      "[13:15:13] WARNING: not removing hydrogen atom without neighbors\n",
      "[13:15:13] WARNING: not removing hydrogen atom without neighbors\n",
      "[13:15:13] WARNING: not removing hydrogen atom without neighbors\n",
      "[13:15:13] WARNING: not removing hydrogen atom without neighbors\n",
      "[13:15:13] WARNING: not removing hydrogen atom without neighbors\n",
      "[13:15:13] WARNING: not removing hydrogen atom without neighbors\n",
      "[13:15:13] WARNING: not removing hydrogen atom without neighbors\n",
      "[13:15:13] WARNING: not removing hydrogen atom without neighbors\n",
      "[13:15:13] WARNING: not removing hydrogen atom without neighbors\n",
      "[13:15:13] WARNING: not removing hydrogen atom without neighbors\n",
      "[13:15:13] WARNING: not removing hydrogen atom without neighbors\n",
      "[13:15:13] WARNING: not removing hydrogen atom without neighbors\n",
      "[13:15:13] WARNING: not removing hydrogen atom without neighbors\n",
      "[13:15:13] WARNING: not removing hydrogen atom without neighbors\n",
      "[13:15:13] WARNING: not removing hydrogen atom without neighbors\n",
      "[13:15:13] WARNING: not removing hydrogen atom without neighbors\n"
     ]
    }
   ],
   "source": [
    "input_df = pd.read_csv(path, sep=',')\n",
    "smiles_list = input_df['smiles']\n",
    "rdkit_mol_objs_list = [AllChem.MolFromSmiles(s) for s in smiles_list]\n",
    "\n",
    "preprocessed_rdkit_mol_objs_list = [m if m != None else None for m in\n",
    "                                                      rdkit_mol_objs_list]\n",
    "preprocessed_smiles_list = [AllChem.MolToSmiles(m) if m != None else\n",
    "                            None for m in preprocessed_rdkit_mol_objs_list]\n",
    "preprocessed_smiles_list = [smiles for smiles in preprocessed_smiles_list if smiles is not None]"
   ],
   "metadata": {
    "collapsed": false,
    "ExecuteTime": {
     "end_time": "2024-03-25T12:15:13.784064771Z",
     "start_time": "2024-03-25T12:15:13.479630690Z"
    }
   },
   "id": "d5d3bfc574f6cc24"
  },
  {
   "cell_type": "code",
   "execution_count": 58,
   "outputs": [
    {
     "data": {
      "text/plain": "       num                               name  p_np  \\\n0        1                         Propanolol     1   \n1        2               Terbutylchlorambucil     1   \n2        3                              40730     1   \n3        4                                 24     1   \n4        5                        cloxacillin     1   \n...    ...                                ...   ...   \n2045  2049                         licostinel     1   \n2046  2050  ademetionine(adenosyl-methionine)     1   \n2047  2051                           mesocarb     1   \n2048  2052                         tofisoline     1   \n2049  2053                      azidamfenicol     1   \n\n                                                 smiles  \n0                      [Cl].CC(C)NCC(O)COc1cccc2ccccc12  \n1              C(=O)(OC(C)(C)C)CCCc1ccc(cc1)N(CCCl)CCCl  \n2     c12c3c(N4CCN(C)CC4)c(F)cc1c(c(C(O)=O)cn2C(C)CO...  \n3                      C1CCN(CC1)Cc1cccc(c1)OCCCNC(=O)C  \n4     Cc1onc(c2ccccc2Cl)c1C(=O)N[C@H]3[C@H]4SC(C)(C)...  \n...                                                 ...  \n2045    C1=C(Cl)C(=C(C2=C1NC(=O)C(N2)=O)[N+](=O)[O-])Cl  \n2046  [C@H]3([N]2C1=C(C(=NC=N1)N)N=C2)[C@@H]([C@@H](...  \n2047  [O+]1=N[N](C=C1[N-]C(NC2=CC=CC=C2)=O)C(CC3=CC=...  \n2048  C1=C(OC)C(=CC2=C1C(=[N+](C(=C2CC)C)[NH-])C3=CC...  \n2049  [N+](=NCC(=O)N[C@@H]([C@H](O)C1=CC=C([N+]([O-]...  \n\n[2050 rows x 4 columns]",
      "text/html": "<div>\n<style scoped>\n    .dataframe tbody tr th:only-of-type {\n        vertical-align: middle;\n    }\n\n    .dataframe tbody tr th {\n        vertical-align: top;\n    }\n\n    .dataframe thead th {\n        text-align: right;\n    }\n</style>\n<table border=\"1\" class=\"dataframe\">\n  <thead>\n    <tr style=\"text-align: right;\">\n      <th></th>\n      <th>num</th>\n      <th>name</th>\n      <th>p_np</th>\n      <th>smiles</th>\n    </tr>\n  </thead>\n  <tbody>\n    <tr>\n      <th>0</th>\n      <td>1</td>\n      <td>Propanolol</td>\n      <td>1</td>\n      <td>[Cl].CC(C)NCC(O)COc1cccc2ccccc12</td>\n    </tr>\n    <tr>\n      <th>1</th>\n      <td>2</td>\n      <td>Terbutylchlorambucil</td>\n      <td>1</td>\n      <td>C(=O)(OC(C)(C)C)CCCc1ccc(cc1)N(CCCl)CCCl</td>\n    </tr>\n    <tr>\n      <th>2</th>\n      <td>3</td>\n      <td>40730</td>\n      <td>1</td>\n      <td>c12c3c(N4CCN(C)CC4)c(F)cc1c(c(C(O)=O)cn2C(C)CO...</td>\n    </tr>\n    <tr>\n      <th>3</th>\n      <td>4</td>\n      <td>24</td>\n      <td>1</td>\n      <td>C1CCN(CC1)Cc1cccc(c1)OCCCNC(=O)C</td>\n    </tr>\n    <tr>\n      <th>4</th>\n      <td>5</td>\n      <td>cloxacillin</td>\n      <td>1</td>\n      <td>Cc1onc(c2ccccc2Cl)c1C(=O)N[C@H]3[C@H]4SC(C)(C)...</td>\n    </tr>\n    <tr>\n      <th>...</th>\n      <td>...</td>\n      <td>...</td>\n      <td>...</td>\n      <td>...</td>\n    </tr>\n    <tr>\n      <th>2045</th>\n      <td>2049</td>\n      <td>licostinel</td>\n      <td>1</td>\n      <td>C1=C(Cl)C(=C(C2=C1NC(=O)C(N2)=O)[N+](=O)[O-])Cl</td>\n    </tr>\n    <tr>\n      <th>2046</th>\n      <td>2050</td>\n      <td>ademetionine(adenosyl-methionine)</td>\n      <td>1</td>\n      <td>[C@H]3([N]2C1=C(C(=NC=N1)N)N=C2)[C@@H]([C@@H](...</td>\n    </tr>\n    <tr>\n      <th>2047</th>\n      <td>2051</td>\n      <td>mesocarb</td>\n      <td>1</td>\n      <td>[O+]1=N[N](C=C1[N-]C(NC2=CC=CC=C2)=O)C(CC3=CC=...</td>\n    </tr>\n    <tr>\n      <th>2048</th>\n      <td>2052</td>\n      <td>tofisoline</td>\n      <td>1</td>\n      <td>C1=C(OC)C(=CC2=C1C(=[N+](C(=C2CC)C)[NH-])C3=CC...</td>\n    </tr>\n    <tr>\n      <th>2049</th>\n      <td>2053</td>\n      <td>azidamfenicol</td>\n      <td>1</td>\n      <td>[N+](=NCC(=O)N[C@@H]([C@H](O)C1=CC=C([N+]([O-]...</td>\n    </tr>\n  </tbody>\n</table>\n<p>2050 rows × 4 columns</p>\n</div>"
     },
     "execution_count": 58,
     "metadata": {},
     "output_type": "execute_result"
    }
   ],
   "source": [
    "input_df"
   ],
   "metadata": {
    "collapsed": false,
    "ExecuteTime": {
     "end_time": "2024-03-25T12:15:27.570370959Z",
     "start_time": "2024-03-25T12:15:27.562949812Z"
    }
   },
   "id": "b3a757ac4d661f79"
  },
  {
   "cell_type": "code",
   "execution_count": 109,
   "outputs": [],
   "source": [
    "import os\n",
    "import torch\n",
    "import random\n",
    "\n",
    "import numpy as np\n",
    "import pandas as pd\n",
    "\n",
    "from urllib.request import urlretrieve\n",
    "from itertools import compress\n",
    "from rdkit.Chem.Scaffolds import MurckoScaffold\n",
    "from collections import defaultdict\n",
    "from sklearn.model_selection import StratifiedKFold\n",
    "from rdkit import Chem, DataStructs\n",
    "from rdkit.Chem.AllChem import MolToSmiles, MolFromSmiles \n",
    "from rdkit.ML.Cluster import Butina\n",
    "# splitter function\n",
    "\n",
    "def create_dir_from_path(path: str, overwrite: bool = True) -> None:\n",
    "    os.makedirs(os.path.dirname(path), exist_ok=overwrite)\n",
    "\n",
    "def create_dir(dir: str, overwrite: bool = True) -> None:\n",
    "    os.makedirs(dir, exist_ok=overwrite)\n",
    "\n",
    "def download_bbpb_dataset(path: str) -> None:\n",
    "    create_dir_from_path(path)\n",
    "    url = 'https://deepchemdata.s3-us-west-1.amazonaws.com/datasets/BBBP.csv'\n",
    "    urlretrieve(url, path)\n",
    "\n",
    "def _load_bbbp_dataset(input_path, seed: int = 0):\n",
    "    input = pd.read_csv(path, sep=',')\n",
    "    input_smiles = input['smiles']\n",
    "    input_labels = input['p_np']\n",
    "    input_labels.replace(-1, 0, inplace=True)\n",
    "    \n",
    "    assert len(input_smiles) == len(input_labels)\n",
    "    mols = [MolFromSmiles(smiles) for smiles in input_smiles]\n",
    "    output_smiles = [MolToSmiles(mol) for mol in mols if mol]\n",
    "    output_labels = [label for mol, label in zip(mols, input_labels) if mol]\n",
    "\n",
    "    dataset = dc.data.DiskDataset.from_numpy(ids=output_smiles, X=np.array(output_labels))\n",
    "    scaffoldsplitter = dc.splits.ScaffoldSplitter()\n",
    "    train_dataset, val_dataset, test_dataset = scaffoldsplitter.train_valid_test_split(dataset, seed=seed)\n",
    "    \n",
    "    return train_dataset, val_dataset, test_dataset\n",
    "\n"
   ],
   "metadata": {
    "collapsed": false,
    "ExecuteTime": {
     "end_time": "2024-03-25T12:32:57.126910298Z",
     "start_time": "2024-03-25T12:32:57.115311896Z"
    }
   },
   "id": "b27e6591197e3f31"
  },
  {
   "cell_type": "code",
   "execution_count": 110,
   "outputs": [
    {
     "name": "stderr",
     "output_type": "stream",
     "text": [
      "[13:32:58] Explicit valence for atom # 1 N, 4, is greater than permitted\n",
      "[13:32:58] WARNING: not removing hydrogen atom without neighbors\n",
      "[13:32:58] Explicit valence for atom # 6 N, 4, is greater than permitted\n",
      "[13:32:58] WARNING: not removing hydrogen atom without neighbors\n",
      "[13:32:58] WARNING: not removing hydrogen atom without neighbors\n",
      "[13:32:58] WARNING: not removing hydrogen atom without neighbors\n",
      "[13:32:58] WARNING: not removing hydrogen atom without neighbors\n",
      "[13:32:58] WARNING: not removing hydrogen atom without neighbors\n",
      "[13:32:58] WARNING: not removing hydrogen atom without neighbors\n",
      "[13:32:58] Explicit valence for atom # 6 N, 4, is greater than permitted\n",
      "[13:32:58] WARNING: not removing hydrogen atom without neighbors\n",
      "[13:32:58] WARNING: not removing hydrogen atom without neighbors\n",
      "[13:32:58] WARNING: not removing hydrogen atom without neighbors\n",
      "[13:32:58] WARNING: not removing hydrogen atom without neighbors\n",
      "[13:32:58] Explicit valence for atom # 11 N, 4, is greater than permitted\n",
      "[13:32:58] Explicit valence for atom # 12 N, 4, is greater than permitted\n",
      "[13:32:58] Explicit valence for atom # 5 N, 4, is greater than permitted\n",
      "[13:32:58] Explicit valence for atom # 5 N, 4, is greater than permitted\n",
      "[13:32:58] Explicit valence for atom # 5 N, 4, is greater than permitted\n",
      "[13:32:58] Explicit valence for atom # 5 N, 4, is greater than permitted\n",
      "[13:32:58] Explicit valence for atom # 5 N, 4, is greater than permitted\n",
      "[13:32:58] WARNING: not removing hydrogen atom without neighbors\n",
      "[13:32:58] WARNING: not removing hydrogen atom without neighbors\n",
      "[13:32:58] Explicit valence for atom # 5 N, 4, is greater than permitted\n",
      "[13:32:58] WARNING: not removing hydrogen atom without neighbors\n",
      "[13:32:58] WARNING: not removing hydrogen atom without neighbors\n",
      "[13:32:58] WARNING: not removing hydrogen atom without neighbors\n",
      "[13:32:58] WARNING: not removing hydrogen atom without neighbors\n",
      "[13:32:58] WARNING: not removing hydrogen atom without neighbors\n",
      "[13:32:58] WARNING: not removing hydrogen atom without neighbors\n",
      "[13:32:58] WARNING: not removing hydrogen atom without neighbors\n",
      "[13:32:58] WARNING: not removing hydrogen atom without neighbors\n",
      "[13:32:58] WARNING: not removing hydrogen atom without neighbors\n",
      "[13:32:58] WARNING: not removing hydrogen atom without neighbors\n",
      "[13:32:58] WARNING: not removing hydrogen atom without neighbors\n",
      "[13:32:58] WARNING: not removing hydrogen atom without neighbors\n",
      "[13:32:58] WARNING: not removing hydrogen atom without neighbors\n",
      "[13:32:58] WARNING: not removing hydrogen atom without neighbors\n",
      "[13:32:58] WARNING: not removing hydrogen atom without neighbors\n",
      "[13:32:58] WARNING: not removing hydrogen atom without neighbors\n",
      "[13:32:58] WARNING: not removing hydrogen atom without neighbors\n",
      "[13:32:58] WARNING: not removing hydrogen atom without neighbors\n",
      "[13:32:58] WARNING: not removing hydrogen atom without neighbors\n",
      "[13:32:58] WARNING: not removing hydrogen atom without neighbors\n",
      "[13:32:58] WARNING: not removing hydrogen atom without neighbors\n",
      "[13:32:58] WARNING: not removing hydrogen atom without neighbors\n",
      "[13:32:58] WARNING: not removing hydrogen atom without neighbors\n",
      "[13:32:58] WARNING: not removing hydrogen atom without neighbors\n",
      "[13:32:58] WARNING: not removing hydrogen atom without neighbors\n",
      "[13:32:58] WARNING: not removing hydrogen atom without neighbors\n",
      "[13:32:58] WARNING: not removing hydrogen atom without neighbors\n",
      "[13:32:58] WARNING: not removing hydrogen atom without neighbors\n",
      "[13:32:58] WARNING: not removing hydrogen atom without neighbors\n",
      "[13:32:58] WARNING: not removing hydrogen atom without neighbors\n",
      "[13:32:58] WARNING: not removing hydrogen atom without neighbors\n",
      "[13:32:58] WARNING: not removing hydrogen atom without neighbors\n",
      "[13:32:58] WARNING: not removing hydrogen atom without neighbors\n",
      "[13:32:58] WARNING: not removing hydrogen atom without neighbors\n",
      "[13:32:58] WARNING: not removing hydrogen atom without neighbors\n",
      "[13:32:58] WARNING: not removing hydrogen atom without neighbors\n",
      "[13:32:59] WARNING: not removing hydrogen atom without neighbors\n",
      "[13:32:59] WARNING: not removing hydrogen atom without neighbors\n",
      "[13:32:59] WARNING: not removing hydrogen atom without neighbors\n",
      "[13:32:59] WARNING: not removing hydrogen atom without neighbors\n",
      "[13:32:59] WARNING: not removing hydrogen atom without neighbors\n",
      "[13:32:59] WARNING: not removing hydrogen atom without neighbors\n",
      "[13:32:59] WARNING: not removing hydrogen atom without neighbors\n",
      "[13:32:59] WARNING: not removing hydrogen atom without neighbors\n",
      "[13:32:59] WARNING: not removing hydrogen atom without neighbors\n",
      "[13:32:59] WARNING: not removing hydrogen atom without neighbors\n",
      "[13:32:59] WARNING: not removing hydrogen atom without neighbors\n",
      "[13:32:59] WARNING: not removing hydrogen atom without neighbors\n",
      "[13:32:59] WARNING: not removing hydrogen atom without neighbors\n",
      "[13:32:59] WARNING: not removing hydrogen atom without neighbors\n",
      "[13:32:59] WARNING: not removing hydrogen atom without neighbors\n",
      "[13:32:59] WARNING: not removing hydrogen atom without neighbors\n",
      "[13:32:59] WARNING: not removing hydrogen atom without neighbors\n",
      "[13:32:59] WARNING: not removing hydrogen atom without neighbors\n",
      "[13:32:59] WARNING: not removing hydrogen atom without neighbors\n",
      "[13:32:59] WARNING: not removing hydrogen atom without neighbors\n",
      "[13:32:59] WARNING: not removing hydrogen atom without neighbors\n",
      "[13:32:59] WARNING: not removing hydrogen atom without neighbors\n",
      "[13:32:59] WARNING: not removing hydrogen atom without neighbors\n",
      "[13:32:59] WARNING: not removing hydrogen atom without neighbors\n",
      "[13:32:59] WARNING: not removing hydrogen atom without neighbors\n",
      "[13:32:59] WARNING: not removing hydrogen atom without neighbors\n",
      "[13:32:59] WARNING: not removing hydrogen atom without neighbors\n",
      "[13:32:59] WARNING: not removing hydrogen atom without neighbors\n",
      "[13:32:59] WARNING: not removing hydrogen atom without neighbors\n",
      "[13:32:59] WARNING: not removing hydrogen atom without neighbors\n",
      "[13:32:59] WARNING: not removing hydrogen atom without neighbors\n"
     ]
    }
   ],
   "source": [
    "x, y, z = _load_bbbp_dataset(path)"
   ],
   "metadata": {
    "collapsed": false,
    "ExecuteTime": {
     "end_time": "2024-03-25T12:32:59.390707185Z",
     "start_time": "2024-03-25T12:32:58.592145321Z"
    }
   },
   "id": "4c87bfa63f143fdd"
  },
  {
   "cell_type": "code",
   "execution_count": 112,
   "outputs": [
    {
     "data": {
      "text/plain": "array([1, 1, 1, ..., 1, 1, 1])"
     },
     "execution_count": 112,
     "metadata": {},
     "output_type": "execute_result"
    }
   ],
   "source": [
    "x.X"
   ],
   "metadata": {
    "collapsed": false,
    "ExecuteTime": {
     "end_time": "2024-03-25T12:33:08.350056198Z",
     "start_time": "2024-03-25T12:33:08.337995101Z"
    }
   },
   "id": "c6570693e92a47dd"
  },
  {
   "cell_type": "code",
   "execution_count": 1,
   "outputs": [],
   "source": [
    "# Auxiliary functions\n",
    "\n",
    "def save_strings_to_file(strings, filename):\n",
    "    with open(filename, 'w') as f:\n",
    "        for s in strings:\n",
    "            f.write(s + '\\n')\n",
    "\n",
    "def read_strings_from_file(filename):\n",
    "    with open(filename, 'r') as f:\n",
    "        strings = f.read().splitlines()\n",
    "    return strings\n",
    "\n",
    "def convert_strings_to_lists(strings):\n",
    "    return [[s, f'MOL{i}'] for i, s in enumerate(strings)]"
   ],
   "metadata": {
    "collapsed": false,
    "ExecuteTime": {
     "end_time": "2024-03-26T08:16:17.559301984Z",
     "start_time": "2024-03-26T08:16:17.536322209Z"
    }
   },
   "id": "b599b61acaf1d85e"
  },
  {
   "cell_type": "code",
   "execution_count": 2,
   "outputs": [],
   "source": [
    "smiles = read_strings_from_file('generated.smi')"
   ],
   "metadata": {
    "collapsed": false,
    "ExecuteTime": {
     "end_time": "2024-03-26T08:16:35.910640520Z",
     "start_time": "2024-03-26T08:16:35.851114290Z"
    }
   },
   "id": "b52e7d34a7239a92"
  },
  {
   "cell_type": "code",
   "execution_count": 6,
   "outputs": [],
   "source": [
    "from hybrid_transformer.utils.objectives.moses.objective import get_objective"
   ],
   "metadata": {
    "collapsed": false,
    "ExecuteTime": {
     "end_time": "2024-03-26T08:17:32.889541459Z",
     "start_time": "2024-03-26T08:17:32.842481027Z"
    }
   },
   "id": "ff7c3effc4a1a7a8"
  },
  {
   "cell_type": "code",
   "execution_count": 7,
   "outputs": [
    {
     "name": "stdout",
     "output_type": "stream",
     "text": [
      "/home/adam/Projects/moses/moses/dataset/data/test.csv.gz\n",
      "/home/adam/Projects/moses/moses/dataset/data/test_scaffolds.csv.gz\n",
      "/home/adam/Projects/moses/moses/dataset/data/train.csv.gz\n"
     ]
    }
   ],
   "source": [
    "metrics = get_objective(smiles)"
   ],
   "metadata": {
    "collapsed": false,
    "ExecuteTime": {
     "end_time": "2024-03-26T08:25:26.035670701Z",
     "start_time": "2024-03-26T08:17:41.776665194Z"
    }
   },
   "id": "a583a1b0dfd851a"
  },
  {
   "cell_type": "code",
   "execution_count": 8,
   "outputs": [
    {
     "data": {
      "text/plain": "{'valid': 0.9529,\n 'unique@1000': 1.0,\n 'unique@10000': 0.9999,\n 'FCD/Test': 0.18068347051449507,\n 'SNN/Test': 0.5714019671633465,\n 'Frag/Test': 0.999153999788018,\n 'Scaf/Test': 0.8859800068053832,\n 'FCD/TestSF': 0.5111819192986502,\n 'SNN/TestSF': 0.5436300195756962,\n 'Frag/TestSF': 0.9978182492783069,\n 'Scaf/TestSF': 0.14618756082841888,\n 'IntDiv': 0.8575259806947184,\n 'IntDiv2': 0.8516036671470553,\n 'Filters': 0.990450204638472,\n 'logP': 0.07505920151697842,\n 'SA': 0.05915788739249688,\n 'QED': 0.0066677600236235805,\n 'weight': 1.8791646401769406,\n 'Novelty': 0.9127314733783737}"
     },
     "execution_count": 8,
     "metadata": {},
     "output_type": "execute_result"
    }
   ],
   "source": [
    "metrics"
   ],
   "metadata": {
    "collapsed": false,
    "ExecuteTime": {
     "end_time": "2024-03-26T08:26:42.125294011Z",
     "start_time": "2024-03-26T08:26:42.075058997Z"
    }
   },
   "id": "f9dee3892925b63a"
  },
  {
   "cell_type": "code",
   "execution_count": 10,
   "outputs": [
    {
     "data": {
      "text/plain": "0.7803599432780343"
     },
     "execution_count": 10,
     "metadata": {},
     "output_type": "execute_result"
    }
   ],
   "source": [
    "import math\n",
    "\n",
    "math.exp(-0.2 * 1.24)"
   ],
   "metadata": {
    "collapsed": false,
    "ExecuteTime": {
     "end_time": "2024-03-26T09:56:28.956219718Z",
     "start_time": "2024-03-26T09:56:28.912669273Z"
    }
   },
   "id": "a8df70c4717a1554"
  },
  {
   "cell_type": "code",
   "execution_count": 3,
   "outputs": [
    {
     "data": {
      "text/plain": "0.5279204485526204"
     },
     "execution_count": 3,
     "metadata": {},
     "output_type": "execute_result"
    }
   ],
   "source": [
    "import math\n",
    "\n",
    "math.sqrt(0.2787)"
   ],
   "metadata": {
    "collapsed": false,
    "ExecuteTime": {
     "end_time": "2024-03-26T18:09:30.795704757Z",
     "start_time": "2024-03-26T18:09:30.774709489Z"
    }
   },
   "id": "d6170adc2a5e9ae0"
  },
  {
   "cell_type": "code",
   "execution_count": null,
   "outputs": [],
   "source": [],
   "metadata": {
    "collapsed": false
   },
   "id": "5cdce3bdeeacc942"
  }
 ],
 "metadata": {
  "kernelspec": {
   "display_name": "Python 3",
   "language": "python",
   "name": "python3"
  },
  "language_info": {
   "codemirror_mode": {
    "name": "ipython",
    "version": 2
   },
   "file_extension": ".py",
   "mimetype": "text/x-python",
   "name": "python",
   "nbconvert_exporter": "python",
   "pygments_lexer": "ipython2",
   "version": "2.7.6"
  }
 },
 "nbformat": 4,
 "nbformat_minor": 5
}
