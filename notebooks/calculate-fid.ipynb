{
 "cells": [
  {
   "cell_type": "markdown",
   "source": [
    "https://huggingface.co/docs/transformers/model_doc/imagegpt"
   ],
   "metadata": {
    "collapsed": false
   },
   "id": "6fb722f840afbc52"
  },
  {
   "cell_type": "code",
   "execution_count": 1,
   "outputs": [
    {
     "name": "stderr",
     "output_type": "stream",
     "text": [
      "/home/aizdebski/micromamba/envs/hybrid-transformer/lib/python3.11/site-packages/tqdm/auto.py:21: TqdmWarning: IProgress not found. Please update jupyter and ipywidgets. See https://ipywidgets.readthedocs.io/en/stable/user_install.html\n",
      "  from .autonotebook import tqdm as notebook_tqdm\n"
     ]
    }
   ],
   "source": [
    "import torch\n",
    "import torchvision\n",
    "\n",
    "import numpy as np\n",
    "from tqdm import tqdm\n",
    "import torch.nn as nn\n",
    "from torch.utils.data import Dataset\n",
    "import torchvision.transforms as transforms\n",
    "\n",
    "import matplotlib.pyplot as plt\n",
    "\n",
    "from PIL import Image\n",
    "\n",
    "from transformers import ImageGPTFeatureExtractor, ImageGPTForCausalImageModeling\n",
    "\n",
    "from hybrid_transformer.evaluation.inception import InceptionV3\n",
    "\n",
    "from hybrid_transformer.evaluation.fid import calculate_frechet_distance\n",
    "\n",
    "\n",
    "%matplotlib inline\n",
    "\n",
    "%load_ext autoreload\n",
    "%autoreload 2\n"
   ],
   "metadata": {
    "collapsed": true,
    "ExecuteTime": {
     "end_time": "2023-12-07T16:56:33.436939569Z",
     "start_time": "2023-12-07T16:56:31.591879704Z"
    }
   },
   "id": "cc4f73253cc6efa8"
  },
  {
   "cell_type": "code",
   "execution_count": 5,
   "outputs": [],
   "source": [
    "BATCH_SIZE = 256\n",
    "\n",
    "transform = transforms.Compose(\n",
    "    [transforms.ToTensor(),\n",
    "     transforms.Normalize((0.5, 0.5, 0.5), (0.5, 0.5, 0.5))])\n",
    "\n",
    "transform_normalize = transforms.Compose(\n",
    "     [transforms.Normalize((0.5, 0.5, 0.5), (0.5, 0.5, 0.5))])\n",
    "    \n",
    "\n",
    "class ImageDataset(Dataset):\n",
    "    \"\"\"Face Landmarks dataset.\"\"\"\n",
    "\n",
    "    def __init__(self, path, transform=None):\n",
    "        \"\"\"\n",
    "        Arguments:\n",
    "            csv_file (string): Path to the csv file with annotations.\n",
    "            root_dir (string): Directory with all the images.\n",
    "            transform (callable, optional): Optional transform to be applied\n",
    "                on a sample.\n",
    "        \"\"\"\n",
    "        self.data = self._load_images(path)\n",
    "        self.transform = transform\n",
    "\n",
    "    def __len__(self):\n",
    "        return len(self.data)\n",
    "\n",
    "    def __getitem__(self, idx):\n",
    "        \n",
    "        sample = self.data[idx]\n",
    "\n",
    "        if self.transform:\n",
    "            sample = self.transform(sample)\n",
    "\n",
    "        return sample.float(), torch.Tensor([0.])\n",
    "    \n",
    "    @staticmethod\n",
    "    def _load_images(path):\n",
    "        images = np.load(path)['arr_0'].astype(np.uint8).transpose((0, 2, 3, 1))\n",
    "        return images\n",
    "    \n",
    "\n",
    "def load_fid_score_model(device: torch.device) -> torch.nn.Module:\n",
    "    block_idx = InceptionV3.BLOCK_INDEX_BY_DIM[2048]\n",
    "    model = InceptionV3([block_idx]).to(device)\n",
    "    model = model.to(device)\n",
    "    model.eval()\n",
    "    return lambda batch: model(batch)[0]\n",
    "\n",
    "\n",
    "@torch.no_grad()\n",
    "def calculate_distribution(dataset):\n",
    "    \n",
    "    loader = torch.utils.data.DataLoader(\n",
    "        dataset, batch_size=BATCH_SIZE, shuffle=False, num_workers=2)\n",
    "    device = torch.device(\"cuda\" if torch.cuda.is_available() else \"cpu\")\n",
    "    distribution = []\n",
    "    \n",
    "    score_model = load_fid_score_model(device)\n",
    "    \n",
    "    for idx, batch in enumerate(loader):\n",
    "        x, y = batch\n",
    "        distribution.append(score_model(x.to(device)).cpu().detach().numpy())\n",
    "        if idx > 10:\n",
    "            break\n",
    "            \n",
    "    distribution_orig = np.array(np.concatenate(distribution)).reshape(-1, 2048)\n",
    "    \n",
    "    return distribution_orig\n",
    "\n",
    "\n",
    "def plot_image_batch(imgs):\n",
    "    \n",
    "    imgs = [img.transpose(1, 2, 0) for img in imgs]\n",
    "    \n",
    "    f, axes = plt.subplots(1, len(imgs), dpi=300)\n",
    "    \n",
    "    for img, ax in zip(imgs, axes):\n",
    "        ax.axis('off')\n",
    "        ax.imshow(img)    \n",
    "        "
   ],
   "metadata": {
    "collapsed": false,
    "ExecuteTime": {
     "end_time": "2023-12-07T11:11:30.320264086Z",
     "start_time": "2023-12-07T11:11:30.305577659Z"
    }
   },
   "id": "415c20d4e552b0ce"
  },
  {
   "cell_type": "code",
   "execution_count": 31,
   "outputs": [],
   "source": [
    "\n",
    "class ImageDataset(torchvision.datasets.VisionDataset):\n",
    "\n",
    "    def __init__(self, root, path_to_data, transform=None, target_transform=None, feature_extractor=None):\n",
    "       \n",
    "        super().__init__(root=root, transform=transform, target_transform=target_transform)\n",
    "        self.data = self._load_images(path_to_data)\n",
    "        self.targets = np.zeros((len(self.data), ), dtype=np.float32)\n",
    "        self.transform = transform\n",
    "        self.feature_extractor = feature_extractor\n",
    "        \n",
    "    def __len__(self):\n",
    "        return len(self.data)\n",
    "\n",
    "    def __getitem__(self, index):\n",
    "        \n",
    "        img, target = self.data[index], self.targets[index]\n",
    "        \n",
    "        img = Image.fromarray(img)\n",
    "        \n",
    "        if self.feature_extractor is not None:\n",
    "            img = self.feature_extractor(img)['input_ids'][0]\n",
    "    \n",
    "        if self.transform is not None:\n",
    "            img = self.transform(img)\n",
    "\n",
    "        if self.target_transform is not None:\n",
    "            target = self.target_transform(target)\n",
    "            \n",
    "        return img, target\n",
    "    \n",
    "    @staticmethod\n",
    "    def _load_images(path):\n",
    "        images = np.load(path)['arr_0'].astype(np.uint8).transpose((0, 2, 3, 1))\n",
    "        return images"
   ],
   "metadata": {
    "collapsed": false,
    "ExecuteTime": {
     "end_time": "2023-12-07T11:18:13.999689292Z",
     "start_time": "2023-12-07T11:18:13.955603903Z"
    }
   },
   "id": "c1a99e7143f01ae"
  },
  {
   "cell_type": "code",
   "execution_count": 7,
   "outputs": [
    {
     "name": "stdout",
     "output_type": "stream",
     "text": [
      "Files already downloaded and verified\n"
     ]
    }
   ],
   "source": [
    "test_set = torchvision.datasets.CIFAR10(\n",
    "    root='data/', train=False, download=True, transform=transform)\n",
    "\n",
    "generated_set = ImageDataset(root='data/', path_to_data='sampled.npz', transform=transform)"
   ],
   "metadata": {
    "collapsed": false,
    "ExecuteTime": {
     "end_time": "2023-12-07T11:11:35.856679018Z",
     "start_time": "2023-12-07T11:11:35.337593362Z"
    }
   },
   "id": "924990c7a299e41f"
  },
  {
   "cell_type": "code",
   "execution_count": 90,
   "outputs": [],
   "source": [
    "test_distribution = calculate_distribution(test_set)\n",
    "generated_distribution = calculate_distribution(generated_set)"
   ],
   "metadata": {
    "collapsed": false,
    "ExecuteTime": {
     "end_time": "2023-12-07T09:45:24.478016712Z",
     "start_time": "2023-12-07T09:45:02.866567244Z"
    }
   },
   "id": "bf1a104b02a2d1db"
  },
  {
   "cell_type": "code",
   "execution_count": 91,
   "outputs": [
    {
     "data": {
      "text/plain": "69.72788529698545"
     },
     "execution_count": 91,
     "metadata": {},
     "output_type": "execute_result"
    }
   ],
   "source": [
    "calculate_frechet_distance(test_distribution, generated_distribution)"
   ],
   "metadata": {
    "collapsed": false,
    "ExecuteTime": {
     "end_time": "2023-12-07T09:45:29.114290730Z",
     "start_time": "2023-12-07T09:45:24.479677937Z"
    }
   },
   "id": "3fb77528f10f95a4"
  },
  {
   "cell_type": "code",
   "execution_count": 8,
   "outputs": [],
   "source": [
    "loader_test = torch.utils.data.DataLoader(\n",
    "        test_set, batch_size=BATCH_SIZE, shuffle=False, num_workers=2)\n",
    "loader_generated = torch.utils.data.DataLoader(\n",
    "        generated_set, batch_size=BATCH_SIZE, shuffle=False, num_workers=2)"
   ],
   "metadata": {
    "collapsed": false,
    "ExecuteTime": {
     "end_time": "2023-12-07T11:13:02.435751557Z",
     "start_time": "2023-12-07T11:13:02.389900129Z"
    }
   },
   "id": "b2854be0d1a87db8"
  },
  {
   "cell_type": "code",
   "execution_count": 75,
   "outputs": [
    {
     "data": {
      "text/plain": "<Figure size 1920x1440 with 10 Axes>",
      "image/png": "[encoded data removed]"
     },
     "metadata": {},
     "output_type": "display_data"
    }
   ],
   "source": [
    "x, y = next(iter(loader_test))\n",
    "plot_image_batch((x[:10].numpy() + 1) / 2)"
   ],
   "metadata": {
    "collapsed": false,
    "ExecuteTime": {
     "end_time": "2023-12-07T09:42:01.116086221Z",
     "start_time": "2023-12-07T09:41:59.907578810Z"
    }
   },
   "id": "99d938276c313a95"
  },
  {
   "cell_type": "code",
   "execution_count": 87,
   "outputs": [
    {
     "data": {
      "text/plain": "<Figure size 1920x1440 with 10 Axes>",
      "image/png": "[encoded data removed]"
     },
     "metadata": {},
     "output_type": "display_data"
    }
   ],
   "source": [
    "x, y = next(iter(loader_generated))\n",
    "plot_image_batch((x[:10].numpy() + 1) / 2)"
   ],
   "metadata": {
    "collapsed": false,
    "ExecuteTime": {
     "end_time": "2023-12-07T09:44:00.098830864Z",
     "start_time": "2023-12-07T09:43:58.584342863Z"
    }
   },
   "id": "2e30b7c40be5a336"
  },
  {
   "cell_type": "code",
   "execution_count": 92,
   "outputs": [
    {
     "data": {
      "text/plain": "5479"
     },
     "execution_count": 92,
     "metadata": {},
     "output_type": "execute_result"
    }
   ],
   "source": [
    "len(generated_set)"
   ],
   "metadata": {
    "collapsed": false,
    "ExecuteTime": {
     "end_time": "2023-12-07T09:49:43.620841083Z",
     "start_time": "2023-12-07T09:49:43.580160097Z"
    }
   },
   "id": "9881760daaa1d2b6"
  },
  {
   "cell_type": "markdown",
   "source": [
    "## Finetune"
   ],
   "metadata": {
    "collapsed": false
   },
   "id": "3f5a3b1ee4613518"
  },
  {
   "cell_type": "code",
   "execution_count": 11,
   "outputs": [],
   "source": [
    "import torch \n",
    "from datasets import load_dataset\n",
    "\n",
    "from transformers import TrainingArguments\n",
    "from transformers import ImageGPTFeatureExtractor, ImageGPTForCausalImageModeling"
   ],
   "metadata": {
    "collapsed": false,
    "ExecuteTime": {
     "end_time": "2023-12-07T11:13:54.763312688Z",
     "start_time": "2023-12-07T11:13:54.462214235Z"
    }
   },
   "id": "c301e5bf57ca5ba0"
  },
  {
   "cell_type": "code",
   "execution_count": 12,
   "outputs": [
    {
     "name": "stderr",
     "output_type": "stream",
     "text": [
      "/home/aizdebski/micromamba/envs/hybrid-transformer/lib/python3.11/site-packages/transformers/models/imagegpt/feature_extraction_imagegpt.py:28: FutureWarning: The class ImageGPTFeatureExtractor is deprecated and will be removed in version 5 of Transformers. Please use ImageGPTImageProcessor instead.\n",
      "  warnings.warn(\n"
     ]
    }
   ],
   "source": [
    "SIZE = 'small'\n",
    "PRETRAINED_MODEL = f'openai/imagegpt-{SIZE}'\n",
    "\n",
    "feature_extractor = ImageGPTFeatureExtractor.from_pretrained(PRETRAINED_MODEL)\n",
    "model = ImageGPTForCausalImageModeling.from_pretrained(PRETRAINED_MODEL)"
   ],
   "metadata": {
    "collapsed": false,
    "ExecuteTime": {
     "end_time": "2023-12-07T11:14:04.499322361Z",
     "start_time": "2023-12-07T11:14:02.891709058Z"
    }
   },
   "id": "30c9392c24d8fcb5"
  },
  {
   "cell_type": "code",
   "execution_count": 38,
   "outputs": [],
   "source": [],
   "metadata": {
    "collapsed": false,
    "ExecuteTime": {
     "end_time": "2023-12-07T11:19:19.070666920Z",
     "start_time": "2023-12-07T11:19:17.904023924Z"
    }
   },
   "id": "f251797d109db8a1"
  },
  {
   "cell_type": "code",
   "execution_count": 39,
   "outputs": [
    {
     "data": {
      "text/plain": "torch.Size([15, 3, 32, 32])"
     },
     "execution_count": 39,
     "metadata": {},
     "output_type": "execute_result"
    }
   ],
   "source": [
    "x.shape"
   ],
   "metadata": {
    "collapsed": false,
    "ExecuteTime": {
     "end_time": "2023-12-07T11:19:19.838244452Z",
     "start_time": "2023-12-07T11:19:19.818175353Z"
    }
   },
   "id": "f269ca057eb29541"
  },
  {
   "cell_type": "code",
   "execution_count": 35,
   "outputs": [],
   "source": [
    "generated_set = ImageDataset(root='data/', path_to_data='sampled.npz', feature_extractor=feature_extractor)\n",
    "generated_loader = torch.utils.data.DataLoader(\n",
    "        generated_set, batch_size=BATCH_SIZE, shuffle=False, num_workers=2)\n"
   ],
   "metadata": {
    "collapsed": false,
    "ExecuteTime": {
     "end_time": "2023-12-07T11:19:07.288961518Z",
     "start_time": "2023-12-07T11:19:07.240850219Z"
    }
   },
   "id": "b7f83af6d59aa881"
  },
  {
   "cell_type": "code",
   "execution_count": 36,
   "outputs": [],
   "source": [
    "x, y = generated_set[0]"
   ],
   "metadata": {
    "collapsed": false,
    "ExecuteTime": {
     "end_time": "2023-12-07T11:19:09.230395095Z",
     "start_time": "2023-12-07T11:19:09.181343713Z"
    }
   },
   "id": "2a49280e0bc4735d"
  },
  {
   "cell_type": "code",
   "execution_count": 40,
   "outputs": [],
   "source": [
    "x, y = next(iter(generated_loader))"
   ],
   "metadata": {
    "collapsed": false,
    "ExecuteTime": {
     "end_time": "2023-12-07T11:19:39.118875486Z",
     "start_time": "2023-12-07T11:19:37.869037562Z"
    }
   },
   "id": "ab8328183285759f"
  },
  {
   "cell_type": "code",
   "execution_count": 44,
   "outputs": [],
   "source": [
    "output = model(input_ids=x, labels=x)"
   ],
   "metadata": {
    "collapsed": false,
    "ExecuteTime": {
     "end_time": "2023-12-07T11:20:52.960787563Z",
     "start_time": "2023-12-07T11:20:42.836571169Z"
    }
   },
   "id": "46482f4b002ad5dc"
  },
  {
   "cell_type": "code",
   "execution_count": 45,
   "outputs": [
    {
     "data": {
      "text/plain": "tensor(1.9749, grad_fn=<NllLossBackward0>)"
     },
     "execution_count": 45,
     "metadata": {},
     "output_type": "execute_result"
    }
   ],
   "source": [
    "output.loss"
   ],
   "metadata": {
    "collapsed": false,
    "ExecuteTime": {
     "end_time": "2023-12-07T11:20:53.003413240Z",
     "start_time": "2023-12-07T11:20:52.977314840Z"
    }
   },
   "id": "2d296f8c8461c3e1"
  },
  {
   "cell_type": "code",
   "execution_count": null,
   "outputs": [],
   "source": [],
   "metadata": {
    "collapsed": false
   },
   "id": "d1153a9ab2079268"
  },
  {
   "cell_type": "markdown",
   "source": [
    "# Puścić na kwadratach\n"
   ],
   "metadata": {
    "collapsed": false
   },
   "id": "6daddf5e0f100f73"
  },
  {
   "cell_type": "code",
   "execution_count": null,
   "outputs": [],
   "source": [],
   "metadata": {
    "collapsed": false
   },
   "id": "e8d66c5dc32cda27"
  }
 ],
 "metadata": {
  "kernelspec": {
   "display_name": "Python 3",
   "language": "python",
   "name": "python3"
  },
  "language_info": {
   "codemirror_mode": {
    "name": "ipython",
    "version": 2
   },
   "file_extension": ".py",
   "mimetype": "text/x-python",
   "name": "python",
   "nbconvert_exporter": "python",
   "pygments_lexer": "ipython2",
   "version": "2.7.6"
  }
 },
 "nbformat": 4,
 "nbformat_minor": 5
}
