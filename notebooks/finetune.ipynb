{
 "cells": [
  {
   "cell_type": "code",
   "execution_count": 1,
   "id": "cedc4389f313f7e5",
   "metadata": {
    "collapsed": false,
    "ExecuteTime": {
     "end_time": "2023-12-07T10:48:19.025694739Z",
     "start_time": "2023-12-07T10:48:17.213290299Z"
    }
   },
   "outputs": [
    {
     "name": "stderr",
     "output_type": "stream",
     "text": [
      "/home/aizdebski/micromamba/envs/hybrid-transformer/lib/python3.11/site-packages/tqdm/auto.py:21: TqdmWarning: IProgress not found. Please update jupyter and ipywidgets. See https://ipywidgets.readthedocs.io/en/stable/user_install.html\n",
      "  from .autonotebook import tqdm as notebook_tqdm\n"
     ]
    }
   ],
   "source": [
    "import torch \n",
    "from datasets import load_dataset\n",
    "\n",
    "from transformers import TrainingArguments\n",
    "from transformers import ImageGPTFeatureExtractor, ImageGPTForCausalImageModeling"
   ]
  },
  {
   "cell_type": "code",
   "execution_count": 2,
   "outputs": [],
   "source": [
    "def tokenize_function(examples):\n",
    "    return feature_extractor(examples, return_tensors=\"pt\")"
   ],
   "metadata": {
    "collapsed": false,
    "ExecuteTime": {
     "end_time": "2023-12-07T10:48:19.065564813Z",
     "start_time": "2023-12-07T10:48:19.027549792Z"
    }
   },
   "id": "17e5a30ad0e65bd0"
  },
  {
   "cell_type": "code",
   "execution_count": 3,
   "outputs": [],
   "source": [
    "# Load Data\n",
    "dataset = load_dataset(\"cifar10\")\n",
    "# tokenized_dataset = [dataset['train']['img'][idx] for idx in range(len(dataset['train']))]\n"
   ],
   "metadata": {
    "collapsed": false,
    "ExecuteTime": {
     "end_time": "2023-12-07T10:48:21.540932938Z",
     "start_time": "2023-12-07T10:48:19.991352672Z"
    }
   },
   "id": "52da4a694c074c9b"
  },
  {
   "cell_type": "code",
   "execution_count": 6,
   "outputs": [],
   "source": [
    "# Prepare batch\n",
    "\n",
    "tokenized_dataset = [dataset['train']['img'][idx] for idx in range(8)]\n",
    "inputs = tokenize_function(tokenized_dataset)"
   ],
   "metadata": {
    "collapsed": true,
    "ExecuteTime": {
     "end_time": "2023-12-07T10:52:46.425327014Z",
     "start_time": "2023-12-07T10:52:19.423946161Z"
    }
   },
   "id": "initial_id"
  },
  {
   "cell_type": "code",
   "execution_count": 5,
   "outputs": [
    {
     "name": "stderr",
     "output_type": "stream",
     "text": [
      "/home/aizdebski/micromamba/envs/hybrid-transformer/lib/python3.11/site-packages/transformers/models/imagegpt/feature_extraction_imagegpt.py:28: FutureWarning: The class ImageGPTFeatureExtractor is deprecated and will be removed in version 5 of Transformers. Please use ImageGPTImageProcessor instead.\n",
      "  warnings.warn(\n"
     ]
    }
   ],
   "source": [
    "SIZE = 'small'\n",
    "PRETRAINED_MODEL = f'openai/imagegpt-{SIZE}'\n",
    "\n",
    "feature_extractor = ImageGPTFeatureExtractor.from_pretrained(PRETRAINED_MODEL)\n",
    "model = ImageGPTForCausalImageModeling.from_pretrained(PRETRAINED_MODEL)"
   ],
   "metadata": {
    "collapsed": false,
    "ExecuteTime": {
     "end_time": "2023-12-07T10:52:16.875162853Z",
     "start_time": "2023-12-07T10:52:15.267093938Z"
    }
   },
   "id": "10aea3d1f1b488c2"
  },
  {
   "cell_type": "code",
   "execution_count": null,
   "outputs": [],
   "source": [
    "training_args = TrainingArguments(output_dir=\"test_trainer\")"
   ],
   "metadata": {
    "collapsed": false,
    "ExecuteTime": {
     "start_time": "2023-12-07T10:46:05.036903241Z"
    }
   },
   "id": "afe1978033284cd5"
  },
  {
   "cell_type": "code",
   "execution_count": 8,
   "outputs": [
    {
     "data": {
      "text/plain": "dict_keys(['input_ids'])"
     },
     "execution_count": 8,
     "metadata": {},
     "output_type": "execute_result"
    }
   ],
   "source": [],
   "metadata": {
    "collapsed": false,
    "ExecuteTime": {
     "end_time": "2023-12-07T10:52:59.533088417Z",
     "start_time": "2023-12-07T10:52:59.530426483Z"
    }
   },
   "id": "9cceba079ec18504"
  },
  {
   "cell_type": "code",
   "execution_count": 23,
   "outputs": [],
   "source": [
    "model.train()\n",
    "output = model(input_ids=inputs['input_ids'], labels=inputs['input_ids'])"
   ],
   "metadata": {
    "collapsed": false,
    "ExecuteTime": {
     "end_time": "2023-12-07T11:01:15.003497366Z",
     "start_time": "2023-12-07T11:01:08.271646044Z"
    }
   },
   "id": "ff463863cdf56c8c"
  },
  {
   "cell_type": "code",
   "execution_count": 46,
   "outputs": [
    {
     "data": {
      "text/plain": "torch.Size([8, 1024, 512])"
     },
     "execution_count": 46,
     "metadata": {},
     "output_type": "execute_result"
    }
   ],
   "source": [
    "output['logits'].shape"
   ],
   "metadata": {
    "collapsed": false,
    "ExecuteTime": {
     "end_time": "2023-12-07T10:28:16.253100182Z",
     "start_time": "2023-12-07T10:28:16.212634882Z"
    }
   },
   "id": "6b7b416fb6a121ed"
  },
  {
   "cell_type": "code",
   "execution_count": 24,
   "outputs": [
    {
     "data": {
      "text/plain": "tensor(11.4711, grad_fn=<NllLossBackward0>)"
     },
     "execution_count": 24,
     "metadata": {},
     "output_type": "execute_result"
    }
   ],
   "source": [
    "output.loss"
   ],
   "metadata": {
    "collapsed": false,
    "ExecuteTime": {
     "end_time": "2023-12-07T11:01:15.008942948Z",
     "start_time": "2023-12-07T11:01:15.004039529Z"
    }
   },
   "id": "48bdafc1bcfb233b"
  },
  {
   "cell_type": "code",
   "execution_count": 14,
   "outputs": [
    {
     "data": {
      "text/plain": "tensor([[[ 1.2487,  1.7292,  2.1103,  ...,  1.6140,  2.9828,  1.9682],\n         [ 3.6998,  3.3249,  4.1063,  ...,  4.8907,  3.0700,  4.1013],\n         [ 5.9106,  6.1914,  7.0415,  ..., 10.0500,  6.3147,  5.9773],\n         ...,\n         [ 6.4114,  4.9802,  2.3258,  ...,  9.7507,  5.8174,  5.3543],\n         [10.3756, 10.8573,  6.2393,  ..., 15.5685,  9.1309,  9.5843],\n         [ 4.9044,  4.7116,  1.8270,  ...,  6.7738,  2.6552,  3.1511]],\n\n        [[ 3.5578,  3.2018,  3.9723,  ...,  4.1569,  4.0747,  3.1275],\n         [ 3.1556,  3.5997,  5.5083,  ...,  1.9773,  7.6502,  4.3859],\n         [ 6.2591,  7.0568,  7.6928,  ...,  7.1290, 11.8129,  7.0836],\n         ...,\n         [15.5497, 18.6892,  9.9399,  ..., 19.5463, 19.9757, 19.0096],\n         [15.7729, 15.3262,  7.2707,  ..., 15.0155, 17.3975, 15.8299],\n         [12.9656, 12.0773,  5.8589,  ..., 13.6987, 12.2500, 11.8931]],\n\n        [[ 7.7896,  8.7571,  7.5025,  ...,  8.8448,  8.7816,  7.3825],\n         [31.1267, 34.8285, 22.7777,  ..., 32.6967, 32.8698, 32.4955],\n         [21.0062, 20.6878, 12.4389,  ..., 21.1565, 20.4364, 19.6968],\n         ...,\n         [15.0892, 14.7259,  8.3653,  ..., 18.0692, 12.7586, 15.5456],\n         [13.5211,  9.6767,  5.2372,  ..., 14.0696,  9.0206, 11.9701],\n         [10.4320,  8.5166,  5.7895,  ..., 13.7360,  7.1189, 10.6538]],\n\n        ...,\n\n        [[ 2.3512,  3.3890,  4.1807,  ...,  4.0511,  4.9419,  2.6994],\n         [ 6.0076,  5.8510,  8.1844,  ...,  6.3347,  7.1625,  6.0759],\n         [ 7.7644,  5.3087, 12.1518,  ...,  6.1455,  8.5313,  6.2798],\n         ...,\n         [10.1058,  6.3242,  3.0375,  ..., 10.6873,  7.3603,  8.9056],\n         [ 9.2415,  8.4673,  3.4725,  ..., 10.2099,  8.3290,  9.2552],\n         [ 8.3612,  5.9240,  3.4878,  ...,  9.0984,  7.2708,  6.0170]],\n\n        [[ 8.3882,  8.3678,  7.6049,  ...,  9.8856,  9.1020,  8.0040],\n         [13.1584, 11.4104, 12.4025,  ..., 15.2982, 10.2113, 11.2755],\n         [42.6710, 36.4067, 28.0304,  ..., 48.5272, 37.6221, 40.2735],\n         ...,\n         [14.6609, 13.7833,  8.4539,  ..., 16.7358, 14.6153, 12.6681],\n         [ 4.9008,  3.8729,  2.5493,  ...,  5.9137,  8.6940,  1.3989],\n         [14.1099, 12.3008,  6.9337,  ..., 17.2958, 15.1631, 12.7286]],\n\n        [[ 6.9792,  7.5064,  6.8374,  ...,  7.7834,  6.8639,  6.7361],\n         [23.1103, 27.5561, 23.8551,  ..., 25.4112, 23.2481, 24.0813],\n         [24.5012, 28.2410, 24.1845,  ..., 26.8120, 25.9242, 24.8341],\n         ...,\n         [13.8799, 14.1280,  8.2023,  ..., 18.4827, 13.2972, 12.9748],\n         [14.8677, 11.0407,  6.6919,  ..., 19.0159, 11.1855, 13.6896],\n         [21.2450, 16.3946, 12.6449,  ..., 24.8992, 18.3014, 16.9686]]],\n       grad_fn=<UnsafeViewBackward0>)"
     },
     "execution_count": 14,
     "metadata": {},
     "output_type": "execute_result"
    }
   ],
   "source": [
    "output['logits']"
   ],
   "metadata": {
    "collapsed": false,
    "ExecuteTime": {
     "end_time": "2023-12-07T10:54:17.943458749Z",
     "start_time": "2023-12-07T10:54:17.937757524Z"
    }
   },
   "id": "ded2e979f73bce42"
  },
  {
   "cell_type": "code",
   "execution_count": 17,
   "outputs": [],
   "source": [
    "shift_logits = output['logits'][..., :-1, :].contiguous()\n",
    "shift_labels = inputs['input_ids'][..., 1:].contiguous()            "
   ],
   "metadata": {
    "collapsed": false,
    "ExecuteTime": {
     "end_time": "2023-12-07T10:55:30.501883934Z",
     "start_time": "2023-12-07T10:55:30.460637907Z"
    }
   },
   "id": "4a269b3b12cc3b55"
  },
  {
   "cell_type": "code",
   "execution_count": 16,
   "outputs": [
    {
     "data": {
      "text/plain": "torch.Size([8, 1023, 512])"
     },
     "execution_count": 16,
     "metadata": {},
     "output_type": "execute_result"
    }
   ],
   "source": [
    "shift_logits.shape"
   ],
   "metadata": {
    "collapsed": false,
    "ExecuteTime": {
     "end_time": "2023-12-07T10:54:56.878561506Z",
     "start_time": "2023-12-07T10:54:56.836481322Z"
    }
   },
   "id": "70d431a1dde5f838"
  },
  {
   "cell_type": "code",
   "execution_count": 18,
   "outputs": [
    {
     "data": {
      "text/plain": "torch.Size([8, 1023])"
     },
     "execution_count": 18,
     "metadata": {},
     "output_type": "execute_result"
    }
   ],
   "source": [
    "shift_labels.shape"
   ],
   "metadata": {
    "collapsed": false,
    "ExecuteTime": {
     "end_time": "2023-12-07T10:55:37.150978601Z",
     "start_time": "2023-12-07T10:55:37.108976014Z"
    }
   },
   "id": "82743a9c5cc6d8d3"
  },
  {
   "cell_type": "code",
   "execution_count": 20,
   "outputs": [],
   "source": [
    "loss_fct = CrossEntropyLoss()"
   ],
   "metadata": {
    "collapsed": false,
    "ExecuteTime": {
     "end_time": "2023-12-07T10:56:06.151672232Z",
     "start_time": "2023-12-07T10:56:06.111281079Z"
    }
   },
   "id": "e554e6534649c83a"
  },
  {
   "cell_type": "code",
   "execution_count": 19,
   "outputs": [],
   "source": [
    "from torch.nn import BCEWithLogitsLoss, CrossEntropyLoss, MSELoss"
   ],
   "metadata": {
    "collapsed": false,
    "ExecuteTime": {
     "end_time": "2023-12-07T10:56:03.783828400Z",
     "start_time": "2023-12-07T10:56:03.740785036Z"
    }
   },
   "id": "943d74c33852c451"
  },
  {
   "cell_type": "code",
   "execution_count": 21,
   "outputs": [],
   "source": [
    "loss = loss_fct(shift_logits.view(-1, shift_logits.size(-1)), shift_labels.view(-1))"
   ],
   "metadata": {
    "collapsed": false,
    "ExecuteTime": {
     "end_time": "2023-12-07T10:58:27.264222874Z",
     "start_time": "2023-12-07T10:58:27.222802068Z"
    }
   },
   "id": "eca89fe54255ac7b"
  },
  {
   "cell_type": "code",
   "execution_count": 22,
   "outputs": [
    {
     "data": {
      "text/plain": "tensor(11.6928, grad_fn=<NllLossBackward0>)"
     },
     "execution_count": 22,
     "metadata": {},
     "output_type": "execute_result"
    }
   ],
   "source": [
    "loss"
   ],
   "metadata": {
    "collapsed": false,
    "ExecuteTime": {
     "end_time": "2023-12-07T10:58:28.983688847Z",
     "start_time": "2023-12-07T10:58:28.942315652Z"
    }
   },
   "id": "7f25c4bc37977c57"
  },
  {
   "cell_type": "code",
   "execution_count": 30,
   "outputs": [
    {
     "data": {
      "text/plain": "ImageGPTForCausalImageModeling(\n  (transformer): ImageGPTModel(\n    (wte): Embedding(513, 512)\n    (wpe): Embedding(1024, 512)\n    (drop): Dropout(p=0.1, inplace=False)\n    (h): ModuleList(\n      (0-23): 24 x ImageGPTBlock(\n        (ln_1): ImageGPTLayerNorm()\n        (attn): ImageGPTAttention(\n          (c_attn): Conv1D()\n          (c_proj): Conv1D()\n          (attn_dropout): Dropout(p=0.1, inplace=False)\n          (resid_dropout): Dropout(p=0.1, inplace=False)\n        )\n        (ln_2): ImageGPTLayerNorm()\n        (mlp): ImageGPTMLP(\n          (c_fc): Conv1D()\n          (c_proj): Conv1D()\n          (act): QuickGELUActivation()\n          (dropout): Dropout(p=0.1, inplace=False)\n        )\n      )\n    )\n    (ln_f): ImageGPTLayerNorm()\n  )\n  (lm_head): Linear(in_features=512, out_features=512, bias=False)\n)"
     },
     "execution_count": 30,
     "metadata": {},
     "output_type": "execute_result"
    }
   ],
   "source": [
    "from tqdm import tqdm \n",
    "\n",
    "batch_size = 8\n",
    "\n",
    "model.train()\n",
    "\n",
    "# for iteration in tqdm(range(100)):\n",
    "#     \n",
    "#     inputs = "
   ],
   "metadata": {
    "collapsed": false,
    "ExecuteTime": {
     "end_time": "2023-12-07T11:08:05.074356015Z",
     "start_time": "2023-12-07T11:08:05.019506286Z"
    }
   },
   "id": "84c7c68c76718071"
  },
  {
   "cell_type": "code",
   "execution_count": 26,
   "outputs": [],
   "source": [
    "train_dataset = dataset['train']"
   ],
   "metadata": {
    "collapsed": false,
    "ExecuteTime": {
     "end_time": "2023-12-07T11:05:43.792485051Z",
     "start_time": "2023-12-07T11:05:43.749396272Z"
    }
   },
   "id": "f38a4fe34d949c57"
  },
  {
   "cell_type": "code",
   "execution_count": 34,
   "outputs": [
    {
     "ename": "TypeError",
     "evalue": "list indices must be integers or slices, not list",
     "output_type": "error",
     "traceback": [
      "\u001B[0;31m---------------------------------------------------------------------------\u001B[0m",
      "\u001B[0;31mTypeError\u001B[0m                                 Traceback (most recent call last)",
      "Cell \u001B[0;32mIn[34], line 1\u001B[0m\n\u001B[0;32m----> 1\u001B[0m inputs \u001B[38;5;241m=\u001B[39m \u001B[43mtrain_dataset\u001B[49m\u001B[43m[\u001B[49m\u001B[38;5;124;43m'\u001B[39;49m\u001B[38;5;124;43mimg\u001B[39;49m\u001B[38;5;124;43m'\u001B[39;49m\u001B[43m]\u001B[49m\u001B[43m[\u001B[49m\u001B[43mindex\u001B[49m\u001B[38;5;241;43m.\u001B[39;49m\u001B[43mtolist\u001B[49m\u001B[43m(\u001B[49m\u001B[43m)\u001B[49m\u001B[43m]\u001B[49m\n",
      "\u001B[0;31mTypeError\u001B[0m: list indices must be integers or slices, not list"
     ]
    }
   ],
   "source": [
    "inputs = train_dataset['img'][index.tolist()]"
   ],
   "metadata": {
    "collapsed": false,
    "ExecuteTime": {
     "end_time": "2023-12-07T11:08:56.490764834Z",
     "start_time": "2023-12-07T11:08:53.134708012Z"
    }
   },
   "id": "118bc550d9704fb2"
  },
  {
   "cell_type": "code",
   "execution_count": 31,
   "outputs": [],
   "source": [
    "import numpy as np\n",
    "\n",
    "index = np.random.randint(low=0, high=len(train_dataset['img']), size=batch_size)"
   ],
   "metadata": {
    "collapsed": false,
    "ExecuteTime": {
     "end_time": "2023-12-07T11:08:13.696260329Z",
     "start_time": "2023-12-07T11:08:10.316544192Z"
    }
   },
   "id": "cb99abbc0a25ea97"
  },
  {
   "cell_type": "code",
   "execution_count": 32,
   "outputs": [
    {
     "data": {
      "text/plain": "array([37664, 47031, 22036, 26226, 36069, 36596,  1569,  3406])"
     },
     "execution_count": 32,
     "metadata": {},
     "output_type": "execute_result"
    }
   ],
   "source": [
    "index"
   ],
   "metadata": {
    "collapsed": false,
    "ExecuteTime": {
     "end_time": "2023-12-07T11:08:17.283284006Z",
     "start_time": "2023-12-07T11:08:17.243568181Z"
    }
   },
   "id": "37c843e92eb43bba"
  },
  {
   "cell_type": "code",
   "execution_count": null,
   "outputs": [],
   "source": [
    "x, y = next(iter())\n",
    "feature_extractor()"
   ],
   "metadata": {
    "collapsed": false
   },
   "id": "6d921a0adc13478a"
  }
 ],
 "metadata": {
  "kernelspec": {
   "display_name": "Python 3",
   "language": "python",
   "name": "python3"
  },
  "language_info": {
   "codemirror_mode": {
    "name": "ipython",
    "version": 2
   },
   "file_extension": ".py",
   "mimetype": "text/x-python",
   "name": "python",
   "nbconvert_exporter": "python",
   "pygments_lexer": "ipython2",
   "version": "2.7.6"
  }
 },
 "nbformat": 4,
 "nbformat_minor": 5
}
