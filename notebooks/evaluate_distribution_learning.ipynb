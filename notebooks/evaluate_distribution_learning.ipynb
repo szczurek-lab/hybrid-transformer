{
 "cells": [
  {
   "cell_type": "markdown",
   "source": [
    "# Evaluate Distribution Learning"
   ],
   "metadata": {
    "collapsed": false
   },
   "id": "b26dcdcd117802dc"
  },
  {
   "cell_type": "code",
   "execution_count": 1,
   "outputs": [
    {
     "name": "stdout",
     "output_type": "stream",
     "text": [
      "/home/adam/Projects/hybrid-transformer\n"
     ]
    }
   ],
   "source": [
    "%cd .."
   ],
   "metadata": {
    "collapsed": false,
    "ExecuteTime": {
     "end_time": "2024-04-03T14:41:03.075623119Z",
     "start_time": "2024-04-03T14:41:03.065763707Z"
    }
   },
   "id": "422d4f35c0246db1"
  },
  {
   "cell_type": "code",
   "execution_count": 2,
   "outputs": [
    {
     "name": "stderr",
     "output_type": "stream",
     "text": [
      "/home/adam/miniconda3/envs/hybrid-transformer/lib/python3.11/site-packages/tqdm/auto.py:21: TqdmWarning: IProgress not found. Please update jupyter and ipywidgets. See https://ipywidgets.readthedocs.io/en/stable/user_install.html\n",
      "  from .autonotebook import tqdm as notebook_tqdm\n",
      "2024-04-03 16:41:06.807306: I tensorflow/core/util/port.cc:113] oneDNN custom operations are on. You may see slightly different numerical results due to floating-point round-off errors from different computation orders. To turn them off, set the environment variable `TF_ENABLE_ONEDNN_OPTS=0`.\n",
      "2024-04-03 16:41:06.877173: I external/local_tsl/tsl/cuda/cudart_stub.cc:31] Could not find cuda drivers on your machine, GPU will not be used.\n",
      "2024-04-03 16:41:07.173737: E external/local_xla/xla/stream_executor/cuda/cuda_dnn.cc:9261] Unable to register cuDNN factory: Attempting to register factory for plugin cuDNN when one has already been registered\n",
      "2024-04-03 16:41:07.173775: E external/local_xla/xla/stream_executor/cuda/cuda_fft.cc:607] Unable to register cuFFT factory: Attempting to register factory for plugin cuFFT when one has already been registered\n",
      "2024-04-03 16:41:07.234750: E external/local_xla/xla/stream_executor/cuda/cuda_blas.cc:1515] Unable to register cuBLAS factory: Attempting to register factory for plugin cuBLAS when one has already been registered\n",
      "2024-04-03 16:41:07.372735: I tensorflow/core/platform/cpu_feature_guard.cc:182] This TensorFlow binary is optimized to use available CPU instructions in performance-critical operations.\n",
      "To enable the following instructions: AVX2 AVX512F AVX512_VNNI FMA, in other operations, rebuild TensorFlow with the appropriate compiler flags.\n",
      "2024-04-03 16:41:08.534862: W tensorflow/compiler/tf2tensorrt/utils/py_utils.cc:38] TF-TRT Warning: Could not find TensorRT\n"
     ]
    }
   ],
   "source": [
    "import os\n",
    "import torch\n",
    "import wandb\n",
    "\n",
    "from hybrid_transformer.configs.task import TaskConfig\n",
    "from hybrid_transformer.configs.model import ModelConfig\n",
    "from hybrid_transformer.configs.trainer import TrainerConfig\n",
    "from hybrid_transformer.configs.logger import LoggerConfig\n",
    "\n",
    "from hybrid_transformer.utils.datasets.auto import AutoDataset\n",
    "from hybrid_transformer.utils.tokenizers.auto import AutoTokenizer\n",
    "from hybrid_transformer.models.auto import AutoModel\n",
    "from hybrid_transformer.utils.loggers.wandb import WandbLogger\n",
    "\n",
    "from hybrid_transformer.trainers.trainer import Trainer\n",
    "\n",
    "from scripts.pretrain.train import DEFAULT_CONFIG_FILES\n",
    "\n",
    "from hybrid_transformer.utils.objectives.guacamol.objective import GUACAMOL_TASKS\n",
    "from hybrid_transformer.models.prediction import PREDICTION_MODEL_CONFIGS\n",
    "from hybrid_transformer.models.utils import GuacamolModelWrapper\n",
    "\n",
    "from hybrid_transformer.utils.objectives.guacamol.objective import get_objective\n",
    "from hybrid_transformer.utils.objectives.objective import predict_qed\n",
    "\n",
    "from tqdm import tqdm\n",
    "from guacamol.utils.chemistry import is_valid\n",
    "\n",
    "# Auxiliary functions\n",
    "\n",
    "def save_strings_to_file(strings, filename):\n",
    "    with open(filename, 'w') as f:\n",
    "        for s in strings:\n",
    "            f.write(s + '\\n')\n",
    "\n",
    "def read_strings_from_file(filename):\n",
    "    with open(filename, 'r') as f:\n",
    "        strings = f.read().splitlines()\n",
    "    return strings\n",
    "\n",
    "def convert_strings_to_lists(strings):\n",
    "    return [[s, f'MOL{i}'] for i, s in enumerate(strings)]\n",
    "\n",
    "%load_ext autoreload\n",
    "%autoreload 2"
   ],
   "metadata": {
    "collapsed": false,
    "ExecuteTime": {
     "end_time": "2024-04-03T14:41:09.485559818Z",
     "start_time": "2024-04-03T14:41:03.067716164Z"
    }
   },
   "id": "388ac09832efcd15"
  },
  {
   "cell_type": "code",
   "execution_count": 3,
   "outputs": [
    {
     "name": "stdout",
     "output_type": "stream",
     "text": [
      "number of parameters: 38.06M\n",
      "tokens per iteration will be: 327,680\n",
      "Using cuda device\n",
      "Successfully loaded checkpoint from ./results/qed_classification/ckpt.pt...\n",
      "Random seed set to 1337\n",
      "num decayed parameter tensors: 63, with 38,115,840 parameters\n",
      "num non-decayed parameter tensors: 25, with 12,800 parameters\n",
      "using fused AdamW: True\n",
      "Compiling model..\n"
     ]
    },
    {
     "data": {
      "text/plain": "OptimizedModule(\n  (_orig_mod): HybridTransformerPreTrained(\n    (transformer): ModuleDict(\n      (wte): Embedding(588, 512)\n      (wpe): Embedding(128, 512)\n      (drop): Dropout(p=0.2, inplace=False)\n      (h): ModuleList(\n        (0-11): 12 x HybridTransformerBlock(\n          (ln_1): LayerNorm()\n          (attn_1): HybridSelfAttention(\n            (q_proj): Linear(in_features=512, out_features=512, bias=False)\n            (kv_proj): Linear(in_features=512, out_features=1024, bias=False)\n            (out_proj): Linear(in_features=512, out_features=512, bias=False)\n            (attn_dropout): Dropout(p=0.2, inplace=False)\n            (resid_dropout): Dropout(p=0.2, inplace=False)\n          )\n          (ln_2): LayerNorm()\n          (mlp): MLP(\n            (fc): Linear(in_features=512, out_features=2048, bias=False)\n            (gelu): GELU(approximate='none')\n            (proj): Linear(in_features=2048, out_features=512, bias=False)\n            (dropout): Dropout(p=0.2, inplace=False)\n          )\n        )\n      )\n      (ln_f): LayerNorm()\n    )\n    (lm_head): Linear(in_features=512, out_features=588, bias=False)\n    (prediction_head): Linear(in_features=512, out_features=1, bias=False)\n    (output_dropout): Dropout(p=0.2, inplace=False)\n  )\n)"
     },
     "execution_count": 3,
     "metadata": {},
     "output_type": "execute_result"
    }
   ],
   "source": [
    "# Load configs\n",
    "\n",
    "out_dir = f'./results/distribution_learning/'\n",
    "\n",
    "path_to_task_config = './configs/tasks/guacamol/qed_classification/config.json'\n",
    "path_to_model_config = './configs/models/hybrid_transformer/config.json'\n",
    "\n",
    "task_config = TaskConfig.from_pretrained(path_to_task_config)\n",
    "model_config = ModelConfig.from_pretrained(path_to_model_config)\n",
    "trainer_config = TrainerConfig.from_pretrained('./configs/trainers/finetune-prediction/config.json')\n",
    "        \n",
    "trainer_config.out_dir = out_dir\n",
    "trainer_config.enable_save_checkpoint = False\n",
    "trainer_config.batch_size = 64\n",
    "        \n",
    "tokenizer = AutoTokenizer.from_config(task_config)                \n",
    "model = AutoModel.from_config(model_config)\n",
    "trainer = Trainer(config=trainer_config, model=model, tokenizer=tokenizer)\n",
    "trainer.load_checkpoint('./results/qed_classification/ckpt.pt')\n",
    "trainer._train_init()\n",
    "trainer.model.eval()"
   ],
   "metadata": {
    "collapsed": false,
    "ExecuteTime": {
     "end_time": "2024-04-03T14:41:12.908585757Z",
     "start_time": "2024-04-03T14:41:09.486128170Z"
    }
   },
   "id": "72e978159528bc35"
  },
  {
   "cell_type": "code",
   "execution_count": 5,
   "outputs": [],
   "source": [
    "\n",
    "temperature = 1.0\n",
    "top_k = None\n",
    "number_samples = 64\n",
    "\n",
    "model_wrapper = GuacamolModelWrapper.init_from_trainer(trainer, temperature=temperature, top_k=top_k)\n",
    "\n",
    "\n",
    "        "
   ],
   "metadata": {
    "collapsed": false,
    "ExecuteTime": {
     "end_time": "2024-04-03T13:26:07.509823856Z",
     "start_time": "2024-04-03T13:26:07.472554040Z"
    }
   },
   "id": "3f4cb44e009419ba"
  },
  {
   "cell_type": "code",
   "execution_count": 6,
   "outputs": [
    {
     "ename": "KeyboardInterrupt",
     "evalue": "",
     "output_type": "error",
     "traceback": [
      "\u001B[0;31m---------------------------------------------------------------------------\u001B[0m",
      "\u001B[0;31mKeyboardInterrupt\u001B[0m                         Traceback (most recent call last)",
      "Cell \u001B[0;32mIn[6], line 3\u001B[0m\n\u001B[1;32m      1\u001B[0m \u001B[38;5;66;03m# sample and predict \u001B[39;00m\n\u001B[0;32m----> 3\u001B[0m samples \u001B[38;5;241m=\u001B[39m \u001B[43mmodel_wrapper\u001B[49m\u001B[38;5;241;43m.\u001B[39;49m\u001B[43mgenerate\u001B[49m\u001B[43m(\u001B[49m\u001B[43mnumber_samples\u001B[49m\u001B[38;5;241;43m=\u001B[39;49m\u001B[43mnumber_samples\u001B[49m\u001B[43m)\u001B[49m\n",
      "File \u001B[0;32m~/miniconda3/envs/hybrid-transformer/lib/python3.11/site-packages/torch/utils/_contextlib.py:115\u001B[0m, in \u001B[0;36mcontext_decorator.<locals>.decorate_context\u001B[0;34m(*args, **kwargs)\u001B[0m\n\u001B[1;32m    112\u001B[0m \u001B[38;5;129m@functools\u001B[39m\u001B[38;5;241m.\u001B[39mwraps(func)\n\u001B[1;32m    113\u001B[0m \u001B[38;5;28;01mdef\u001B[39;00m \u001B[38;5;21mdecorate_context\u001B[39m(\u001B[38;5;241m*\u001B[39margs, \u001B[38;5;241m*\u001B[39m\u001B[38;5;241m*\u001B[39mkwargs):\n\u001B[1;32m    114\u001B[0m     \u001B[38;5;28;01mwith\u001B[39;00m ctx_factory():\n\u001B[0;32m--> 115\u001B[0m         \u001B[38;5;28;01mreturn\u001B[39;00m \u001B[43mfunc\u001B[49m\u001B[43m(\u001B[49m\u001B[38;5;241;43m*\u001B[39;49m\u001B[43margs\u001B[49m\u001B[43m,\u001B[49m\u001B[43m \u001B[49m\u001B[38;5;241;43m*\u001B[39;49m\u001B[38;5;241;43m*\u001B[39;49m\u001B[43mkwargs\u001B[49m\u001B[43m)\u001B[49m\n",
      "File \u001B[0;32m~/Projects/hybrid-transformer/hybrid_transformer/models/utils.py:28\u001B[0m, in \u001B[0;36mGuacamolModelWrapper.generate\u001B[0;34m(self, number_samples)\u001B[0m\n\u001B[1;32m     26\u001B[0m     idx \u001B[38;5;241m=\u001B[39m torch\u001B[38;5;241m.\u001B[39mones(size\u001B[38;5;241m=\u001B[39m(\u001B[38;5;28mself\u001B[39m\u001B[38;5;241m.\u001B[39mbatch_size, \u001B[38;5;241m1\u001B[39m), device\u001B[38;5;241m=\u001B[39m\u001B[38;5;28mself\u001B[39m\u001B[38;5;241m.\u001B[39mdevice) \u001B[38;5;241m*\u001B[39m \u001B[38;5;28mself\u001B[39m\u001B[38;5;241m.\u001B[39mtokenizer\u001B[38;5;241m.\u001B[39mgenerate_token_id\n\u001B[1;32m     27\u001B[0m     idx \u001B[38;5;241m=\u001B[39m idx\u001B[38;5;241m.\u001B[39mlong()\n\u001B[0;32m---> 28\u001B[0m     samples \u001B[38;5;241m=\u001B[39m \u001B[38;5;28;43mself\u001B[39;49m\u001B[38;5;241;43m.\u001B[39;49m\u001B[43mmodel\u001B[49m\u001B[38;5;241;43m.\u001B[39;49m\u001B[43mgenerate\u001B[49m\u001B[43m(\u001B[49m\n\u001B[1;32m     29\u001B[0m \u001B[43m        \u001B[49m\u001B[43midx\u001B[49m\u001B[38;5;241;43m=\u001B[39;49m\u001B[43midx\u001B[49m\u001B[43m,\u001B[49m\u001B[43m \u001B[49m\u001B[43mmax_new_tokens\u001B[49m\u001B[38;5;241;43m=\u001B[39;49m\u001B[38;5;28;43mself\u001B[39;49m\u001B[38;5;241;43m.\u001B[39;49m\u001B[43mtokenizer\u001B[49m\u001B[38;5;241;43m.\u001B[39;49m\u001B[43mmax_molecule_length\u001B[49m\u001B[43m,\u001B[49m\n\u001B[1;32m     30\u001B[0m \u001B[43m        \u001B[49m\u001B[43mtemperature\u001B[49m\u001B[38;5;241;43m=\u001B[39;49m\u001B[38;5;28;43mself\u001B[39;49m\u001B[38;5;241;43m.\u001B[39;49m\u001B[43mtemperature\u001B[49m\u001B[43m,\u001B[49m\u001B[43m \u001B[49m\u001B[43mtop_k\u001B[49m\u001B[38;5;241;43m=\u001B[39;49m\u001B[38;5;28;43mself\u001B[39;49m\u001B[38;5;241;43m.\u001B[39;49m\u001B[43mtop_k\u001B[49m\u001B[43m)\u001B[49m\n\u001B[1;32m     31\u001B[0m     generated \u001B[38;5;241m+\u001B[39m\u001B[38;5;241m=\u001B[39m \u001B[38;5;28mself\u001B[39m\u001B[38;5;241m.\u001B[39mtokenizer\u001B[38;5;241m.\u001B[39mdecode(samples)\n\u001B[1;32m     32\u001B[0m \u001B[38;5;28;01mreturn\u001B[39;00m generated[:number_samples]\n",
      "File \u001B[0;32m~/miniconda3/envs/hybrid-transformer/lib/python3.11/site-packages/torch/utils/_contextlib.py:115\u001B[0m, in \u001B[0;36mcontext_decorator.<locals>.decorate_context\u001B[0;34m(*args, **kwargs)\u001B[0m\n\u001B[1;32m    112\u001B[0m \u001B[38;5;129m@functools\u001B[39m\u001B[38;5;241m.\u001B[39mwraps(func)\n\u001B[1;32m    113\u001B[0m \u001B[38;5;28;01mdef\u001B[39;00m \u001B[38;5;21mdecorate_context\u001B[39m(\u001B[38;5;241m*\u001B[39margs, \u001B[38;5;241m*\u001B[39m\u001B[38;5;241m*\u001B[39mkwargs):\n\u001B[1;32m    114\u001B[0m     \u001B[38;5;28;01mwith\u001B[39;00m ctx_factory():\n\u001B[0;32m--> 115\u001B[0m         \u001B[38;5;28;01mreturn\u001B[39;00m \u001B[43mfunc\u001B[49m\u001B[43m(\u001B[49m\u001B[38;5;241;43m*\u001B[39;49m\u001B[43margs\u001B[49m\u001B[43m,\u001B[49m\u001B[43m \u001B[49m\u001B[38;5;241;43m*\u001B[39;49m\u001B[38;5;241;43m*\u001B[39;49m\u001B[43mkwargs\u001B[49m\u001B[43m)\u001B[49m\n",
      "File \u001B[0;32m~/Projects/hybrid-transformer/hybrid_transformer/models/base.py:186\u001B[0m, in \u001B[0;36mTransformer.generate\u001B[0;34m(self, idx, max_new_tokens, temperature, top_k)\u001B[0m\n\u001B[1;32m    184\u001B[0m idx_cond \u001B[38;5;241m=\u001B[39m idx \u001B[38;5;28;01mif\u001B[39;00m idx\u001B[38;5;241m.\u001B[39msize(\u001B[38;5;241m1\u001B[39m) \u001B[38;5;241m<\u001B[39m\u001B[38;5;241m=\u001B[39m \u001B[38;5;28mself\u001B[39m\u001B[38;5;241m.\u001B[39mmax_seq_len \u001B[38;5;28;01melse\u001B[39;00m idx[:, \u001B[38;5;241m-\u001B[39m\u001B[38;5;28mself\u001B[39m\u001B[38;5;241m.\u001B[39mmax_seq_len:]\n\u001B[1;32m    185\u001B[0m \u001B[38;5;66;03m# forward the model to get the logits for the index in the sequence\u001B[39;00m\n\u001B[0;32m--> 186\u001B[0m outputs \u001B[38;5;241m=\u001B[39m \u001B[38;5;28;43mself\u001B[39;49m\u001B[43m(\u001B[49m\u001B[43minput_ids\u001B[49m\u001B[38;5;241;43m=\u001B[39;49m\u001B[43midx_cond\u001B[49m\u001B[43m,\u001B[49m\u001B[43m \u001B[49m\u001B[43mtask\u001B[49m\u001B[38;5;241;43m=\u001B[39;49m\u001B[38;5;124;43m'\u001B[39;49m\u001B[38;5;124;43mlm\u001B[39;49m\u001B[38;5;124;43m'\u001B[39;49m\u001B[43m)\u001B[49m\n\u001B[1;32m    187\u001B[0m logits \u001B[38;5;241m=\u001B[39m outputs[\u001B[38;5;124m'\u001B[39m\u001B[38;5;124mlm_logits\u001B[39m\u001B[38;5;124m'\u001B[39m]\n\u001B[1;32m    188\u001B[0m \u001B[38;5;66;03m# pluck the logits at the final step and scale by desired temperature\u001B[39;00m\n",
      "File \u001B[0;32m~/miniconda3/envs/hybrid-transformer/lib/python3.11/site-packages/torch/nn/modules/module.py:1518\u001B[0m, in \u001B[0;36mModule._wrapped_call_impl\u001B[0;34m(self, *args, **kwargs)\u001B[0m\n\u001B[1;32m   1516\u001B[0m     \u001B[38;5;28;01mreturn\u001B[39;00m \u001B[38;5;28mself\u001B[39m\u001B[38;5;241m.\u001B[39m_compiled_call_impl(\u001B[38;5;241m*\u001B[39margs, \u001B[38;5;241m*\u001B[39m\u001B[38;5;241m*\u001B[39mkwargs)  \u001B[38;5;66;03m# type: ignore[misc]\u001B[39;00m\n\u001B[1;32m   1517\u001B[0m \u001B[38;5;28;01melse\u001B[39;00m:\n\u001B[0;32m-> 1518\u001B[0m     \u001B[38;5;28;01mreturn\u001B[39;00m \u001B[38;5;28;43mself\u001B[39;49m\u001B[38;5;241;43m.\u001B[39;49m\u001B[43m_call_impl\u001B[49m\u001B[43m(\u001B[49m\u001B[38;5;241;43m*\u001B[39;49m\u001B[43margs\u001B[49m\u001B[43m,\u001B[49m\u001B[43m \u001B[49m\u001B[38;5;241;43m*\u001B[39;49m\u001B[38;5;241;43m*\u001B[39;49m\u001B[43mkwargs\u001B[49m\u001B[43m)\u001B[49m\n",
      "File \u001B[0;32m~/miniconda3/envs/hybrid-transformer/lib/python3.11/site-packages/torch/nn/modules/module.py:1527\u001B[0m, in \u001B[0;36mModule._call_impl\u001B[0;34m(self, *args, **kwargs)\u001B[0m\n\u001B[1;32m   1522\u001B[0m \u001B[38;5;66;03m# If we don't have any hooks, we want to skip the rest of the logic in\u001B[39;00m\n\u001B[1;32m   1523\u001B[0m \u001B[38;5;66;03m# this function, and just call forward.\u001B[39;00m\n\u001B[1;32m   1524\u001B[0m \u001B[38;5;28;01mif\u001B[39;00m \u001B[38;5;129;01mnot\u001B[39;00m (\u001B[38;5;28mself\u001B[39m\u001B[38;5;241m.\u001B[39m_backward_hooks \u001B[38;5;129;01mor\u001B[39;00m \u001B[38;5;28mself\u001B[39m\u001B[38;5;241m.\u001B[39m_backward_pre_hooks \u001B[38;5;129;01mor\u001B[39;00m \u001B[38;5;28mself\u001B[39m\u001B[38;5;241m.\u001B[39m_forward_hooks \u001B[38;5;129;01mor\u001B[39;00m \u001B[38;5;28mself\u001B[39m\u001B[38;5;241m.\u001B[39m_forward_pre_hooks\n\u001B[1;32m   1525\u001B[0m         \u001B[38;5;129;01mor\u001B[39;00m _global_backward_pre_hooks \u001B[38;5;129;01mor\u001B[39;00m _global_backward_hooks\n\u001B[1;32m   1526\u001B[0m         \u001B[38;5;129;01mor\u001B[39;00m _global_forward_hooks \u001B[38;5;129;01mor\u001B[39;00m _global_forward_pre_hooks):\n\u001B[0;32m-> 1527\u001B[0m     \u001B[38;5;28;01mreturn\u001B[39;00m \u001B[43mforward_call\u001B[49m\u001B[43m(\u001B[49m\u001B[38;5;241;43m*\u001B[39;49m\u001B[43margs\u001B[49m\u001B[43m,\u001B[49m\u001B[43m \u001B[49m\u001B[38;5;241;43m*\u001B[39;49m\u001B[38;5;241;43m*\u001B[39;49m\u001B[43mkwargs\u001B[49m\u001B[43m)\u001B[49m\n\u001B[1;32m   1529\u001B[0m \u001B[38;5;28;01mtry\u001B[39;00m:\n\u001B[1;32m   1530\u001B[0m     result \u001B[38;5;241m=\u001B[39m \u001B[38;5;28;01mNone\u001B[39;00m\n",
      "File \u001B[0;32m~/Projects/hybrid-transformer/hybrid_transformer/models/pre_train.py:13\u001B[0m, in \u001B[0;36mHybridTransformerPreTrained.forward\u001B[0;34m(self, *args, **kwargs)\u001B[0m\n\u001B[1;32m     12\u001B[0m \u001B[38;5;28;01mdef\u001B[39;00m \u001B[38;5;21mforward\u001B[39m(\u001B[38;5;28mself\u001B[39m, \u001B[38;5;241m*\u001B[39margs, \u001B[38;5;241m*\u001B[39m\u001B[38;5;241m*\u001B[39mkwargs):\n\u001B[0;32m---> 13\u001B[0m     outputs \u001B[38;5;241m=\u001B[39m \u001B[38;5;28;43msuper\u001B[39;49m\u001B[43m(\u001B[49m\u001B[43m)\u001B[49m\u001B[38;5;241;43m.\u001B[39;49m\u001B[43mforward\u001B[49m\u001B[43m(\u001B[49m\u001B[38;5;241;43m*\u001B[39;49m\u001B[43margs\u001B[49m\u001B[43m,\u001B[49m\u001B[43m \u001B[49m\u001B[38;5;241;43m*\u001B[39;49m\u001B[38;5;241;43m*\u001B[39;49m\u001B[43mkwargs\u001B[49m\u001B[43m)\u001B[49m\n\u001B[1;32m     14\u001B[0m     outputs[\u001B[38;5;124m'\u001B[39m\u001B[38;5;124mloss\u001B[39m\u001B[38;5;124m'\u001B[39m] \u001B[38;5;241m=\u001B[39m outputs[\u001B[38;5;124m'\u001B[39m\u001B[38;5;124munsupervised_loss\u001B[39m\u001B[38;5;124m'\u001B[39m]\n\u001B[1;32m     15\u001B[0m     \u001B[38;5;28;01mreturn\u001B[39;00m outputs\n",
      "File \u001B[0;32m~/Projects/hybrid-transformer/hybrid_transformer/models/base.py:92\u001B[0m, in \u001B[0;36mTransformer.forward\u001B[0;34m(self, input_ids, task, labels, target, eos_mask, attention_mask, return_attention)\u001B[0m\n\u001B[1;32m     90\u001B[0m \u001B[38;5;28;01mfor\u001B[39;00m block \u001B[38;5;129;01min\u001B[39;00m \u001B[38;5;28mself\u001B[39m\u001B[38;5;241m.\u001B[39mtransformer\u001B[38;5;241m.\u001B[39mh:\n\u001B[1;32m     91\u001B[0m     x, attn \u001B[38;5;241m=\u001B[39m block(x, task\u001B[38;5;241m=\u001B[39mtask, mask\u001B[38;5;241m=\u001B[39mattention_mask)\n\u001B[0;32m---> 92\u001B[0m     attention_probs\u001B[38;5;241m.\u001B[39mappend(\u001B[43mattn\u001B[49m\u001B[38;5;241;43m.\u001B[39;49m\u001B[43mdetach\u001B[49m\u001B[43m(\u001B[49m\u001B[43m)\u001B[49m\u001B[38;5;241;43m.\u001B[39;49m\u001B[43mcpu\u001B[49m\u001B[43m(\u001B[49m\u001B[43m)\u001B[49m)\n\u001B[1;32m     93\u001B[0m x \u001B[38;5;241m=\u001B[39m \u001B[38;5;28mself\u001B[39m\u001B[38;5;241m.\u001B[39mtransformer\u001B[38;5;241m.\u001B[39mln_f(x)\n\u001B[1;32m     95\u001B[0m \u001B[38;5;28;01mif\u001B[39;00m labels \u001B[38;5;129;01mis\u001B[39;00m \u001B[38;5;129;01mnot\u001B[39;00m \u001B[38;5;28;01mNone\u001B[39;00m:\n",
      "\u001B[0;31mKeyboardInterrupt\u001B[0m: "
     ]
    }
   ],
   "source": [
    "# sample and predict \n",
    "\n",
    "samples = model_wrapper.generate(number_samples=number_samples)"
   ],
   "metadata": {
    "collapsed": false,
    "ExecuteTime": {
     "end_time": "2024-04-03T13:26:14.350183530Z",
     "start_time": "2024-04-03T13:26:09.844531719Z"
    }
   },
   "id": "41beaaddc53e5c0a"
  },
  {
   "cell_type": "code",
   "execution_count": 7,
   "outputs": [],
   "source": [
    "samples = [smiles for smiles in samples if is_valid(smiles)]\n",
    "samples = [smiles for smiles in samples if smiles is not None]"
   ],
   "metadata": {
    "collapsed": false,
    "ExecuteTime": {
     "end_time": "2024-04-02T15:11:03.664490142Z",
     "start_time": "2024-04-02T15:11:03.352541764Z"
    }
   },
   "id": "f1b9c63741a8899d"
  },
  {
   "cell_type": "code",
   "execution_count": 8,
   "outputs": [
    {
     "name": "stderr",
     "output_type": "stream",
     "text": [
      "100%|██████████| 25/25 [00:00<00:00, 935.71it/s]\n"
     ]
    }
   ],
   "source": [
    "targets = get_objective(smiles_list=samples, objective='qed')"
   ],
   "metadata": {
    "collapsed": false,
    "ExecuteTime": {
     "end_time": "2024-04-02T15:11:03.736697953Z",
     "start_time": "2024-04-02T15:11:03.664845566Z"
    }
   },
   "id": "f18559ec1271a065"
  },
  {
   "cell_type": "code",
   "execution_count": 9,
   "outputs": [],
   "source": [
    "inputs = trainer.tokenizer._encode(samples, targets, task='mlm', device=trainer.device)"
   ],
   "metadata": {
    "collapsed": false,
    "ExecuteTime": {
     "end_time": "2024-04-02T15:11:03.780906726Z",
     "start_time": "2024-04-02T15:11:03.726736601Z"
    }
   },
   "id": "15c12b411c3196a8"
  },
  {
   "cell_type": "code",
   "execution_count": 10,
   "outputs": [],
   "source": [
    "with torch.no_grad():\n",
    "    output = model(\n",
    "        task='mlm', input_ids=inputs['input_ids'], attention_mask=inputs['attention_mask'],\n",
    "        labels=inputs['labels'], target=inputs['target'], eos_mask=inputs['eos_mask'])"
   ],
   "metadata": {
    "collapsed": false,
    "ExecuteTime": {
     "end_time": "2024-04-02T15:12:54.382458524Z",
     "start_time": "2024-04-02T15:12:53.722524103Z"
    }
   },
   "id": "bbfe8034ba40b440"
  },
  {
   "cell_type": "code",
   "execution_count": 11,
   "outputs": [
    {
     "data": {
      "text/plain": "tensor([[0.4650],\n        [0.1457],\n        [0.7879],\n        [0.8959],\n        [0.6797],\n        [0.4989],\n        [0.8847],\n        [0.7273],\n        [0.6424],\n        [0.8989],\n        [0.8508],\n        [0.4723],\n        [0.3503],\n        [0.3318],\n        [0.2478],\n        [0.3505],\n        [0.5499],\n        [0.2894],\n        [0.3491],\n        [0.7500],\n        [0.8623],\n        [0.6538],\n        [0.5772],\n        [0.4661],\n        [0.6141]])"
     },
     "execution_count": 11,
     "metadata": {},
     "output_type": "execute_result"
    }
   ],
   "source": [
    "targets"
   ],
   "metadata": {
    "collapsed": false,
    "ExecuteTime": {
     "end_time": "2024-04-02T15:12:55.349363107Z",
     "start_time": "2024-04-02T15:12:55.305508084Z"
    }
   },
   "id": "5bf3160f98f9ec17"
  },
  {
   "cell_type": "code",
   "execution_count": 12,
   "outputs": [
    {
     "data": {
      "text/plain": "tensor([[0.5339],\n        [0.2467],\n        [0.7268],\n        [0.8422],\n        [0.7554],\n        [0.6946],\n        [0.7329],\n        [0.6171],\n        [0.6386],\n        [0.7200],\n        [0.8199],\n        [0.4177],\n        [0.4627],\n        [0.3762],\n        [0.3382],\n        [0.5680],\n        [0.5350],\n        [0.4195],\n        [0.4125],\n        [0.7760],\n        [0.8484],\n        [0.6674],\n        [0.7943],\n        [0.4867],\n        [0.6544]], device='cuda:0')"
     },
     "execution_count": 12,
     "metadata": {},
     "output_type": "execute_result"
    }
   ],
   "source": [
    "output['prediction']"
   ],
   "metadata": {
    "collapsed": false,
    "ExecuteTime": {
     "end_time": "2024-04-02T15:12:56.233630521Z",
     "start_time": "2024-04-02T15:12:56.198350575Z"
    }
   },
   "id": "dae406a759820351"
  },
  {
   "cell_type": "code",
   "execution_count": 15,
   "outputs": [
    {
     "name": "stderr",
     "output_type": "stream",
     "text": [
      "0it [00:00, ?it/s]\n",
      "0it [00:00, ?it/s]\n"
     ]
    }
   ],
   "source": [
    "samples_all = read_strings_from_file('/home/adam/Projects/hybrid-transformer/smiles_generated_qed.txt')\n",
    "true = get_objective(smiles_list=samples, objective='qed')\n",
    "predicted = get_objective(smiles_list=samples, objective='qed')"
   ],
   "metadata": {
    "collapsed": false,
    "ExecuteTime": {
     "end_time": "2024-04-02T15:15:37.562368502Z",
     "start_time": "2024-04-02T15:15:37.527915581Z"
    }
   },
   "id": "e09e44d7de7a96e"
  },
  {
   "cell_type": "code",
   "execution_count": null,
   "outputs": [],
   "source": [],
   "metadata": {
    "collapsed": false
   },
   "id": "21199aa3842dd2fe"
  },
  {
   "cell_type": "code",
   "execution_count": 4,
   "outputs": [
    {
     "name": "stderr",
     "output_type": "stream",
     "text": [
      "  0%|          | 0/157 [00:00<?, ?it/s]\n",
      "100%|██████████| 57/57 [00:00<00:00, 794.84it/s]\n",
      "  1%|          | 1/157 [01:06<2:51:42, 66.04s/it]"
     ]
    },
    {
     "name": "stdout",
     "output_type": "stream",
     "text": [
      "Current QED:  tensor([1]) Number of samples with QED > 0.9:  1\n"
     ]
    },
    {
     "name": "stderr",
     "output_type": "stream",
     "text": [
      "\n",
      "100%|██████████| 57/57 [00:00<00:00, 696.43it/s]\n",
      "  1%|▏         | 2/157 [02:12<2:51:37, 66.44s/it]"
     ]
    },
    {
     "name": "stdout",
     "output_type": "stream",
     "text": [
      "Current QED:  tensor([1]) Number of samples with QED > 0.9:  2\n"
     ]
    },
    {
     "name": "stderr",
     "output_type": "stream",
     "text": [
      "\n",
      "100%|██████████| 53/53 [00:00<00:00, 852.03it/s]\n",
      "  2%|▏         | 3/157 [03:19<2:51:20, 66.76s/it]"
     ]
    },
    {
     "name": "stdout",
     "output_type": "stream",
     "text": [
      "Current QED:  tensor([1]) Number of samples with QED > 0.9:  6\n"
     ]
    },
    {
     "name": "stderr",
     "output_type": "stream",
     "text": [
      "\n",
      "100%|██████████| 58/58 [00:00<00:00, 654.75it/s]\n",
      "  3%|▎         | 4/157 [04:27<2:51:14, 67.15s/it]"
     ]
    },
    {
     "name": "stdout",
     "output_type": "stream",
     "text": [
      "Current QED:  tensor([1]) Number of samples with QED > 0.9:  7\n"
     ]
    },
    {
     "name": "stderr",
     "output_type": "stream",
     "text": [
      "\n",
      "100%|██████████| 57/57 [00:00<00:00, 852.53it/s]\n",
      "  3%|▎         | 5/157 [05:34<2:49:53, 67.06s/it]"
     ]
    },
    {
     "name": "stdout",
     "output_type": "stream",
     "text": [
      "Current QED:  tensor([1]) Number of samples with QED > 0.9:  8\n"
     ]
    },
    {
     "name": "stderr",
     "output_type": "stream",
     "text": [
      "\n",
      "100%|██████████| 53/53 [00:00<00:00, 820.80it/s]\n",
      "  4%|▍         | 6/157 [06:41<2:48:37, 67.00s/it]"
     ]
    },
    {
     "name": "stdout",
     "output_type": "stream",
     "text": [
      "Current QED:  tensor([1]) Number of samples with QED > 0.9:  11\n"
     ]
    },
    {
     "name": "stderr",
     "output_type": "stream",
     "text": [
      "\n",
      "100%|██████████| 62/62 [00:00<00:00, 719.20it/s]\n",
      "  4%|▍         | 7/157 [07:48<2:47:13, 66.89s/it]"
     ]
    },
    {
     "name": "stdout",
     "output_type": "stream",
     "text": [
      "Current QED:  tensor([1]) Number of samples with QED > 0.9:  13\n"
     ]
    },
    {
     "name": "stderr",
     "output_type": "stream",
     "text": [
      "\n",
      "100%|██████████| 57/57 [00:00<00:00, 731.33it/s]\n",
      "  5%|▌         | 8/157 [08:54<2:45:58, 66.83s/it]"
     ]
    },
    {
     "name": "stdout",
     "output_type": "stream",
     "text": [
      "Current QED:  tensor([1]) Number of samples with QED > 0.9:  14\n"
     ]
    },
    {
     "name": "stderr",
     "output_type": "stream",
     "text": [
      "\n",
      "100%|██████████| 54/54 [00:00<00:00, 702.02it/s]\n",
      "  6%|▌         | 9/157 [10:01<2:44:26, 66.67s/it]"
     ]
    },
    {
     "name": "stdout",
     "output_type": "stream",
     "text": [
      "Current QED:  tensor([1]) Number of samples with QED > 0.9:  15\n"
     ]
    },
    {
     "name": "stderr",
     "output_type": "stream",
     "text": [
      "\n",
      "100%|██████████| 57/57 [00:00<00:00, 752.59it/s]\n",
      "  6%|▋         | 10/157 [11:07<2:43:01, 66.54s/it]"
     ]
    },
    {
     "name": "stdout",
     "output_type": "stream",
     "text": [
      "Current QED:  tensor([1]) Number of samples with QED > 0.9:  18\n"
     ]
    },
    {
     "name": "stderr",
     "output_type": "stream",
     "text": [
      "\n",
      "100%|██████████| 57/57 [00:00<00:00, 779.88it/s]\n",
      "  7%|▋         | 11/157 [12:13<2:41:49, 66.50s/it]"
     ]
    },
    {
     "name": "stdout",
     "output_type": "stream",
     "text": [
      "Current QED:  tensor([1]) Number of samples with QED > 0.9:  18\n"
     ]
    },
    {
     "name": "stderr",
     "output_type": "stream",
     "text": [
      "\n",
      "100%|██████████| 47/47 [00:00<00:00, 766.69it/s]\n",
      "  8%|▊         | 12/157 [13:20<2:40:34, 66.45s/it]"
     ]
    },
    {
     "name": "stdout",
     "output_type": "stream",
     "text": [
      "Current QED:  tensor([1]) Number of samples with QED > 0.9:  20\n"
     ]
    },
    {
     "name": "stderr",
     "output_type": "stream",
     "text": [
      "\n",
      "100%|██████████| 50/50 [00:00<00:00, 715.97it/s]\n",
      "  8%|▊         | 13/157 [14:26<2:39:45, 66.56s/it]"
     ]
    },
    {
     "name": "stdout",
     "output_type": "stream",
     "text": [
      "Current QED:  tensor([1]) Number of samples with QED > 0.9:  24\n"
     ]
    },
    {
     "name": "stderr",
     "output_type": "stream",
     "text": [
      "\n",
      "100%|██████████| 53/53 [00:00<00:00, 772.37it/s]\n",
      "  9%|▉         | 14/157 [15:32<2:38:17, 66.41s/it]"
     ]
    },
    {
     "name": "stdout",
     "output_type": "stream",
     "text": [
      "Current QED:  tensor([1]) Number of samples with QED > 0.9:  25\n"
     ]
    },
    {
     "name": "stderr",
     "output_type": "stream",
     "text": [
      "\n",
      "100%|██████████| 57/57 [00:00<00:00, 757.76it/s]\n",
      " 10%|▉         | 15/157 [16:39<2:36:59, 66.33s/it]"
     ]
    },
    {
     "name": "stdout",
     "output_type": "stream",
     "text": [
      "Current QED:  tensor([1]) Number of samples with QED > 0.9:  28\n"
     ]
    },
    {
     "name": "stderr",
     "output_type": "stream",
     "text": [
      "\n",
      "100%|██████████| 55/55 [00:00<00:00, 655.85it/s]\n",
      " 10%|█         | 16/157 [17:46<2:36:15, 66.50s/it]"
     ]
    },
    {
     "name": "stdout",
     "output_type": "stream",
     "text": [
      "Current QED:  tensor([1]) Number of samples with QED > 0.9:  30\n"
     ]
    },
    {
     "name": "stderr",
     "output_type": "stream",
     "text": [
      "\n",
      "100%|██████████| 56/56 [00:00<00:00, 680.89it/s]\n",
      " 11%|█         | 17/157 [18:52<2:35:22, 66.59s/it]"
     ]
    },
    {
     "name": "stdout",
     "output_type": "stream",
     "text": [
      "Current QED:  tensor([1]) Number of samples with QED > 0.9:  30\n"
     ]
    },
    {
     "name": "stderr",
     "output_type": "stream",
     "text": [
      "\n",
      "100%|██████████| 54/54 [00:00<00:00, 743.54it/s]\n",
      " 11%|█▏        | 18/157 [19:59<2:34:24, 66.65s/it]"
     ]
    },
    {
     "name": "stdout",
     "output_type": "stream",
     "text": [
      "Current QED:  tensor([1]) Number of samples with QED > 0.9:  31\n"
     ]
    },
    {
     "name": "stderr",
     "output_type": "stream",
     "text": [
      "\n",
      "100%|██████████| 50/50 [00:00<00:00, 830.09it/s]\n",
      " 12%|█▏        | 19/157 [21:06<2:33:21, 66.68s/it]"
     ]
    },
    {
     "name": "stdout",
     "output_type": "stream",
     "text": [
      "Current QED:  tensor([1]) Number of samples with QED > 0.9:  32\n"
     ]
    },
    {
     "name": "stderr",
     "output_type": "stream",
     "text": [
      "\n",
      "100%|██████████| 52/52 [00:00<00:00, 560.57it/s]\n",
      " 13%|█▎        | 20/157 [22:12<2:32:06, 66.62s/it]"
     ]
    },
    {
     "name": "stdout",
     "output_type": "stream",
     "text": [
      "Current QED:  tensor([1]) Number of samples with QED > 0.9:  32\n"
     ]
    },
    {
     "name": "stderr",
     "output_type": "stream",
     "text": [
      "\n",
      "100%|██████████| 56/56 [00:00<00:00, 798.58it/s]\n",
      " 13%|█▎        | 21/157 [23:19<2:30:57, 66.60s/it]"
     ]
    },
    {
     "name": "stdout",
     "output_type": "stream",
     "text": [
      "Current QED:  tensor([1]) Number of samples with QED > 0.9:  32\n"
     ]
    },
    {
     "name": "stderr",
     "output_type": "stream",
     "text": [
      "\n",
      "100%|██████████| 56/56 [00:00<00:00, 814.39it/s]\n",
      " 14%|█▍        | 22/157 [24:25<2:29:47, 66.57s/it]"
     ]
    },
    {
     "name": "stdout",
     "output_type": "stream",
     "text": [
      "Current QED:  tensor([1]) Number of samples with QED > 0.9:  32\n"
     ]
    },
    {
     "name": "stderr",
     "output_type": "stream",
     "text": [
      "\n",
      "100%|██████████| 55/55 [00:00<00:00, 785.49it/s]\n",
      " 15%|█▍        | 23/157 [25:31<2:28:12, 66.36s/it]"
     ]
    },
    {
     "name": "stdout",
     "output_type": "stream",
     "text": [
      "Current QED:  tensor([1]) Number of samples with QED > 0.9:  32\n"
     ]
    },
    {
     "name": "stderr",
     "output_type": "stream",
     "text": [
      "\n",
      "  0%|          | 0/57 [00:00<?, ?it/s]\u001B[A\n",
      "100%|██████████| 57/57 [00:00<00:00, 532.52it/s]\u001B[A\n",
      " 15%|█▌        | 24/157 [26:38<2:27:07, 66.37s/it]"
     ]
    },
    {
     "name": "stdout",
     "output_type": "stream",
     "text": [
      "Current QED:  tensor([1]) Number of samples with QED > 0.9:  32\n"
     ]
    },
    {
     "name": "stderr",
     "output_type": "stream",
     "text": [
      "\n",
      "100%|██████████| 49/49 [00:00<00:00, 781.19it/s]\n",
      " 16%|█▌        | 25/157 [27:44<2:26:00, 66.37s/it]"
     ]
    },
    {
     "name": "stdout",
     "output_type": "stream",
     "text": [
      "Current QED:  tensor([1]) Number of samples with QED > 0.9:  32\n"
     ]
    },
    {
     "name": "stderr",
     "output_type": "stream",
     "text": [
      "\n",
      "100%|██████████| 54/54 [00:00<00:00, 653.26it/s]\n",
      " 17%|█▋        | 26/157 [28:51<2:25:05, 66.45s/it]"
     ]
    },
    {
     "name": "stdout",
     "output_type": "stream",
     "text": [
      "Current QED:  tensor([1]) Number of samples with QED > 0.9:  32\n"
     ]
    },
    {
     "name": "stderr",
     "output_type": "stream",
     "text": [
      "\n",
      "100%|██████████| 56/56 [00:00<00:00, 692.08it/s]\n",
      " 17%|█▋        | 27/157 [29:58<2:24:14, 66.57s/it]"
     ]
    },
    {
     "name": "stdout",
     "output_type": "stream",
     "text": [
      "Current QED:  tensor([1]) Number of samples with QED > 0.9:  34\n"
     ]
    },
    {
     "name": "stderr",
     "output_type": "stream",
     "text": [
      "\n",
      "100%|██████████| 55/55 [00:00<00:00, 773.78it/s]\n",
      " 18%|█▊        | 28/157 [31:04<2:23:15, 66.63s/it]"
     ]
    },
    {
     "name": "stdout",
     "output_type": "stream",
     "text": [
      "Current QED:  tensor([1]) Number of samples with QED > 0.9:  36\n"
     ]
    },
    {
     "name": "stderr",
     "output_type": "stream",
     "text": [
      "\n",
      "100%|██████████| 56/56 [00:00<00:00, 762.50it/s]\n",
      " 18%|█▊        | 29/157 [32:11<2:22:21, 66.73s/it]"
     ]
    },
    {
     "name": "stdout",
     "output_type": "stream",
     "text": [
      "Current QED:  tensor([1]) Number of samples with QED > 0.9:  38\n"
     ]
    },
    {
     "name": "stderr",
     "output_type": "stream",
     "text": [
      "\n",
      "100%|██████████| 52/52 [00:00<00:00, 836.03it/s]\n",
      " 19%|█▉        | 30/157 [33:19<2:21:49, 67.01s/it]"
     ]
    },
    {
     "name": "stdout",
     "output_type": "stream",
     "text": [
      "Current QED:  tensor([1]) Number of samples with QED > 0.9:  39\n"
     ]
    },
    {
     "name": "stderr",
     "output_type": "stream",
     "text": [
      "\n",
      "100%|██████████| 54/54 [00:00<00:00, 773.77it/s]\n",
      " 20%|█▉        | 31/157 [34:26<2:20:39, 66.98s/it]"
     ]
    },
    {
     "name": "stdout",
     "output_type": "stream",
     "text": [
      "Current QED:  tensor([1]) Number of samples with QED > 0.9:  40\n"
     ]
    },
    {
     "name": "stderr",
     "output_type": "stream",
     "text": [
      "\n",
      "100%|██████████| 59/59 [00:00<00:00, 651.97it/s]\n",
      " 20%|██        | 32/157 [35:32<2:19:11, 66.81s/it]"
     ]
    },
    {
     "name": "stdout",
     "output_type": "stream",
     "text": [
      "Current QED:  tensor([1]) Number of samples with QED > 0.9:  42\n"
     ]
    },
    {
     "name": "stderr",
     "output_type": "stream",
     "text": [
      "\n",
      "100%|██████████| 54/54 [00:00<00:00, 778.22it/s]\n",
      " 21%|██        | 33/157 [36:39<2:17:58, 66.76s/it]"
     ]
    },
    {
     "name": "stdout",
     "output_type": "stream",
     "text": [
      "Current QED:  tensor([1]) Number of samples with QED > 0.9:  45\n"
     ]
    },
    {
     "name": "stderr",
     "output_type": "stream",
     "text": [
      "\n",
      "100%|██████████| 55/55 [00:00<00:00, 767.66it/s]\n",
      " 22%|██▏       | 34/157 [37:46<2:16:50, 66.76s/it]"
     ]
    },
    {
     "name": "stdout",
     "output_type": "stream",
     "text": [
      "Current QED:  tensor([1]) Number of samples with QED > 0.9:  46\n"
     ]
    },
    {
     "name": "stderr",
     "output_type": "stream",
     "text": [
      "\n",
      "100%|██████████| 48/48 [00:00<00:00, 778.08it/s]\n",
      " 22%|██▏       | 35/157 [38:52<2:15:42, 66.74s/it]"
     ]
    },
    {
     "name": "stdout",
     "output_type": "stream",
     "text": [
      "Current QED:  tensor([1]) Number of samples with QED > 0.9:  50\n"
     ]
    },
    {
     "name": "stderr",
     "output_type": "stream",
     "text": [
      "\n",
      "100%|██████████| 55/55 [00:00<00:00, 791.53it/s]\n",
      " 23%|██▎       | 36/157 [39:59<2:14:18, 66.60s/it]"
     ]
    },
    {
     "name": "stdout",
     "output_type": "stream",
     "text": [
      "Current QED:  tensor([1]) Number of samples with QED > 0.9:  50\n"
     ]
    },
    {
     "name": "stderr",
     "output_type": "stream",
     "text": [
      "\n",
      "100%|██████████| 51/51 [00:00<00:00, 748.41it/s]\n",
      " 24%|██▎       | 37/157 [41:05<2:13:09, 66.58s/it]"
     ]
    },
    {
     "name": "stdout",
     "output_type": "stream",
     "text": [
      "Current QED:  tensor([1]) Number of samples with QED > 0.9:  50\n"
     ]
    },
    {
     "name": "stderr",
     "output_type": "stream",
     "text": [
      "\n",
      "100%|██████████| 52/52 [00:00<00:00, 698.04it/s]\n",
      " 24%|██▍       | 38/157 [42:12<2:11:59, 66.55s/it]"
     ]
    },
    {
     "name": "stdout",
     "output_type": "stream",
     "text": [
      "Current QED:  tensor([1]) Number of samples with QED > 0.9:  51\n"
     ]
    },
    {
     "name": "stderr",
     "output_type": "stream",
     "text": [
      "\n",
      "100%|██████████| 56/56 [00:00<00:00, 796.61it/s]\n",
      " 25%|██▍       | 39/157 [43:18<2:10:46, 66.50s/it]"
     ]
    },
    {
     "name": "stdout",
     "output_type": "stream",
     "text": [
      "Current QED:  tensor([1]) Number of samples with QED > 0.9:  53\n"
     ]
    },
    {
     "name": "stderr",
     "output_type": "stream",
     "text": [
      "\n",
      "100%|██████████| 53/53 [00:00<00:00, 762.33it/s]\n",
      " 25%|██▌       | 40/157 [44:24<2:09:39, 66.49s/it]"
     ]
    },
    {
     "name": "stdout",
     "output_type": "stream",
     "text": [
      "Current QED:  tensor([1]) Number of samples with QED > 0.9:  54\n"
     ]
    },
    {
     "name": "stderr",
     "output_type": "stream",
     "text": [
      "\n",
      "100%|██████████| 52/52 [00:00<00:00, 646.09it/s]\n",
      " 26%|██▌       | 41/157 [45:31<2:08:29, 66.46s/it]"
     ]
    },
    {
     "name": "stdout",
     "output_type": "stream",
     "text": [
      "Current QED:  tensor([1]) Number of samples with QED > 0.9:  54\n"
     ]
    },
    {
     "name": "stderr",
     "output_type": "stream",
     "text": [
      "\n",
      "100%|██████████| 48/48 [00:00<00:00, 505.58it/s]\n",
      " 27%|██▋       | 42/157 [46:37<2:07:15, 66.40s/it]"
     ]
    },
    {
     "name": "stdout",
     "output_type": "stream",
     "text": [
      "Current QED:  tensor([1]) Number of samples with QED > 0.9:  54\n"
     ]
    },
    {
     "name": "stderr",
     "output_type": "stream",
     "text": [
      "\n",
      "100%|██████████| 50/50 [00:00<00:00, 656.60it/s]\n",
      " 27%|██▋       | 43/157 [47:44<2:06:29, 66.57s/it]"
     ]
    },
    {
     "name": "stdout",
     "output_type": "stream",
     "text": [
      "Current QED:  tensor([1]) Number of samples with QED > 0.9:  55\n"
     ]
    },
    {
     "name": "stderr",
     "output_type": "stream",
     "text": [
      "\n",
      "100%|██████████| 54/54 [00:00<00:00, 668.16it/s]\n",
      " 28%|██▊       | 44/157 [48:51<2:05:37, 66.71s/it]"
     ]
    },
    {
     "name": "stdout",
     "output_type": "stream",
     "text": [
      "Current QED:  tensor([1]) Number of samples with QED > 0.9:  59\n"
     ]
    },
    {
     "name": "stderr",
     "output_type": "stream",
     "text": [
      "\n",
      "100%|██████████| 56/56 [00:00<00:00, 666.33it/s]\n",
      " 29%|██▊       | 45/157 [49:58<2:04:39, 66.78s/it]"
     ]
    },
    {
     "name": "stdout",
     "output_type": "stream",
     "text": [
      "Current QED:  tensor([1]) Number of samples with QED > 0.9:  61\n"
     ]
    },
    {
     "name": "stderr",
     "output_type": "stream",
     "text": [
      "\n",
      "  0%|          | 0/58 [00:00<?, ?it/s]\u001B[A\n",
      "100%|██████████| 58/58 [00:00<00:00, 561.51it/s]\u001B[A\n",
      " 29%|██▉       | 46/157 [51:05<2:03:38, 66.83s/it]"
     ]
    },
    {
     "name": "stdout",
     "output_type": "stream",
     "text": [
      "Current QED:  tensor([1]) Number of samples with QED > 0.9:  62\n"
     ]
    },
    {
     "name": "stderr",
     "output_type": "stream",
     "text": [
      "\n",
      "100%|██████████| 53/53 [00:00<00:00, 737.52it/s]\n",
      " 30%|██▉       | 47/157 [52:12<2:02:29, 66.81s/it]"
     ]
    },
    {
     "name": "stdout",
     "output_type": "stream",
     "text": [
      "Current QED:  tensor([1]) Number of samples with QED > 0.9:  62\n"
     ]
    },
    {
     "name": "stderr",
     "output_type": "stream",
     "text": [
      "\n",
      "100%|██████████| 55/55 [00:00<00:00, 735.49it/s]\n",
      " 31%|███       | 48/157 [53:19<2:01:37, 66.95s/it]"
     ]
    },
    {
     "name": "stdout",
     "output_type": "stream",
     "text": [
      "Current QED:  tensor([1]) Number of samples with QED > 0.9:  65\n"
     ]
    },
    {
     "name": "stderr",
     "output_type": "stream",
     "text": [
      "\n",
      "100%|██████████| 54/54 [00:00<00:00, 815.52it/s]\n",
      " 31%|███       | 49/157 [54:26<2:00:32, 66.96s/it]"
     ]
    },
    {
     "name": "stdout",
     "output_type": "stream",
     "text": [
      "Current QED:  tensor([1]) Number of samples with QED > 0.9:  65\n"
     ]
    },
    {
     "name": "stderr",
     "output_type": "stream",
     "text": [
      "\n",
      "100%|██████████| 52/52 [00:00<00:00, 649.83it/s]\n",
      " 32%|███▏      | 50/157 [55:33<1:59:18, 66.90s/it]"
     ]
    },
    {
     "name": "stdout",
     "output_type": "stream",
     "text": [
      "Current QED:  tensor([1]) Number of samples with QED > 0.9:  67\n"
     ]
    },
    {
     "name": "stderr",
     "output_type": "stream",
     "text": [
      "\n",
      "100%|██████████| 54/54 [00:00<00:00, 806.90it/s]\n",
      " 32%|███▏      | 51/157 [56:40<1:58:19, 66.98s/it]"
     ]
    },
    {
     "name": "stdout",
     "output_type": "stream",
     "text": [
      "Current QED:  tensor([1]) Number of samples with QED > 0.9:  69\n"
     ]
    },
    {
     "name": "stderr",
     "output_type": "stream",
     "text": [
      "\n",
      "100%|██████████| 52/52 [00:00<00:00, 662.21it/s]\n",
      " 33%|███▎      | 52/157 [57:47<1:57:07, 66.93s/it]"
     ]
    },
    {
     "name": "stdout",
     "output_type": "stream",
     "text": [
      "Current QED:  tensor([1]) Number of samples with QED > 0.9:  69\n"
     ]
    },
    {
     "name": "stderr",
     "output_type": "stream",
     "text": [
      "\n",
      "  0%|          | 0/57 [00:00<?, ?it/s]\u001B[A\n",
      "100%|██████████| 57/57 [00:00<00:00, 523.22it/s]\u001B[A\n",
      " 34%|███▍      | 53/157 [58:54<1:56:03, 66.95s/it]"
     ]
    },
    {
     "name": "stdout",
     "output_type": "stream",
     "text": [
      "Current QED:  tensor([1]) Number of samples with QED > 0.9:  71\n"
     ]
    },
    {
     "name": "stderr",
     "output_type": "stream",
     "text": [
      "\n",
      "100%|██████████| 53/53 [00:00<00:00, 750.06it/s]\n",
      " 34%|███▍      | 54/157 [1:00:00<1:54:38, 66.78s/it]"
     ]
    },
    {
     "name": "stdout",
     "output_type": "stream",
     "text": [
      "Current QED:  tensor([1]) Number of samples with QED > 0.9:  73\n"
     ]
    },
    {
     "name": "stderr",
     "output_type": "stream",
     "text": [
      "\n",
      "100%|██████████| 53/53 [00:00<00:00, 755.82it/s]\n",
      " 35%|███▌      | 55/157 [1:01:07<1:53:36, 66.83s/it]"
     ]
    },
    {
     "name": "stdout",
     "output_type": "stream",
     "text": [
      "Current QED:  tensor([1]) Number of samples with QED > 0.9:  75\n"
     ]
    },
    {
     "name": "stderr",
     "output_type": "stream",
     "text": [
      "\n",
      "100%|██████████| 60/60 [00:00<00:00, 768.72it/s]\n",
      " 36%|███▌      | 56/157 [1:02:14<1:52:20, 66.73s/it]"
     ]
    },
    {
     "name": "stdout",
     "output_type": "stream",
     "text": [
      "Current QED:  tensor([1]) Number of samples with QED > 0.9:  76\n"
     ]
    },
    {
     "name": "stderr",
     "output_type": "stream",
     "text": [
      "\n",
      "  0%|          | 0/52 [00:00<?, ?it/s]\u001B[A\n",
      "100%|██████████| 52/52 [00:00<00:00, 502.51it/s]\u001B[A\n",
      " 36%|███▋      | 57/157 [1:03:20<1:51:06, 66.67s/it]"
     ]
    },
    {
     "name": "stdout",
     "output_type": "stream",
     "text": [
      "Current QED:  tensor([1]) Number of samples with QED > 0.9:  78\n"
     ]
    },
    {
     "name": "stderr",
     "output_type": "stream",
     "text": [
      "\n",
      "100%|██████████| 55/55 [00:00<00:00, 701.85it/s]\n",
      " 37%|███▋      | 58/157 [1:04:27<1:50:03, 66.71s/it]"
     ]
    },
    {
     "name": "stdout",
     "output_type": "stream",
     "text": [
      "Current QED:  tensor([1]) Number of samples with QED > 0.9:  79\n"
     ]
    },
    {
     "name": "stderr",
     "output_type": "stream",
     "text": [
      "\n",
      "100%|██████████| 48/48 [00:00<00:00, 682.60it/s]\n",
      " 38%|███▊      | 59/157 [1:05:33<1:48:49, 66.63s/it]"
     ]
    },
    {
     "name": "stdout",
     "output_type": "stream",
     "text": [
      "Current QED:  tensor([1]) Number of samples with QED > 0.9:  80\n"
     ]
    },
    {
     "name": "stderr",
     "output_type": "stream",
     "text": [
      "\n",
      "100%|██████████| 51/51 [00:00<00:00, 823.59it/s]\n",
      " 38%|███▊      | 60/157 [1:06:40<1:47:47, 66.67s/it]"
     ]
    },
    {
     "name": "stdout",
     "output_type": "stream",
     "text": [
      "Current QED:  tensor([1]) Number of samples with QED > 0.9:  81\n"
     ]
    },
    {
     "name": "stderr",
     "output_type": "stream",
     "text": [
      "\n",
      "100%|██████████| 51/51 [00:00<00:00, 754.46it/s]\n",
      " 39%|███▉      | 61/157 [1:07:46<1:46:29, 66.56s/it]"
     ]
    },
    {
     "name": "stdout",
     "output_type": "stream",
     "text": [
      "Current QED:  tensor([1]) Number of samples with QED > 0.9:  83\n"
     ]
    },
    {
     "name": "stderr",
     "output_type": "stream",
     "text": [
      "\n",
      "100%|██████████| 47/47 [00:00<00:00, 782.61it/s]\n",
      " 39%|███▉      | 62/157 [1:08:53<1:45:21, 66.54s/it]"
     ]
    },
    {
     "name": "stdout",
     "output_type": "stream",
     "text": [
      "Current QED:  tensor([1]) Number of samples with QED > 0.9:  83\n"
     ]
    },
    {
     "name": "stderr",
     "output_type": "stream",
     "text": [
      "\n",
      "100%|██████████| 56/56 [00:00<00:00, 781.29it/s]\n",
      " 40%|████      | 63/157 [1:09:59<1:44:13, 66.53s/it]"
     ]
    },
    {
     "name": "stdout",
     "output_type": "stream",
     "text": [
      "Current QED:  tensor([1]) Number of samples with QED > 0.9:  83\n"
     ]
    },
    {
     "name": "stderr",
     "output_type": "stream",
     "text": [
      "\n",
      "100%|██████████| 51/51 [00:00<00:00, 788.37it/s]\n",
      " 41%|████      | 64/157 [1:11:06<1:43:19, 66.66s/it]"
     ]
    },
    {
     "name": "stdout",
     "output_type": "stream",
     "text": [
      "Current QED:  tensor([1]) Number of samples with QED > 0.9:  84\n"
     ]
    },
    {
     "name": "stderr",
     "output_type": "stream",
     "text": [
      "\n",
      "100%|██████████| 52/52 [00:00<00:00, 694.90it/s]\n",
      " 41%|████▏     | 65/157 [1:12:14<1:42:25, 66.80s/it]"
     ]
    },
    {
     "name": "stdout",
     "output_type": "stream",
     "text": [
      "Current QED:  tensor([1]) Number of samples with QED > 0.9:  87\n"
     ]
    },
    {
     "name": "stderr",
     "output_type": "stream",
     "text": [
      "\n",
      "100%|██████████| 55/55 [00:00<00:00, 694.52it/s]\n",
      " 42%|████▏     | 66/157 [1:13:20<1:41:21, 66.83s/it]"
     ]
    },
    {
     "name": "stdout",
     "output_type": "stream",
     "text": [
      "Current QED:  tensor([1]) Number of samples with QED > 0.9:  87\n"
     ]
    },
    {
     "name": "stderr",
     "output_type": "stream",
     "text": [
      "\n",
      "100%|██████████| 50/50 [00:00<00:00, 728.19it/s]\n",
      " 43%|████▎     | 67/157 [1:14:28<1:40:26, 66.97s/it]"
     ]
    },
    {
     "name": "stdout",
     "output_type": "stream",
     "text": [
      "Current QED:  tensor([1]) Number of samples with QED > 0.9:  92\n"
     ]
    },
    {
     "name": "stderr",
     "output_type": "stream",
     "text": [
      "\n",
      "100%|██████████| 55/55 [00:00<00:00, 757.32it/s]\n",
      " 43%|████▎     | 68/157 [1:15:35<1:39:21, 66.98s/it]"
     ]
    },
    {
     "name": "stdout",
     "output_type": "stream",
     "text": [
      "Current QED:  tensor([1]) Number of samples with QED > 0.9:  93\n"
     ]
    },
    {
     "name": "stderr",
     "output_type": "stream",
     "text": [
      "\n",
      "100%|██████████| 58/58 [00:00<00:00, 729.42it/s]\n",
      " 44%|████▍     | 69/157 [1:16:42<1:38:17, 67.02s/it]"
     ]
    },
    {
     "name": "stdout",
     "output_type": "stream",
     "text": [
      "Current QED:  tensor([1]) Number of samples with QED > 0.9:  94\n"
     ]
    },
    {
     "name": "stderr",
     "output_type": "stream",
     "text": [
      "\n",
      "100%|██████████| 52/52 [00:00<00:00, 690.29it/s]\n",
      " 45%|████▍     | 70/157 [1:17:49<1:37:04, 66.95s/it]"
     ]
    },
    {
     "name": "stdout",
     "output_type": "stream",
     "text": [
      "Current QED:  tensor([1]) Number of samples with QED > 0.9:  94\n"
     ]
    },
    {
     "name": "stderr",
     "output_type": "stream",
     "text": [
      "\n",
      "100%|██████████| 54/54 [00:00<00:00, 743.61it/s]\n",
      " 45%|████▌     | 71/157 [1:18:55<1:35:53, 66.90s/it]"
     ]
    },
    {
     "name": "stdout",
     "output_type": "stream",
     "text": [
      "Current QED:  tensor([1]) Number of samples with QED > 0.9:  95\n"
     ]
    },
    {
     "name": "stderr",
     "output_type": "stream",
     "text": [
      "\n",
      "100%|██████████| 45/45 [00:00<00:00, 668.96it/s]\n",
      " 46%|████▌     | 72/157 [1:20:03<1:34:53, 66.98s/it]"
     ]
    },
    {
     "name": "stdout",
     "output_type": "stream",
     "text": [
      "Current QED:  tensor([1]) Number of samples with QED > 0.9:  96\n"
     ]
    },
    {
     "name": "stderr",
     "output_type": "stream",
     "text": [
      "\n",
      "100%|██████████| 56/56 [00:00<00:00, 806.91it/s]\n",
      " 46%|████▋     | 73/157 [1:21:09<1:33:42, 66.93s/it]"
     ]
    },
    {
     "name": "stdout",
     "output_type": "stream",
     "text": [
      "Current QED:  tensor([1]) Number of samples with QED > 0.9:  97\n"
     ]
    },
    {
     "name": "stderr",
     "output_type": "stream",
     "text": [
      "\n",
      "100%|██████████| 54/54 [00:00<00:00, 770.19it/s]\n",
      " 47%|████▋     | 74/157 [1:22:16<1:32:33, 66.91s/it]"
     ]
    },
    {
     "name": "stdout",
     "output_type": "stream",
     "text": [
      "Current QED:  tensor([1]) Number of samples with QED > 0.9:  97\n"
     ]
    },
    {
     "name": "stderr",
     "output_type": "stream",
     "text": [
      "\n",
      "100%|██████████| 51/51 [00:00<00:00, 814.53it/s]\n",
      " 48%|████▊     | 75/157 [1:23:23<1:31:21, 66.85s/it]"
     ]
    },
    {
     "name": "stdout",
     "output_type": "stream",
     "text": [
      "Current QED:  tensor([1]) Number of samples with QED > 0.9:  97\n"
     ]
    },
    {
     "name": "stderr",
     "output_type": "stream",
     "text": [
      "\n",
      "100%|██████████| 52/52 [00:00<00:00, 644.13it/s]\n",
      " 48%|████▊     | 76/157 [1:24:30<1:30:15, 66.86s/it]"
     ]
    },
    {
     "name": "stdout",
     "output_type": "stream",
     "text": [
      "Current QED:  tensor([1]) Number of samples with QED > 0.9:  100\n"
     ]
    },
    {
     "name": "stderr",
     "output_type": "stream",
     "text": [
      "\n",
      "100%|██████████| 53/53 [00:00<00:00, 817.14it/s]\n",
      " 49%|████▉     | 77/157 [1:25:36<1:28:56, 66.71s/it]"
     ]
    },
    {
     "name": "stdout",
     "output_type": "stream",
     "text": [
      "Current QED:  tensor([1]) Number of samples with QED > 0.9:  103\n"
     ]
    },
    {
     "name": "stderr",
     "output_type": "stream",
     "text": [
      "\n",
      "100%|██████████| 59/59 [00:00<00:00, 733.57it/s]\n",
      " 50%|████▉     | 78/157 [1:26:43<1:27:54, 66.77s/it]"
     ]
    },
    {
     "name": "stdout",
     "output_type": "stream",
     "text": [
      "Current QED:  tensor([1]) Number of samples with QED > 0.9:  104\n"
     ]
    },
    {
     "name": "stderr",
     "output_type": "stream",
     "text": [
      "\n",
      "100%|██████████| 53/53 [00:00<00:00, 693.78it/s]\n",
      " 50%|█████     | 79/157 [1:27:50<1:26:46, 66.76s/it]"
     ]
    },
    {
     "name": "stdout",
     "output_type": "stream",
     "text": [
      "Current QED:  tensor([1]) Number of samples with QED > 0.9:  106\n"
     ]
    },
    {
     "name": "stderr",
     "output_type": "stream",
     "text": [
      "\n",
      "100%|██████████| 52/52 [00:00<00:00, 523.50it/s]\n",
      " 51%|█████     | 80/157 [1:28:56<1:25:37, 66.72s/it]"
     ]
    },
    {
     "name": "stdout",
     "output_type": "stream",
     "text": [
      "Current QED:  tensor([1]) Number of samples with QED > 0.9:  106\n"
     ]
    },
    {
     "name": "stderr",
     "output_type": "stream",
     "text": [
      "\n",
      "100%|██████████| 53/53 [00:00<00:00, 882.12it/s]\n",
      " 52%|█████▏    | 81/157 [1:30:03<1:24:29, 66.71s/it]"
     ]
    },
    {
     "name": "stdout",
     "output_type": "stream",
     "text": [
      "Current QED:  tensor([1]) Number of samples with QED > 0.9:  106\n"
     ]
    },
    {
     "name": "stderr",
     "output_type": "stream",
     "text": [
      "\n",
      "100%|██████████| 48/48 [00:00<00:00, 725.83it/s]\n",
      " 52%|█████▏    | 82/157 [1:31:10<1:23:18, 66.64s/it]"
     ]
    },
    {
     "name": "stdout",
     "output_type": "stream",
     "text": [
      "Current QED:  tensor([1]) Number of samples with QED > 0.9:  108\n"
     ]
    },
    {
     "name": "stderr",
     "output_type": "stream",
     "text": [
      "\n",
      "100%|██████████| 59/59 [00:00<00:00, 883.37it/s]\n",
      " 53%|█████▎    | 83/157 [1:32:17<1:22:16, 66.71s/it]"
     ]
    },
    {
     "name": "stdout",
     "output_type": "stream",
     "text": [
      "Current QED:  tensor([1]) Number of samples with QED > 0.9:  110\n"
     ]
    },
    {
     "name": "stderr",
     "output_type": "stream",
     "text": [
      "\n",
      "100%|██████████| 54/54 [00:00<00:00, 618.29it/s]\n",
      " 54%|█████▎    | 84/157 [1:33:24<1:21:19, 66.85s/it]"
     ]
    },
    {
     "name": "stdout",
     "output_type": "stream",
     "text": [
      "Current QED:  tensor([1]) Number of samples with QED > 0.9:  111\n"
     ]
    },
    {
     "name": "stderr",
     "output_type": "stream",
     "text": [
      "\n",
      "100%|██████████| 53/53 [00:00<00:00, 573.71it/s]\n",
      " 54%|█████▍    | 85/157 [1:34:31<1:20:26, 67.03s/it]"
     ]
    },
    {
     "name": "stdout",
     "output_type": "stream",
     "text": [
      "Current QED:  tensor([1]) Number of samples with QED > 0.9:  113\n"
     ]
    },
    {
     "name": "stderr",
     "output_type": "stream",
     "text": [
      "\n",
      "100%|██████████| 60/60 [00:00<00:00, 710.87it/s]\n",
      " 55%|█████▍    | 86/157 [1:35:39<1:19:33, 67.23s/it]"
     ]
    },
    {
     "name": "stdout",
     "output_type": "stream",
     "text": [
      "Current QED:  tensor([1]) Number of samples with QED > 0.9:  113\n"
     ]
    },
    {
     "name": "stderr",
     "output_type": "stream",
     "text": [
      "\n",
      "100%|██████████| 56/56 [00:00<00:00, 717.79it/s]\n",
      " 55%|█████▌    | 87/157 [1:36:46<1:18:27, 67.25s/it]"
     ]
    },
    {
     "name": "stdout",
     "output_type": "stream",
     "text": [
      "Current QED:  tensor([1]) Number of samples with QED > 0.9:  114\n"
     ]
    },
    {
     "name": "stderr",
     "output_type": "stream",
     "text": [
      "\n",
      "100%|██████████| 53/53 [00:00<00:00, 751.75it/s]\n",
      " 56%|█████▌    | 88/157 [1:37:53<1:17:11, 67.12s/it]"
     ]
    },
    {
     "name": "stdout",
     "output_type": "stream",
     "text": [
      "Current QED:  tensor([1]) Number of samples with QED > 0.9:  117\n"
     ]
    },
    {
     "name": "stderr",
     "output_type": "stream",
     "text": [
      "\n",
      "100%|██████████| 52/52 [00:00<00:00, 611.25it/s]\n",
      " 57%|█████▋    | 89/157 [1:39:00<1:16:02, 67.10s/it]"
     ]
    },
    {
     "name": "stdout",
     "output_type": "stream",
     "text": [
      "Current QED:  tensor([1]) Number of samples with QED > 0.9:  118\n"
     ]
    },
    {
     "name": "stderr",
     "output_type": "stream",
     "text": [
      "\n",
      "100%|██████████| 48/48 [00:00<00:00, 695.38it/s]\n",
      " 57%|█████▋    | 90/157 [1:40:07<1:14:52, 67.05s/it]"
     ]
    },
    {
     "name": "stdout",
     "output_type": "stream",
     "text": [
      "Current QED:  tensor([1]) Number of samples with QED > 0.9:  119\n"
     ]
    },
    {
     "name": "stderr",
     "output_type": "stream",
     "text": [
      "\n",
      "100%|██████████| 55/55 [00:00<00:00, 810.19it/s]\n",
      " 58%|█████▊    | 91/157 [1:41:14<1:13:39, 66.97s/it]"
     ]
    },
    {
     "name": "stdout",
     "output_type": "stream",
     "text": [
      "Current QED:  tensor([1]) Number of samples with QED > 0.9:  121\n"
     ]
    },
    {
     "name": "stderr",
     "output_type": "stream",
     "text": [
      "\n",
      "100%|██████████| 53/53 [00:00<00:00, 709.82it/s]\n",
      " 59%|█████▊    | 92/157 [1:42:20<1:12:11, 66.64s/it]"
     ]
    },
    {
     "name": "stdout",
     "output_type": "stream",
     "text": [
      "Current QED:  tensor([1]) Number of samples with QED > 0.9:  124\n"
     ]
    },
    {
     "name": "stderr",
     "output_type": "stream",
     "text": [
      "\n",
      "100%|██████████| 53/53 [00:00<00:00, 793.23it/s]\n",
      " 59%|█████▉    | 93/157 [1:43:26<1:10:51, 66.43s/it]"
     ]
    },
    {
     "name": "stdout",
     "output_type": "stream",
     "text": [
      "Current QED:  tensor([1]) Number of samples with QED > 0.9:  124\n"
     ]
    },
    {
     "name": "stderr",
     "output_type": "stream",
     "text": [
      "\n",
      "100%|██████████| 55/55 [00:00<00:00, 886.45it/s]\n",
      " 60%|█████▉    | 94/157 [1:44:31<1:09:33, 66.25s/it]"
     ]
    },
    {
     "name": "stdout",
     "output_type": "stream",
     "text": [
      "Current QED:  tensor([1]) Number of samples with QED > 0.9:  125\n"
     ]
    },
    {
     "name": "stderr",
     "output_type": "stream",
     "text": [
      "\n",
      "100%|██████████| 53/53 [00:00<00:00, 894.92it/s]\n",
      " 61%|██████    | 95/157 [1:45:37<1:08:21, 66.15s/it]"
     ]
    },
    {
     "name": "stdout",
     "output_type": "stream",
     "text": [
      "Current QED:  tensor([1]) Number of samples with QED > 0.9:  128\n"
     ]
    },
    {
     "name": "stderr",
     "output_type": "stream",
     "text": [
      "\n",
      "100%|██████████| 57/57 [00:00<00:00, 916.96it/s]\n",
      " 61%|██████    | 96/157 [1:46:43<1:07:08, 66.04s/it]"
     ]
    },
    {
     "name": "stdout",
     "output_type": "stream",
     "text": [
      "Current QED:  tensor([1]) Number of samples with QED > 0.9:  130\n"
     ]
    },
    {
     "name": "stderr",
     "output_type": "stream",
     "text": [
      "\n",
      "100%|██████████| 48/48 [00:00<00:00, 938.66it/s]\n",
      " 62%|██████▏   | 97/157 [1:47:49<1:05:59, 65.99s/it]"
     ]
    },
    {
     "name": "stdout",
     "output_type": "stream",
     "text": [
      "Current QED:  tensor([1]) Number of samples with QED > 0.9:  131\n"
     ]
    },
    {
     "name": "stderr",
     "output_type": "stream",
     "text": [
      "\n",
      "100%|██████████| 54/54 [00:00<00:00, 832.78it/s]\n",
      " 62%|██████▏   | 98/157 [1:48:55<1:04:49, 65.93s/it]"
     ]
    },
    {
     "name": "stdout",
     "output_type": "stream",
     "text": [
      "Current QED:  tensor([1]) Number of samples with QED > 0.9:  134\n"
     ]
    },
    {
     "name": "stderr",
     "output_type": "stream",
     "text": [
      "\n",
      "100%|██████████| 50/50 [00:00<00:00, 830.52it/s]\n",
      " 63%|██████▎   | 99/157 [1:50:01<1:03:49, 66.03s/it]"
     ]
    },
    {
     "name": "stdout",
     "output_type": "stream",
     "text": [
      "Current QED:  tensor([1]) Number of samples with QED > 0.9:  136\n"
     ]
    },
    {
     "name": "stderr",
     "output_type": "stream",
     "text": [
      "\n",
      "100%|██████████| 50/50 [00:00<00:00, 888.64it/s]\n",
      " 64%|██████▎   | 100/157 [1:51:07<1:02:45, 66.05s/it]"
     ]
    },
    {
     "name": "stdout",
     "output_type": "stream",
     "text": [
      "Current QED:  tensor([1]) Number of samples with QED > 0.9:  136\n"
     ]
    },
    {
     "name": "stderr",
     "output_type": "stream",
     "text": [
      "\n",
      "100%|██████████| 52/52 [00:00<00:00, 791.11it/s]\n",
      " 64%|██████▍   | 101/157 [1:52:13<1:01:40, 66.09s/it]"
     ]
    },
    {
     "name": "stdout",
     "output_type": "stream",
     "text": [
      "Current QED:  tensor([1]) Number of samples with QED > 0.9:  136\n"
     ]
    },
    {
     "name": "stderr",
     "output_type": "stream",
     "text": [
      "\n",
      "100%|██████████| 54/54 [00:00<00:00, 832.32it/s]\n",
      " 65%|██████▍   | 102/157 [1:53:19<1:00:33, 66.06s/it]"
     ]
    },
    {
     "name": "stdout",
     "output_type": "stream",
     "text": [
      "Current QED:  tensor([1]) Number of samples with QED > 0.9:  138\n"
     ]
    },
    {
     "name": "stderr",
     "output_type": "stream",
     "text": [
      "\n",
      "100%|██████████| 57/57 [00:00<00:00, 783.74it/s]\n",
      " 66%|██████▌   | 103/157 [1:54:25<59:27, 66.06s/it]  "
     ]
    },
    {
     "name": "stdout",
     "output_type": "stream",
     "text": [
      "Current QED:  tensor([1]) Number of samples with QED > 0.9:  139\n"
     ]
    },
    {
     "name": "stderr",
     "output_type": "stream",
     "text": [
      "\n",
      "100%|██████████| 59/59 [00:00<00:00, 754.91it/s]\n",
      " 66%|██████▌   | 104/157 [1:55:31<58:22, 66.08s/it]"
     ]
    },
    {
     "name": "stdout",
     "output_type": "stream",
     "text": [
      "Current QED:  tensor([1]) Number of samples with QED > 0.9:  140\n"
     ]
    },
    {
     "name": "stderr",
     "output_type": "stream",
     "text": [
      "\n",
      "100%|██████████| 54/54 [00:00<00:00, 868.46it/s]\n",
      " 67%|██████▋   | 105/157 [1:56:37<57:10, 65.98s/it]"
     ]
    },
    {
     "name": "stdout",
     "output_type": "stream",
     "text": [
      "Current QED:  tensor([1]) Number of samples with QED > 0.9:  140\n"
     ]
    },
    {
     "name": "stderr",
     "output_type": "stream",
     "text": [
      "\n",
      "100%|██████████| 50/50 [00:00<00:00, 922.62it/s]\n",
      " 68%|██████▊   | 106/157 [1:57:43<56:02, 65.92s/it]"
     ]
    },
    {
     "name": "stdout",
     "output_type": "stream",
     "text": [
      "Current QED:  tensor([1]) Number of samples with QED > 0.9:  143\n"
     ]
    },
    {
     "name": "stderr",
     "output_type": "stream",
     "text": [
      "\n",
      "100%|██████████| 54/54 [00:00<00:00, 892.49it/s]\n",
      " 68%|██████▊   | 107/157 [1:58:49<54:54, 65.89s/it]"
     ]
    },
    {
     "name": "stdout",
     "output_type": "stream",
     "text": [
      "Current QED:  tensor([1]) Number of samples with QED > 0.9:  143\n"
     ]
    },
    {
     "name": "stderr",
     "output_type": "stream",
     "text": [
      "\n",
      "100%|██████████| 53/53 [00:00<00:00, 895.29it/s]\n",
      " 69%|██████▉   | 108/157 [1:59:55<53:47, 65.86s/it]"
     ]
    },
    {
     "name": "stdout",
     "output_type": "stream",
     "text": [
      "Current QED:  tensor([1]) Number of samples with QED > 0.9:  144\n"
     ]
    },
    {
     "name": "stderr",
     "output_type": "stream",
     "text": [
      "\n",
      "100%|██████████| 57/57 [00:00<00:00, 890.04it/s]\n",
      " 69%|██████▉   | 109/157 [2:01:00<52:41, 65.86s/it]"
     ]
    },
    {
     "name": "stdout",
     "output_type": "stream",
     "text": [
      "Current QED:  tensor([1]) Number of samples with QED > 0.9:  144\n"
     ]
    },
    {
     "name": "stderr",
     "output_type": "stream",
     "text": [
      "\n",
      "100%|██████████| 54/54 [00:00<00:00, 943.26it/s]\n",
      " 70%|███████   | 110/157 [2:02:06<51:34, 65.84s/it]"
     ]
    },
    {
     "name": "stdout",
     "output_type": "stream",
     "text": [
      "Current QED:  tensor([1]) Number of samples with QED > 0.9:  146\n"
     ]
    },
    {
     "name": "stderr",
     "output_type": "stream",
     "text": [
      "\n",
      "100%|██████████| 59/59 [00:00<00:00, 918.45it/s]\n",
      " 71%|███████   | 111/157 [2:03:12<50:28, 65.83s/it]"
     ]
    },
    {
     "name": "stdout",
     "output_type": "stream",
     "text": [
      "Current QED:  tensor([1]) Number of samples with QED > 0.9:  149\n"
     ]
    },
    {
     "name": "stderr",
     "output_type": "stream",
     "text": [
      "\n",
      "100%|██████████| 54/54 [00:00<00:00, 801.98it/s]\n",
      " 71%|███████▏  | 112/157 [2:04:18<49:28, 65.97s/it]"
     ]
    },
    {
     "name": "stdout",
     "output_type": "stream",
     "text": [
      "Current QED:  tensor([1]) Number of samples with QED > 0.9:  150\n"
     ]
    },
    {
     "name": "stderr",
     "output_type": "stream",
     "text": [
      "\n",
      "100%|██████████| 53/53 [00:00<00:00, 894.25it/s]\n",
      " 72%|███████▏  | 113/157 [2:05:25<48:24, 66.02s/it]"
     ]
    },
    {
     "name": "stdout",
     "output_type": "stream",
     "text": [
      "Current QED:  tensor([1]) Number of samples with QED > 0.9:  150\n"
     ]
    },
    {
     "name": "stderr",
     "output_type": "stream",
     "text": [
      "\n",
      "100%|██████████| 53/53 [00:00<00:00, 819.76it/s]\n",
      " 73%|███████▎  | 114/157 [2:06:31<47:20, 66.05s/it]"
     ]
    },
    {
     "name": "stdout",
     "output_type": "stream",
     "text": [
      "Current QED:  tensor([1]) Number of samples with QED > 0.9:  153\n"
     ]
    },
    {
     "name": "stderr",
     "output_type": "stream",
     "text": [
      "\n",
      "100%|██████████| 57/57 [00:00<00:00, 877.89it/s]\n",
      " 73%|███████▎  | 115/157 [2:07:37<46:15, 66.08s/it]"
     ]
    },
    {
     "name": "stdout",
     "output_type": "stream",
     "text": [
      "Current QED:  tensor([1]) Number of samples with QED > 0.9:  154\n"
     ]
    },
    {
     "name": "stderr",
     "output_type": "stream",
     "text": [
      "\n",
      "100%|██████████| 56/56 [00:00<00:00, 893.26it/s]\n",
      " 74%|███████▍  | 116/157 [2:08:43<45:10, 66.10s/it]"
     ]
    },
    {
     "name": "stdout",
     "output_type": "stream",
     "text": [
      "Current QED:  tensor([1]) Number of samples with QED > 0.9:  159\n"
     ]
    },
    {
     "name": "stderr",
     "output_type": "stream",
     "text": [
      "\n",
      "100%|██████████| 52/52 [00:00<00:00, 740.88it/s]\n",
      " 75%|███████▍  | 117/157 [2:09:49<44:05, 66.15s/it]"
     ]
    },
    {
     "name": "stdout",
     "output_type": "stream",
     "text": [
      "Current QED:  tensor([1]) Number of samples with QED > 0.9:  160\n"
     ]
    },
    {
     "name": "stderr",
     "output_type": "stream",
     "text": [
      "\n",
      "100%|██████████| 55/55 [00:00<00:00, 893.27it/s]\n",
      " 75%|███████▌  | 118/157 [2:10:55<42:56, 66.07s/it]"
     ]
    },
    {
     "name": "stdout",
     "output_type": "stream",
     "text": [
      "Current QED:  tensor([1]) Number of samples with QED > 0.9:  160\n"
     ]
    },
    {
     "name": "stderr",
     "output_type": "stream",
     "text": [
      "\n",
      "100%|██████████| 49/49 [00:00<00:00, 766.83it/s]\n",
      " 76%|███████▌  | 119/157 [2:12:01<41:48, 66.01s/it]"
     ]
    },
    {
     "name": "stdout",
     "output_type": "stream",
     "text": [
      "Current QED:  tensor([1]) Number of samples with QED > 0.9:  161\n"
     ]
    },
    {
     "name": "stderr",
     "output_type": "stream",
     "text": [
      "\n",
      "100%|██████████| 55/55 [00:00<00:00, 782.05it/s]\n",
      " 76%|███████▋  | 120/157 [2:13:07<40:41, 65.99s/it]"
     ]
    },
    {
     "name": "stdout",
     "output_type": "stream",
     "text": [
      "Current QED:  tensor([1]) Number of samples with QED > 0.9:  162\n"
     ]
    },
    {
     "name": "stderr",
     "output_type": "stream",
     "text": [
      "\n",
      "100%|██████████| 48/48 [00:00<00:00, 952.45it/s]\n",
      " 77%|███████▋  | 121/157 [2:14:13<39:35, 65.97s/it]"
     ]
    },
    {
     "name": "stdout",
     "output_type": "stream",
     "text": [
      "Current QED:  tensor([1]) Number of samples with QED > 0.9:  163\n"
     ]
    },
    {
     "name": "stderr",
     "output_type": "stream",
     "text": [
      "\n",
      "100%|██████████| 51/51 [00:00<00:00, 913.78it/s]\n",
      " 78%|███████▊  | 122/157 [2:15:19<38:27, 65.92s/it]"
     ]
    },
    {
     "name": "stdout",
     "output_type": "stream",
     "text": [
      "Current QED:  tensor([1]) Number of samples with QED > 0.9:  166\n"
     ]
    },
    {
     "name": "stderr",
     "output_type": "stream",
     "text": [
      "\n",
      "100%|██████████| 50/50 [00:00<00:00, 969.62it/s]\n",
      " 78%|███████▊  | 123/157 [2:16:24<37:19, 65.88s/it]"
     ]
    },
    {
     "name": "stdout",
     "output_type": "stream",
     "text": [
      "Current QED:  tensor([1]) Number of samples with QED > 0.9:  167\n"
     ]
    },
    {
     "name": "stderr",
     "output_type": "stream",
     "text": [
      "\n",
      "100%|██████████| 58/58 [00:00<00:00, 882.20it/s]\n",
      " 79%|███████▉  | 124/157 [2:17:30<36:13, 65.87s/it]"
     ]
    },
    {
     "name": "stdout",
     "output_type": "stream",
     "text": [
      "Current QED:  tensor([1]) Number of samples with QED > 0.9:  170\n"
     ]
    },
    {
     "name": "stderr",
     "output_type": "stream",
     "text": [
      "\n",
      "100%|██████████| 53/53 [00:00<00:00, 869.59it/s]\n",
      " 80%|███████▉  | 125/157 [2:18:36<35:08, 65.88s/it]"
     ]
    },
    {
     "name": "stdout",
     "output_type": "stream",
     "text": [
      "Current QED:  tensor([1]) Number of samples with QED > 0.9:  170\n"
     ]
    },
    {
     "name": "stderr",
     "output_type": "stream",
     "text": [
      "\n",
      "100%|██████████| 47/47 [00:00<00:00, 668.15it/s]\n",
      " 80%|████████  | 126/157 [2:19:42<34:01, 65.87s/it]"
     ]
    },
    {
     "name": "stdout",
     "output_type": "stream",
     "text": [
      "Current QED:  tensor([1]) Number of samples with QED > 0.9:  175\n"
     ]
    },
    {
     "name": "stderr",
     "output_type": "stream",
     "text": [
      "\n",
      "100%|██████████| 56/56 [00:00<00:00, 909.53it/s]\n",
      " 81%|████████  | 127/157 [2:20:48<32:55, 65.87s/it]"
     ]
    },
    {
     "name": "stdout",
     "output_type": "stream",
     "text": [
      "Current QED:  tensor([1]) Number of samples with QED > 0.9:  177\n"
     ]
    },
    {
     "name": "stderr",
     "output_type": "stream",
     "text": [
      "\n",
      "100%|██████████| 47/47 [00:00<00:00, 898.42it/s]\n",
      " 82%|████████▏ | 128/157 [2:21:54<31:48, 65.82s/it]"
     ]
    },
    {
     "name": "stdout",
     "output_type": "stream",
     "text": [
      "Current QED:  tensor([1]) Number of samples with QED > 0.9:  177\n"
     ]
    },
    {
     "name": "stderr",
     "output_type": "stream",
     "text": [
      "\n",
      "100%|██████████| 51/51 [00:00<00:00, 866.54it/s]\n",
      " 82%|████████▏ | 129/157 [2:22:59<30:42, 65.82s/it]"
     ]
    },
    {
     "name": "stdout",
     "output_type": "stream",
     "text": [
      "Current QED:  tensor([1]) Number of samples with QED > 0.9:  179\n"
     ]
    },
    {
     "name": "stderr",
     "output_type": "stream",
     "text": [
      "\n",
      "100%|██████████| 49/49 [00:00<00:00, 749.61it/s]\n",
      " 83%|████████▎ | 130/157 [2:24:05<29:36, 65.79s/it]"
     ]
    },
    {
     "name": "stdout",
     "output_type": "stream",
     "text": [
      "Current QED:  tensor([1]) Number of samples with QED > 0.9:  182\n"
     ]
    },
    {
     "name": "stderr",
     "output_type": "stream",
     "text": [
      "\n",
      "100%|██████████| 56/56 [00:00<00:00, 876.69it/s]\n",
      " 83%|████████▎ | 131/157 [2:25:11<28:30, 65.81s/it]"
     ]
    },
    {
     "name": "stdout",
     "output_type": "stream",
     "text": [
      "Current QED:  tensor([1]) Number of samples with QED > 0.9:  183\n"
     ]
    },
    {
     "name": "stderr",
     "output_type": "stream",
     "text": [
      "\n",
      "100%|██████████| 51/51 [00:00<00:00, 922.70it/s]\n",
      " 84%|████████▍ | 132/157 [2:26:17<27:25, 65.81s/it]"
     ]
    },
    {
     "name": "stdout",
     "output_type": "stream",
     "text": [
      "Current QED:  tensor([1]) Number of samples with QED > 0.9:  183\n"
     ]
    },
    {
     "name": "stderr",
     "output_type": "stream",
     "text": [
      "\n",
      "100%|██████████| 52/52 [00:00<00:00, 879.56it/s]\n",
      " 85%|████████▍ | 133/157 [2:27:23<26:19, 65.80s/it]"
     ]
    },
    {
     "name": "stdout",
     "output_type": "stream",
     "text": [
      "Current QED:  tensor([1]) Number of samples with QED > 0.9:  184\n"
     ]
    },
    {
     "name": "stderr",
     "output_type": "stream",
     "text": [
      "\n",
      "100%|██████████| 52/52 [00:00<00:00, 891.72it/s]\n",
      " 85%|████████▌ | 134/157 [2:28:28<25:13, 65.79s/it]"
     ]
    },
    {
     "name": "stdout",
     "output_type": "stream",
     "text": [
      "Current QED:  tensor([1]) Number of samples with QED > 0.9:  184\n"
     ]
    },
    {
     "name": "stderr",
     "output_type": "stream",
     "text": [
      "\n",
      "100%|██████████| 57/57 [00:00<00:00, 906.48it/s]\n",
      " 86%|████████▌ | 135/157 [2:29:34<24:07, 65.81s/it]"
     ]
    },
    {
     "name": "stdout",
     "output_type": "stream",
     "text": [
      "Current QED:  tensor([1]) Number of samples with QED > 0.9:  185\n"
     ]
    },
    {
     "name": "stderr",
     "output_type": "stream",
     "text": [
      "\n",
      "100%|██████████| 48/48 [00:00<00:00, 664.47it/s]\n",
      " 87%|████████▋ | 136/157 [2:30:40<23:02, 65.82s/it]"
     ]
    },
    {
     "name": "stdout",
     "output_type": "stream",
     "text": [
      "Current QED:  tensor([1]) Number of samples with QED > 0.9:  185\n"
     ]
    },
    {
     "name": "stderr",
     "output_type": "stream",
     "text": [
      "\n",
      "100%|██████████| 55/55 [00:00<00:00, 905.46it/s]\n",
      " 87%|████████▋ | 137/157 [2:31:46<21:56, 65.84s/it]"
     ]
    },
    {
     "name": "stdout",
     "output_type": "stream",
     "text": [
      "Current QED:  tensor([1]) Number of samples with QED > 0.9:  187\n"
     ]
    },
    {
     "name": "stderr",
     "output_type": "stream",
     "text": [
      "\n",
      "100%|██████████| 52/52 [00:00<00:00, 904.60it/s]\n",
      " 88%|████████▊ | 138/157 [2:32:52<20:50, 65.82s/it]"
     ]
    },
    {
     "name": "stdout",
     "output_type": "stream",
     "text": [
      "Current QED:  tensor([1]) Number of samples with QED > 0.9:  189\n"
     ]
    },
    {
     "name": "stderr",
     "output_type": "stream",
     "text": [
      "\n",
      "100%|██████████| 57/57 [00:00<00:00, 908.32it/s]\n",
      " 89%|████████▊ | 139/157 [2:33:57<19:44, 65.82s/it]"
     ]
    },
    {
     "name": "stdout",
     "output_type": "stream",
     "text": [
      "Current QED:  tensor([1]) Number of samples with QED > 0.9:  189\n"
     ]
    },
    {
     "name": "stderr",
     "output_type": "stream",
     "text": [
      "\n",
      "100%|██████████| 48/48 [00:00<00:00, 916.00it/s]\n",
      " 89%|████████▉ | 140/157 [2:35:03<18:39, 65.85s/it]"
     ]
    },
    {
     "name": "stdout",
     "output_type": "stream",
     "text": [
      "Current QED:  tensor([1]) Number of samples with QED > 0.9:  190\n"
     ]
    },
    {
     "name": "stderr",
     "output_type": "stream",
     "text": [
      "\n",
      "100%|██████████| 48/48 [00:00<00:00, 903.87it/s]\n",
      " 90%|████████▉ | 141/157 [2:36:09<17:33, 65.85s/it]"
     ]
    },
    {
     "name": "stdout",
     "output_type": "stream",
     "text": [
      "Current QED:  tensor([1]) Number of samples with QED > 0.9:  191\n"
     ]
    },
    {
     "name": "stderr",
     "output_type": "stream",
     "text": [
      "\n",
      "100%|██████████| 56/56 [00:00<00:00, 944.17it/s]\n",
      " 90%|█████████ | 142/157 [2:37:15<16:27, 65.85s/it]"
     ]
    },
    {
     "name": "stdout",
     "output_type": "stream",
     "text": [
      "Current QED:  tensor([1]) Number of samples with QED > 0.9:  192\n"
     ]
    },
    {
     "name": "stderr",
     "output_type": "stream",
     "text": [
      "\n",
      "100%|██████████| 57/57 [00:00<00:00, 946.34it/s]\n",
      " 91%|█████████ | 143/157 [2:38:21<15:21, 65.83s/it]"
     ]
    },
    {
     "name": "stdout",
     "output_type": "stream",
     "text": [
      "Current QED:  tensor([1]) Number of samples with QED > 0.9:  194\n"
     ]
    },
    {
     "name": "stderr",
     "output_type": "stream",
     "text": [
      "\n",
      "100%|██████████| 54/54 [00:00<00:00, 935.17it/s]\n",
      " 92%|█████████▏| 144/157 [2:39:27<14:15, 65.83s/it]"
     ]
    },
    {
     "name": "stdout",
     "output_type": "stream",
     "text": [
      "Current QED:  tensor([1]) Number of samples with QED > 0.9:  197\n"
     ]
    },
    {
     "name": "stderr",
     "output_type": "stream",
     "text": [
      "\n",
      "100%|██████████| 57/57 [00:00<00:00, 854.75it/s]\n",
      " 92%|█████████▏| 145/157 [2:40:32<13:09, 65.82s/it]"
     ]
    },
    {
     "name": "stdout",
     "output_type": "stream",
     "text": [
      "Current QED:  tensor([1]) Number of samples with QED > 0.9:  199\n"
     ]
    },
    {
     "name": "stderr",
     "output_type": "stream",
     "text": [
      "\n",
      "100%|██████████| 49/49 [00:00<00:00, 948.36it/s]\n",
      " 93%|█████████▎| 146/157 [2:41:38<12:04, 65.85s/it]"
     ]
    },
    {
     "name": "stdout",
     "output_type": "stream",
     "text": [
      "Current QED:  tensor([1]) Number of samples with QED > 0.9:  201\n"
     ]
    },
    {
     "name": "stderr",
     "output_type": "stream",
     "text": [
      "\n",
      "100%|██████████| 48/48 [00:00<00:00, 827.35it/s]\n",
      " 94%|█████████▎| 147/157 [2:42:45<10:59, 65.97s/it]"
     ]
    },
    {
     "name": "stdout",
     "output_type": "stream",
     "text": [
      "Current QED:  tensor([1]) Number of samples with QED > 0.9:  202\n"
     ]
    },
    {
     "name": "stderr",
     "output_type": "stream",
     "text": [
      "\n",
      "100%|██████████| 53/53 [00:00<00:00, 916.04it/s]\n",
      " 94%|█████████▍| 148/157 [2:43:51<09:54, 66.07s/it]"
     ]
    },
    {
     "name": "stdout",
     "output_type": "stream",
     "text": [
      "Current QED:  tensor([1]) Number of samples with QED > 0.9:  203\n"
     ]
    },
    {
     "name": "stderr",
     "output_type": "stream",
     "text": [
      "\n",
      "100%|██████████| 52/52 [00:00<00:00, 862.27it/s]\n",
      " 95%|█████████▍| 149/157 [2:44:58<08:49, 66.21s/it]"
     ]
    },
    {
     "name": "stdout",
     "output_type": "stream",
     "text": [
      "Current QED:  tensor([1]) Number of samples with QED > 0.9:  204\n"
     ]
    },
    {
     "name": "stderr",
     "output_type": "stream",
     "text": [
      "\n",
      "100%|██████████| 58/58 [00:00<00:00, 960.67it/s]\n",
      " 96%|█████████▌| 150/157 [2:46:04<07:44, 66.34s/it]"
     ]
    },
    {
     "name": "stdout",
     "output_type": "stream",
     "text": [
      "Current QED:  tensor([1]) Number of samples with QED > 0.9:  209\n"
     ]
    },
    {
     "name": "stderr",
     "output_type": "stream",
     "text": [
      "\n",
      "100%|██████████| 52/52 [00:00<00:00, 935.31it/s]\n",
      " 96%|█████████▌| 151/157 [2:47:11<06:38, 66.40s/it]"
     ]
    },
    {
     "name": "stdout",
     "output_type": "stream",
     "text": [
      "Current QED:  tensor([1]) Number of samples with QED > 0.9:  211\n"
     ]
    },
    {
     "name": "stderr",
     "output_type": "stream",
     "text": [
      "\n",
      "100%|██████████| 52/52 [00:00<00:00, 891.07it/s]\n",
      " 97%|█████████▋| 152/157 [2:48:18<05:32, 66.56s/it]"
     ]
    },
    {
     "name": "stdout",
     "output_type": "stream",
     "text": [
      "Current QED:  tensor([1]) Number of samples with QED > 0.9:  214\n"
     ]
    },
    {
     "name": "stderr",
     "output_type": "stream",
     "text": [
      "\n",
      "100%|██████████| 49/49 [00:00<00:00, 896.26it/s]\n",
      " 97%|█████████▋| 153/157 [2:49:25<04:26, 66.66s/it]"
     ]
    },
    {
     "name": "stdout",
     "output_type": "stream",
     "text": [
      "Current QED:  tensor([1]) Number of samples with QED > 0.9:  216\n"
     ]
    },
    {
     "name": "stderr",
     "output_type": "stream",
     "text": [
      "\n",
      "100%|██████████| 57/57 [00:00<00:00, 915.04it/s]\n",
      " 98%|█████████▊| 154/157 [2:50:31<03:20, 66.70s/it]"
     ]
    },
    {
     "name": "stdout",
     "output_type": "stream",
     "text": [
      "Current QED:  tensor([1]) Number of samples with QED > 0.9:  218\n"
     ]
    },
    {
     "name": "stderr",
     "output_type": "stream",
     "text": [
      "\n",
      "100%|██████████| 52/52 [00:00<00:00, 878.71it/s]\n",
      " 99%|█████████▊| 155/157 [2:51:39<02:13, 66.87s/it]"
     ]
    },
    {
     "name": "stdout",
     "output_type": "stream",
     "text": [
      "Current QED:  tensor([1]) Number of samples with QED > 0.9:  218\n"
     ]
    },
    {
     "name": "stderr",
     "output_type": "stream",
     "text": [
      "\n",
      "100%|██████████| 49/49 [00:00<00:00, 760.84it/s]\n",
      " 99%|█████████▉| 156/157 [2:52:46<01:07, 67.02s/it]"
     ]
    },
    {
     "name": "stdout",
     "output_type": "stream",
     "text": [
      "Current QED:  tensor([1]) Number of samples with QED > 0.9:  219\n"
     ]
    },
    {
     "name": "stderr",
     "output_type": "stream",
     "text": [
      "\n",
      "100%|██████████| 57/57 [00:00<00:00, 832.55it/s]\n",
      "100%|██████████| 157/157 [2:53:53<00:00, 66.45s/it]"
     ]
    },
    {
     "name": "stdout",
     "output_type": "stream",
     "text": [
      "Current QED:  tensor([1]) Number of samples with QED > 0.9:  219\n"
     ]
    },
    {
     "name": "stderr",
     "output_type": "stream",
     "text": [
      "\n"
     ]
    }
   ],
   "source": [
    "temperature = 1.0\n",
    "top_k = None\n",
    "number_samples = 64\n",
    "\n",
    "model_wrapper = GuacamolModelWrapper.init_from_trainer(trainer, temperature=temperature, top_k=top_k)\n",
    "\n",
    "\n",
    "samples = []\n",
    "qed = []\n",
    "num_samples_constraint = 0\n",
    "\n",
    "for idx in tqdm(range(157)):\n",
    "    batch = model_wrapper.generate(number_samples=number_samples)\n",
    "    batch = [smiles for smiles in batch if is_valid(smiles)]\n",
    "    batch = [smiles for smiles in batch if smiles is not None]\n",
    "    qed_batch = get_objective(smiles_list=batch, objective='qed_classification')\n",
    "    samples.extend(batch)\n",
    "    qed.extend(qed_batch)\n",
    "    num_samples_constraint += len(qed_batch[qed_batch > 0.9])\n",
    "    print(\"Current QED: \", max(qed), \"Number of samples with QED > 0.9: \", num_samples_constraint)"
   ],
   "metadata": {
    "collapsed": false,
    "ExecuteTime": {
     "end_time": "2024-04-03T17:35:29.008889538Z",
     "start_time": "2024-04-03T14:41:35.689003165Z"
    }
   },
   "id": "32d363ba25bcf8d8"
  },
  {
   "cell_type": "code",
   "execution_count": 5,
   "outputs": [],
   "source": [
    "save_strings_to_file(samples, 'smiles_generated_qed_classification_10000.txt')"
   ],
   "metadata": {
    "collapsed": false,
    "ExecuteTime": {
     "end_time": "2024-04-03T17:35:29.316468485Z",
     "start_time": "2024-04-03T17:35:29.005934625Z"
    }
   },
   "id": "145fa8230efea103"
  },
  {
   "cell_type": "code",
   "execution_count": 63,
   "outputs": [],
   "source": [
    "qed_all = torch.stack(qed).flatten().tolist()"
   ],
   "metadata": {
    "collapsed": false,
    "ExecuteTime": {
     "end_time": "2024-04-01T14:13:39.640730960Z",
     "start_time": "2024-04-01T14:13:39.557346802Z"
    }
   },
   "id": "431e0a5b9d71e590"
  },
  {
   "cell_type": "code",
   "execution_count": 66,
   "outputs": [],
   "source": [
    "qed_ok = [q for q in qed_all if q >= 0.9]"
   ],
   "metadata": {
    "collapsed": false,
    "ExecuteTime": {
     "end_time": "2024-04-01T14:14:15.447689702Z",
     "start_time": "2024-04-01T14:14:15.401465104Z"
    }
   },
   "id": "f43cc1483437fff7"
  },
  {
   "cell_type": "code",
   "execution_count": 72,
   "outputs": [
    {
     "data": {
      "text/plain": "22"
     },
     "execution_count": 72,
     "metadata": {},
     "output_type": "execute_result"
    }
   ],
   "source": [
    "len(qed_ok)"
   ],
   "metadata": {
    "collapsed": false,
    "ExecuteTime": {
     "end_time": "2024-04-01T14:20:31.224822916Z",
     "start_time": "2024-04-01T14:20:30.918414565Z"
    }
   },
   "id": "3d5bd426b7a483e0"
  },
  {
   "cell_type": "markdown",
   "source": [
    "# Load and compare QED distribution for ZINC and Guacamol benchmarks"
   ],
   "metadata": {
    "collapsed": false
   },
   "id": "704a2cfd8c142041"
  },
  {
   "cell_type": "code",
   "execution_count": 7,
   "outputs": [],
   "source": [
    "# Auxiliary functions\n",
    "\n",
    "def save_strings_to_file(strings, filename):\n",
    "    with open(filename, 'w') as f:\n",
    "        for s in strings:\n",
    "            f.write(s + '\\n')\n",
    "\n",
    "def read_strings_from_file(filename):\n",
    "    with open(filename, 'r') as f:\n",
    "        strings = f.read().splitlines()\n",
    "    return strings\n",
    "\n",
    "def convert_strings_to_lists(strings):\n",
    "    return [[s, f'MOL{i}'] for i, s in enumerate(strings)]"
   ],
   "metadata": {
    "collapsed": false,
    "ExecuteTime": {
     "end_time": "2024-04-02T13:05:21.251242418Z",
     "start_time": "2024-04-02T13:05:21.167690966Z"
    }
   },
   "id": "98d8a473b93ea207"
  },
  {
   "cell_type": "code",
   "execution_count": 5,
   "outputs": [],
   "source": [
    "samples = read_strings_from_file('./data/guacamol/train/smiles.txt')\n",
    "valid_samples = [smiles for smiles in samples]\n",
    "valid_samples = [smiles for smiles in valid_samples if smiles is not None]\n"
   ],
   "metadata": {
    "collapsed": false,
    "ExecuteTime": {
     "end_time": "2024-04-01T13:00:52.154226636Z",
     "start_time": "2024-04-01T13:00:51.944930908Z"
    }
   },
   "id": "f1d69548052bbe6a"
  },
  {
   "cell_type": "code",
   "execution_count": 6,
   "outputs": [],
   "source": [
    "qed_samples = get_objective(smiles_list=valid_samples, objective='qed')"
   ],
   "metadata": {
    "collapsed": false,
    "ExecuteTime": {
     "end_time": "2024-04-01T13:18:49.575724516Z",
     "start_time": "2024-04-01T13:00:53.209371547Z"
    }
   },
   "id": "64b0fd9dae3d1bc0"
  },
  {
   "cell_type": "code",
   "execution_count": 35,
   "outputs": [
    {
     "data": {
      "text/plain": "[0.504931628704071,\n 0.5225687026977539,\n 0.6385663747787476,\n 0.7774520516395569,\n 0.26446670293807983,\n 0.39544248580932617,\n 0.5132005214691162,\n 0.46298643946647644,\n 0.7419030666351318,\n 0.3476903438568115,\n 0.29294589161872864,\n 0.6888816952705383,\n 0.13480506837368011,\n 0.3941485285758972,\n 0.6475289463996887,\n 0.7810707092285156,\n 0.458064466714859,\n 0.21059031784534454,\n 0.6852680444717407,\n 0.8297011256217957,\n 0.4229365587234497,\n 0.7994977235794067,\n 0.22316263616085052,\n 0.648066520690918,\n 0.7025459408760071,\n 0.40815067291259766,\n 0.2387177050113678,\n 0.5505291223526001,\n 0.7024180293083191,\n 0.4131746292114258,\n 0.6601209044456482,\n 0.4818538427352905,\n 0.08455295115709305,\n 0.6571667194366455,\n 0.33042633533477783,\n 0.7747039198875427,\n 0.6812251806259155,\n 0.7346448302268982,\n 0.8394709229469299,\n 0.7119427919387817,\n 0.6386240720748901,\n 0.4947114586830139,\n 0.3949064612388611,\n 0.6240538358688354,\n 0.605696439743042,\n 0.6018890738487244,\n 0.8420906662940979,\n 0.49852949380874634,\n 0.5332075357437134,\n 0.31932610273361206,\n 0.7182239294052124,\n 0.43164488673210144,\n 0.6848103404045105,\n 0.40849781036376953,\n 0.7878997325897217,\n 0.18108345568180084,\n 0.29330435395240784,\n 0.4849483370780945,\n 0.7053740620613098,\n 0.5652126669883728,\n 0.8108440637588501,\n 0.14061810076236725,\n 0.6220227479934692,\n 0.7859095335006714,\n 0.2336808741092682,\n 0.17362631857395172,\n 0.20925377309322357,\n 0.5884189605712891,\n 0.7798894047737122,\n 0.7460137605667114,\n 0.28816092014312744,\n 0.23235580325126648,\n 0.7962144017219543,\n 0.5890886783599854,\n 0.6666064262390137,\n 0.5000089406967163,\n 0.2855953574180603,\n 0.6699032187461853,\n 0.7096351385116577,\n 0.9228450059890747,\n 0.19258765876293182,\n 0.4733120799064636,\n 0.23158502578735352,\n 0.5520250797271729,\n 0.5587297677993774,\n 0.7835599184036255,\n 0.36260986328125,\n 0.5743147730827332,\n 0.8898221850395203,\n 0.47925901412963867,\n 0.49185818433761597,\n 0.4781051576137543,\n 0.7988690733909607,\n 0.5812035202980042,\n 0.16811497509479523,\n 0.3845073878765106,\n 0.6313971877098083,\n 0.24521900713443756,\n 0.6139265298843384,\n 0.7379184365272522,\n 0.8424095511436462,\n 0.18959802389144897,\n 0.6051210165023804,\n 0.5482245087623596,\n 0.9179349541664124,\n 0.5232911705970764,\n 0.6900601983070374,\n 0.5082752108573914,\n 0.7031233906745911,\n 0.47783756256103516,\n 0.18191780149936676,\n 0.23048940300941467,\n 0.4915902614593506,\n 0.42359256744384766,\n 0.8320959210395813,\n 0.8364219069480896,\n 0.5762605667114258,\n 0.08856014162302017,\n 0.6567453145980835,\n 0.17425276339054108,\n 0.4705708920955658,\n 0.4951781630516052,\n 0.8517844080924988,\n 0.241367906332016,\n 0.7954273223876953,\n 0.5700502395629883,\n 0.6987643241882324,\n 0.5912441611289978,\n 0.745572566986084,\n 0.5856174230575562,\n 0.19645631313323975,\n 0.669783890247345,\n 0.8961603045463562,\n 0.2136221081018448,\n 0.35933560132980347,\n 0.6860200762748718,\n 0.3071110248565674,\n 0.4598862826824188,\n 0.13586875796318054,\n 0.39274317026138306,\n 0.05892309173941612,\n 0.5828660130500793,\n 0.36465874314308167,\n 0.697479248046875,\n 0.2218027412891388,\n 0.7601616382598877,\n 0.5452850461006165,\n 0.6097671389579773,\n 0.6776679158210754,\n 0.6621936559677124,\n 0.7967097163200378,\n 0.8561187386512756,\n 0.7995525002479553,\n 0.7397977113723755,\n 0.5741057991981506,\n 0.6730607748031616,\n 0.8131077289581299,\n 0.5670498013496399,\n 0.3046686053276062,\n 0.579952597618103,\n 0.8132729530334473,\n 0.7787385582923889,\n 0.7346423268318176,\n 0.6494806408882141,\n 0.4251083731651306,\n 0.2741079330444336,\n 0.29572781920433044,\n 0.24560967087745667,\n 0.5817283987998962,\n 0.786106526851654,\n 0.27921581268310547,\n 0.6161814332008362,\n 0.5147144198417664,\n 0.5817928314208984,\n 0.6440679430961609,\n 0.5775405764579773,\n 0.34778207540512085,\n 0.6182038187980652,\n 0.20732007920742035,\n 0.6693609952926636,\n 0.6907563805580139,\n 0.6340096592903137,\n 0.7868832349777222,\n 0.5927974581718445,\n 0.7531757950782776,\n 0.37812769412994385,\n 0.8424844741821289,\n 0.613172709941864,\n 0.5555468797683716,\n 0.7236157059669495,\n 0.745101809501648,\n 0.09771736711263657,\n 0.5328511595726013,\n 0.7774649858474731,\n 0.3043639361858368,\n 0.7860047817230225,\n 0.7542795538902283,\n 0.7757990956306458,\n 0.6312784552574158,\n 0.31620195508003235,\n 0.7116658091545105,\n 0.9180099964141846,\n 0.5676571130752563,\n 0.5523755550384521,\n 0.6582731604576111,\n 0.8613613247871399,\n 0.6876292824745178,\n 0.685978889465332,\n 0.53043532371521,\n 0.16575704514980316,\n 0.28865814208984375,\n 0.755214273929596,\n 0.037293896079063416,\n 0.35083597898483276,\n 0.9114418029785156,\n 0.33357733488082886,\n 0.305132657289505,\n 0.3730979263782501,\n 0.7318585515022278,\n 0.7007964849472046,\n 0.41778576374053955,\n 0.4271319508552551,\n 0.38213562965393066,\n 0.6246523261070251,\n 0.773296594619751,\n 0.8146514296531677,\n 0.4484448730945587,\n 0.293469101190567,\n 0.5095699429512024,\n 0.6332690119743347,\n 0.17154502868652344,\n 0.38751986622810364,\n 0.5220586061477661,\n 0.48024946451187134,\n 0.6249814629554749,\n 0.469211220741272,\n 0.8477226495742798,\n 0.34964263439178467,\n 0.2688003480434418,\n 0.1846291571855545,\n 0.8114079833030701,\n 0.49683326482772827,\n 0.37657320499420166,\n 0.7340805530548096,\n 0.23882363736629486,\n 0.7090843319892883,\n 0.8560541868209839,\n 0.3483279347419739,\n 0.8636698126792908,\n 0.48263609409332275,\n 0.06851308047771454,\n 0.5713752508163452,\n 0.6718869209289551,\n 0.8745265603065491,\n 0.6265673041343689,\n 0.8670706152915955,\n 0.27947959303855896,\n 0.13450706005096436,\n 0.5301163196563721,\n 0.6756943464279175,\n 0.8636588454246521,\n 0.8697715401649475,\n 0.33312997221946716,\n 0.5134823322296143,\n 0.2565824091434479,\n 0.21578450500965118,\n 0.46996891498565674,\n 0.6933469176292419,\n 0.3801027238368988,\n 0.5080484747886658,\n 0.2793835699558258,\n 0.5039882659912109,\n 0.1350804567337036,\n 0.5586898922920227,\n 0.6128703355789185,\n 0.8415402173995972,\n 0.8903060555458069,\n 0.5605918765068054,\n 0.7347950339317322,\n 0.45652204751968384,\n 0.5331304669380188,\n 0.4646131992340088,\n 0.1823764145374298,\n 0.43545857071876526,\n 0.3791428506374359,\n 0.7094255089759827,\n 0.3110615313053131,\n 0.543196976184845,\n 0.5136395692825317,\n 0.28343844413757324,\n 0.8252556920051575,\n 0.7544291019439697,\n 0.7016384601593018,\n 0.6144598126411438,\n 0.6038988828659058,\n 0.367661714553833,\n 0.30048084259033203,\n 0.7941156625747681,\n 0.40048879384994507,\n 0.9076462984085083,\n 0.7121248841285706,\n 0.4605657756328583,\n 0.5389426350593567,\n 0.9040900468826294,\n 0.595531165599823,\n 0.5042126178741455,\n 0.813393235206604,\n 0.5523166656494141,\n 0.7497152090072632,\n 0.49713754653930664,\n 0.42804983258247375,\n 0.2791968882083893,\n 0.23483790457248688,\n 0.14021287858486176,\n 0.552031934261322,\n 0.49926039576530457,\n 0.3087453544139862,\n 0.24632607400417328,\n 0.1791175901889801,\n 0.9405256509780884,\n 0.7836112976074219,\n 0.7242702841758728,\n 0.09806371480226517,\n 0.7872531414031982,\n 0.3731748163700104,\n 0.6692428588867188,\n 0.2542135715484619,\n 0.8991140127182007,\n 0.38789185881614685,\n 0.7271191477775574,\n 0.4948206841945648,\n 0.6643048524856567,\n 0.39797443151474,\n 0.4535088539123535,\n 0.797507107257843,\n 0.5873216390609741,\n 0.09949930757284164,\n 0.8504833579063416,\n 0.36042320728302,\n 0.8839530348777771,\n 0.6294741630554199,\n 0.6256146430969238,\n 0.3308599591255188,\n 0.3471110761165619,\n 0.5673863291740417,\n 0.44963330030441284,\n 0.3948875367641449,\n 0.7242792248725891,\n 0.8629699945449829,\n 0.7636969685554504,\n 0.28440654277801514,\n 0.4591672420501709,\n 0.32814621925354004,\n 0.4317569136619568,\n 0.6052688956260681,\n 0.7996010780334473,\n 0.5037620067596436,\n 0.4785914123058319,\n 0.6165744066238403,\n 0.4938259720802307,\n 0.4363214075565338,\n 0.765077531337738,\n 0.4303794801235199,\n 0.4943332374095917,\n 0.1993175745010376,\n 0.7389802932739258,\n 0.7043501138687134,\n 0.8676135540008545,\n 0.8214312791824341,\n 0.18703652918338776,\n 0.2998913824558258,\n 0.8418912291526794,\n 0.3225457966327667,\n 0.3749118149280548,\n 0.4730927050113678,\n 0.7078921794891357,\n 0.5549233555793762,\n 0.4947064220905304,\n 0.7466314435005188,\n 0.5164044499397278,\n 0.5293277502059937,\n 0.45597055554389954,\n 0.29418906569480896,\n 0.26401934027671814,\n 0.18721981346607208,\n 0.2744186520576477,\n 0.5244368314743042,\n 0.6975085735321045,\n 0.5686250925064087,\n 0.6464617848396301,\n 0.7820863127708435,\n 0.6243296265602112,\n 0.6634326577186584,\n 0.6309131979942322,\n 0.36983802914619446,\n 0.8430027961730957,\n 0.6417697072029114,\n 0.6971554756164551,\n 0.8418722748756409,\n 0.7200824022293091,\n 0.48060503602027893,\n 0.569804847240448,\n 0.07027796655893326,\n 0.8316314220428467,\n 0.2846372425556183,\n 0.47623658180236816,\n 0.6513704657554626,\n 0.7760782241821289,\n 0.5974520444869995,\n 0.660590648651123,\n 0.5068155527114868,\n 0.7334433794021606,\n 0.7987279891967773,\n 0.456188440322876,\n 0.8082504272460938,\n 0.4179416596889496,\n 0.8144720792770386,\n 0.7516041994094849,\n 0.8391792178153992,\n 0.3396100401878357,\n 0.25715580582618713,\n 0.7264551520347595,\n 0.615511417388916,\n 0.840519368648529,\n 0.46668893098831177,\n 0.9106775522232056,\n 0.6529320478439331,\n 0.5707665085792542,\n 0.7448318600654602,\n 0.7648228406906128,\n 0.6139580607414246,\n 0.44050318002700806,\n 0.7685807943344116,\n 0.7094467282295227,\n 0.5500999093055725,\n 0.16959558427333832,\n 0.7377938628196716,\n 0.7128921151161194,\n 0.7505762577056885,\n 0.3119601905345917,\n 0.9342226982116699,\n 0.7871844172477722,\n 0.8037809133529663,\n 0.25844740867614746,\n 0.8266400098800659,\n 0.9023571014404297,\n 0.8598402142524719,\n 0.7995043992996216,\n 0.3060592710971832,\n 0.8912732601165771,\n 0.4594307243824005,\n 0.7005943059921265,\n 0.5678399205207825,\n 0.6402164101600647,\n 0.19385327398777008,\n 0.6864293217658997,\n 0.8228874206542969,\n 0.2863617241382599,\n 0.4496639370918274,\n 0.7182956337928772,\n 0.5290685296058655,\n 0.422016441822052,\n 0.43378567695617676,\n 0.4336969554424286,\n 0.6062875390052795,\n 0.711155354976654,\n 0.6024365425109863,\n 0.12448844313621521,\n 0.6144218444824219,\n 0.6467492580413818,\n 0.9379186034202576,\n 0.7175225019454956,\n 0.43174049258232117,\n 0.5510541796684265,\n 0.3731439411640167,\n 0.7558434009552002,\n 0.20282253623008728,\n 0.47224193811416626,\n 0.7261437773704529,\n 0.9207568168640137,\n 0.8469804525375366,\n 0.3585721254348755,\n 0.1904052048921585,\n 0.6815271377563477,\n 0.8423526287078857,\n 0.8553261756896973,\n 0.7251685857772827,\n 0.1547970324754715,\n 0.5454089641571045,\n 0.4761043190956116,\n 0.3906407952308655,\n 0.6436066627502441,\n 0.35538727045059204,\n 0.20420166850090027,\n 0.6444796919822693,\n 0.3514578640460968,\n 0.40422919392585754,\n 0.5178462862968445,\n 0.9135516881942749,\n 0.28320297598838806,\n 0.19418984651565552,\n 0.5993797183036804,\n 0.6792563796043396,\n 0.7406975030899048,\n 0.3565455973148346,\n 0.4097338020801544,\n 0.8092125654220581,\n 0.3606185019016266,\n 0.7820327877998352,\n 0.6346650123596191,\n 0.3156043589115143,\n 0.2873319685459137,\n 0.5192286372184753,\n 0.4981740713119507,\n 0.46903181076049805,\n 0.08068329095840454,\n 0.5598384141921997,\n 0.7505418062210083,\n 0.2643224000930786,\n 0.49771907925605774,\n 0.7170826196670532,\n 0.2779618501663208,\n 0.3963370621204376,\n 0.41087284684181213,\n 0.580811619758606,\n 0.5231288075447083,\n 0.2691640555858612,\n 0.16046179831027985,\n 0.11533577740192413,\n 0.4388962686061859,\n 0.6623063087463379,\n 0.3529680371284485,\n 0.8503231406211853,\n 0.49237000942230225,\n 0.5940850377082825,\n 0.613025426864624,\n 0.7668527364730835,\n 0.7295091152191162,\n 0.8554126024246216,\n 0.021445652469992638,\n 0.8178604245185852,\n 0.425097793340683,\n 0.41121354699134827,\n 0.04158451035618782,\n 0.6496785879135132,\n 0.6817601919174194,\n 0.0910111665725708,\n 0.6157764196395874,\n 0.7820723056793213,\n 0.24971625208854675,\n 0.25413474440574646,\n 0.18605107069015503,\n 0.6798719167709351,\n 0.3136478364467621,\n 0.8501235842704773,\n 0.42006710171699524,\n 0.7163931727409363,\n 0.5465447902679443,\n 0.5580669045448303,\n 0.6508744955062866,\n 0.6664692759513855,\n 0.586584746837616,\n 0.4796498119831085,\n 0.8386495113372803,\n 0.8592212200164795,\n 0.3349609971046448,\n 0.38962236046791077,\n 0.5029484033584595,\n 0.23384340107440948,\n 0.22114454209804535,\n 0.7756265997886658,\n 0.3478648066520691,\n 0.4947887361049652,\n 0.6000470519065857,\n 0.7493897080421448,\n 0.7781663537025452,\n 0.42812246084213257,\n 0.36133700609207153,\n 0.5832510590553284,\n 0.6168246269226074,\n 0.47354626655578613,\n 0.20528915524482727,\n 0.8172187209129333,\n 0.8408623337745667,\n 0.44185584783554077,\n 0.243805930018425,\n 0.5816683173179626,\n 0.7683122754096985,\n 0.6661171317100525,\n 0.039012596011161804,\n 0.7616994380950928,\n 0.43484318256378174,\n 0.5893152356147766,\n 0.44100421667099,\n 0.8611245155334473,\n 0.28698456287384033,\n 0.031147191300988197,\n 0.24761474132537842,\n 0.5700936317443848,\n 0.7868350148200989,\n 0.5710091590881348,\n 0.543918251991272,\n 0.8211479187011719,\n 0.5870374441146851,\n 0.4208099842071533,\n 0.5442095398902893,\n 0.7408655285835266,\n 0.4807729423046112,\n 0.7230092287063599,\n 0.8811846971511841,\n 0.6324337720870972,\n 0.19606269896030426,\n 0.49837470054626465,\n 0.39586731791496277,\n 0.5443329215049744,\n 0.9177727699279785,\n 0.681675910949707,\n 0.2976047396659851,\n 0.5367116332054138,\n 0.4769570529460907,\n 0.6057588458061218,\n 0.5869874954223633,\n 0.4087757468223572,\n 0.9299946427345276,\n 0.3258684277534485,\n 0.7282653450965881,\n 0.4031883776187897,\n 0.5860620737075806,\n 0.5627240538597107,\n 0.6343019008636475,\n 0.36290401220321655,\n 0.5300604104995728,\n 0.889708936214447,\n 0.6655980348587036,\n 0.43374332785606384,\n 0.2524574398994446,\n 0.7419998049736023,\n 0.763966977596283,\n 0.5192443132400513,\n 0.38010063767433167,\n 0.22213532030582428,\n 0.8304546475410461,\n 0.40874820947647095,\n 0.6259839534759521,\n 0.5850145816802979,\n 0.33736535906791687,\n 0.8043857216835022,\n 0.674411416053772,\n 0.6118965744972229,\n 0.23166663944721222,\n 0.730258047580719,\n 0.814652681350708,\n 0.5398793816566467,\n 0.6874064803123474,\n 0.6204901933670044,\n 0.5969114899635315,\n 0.4703965187072754,\n 0.8974596858024597,\n 0.5916857719421387,\n 0.30475109815597534,\n 0.6664727330207825,\n 0.7471125721931458,\n 0.3254874050617218,\n 0.8294107913970947,\n 0.8808812499046326,\n 0.18052725493907928,\n 0.34859198331832886,\n 0.6547754406929016,\n 0.477857768535614,\n 0.6700121164321899,\n 0.4470037519931793,\n 0.5788518190383911,\n 0.2781028747558594,\n 0.5939629077911377,\n 0.46852412819862366,\n 0.8453071713447571,\n 0.6823825836181641,\n 0.21087586879730225,\n 0.7078770995140076,\n 0.3731340169906616,\n 0.6609209179878235,\n 0.5351586937904358,\n 0.8943144083023071,\n 0.8851999044418335,\n 0.3943679630756378,\n 0.17639151215553284,\n 0.3979801535606384,\n 0.6657212972640991,\n 0.5450301766395569,\n 0.2801554799079895,\n 0.14796866476535797,\n 0.7948314547538757,\n 0.7466198205947876,\n 0.5755504369735718,\n 0.8216238021850586,\n 0.6000058650970459,\n 0.7024033665657043,\n 0.6577657461166382,\n 0.7218137383460999,\n 0.9394751191139221,\n 0.8285952210426331,\n 0.5164260268211365,\n 0.7084246873855591,\n 0.7681646347045898,\n 0.4293520748615265,\n 0.2528976500034332,\n 0.4372296929359436,\n 0.6871365904808044,\n 0.22326946258544922,\n 0.5760064125061035,\n 0.8666768670082092,\n 0.38822245597839355,\n 0.771375834941864,\n 0.8994086980819702,\n 0.6461880207061768,\n 0.30404970049858093,\n 0.737372100353241,\n 0.5118401050567627,\n 0.6416182518005371,\n 0.8018907308578491,\n 0.679325520992279,\n 0.7468128800392151,\n 0.48313674330711365,\n 0.5779222249984741,\n 0.9011672139167786,\n 0.0821375697851181,\n 0.4872893691062927,\n 0.6459094285964966,\n 0.8119110465049744,\n 0.2068546563386917,\n 0.7552767992019653,\n 0.2900159955024719,\n 0.19847525656223297,\n 0.48074227571487427,\n 0.5446844100952148,\n 0.6912248134613037,\n 0.5913583040237427,\n 0.7686364054679871,\n 0.5245899558067322,\n 0.5861544013023376,\n 0.25460729002952576,\n 0.5864243507385254,\n 0.7972478270530701,\n 0.8614586591720581,\n 0.5756815075874329,\n 0.41280636191368103,\n 0.7780287265777588,\n 0.8505948781967163,\n 0.7995471358299255,\n 0.6231728196144104,\n 0.21636010706424713,\n 0.8806065917015076,\n 0.5603756904602051,\n 0.8380382657051086,\n 0.32843124866485596,\n 0.7101630568504333,\n 0.21430256962776184,\n 0.6491751670837402,\n 0.5523242950439453,\n 0.4215065538883209,\n 0.4445780813694,\n 0.2826208472251892,\n 0.6506023406982422,\n 0.788870632648468,\n 0.8239182233810425,\n 0.1479160189628601,\n 0.5731636881828308,\n 0.3891197443008423,\n 0.759044885635376,\n 0.507402241230011,\n 0.4630201458930969,\n 0.39572814106941223,\n 0.23004378378391266,\n 0.7322314977645874,\n 0.2196226567029953,\n 0.416644424200058,\n 0.3570554554462433,\n 0.5193935036659241,\n 0.42896270751953125,\n 0.4673340618610382,\n 0.7486194968223572,\n 0.6177517175674438,\n 0.585073709487915,\n 0.5902540683746338,\n 0.5284209847450256,\n 0.3388828933238983,\n 0.7861292362213135,\n 0.42407408356666565,\n 0.619564414024353,\n 0.3301028609275818,\n 0.37933963537216187,\n 0.6052335500717163,\n 0.5396409034729004,\n 0.8195029497146606,\n 0.3865932524204254,\n 0.05258375406265259,\n 0.4721775949001312,\n 0.8475709557533264,\n 0.6345212459564209,\n 0.4506111443042755,\n 0.8429534435272217,\n 0.7716718316078186,\n 0.548112154006958,\n 0.512515127658844,\n 0.4654396176338196,\n 0.804934561252594,\n 0.5330846309661865,\n 0.614077091217041,\n 0.3885011374950409,\n 0.31632643938064575,\n 0.5399124622344971,\n 0.5762349963188171,\n 0.13656289875507355,\n 0.5171733498573303,\n 0.548291027545929,\n 0.36766505241394043,\n 0.6813037395477295,\n 0.4307238459587097,\n 0.5297560691833496,\n 0.36741089820861816,\n 0.5770100951194763,\n 0.44074827432632446,\n 0.18844854831695557,\n 0.5622907876968384,\n 0.7198410630226135,\n 0.36313819885253906,\n 0.7722975015640259,\n 0.4866378903388977,\n 0.7341020703315735,\n 0.7483537197113037,\n 0.8033926486968994,\n 0.557043194770813,\n 0.2671588659286499,\n 0.4757847785949707,\n 0.7174941301345825,\n 0.2993384897708893,\n 0.5242730379104614,\n 0.26085713505744934,\n 0.7264547348022461,\n 0.661217212677002,\n 0.7064494490623474,\n 0.37589868903160095,\n 0.46300527453422546,\n 0.220598042011261,\n 0.4872515797615051,\n 0.39773067831993103,\n 0.3553878962993622,\n 0.5073618292808533,\n 0.3566429018974304,\n 0.5535654425621033,\n 0.3640531301498413,\n 0.919268012046814,\n 0.3568600118160248,\n 0.14979997277259827,\n 0.9147080779075623,\n 0.5581060647964478,\n 0.31098508834838867,\n 0.8497220873832703,\n 0.855322539806366,\n 0.7487351894378662,\n 0.7972646355628967,\n 0.19957731664180756,\n 0.6523541808128357,\n 0.38262537121772766,\n 0.7722378373146057,\n 0.5004684925079346,\n 0.22341889142990112,\n 0.611066460609436,\n 0.3481588065624237,\n 0.33019590377807617,\n 0.5568378567695618,\n 0.5790843367576599,\n 0.36656007170677185,\n 0.7382973432540894,\n 0.7149519920349121,\n 0.5461075901985168,\n 0.8190022706985474,\n 0.32372650504112244,\n 0.7410549521446228,\n 0.8741310834884644,\n 0.7029279470443726,\n 0.1864214986562729,\n 0.7302132844924927,\n 0.7688378095626831,\n 0.5600420832633972,\n 0.8854145407676697,\n 0.5249095559120178,\n 0.6643120050430298,\n 0.7195256948471069,\n 0.594784140586853,\n 0.4233207106590271,\n 0.7978572845458984,\n 0.7105653882026672,\n 0.7403253316879272,\n 0.6432879567146301,\n 0.20670188963413239,\n 0.518477737903595,\n 0.18941012024879456,\n 0.35173359513282776,\n 0.7451938986778259,\n 0.7776670455932617,\n 0.8265412449836731,\n 0.7753723859786987,\n 0.48029202222824097,\n 0.7098124623298645,\n 0.568607747554779,\n 0.6119394898414612,\n 0.44476816058158875,\n 0.1593559980392456,\n 0.21271656453609467,\n 0.22928465902805328,\n 0.6097550988197327,\n 0.4725554883480072,\n 0.6520698666572571,\n 0.7223348617553711,\n 0.5984961986541748,\n 0.740715503692627,\n 0.755623459815979,\n 0.669299304485321,\n 0.8879956603050232,\n 0.7399859428405762,\n 0.5714105367660522,\n 0.6609303951263428,\n 0.5332823395729065,\n 0.5278958678245544,\n 0.3195951282978058,\n 0.19825966656208038,\n 0.36265239119529724,\n 0.265308678150177,\n 0.4818682372570038,\n 0.470168799161911,\n 0.8150652647018433,\n 0.48202869296073914,\n 0.25283485651016235,\n 0.4288124442100525,\n 0.780921459197998,\n 0.7252534031867981,\n 0.9088073968887329,\n 0.3329032361507416,\n 0.8611435890197754,\n 0.5272206664085388,\n 0.4660932719707489,\n 0.5984964370727539,\n 0.5619832277297974,\n 0.5014125108718872,\n 0.23618510365486145,\n 0.32238706946372986,\n 0.23711052536964417,\n 0.38935431838035583,\n 0.8472253680229187,\n 0.7502479553222656,\n 0.4374702274799347,\n 0.36601847410202026,\n 0.3943854570388794,\n 0.32887235283851624,\n 0.3863350749015808,\n 0.6525331735610962,\n 0.7582622170448303,\n 0.643459141254425,\n 0.7848725914955139,\n 0.5013388395309448,\n 0.49388816952705383,\n 0.6354860067367554,\n 0.15774452686309814,\n 0.4793236255645752,\n 0.3797243535518646,\n 0.5741166472434998,\n 0.8310348391532898,\n 0.5767526626586914,\n 0.2349029928445816,\n 0.9015591144561768,\n 0.6243905425071716,\n 0.18909026682376862,\n 0.40247952938079834,\n 0.7551233768463135,\n 0.7000828981399536,\n 0.20318220555782318,\n 0.2708597183227539,\n 0.3870037794113159,\n 0.7338265776634216,\n 0.33891651034355164,\n 0.5429997444152832,\n 0.2158951610326767,\n 0.8385475277900696,\n 0.8341416120529175,\n 0.7253551483154297,\n 0.5525694489479065,\n 0.3991132378578186,\n 0.5651333928108215,\n 0.3560224175453186,\n 0.46922174096107483,\n 0.8179910182952881,\n 0.6177475452423096,\n 0.630351185798645,\n 0.28981631994247437,\n 0.6529359221458435,\n 0.6292741298675537,\n 0.3951900899410248,\n 0.8871049880981445,\n 0.46937087178230286,\n ...]"
     },
     "execution_count": 35,
     "metadata": {},
     "output_type": "execute_result"
    }
   ],
   "source": [
    "qed_samples.flatten().tolist()"
   ],
   "metadata": {
    "collapsed": false,
    "ExecuteTime": {
     "end_time": "2024-04-01T13:26:26.801766852Z",
     "start_time": "2024-04-01T13:26:26.752530229Z"
    }
   },
   "id": "329aebc08827c838"
  },
  {
   "cell_type": "code",
   "execution_count": 28,
   "outputs": [
    {
     "data": {
      "text/plain": "2.4706123458197914e-09"
     },
     "execution_count": 28,
     "metadata": {},
     "output_type": "execute_result"
    }
   ],
   "source": [
    "qed_samples_ok = qed_samples[qed_samples > 0.9]\n",
    "len(qed_samples_ok) / len(qed_samples) * 100"
   ],
   "metadata": {
    "collapsed": false,
    "ExecuteTime": {
     "end_time": "2024-04-01T13:22:51.394750320Z",
     "start_time": "2024-04-01T13:22:51.348754959Z"
    }
   },
   "id": "18f30fb28c5dde51"
  },
  {
   "cell_type": "code",
   "execution_count": 18,
   "outputs": [],
   "source": [
    "import pandas as pd\n",
    "\n",
    "res = pd.DataFrame({\n",
    "    'original_qed': qed_samples.flatten(),\n",
    "    'gen_qed': qed_samples.flatten(),\n",
    "})"
   ],
   "metadata": {
    "collapsed": false,
    "ExecuteTime": {
     "end_time": "2024-04-01T13:20:33.435521873Z",
     "start_time": "2024-04-01T13:20:33.407078066Z"
    }
   },
   "id": "da72d9b9f38cb756"
  },
  {
   "cell_type": "code",
   "execution_count": 19,
   "outputs": [
    {
     "name": "stderr",
     "output_type": "stream",
     "text": [
      "findfont: Font family 'Times New Roman' not found.\n",
      "findfont: Font family 'Times New Roman' not found.\n",
      "findfont: Font family 'Times New Roman' not found.\n",
      "findfont: Font family 'Times New Roman' not found.\n",
      "findfont: Font family 'Times New Roman' not found.\n",
      "findfont: Font family 'Times New Roman' not found.\n",
      "findfont: Font family 'Times New Roman' not found.\n",
      "findfont: Font family 'Times New Roman' not found.\n",
      "findfont: Font family 'Times New Roman' not found.\n",
      "findfont: Font family 'Times New Roman' not found.\n",
      "findfont: Font family 'Times New Roman' not found.\n",
      "findfont: Font family 'Times New Roman' not found.\n",
      "findfont: Font family 'Times New Roman' not found.\n",
      "findfont: Font family 'Times New Roman' not found.\n",
      "findfont: Font family 'Times New Roman' not found.\n",
      "findfont: Font family 'Times New Roman' not found.\n",
      "findfont: Font family 'Times New Roman' not found.\n",
      "findfont: Font family 'Times New Roman' not found.\n",
      "findfont: Font family 'Times New Roman' not found.\n",
      "findfont: Font family 'Times New Roman' not found.\n",
      "findfont: Font family 'Times New Roman' not found.\n",
      "findfont: Font family 'Times New Roman' not found.\n",
      "findfont: Font family 'Times New Roman' not found.\n",
      "findfont: Font family 'Times New Roman' not found.\n",
      "findfont: Font family 'Times New Roman' not found.\n",
      "findfont: Font family 'Times New Roman' not found.\n",
      "findfont: Font family 'Times New Roman' not found.\n",
      "findfont: Font family 'Times New Roman' not found.\n",
      "findfont: Font family 'Times New Roman' not found.\n",
      "findfont: Font family 'Times New Roman' not found.\n",
      "findfont: Font family 'Times New Roman' not found.\n",
      "findfont: Font family 'Times New Roman' not found.\n",
      "findfont: Font family 'Times New Roman' not found.\n",
      "findfont: Font family 'Times New Roman' not found.\n",
      "findfont: Font family 'Times New Roman' not found.\n",
      "findfont: Font family 'Times New Roman' not found.\n",
      "findfont: Font family 'Times New Roman' not found.\n",
      "findfont: Font family 'Times New Roman' not found.\n",
      "findfont: Font family 'Times New Roman' not found.\n",
      "findfont: Font family 'Times New Roman' not found.\n",
      "findfont: Font family 'Times New Roman' not found.\n",
      "findfont: Font family 'Times New Roman' not found.\n",
      "findfont: Font family 'Times New Roman' not found.\n",
      "findfont: Font family 'Times New Roman' not found.\n",
      "findfont: Font family 'Times New Roman' not found.\n",
      "findfont: Font family 'Times New Roman' not found.\n",
      "findfont: Font family 'Times New Roman' not found.\n",
      "findfont: Font family 'Times New Roman' not found.\n",
      "findfont: Font family 'Times New Roman' not found.\n",
      "findfont: Font family 'Times New Roman' not found.\n",
      "findfont: Font family 'Times New Roman' not found.\n",
      "findfont: Font family 'Times New Roman' not found.\n",
      "findfont: Font family 'Times New Roman' not found.\n",
      "findfont: Font family 'Times New Roman' not found.\n",
      "findfont: Font family 'Times New Roman' not found.\n",
      "findfont: Font family 'Times New Roman' not found.\n",
      "findfont: Font family 'Times New Roman' not found.\n",
      "findfont: Font family 'Times New Roman' not found.\n",
      "findfont: Font family 'Times New Roman' not found.\n",
      "findfont: Font family 'Times New Roman' not found.\n",
      "findfont: Font family 'Times New Roman' not found.\n",
      "findfont: Font family 'Times New Roman' not found.\n",
      "findfont: Font family 'Times New Roman' not found.\n",
      "findfont: Font family 'Times New Roman' not found.\n",
      "findfont: Font family 'Times New Roman' not found.\n",
      "findfont: Font family 'Times New Roman' not found.\n",
      "findfont: Font family 'Times New Roman' not found.\n",
      "findfont: Font family 'Times New Roman' not found.\n",
      "findfont: Font family 'Times New Roman' not found.\n",
      "findfont: Font family 'Times New Roman' not found.\n",
      "findfont: Font family 'Times New Roman' not found.\n",
      "findfont: Font family 'Times New Roman' not found.\n",
      "findfont: Font family 'Times New Roman' not found.\n",
      "findfont: Font family 'Times New Roman' not found.\n",
      "findfont: Font family 'Times New Roman' not found.\n",
      "findfont: Font family 'Times New Roman' not found.\n",
      "findfont: Font family 'Times New Roman' not found.\n",
      "findfont: Font family 'Times New Roman' not found.\n",
      "findfont: Font family 'Times New Roman' not found.\n",
      "findfont: Font family 'Times New Roman' not found.\n",
      "findfont: Font family 'Times New Roman' not found.\n",
      "findfont: Font family 'Times New Roman' not found.\n",
      "findfont: Font family 'Times New Roman' not found.\n",
      "findfont: Font family 'Times New Roman' not found.\n",
      "findfont: Font family 'Times New Roman' not found.\n",
      "findfont: Font family 'Times New Roman' not found.\n",
      "findfont: Font family 'Times New Roman' not found.\n",
      "findfont: Font family 'Times New Roman' not found.\n",
      "findfont: Font family 'Times New Roman' not found.\n",
      "findfont: Font family 'Times New Roman' not found.\n",
      "findfont: Font family 'Times New Roman' not found.\n",
      "findfont: Font family 'Times New Roman' not found.\n",
      "findfont: Font family 'Times New Roman' not found.\n",
      "findfont: Font family 'Times New Roman' not found.\n",
      "findfont: Font family 'Times New Roman' not found.\n",
      "findfont: Font family 'Times New Roman' not found.\n",
      "findfont: Font family 'Times New Roman' not found.\n",
      "findfont: Font family 'Times New Roman' not found.\n",
      "findfont: Font family 'Times New Roman' not found.\n",
      "findfont: Font family 'Times New Roman' not found.\n",
      "findfont: Font family 'Times New Roman' not found.\n",
      "findfont: Font family 'Times New Roman' not found.\n",
      "findfont: Font family 'Times New Roman' not found.\n",
      "findfont: Font family 'Times New Roman' not found.\n",
      "findfont: Font family 'Times New Roman' not found.\n",
      "findfont: Font family 'Times New Roman' not found.\n",
      "findfont: Font family 'Times New Roman' not found.\n",
      "findfont: Font family 'Times New Roman' not found.\n",
      "findfont: Font family 'Times New Roman' not found.\n"
     ]
    },
    {
     "data": {
      "text/plain": "<Figure size 750x500 with 1 Axes>",
      "image/png": "[encoded data removed]"
     },
     "metadata": {},
     "output_type": "display_data"
    }
   ],
   "source": [
    "import matplotlib.pyplot as plt\n",
    "import seaborn as sns\n",
    "project_home = '/mnt/retmol/'\n",
    "\n",
    "sns.set(style='white', font=\"Times New Roman\")\n",
    "\n",
    "values = res['original_qed'].tolist() + res['gen_qed'].tolist()\n",
    "names = ['Input QED'] * len(res['original_qed']) + ['Generated QED'] * len(res['gen_qed'])\n",
    "\n",
    "data = pd.DataFrame({\n",
    "    'values': values,\n",
    "    'names': names,\n",
    "})\n",
    "\n",
    "ax = sns.displot(\n",
    "   data=data, x=\"values\", hue=\"names\",\n",
    "   fill=True, common_norm=False, palette=\"colorblind\",\n",
    "   alpha=.3, linewidth=1.5, rug=True, kind='kde', facet_kws=dict(despine=False), height=5, aspect=1.5,\n",
    "   rug_kws={\"alpha\": 0.7, \"height\":0.03}, legend = False\n",
    ")\n",
    "\n",
    "ax.set(ylim=(-1.3, None))\n",
    "ax.ax.spines['bottom'].set_position(('data', -0.1))\n",
    "ax.ax.spines['left'].set_bounds((0, 31.7))\n",
    "ax.ax.spines['right'].set_bounds((0, 31.7))\n",
    "for _,s in ax.ax.spines.items():\n",
    "    s.set_linewidth(2)\n",
    "\n",
    "ax.ax.tick_params(axis='x', labelsize= 20, pad=15)\n",
    "ax.ax.tick_params(axis='y', labelsize= 20)\n",
    "ax.ax.set_xlabel('QED', fontsize=25)\n",
    "ax.ax.set_ylabel(None)\n",
    "\n",
    "lgd = plt.legend(labels=['Generated QED', 'Input QED'], fontsize=20, loc='upper left')\n"
   ],
   "metadata": {
    "collapsed": false,
    "ExecuteTime": {
     "end_time": "2024-04-01T13:21:00.122860702Z",
     "start_time": "2024-04-01T13:20:34.324030671Z"
    }
   },
   "id": "88e2e2397d063178"
  },
  {
   "cell_type": "code",
   "execution_count": 21,
   "outputs": [
    {
     "data": {
      "text/plain": "count    1.273104e+06\nmean     5.538576e-01\nstd      2.140206e-01\nmin      6.844353e-03\n25%      3.935064e-01\n50%      5.677359e-01\n75%      7.300842e-01\nmax      9.483293e-01\nName: original_qed, dtype: float64"
     },
     "execution_count": 21,
     "metadata": {},
     "output_type": "execute_result"
    }
   ],
   "source": [],
   "metadata": {
    "collapsed": false,
    "ExecuteTime": {
     "end_time": "2024-04-01T13:21:34.346117771Z",
     "start_time": "2024-04-01T13:21:34.266215028Z"
    }
   },
   "id": "4102ff22b7eb100e"
  },
  {
   "cell_type": "markdown",
   "source": [
    "# Do joint learning"
   ],
   "metadata": {
    "collapsed": false
   },
   "id": "6e5714b882a4809e"
  },
  {
   "cell_type": "code",
   "execution_count": 1,
   "outputs": [
    {
     "name": "stderr",
     "output_type": "stream",
     "text": [
      "/home/adam/miniconda3/envs/hybrid-transformer/lib/python3.11/site-packages/tqdm/auto.py:21: TqdmWarning: IProgress not found. Please update jupyter and ipywidgets. See https://ipywidgets.readthedocs.io/en/stable/user_install.html\n",
      "  from .autonotebook import tqdm as notebook_tqdm\n",
      "2024-04-03 22:11:35.991047: I tensorflow/core/util/port.cc:113] oneDNN custom operations are on. You may see slightly different numerical results due to floating-point round-off errors from different computation orders. To turn them off, set the environment variable `TF_ENABLE_ONEDNN_OPTS=0`.\n",
      "2024-04-03 22:11:35.992969: I external/local_tsl/tsl/cuda/cudart_stub.cc:31] Could not find cuda drivers on your machine, GPU will not be used.\n",
      "2024-04-03 22:11:36.021436: E external/local_xla/xla/stream_executor/cuda/cuda_dnn.cc:9261] Unable to register cuDNN factory: Attempting to register factory for plugin cuDNN when one has already been registered\n",
      "2024-04-03 22:11:36.021454: E external/local_xla/xla/stream_executor/cuda/cuda_fft.cc:607] Unable to register cuFFT factory: Attempting to register factory for plugin cuFFT when one has already been registered\n",
      "2024-04-03 22:11:36.022198: E external/local_xla/xla/stream_executor/cuda/cuda_blas.cc:1515] Unable to register cuBLAS factory: Attempting to register factory for plugin cuBLAS when one has already been registered\n",
      "2024-04-03 22:11:36.027943: I tensorflow/core/platform/cpu_feature_guard.cc:182] This TensorFlow binary is optimized to use available CPU instructions in performance-critical operations.\n",
      "To enable the following instructions: AVX2 AVX512F AVX512_VNNI FMA, in other operations, rebuild TensorFlow with the appropriate compiler flags.\n",
      "2024-04-03 22:11:36.986974: W tensorflow/compiler/tf2tensorrt/utils/py_utils.cc:38] TF-TRT Warning: Could not find TensorRT\n"
     ]
    }
   ],
   "source": [
    "import os\n",
    "import argparse\n",
    "import json\n",
    "import torch\n",
    "\n",
    "import wandb\n",
    "from tqdm import tqdm\n",
    "from hybrid_transformer.configs.task import TaskConfig\n",
    "from hybrid_transformer.configs.model import ModelConfig\n",
    "from hybrid_transformer.configs.trainer import TrainerConfig\n",
    "from hybrid_transformer.configs.logger import LoggerConfig\n",
    "\n",
    "from hybrid_transformer.utils.datasets.auto import AutoDataset\n",
    "from hybrid_transformer.utils.tokenizers.auto import AutoTokenizer\n",
    "from hybrid_transformer.models.auto import AutoModel\n",
    "from hybrid_transformer.utils.loggers.wandb import WandbLogger\n",
    "\n",
    "from hybrid_transformer.trainers.trainer import Trainer\n",
    "\n",
    "from scripts.joint_learning.train import DEFAULT_CONFIG_FILES\n",
    "\n",
    "from hybrid_transformer.utils.objectives.guacamol.objective import GUACAMOL_TASKS\n",
    "from hybrid_transformer.models.prediction import PREDICTION_MODEL_CONFIGS\n",
    "from hybrid_transformer.utils.objectives.molecule_net.objective import MOLECULE_NET_TASKS, MOLECULE_NET_REGRESSION_TASKS, MOLECULE_NET_CLASSIFICATION_TASKS\n",
    "from hybrid_transformer.utils.objectives.guacamol.objective import get_objective\n",
    "\n",
    "\n",
    "%load_ext autoreload\n",
    "%autoreload 2\n",
    "\n",
    "# Auxiliary functions\n",
    "\n",
    "def save_strings_to_file(strings, filename):\n",
    "    with open(filename, 'w') as f:\n",
    "        for s in strings:\n",
    "            f.write(s + '\\n')\n",
    "\n",
    "def read_strings_from_file(filename):\n",
    "    with open(filename, 'r') as f:\n",
    "        strings = f.read().splitlines()\n",
    "    return strings\n",
    "\n",
    "def convert_strings_to_lists(strings):\n",
    "    return [[s, f'MOL{i}'] for i, s in enumerate(strings)]\n",
    "\n",
    "from scripts.pretrain.eval import DEFAULT_REFERENCE_FILE, evaluate_distribution_learning_guacamol\n"
   ],
   "metadata": {
    "collapsed": false,
    "ExecuteTime": {
     "end_time": "2024-04-03T20:11:37.723574538Z",
     "start_time": "2024-04-03T20:11:33.663065936Z"
    }
   },
   "id": "5f46b0d29a05c900"
  },
  {
   "cell_type": "code",
   "execution_count": 2,
   "outputs": [
    {
     "name": "stdout",
     "output_type": "stream",
     "text": [
      "/home/adam/Projects/hybrid-transformer\n"
     ]
    }
   ],
   "source": [
    "%cd .."
   ],
   "metadata": {
    "collapsed": false,
    "ExecuteTime": {
     "end_time": "2024-04-03T20:11:39.167094307Z",
     "start_time": "2024-04-03T20:11:39.138129457Z"
    }
   },
   "id": "f2dbbe30bf606be8"
  },
  {
   "cell_type": "code",
   "execution_count": 3,
   "outputs": [
    {
     "name": "stdout",
     "output_type": "stream",
     "text": [
      "number of parameters: 38.06M\n",
      "Validating Guacamol dataset...\n"
     ]
    },
    {
     "name": "stderr",
     "output_type": "stream",
     "text": [
      "10000it [00:01, 7367.80it/s]\n"
     ]
    },
    {
     "name": "stdout",
     "output_type": "stream",
     "text": [
      "Guacamol dataset loaded with 10000 valid examples!\n"
     ]
    },
    {
     "name": "stderr",
     "output_type": "stream",
     "text": [
      "100%|██████████| 8391/8391 [00:07<00:00, 1153.53it/s]\n"
     ]
    },
    {
     "name": "stdout",
     "output_type": "stream",
     "text": [
      "tokens per iteration will be: 16,384\n",
      "Using cuda device\n",
      "Successfully loaded checkpoint from ./results/qed_classification/ckpt.pt...\n",
      "Random seed set to 1337\n",
      "num decayed parameter tensors: 63, with 38,116,352 parameters\n",
      "num non-decayed parameter tensors: 25, with 12,800 parameters\n",
      "using fused AdamW: True\n"
     ]
    },
    {
     "data": {
      "text/plain": "HybridTransformer(\n  (transformer): ModuleDict(\n    (wte): Embedding(588, 512)\n    (wpe): Embedding(128, 512)\n    (drop): Dropout(p=0.1, inplace=False)\n    (h): ModuleList(\n      (0-11): 12 x HybridTransformerBlock(\n        (ln_1): LayerNorm()\n        (attn_1): HybridSelfAttention(\n          (q_proj): Linear(in_features=512, out_features=512, bias=False)\n          (kv_proj): Linear(in_features=512, out_features=1024, bias=False)\n          (out_proj): Linear(in_features=512, out_features=512, bias=False)\n          (attn_dropout): Dropout(p=0.1, inplace=False)\n          (resid_dropout): Dropout(p=0.1, inplace=False)\n        )\n        (ln_2): LayerNorm()\n        (mlp): MLP(\n          (fc): Linear(in_features=512, out_features=2048, bias=False)\n          (gelu): GELU(approximate='none')\n          (proj): Linear(in_features=2048, out_features=512, bias=False)\n          (dropout): Dropout(p=0.1, inplace=False)\n        )\n      )\n    )\n    (ln_f): LayerNorm()\n  )\n  (lm_head): Linear(in_features=512, out_features=588, bias=False)\n  (prediction_head): Linear(in_features=512, out_features=2, bias=False)\n  (output_dropout): Dropout(p=0.1, inplace=False)\n)"
     },
     "execution_count": 3,
     "metadata": {},
     "output_type": "execute_result"
    }
   ],
   "source": [
    "path_to_task_config = './configs/tasks/guacamol/qed_classification/config.json'\n",
    "path_to_model_config = './configs/models/prediction/hybrid_transformer/config.json'\n",
    "\n",
    "generated_samples = read_strings_from_file('smiles_generated_qed_classification_10000.txt')\n",
    "\n",
    "task_config = TaskConfig.from_pretrained(path_to_task_config)\n",
    "tokenizer = AutoTokenizer.from_config(task_config)\n",
    "model_config = ModelConfig.from_pretrained(path_to_model_config)\n",
    "trainer_config = TrainerConfig.from_pretrained('./configs/trainers/debug/')\n",
    "trainer_config.compile = False\n",
    "model_config.prediction_task = task_config.prediction_task\n",
    "trainer_config.batch_size = 64\n",
    "task_config.augmentation_prob = 0.0\n",
    "\n",
    "model = AutoModel.from_config(model_config)\n",
    "dataset = AutoDataset.from_config(task_config)\n",
    "dataset.data = generated_samples\n",
    "dataset.target = get_objective(smiles_list=generated_samples, objective='qed_classification')\n",
    "trainer = Trainer(config=trainer_config, model=model, tokenizer=tokenizer, logger=None, eval_dataset=dataset)\n",
    "trainer.load_checkpoint('./results/qed_classification/ckpt.pt')\n",
    "trainer._train_init()\n",
    "trainer.model.eval()"
   ],
   "metadata": {
    "collapsed": false,
    "ExecuteTime": {
     "end_time": "2024-04-03T20:11:55.321997361Z",
     "start_time": "2024-04-03T20:11:44.431465318Z"
    }
   },
   "id": "d183555dedc3c6d9"
  },
  {
   "cell_type": "code",
   "execution_count": 4,
   "outputs": [
    {
     "data": {
      "text/plain": "8391"
     },
     "execution_count": 4,
     "metadata": {},
     "output_type": "execute_result"
    }
   ],
   "source": [
    "len(generated_samples)"
   ],
   "metadata": {
    "collapsed": false,
    "ExecuteTime": {
     "end_time": "2024-04-03T20:11:57.729914551Z",
     "start_time": "2024-04-03T20:11:57.699128735Z"
    }
   },
   "id": "2e42bbd2311dabde"
  },
  {
   "cell_type": "code",
   "execution_count": 4,
   "outputs": [
    {
     "name": "stdout",
     "output_type": "stream",
     "text": [
      "Random seed set to 1337\n",
      "num decayed parameter tensors: 63, with 38,116,352 parameters\n",
      "num non-decayed parameter tensors: 25, with 12,800 parameters\n",
      "using fused AdamW: True\n"
     ]
    }
   ],
   "source": [
    "results = trainer.test(dataset)"
   ],
   "metadata": {
    "collapsed": false,
    "ExecuteTime": {
     "end_time": "2024-04-03T12:05:21.071556554Z",
     "start_time": "2024-04-03T12:05:09.058007384Z"
    }
   },
   "id": "933a1dc46f39fe5d"
  },
  {
   "cell_type": "code",
   "execution_count": 5,
   "outputs": [
    {
     "data": {
      "text/plain": "{'acc': 0.95929203539823,\n 'aucroc': 0.9561467889908257,\n 'aucpr': 0.386632585754918,\n 'y_pred': [0.0,\n  0.0,\n  0.0,\n  0.0,\n  0.0,\n  0.0,\n  0.0,\n  0.0,\n  0.0,\n  0.0,\n  0.0,\n  0.0,\n  0.0,\n  0.0,\n  0.0,\n  0.0,\n  0.0,\n  0.0,\n  0.0,\n  0.0,\n  0.0,\n  0.0,\n  0.0,\n  0.0,\n  0.0,\n  0.0,\n  0.0,\n  0.0,\n  0.0,\n  0.0,\n  0.0,\n  0.0,\n  0.0,\n  0.0,\n  0.0,\n  0.0,\n  0.0,\n  0.0,\n  0.0,\n  0.0,\n  0.0,\n  0.0,\n  0.0,\n  0.0,\n  0.0,\n  0.0,\n  0.0,\n  0.0,\n  0.0,\n  0.0,\n  0.0,\n  0.0,\n  0.0,\n  0.0,\n  0.0,\n  0.0,\n  0.0,\n  0.0,\n  0.0,\n  0.0,\n  0.0,\n  0.0,\n  0.0,\n  0.0,\n  0.0,\n  0.0,\n  0.0,\n  0.0,\n  0.0,\n  0.0,\n  1.0,\n  0.0,\n  0.0,\n  0.0,\n  0.0,\n  0.0,\n  0.0,\n  0.0,\n  0.0,\n  0.0,\n  0.0,\n  0.0,\n  0.0,\n  0.0,\n  0.0,\n  0.0,\n  0.0,\n  0.0,\n  0.0,\n  0.0,\n  0.0,\n  0.0,\n  0.0,\n  0.0,\n  0.0,\n  0.0,\n  0.0,\n  0.0,\n  0.0,\n  0.0,\n  0.0,\n  0.0,\n  0.0,\n  0.0,\n  0.0,\n  0.0,\n  0.0,\n  0.0,\n  0.0,\n  0.0,\n  0.0,\n  0.0,\n  0.0,\n  0.0,\n  0.0,\n  0.0,\n  0.0,\n  0.0,\n  0.0,\n  0.0,\n  0.0,\n  0.0,\n  0.0,\n  0.0,\n  0.0,\n  0.0,\n  0.0,\n  0.0,\n  0.0,\n  0.0,\n  0.0,\n  0.0,\n  0.0,\n  0.0,\n  0.0,\n  0.0,\n  0.0,\n  0.0,\n  0.0,\n  0.0,\n  0.0,\n  0.0,\n  0.0,\n  0.0,\n  0.0,\n  0.0,\n  0.0,\n  0.0,\n  0.0,\n  0.0,\n  0.0,\n  0.0,\n  0.0,\n  0.0,\n  0.0,\n  0.0,\n  0.0,\n  0.0,\n  0.0,\n  0.0,\n  0.0,\n  0.0,\n  1.0,\n  0.0,\n  0.0,\n  0.0,\n  0.0,\n  0.0,\n  0.0,\n  0.0,\n  0.0,\n  0.0,\n  0.0,\n  0.0,\n  0.0,\n  0.0,\n  0.0,\n  0.0,\n  0.0,\n  0.0,\n  0.0,\n  0.0,\n  1.0,\n  0.0,\n  0.0,\n  0.0,\n  1.0,\n  1.0,\n  0.0,\n  0.0,\n  0.0,\n  0.0,\n  0.0,\n  0.0,\n  0.0,\n  0.0,\n  0.0,\n  0.0,\n  0.0,\n  0.0,\n  0.0,\n  0.0,\n  0.0,\n  0.0,\n  0.0,\n  0.0,\n  0.0,\n  0.0,\n  0.0,\n  0.0,\n  0.0,\n  0.0,\n  0.0,\n  0.0,\n  0.0,\n  0.0,\n  0.0,\n  0.0,\n  0.0,\n  0.0,\n  0.0,\n  0.0,\n  0.0,\n  0.0,\n  0.0,\n  0.0,\n  0.0,\n  0.0,\n  0.0,\n  0.0,\n  0.0,\n  0.0,\n  0.0,\n  0.0,\n  0.0,\n  0.0,\n  0.0,\n  0.0,\n  0.0,\n  0.0,\n  0.0,\n  0.0,\n  0.0,\n  0.0,\n  0.0,\n  0.0,\n  0.0,\n  0.0,\n  0.0,\n  0.0,\n  0.0,\n  0.0,\n  0.0,\n  0.0,\n  0.0,\n  0.0,\n  0.0,\n  0.0,\n  0.0,\n  0.0,\n  0.0,\n  0.0,\n  0.0,\n  0.0,\n  0.0,\n  0.0,\n  0.0,\n  0.0,\n  0.0,\n  0.0,\n  0.0,\n  0.0,\n  0.0,\n  0.0,\n  0.0,\n  0.0,\n  0.0,\n  0.0,\n  0.0,\n  0.0,\n  0.0,\n  0.0,\n  0.0,\n  0.0,\n  0.0,\n  0.0,\n  0.0,\n  1.0,\n  0.0,\n  0.0,\n  0.0,\n  0.0,\n  0.0,\n  0.0,\n  0.0,\n  0.0,\n  0.0,\n  0.0,\n  0.0,\n  0.0,\n  0.0,\n  0.0,\n  0.0,\n  0.0,\n  0.0,\n  0.0,\n  0.0,\n  0.0,\n  0.0,\n  0.0,\n  0.0,\n  0.0,\n  0.0,\n  0.0,\n  0.0,\n  0.0,\n  0.0,\n  0.0,\n  0.0,\n  0.0,\n  0.0,\n  0.0,\n  0.0,\n  0.0,\n  0.0,\n  0.0,\n  0.0,\n  0.0,\n  0.0,\n  0.0,\n  0.0,\n  0.0,\n  0.0,\n  0.0,\n  0.0,\n  0.0,\n  0.0,\n  0.0,\n  0.0,\n  0.0,\n  0.0,\n  0.0,\n  0.0,\n  0.0,\n  0.0,\n  0.0,\n  0.0,\n  0.0,\n  0.0,\n  0.0,\n  0.0,\n  0.0,\n  0.0,\n  0.0,\n  0.0,\n  0.0,\n  0.0,\n  0.0,\n  0.0,\n  0.0,\n  0.0,\n  0.0,\n  0.0,\n  0.0,\n  0.0,\n  0.0,\n  0.0,\n  0.0,\n  0.0,\n  0.0,\n  0.0,\n  0.0,\n  0.0,\n  1.0,\n  0.0,\n  0.0,\n  0.0,\n  0.0,\n  0.0,\n  0.0,\n  0.0,\n  0.0,\n  0.0,\n  0.0,\n  0.0,\n  0.0,\n  0.0,\n  0.0,\n  0.0,\n  0.0,\n  0.0,\n  0.0,\n  0.0,\n  0.0,\n  0.0,\n  0.0,\n  0.0,\n  0.0,\n  0.0,\n  0.0,\n  0.0,\n  0.0,\n  0.0,\n  0.0,\n  0.0,\n  0.0,\n  0.0,\n  0.0,\n  0.0,\n  0.0,\n  0.0,\n  0.0,\n  0.0,\n  0.0,\n  0.0,\n  0.0,\n  0.0,\n  0.0,\n  0.0,\n  0.0,\n  0.0,\n  0.0,\n  0.0,\n  0.0,\n  0.0,\n  0.0,\n  0.0,\n  0.0,\n  0.0,\n  0.0,\n  0.0,\n  0.0,\n  0.0,\n  0.0,\n  0.0,\n  0.0,\n  0.0,\n  0.0,\n  0.0,\n  0.0,\n  0.0,\n  0.0,\n  0.0,\n  0.0,\n  0.0,\n  0.0,\n  0.0,\n  0.0,\n  0.0,\n  0.0,\n  0.0,\n  0.0,\n  0.0,\n  0.0,\n  0.0,\n  0.0,\n  0.0,\n  0.0,\n  0.0,\n  0.0,\n  0.0,\n  0.0,\n  0.0,\n  0.0,\n  0.0,\n  0.0,\n  0.0,\n  0.0,\n  0.0,\n  0.0,\n  0.0,\n  0.0,\n  0.0,\n  0.0,\n  0.0,\n  0.0,\n  0.0,\n  0.0,\n  0.0,\n  0.0,\n  0.0,\n  0.0,\n  0.0,\n  0.0,\n  0.0,\n  0.0,\n  0.0,\n  0.0,\n  0.0,\n  0.0,\n  0.0,\n  0.0,\n  0.0,\n  0.0,\n  0.0,\n  0.0,\n  0.0,\n  0.0,\n  0.0,\n  0.0,\n  0.0,\n  0.0,\n  0.0,\n  0.0,\n  0.0,\n  0.0,\n  1.0,\n  0.0,\n  0.0,\n  0.0,\n  0.0,\n  0.0,\n  0.0,\n  0.0,\n  0.0,\n  0.0,\n  0.0,\n  0.0,\n  0.0,\n  0.0,\n  0.0,\n  0.0,\n  0.0,\n  0.0,\n  0.0,\n  0.0,\n  0.0,\n  0.0,\n  1.0,\n  0.0,\n  0.0,\n  0.0,\n  0.0,\n  0.0,\n  0.0,\n  0.0,\n  0.0,\n  0.0,\n  0.0,\n  0.0,\n  0.0,\n  0.0,\n  0.0,\n  0.0,\n  0.0,\n  0.0,\n  0.0,\n  0.0,\n  0.0,\n  0.0,\n  0.0,\n  0.0,\n  0.0,\n  0.0,\n  0.0,\n  0.0,\n  0.0,\n  0.0,\n  0.0,\n  0.0,\n  0.0,\n  0.0,\n  0.0,\n  0.0,\n  0.0],\n 'y_true': [0.0,\n  0.0,\n  0.0,\n  0.0,\n  0.0,\n  0.0,\n  0.0,\n  0.0,\n  0.0,\n  0.0,\n  0.0,\n  0.0,\n  0.0,\n  0.0,\n  0.0,\n  0.0,\n  0.0,\n  0.0,\n  0.0,\n  0.0,\n  0.0,\n  0.0,\n  0.0,\n  0.0,\n  0.0,\n  0.0,\n  0.0,\n  0.0,\n  0.0,\n  0.0,\n  0.0,\n  0.0,\n  0.0,\n  0.0,\n  0.0,\n  0.0,\n  0.0,\n  0.0,\n  0.0,\n  0.0,\n  0.0,\n  0.0,\n  0.0,\n  0.0,\n  0.0,\n  0.0,\n  0.0,\n  0.0,\n  0.0,\n  0.0,\n  0.0,\n  0.0,\n  0.0,\n  0.0,\n  0.0,\n  0.0,\n  0.0,\n  0.0,\n  0.0,\n  0.0,\n  0.0,\n  0.0,\n  0.0,\n  0.0,\n  0.0,\n  0.0,\n  0.0,\n  0.0,\n  0.0,\n  0.0,\n  0.0,\n  0.0,\n  0.0,\n  1.0,\n  0.0,\n  0.0,\n  0.0,\n  0.0,\n  0.0,\n  0.0,\n  0.0,\n  0.0,\n  0.0,\n  0.0,\n  0.0,\n  0.0,\n  0.0,\n  0.0,\n  0.0,\n  0.0,\n  0.0,\n  0.0,\n  0.0,\n  0.0,\n  0.0,\n  0.0,\n  0.0,\n  0.0,\n  0.0,\n  0.0,\n  0.0,\n  0.0,\n  0.0,\n  0.0,\n  0.0,\n  0.0,\n  0.0,\n  0.0,\n  0.0,\n  0.0,\n  0.0,\n  0.0,\n  0.0,\n  0.0,\n  0.0,\n  0.0,\n  0.0,\n  0.0,\n  0.0,\n  0.0,\n  0.0,\n  0.0,\n  0.0,\n  0.0,\n  0.0,\n  0.0,\n  0.0,\n  0.0,\n  0.0,\n  0.0,\n  0.0,\n  0.0,\n  0.0,\n  0.0,\n  0.0,\n  0.0,\n  0.0,\n  0.0,\n  0.0,\n  0.0,\n  0.0,\n  0.0,\n  1.0,\n  0.0,\n  0.0,\n  0.0,\n  0.0,\n  0.0,\n  0.0,\n  0.0,\n  0.0,\n  0.0,\n  0.0,\n  0.0,\n  0.0,\n  0.0,\n  0.0,\n  0.0,\n  0.0,\n  0.0,\n  0.0,\n  1.0,\n  0.0,\n  0.0,\n  0.0,\n  0.0,\n  0.0,\n  0.0,\n  0.0,\n  0.0,\n  0.0,\n  0.0,\n  0.0,\n  0.0,\n  0.0,\n  0.0,\n  0.0,\n  0.0,\n  0.0,\n  0.0,\n  0.0,\n  0.0,\n  0.0,\n  0.0,\n  0.0,\n  0.0,\n  0.0,\n  1.0,\n  0.0,\n  0.0,\n  0.0,\n  0.0,\n  0.0,\n  0.0,\n  0.0,\n  0.0,\n  0.0,\n  0.0,\n  0.0,\n  0.0,\n  0.0,\n  0.0,\n  0.0,\n  0.0,\n  0.0,\n  0.0,\n  1.0,\n  0.0,\n  0.0,\n  0.0,\n  0.0,\n  0.0,\n  0.0,\n  0.0,\n  0.0,\n  0.0,\n  0.0,\n  0.0,\n  0.0,\n  0.0,\n  0.0,\n  0.0,\n  0.0,\n  0.0,\n  0.0,\n  0.0,\n  0.0,\n  0.0,\n  0.0,\n  0.0,\n  0.0,\n  0.0,\n  0.0,\n  0.0,\n  0.0,\n  0.0,\n  0.0,\n  0.0,\n  1.0,\n  0.0,\n  0.0,\n  0.0,\n  0.0,\n  0.0,\n  0.0,\n  0.0,\n  1.0,\n  0.0,\n  0.0,\n  0.0,\n  0.0,\n  0.0,\n  0.0,\n  0.0,\n  0.0,\n  0.0,\n  0.0,\n  0.0,\n  0.0,\n  0.0,\n  0.0,\n  0.0,\n  0.0,\n  0.0,\n  0.0,\n  0.0,\n  0.0,\n  0.0,\n  0.0,\n  0.0,\n  0.0,\n  0.0,\n  0.0,\n  0.0,\n  0.0,\n  0.0,\n  0.0,\n  0.0,\n  0.0,\n  0.0,\n  0.0,\n  0.0,\n  0.0,\n  0.0,\n  0.0,\n  0.0,\n  0.0,\n  0.0,\n  0.0,\n  0.0,\n  0.0,\n  0.0,\n  0.0,\n  0.0,\n  0.0,\n  0.0,\n  0.0,\n  0.0,\n  0.0,\n  0.0,\n  0.0,\n  0.0,\n  0.0,\n  0.0,\n  0.0,\n  0.0,\n  0.0,\n  0.0,\n  0.0,\n  0.0,\n  1.0,\n  0.0,\n  0.0,\n  0.0,\n  0.0,\n  0.0,\n  0.0,\n  1.0,\n  0.0,\n  0.0,\n  0.0,\n  0.0,\n  0.0,\n  0.0,\n  0.0,\n  0.0,\n  0.0,\n  0.0,\n  0.0,\n  0.0,\n  0.0,\n  0.0,\n  0.0,\n  0.0,\n  0.0,\n  0.0,\n  0.0,\n  0.0,\n  0.0,\n  0.0,\n  0.0,\n  0.0,\n  0.0,\n  0.0,\n  0.0,\n  0.0,\n  0.0,\n  0.0,\n  0.0,\n  0.0,\n  1.0,\n  1.0,\n  1.0,\n  0.0,\n  0.0,\n  0.0,\n  0.0,\n  0.0,\n  0.0,\n  0.0,\n  0.0,\n  0.0,\n  0.0,\n  0.0,\n  0.0,\n  0.0,\n  0.0,\n  0.0,\n  0.0,\n  0.0,\n  0.0,\n  0.0,\n  0.0,\n  0.0,\n  0.0,\n  0.0,\n  0.0,\n  0.0,\n  0.0,\n  0.0,\n  0.0,\n  0.0,\n  0.0,\n  0.0,\n  0.0,\n  1.0,\n  0.0,\n  0.0,\n  0.0,\n  0.0,\n  0.0,\n  0.0,\n  0.0,\n  0.0,\n  0.0,\n  0.0,\n  0.0,\n  0.0,\n  0.0,\n  0.0,\n  0.0,\n  0.0,\n  0.0,\n  0.0,\n  0.0,\n  0.0,\n  0.0,\n  0.0,\n  0.0,\n  0.0,\n  0.0,\n  0.0,\n  0.0,\n  0.0,\n  0.0,\n  0.0,\n  0.0,\n  0.0,\n  0.0,\n  0.0,\n  0.0,\n  0.0,\n  0.0,\n  0.0,\n  0.0,\n  0.0,\n  0.0,\n  0.0,\n  0.0,\n  0.0,\n  0.0,\n  0.0,\n  0.0,\n  0.0,\n  0.0,\n  0.0,\n  0.0,\n  0.0,\n  0.0,\n  0.0,\n  0.0,\n  1.0,\n  0.0,\n  0.0,\n  0.0,\n  0.0,\n  0.0,\n  0.0,\n  0.0,\n  0.0,\n  0.0,\n  0.0,\n  0.0,\n  0.0,\n  0.0,\n  0.0,\n  0.0,\n  0.0,\n  0.0,\n  0.0,\n  0.0,\n  0.0,\n  0.0,\n  0.0,\n  0.0,\n  0.0,\n  0.0,\n  0.0,\n  0.0,\n  0.0,\n  0.0,\n  0.0,\n  0.0,\n  0.0,\n  0.0,\n  0.0,\n  0.0,\n  0.0,\n  0.0,\n  0.0,\n  0.0,\n  0.0,\n  0.0,\n  0.0,\n  0.0,\n  1.0,\n  0.0,\n  0.0,\n  0.0,\n  0.0,\n  0.0,\n  0.0,\n  0.0,\n  0.0,\n  0.0,\n  0.0,\n  0.0,\n  1.0,\n  0.0,\n  0.0,\n  0.0,\n  0.0,\n  0.0,\n  0.0,\n  0.0,\n  0.0,\n  1.0,\n  0.0,\n  0.0,\n  0.0,\n  0.0,\n  0.0,\n  1.0,\n  0.0,\n  0.0,\n  0.0,\n  0.0,\n  0.0,\n  0.0,\n  0.0,\n  0.0,\n  0.0,\n  0.0,\n  0.0,\n  0.0,\n  0.0,\n  0.0,\n  0.0,\n  1.0,\n  0.0,\n  1.0,\n  0.0,\n  0.0,\n  0.0,\n  0.0,\n  0.0,\n  0.0,\n  0.0,\n  0.0,\n  0.0,\n  0.0,\n  0.0,\n  0.0,\n  0.0,\n  0.0,\n  0.0,\n  0.0,\n  0.0,\n  0.0,\n  0.0,\n  0.0,\n  0.0,\n  0.0,\n  0.0,\n  0.0,\n  0.0,\n  0.0,\n  0.0,\n  0.0,\n  0.0,\n  0.0,\n  0.0,\n  0.0,\n  0.0,\n  0.0]}"
     },
     "execution_count": 5,
     "metadata": {},
     "output_type": "execute_result"
    }
   ],
   "source": [
    "results"
   ],
   "metadata": {
    "collapsed": false,
    "ExecuteTime": {
     "end_time": "2024-04-03T12:05:23.206992364Z",
     "start_time": "2024-04-03T12:05:23.151239547Z"
    }
   },
   "id": "9fbe3e013031e65a"
  },
  {
   "cell_type": "code",
   "execution_count": 54,
   "outputs": [],
   "source": [
    "y_pred = results['y_pred']\n",
    "y_true = results['y_true']"
   ],
   "metadata": {
    "collapsed": false,
    "ExecuteTime": {
     "end_time": "2024-04-03T09:53:41.736203852Z",
     "start_time": "2024-04-03T09:53:41.661522311Z"
    }
   },
   "id": "1a2c28df4c760da6"
  },
  {
   "cell_type": "code",
   "execution_count": 63,
   "outputs": [
    {
     "data": {
      "text/plain": "[(1.0, 0.0),\n (1.0, 0.0),\n (1.0, 0.0),\n (1.0, 1.0),\n (1.0, 0.0),\n (1.0, 0.0),\n (1.0, 0.0),\n (1.0, 0.0),\n (1.0, 0.0),\n (1.0, 0.0),\n (1.0, 0.0),\n (1.0, 0.0),\n (1.0, 0.0),\n (1.0, 0.0),\n (1.0, 0.0),\n (1.0, 0.0),\n (1.0, 1.0),\n (1.0, 0.0),\n (1.0, 1.0),\n (1.0, 0.0)]"
     },
     "execution_count": 63,
     "metadata": {},
     "output_type": "execute_result"
    }
   ],
   "source": [
    "y_true_positive = [(y_t, y_p) for y_t, y_p in zip(y_true, y_pred) if y_t == 1.0]\n",
    "y_true_positive"
   ],
   "metadata": {
    "collapsed": false,
    "ExecuteTime": {
     "end_time": "2024-04-03T09:55:28.653507305Z",
     "start_time": "2024-04-03T09:55:28.583130117Z"
    }
   },
   "id": "c3ea85ad16384c0b"
  },
  {
   "cell_type": "code",
   "execution_count": 12,
   "outputs": [],
   "source": [
    "n = 10\n",
    "\n",
    "samples = []\n",
    "predictions = []\n",
    "targets = []\n",
    "\n",
    "with torch.no_grad():\n",
    "    for i in range(0, len(dataset.data), n):\n",
    "        samples_batch = dataset.data[i:i + n]\n",
    "        targets_batch = dataset.target[i:i+n].flatten()\n",
    "        mlm_probability = 0.0\n",
    "        inputs = tokenizer._encode(samples_batch, targets_batch, 'mlm', device=trainer.device)\n",
    "        outputs = model(\n",
    "            task='mlm', input_ids=inputs['input_ids'], attention_mask=inputs['attention_mask'],\n",
    "            labels=inputs['labels'], target=inputs['target'], eos_mask=inputs['eos_mask'])\n",
    "        samples.extend(samples_batch)\n",
    "        targets.extend(targets_batch)\n",
    "        predictions.extend(outputs['prediction'].detach().cpu().flatten().numpy().tolist()) "
   ],
   "metadata": {
    "collapsed": false,
    "ExecuteTime": {
     "end_time": "2024-04-03T13:02:32.399193264Z",
     "start_time": "2024-04-03T13:02:26.617749816Z"
    }
   },
   "id": "f139ffe043287430"
  },
  {
   "cell_type": "code",
   "execution_count": 5,
   "outputs": [],
   "source": [
    "batch_size = 64\n",
    "\n",
    "idx = [i for i in range(len(dataset))]\n",
    "idx_batched = [idx[i: i + batch_size] for i in range(0, len(idx), batch_size)]\n",
    "\n",
    "        \n",
    "predictions = []\n",
    "prediction_probs = []\n",
    "targets = []\n",
    "\n",
    "for batch in range(len(idx_batched)):\n",
    "    idx = torch.Tensor(idx_batched[batch]).to(torch.long)\n",
    "    inputs = trainer.tokenizer.get_inputs(\n",
    "        dataset=dataset, task='mlm', batch_size=trainer.batch_size, device=trainer.device, idx=idx)\n",
    "    with torch.no_grad():\n",
    "        with trainer.ctx:\n",
    "            outputs = trainer.model(\n",
    "                task='mlm', input_ids=inputs['input_ids'], attention_mask=inputs['attention_mask'],\n",
    "                labels=inputs['labels'], target=inputs['target'], eos_mask=inputs['eos_mask'])\n",
    "    prediction = torch.argmax(outputs['prediction'], dim=1).detach().cpu()\n",
    "    prediction_prob = outputs['prediction'][:, 1].detach().cpu()\n",
    "    predictions.extend(dataset.undo_target_transform(prediction.cpu()))\n",
    "    prediction_probs.extend(prediction_prob.cpu())\n",
    "    targets.extend(dataset.undo_target_transform(inputs['target'].cpu()))\n"
   ],
   "metadata": {
    "collapsed": false,
    "ExecuteTime": {
     "end_time": "2024-04-03T20:15:10.921221074Z",
     "start_time": "2024-04-03T20:12:11.456315868Z"
    }
   },
   "id": "8141c561c6274ffa"
  },
  {
   "cell_type": "code",
   "execution_count": 9,
   "outputs": [],
   "source": [
    "selected_samples = [target.item() for prediction, target in zip(predictions, targets) if prediction.item() == 1.0]"
   ],
   "metadata": {
    "collapsed": false,
    "ExecuteTime": {
     "end_time": "2024-04-03T20:15:54.990989446Z",
     "start_time": "2024-04-03T20:15:54.946304152Z"
    }
   },
   "id": "7f5a5435ded01f6d"
  },
  {
   "cell_type": "code",
   "execution_count": 10,
   "outputs": [
    {
     "data": {
      "text/plain": "0.5706214689265536"
     },
     "execution_count": 10,
     "metadata": {},
     "output_type": "execute_result"
    }
   ],
   "source": [
    "sum(selected_samples) / len(selected_samples)"
   ],
   "metadata": {
    "collapsed": false,
    "ExecuteTime": {
     "end_time": "2024-04-03T20:15:55.994690242Z",
     "start_time": "2024-04-03T20:15:55.961061068Z"
    }
   },
   "id": "b342eb31f2f1a8a"
  },
  {
   "cell_type": "code",
   "execution_count": 13,
   "outputs": [
    {
     "data": {
      "text/plain": "[tensor(0),\n tensor(0),\n tensor(0),\n tensor(0),\n tensor(0),\n tensor(0),\n tensor(0),\n tensor(0),\n tensor(0),\n tensor(0),\n tensor(0),\n tensor(0),\n tensor(0),\n tensor(0),\n tensor(0),\n tensor(0),\n tensor(0),\n tensor(0),\n tensor(0),\n tensor(0),\n tensor(0),\n tensor(0),\n tensor(0),\n tensor(0),\n tensor(0),\n tensor(0),\n tensor(0),\n tensor(0),\n tensor(0),\n tensor(0),\n tensor(0),\n tensor(0),\n tensor(0),\n tensor(0),\n tensor(0),\n tensor(0),\n tensor(0),\n tensor(0),\n tensor(0),\n tensor(0),\n tensor(0),\n tensor(0),\n tensor(0),\n tensor(0),\n tensor(0),\n tensor(0),\n tensor(0),\n tensor(0),\n tensor(0),\n tensor(0),\n tensor(0),\n tensor(0),\n tensor(0),\n tensor(0),\n tensor(0),\n tensor(0),\n tensor(0),\n tensor(0),\n tensor(0),\n tensor(0),\n tensor(0),\n tensor(0),\n tensor(0),\n tensor(0),\n tensor(0),\n tensor(0),\n tensor(0),\n tensor(0),\n tensor(0),\n tensor(0),\n tensor(0),\n tensor(0),\n tensor(0),\n tensor(0),\n tensor(0),\n tensor(0),\n tensor(0),\n tensor(0),\n tensor(0),\n tensor(0),\n tensor(0),\n tensor(0),\n tensor(0),\n tensor(1),\n tensor(0),\n tensor(0),\n tensor(0),\n tensor(0),\n tensor(0),\n tensor(0),\n tensor(0),\n tensor(0),\n tensor(0),\n tensor(0),\n tensor(0),\n tensor(0),\n tensor(0),\n tensor(0),\n tensor(0),\n tensor(0),\n tensor(0),\n tensor(0),\n tensor(0),\n tensor(0),\n tensor(0),\n tensor(0),\n tensor(0),\n tensor(0),\n tensor(0),\n tensor(0),\n tensor(0),\n tensor(0),\n tensor(0),\n tensor(0),\n tensor(0),\n tensor(0),\n tensor(0),\n tensor(0),\n tensor(0),\n tensor(0),\n tensor(0),\n tensor(0),\n tensor(0),\n tensor(0),\n tensor(0),\n tensor(0),\n tensor(0),\n tensor(0),\n tensor(0),\n tensor(0),\n tensor(0),\n tensor(0),\n tensor(0),\n tensor(0),\n tensor(0),\n tensor(0),\n tensor(0),\n tensor(0),\n tensor(0),\n tensor(0),\n tensor(0),\n tensor(0),\n tensor(0),\n tensor(0),\n tensor(0),\n tensor(0),\n tensor(0),\n tensor(0),\n tensor(0),\n tensor(0),\n tensor(0),\n tensor(0),\n tensor(0),\n tensor(0),\n tensor(0),\n tensor(0),\n tensor(0),\n tensor(0),\n tensor(0),\n tensor(0),\n tensor(0),\n tensor(0),\n tensor(0),\n tensor(0),\n tensor(0),\n tensor(0),\n tensor(0),\n tensor(0),\n tensor(0),\n tensor(0),\n tensor(0),\n tensor(0),\n tensor(0),\n tensor(0),\n tensor(0),\n tensor(0),\n tensor(0),\n tensor(0),\n tensor(0),\n tensor(0),\n tensor(0),\n tensor(0),\n tensor(0),\n tensor(0),\n tensor(0),\n tensor(0),\n tensor(0),\n tensor(0),\n tensor(0),\n tensor(0),\n tensor(0),\n tensor(0),\n tensor(1),\n tensor(0),\n tensor(0),\n tensor(0),\n tensor(0),\n tensor(0),\n tensor(0),\n tensor(0),\n tensor(0),\n tensor(0),\n tensor(0),\n tensor(0),\n tensor(0),\n tensor(0),\n tensor(0),\n tensor(0),\n tensor(0),\n tensor(0),\n tensor(0),\n tensor(0),\n tensor(0),\n tensor(0),\n tensor(0),\n tensor(0),\n tensor(0),\n tensor(0),\n tensor(0),\n tensor(0),\n tensor(0),\n tensor(0),\n tensor(0),\n tensor(0),\n tensor(0),\n tensor(0),\n tensor(0),\n tensor(0),\n tensor(0),\n tensor(0),\n tensor(0),\n tensor(0),\n tensor(0),\n tensor(0),\n tensor(0),\n tensor(0),\n tensor(0),\n tensor(0),\n tensor(0),\n tensor(0),\n tensor(0),\n tensor(0),\n tensor(0),\n tensor(0),\n tensor(0),\n tensor(0),\n tensor(0),\n tensor(0),\n tensor(0),\n tensor(0),\n tensor(0),\n tensor(0),\n tensor(0),\n tensor(0),\n tensor(0),\n tensor(0),\n tensor(0),\n tensor(0),\n tensor(0),\n tensor(0),\n tensor(0),\n tensor(0),\n tensor(0),\n tensor(0),\n tensor(0),\n tensor(0),\n tensor(0),\n tensor(0),\n tensor(0),\n tensor(0),\n tensor(0),\n tensor(0),\n tensor(0),\n tensor(0),\n tensor(0),\n tensor(0),\n tensor(0),\n tensor(0),\n tensor(0),\n tensor(0),\n tensor(0),\n tensor(0),\n tensor(0),\n tensor(0),\n tensor(0),\n tensor(0),\n tensor(1),\n tensor(0),\n tensor(0),\n tensor(0),\n tensor(0),\n tensor(0),\n tensor(0),\n tensor(0),\n tensor(0),\n tensor(0),\n tensor(0),\n tensor(0),\n tensor(0),\n tensor(0),\n tensor(0),\n tensor(0),\n tensor(0),\n tensor(0),\n tensor(0),\n tensor(0),\n tensor(0),\n tensor(0),\n tensor(0),\n tensor(0),\n tensor(0),\n tensor(0),\n tensor(0),\n tensor(0),\n tensor(0),\n tensor(0),\n tensor(0),\n tensor(0),\n tensor(0),\n tensor(0),\n tensor(0),\n tensor(0),\n tensor(0),\n tensor(0),\n tensor(0),\n tensor(0),\n tensor(0),\n tensor(0),\n tensor(0),\n tensor(0),\n tensor(0),\n tensor(0),\n tensor(0),\n tensor(0),\n tensor(0),\n tensor(0),\n tensor(0),\n tensor(0),\n tensor(0),\n tensor(0),\n tensor(0),\n tensor(0),\n tensor(0),\n tensor(0),\n tensor(0),\n tensor(0),\n tensor(0),\n tensor(0),\n tensor(0),\n tensor(0),\n tensor(0),\n tensor(0),\n tensor(0),\n tensor(0),\n tensor(0),\n tensor(0),\n tensor(0),\n tensor(0),\n tensor(0),\n tensor(0),\n tensor(0),\n tensor(0),\n tensor(0),\n tensor(0),\n tensor(0),\n tensor(0),\n tensor(0),\n tensor(0),\n tensor(0),\n tensor(0),\n tensor(0),\n tensor(0),\n tensor(0),\n tensor(0),\n tensor(0),\n tensor(0),\n tensor(0),\n tensor(0),\n tensor(1),\n tensor(0),\n tensor(0),\n tensor(0),\n tensor(0),\n tensor(0),\n tensor(0),\n tensor(0),\n tensor(0),\n tensor(0),\n tensor(0),\n tensor(0),\n tensor(0),\n tensor(0),\n tensor(0),\n tensor(0),\n tensor(0),\n tensor(0),\n tensor(0),\n tensor(0),\n tensor(1),\n tensor(0),\n tensor(0),\n tensor(0),\n tensor(0),\n tensor(0),\n tensor(0),\n tensor(0),\n tensor(0),\n tensor(0),\n tensor(0),\n tensor(0),\n tensor(0),\n tensor(0),\n tensor(0),\n tensor(0),\n tensor(0),\n tensor(0),\n tensor(0),\n tensor(0),\n tensor(0),\n tensor(0),\n tensor(0),\n tensor(0),\n tensor(0),\n tensor(0),\n tensor(0),\n tensor(0),\n tensor(0),\n tensor(0),\n tensor(0),\n tensor(0),\n tensor(0),\n tensor(0),\n tensor(0),\n tensor(0),\n tensor(0),\n tensor(0),\n tensor(0),\n tensor(0),\n tensor(0),\n tensor(0),\n tensor(0),\n tensor(0),\n tensor(0),\n tensor(0),\n tensor(0),\n tensor(0),\n tensor(0),\n tensor(0),\n tensor(0),\n tensor(0),\n tensor(0),\n tensor(0),\n tensor(0),\n tensor(0),\n tensor(0),\n tensor(0),\n tensor(0),\n tensor(0),\n tensor(0),\n tensor(0),\n tensor(0),\n tensor(0),\n tensor(0),\n tensor(0),\n tensor(1),\n tensor(0),\n tensor(0),\n tensor(0),\n tensor(0),\n tensor(0),\n tensor(0),\n tensor(0),\n tensor(0),\n tensor(0),\n tensor(0),\n tensor(0),\n tensor(0),\n tensor(0),\n tensor(0),\n tensor(0),\n tensor(0),\n tensor(0),\n tensor(0),\n tensor(0),\n tensor(0),\n tensor(0),\n tensor(0),\n tensor(0),\n tensor(0),\n tensor(0),\n tensor(0),\n tensor(0),\n tensor(0),\n tensor(0),\n tensor(0),\n tensor(0),\n tensor(0),\n tensor(0),\n tensor(0),\n tensor(0),\n tensor(0),\n tensor(0),\n tensor(0),\n tensor(0),\n tensor(0),\n tensor(0),\n tensor(0),\n tensor(0),\n tensor(0),\n tensor(0),\n tensor(0),\n tensor(0),\n tensor(0),\n tensor(0),\n tensor(1),\n tensor(0),\n tensor(0),\n tensor(0),\n tensor(0),\n tensor(0),\n tensor(1),\n tensor(0),\n tensor(0),\n tensor(0),\n tensor(0),\n tensor(0),\n tensor(1),\n tensor(0),\n tensor(0),\n tensor(0),\n tensor(0),\n tensor(0),\n tensor(0),\n tensor(0),\n tensor(0),\n tensor(0),\n tensor(0),\n tensor(0),\n tensor(0),\n tensor(0),\n tensor(0),\n tensor(0),\n tensor(0),\n tensor(0),\n tensor(0),\n tensor(0),\n tensor(0),\n tensor(0),\n tensor(0),\n tensor(0),\n tensor(0),\n tensor(0),\n tensor(0),\n tensor(0),\n tensor(0),\n tensor(0),\n tensor(0),\n tensor(0),\n tensor(0),\n tensor(0),\n tensor(0),\n tensor(0),\n tensor(0),\n tensor(0),\n tensor(0),\n tensor(0),\n tensor(0),\n tensor(0),\n tensor(0),\n tensor(0),\n tensor(0),\n tensor(0),\n tensor(0),\n tensor(0),\n tensor(0),\n tensor(0),\n tensor(0),\n tensor(1),\n tensor(0),\n tensor(0),\n tensor(0),\n tensor(0),\n tensor(0),\n tensor(0),\n tensor(0),\n tensor(0),\n tensor(0),\n tensor(0),\n tensor(0),\n tensor(0),\n tensor(0),\n tensor(0),\n tensor(0),\n tensor(0),\n tensor(0),\n tensor(0),\n tensor(0),\n tensor(0),\n tensor(0),\n tensor(0),\n tensor(0),\n tensor(0),\n tensor(0),\n tensor(0),\n tensor(0),\n tensor(0),\n tensor(0),\n tensor(0),\n tensor(0),\n tensor(0),\n tensor(0),\n tensor(0),\n tensor(0),\n tensor(0),\n tensor(0),\n tensor(0),\n tensor(0),\n tensor(0),\n tensor(0),\n tensor(0),\n tensor(0),\n tensor(0),\n tensor(0),\n tensor(0),\n tensor(0),\n tensor(0),\n tensor(0),\n tensor(0),\n tensor(0),\n tensor(0),\n tensor(0),\n tensor(0),\n tensor(0),\n tensor(0),\n tensor(0),\n tensor(0),\n tensor(0),\n tensor(0),\n tensor(0),\n tensor(0),\n tensor(0),\n tensor(0),\n tensor(0),\n tensor(0),\n tensor(0),\n tensor(0),\n tensor(0),\n tensor(0),\n tensor(0),\n tensor(0),\n tensor(0),\n tensor(1),\n tensor(0),\n tensor(0),\n tensor(0),\n tensor(1),\n tensor(0),\n tensor(0),\n tensor(0),\n tensor(0),\n tensor(0),\n tensor(0),\n tensor(0),\n tensor(0),\n tensor(0),\n tensor(0),\n tensor(0),\n tensor(0),\n tensor(0),\n tensor(0),\n tensor(0),\n tensor(0),\n tensor(0),\n tensor(0),\n tensor(0),\n tensor(0),\n tensor(0),\n tensor(0),\n tensor(0),\n tensor(0),\n tensor(0),\n tensor(0),\n tensor(0),\n tensor(1),\n tensor(0),\n tensor(0),\n tensor(0),\n tensor(0),\n tensor(0),\n tensor(0),\n tensor(0),\n tensor(0),\n tensor(0),\n tensor(0),\n tensor(0),\n tensor(0),\n tensor(0),\n tensor(0),\n tensor(0),\n tensor(0),\n tensor(1),\n tensor(0),\n tensor(0),\n tensor(0),\n tensor(0),\n tensor(0),\n tensor(0),\n tensor(0),\n tensor(0),\n tensor(0),\n tensor(0),\n tensor(0),\n tensor(0),\n tensor(0),\n tensor(0),\n tensor(0),\n tensor(0),\n tensor(1),\n tensor(0),\n tensor(0),\n tensor(0),\n tensor(0),\n tensor(0),\n tensor(0),\n tensor(0),\n tensor(0),\n tensor(0),\n tensor(0),\n tensor(0),\n tensor(0),\n tensor(0),\n tensor(0),\n tensor(0),\n tensor(0),\n tensor(0),\n tensor(0),\n tensor(0),\n tensor(0),\n tensor(0),\n tensor(0),\n tensor(0),\n tensor(0),\n tensor(0),\n tensor(0),\n tensor(0),\n tensor(0),\n tensor(0),\n tensor(0),\n tensor(0),\n tensor(0),\n tensor(0),\n tensor(0),\n tensor(0),\n tensor(0),\n tensor(0),\n tensor(0),\n tensor(0),\n tensor(0),\n tensor(0),\n tensor(0),\n tensor(0),\n tensor(0),\n tensor(0),\n tensor(0),\n tensor(0),\n tensor(0),\n tensor(0),\n tensor(0),\n tensor(0),\n tensor(0),\n tensor(0),\n tensor(0),\n tensor(0),\n tensor(0),\n tensor(0),\n tensor(0),\n tensor(0),\n tensor(0),\n tensor(0),\n tensor(0),\n tensor(0),\n tensor(0),\n tensor(0),\n tensor(0),\n tensor(0),\n tensor(0),\n tensor(0),\n tensor(0),\n tensor(0),\n tensor(0),\n tensor(0),\n tensor(0),\n tensor(0),\n tensor(0),\n tensor(0),\n tensor(0),\n tensor(0),\n tensor(0),\n tensor(0),\n tensor(0),\n tensor(0),\n tensor(0),\n tensor(0),\n tensor(0),\n tensor(0),\n tensor(0),\n tensor(1),\n tensor(0),\n tensor(0),\n tensor(0),\n tensor(0),\n tensor(1),\n tensor(0),\n tensor(0),\n tensor(0),\n tensor(0),\n tensor(0),\n tensor(0),\n tensor(0),\n tensor(0),\n tensor(0),\n tensor(0),\n tensor(0),\n tensor(0),\n tensor(0),\n tensor(0),\n tensor(0),\n tensor(0),\n tensor(0),\n tensor(0),\n tensor(1),\n tensor(0),\n tensor(0),\n tensor(0),\n tensor(0),\n tensor(0),\n tensor(0),\n tensor(0),\n tensor(0),\n tensor(0),\n tensor(0),\n tensor(0),\n tensor(0),\n tensor(0),\n tensor(0),\n tensor(0),\n tensor(0),\n tensor(0),\n tensor(1),\n tensor(0),\n tensor(0),\n tensor(0),\n tensor(0),\n tensor(0),\n tensor(0),\n tensor(0),\n tensor(0),\n tensor(0),\n tensor(0),\n tensor(0),\n tensor(0),\n tensor(0),\n tensor(0),\n tensor(0),\n tensor(0),\n tensor(0),\n tensor(0),\n tensor(0),\n tensor(0),\n tensor(0),\n tensor(0),\n tensor(0),\n tensor(0),\n tensor(0),\n tensor(0),\n tensor(0),\n tensor(0),\n tensor(0),\n tensor(0),\n tensor(0),\n tensor(0),\n tensor(0),\n tensor(0),\n tensor(0),\n tensor(0),\n tensor(0),\n tensor(0),\n tensor(0),\n tensor(0),\n tensor(0),\n tensor(0),\n tensor(0),\n tensor(0),\n tensor(0),\n tensor(0),\n tensor(0),\n tensor(0),\n tensor(0),\n tensor(0),\n tensor(0),\n tensor(0),\n tensor(0),\n tensor(0),\n tensor(0),\n tensor(0),\n tensor(0),\n tensor(0),\n tensor(0),\n tensor(0),\n tensor(0),\n tensor(0),\n tensor(0),\n tensor(0),\n tensor(0),\n tensor(0),\n tensor(0),\n tensor(0),\n tensor(0),\n tensor(0),\n tensor(0),\n tensor(0),\n tensor(0),\n tensor(0),\n tensor(0),\n tensor(0),\n tensor(0),\n tensor(0),\n tensor(0),\n tensor(0),\n tensor(0),\n tensor(0),\n tensor(0),\n tensor(0),\n tensor(0),\n tensor(0),\n tensor(0),\n tensor(0),\n tensor(0),\n tensor(0),\n tensor(0),\n tensor(0),\n tensor(0),\n tensor(1),\n tensor(0),\n tensor(0),\n tensor(0),\n tensor(0),\n tensor(0),\n tensor(0),\n tensor(0),\n tensor(0),\n tensor(0),\n tensor(0),\n tensor(0),\n tensor(0),\n tensor(0),\n tensor(0),\n tensor(0),\n tensor(0),\n tensor(0),\n tensor(0),\n tensor(0),\n tensor(0),\n tensor(0),\n tensor(0),\n tensor(0),\n tensor(0),\n tensor(0),\n tensor(0),\n tensor(0),\n tensor(0),\n tensor(0),\n tensor(0),\n tensor(0),\n tensor(0),\n tensor(0),\n tensor(0),\n tensor(0),\n tensor(0),\n tensor(0),\n tensor(0),\n tensor(0),\n tensor(0),\n tensor(0),\n tensor(0),\n tensor(0),\n tensor(0),\n tensor(0),\n tensor(0),\n tensor(0),\n tensor(0),\n tensor(1),\n tensor(0),\n tensor(0),\n tensor(0),\n tensor(0),\n tensor(0),\n tensor(0),\n tensor(0),\n tensor(0),\n ...]"
     },
     "execution_count": 13,
     "metadata": {},
     "output_type": "execute_result"
    }
   ],
   "source": [
    "predictions"
   ],
   "metadata": {
    "collapsed": false,
    "ExecuteTime": {
     "end_time": "2024-04-03T20:16:08.321606898Z",
     "start_time": "2024-04-03T20:16:08.232129317Z"
    }
   },
   "id": "e140c561778a103b"
  },
  {
   "cell_type": "code",
   "execution_count": 23,
   "outputs": [
    {
     "data": {
      "text/plain": "6"
     },
     "execution_count": 23,
     "metadata": {},
     "output_type": "execute_result"
    }
   ],
   "source": [
    "len([predictions for prediction, target in zip(predictions, targets) if target == 1.0 and prediction >= 0.75])"
   ],
   "metadata": {
    "collapsed": false,
    "ExecuteTime": {
     "end_time": "2024-04-03T13:07:03.901154803Z",
     "start_time": "2024-04-03T13:07:03.858022367Z"
    }
   },
   "id": "32d7813949e955ea"
  },
  {
   "cell_type": "code",
   "execution_count": 25,
   "outputs": [
    {
     "data": {
      "text/plain": "232"
     },
     "execution_count": 25,
     "metadata": {},
     "output_type": "execute_result"
    }
   ],
   "source": [
    "len([predictions for prediction, target in zip(predictions, targets) if target == 0.0 and prediction >= 0.75])"
   ],
   "metadata": {
    "collapsed": false,
    "ExecuteTime": {
     "end_time": "2024-04-03T13:07:13.117812689Z",
     "start_time": "2024-04-03T13:07:13.080714713Z"
    }
   },
   "id": "e57209c5f8f11a82"
  },
  {
   "cell_type": "code",
   "execution_count": 42,
   "outputs": [],
   "source": [
    "threshold = 0.5\n",
    "selected_samples = [(sample, target) for sample, target, prediction in zip(samples, targets, predictions) if prediction >= threshold]"
   ],
   "metadata": {
    "collapsed": false,
    "ExecuteTime": {
     "end_time": "2024-04-03T09:50:05.261068691Z",
     "start_time": "2024-04-03T09:50:05.212527580Z"
    }
   },
   "id": "5166c26a53e981c6"
  },
  {
   "cell_type": "code",
   "execution_count": 43,
   "outputs": [
    {
     "data": {
      "text/plain": "[('c1(Cl)cc(SCc2noc(C3CCCN(C(=O)CN(C)C)C3)n2)ncc1', tensor(0)),\n ('c1ccc(CNc2ccccc2N2CCOCC2)cc1', tensor(0)),\n ('c1(Cl)ccc(Cl)c(N2CC3=NC4c5ccccc5C(=O)N4C(c4cccs4)C3(c3ccc(Cl)c(Cl)c3)C2)c1',\n  tensor(0)),\n ('Nc1nc(-c2ccc(OC)cc2)c(Nc2ccc(OC)c(OC)c2)s1', tensor(0)),\n ('CC(=O)n1cc(C=CC(=O)O)c2cc3oc(=O)c(C(CO)CCO)cc3cc21', tensor(0)),\n ('C(=O)N1CCC=C(c2cc(CN(c3cccc(Oc4ccccc4)c3)C)on2)C1', tensor(0)),\n ('COc1oc(C2=CCCN(C)C2)nn1', tensor(0)),\n ('c1ccc(-c2nccn2Cc2ccccc2F)cc1NCc1c(CCOc2c(-c3c(C(C)C)cc(F)cc3)cccc2)noc1',\n  tensor(0)),\n ('C1CC1c1nc2cccnc2n1CC(=O)N1CCS(C(c2cc(OC)c(OC)cc2)=O)CC1', tensor(0)),\n ('c1(NS(C)(=O)=O)ccc(C(=O)O)cc1NC(=O)c1cccc(C)c1C', tensor(0)),\n ('O=c1onc(-c2ccc(C)cc2)nc1SCC(O)=O', tensor(0)),\n ('C(COc1cc(C(C)(O)c2ccccc2Cl)ccc1)CC=CCCC(=O)O', tensor(0)),\n ('CN1CC(=O)N(c2ccccc2C)CC12CCN(Cc1cnn(C)c1)CC2', tensor(0)),\n ('O=C(O)C1CCC2(OC1)C1C(C)(C)CCCC1(C)C(N=O)CC2', tensor(0)),\n ('Cn1c(CC2(C)C(C)=CCCC2(C)C)cccc1=O', tensor(0)),\n ('C1(O)C2OP(=P(F)(=O)OC)(=O)OC1OC(C=O)C2O', tensor(0)),\n ('SC(=NC(=O)c1cc(C)n(-c2ccc(Cl)cc2)c1C)N1CCOCC1', tensor(0)),\n ('N(c1cn2c(S(=O)c3cc(Cl)cc(Cl)c3)c3nc4ccccn4c3c2n(CC)c1=O)CCC', tensor(0)),\n ('c1cc(Br)cc(NC(=O)CN(C)C)c1', tensor(0)),\n ('N1(CCCCOc2cc(-c3ccccc3)c3c4c(cc(F)cc4)oc(=O)c3c2)CCN(C)C1', tensor(0)),\n ('c1(C(O)=O)ccc2nc(NC(=O)COc3ccc(Cl)cc3Cl)sc2c1', tensor(0)),\n ('O(c1ccc(O)c(CCc2ccccc2)c1)CCNS(c1cc2ccccc2[nH]1)(=O)=O', tensor(0)),\n ('c1(C(F)F)nc(NCN2C=NS(=O)(=O)c3c(F)c(OC)ccc32)nnc2cc3c(cc(COC)cn3C)cc12',\n  tensor(0)),\n ('N=C(NCCc1ccccc1)c1ccc(C2OOC(c3ccc(C(NC(CC(O)=O)=NCCc4ccccc4)Cc4ccccc4)cc3)C2)o1',\n  tensor(0)),\n ('CN(C)c1ccc(-n2nc(SCC(=O)Nc3ccc(C)cc3)nc2-c2ccccc2)cc1', tensor(0)),\n ('N12CCCCCC1C(N=C(Nc1c(C)nccc1)NN)C(CC1CCCCC1)=C2C', tensor(0)),\n ('COc1cc(OC)c(C(=O)C=Cc2c(C=Cc3ccc(OC)c(OC)c3)cc(OC)cc2OC)c(OC)c1',\n  tensor(0)),\n ('C(#N)c1ccc(-c2c3cc([N+](=O)[O-])ccc3nc(C#N)n2)cc1', tensor(0)),\n ('C(n1cncc1-c1ccc(NS(=O)(c2c(F)cc(Cl)cc2)=O)cc1)NC(CC(=O)O)N(C(N)=O)Cc1ccccc1',\n  tensor(0)),\n ('c1(OCc2oc3c(n2)C2c4cccc5c4C2c2c(cccc2CN5C)C3)ccc(CO)cc1', tensor(0)),\n ('c1cc(F)c(Oc2c(OC)c(C)c(OC)cc2)c(CCC(CNC)=O)c1', tensor(0)),\n ('c1c(OC)cc(CCNc2ncnc3c2nc(-c2ccccc2)n3CCCC)cc1', tensor(0)),\n ('FC1(F)C(=C(n2nc(C)cc2C)n2cc(C(=O)c3ccc([N+](=O)[O-])cc3C(=O)Nc3ccc(Cl)cn3)nn2)OC(n2ccccc2=O)C1',\n  tensor(0)),\n ('c1c(O)cccc1C=NCCCCNCCCNN=Cc1c2ccccc2c(OC)n1-c1ccc(F)cc1', tensor(0)),\n ('CCN(CCNC(=O)NC)Cc1csc(-c2ccccc2)n1', tensor(0)),\n ('O=C1N(Cc2cncn2Cc2cc3cc(C(F)(F)F)ccc3o2)CCCC1', tensor(0)),\n ('O=C(C1=NC(C=Cc2ccccc2)CS1)c1ccc(Cl)cc1', tensor(0)),\n ('Oc1c(Cc2cc(F)cc(F)c2)ccc(-c2cc3cc(O)ccc3o2)c1', tensor(0)),\n ('OC1C=CC(=NN)C(n2c(-c3ccccc3)nnc2CNC(=O)Cc2ccccc2)O1', tensor(0)),\n ('OCC(Cc1c[nH]cn1)NC(Cc1cncc(-c2ccc3c(c2)CCCO3)c1)=O', tensor(0)),\n ('O=C(CN1c2ccccc2Oc2ccccc21)NCc1sc2c(c1)ccc(F)c2', tensor(0)),\n ('C=CC(=O)OCCOCN1C(=O)NC(Cc2ccc(O)cc2)C1=O', tensor(0)),\n ('c1c2c(C)nn(CC(c3ccc(Cl)cc3Cl)C(O)=NCC)c2cnn1', tensor(0)),\n ('C=CC(O)=Nc1cccc(F)c1C', tensor(0)),\n ('COc1ccc(C2N(CC)C(=O)C2CCc2ccc(O)cc2)cc1', tensor(0)),\n ('c1c(CC(Nc2c(C(=O)N)cnc(N3CCC(NS(=O)(=O)c4ccc(-c5ccoc5)s4)CC3)c2C)=O)cccc1',\n  tensor(0)),\n ('O=C(Nn1c(-c2ccccc2)cc(C(Br)=O)c1)c1ccccc1', tensor(0)),\n ('C(CCC=Nc1ccc1)C=CC(=O)c1cc(OC)c(O)cc1', tensor(0)),\n ('c12cc(Cc3nnc(N)s3)ccc1(C(F)(F)F)ccc2OC1CCCC1', tensor(0)),\n ('C(c1ncc(-c2c(Oc3ccc([N+]([O-])=O)cc3)cccc2)cc1)(c1c[nH]cc1)=O', tensor(0)),\n ('C1COCCN1C1(c2ccco2)CN(CCc2c(C)[nH]c3ccccc23)C1', tensor(0)),\n ('N(CC(=O)O)c1ccc(Cl)cc1NC(=O)c1c(C)cccc1', tensor(0)),\n ('C1C2=C3C(=O)C(=O)C(C(=O)C=C(C)CCC(CCOc4cc(OC)cc(OC(F)F)c4)C3(C)C)=C(C)CC(O)C2C1',\n  tensor(0)),\n ('CC1(CN2C(=O)c3c(c4cc(OC(F)F)ccc4n3CC)C2)Nc2cccnc2NC1=O', tensor(0)),\n ('C1=C(CN2C(=O)c3cc(Br)cnc3C2=O)c2ccc(C)cc2OC1', tensor(0)),\n ('C(c1cc(C(=O)Nc2ccc(Cl)c([N+](=O)[O-])c2)nc(Nc2ccc(-c3ccncc3)cc2)n1)(N)C',\n  tensor(0)),\n ('c1([N+]([O-])=O)c[nH]nc1NCCc1ccccc1', tensor(0)),\n ('CN(Cc1c(Br)ccc2ncccc12)CCN(C)C', tensor(0)),\n ('Cc1c(C)c2ccc(OP(C)(=O)Oc3ccccc3)cc2oc1=O', tensor(0)),\n ('CCCC(=O)N1CCC(NS(=O)(c2ccc(NC(=O)c3c(-c4ccccc4)noc3C)cc2)=O)CC1',\n  tensor(0)),\n ('COc1cc2c(Oc3ccc(-c4cccc(C(F)(F)F)c4)cc3)cnnc2cc1O', tensor(0)),\n ('CCC#CC1(O)C=Cc2c(Cl)cc(Cl)cc21', tensor(0)),\n ('c1ccc(OC)c2c(=O)n(-c3cc(S(N(C)C)(=O)=O)cc(C)n3)ccc12', tensor(0)),\n ('CCC1CN(C(=O)N2CCC(C)(N3CCc4c(-c5cnc(=N)[nH]c5)nc(N5CCS(=O)(=O)CC5)nc43)C2)C1',\n  tensor(0)),\n ('c1(C2CN3CCCC(C2)NC(=O)C3)ccc2c(c1)OCO2', tensor(0)),\n ('c1c(CNCn2oc3cc(F)c(F)cc3c2=O)cc(Cl)cc1', tensor(0)),\n ('c1(CNCC2CCNCC2)ccc(-c2nsc(Nc3cc(C)ccn3)n2)s1', tensor(0)),\n ('c1(CCn2nc(C)c3sccc3c2=O)cccnc1', tensor(0)),\n ('c1ccc(-c2nc(CN3CCNC3=Nc3ccccc3)on2)nc1C#N', tensor(0)),\n ('Oc1nccc(-n2c(-c3cccc(C)c3)ccc2)c1', tensor(0))]"
     },
     "execution_count": 43,
     "metadata": {},
     "output_type": "execute_result"
    }
   ],
   "source": [
    "selected_samples"
   ],
   "metadata": {
    "collapsed": false,
    "ExecuteTime": {
     "end_time": "2024-04-03T09:50:07.441163820Z",
     "start_time": "2024-04-03T09:50:07.400669223Z"
    }
   },
   "id": "9e30abc88707f99a"
  },
  {
   "cell_type": "code",
   "execution_count": 39,
   "outputs": [],
   "source": [
    "correct_selected_samples = [sample for sample, objective in zip(selected_samples, selected_objective) if objective >= 0.9]"
   ],
   "metadata": {
    "collapsed": false,
    "ExecuteTime": {
     "end_time": "2024-04-03T09:49:06.004620077Z",
     "start_time": "2024-04-03T09:49:05.959982940Z"
    }
   },
   "id": "cc4555bb46767bc7"
  },
  {
   "cell_type": "code",
   "execution_count": 41,
   "outputs": [
    {
     "data": {
      "text/plain": "0.014285714285714285"
     },
     "execution_count": 41,
     "metadata": {},
     "output_type": "execute_result"
    }
   ],
   "source": [
    "len(correct_selected_samples) / len(selected_samples)"
   ],
   "metadata": {
    "collapsed": false,
    "ExecuteTime": {
     "end_time": "2024-04-03T09:49:09.252793895Z",
     "start_time": "2024-04-03T09:49:09.186016990Z"
    }
   },
   "id": "3de713a6ea72d19"
  },
  {
   "cell_type": "code",
   "execution_count": null,
   "outputs": [],
   "source": [],
   "metadata": {
    "collapsed": false
   },
   "id": "ea2eb30840093759"
  },
  {
   "cell_type": "markdown",
   "source": [
    "We generated 640 samples (10 sampling iters with batch size equal to 64). This took 30 minutes, hence generating one molecule takes 2.8 seconds. From 640 molecules, 22 have QED >=0.9, which is 1.8 \\% of the data.  Hence, we can expect that upon sampling 10^4 molecules, we would sample "
   ],
   "metadata": {
    "collapsed": false
   },
   "id": "8299c8f0f3f92e1d"
  },
  {
   "cell_type": "code",
   "execution_count": 37,
   "outputs": [],
   "source": [
    "data = chunks(dataset.data, 10)"
   ],
   "metadata": {
    "collapsed": false,
    "ExecuteTime": {
     "end_time": "2024-04-01T14:44:12.936532462Z",
     "start_time": "2024-04-01T14:44:12.927674691Z"
    }
   },
   "id": "bde18f87af5ef576"
  },
  {
   "cell_type": "code",
   "execution_count": 38,
   "outputs": [
    {
     "name": "stdout",
     "output_type": "stream",
     "text": [
      "['CCOC(=O)CCCn1nnnc1-c1ccc2c(c1)c(Cc1ccccc1)cn2Cc1ccccc1', 'O=C(Nc1cc(S(=O)(=O)N2CCCCC2)ccc1Cl)c1cc(=O)c2ccccc2o1', 'CCc1cc(Nc2ncc3c(n2)-c2c(nn(C)c2-c2ccc(F)cc2)CC3)n[nH]1', 'O=C(Nc1ccccc1C(=O)NN=Cc1c(O)ccc2ccccc12)c1cc(-c2ccccc2)nc2ccccc12', 'O=C1NC(=O)C2(CCOc3c(CC(F)(F)F)cccc32)N1', 'CCc1nn(Cc2ccc(CCC(=O)O)c(C)c2)c(=O)c2cccn12', 'Cc1onc(-c2ccc(F)cc2)c1CNc1ccc(C(=O)NCC2CCOC2)cn1', 'CC(=NN=C(N)S)C1=C(O)OC(c2ccccc2[N+](=O)[O-])(c2ccccc2)O1', 'O=C1c2cccnc2C(=Nc2ccccc2C(=O)O)c2ccccc21', 'CNC(=O)C1CCCCNC(=O)CCCCNC(=O)OCCCC(C(=O)NO)C(CC(C)C)C(=O)N1']\n",
      "['S=C(S)NN1CCOCC1', 'CC(=NOCC(=O)OCC(=O)N1c2ccccc2Sc2ccccc21)c1ccccc1', 'Cc1csc(Sc2c(C=C3SC(=S)NC3=O)c(C)nc3c(C(F)(F)F)cccc23)n1', 'S=C(c1nnc[nH]1)N1CCc2ccccc21', 'Cc1cc(NC(=O)C=Cc2ccco2)no1', 'Oc1nc2cccc(Cl)c2c(O)c1-c1csc(-n2ccnc2)n1', 'CCON=Cc1ccc(OCC)c(N)c1', 'COc1cc(S)ccc1C(=O)OC(C)C(=O)N1CC(C)OC(C)C1', 'ON=C(NCc1cc(F)cc(F)c1)c1ccnc(Oc2cccc(Cl)c2)c1', 'CCCN1Cc2cccc(OC)c2OP1(=S)OCC']\n",
      "['Cc1cccc(OCC=NNC(=O)c2ccncc2)c1', 'Cc1ccc(-c2nc(C(=O)NN(CC(C)C)c3c(N)n(Cc4ccccc4)c(=O)[nH]c3=O)cs2)o1', 'CC(=O)Nc1cc(-c2ccnc3c(C(C)C)cnn23)ccc1F', 'Cn1cnnc1SCC(=O)Nc1cc(Oc2cccc3c(N(CCC#N)CCN4CCCC4)cc(N(CC4CC4)CC4CO4)nc23)c(F)cc1F', 'CC(O)(Cc1cc2cc3c(cc2nc1O)OCO3)c1cccc(C#N)n1', 'CCON(CC)C=C1CCn2c1nc(=O)c1oc(=O)n(CC)c12', 'COC(=O)CNC(=O)C(CC(C)C)NC(=O)c1ccccc1', 'CCOc1ccccc1NC(=O)c1c(NC(=O)C2CCCO2)sc2c1CCC(C(C)(C)C)C2', 'NCCCN(CCNCCCCCNCCN)S(=O)(=O)O', 'O=c1c2ccccc2nc(-c2ccccc2O)n1Cc1ccccc1']\n",
      "['O=C(NCCS(=O)(=O)NCc1ccco1)c1csc(Br)c1', 'Fc1cccc(Nc2ncc3c(n2)CCNCC3)c1', 'CCCCOC1(C(C)=O)CC(=O)N(c2ccccc2)C1=O', 'Cc1n[n+]([O-])c2cc(Cl)ccc2[n+]1[O-]', 'COc1ccc(OC)c(C(=O)C=C2Nc3ccccc3SC2=S)c1', 'CCOc1cc(C(=S)N2CCCC2)cc(OCC)c1Br', 'CNC(=N)Cc1ccc(N)cc1', 'CCc1[nH]c(=O)c(Cc2cc3cc(OCCC4CCN(C)CC4)ccc3[nH]c2=O)cc1OC', 'O=C(O)c1cnc(NCc2ccccn2)c2cc(-c3cccnc3)ccc12', 'COc1ccc2c(Cl)c(C(F)(F)F)sc2c1']\n",
      "['CC(C)(C)OC(=O)NC(C(=O)N1CC2C(C1C(=O)NC(CC1CC1)C(=O)C(N)=O)C2(C)C)C1CCCCC1', 'CC1NC(=Cc2coc3c2C(=O)c2ccccc2C3=O)C(F)(F)C1(F)F', 'Cl', 'Clc1ccc(-c2noc(CN3CCCC3Cn3cccn3)n2)cc1', 'NCc1cn(CC(=O)Nc2c(CNC(=O)c3ccc(Cl)s3)csc2Cl)nn1', 'Cc1cc2nnc(N)nc2c(C)n1', 'Cc1sc2ncnc(SCC(=O)N(C)c3ccccc3)c2c1C', 'O=[N+]([O-])c1cn2c(n1)OCC(OCc1ccncc1C(F)(F)F)C2', 'CCOc1cc(C)nc(N(C)C(C)c2nncn2C)n1', 'N=C(Nc1ccccc1)Nc1ccc2cc3ccccc3nc2c1']\n",
      "['C=C1CCC2C(C)(CO)C(O)CCC2(C)C1=CC=O', 'Cn1ncc(Cl)c1-c1cc(C(=O)NS(C)(=O)=O)ccc1Cl', 'O=C(NCCCNC1CCN(Cc2ccc3c(c2)OCO3)CC1)c1cc(Cl)cc2ccccc12', 'N=C(N)NCc1nc2[nH]c3ccccc3c2[nH]1', 'CC1(CN=C(O)c2ccc(F)c(Cl)c2Cl)CC2CC(c3cccc(OC(F)F)c3)C(N)C2O1', 'COc1cc(-c2ccc3ncnc(Nc4cccc(O)c4)c3c2)ccc1C', 'CNS(=O)(=O)NNC(=O)OC(C)(C)C', 'Fc1ccc(-c2[nH]cnc2-c2ccccn2)cc1', 'OC(=NCCc1c[nH]c2ccc(Cl)cc12)c1cccc(OC(F)(F)F)c1', 'COC(=O)C1CCSC2(C)CCC(C)(OC(C)=O)C(=O)N12']\n",
      "['CC12CCCCC(C=O)=C1CCC1C2CCC2(C)C1CCC2(O)Cc1ccc2ccccc2c1', 'COc1c(-c2c(C)cc3c(C(N)=O)c(O)c(O)c(C#N)c3c2C)ccc(Br)c1Br', 'Cc1[nH]cnc1CSCCNC(=S)Nc1ccc2c(c1)CCC2', 'Cc1cc(C)c2nc(COc3ccc(CC(=O)O)cc3Cl)n(C(C)C)c2c1', 'CS(=O)(=O)c1cc(-c2cncnc2)cc2c1SCC2CO', 'O=C(NO)c1ccc(S(=O)(=O)Nc2ccccc2)cc1', 'CCC(c1nnnn1Cc1ccc(C)cc1)N1CCN(c2nc3c(C)c(C)ccc3s2)CC1', 'CC(C)c1ccc(N2CC3(CNC(c4ccccc4)C3)OCC2=O)s1', 'COc1ccc(CC2CCCC2)c(Nc2nc3ccccc3nc2NS(=O)(=O)c2cc(OC)c(OC)c(OC)c2)c1', 'COc1cc(Oc2nc(F)nc(N)n2)c(Cl)cc1Cl']\n",
      "['O=[N+]([O-])c1ccc2[nH]ncc2c1', 'COc1ccc(-c2[nH]ncc2-c2ccc3nccnc3c2)cc1', 'Fc1ccc(Oc2ccc(OCCN3CCCC3)cc2Cl)cc1', 'CCCOc1ccc(N2CC(c3ccc(C(C)NC(C)=O)cc3)OC2=O)cn1', 'CCc1ccc2nc(Nc3nc(O)cc(CSc4nnc(N)s4)n3)nc(C)c2c1', 'CC1=CCCC2C1(C)CC(C(C)(O)COP(=O)(O)OP(=O)(O)O)CC2(C)CCC1=CCOC1=O', 'Cc1cc2c(cc1C)[n+]([O-])c(C(=O)C=Cc1[nH]c(C)cc1O)c(C)[n+]2[O-]', 'N=C(N)Nc1ccc(-c2c(C(F)(F)F)c3ccc(N4CCNCC4)cc3n2Cc2ccccc2Cl)c(Cl)c1', 'CCCCCCCN(CCCCCCC)CC(O)c1cc(C(=O)c2cc(Cl)ccc2Cl)nc2c(C)cccc12', 'CCc1ccc(NC(=O)c2cc(N3CCC(N4CCCCC4)CC3)cc(C(F)(F)F)c2)cc1']\n",
      "['CCOC(=O)c1cc(-c2ccc(C)cc2)nc2c1c(C)nn2C', 'Cc1ccc(Cc2c(N)nc(N=[N+]=[N-])nc2O)cc1', 'C=C1C=CC(=O)C(C)(C)C1CCC(C)=O', 'COc1ccc(CCOC2OC(COC3OC(CN)C(O)C3OCCCCCCNC(=O)CC(O)CCC3OC(CO)C(O)C(O)C3O)C(O)C(O)C2O)cc1OC', 'C=CCOc1ccc(F)c(F)c1-c1ccc(-c2ncc(N)n2C(=O)N(C)C)c(F)c1', 'C=C1C(=O)C23C(OC(=O)NCc4cccs4)C1CCC2C12COC3(O)C(O)C1C(C)(C)CCC2=O', 'CC(O)=Nc1nc(CN2CCN(C(=O)c3csc(C(NC(=O)OC(C)(C)C)C(C)C)n3)CC2)nc2ccccc12', 'CNCC(CC(C)C)NC(=O)c1ccc(C(F)(F)F)cc1OCC1=CCNCC1', 'c1csc(P(CP(c2cccs2)c2cccs2)c2cccs2)n1', 'Fc1ccc(OCCCNCCc2cc[nH]c2)c(F)c1']\n",
      "['Cc1cnn(-c2nc3ccc(N4CCCC(C(=O)N5CC=CC5)C4)nc3s2)c1C', 'O=C(O)c1ccc(NN=Cc2ccc(-c3ccc(Cl)cc3)o2)cc1', 'O=S1(=O)N=C(NC2CC2)Nc2cc(-c3csc(Br)c3)c(-c3cccnc3)cc21', 'CC1(C)CN(c2cc(F)c(-n3nc(C(=O)O)c4c3-c3ccccc3S(=O)(=O)C4)c(F)c2)C1', 'COC(=O)C(O)CCCC(=O)O', 'COCn1c(=O)sc2cc(-c3cccc(Cl)c3)ccc21', 'CCCC(C)(O)C(=O)N1CC=C(c2ccc(NC(=O)N3Cc4ccncc4C3)cc2)CC1', 'Nc1nnc(COC(=O)c2cc(-c3ccccc3)nc3ccccc23)s1', 'CCOC(=O)c1c(S(=O)(=O)N2CCC(C(=O)N3CCC(C)CC3)CC2)c(C)n(C)c1C', 'N=C(Nc1ccc(Cl)c(Cl)c1)N1CCc2ccccc2C1']\n",
      "['Cc1nnc(SCc2cc(N3CCOCC3)cc(NCc3ccc(Br)cc3)n2)n1C', 'O=C1C(Cl)=C(N2CCN(C(=O)c3ccccn3)CC2)C(=O)c2c1ccc(O)c2[N+](=O)[O-]', 'O=C1SC2(CC3CCC2C3)C(=O)N1CCCCN1CCN(c2ccccn2)CC1', 'CC(C)CC1C(=O)NC(C2Cc3ccccc3C2)C(O)C(O)C2CCCON2C(=O)C2(C(N)=O)Cc3ccccc3C(N1C)C2', 'COc1ccc(NC(S)=NNC(=O)CSc2nnc(SCc3cccc4ccccc34)s2)cc1', 'CCOC(=O)N1CCC(NC(=O)c2ccc3c(C4CCCC4)c(-c4nccs4)n(C)c3c2)(C(=O)Nc2cc(C=CC(=O)O)cs2)CC1', 'Cc1ccc(SCC(=O)NC2CCOC2=O)cc1', 'Fc1ccc(-c2csc(NS(=S)(=S)c3ccc(Cl)cc3)n2)cc1', 'C=C(C)C1CC=C2C(CCC3(C)C(C(C)CCC(=O)O)CCC23)C1(C)CCC(=O)O', 'Oc1ccc(-c2c(-c3cc(-c4ccc(O)c(O)c4)on3)n[nH]c2-c2ccc(O)cc2)cc1']\n",
      "['Brc1ccc2[nH]c3c(c2c1)CCC(N1CCCCC1)C3', 'CN1C(=O)c2cccnc2C1=NOC(=O)c1ccccc1', 'Cc1cc(O)cc(C)c1CC(N)C(=O)NC(Cc1c(C)cc(C)cc1C)C(=O)Nc1cccc2c1CCC2', 'CC(Cl)=CCN1C(=O)C2CCC1CN(C(=O)CCCN(C)C)C2', 'O=S(=O)(C1(c2ncon2)CCN(CC2CCOCC2)CC1)N1CCOCC1', 'NN=C(S)Nc1cccc(Cl)c1', 'CCn1cc2c(n1)C(COC)CN(C(=O)COc1ccccc1)C2', 'CCOc1ccc(-c2ccc(CCC(NC(=O)C3CCC(=O)N3Cc3ccccc3)C(=O)O)cc2)cc1', 'CCN(CC1CCC(NS(=O)(=O)c2ccc(Cl)cc2)CC1)C1CCc2nc(N)sc2C1', 'CCn1cc([N+](=O)[O-])nc1C']\n",
      "['Cn1ncc2nnc(S(N)(=O)=O)nc21', 'O=C(c1cccc(F)c1Cl)N(CCc1ccncc1)C1CCNC1', 'O=C1OC(=O)N(c2ccc(Cl)c(-n3cc(-c4ncc(C(F)(F)F)cn4)cn3)c2)C1c1ccccc1F', 'CS(=O)(=O)c1cccc(C2CCOc3cc4c(cc32)nc(-n2sc(=O)cc2S(N)(=O)=O)n4C2CC2)c1', 'CC(NCCCC(=O)C1c2ccccc2CCc2ccccc21)C(=O)O', 'CCOc1ccc(NC(=O)Nc2ccsc2)cc1OC', 'Cc1ccc(N)cc1Cn1c(=O)c(C)nc2cnc(Nc3ccccc3)nc21', 'Oc1cc(-c2c(-c3ccccc3)nn3c2NCC3)ccc1Cl', 'CCc1[nH]n(C(=N)S)c(=O)c1N=Nc1ccc(C(=O)N2N=C(C)CC2(O)C(F)(F)F)cc1', 'CCN=c1scc(C)n1-c1ccccc1']\n",
      "['CCn1c(=C2C(=O)N(c3cccc(F)c3)c3cc(Cl)ccc32)sc(=Cc2ccc(O)cc2)c1=O', 'CN(C)c1ncc2nc(CCc3ccccc3)c(=O)n(CCC#N)c2n1', 'Cc1noc(NS(=O)(=O)c2ccccc2-c2ccc(-c3ccccc3)cc2)c1C', 'COc1ccc(C2NC(=O)SC23C(C(C)=O)C2C=CC3C23CC3)cc1', 'CC(C)CC(=O)N(c1cnc(-c2ccccc2)c(-c2n[nH]c(=S)o2)c1)C1CCC1', 'CC(=O)Nc1ccc(-c2ccc(C#N)nc2OCC2CCC3CCCCN3C2)cc1', 'C=CCN(C)N=Nc1ccc2[nH]cnc2c1', 'CCN1CCCc2c1c1c(O)c(OC)cc(OC)c1c1sccc21', 'COc1cc(N)c(Cl)cc1C(=O)NC1CCN(CCO)CC1', 'FC(F)(F)Cc1nc2cc(Cl)c(Cl)cc2n1Cc1ccccc1F']\n",
      "['COCCCOc1cc(CC(CC(N)C(O)CC(C(=O)NCC(C(=O)NCC(C)(C)Cn2cc(C)cn2)C(C)C)C(C)C)C(C)C)ccc1OC', 'C=CCC1C(Cc2ccc(F)cc2)C(=O)N(Cc2cccc(Br)c2)C2CC12', 'CN(C)S(=O)(=O)c1ccc(-c2noc(C(F)(F)F)n2)s1', 'CC1=NN(C(N)=S)C(=O)C1N=Nc1ccccc1C', 'O=C(Cn1cccn1)Nc1ccc(C(=O)Nc2ccccc2F)cc1', '[N-]=[N+]=Nc1cc(COC(=O)CN2CCCCC2)c2ccccc2n1', 'CC12CC(C)(C(=O)O)CC(C(=O)O)(C1=O)C(=O)C1OC12', 'COc1c(Cl)nc2c(c1NC1CCCC1)c(=O)n(C)c(=O)n2C', 'COc1cc(S(=O)(=O)n2cnc3ccc(F)cc32)ccc1Cl', 'CN1CCN(c2ccc(S(=O)(=O)Nc3ccc4[nH]c(CO)nc4c3)cc2)CC1']\n",
      "['COc1nccc2sc(-c3nnc4ccc(-c5ccnn5C)nn34)nc12', 'COc1ccccc1-n1c(Cc2cccs2)nnc1SCC(=O)N1CC(=O)Nc2ccccc21', 'O=C(O)Cc1nc(-c2ccco2)oc1-c1ccco1', 'O=S(=O)(c1cccs1)N1N=C2COc3ccc(Cl)cc3C2C1c1ccco1', 'O=C(Nc1ccc(Cl)c(Cl)c1)NC1CCNCC1', 'Clc1ccc(Sc2cccn3c(C4CCOCC4)nnc23)cc1', 'O=C1c2c(c3c4oc(=O)n(Cc5ccnc(F)c5)c4n(C4CC4)c3c3[nH]c4ccncc4c23)C(=O)N1CC1CC1', 'CC(=O)Oc1ccc(C(=O)ON=C2CCN(c3ncccn3)CC2)cc1OC(C)=O', 'CC(OC(=O)C=Cc1ccc(Cl)cc1)C(=O)NCC1CCCCC1', 'COc1ccc(Cl)c(Sc2ccc(CN3CCC4(CC3)OCCc3sccc34)cc2)c1']\n",
      "['Nc1ccc(S(=O)(=O)c2ccc(N=Nc3ccc(O)cc3O)c(Cl)c2)cc1', 'O=C(c1cc2ccccc2oc1=O)N(CCc1ccccc1)C1CCS(=O)(=O)C1', 'CCCCCCCCn1c(-n2c(=O)[nH]c3ncccc32)nc2cnccc21', 'O[N+](=Cc1ccc(Oc2c(Br)cc(Cl)cc2Br)o1)Cc1ccco1', 'COCc1cnc2c(NC(=O)c3cccc(N4CCN(CCc5ccccc5)CC4)c3)cccc2c1', 'Cc1occ[n+]1CC(O)(P(=O)([O-])O)P(=O)(O)O', 'O=C(Nc1ccc2c(C(=O)C3CC3)n[nH]c2c1)N1CCC(c2noc3cc(F)ccc23)CC1', 'O=CC1=CC=C(c2ccc(Cl)cc2)CC1c1cccs1', 'COC(=O)c1ccc(C(=O)N2CCN(CN3C(=O)NC(c4ccccc4)(c4ccccc4)C3=O)CC2)cc1', 'CC(C)(CCCOc1cc2c(c3ccccc13)CCCc1ccc(OCCCC(C)(C)C(=O)O)cc1-2)C(=O)O']\n",
      "['CCOC(=O)Cn1ncc(NC(=O)c2ccco2)c1OCC', 'CC(C)(CN=C(O)c1cnc(N=c2[nH]c(=NC3CC3)n3ncc(C=C4N=C(O)N=C4O)c3[nH]2)cn1)C(F)(F)F', 'COCCNC(=O)c1nc(Cc2ccc(F)cc2)no1', 'NC=NC(Cc1ccc(N(S(=O)(=O)O)S(=O)(=O)O)cc1)C(=O)NCCCCCCCCCCBr', 'Clc1ccc(C=NNc2cnc3ccccc3n2)cc1', 'COc1cccc(C2(C)SC(NC(C)=O)=NN2C(C)=O)c1', 'NS(=O)(=O)c1ccc(Nc2ncc(Br)c(NCC3CCCO3)n2)cc1', 'Cc1ccnc(NC(=O)OCc2ccc(NC(=O)Nc3cnn(C)c3)cc2)c1', 'Cc1ccc(N(C)C(C)C(=O)c2c[nH]c3ccccc23)cc1', 'CCN(CC)S(=O)(=O)c1ccccc1C(=O)NC(C)(C#N)COc1ccc(C)c(C)c1']\n",
      "['OC(Cn1cccn1)c1cc(Cl)cc(Cl)c1', 'Cc1oc(C(=O)O)cc1S(=O)(=O)N(CC(=O)O)Cc1ccco1', 'C=C(C)c1ccc(O)c(C=NC23CC4CC(CC(C4)C2)C3)c1', 'CCn1nc(C#Cc2ccccn2)c2c(N)ncnc21', 'CC1=C(NC(=O)CCC(=O)O)C(=O)c2c(F)c(F)c(F)c(F)c2C1=O', 'COC(=O)Nc1ccc(S(=O)(=O)NCC2CCCO2)cc1', 'N#Cc1c(-n2c(=S)sc3c(=O)n(-c4ccccc4)c(=S)[nH]c32)sc2c1CCC2', 'O=C(Cc1ccncc1)NCC1CC(Br)=NO1', 'Oc1cccc(CNc2ccc(OCCOCCOc3cccc(Nc4nc5ccccc5[nH]4)c3)cc2)c1', 'O=C(O)CCN1Cc2ccccc2C(c2ccc(F)c(F)c2)C1']\n",
      "['CC(OC=CN1Cc2cccc3nc(O)n(c23)CC1C)(C(F)(F)F)C(F)(F)F', 'Cc1c(C(=O)NC(Cc2cccs2)C(O)C(=O)N2CSC(C)(C)C2C(=O)NC(C)(C)C)ncn1Cc1ccccc1', 'CC=C(C)CN1CCC(n2nccc2NC(=O)CCc2ccccc2)CC1', 'COc1cc2cc(NC(=O)CCCCC(=O)N3CC4CC(C3)c3cccc(=O)n3C4)c(=O)oc2cc1OC', 'CN(CC(CCN1CCC(n2c(O)nc3ccsc32)CC1)c1ccc(Cl)c(Cl)c1)C(=O)c1cc(C#N)cc2ccccc12', 'O=C(NC1C(O)OC(CNS(=O)(=O)CC(F)(F)F)C(O)C1O)c1cccc(OCCF)c1', 'COc1ccc(-c2c(NC(=O)NC(C)C)n(C)c(=O)n(C)c2=O)cc1OC', 'CCOc1nc(N)nc2nn12', 'COc1ccc(CC(=O)O)cc1-c1ccc(F)c2c1CN(C(=O)CC1CCOc3cc4nccc(N5CCCC5c5ccccn5)c4cc31)CC2', 'O=C(NC1C2CC3CC1CC(O)(C3)C2)c1ncncc1Br']\n",
      "['CSc1cnc2ccccc2c1[Se]CC#CCOC(=O)c1ccc[n+](C)c1', 'OC(COc1c(C2=CCCCC2)sc2ccccc12)CN1CCOCC1', 'CCCCCCCCCCCC(=O)SSC(=O)CCCCCCCCCC', 'CN(C)C(=S)NC(=O)c1csc(C2CC2)n1', 'CC(C)(O)CNc1snc(O)c1-c1nc2ccccc2s1', 'NN=C(CCC(=O)O)N(Cc1cnc2ccccc2c1)Cc1ccc(F)c(F)c1', 'O=C(Nc1ncc(-c2ccc(NC(=O)c3cccs3)cc2)s1)c1ccco1', 'Nc1nccc(-c2c[nH]c(C3CC3)n2)n1', 'S=C(NCc1ccccc1)N1CCCC1', 'Cc1ccc2[nH]c(N=NN(C)C)cc2c1']\n",
      "['CSCc1cn(-c2ccc(F)cc2)nn1', 'CCNC(=O)C1OC(n2cnc3c(NCc4ccc(Br)cc4)ncnc32)C(O)C1O', 'NP(=O)(OCC1=C(SC2COC(CCP(=O)(O)O)C(F)C2)C(=O)c2ccccc2C1=O)N(CCCl)CCCl', 'COc1ccc(C=NNC(N)=S)cc1Cn1cc([N+](=O)[O-])cn1', 'C=C1CC(c2cccs2)N(C(C)C(=O)OC)C1', 'COc1ccccc1-c1c2c(c(O)c3ncccc13)C(=O)N(Cc1ccc(F)cc1)C2', 'CCc1ccc(-n2c(=O)[nH]c3sc4c(c3c2=O)CCCC4)cc1', 'S=C(c1ccccc1)N1CCN(c2nc(-c3ccc(Cl)cc3Cl)c(-c3nc(-c4ccc(Cl)cc4)no3)s2)CC1', 'O=C(CN1C(=O)c2cccnc2Oc2ccc(Cl)cc21)NCC1CCCCC1', 'O=C(OC1Cn2c(-c3ccc(Cl)cc3)c(CSC(=S)N3CCOCC3)c3cc(=O)c4cc(F)ccc4n3c2=O)c2ccccc2C1=O']\n",
      "['S=C(NCCCN1CCOCC1)Nc1cccc(Cl)c1', 'Cc1nc(CNc2nc(SCCOc3ccccc3F)nc3ccccc23)no1', 'O=C(OCN1C(=O)c2ccccc2C1=O)c1cc(Cl)ccc1Cl', 'Cc1ccc[n+](C2=C([N-]S(=O)(=O)c3ccc(C)cc3C)C(=O)c3ccccc3C2=O)c1C', 'CCc1ncc(C#N)c(NCc2ccc(-c3ccccc3S(C)(=O)=O)cc2)n1', 'CCOC(=O)c1cnc(SCC(=O)c2ccc(Br)cc2)nc1N', 'COC(C)CCn1c(CCC(C)C)nc2cnccc21', 'COC(=O)CN=C1N=C(c2ccc(OC(F)F)cc2)CC(c2ccc(OCCCC(F)(F)F)cc2)N1', 'FC(F)(F)c1c(Nc2nc3ccccc3s2)[nH]c2ccccc12', 'O=C1Nc2ccc(CNc3ccccc3F)cc2C(C#CC#CC2CC2)(C(F)(F)F)O1']\n",
      "['O=C1c2cccc(O)c2-c2nn(Cc3ccccc3)c3cc(F)cc1c23', 'c1ccc(-c2cnc3[nH]cc(-c4cc[nH]n4)c3n2)cc1', 'O=C(O)C=CC(=O)Nc1ccccc1C(=O)N1CCOCC1', 'O=c1c(-c2ccccc2)nc2cnc(Oc3cccc(Cl)c3)nc2n1C1CC1', 'O=C(O)c1cccc(-c2cn(C3OC(CO)C(O)C3O)nn2)c1', 'N=C(N)c1ccc(CNC(=O)Cn2c(-c3ccc(C(F)(F)F)cc3)c(Cl)nc(NCC3CCC(F)(F)CC3)c2=O)cc1', 'COc1cc(C=c2sc3nc4c(cc3c2=O)CN(C)CC4)ccc1O', 'CNc1nc(-c2ccc(C(=O)NCc3cccnc3)cc2)cn2c(C)nnc12', 'CCCCCC(O)c1ccc(N2C(=O)CCC2COCc2ccc(C(=O)OC)o2)nc1', 'C#CCOc1cc(NC(=O)OCC=C)c(Cl)cc1Cl']\n",
      "['COC1C2OP(=O)(O)OCC2OC1n1cnc2c(Cl)ncnc21', 'Cc1nnc(C(C)(F)F)n1CCCNC(=O)C1CC1c1ccc(O)cn1', 'CC1CCCCC12NC(=O)N(CC(=O)N1CCN(S(=O)(=O)c3ccc(Br)cc3)CC1)C2=O', 'CSc1ccc(S(=O)(=O)CC2CCC(N(C)c3ncnc4[nH]ccc34)CC2)cc1', 'N#Cc1cc2ccc3oc4ccccc4c3c2oc1=O', 'CCc1ccnc2c1C(=NN=C(N)N)CC(c1ccco1)C2', 'O=C(O)CCNc1cnc(C=Cc2ccncc2)cn1', 'O=C(O)CN=C(O)C(CCN1CCC(Oc2cccnc2C(F)(F)F)CC1)c1ccccc1', 'N#Cc1ccccc1CCc1csc(COc2ccc([N+](=O)[O-])cc2)n1', 'CC1(OCC#CCCCCN2CCCCC2)c2ccccc2CCc2ccccc21']\n",
      "['Cc1ccccc1CS(=O)(=O)NCC1(C(N)=O)CCCC1', 'CC1(C(=O)NS(=O)(=O)c2ccccc2)CCN1C(=O)CCCCc1cccnc1', 'O=C(O)c1cc(-n2c(-c3ccccc3)cc3c2CCC3)ccc1O', 'O=C(NCCCl)C1OC(OP(=O)(O)OP(=O)(O)OP(=O)(O)OCC2OC(n3ccc(=O)[nH]c3=O)C(O)C2O)C(O)C(O)C1O', 'CC1=C2CCCCC2N=C(SCc2ccc(Cl)cc2)N1c1nn[nH]n1', 'NCCn1nc2c3c(c(NCCNCCO)ccc31)C(=O)c1ccncc1-2', 'COCCSc1nc(F)nc(N)n1', 'CCOC(=O)c1cc(-c2sc(-c3ccccc3)nc2N2CCCC2)nc2ccc(F)cc12', 'O=C(O)c1ccc(S(=O)(=O)N(Cc2ccccc2)c2ccc(C(=O)Nc3ccccn3)cc2)cc1', 'c1ccc2sc(N3CCOCC3)nc2c1']\n",
      "['COc1ccccc1-c1cc(-c2ccccc2)nc(SC#N)c1C#N', 'c1cnc2scc(C3CCN(CC4CN(Cc5ccc6c(c5)OCCO6)CCO4)CC3)c2c1', 'O=C(O)C(NC(=O)C1CCN(S(=O)(=O)c2ccc3ccccc3c2)CC1)c1ccccc1', 'CCn1nc(C(F)(F)F)cc1-c1ccc(NS(=O)(=O)c2cccc(F)c2)cc1', 'CC(O)C1C(=O)N(C(=O)OCCF)C2NC(=O)NC2N1C', 'COc1ccc(N(C)S(=O)(=O)c2c(C)n[nH]c2C)cc1Cl', 'CCCNc1c(Br)cnc2[nH]c(=O)c(=O)[nH]c12', 'COc1c(F)c(F)c2c(=O)c(C(=O)O)cn(C3CC3)c2c1F', 'FC(F)CN1CCN(CCOc2ccc(C#Cc3ccccc3)cc2)CC1', 'Cc1ccc2c(c1)c(-c1ccnc3ccc(C(F)(F)F)nc13)cn2CC(=O)O']\n",
      "['O=c1c(-c2cccnc2)c(-c2ccccc2)oc2cc(O)ccc12', 'Cc1ccc(-c2nc3cc4cc(Cl)ccc4cc3[nH]2)o1', 'C=CS(O)(=O)c1sc(NC(=O)N(C)C)nc1C', 'CCOC(=O)N=c1sc(C)cn1-c1c(C)n(C)n(-c2ccccc2)c1=O', 'Cc1nonc1-c1ccccc1', 'O=c1c(C2=NS(=O)(=O)c3ccccc3N2)c(O)c2ccccc2n1O', 'O=C(CSc1nc2ccccc2[nH]1)c1ccc(F)cc1', 'CC(=O)c1ccc(NC(=O)C(c2ccccc2)N(C)C)cc1', 'O=C(c1cccc(Cc2n[nH]c(=O)c3c2NCCC3)c1)N1CCN(c2ccncc2)CC1', 'CN1CC2C(OCC2CO)c2ccccc21']\n",
      "['N=C1N(Cc2ccccc2)CCN1Cc1ccccc1', 'CC12C=CC(=O)C=C1CCC1C2C(=O)CC2(C)C(c3noc(-c4ccccc4Br)n3)CCC12', 'CC1=NC(C)=C(C(=O)OCCN(C)C)C(c2csc(Br)c2)C1=C(O)OC(C)C', 'Nc1ncc(-c2ccc(-c3ccc(CCN4CCOCC4)cc3)nc2)nc1C(=O)NC1CCC1', 'CCOC(=O)NC1(C(Cl)(Cl)Cl)Oc2ccccc2O1', 'Cc1cccc(CCCCC(=O)c2ncc(-c3ccccc3NS(=O)(=O)C(F)(F)F)s2)c1', 'N#CC1=C(N)Oc2nc3ccccc3cc2C1c1ccc(Cl)cc1', 'COc1cc2nc3oc(C(=O)N4CCN(c5cc(Cl)ccc5C)CC4)cc3cc2cc1O', 'O=C(CCCCn1c(=O)[nH]c2ccccc2c1=O)N1CCN(c2cccc(C(F)(F)F)c2)CC1', 'O=C(O)c1cn(C2CC2)c2c(F)c(N3C(=O)CSC3c3ccc(Br)cc3)c(F)cc2c1=O']\n",
      "['O=S(=O)(c1ccccc1)C1CCN(c2ccc(C(O)(C(F)(F)F)C(F)(F)F)cn2)CC1', 'O=C(c1ccccc1)c1[nH]c(N2CCOCC2)c(C(=O)Nc2ccccc2Cl)c1-c1ccco1', 'COC(c1ccccn1)c1c(C(=O)NCc2cc(F)c3c(c2)OCO3)[nH]c2ccc(F)cc12', 'CCCN1c2ccccc2NC(=O)C12CCN(C1CN3CCC1CC3)CC2', 'COC(=O)C(Cc1ccc(OC(C)=O)cc1)NC(=O)C=Cc1cc2c(cc1Br)OCO2', 'CCCS(=O)(=O)N1CCN(C(c2ccncc2)c2ccc(Cl)cc2F)CC1', 'CCOC(=O)CC1COC2(CCN(c3ncccn3)CC2)C1', 'O=C(CC(c1ccccc1)c1cc2ccccc2[nH]1)c1ccc2c(c1)OCO2', 'Cc1cn(C2C=CC(CSCC(C)C(C)O)O2)c(=O)[nH]c1=O', 'Cc1cc(C(=O)NC2CCCN(Cc3ccnc4ccccc34)C2)c(C)o1']\n",
      "['O=C1NC(=S)NC(=O)C(=Cc2cc(C(F)(F)F)nn2-c2ccccc2)S1', 'Cc1cc(S(=O)(=O)NC(=N)NCCc2ccc(S(N)(=O)=O)cc2)c(SCc2csc(-c3ccc(Cl)s3)n2)cc1Cl', 'O=C(C(=S)Nc1ccccc1Cl)c1cc(Cc2ccc([N+](=O)[O-])cc2)n2ccc(Br)cc12', 'CCC1C(OC(=O)NC(Cc2c[nH]c3ccccc23)C(=O)NC2CCOCC2)CCC2CN3CCc4c([nH]c5ccccc45)C3CC21', 'NC(CNC(=O)c1cc2c(Cl)cc(F)cc2[nH]1)C(=O)O', 'O=C(COC(=O)N1CCCC1)Nc1c(Br)cc(C(F)(F)F)cc1Br', 'Cn1c(=O)c2c(nc(Br)n2Cc2ccc(Cl)cc2)n(C)c1=O', 'CC1SC(c2ccsc2)N(CN2CCN(c3ccc(C(F)(F)F)cc3)CC2)C1=O', 'CCNC(=O)c1[nH]n(-c2ccc(Cl)c(Cl)c2)c(=O)c1-c1c(C)nn(-c2ccc(C)c(Cl)c2)c1C', 'CC(=O)Oc1ccc2c(c1)-c1cc(NC(C)=O)cc3c1C(C2)CCC3']\n",
      "['Cc1c(Cl)ccc2nc(O)oc12', 'CC(C)Oc1ccc(CN2CCC(NC(=O)c3cc(Br)cs3)CC2)cc1', 'COc1ccc(Nc2nc3n(n2)CCC(=O)N3Cc2c(F)cccc2Cl)cc1', 'COC(O)=C1C(C)=NC(C)=C(C(=O)OC(C)(C)C)C1c1cn[nH]c1', 'CCN(C(C)=O)c1ccc(F)c2nc(NC(=O)C3CCN(C(C)=O)CC3)sc12', 'CCN1C(C#N)=C(c2ccccc2)NNC1c1ccccc1', 'O=C1c2ccccc2-c2ncc3c(c21)CCCC3', 'O=c1cc(-c2ccc(F)c(F)c2)oc2cc(O)c(CN3CCN(c4ccccn4)CC3)c(O)c12', 'C=CCN1C=[N+](CC=C)c2ccccc2C1', 'c1cc(-c2n[nH]c3ccccc23)cc(Sc2c[nH]c3ccccc23)n1']\n",
      "['Fc1cccnc1C(c1ccc2c(c1)n(Cc1ccc(Cl)c(Cl)c1)c(=S)n2Cc1c(F)cccc1F)C1CCC1', 'O=C(c1ccon1)N1CCN(c2cnn(-c3cc(F)cc(F)c3)c(=O)c2OC2CCCC2)CC1', 'COCC(N=C(O)Nc1cc2[nH][nH]c(=NC3CCN(C)C3=O)c2cn1)c1ccccc1', 'Nc1ccn(CC2CC(OCc3ccccc3)C(COCc3ccccc3)O2)c(=O)n1', 'c1cnc2nccc(Nc3ccncc3)c2c1', 'Cc1cc([N+](=O)[O-])c(C)c(C)c1-c1cnc(C)o1', 'Cn1cccc1C(=O)Nc1ccc(S(=O)(=O)N2CCSCC2)cc1', 'c1cc(-c2nc3ncccc3o2)ccn1', 'Nc1n[nH]c(N2CCN(CCC3CCCCC3)CC2)n1', 'CC1CC23CCC4C(C)(C=O)CCCC4(C)C2=CCC1(O)C3']\n",
      "['NC(=O)c1ccc2cc[n+]([O-])cc2c1', 'NC(=O)C1CCCN(c2ccc3[nH]nc(-c4cc(N5CCCC5=O)ncn4)c3c2)C1', 'CC(Oc1cc(-c2nnc(C(F)(F)F)o2)cc2ncsc12)C1CN=C(O)C1', 'Cc1cc(SCC2=C(C(=O)O)N3C(=O)C(NC(=O)CSc4cc(Cl)ccc4Cl)C3SC2)cc(C)[n+]1CCCO', 'S=C(NN=C(c1ccccn1)c1ccccn1)N1CCCC1', 'CCN(CC)CCCCNCc1nnc2n1-c1ccc(Cl)cc1C(c1ccccc1Cl)=NC2', 'CNC(=O)c1cc(Oc2ccnc3ccc(-c4ccc(OC)c(OC)c4)cc23)ccc1Oc1ccnc(NC(=O)c2coc(CN)c2)c1', 'Cn1cc(-c2cc(-c3cnn(C)c3)c(C#N)c(N)n2)c2ccccc21', 'O=[N+]([O-])c1cn2c(n1)OCC(OCc1ccc(-c3ccc(C(F)(F)F)nc3)cc1)C2', 'O=C(Nc1cccc(O)c1)c1ccc(COCC(F)(F)C(F)F)o1']\n",
      "['COC(=O)C(OC(C)=O)C1CC(=O)OC1=O', 'NCC1CCc2c1n(CC(O)=NCC3CC3)c1ccc(C(=O)OC3CCCCC3)cc21', 'O=C1C=C(c2ccccc2)CC(c2ccccc2)C1c1ccc2c(c1)OCO2', 'CSc1cccc(NC(=O)N(CCC(c2ccccc2)N2CCOCC2)c2ccc(N(CCCl)CCCl)cc2)c1', 'CCCN(CCCO)N1C(=O)c2ccccc2C1=O', 'COc1ccc2c(c1Cl)CCN(C(=O)c1ccc(Cl)[n+]([O-])c1)C2', 'Cc1ccc2oc(=O)c(-c3cccc(Cl)c3)cc2c1', 'O=C(O)CC(NC(=O)C1CCCN1)C(=O)NCCCC1CCCCC1', 'CC1CNC(=O)c2[nH]c3ncccc3c21', 'CC1(c2cc(Nc3nc(N4CC(O)C(OC5OC(CO)C(O)C5O)C4)ncc3F)ccc2F)CC1S(=O)(=O)N1CCOCC1']\n",
      "['O=C(Nc1sc2c(c1-c1nc3ccccc3s1)CCNC2)C1CCN(Cc2ccco2)CC1', 'COc1ccc(OC)c2c1nc(SCC(=O)NC1CCCC1)n2C', 'N=C(N)SCc1c(OCc2ccccc2)ccc2ccccc12', 'COP(=O)(NS(=O)(=O)c1ccc(NC(=O)NS(=O)(=O)c2ccccc2)cc1)N1CC(F)C1', 'Oc1c2c(nn1-c1ccc(Cl)cc1)CCS2', 'CN1CCN(c2ncc(-c3ccc(CCC(=O)S)cc3)cc2Br)CC1', 'CN1CCc2nc(-c3cc(C(=O)N4CCC(c5ccc(C#N)cc5)CC4)ccc3C3CCC3)[nH]c2C1', 'CNCC1CC2CCCN2c2cccc(OC)c21', 'Cc1cc(=O)n2nc(C(=O)NS(=O)(=O)c3ccc(Br)cc3)c(C(=O)c3ccccc3)c2[nH]1', 'O=C(Oc1cccc(NC2=NS(=O)(=O)c3ccccc32)c1)C1CCN(c2ccncc2)CC1']\n",
      "['O=C(NCCCn1ccnc1)c1ccc(-c2cccc(Cl)c2)o1', 'O=c1oc(-c2ccc(Sc3ccccc3I)cc2)nn1C1CCCC1', 'CN1CCN(CCS(=O)(=O)c2csc(S(N)(=O)=O)c2)CC1', 'O=S(=O)(c1cccc(F)c1)N1CCN(CC2CC3C=CC2C3)CC1', 'CC1(c2nnc(-c3ccccc3)o2)CC(c2ccco2)=NO1', 'O=[N+]([O-])c1cccc(S(=O)(=O)Nc2ncc(Br)cn2)c1', 'FC(F)(F)Oc1ccc(Nc2ncc(Br)c(Oc3ccc4cn[nH]c4c3)n2)cc1', 'CCCNCc1ccc(C=Cc2ccc(-c3nc4cc(F)ccc4[nH]3)cc2)cc1', 'Clc1ccc(C2=C(c3cn(Cc4ccccc4)c4ccccc34)C3CNCC2C3)cc1Cl', 'COCC1CN(C(=O)c2cccc(F)c2F)CC1c1ccn2ncnc(Nc3ccc(S(=O)(=O)NCC(F)COC)cc3)c12']\n",
      "['COC(=O)Nc1nc2cc(C3(O)c4ccccc4C(=O)N3c3nc(NC(C)C)cc(C(F)(F)F)n3)ccc2[nH]1', 'COCc1cc(C)n(CCC(=O)NN=C2C(=O)Nc3ccccc32)c(=O)c1C#N', 'CCCCCC(=O)Oc1cc(O)c2c(=O)cc(-c3cccc(Cl)c3)oc2c1', 'CC(C)=CCCC(C)=CCCC(C)=CC=Nn1c(C)nc2ccccc2c1=O', 'CC(C)c1ccc(C2C(C(=O)O)C(c3ccc4c(c3)OCO4)CN2C)s1', 'COc1cc(OC)cc(N(CC#Cc2ccc(NC(C)=O)cc2)c2ccc3ncc(-c4cnn(C)c4)nc3c2)c1', 'COc1cc2ncnc(N(C)C(C)C)c2cc1OCc1cc([N+](=O)[O-])c(C)s1', 'CNCCOc1ccc(NC(=O)Nc2ccc(F)c(Cl)c2)cc1-c1ccccn1', 'O=Cc1cc2ccccc2nc1Cl', 'CCOC(=O)N1CCS(=O)(=O)CC1C(=O)Nc1nc2cc(Cl)c(F)cc2s1']\n",
      "['CC(CCC(=O)O)C1CCC2C3CCC4=CC(=O)CCC4(CF)C3CCC12C', 'COc1c(C)cc(O)c(C(=O)C=Cc2ccc([N+](=O)[O-])cc2)c1CC=C(C)C', 'O=S(=O)(c1ccc(OC(F)(F)F)cc1)N1CCN(c2ccnc3cc(Cl)ccc23)CC1', 'N#Cc1cccc(C(O)=NCCCCCN=C(O)N2Cc3ccccc3C2)c1', 'CCN(CC(O)(CNC(=O)c1ccc2c(Cl)c[nH]c2c1)C(F)(F)F)C(=O)c1ccccc1', 'CC(C)(C)NC(=O)c1c(I)ccc(NC(=O)C(=O)O)c1-c1cccc(C(F)(F)F)c1', 'O=C(O)C(Cc1ccc(-c2ccc(Cl)cc2Cl)cc1)N=C(O)CCc1ccccc1', 'N#Cc1c(NC(=O)Cc2cccs2)[n+]([O-])c2cc(F)c(F)cc2[n+]1[O-]', 'C[N+]1(C)CC2C=C(c3ccccc3)CC2C1', 'CN1CC(Cl)=C(c2cn(S(=O)(=O)c3ccccc3)c3ccccc23)C1']\n",
      "['COc1ccc(C2=CCN(c3ccc(C(=O)O)cc3)CC2)cc1Nc1nccc(-c2cccnc2)n1', 'CCc1c(OCc2ccc(C(=O)O)cc2C(=O)O)ccc(C(C)=O)c1O', 'O=S(=O)(c1ccccc1)N(CC(O)Cn1c2ccccc2c2ccccc21)c1ccccc1O', 'CN(C)Cc1ccc(CSCCN=c2cc(-c3ccc(Cl)cc3)[se]c3ccccc23)o1', 'CN(CCC=Cc1cccc(C(F)(F)F)c1)Cc1cccc2ccoc12', 'COc1cc(NCc2ccc(Cl)cc2Cl)ccc1-c1cnco1', 'Cc1cccc2cc(CNc3nc4ccccc4s3)c(Cl)nc12', 'COc1cc(Oc2c(I)cc(I)cc2I)c(I)c(OC)c1OC', 'O=c1[nH]cnc2c1CCN2c1ccc(-c2ccc(N3CCOCC3)cc2)cc1', 'COC(=O)CN1C(=O)COc2ccc(S(=O)(=O)Nc3ccc(OC)cc3)cc21']\n",
      "['O=C1NCCN(c2n[nH]c3ccc(-c4c[nH]nc4C(F)(F)F)cc23)C1c1ccc(Cl)cc1', 'NCC(=O)Nc1ccc(N)c(C(=O)Nc2ccccc2)c1', 'Clc1ccc(Nc2cnc(Oc3cncnc3C3CCOCC3)c(Cl)c2)c(Cl)c1', 'O=C(Nc1ccc(Oc2ccc(Br)cc2)cc1)c1ccc2nc(NC(=O)c3cccnc3)sc2c1', 'CNCCOC(=O)c1cnc(-c2cccs2)nc1O', 'Cc1cc(-c2cc(=O)n3nnnc3s2)c(C)s1', 'Oc1nc(-c2ccccc2)cc(-c2n[nH]c3ccccc23)n1', 'O=C(O)C=Cc1cc(O)c(O)cc1CC1=CC(O)C(=C(C=Cc2cc(O)c(O)c(O)c2)C=Cc2ccc(O)c(O)c2)O1', 'CC(=O)NP(=O)(OC(C)C)N(C)C', 'CCNCCC(Cc1cn(C)cn1)(OC)c1ccc(OCC)cc1']\n",
      "['N#Cc1c(C(=O)c2cccs2)nn(-c2ccc3c(c2)OCO3)c1N=Cc1ccc([N+](=O)[O-])cc1', 'CCOP(=O)(OCC)C1CC(C(=O)Nc2ccccc2F)ON1C', 'CSc1ncc(C=C2C(=O)N(CCc3ccccc3)c3ccc(F)cc32)s1', 'COc1ccc(-n2c(C(=O)NCCN(CCN(C)C)Cc3ccccc3C)cc3cc(C)ccc32)cc1', 'CCOC(=O)Cn1cnnn1', 'O=C(CN1CC(=O)Nc2ccccc21)Oc1ccc2c(C(Cl)CCl)cc(=O)oc2c1', 'CN=C(O)c1cccc(N=c2ncnc(N3CC(Oc4cccc(F)c4F)C3)[nH]2)c1', 'Cc1noc(-c2ccc(N3CCN(Cc4ccccc4C#N)CC3)c([N+](=O)[O-])c2)n1', 'N=C(N)NCCCN', 'COc1cc(C#N)cc(C(Br)=Cc2cc(OC)c(OC)c(OC)c2)c1']\n",
      "['COC(=O)c1sccc1CSC1=NCC2CC(c3ccccc3Br)=NN12', 'Oc1noc(C2CCNCC2)c1Cc1c(F)cccc1F', '[O-][N+](COc1ccccc1)=C1c2ccccc2Oc2ccccc21', 'CC(C)(ON=C(C(=O)NC1C(=O)N2C(C(=O)O)=C(C=Cc3cc(O)c4nccn4n3)CSC12)c1ncc(CO)s1)C(=O)O', 'COC(=O)C(C)S(=O)(=O)c1nc2c(=O)[nH]c(N)nc2[nH]1', 'COc1c(C(=O)C=Cc2c(F)cccc2Cl)c(O)c(OC)c2occc12', 'Nc1cccc2nc(C(=O)O)cn12', 'Oc1cc(-c2nncs2)cc(Oc2cccc3ccccc23)c1', 'O=C(COc1ccncc1[N+](=O)[O-])NC(=O)NC1CCCC1', 'O=C(NCCc1ccccc1Cl)c1cc(-c2ccccc2)no1']\n",
      "['C#CC1(O)CCCC2C3CCC4=CC(=O)CCC4=C3C=CC21CC', 'Cc1c(C(=O)N(Cc2cccc([N+](=O)[O-])c2)C2CCS(=O)(=O)C2)oc2ccc(F)cc12', 'O=C(NN=CC1(C(F)(F)F)c2ccccc2-c2ccccc21)c1ccncc1', 'CC1NCCc2cc(O)c(O)cc21', 'CC(=O)Nc1ncc(SCc2nccc3c4ccccc4n(CC(F)(F)S(C)(=O)=O)c23)s1', 'COP(=O)(NC(C(=O)NC(Cc1c[nH]c2ccccc12)C(=O)NCC1CCN(CCc2c[nH]c3ccccc23)CC1)C(C)C)Oc1cc(C)cc(C)c1', 'CCCc1cnc(CN(C)C)nc1NC(Cc1ccc(NC(=O)c2c(Cl)cncc2Cl)cc1)C(=O)O', 'COc1ccc(NC(=O)CCc2c(C)nc3nc(-n4cnc5ccc(OC)cc5c4=O)cn3c2C)cc1', 'Cc1ccc(C(=O)C2CC23C(=O)Nc2ccc(F)cc23)cc1', 'O=C(O)Cc1nn(Cc2nc3c(F)c(F)cc(C(F)(F)F)c3s2)c2ccccc12']\n",
      "['C[N+](C)(CCOc1ccccc1Cc1ccccc1)Cc1ccc([N+](=O)[O-])cc1', 'COc1ccc2oc(=O)c(C(=O)n3nc(N4CCOCC4)nc3N)cc2c1', 'CN(C)C(=O)Oc1ccc(CN(c2ccc(OCCc3nc(-c4ccccc4)oc3CO)cc2)c2cccc(Br)c2)cc1', 'COc1ccccc1Oc1ccc(Nc2ncnc3cc[nH]c23)cc1Cl', 'CCCCCCC(C)(CCCC(CCCCC(=O)O)CCCC(OCC(c1ccccc1)(c1ccccc1)c1ccccc1)C(=O)O)C(=O)O', 'OC1=NCC(c2ccc(-c3cc4ccccc4n3C(F)(F)F)cc2)=NN1Cc1ccc(Cl)nc1', 'CN(CC1=CCC2CC1C2(C)C)Cc1ccc(C(=O)O)o1', 'CN(CCN1CCOCC1)C(=O)c1cc(Cc2nnc(O)c3c2NCCC3)ccc1F', 'O=C(Cc1ncc(I)c(OCC(F)(F)F)c1O)N1CCCC1', 'Clc1ccc(Nc2nnc(Cc3ccncc3)c3ccccc23)c(Cl)c1']\n",
      "['CCCCCCCCSCC(N)CCP(=O)(O)O', 'CCNC(=O)NC(=S)NNC(=O)c1cc(-c2ccccn2)nc2ccccc12', 'COc1cc(C=Cc2cccc([N+](=O)[O-])c2)ccc1O', 'COc1cc(CC2CC(=O)OC2Cc2ccc(O)c(O)c2)ccc1O', 'Cc1cccc(-n2c3nc(=O)[nH]c(=O)c-3cc3c(C)nn(-c4ccc(F)cc4)c32)c1', 'CC1(CO)OC(n2cc(O)c(=O)[nH]c2=O)C(O)C1O', 'COc1ccccc1-c1nnc(SCC(=O)Nc2ccc3[nH]c(O)nc3c2)n1N', 'C=Cn1cnc2c(N)ncnc21', 'O=C(O)c1cc2c(-c3cccc(Cc4ccccc4OCc4ccccc4)c3)cncc2s1', 'CN1CCc2c(sc3c2C(=O)N(c2cccc(Cl)c2)C3=O)C1']\n",
      "['O=C(NC1CC1c1ccccc1)c1cnc(NC2CC2)nc1C1CC1', 'CN(CCCCc1ccc(OCc2ccccc2)c(OCc2ccccc2)c1)Cc1ccccc1', 'C=CCC1C(=O)C=CN(C(=O)OCc2cc[nH]n2)C1C(=O)OC', 'CCCOCCn1nc(OCc2ccc(OC)cc2)c2cc([N+](=O)[O-])sc21', 'COc1ccc2c3cc[n+](C)c(C)c3n(C)c2c1OC', 'Cn1c(=O)c2ccc(F)cc2n(Cc2cccc(Br)c2)c1=O', 'Cc1ncc(Oc2ccc(NC(=O)Nc3ccc(OC(F)(F)F)cc3)cc2)cn1', 'O=C(C1CCCN1C(=O)Nc1cc(Cl)cc(Cl)c1)N1CCC1', 'COCCc1sc[n+](CC(=O)c2ccc(C(C)(C)C)cc2)c1C', 'CC(=O)Nc1c(C)cc2c(c1C)CCN2c1ncc(Br)cn1']\n",
      "['CC(C)CCON1CC(C(=O)O)C(C2CCCCC2)C1', 'O=S(=O)(c1ccc(Cl)c(F)c1)N1CCN(C2c3ccccc3-c3ccccc32)CC1', 'CCc1ccoc1-c1cc(Nc2cc(C3CCCC3)[nH]n2)nc(NCC2CCS(=O)(=O)C2)n1', 'O=C(NC(Cc1ccccc1)C(O)CN1CCN(Cc2ccc3[nH]c(=O)[nH]c3c2)CC1P(=O)(O)O)c1ccc2ncccc2c1', 'C#CCn1c(Cc2cccs2)nnc1SCC(=O)NC1CCCC1', 'CCCNc1nc2cc(-c3ccsc3)sc2c(=O)[nH]1', 'O=C(COc1ccc2ccccc2c1)OC1CCOC1=O', 'COc1cccc(N2C(=O)C3CCCN3C2=S)c1', 'Oc1ccc2oc(-c3ccc(C(F)(F)F)cc3)c(O)c2c1CN1CCCCC1', 'NC(=O)NCc1ccc2c(c1)CC(=O)N2']\n",
      "['COc1cccc(OC)c1C1CC(C)(C)N=C(S)N1', 'CC1CCC(NC(=O)CCn2c(=O)c3ccccc3n(CC(=O)NCCc3ccccc3)c2=O)CC1', 'Cc1cc(Br)ccc1SCC(=O)NCc1cccs1', 'Oc1cc2c(cc1-c1ccccc1)OCC1COc3cc(O)ccc3C21', 'CCOC(=O)c1cnc2c(cnn2-c2ccccc2Cl)c1NCCCN1CCOCC1', 'O=S(=O)(Nc1ncccn1)c1ccc2c(c1)CN(Cc1nc(-c3ccsc3)no1)CC2', 'Cc1cccc(NC(=O)N2N=C3CCN(CC4=CCCC4)CC32c2ccccc2)c1', 'O=S(=O)(Nc1ncccn1)c1ccccc1-c1ccc(-c2ccccc2)c(Cl)c1', 'Nc1nc(OCC2CCCCC2)nc2c1ncn2C1OC(CO)C(O)C1O', 'Nc1c(CC(=O)O)c[nH]c1C(=O)c1ccc2ccccc2c1']\n",
      "['COC(CNC(=O)c1c(Br)cnn1C)c1ccc(OC)cc1OC', '[O-][N+]1(c2ccc(F)cc2Cl)CCC(c2c(O)[nH]c3ccccc23)CC1', 'Nc1c(C(=O)c2cc3ccccc3[nH]2)cnn1-c1ccc(F)cc1', 'O=[N+]([O-])c1ccc(S(c2nc3ccccc3o2)N2CCCC(O)C2)cc1', 'CCCn1c(-c2c(Cl)cccc2Cl)nc2nc(C)cc(N)c21', 'S=C(NCCSCc1ccccc1)NCc1ccco1', 'O=S(=O)(Nc1ccc(F)cc1)Sc1cc(Cl)cc(Cl)c1', 'COc1cc(NC2CCN(C)CC2)ccc1Nc1ncc(Cl)c(Oc2cccc(C(=O)NCc3ccc(C(=O)O)cc3)c2)n1', 'CCC(=O)ON1CCN(c2ccc(C(N)=O)cc2)CC1C(=O)NCc1ccc(NC(=O)CN(CC)CC)cc1', 'COc1ccc(C(=O)O)s1']\n",
      "['Cc1sc(NC(=O)CN2CCOCC2)c(C#N)c1C', 'Cc1cccc(Nc2c(S(N)(=O)=O)cnc3sc(C(=O)NN4CCN(C)CC4)c(C)c23)c1', 'O=C1NC(=O)C(CC#Cc2cc(F)ccc2F)(S(=O)(=O)c2ccc(F)cc2)S1', 'CC1(O)OCOC2C1Oc1nc(-c3ccccc3)nc(NC3CCCCC3)c1C2=O', 'Nc1oc(-c2cn[nH]c2-c2ccccc2Cl)nc1-c1ccc(Cl)cc1C(F)(F)F', 'Cc1cc(Nc2nn(C3(CC#N)CCN(C(=O)OC(C)(C)C)CC3)cc2C(N)=O)n[nH]1', 'CCOc1ccccc1OCCn1cc(C(=O)c2ccco2)c(=O)c2ccccc21', 'O=C(C(c1ccccc1)c1ccccc1)N(O)c1ccccc1', 'COC(=O)C(CS(C)(=O)=O)NC(=O)N(C)C', 'CCN(CC)c1cc(C)nc2c1NC(=O)CN2c1ccc(OC)cc1OC']\n",
      "['CC(C)(C)NCC1CCc2c1ccc(O)c2O', 'COc1cc(Cc2c[nH]c(=N)nc2N)cc(OC)c1', 'NC1(C(=O)NCCNc2ccc(F)cc2)CC1c1ccccc1', 'O=C(NCC1COC2(CCN(Cc3ccoc3)CC2)C1)C1CCC1', 'Cn1ncc2cc(-c3nc(-c4cccc5[nH]ccc45)no3)ccc21', 'O=C(CSc1nnc2n1CCCCC2)Nc1cc2c(cc1Br)OCCO2', 'CN(N=Nc1ccc(C(F)(F)F)cc1)c1ccc([N+](=O)[O-])cc1Cl', 'OCc1ccc2[nH]c(-c3n[nH]c4cc(F)ccc34)nc2c1', 'COc1cc2c(cc1C(c1ccc(N)cc1)C(C)C(F)(F)F)OCO2', 'COn1cc(C(=O)Nc2cccc(C3(C)COCC(N)=N3)n2)nc1']\n",
      "['CCSc1nc(NC=O)nc2[nH]cnc12', 'OCC1(CO)CCCN1C(=S)c1cccc2cc(O)ccc12', 'CCc1cc(CN(C2CCCC(N(C)CCc3ccccn3)C2)S(=O)(=O)c2ccc(Cl)cc2)ccc1N', 'ON1c2nccc(-c3ccccc3OC(F)(F)F)c2SC1CN1CCNCC1', 'Cn1nnnc1Sc1ncnc2scc(-c3cc4ccccc4o3)c12', 'Clc1c[nH]c2ncnc(Nc3cccs3)c12', 'CS(=O)(=O)CC#CCN1CCCC1', 'O=C(Nc1cccc(Cl)c1)C1CC(=O)N(c2cccc3cccnc23)C1', 'CCOC(=O)c1cnc2cc(Cl)c3c(c2c1)OCCN3', 'N#Cc1cc(F)cc(C(=O)N(c2ccccn2)C2CCN(CC(F)F)CC2)c1']\n",
      "['O=C(O)CNC(=O)c1cc(NC(=S)Nc2cccc(SC(F)(F)F)c2)cc(NNC(=S)SCc2cccc(F)c2F)c1', 'COc1cccc(C(C)=NNC(=O)CCS(=O)(=O)c2ccc(C)cc2)c1', 'FC1(F)CCN(Cc2ccc3c(c2)CN(Cc2cc4cnccc4o2)CCO3)CC1', 'CC(C)Cn1cc(-c2ccnc3[nH]c4c(c23)CCC4)c(-c2ccc(NC(=O)N(C)C)cc2)n1', 'CCC(N)C(=O)NC1C(=O)N2C(CCC1CNC)CCC2C(=O)NC(c1ccccc1)c1ccccc1', 'Fc1ccc(-c2cc(Nc3ccc(Br)cc3)on2)cc1', 'CN(O)C=C1C(=O)N(c2ccc(Cl)cc2)C(=O)c2ccc(Cl)cc21', 'Cc1ccc(C(=O)NCC2CCN(CCc3ccccc3)CC2)o1', 'O=C(O)c1cccc(C2=C(c3cccs3)CCC2)c1', 'COc1ccc(C2ON=C(c3ccc(NS(C)(=O)=O)cc3)C2C)cc1OC']\n",
      "['CCNC(=N)NN=C(C)c1cccc(Cl)c1Cl', 'Cc1nc(NCCc2ccnn2C)sc1C(=O)Nc1ccc(Cl)cc1', 'COc1c(Br)cc2c(c1Br)OC1(C2)C(=O)C=C2C3CC4C5COC(c6ccccc6)OC5(C)CCC4(C)C3CCC21C', 'COc1ccc(NC=CC(=O)C(C)=Cc2ccc(OC)c(O)c2)cc1Cl', 'NC(=O)CCc1cc2c(cc1[N+](=O)[O-])OCO2', 'C#CCn1cc(-c2oc3cc([N+](=O)[O-])ccc3c(=O)c2-c2ccc(F)cc2)nn1', 'O=C(NCCCCCCNc1ccnc2cc(Cl)ccc12)c1cccc(Br)c1', 'COc1cccc(C(N=C(O)c2cc(F)c3cnc(NCC4CCOCC4)nc3c2)c2cnn(C)c2)c1F', 'O=[N+]([O-])c1cccc2ccc([N+](=O)[O-])cc12', 'c1ccc2ncc(N3CCCCC3)cc2c1']\n",
      "['Cc1occc(=O)c1OCc1ccc2c(c1)OCO2', 'Cc1cccc(Nc2nnc(-c3nc4ccccc4[nH]3)s2)c1', 'CN(C)c1ccc(C=CC=NNC2=NC(=O)C(=Cc3ccc(O)cc3)S2)cc1', 'CCn1c(S)nnc1Cc1csc2nc(-c3ccc(F)cc3)cn12', 'Cc1c(C)n(Cc2c(F)cccc2Cl)c2ccc(C(=O)N(OC3CCOC3)C3CCCCC3)cc12', 'O=C(O)COc1c(Cl)cc(F)cc1Cl', 'CCOP(=O)(c1ccc(Cl)cc1)N1Cc2ccccc2CC1C(=O)OCC', 'COC(=O)C(Oc1ccc(C(=O)NCCN)cc1OC)c1ccc(Oc2ccccc2)cc1', 'CC(C=CC1=C(C)CCCC1(C)C)=CC=CC(C)=CC(=O)Nc1ccc(O)cc1', 'NCCCCn1c(SCc2cc([N+](=O)[O-])cc([N+](=O)[O-])c2)nnc1-c1cccc(Cl)c1Cl']\n",
      "['COC1C=CC=C(C)C(=O)NC(C=C(OC)C(=O)NC2=C(C(=O)O)CCCC2)C(=O)NC2=CC(O)CN=C21', 'CN(CCc1ccccn1)CCn1c(=O)c2c(n(Cc3c(F)cccc3F)c1=O)CCN(Cc1ncco1)C2', 'O=C(NC(=Cc1ccc([N+](=O)[O-])o1)C(=O)N1c2ccccc2CC1C(=O)O)c1ccccc1', 'Cc1cccc(CSc2nc(CN3C(=O)c4ccc(Cl)cc4C3=O)c(C)c(=O)[nH]2)c1', 'Cc1ncc([N+](=O)[O-])n1CCOC(=O)c1cc(Br)c(Br)[nH]1', 'CC1CC2=CC(=O)CCC2C2=C(O)CCCC12', 'COCCN=C(S)c1ccc(S(=O)(=O)NCC2CCCO2)cc1', 'O=C(Nc1cnc2ccccc2n1)c1ccc(F)c(S(=O)(=O)N2CCOCC2)c1', 'Cc1ccc(-c2nc(CCc3nc(N=C(O)Nc4cccnc4)cn3C)nn2C)cc1F', 'Nc1onc(CC(Cc2ccncc2)C(=O)NC2c3ccccc3CC2O)c1[N+](=O)[O-]']\n",
      "['Clc1c([N+](=O)[O-])c(C(c2ccccc2)N2CCN(Cc3ccc4ccccc4c3)CC2)c(Cl)c2ccccc12', 'COC(=O)C(Cc1ccccc1)NC(=NC#N)Nc1cnccn1', 'CCn1cc2c(nc(NC(=O)Cc3ccccc3)n3nc(-c4ccco4)nc23)n1', 'OC1(c2cccs2)CCNCC1', 'COc1ccc(Cl)cc1Nc1cc[nH]c(=O)c1C(=O)Nc1ccc(C2CNCCO2)cc1', 'COC(=O)c1cc([N+](=O)[O-])cc(N(C)c2cc(OC)c(OC)c(OC)c2)c1', 'CC(C)C(=O)NC(N=C(S)Nc1ccc(S(N)(=O)=O)cc1)C(Cl)(Cl)Cl', 'COc1cc2ncc(F)c(Oc3ccc(O)nc3)c2cc1OC', 'ON=C(c1ccnc(Oc2ccc(Cl)cc2)c1)N1CCOCC1', 'NCC1OC(n2c(Cl)cc(=O)[nH]c2=O)CC1O']\n",
      "['CC(NC(=O)c1cncs1)c1nnc2cncn2c1Br', 'NC(=O)c1c[nH]c(-c2ccc(OCc3ccccc3)c(OCc3ccccc3)c2)n1', 'C=C1OCc2ccccc21', 'Cc1nc(N(C)c2ccccc2)c2[nH]c(-c3ccccc3)c(CN(C)Cc3ccccc3)c2n1', 'O=[N+]([O-])c1cccc(S(=O)(=O)Nc2cccc(S(=O)(=O)N3CCCCCC3)c2)c1', 'Cc1sc2nc(C(=O)NCCO)cc(-c3ccc(Br)cc3)c2c1Cl', 'CCc1cc(O)c(F)c2c1Oc1ccc(O)c(c1)CCc1cc(O)c(O)c-2c1', 'COc1ccccc1NC(=O)C=CCC1CC(O)CC=C1C=CC(O)CCc1cccc(-c2cccs2)c1', 'C=CC1=C(C(=O)O)N2C(=O)C(NC(=O)C(=NOC)c3csc(N)n3)C2SC1', 'Cn1cnc2cc(Cl)c(NS(=O)(=O)c3cccc(C#N)c3)cc21']\n",
      "['CC1(c2ccccc2)C(=O)N(Cc2ccc(Br)cc2)C(=O)N1Cc1ccc(S(C)(=O)=O)c(NC(N)=O)c1', 'CC1(C)NC(=O)N(CCCCC(=O)Nc2ccc(OCc3ccc(C(F)(F)F)cc3)nc2)C1=O', 'Fc1ccc2[nH]c(-c3ccc(-c4ccc(CN5CCc6ccc(C7CC7)cc6C5)cc4)cc3)nc2c1', 'COc1cc2c(cc1OCC1CCCN(CCO)C1)N(C(=O)NCc1ccc(C#N)cc1)CC2', 'COc1ccc(-c2ccc(COc3ncccc3C(N)=O)nc2)c(C(F)(F)F)c1', 'CCC(C)NS(=O)(=O)c1cccs1', 'CC(C)NC(=O)CC1c2ccccc2N=C(N(C)CCN(C)C)N1c1ccccc1', 'Clc1ccc(CC2CC3Cc4cccc(Cl)c4N2O3)cc1', 'Cc1ccc(C)c(Sc2cc(C(N)=O)ccc2S(N)(=O)=O)c1', 'CC(C)(N)C(=O)NC(Cc1c[nH]c2ccccc12)c1nnc(Cc2cccc(F)c2)n1C(Cc1ccccc1)C(=O)NCCc1c[nH]c2ccccc12']\n",
      "['Cc1nc(Cl)c(-c2c(Cl)cc(Cl)cc2Cl)c(NC2CCCC2)n1', 'COC(=O)NC1=C(NCc2ccc(OC)cc2)C(=O)c2ccccc2C1=O', 'Cc1ncc(N2CCNCC2)nc1-c1ccc(CO)cc1', 'O=C(CC1CCCN1CCS(=O)(=O)c1ccccc1)c1ccc(F)cc1', 'Cc1cc(C)cc(NC(=O)CCn2cccn2)c1', 'CCOP(=O)(OCC)OCNc1cc(C)c(OC)c(OC)c1', 'COc1cccc(C=CC(N)=O)c1OCC(=O)Nc1cccc2c1C(=O)NC2=O', 'CCCN(CC1CC1)c1cc(-c2nnc(NC)n2-c2cccc3[nH]ccc23)nc(C)n1', 'O=S(=O)(c1ccccc1)N1CC(O)(c2ccc(Cl)cc2)C2(CCN(C3CC3)CC2)C1', 'c1ccc(C2CCN(C34CC5CC(CC(C5)C3)C4)C2)cc1']\n",
      "['Oc1nc(-c2ccccc2F)cc2ccc(OC3CCNCC3)cc12', 'OC1CCN(c2ccccc2OCC2CNCCO2)CC1', 'N=C(N)NN=C1C(=O)Nc2ccccc21', 'Cc1nc2sc3c(c2c(C)c1C)CCN(Cc1ncccc1O)C3', 'Cc1cc(N2CCCCC2C)n2ncnc2n1', 'CCCNC(=S)C1=CC(C)(C)Oc2ccc(Br)cc21', 'CN(C)C(=O)CN1CCN(c2cccc3nc(CN(C)c4ncnc5[nH]ccc45)n(-c4ccccc4)c23)CC1', 'O=C(O)CCCCC=C1CC2CC(O)C(C=CC(O)C3Cc4ccccc4C3)C2C1', 'CC1C2Cc3ccc(N(C)Cc4cccc(C#N)c4)cc3C1(c1ccccc1)CCN2C', 'C=C(C)Cn1c(S)nnc1-c1sc(N(C)C)nc1C']\n",
      "['CCOC(=O)Cn1c(=S)n(-c2ccc(OC)cc2)c(=O)c2c(C)c(C(N)=O)sc21', 'CC(=N)N1CC=C(Nc2cc(Nc3nccn3-c3ccnc(NCC(C)(C)O)n3)c(F)cn2)CC1', 'O=C1CCC2c3c(cccc31)CCN2S(=O)(=O)c1ccc(Cl)cc1', 'O=C1Cc2cc(-c3cccnc3)ccc2C(=O)N1', 'C=C(c1c(C)c(C(F)(F)F)nc2c(C(F)(F)F)cccc12)C(C)(C)C(=O)O', 'O=C(Cc1c[nH]cn1)N(Cc1ccc(F)cc1)CC1CCC1', 'COc1ccc(Nc2ccc(F)cc2C(N)=O)nc1-c1ccncc1', 'Cc1cc(C)c2nc(N3C(=O)CSC3c3c[nH]nc3-c3cccc(F)c3)sc2c1', 'O=C(O)c1cc2ccccc2n1Cc1cc(Cl)cc2c1OCOC2', 'N#Cc1c(N)n(Cc2ccccc2)c2nc3ccccc3nc12']\n",
      "['CCN(C(C)=O)c1nc2cc(-c3ccnc(NC(CO)c4ccccc4)n3)ccc2s1', 'N=C(O)n1cc(N=C(O)N2C(C(O)=NCc3cccc(Cl)c3F)CC3CC32)c2ccccc21', 'O=S(=O)(Cc1cc(N=C(O)c2ccc(F)cc2Br)n(-c2ccccc2)n1)c1ccccc1', 'O=C(O)C=NOC(c1ccc(-c2ccc(OC3CCCC3)nc2)cc1)C1CCCCC1', 'CC(C(=O)Nc1nccs1)N1C(=O)NC2(CCc3ccccc32)C1=O', 'O=C1C(S(=O)(=O)c2ccc(Cl)cc2)=C(N2CCOCC2)C(=O)c2c(O)ccc(O)c21', 'O=C(Nc1ncc[nH]1)NN1C2=NCC(Cc3ccc(OCc4ccccc4)cc3)N2C(=O)C2CCCCN21', 'O=C1NCc2cccc(C#Cc3ccccc3)c21', 'NC(=O)c1c(-c2ccc(NC(=O)c3ccc(Cl)cc3)cc2)nsc1NC(=O)C1CCCCC1', 'S=C(NC1CCCCC1)N1CCCN(c2nsc3ccccc23)CC1']\n",
      "['CN(C)CCNC(=O)c1cc2cc(Cl)cc(Br)c2oc1=O', 'Cc1ccc(-c2cc(COCC3(c4ccccc4)CCNCC3)cc(C3CC3)c2)cc1', 'CC(=N)Nc1cccc(CN)c1', 'CCCN1CCN(c2ccc3oc(C)nc3c2)CC1', 'Cc1ccc2c(Nc3ccc(Cl)c(Cl)c3)nccc2c1N(C)C(=O)c1ccc(=O)oc1', 'O=C1c2cccc(O)c2C(=O)c2c(O)cc(CN3CCCC3)cc21', 'COC(=O)NC(C(=O)NC(Cc1ccc(-c2ccc(OC)nc2)cc1)C(O)CC(Cc1ccccc1F)C(=O)NC1c2cccc(F)c2OCC1O)C(C)(C)C', 'CCCCNC(=O)NN=Cc1ccccc1[N+](=O)[O-]', 'N#Cc1ccc2[nH]c(=O)c3c(c2c1)NCCS3', 'NC(=NO)c1ccc(Oc2ccc(C(N)=NO)cc2)cc1']\n",
      "['Cc1ccc(CNS(=O)(=O)NCC(=O)NCCc2c[nH]c3ccc(F)cc23)cc1', 'N=C(N)c1ccc(N2CCCCC2)c(Cl)c1', 'COc1ncc(-c2nnn[nH]2)c(OC2c3ccccc3CC2N2CCN(c3ccccc3)CC2)n1', 'CN(C)C(=O)C(NC(=O)C1CCC(N)CC1)c1ccccc1', 'CC1N=C(O)c2cc(-c3c(F)ccc4c(=O)n(CC5(CN)CC5)c(N5CCOCC5C)nc34)[nH]c21', 'Cc1ccc2c(=O)cc(C)oc2c1N=Nc1ccc(C(=O)O)cc1', 'CCCCCCn1c(CNC(=O)C(CC(C)C)NC(=O)Nc2c(C)cccc2C)nc2cc(Cl)ccc21', 'COC(=O)c1sc(-c2ccncn2)nc1C(Br)Br', 'c1ccc(Oc2ccc3[nH]nc(-c4nc5cc(N6CCC(N7CCCCC7)CC6)ccc5[nH]4)c3c2)cc1', 'Nc1ncnc2c1ncn2C1CCCC1']\n",
      "['NC(CSCc1ccccc1Cl)C(=O)NC1C(Sc2cccc(C(=O)O)c2)OC(CO)C(O)C1O', 'C=C1C(=O)OC2C1CCC(=C)C1(Cl)CCC(=O)C21C', 'CCN(CC)c1nc(Cl)nc(Nc2ccc(N3CCCC3)cc2)n1', 'COC1=CC2C3Cc4ccc(OC)c(O)c4C2(CCN3CC2CC2)CC1=O', 'NC1CCC(c2nc(-c3cnccn3)cnc2N)C1', 'O=C(CN1C(=O)NC2(CCc3ccccc32)C1=O)OCc1c(F)cccc1Cl', 'Cc1oc2c(S(=O)(=O)n3ccc4ncccc43)cccc2c1C(=O)O', 'CC(=Nc1cccc2c(=O)[nH]ccc12)N(Cc1ccc(Br)cc1)Cc1cccnc1', 'COc1cccc(C(=O)n2c(Cc3cc(O)nc(O)n3)nc3cc(OC)c(OC)cc32)c1', 'Cc1cc(C)cc(C(=O)c2nc(-c3cnccn3)c[nH]2)c1']\n",
      "['COc1ccc(OC)c(-c2nnc3ccc(-c4cccnc4C)nn23)c1', 'NS(=O)(=O)c1ccccc1NS(=O)(=O)C=Cc1ccc(F)cc1F', 'C=CCn1c(O)nc(=Nc2ccc(OCc3cc(F)cc(F)c3)c(Cl)c2)n(CC2CC2)c1=O', 'S=c1[nH]nc(-c2ccccc2)n1N=Cc1cccs1', 'COc1ccc(NC2(c3ccc4ccccc4c3)C(=O)Nc3ccc(OC)cc32)cc1', 'O=C(Nc1ncnc2[nH]ncc12)C1(c2ccc(F)cc2)CCC1', 'Clc1cc(NCc2ccc3cccnc3c2)nc(Oc2ccccc2)n1', 'Cc1ccc(C(NC(=O)c2ccc(OCc3c(C)noc3C)cc2)NC(=O)CCc2ccccc2)cc1', 'COc1cccnc1CN1CCN(CCC(O)c2ccc(F)cc2)CC1', 'COc1cccc2c1CCCC2C(C)CCC=C(C)C']\n",
      "['CC(C)c1cccc(C(C)C)c1NC1=NN=C(Nc2noc(-c3ccccc3)n2)SC1', 'COc1nc2sccn2c1C(=O)Nc1cccc(S(=O)(=O)N2CCCCC2)c1', 'N#CC1=CCC2(CC1n1cnc3c(N)ncnc31)c1ccccc1Oc1ccccc12', 'CS(=O)(=O)N1CC2C1CCC(=O)N2c1ccccc1N', 'O=C1c2ccccc2CN1CCc1nnc2n1CCCCCC2', 'COc1cc(OC)n2c1SCC2C(=O)N1CCCCC1C', 'COc1nc(N)nc2c1ccn2-c1ccc(NC(=O)Nc2cc(C(F)(F)F)cc(C(F)(F)F)c2)cc1', 'c1csc(-c2cn(CC3CCNCC3)c3ncnc(NCc4ccc5ncccc5c4)c23)c1', 'COC(=Cc1ccccc1)C(=O)Nc1ccc[n+](C)c1', 'CCCc1nn(-c2ccccc2)c(N)c1C(=O)c1cccc(OC)c1OC']\n",
      "['O=C(c1ccncc1)N1CCn2c1nc(-c1ccccc1)cc2=O', 'Cc1cc(C(=O)Nc2ccc3[nH]c(O)nc3c2)nn1Cc1cc(Cl)c(Cl)cc1Cl', 'ClC(=Cc1ccccc1)C=NOc1ccccc1', 'CC1(C)C(=O)N(c2ccc(C#N)c(C(F)(F)F)c2)C(=S)N1c1ccc(C(N)=O)c(C(F)(F)F)c1', 'Fc1ccc2[nH]c(-c3ccccc3-c3ccccc3)nc2c1', 'CCCC12CCCC3CC(NCC4CCCO4)C(O)(C(=O)OC1)C32', 'O=c1[nH]c2cccc(Oc3ccc(NS(=O)(=O)c4cccc(Cl)c4F)nc3)c2[nH]1', 'CN(C)CCNc1ncnc2c1NCc1c(F)cccc1C2', 'Cc1c(Br)cccc1N1C(=O)c2ccccc2C1=O', 'NS(=O)(=O)c1ccc(C=CCOC(c2ccccc2)(c2ccccc2)c2ccccc2)cc1']\n",
      "['COc1ccccc1CNc1cc2c(cn1)[nH]c1ccccc12', 'CCC1CC(c2ccccc2)=Nc2cc3c(cc21)CCO3', 'CN(C)S(=O)(=O)CCCNC(=O)N(Cc1ccc2c(c1)OCO2)C1CC1', 'BrC1CCCCC1NCc1ccccn1', 'CN(C)c1ncnc2c1n[n+]([O-])c1ccc(Cl)cc12', 'COc1cc(C2C3CCCCC32)on1', 'NC(=S)NN=Cc1cc(I)ccc1OS(=O)(=O)c1cccc(Cl)c1', 'CC(C)C(N)C(=O)NCC(=O)OCc1ccccc1', 'O=CSC(=Cc1ccc3c(c1)OCO3)c1ccc(Cl)cc1', 'Clc1cc(Br)ccc1OCc1cccc(COc2ccc(Cl)cc2Cl)n1']\n",
      "['COc1cc(C(=O)O)ccc1C=C1Cc2cc3c(cc2C1=O)CCC3', 'N#Cc1cccc(NC(=O)c2cc(Cl)ccc2[N+](=O)[O-])c1', 'CC(=O)c1cccc(S(=O)(=O)NC2=C3C(=O)C(=O)c4ccccc4C34CCCC(C)C4C2=O)c1', 'CC(C)c1c(S(=O)(=O)Nc2ccc(C(F)(F)F)cc2F)c(-c2ccc(F)cc2)c(-c2ccc(F)cc2)n1CCC(O)CC(O)CC(=O)O', 'CN1Cn2c3c4ccccc4oc3c3c(=O)oc(=S)n1c32', 'COc1c(I)cc(CCCN2CCN(C(C)=O)CC2)cc1I', 'CC(C)Oc1cccc(C(=O)NNc2nc3ccccc3[nH]c2=O)c1', 'CCc1cc(C(=O)Cn2cnc3ccccc32)c(C)cc1OC', 'CC(Cc1ccccc1)n1cnc2c(Cl)nc(Br)nc21', 'CC(=O)N(C)c1ccc(OCC(=O)NCCC(C)C)cc1']\n",
      "['CNC(=O)c1cc(C(=O)NC(Cc2ccccc2)C(O)CNCc2ccc3c(c2)OCO3)c2ccccc2n1', 'CCc1ccc(CNC(=O)c2cccc3c(-c4cnc(Nc5cc(C)c(OC)c(C)c5)nc4)coc23)cc1', 'CCOC(=O)N1CCN(C(CC(C)C)c2nnc(-c3ccccc3)o2)CC1', 'O=S(=O)(c1cncc2ccccc12)N1CCN(S(=O)(=O)c2ccccc2)c2ccccc21', 'O=C(CCc1ccc(Nc2nccc(NCCc3ccccc3)n2)cc1)Nc1ccccc1Cl', 'Cn1nnc(-c2ccccc2F)n1', 'CN(C(=O)c1ccco1)C1(C#N)CCCC1', 'CC1(O)C23CC1C(C)(CC(O)C2O)C(C)(COCc1cccc4cc(Cl)sc14)CC3=O', 'FC(F)(F)SN(Cc1ccccc1)c1ccccn1', 'Cc1ccc(-c2nn(-c3ccc(Cl)cc3)cc2C2NC(=O)NC(C)=C2C(=O)OCc2ccccc2)cc1']\n",
      "['N=C(N)c1ccc(-n2ccc(C(=N)N)n2)cc1', 'CC(O)Cn1c(N2CCC3OCCC3C2)nc2ccccc21', 'Cc1c(NC(=O)CN2C(=O)N(CC(O)CNC(C)C)S(=O)(=O)c3ccccc32)c(=O)n(-c2ccccc2)n1C', 'O=c1[nH]c(C(Cc2ccccc2)NCCC2(F)c3ccccc3Oc3ccccc32)nc2ccc(Cl)cc12', 'COCC(N=C(O)Nc1cc2[nH]nc(C(F)(F)F)c2cn1)c1ccccc1', 'ClCCCCCCCSc1nccnc1O', 'O=C(O)CN(CCO)S(=O)(=O)c1ccc(NC(=O)CSC(=S)N2CCCC2)cc1', 'O=C(O)c1[nH]c2ccccc2c1Nc1ccccc1', 'O=C(C1CC1c1cccs1)N1CCC(O)C2(CCN(Cc3nccs3)C2)C1', 'OC(=NC1CCNCC1)c1cnc(Oc2ccc3c(c2)CCC(c2ccccc2)O3)s1']\n",
      "['O=C1NC(=O)C(c2ccc(Cl)cc2Cl)N1', 'CCOC(O)=C1C(CSc2ccncc2)=NC(C)=C(C#N)C1c1ccccn1', 'O=C1c2ccccc2S(=O)(=O)N1CCC(O)Cn1ccnc1', 'COc1ccc2c(=O)c3cc(OC)ccc3n(CCCc3ccc(C(C)C)cc3)c2c1', 'CN(C)c1[nH]nc2nnc(N)c-2c1-c1ccccc1', 'CCC(C)NC(=O)c1c(-c2ccc(COC)cc2)oc2ccccc12', 'CCNC(=O)C1=C(C)NC(C)=C(C(=O)N(CC)CC)C1c1[nH]cnc1Cl', 'C=C1CCC2(O)C3Cc4ccc(C(N)=O)c(O)c4C2(CCN3C)C1', 'Brc1c(-c2cccs2)sc2onc(N=CN3CCOCC3)c12', 'COc1ncc(Nc2ncc(C(O)c3cccs3)c(Nc3ccccc3)n2)cc1F']\n",
      "['Fc1cc2c(c3ccccc13)C13CCN(CC4CC1C4)CC2NCC3', 'COc1cccc(-c2cc(COc3ccc(CCC(=O)O)cc3)cc3cccnc23)c1', 'Cc1ccc(C(=O)Nc2ccccc2Cl)c(Cl)c1', 'COc1cc(C=NNc2cc(N3CCOCC3)nc(N3CCOCC3)n2)ccc1O', '[N-]=[N+]=Nc1ccc(O)c(C(=O)C(N)C(=O)O)c1', 'CCCN=C(O)c1c(C2CCCC2)nn2c(C(F)(F)F)cc(-c3cccs3)nc12', 'Cc1cc2c(s1)C(N1CC(c3nc4ccccc4[nH]3)C1)CC2', 'O=C(O)C=CS', 'CCC1(CC)CC(CN)CCN1', 'COc1cc(C=Cc2nc3cc([N+](=O)[O-])ccc3n2C)ccc1-n1cnc(C)c1C']\n",
      "['O=C(c1ccccc1)c1c[nH]c2ncccc12', 'COC(=O)c1sc(C(C)(C)F)c2c1C(=O)CC(C)(C)C2', 'CCc1nnc2c(C(=O)N3CCc4ccccc4C3)cnn2c1N(CC)Cc1ccccc1', 'Cc1cc(-c2c(-c3ccc(F)cc3)nc3n2CCS3)cc(C)n1', 'C#CCn1nccc1C(C)NC(=O)COC', 'COc1c(CC=Cc2cc(OC)c3c(c2OC)OC(C)(C)C=C3)cc2c(c1OC)OCO2', 'Nc1nncc2c(-c3cccc(Br)c3)nccc12', 'N=C1c2cc3c(cc2C(c2cc(O)c(O)c(O)c2)C2CC21)OCO3', 'NC(=S)NN=C1C(=O)N(c2ccccc2)C(=O)C1CC(=O)Nc1ccc(Cl)cc1', 'CC(=O)N(C)c1nc2c(OC3c4cc5c(cc4C(=O)C34CN(C(C)=O)C14)OCO5)cccc2[Si](C)(C)C(C)(C)C']\n",
      "['NC(CCSCC(CCC(=O)O)C(=O)O)C(=O)O', 'Cc1cc2cccc(F)c2nc1C', 'COc1ccc(NC(=O)c2ccc(-c3ccccn3)s2)cn1', 'COc1ccc(NS(=O)(=O)c2ccc(S(=O)(=O)N3CCC(C)CC3)cc2)cc1', 'Cn1cc(-c2cc(S(C)(=O)=O)ccc2Oc2ccnc(Nc3ccc(S(=O)(=O)NCCO)cc3)n2)cc(N2CCN(c3ccncc3)CC2)c1=O', '[O-][n+]1onc(-c2ccccc2Cl)c1-c1ccccc1Cl', 'CS(=O)(=O)NCc1nnn2c1CN(Cc1ccsc1)CCC2', 'C=C(c1ccc(Br)cc1)C1CNC(C(=O)O)C1CC(=O)O', 'CN(C)CCOc1ccc2nc(NC(=O)NN=Cc3cccc(F)c3Cl)sc2c1', 'Brc1ccc(-c2ccc3nncn3n2)s1']\n",
      "['CCOC(=O)c1nnsc1CC(Cc1ccccc1)C(=O)NCC#N', 'COc1ccc(-c2cn3nc(N4CCN(S(C)(=O)=O)CC4)sc3n2)cc1', 'O=C1C(Nc2ccccc2Cl)=C(N2CCCCC2)C(=O)c2ccccc21', 'Cc1nsc(Nc2ccccn2)n1', 'OCC1CN(Cc2ccccn2)CC(n2cnc3c(N4CCOCC4)ncnc32)O1', 'C=CCN(C1=NCCN1)c1c(Br)cccc1C(C)C', 'CNC(S)=NS(=O)(=O)c1c(C)noc1C=CCl', 'Cn1cc(-c2nncn2COCCN2CCCCC2)c2ccccc21', 'Cc1cn(C2OC(COCC#N)C3OC32)c(=O)[nH]c1=O', 'CSCC1OC(n2cnc3c(NC4CCOC4)ncnc32)C(O)C1O']\n",
      "['Cc1c(CNc2nc(Nc3cc(C4CC4)[nH]n3)cc(N3CCCC3CO)n2)cnn1-c1ncnc2nc(C)c(C)cc12', 'O=C(C1CC1c1ccccc1)N1CCC(O)C(Oc2cccc(Cl)c2)CC1', 'Cc1ccc(NC(=O)CSc2nnc(NC(=O)c3ccco3)s2)cc1Cl', 'O=C(NN=Cc1ccc(Br)cc1)c1nn(Cc2ccccc2)c(=O)c2ccccc12', 'CC1(NC(=S)NC(=O)c2cncc(Br)c2)CCS(=O)(=O)C1', 'O=C(C1=NC23CCC1(OCC(F)(F)F)C1Oc4c(O)ccc5c4C12CCN(CC1CC1)C3C5)N1CCN(Cc2cccc(C(F)(F)F)c2)CC1', 'Clc1ccc(OCCN2C3C=CC(C3)O2)cc1', 'NS(=O)(=O)c1ccc(NC(=S)N2CCN(S(=O)(=O)c3ccc(-c4ccc(F)cc4)cc3)CC2)cc1', 'Cc1ccccc1C(=O)N1c2ccc(F)cc2[S+](C)c2ccccc21', 'O=S(=O)(c1cc(Cl)cc(Cl)c1)N(c1ccccc1)c1no[n+]([O-])c1-c1cc(Cl)cc(Cl)c1']\n",
      "['COC(N)=NC(=O)Cn1c(-c2ccc(O)cc2)ccc1C12CC3CC(CC(C3)C1)C2', 'COC12CCC(=O)C=C1C([N+](=O)[O-])=C1N(Cc3ccc(Cl)nc3)CC3CC123', 'CC#Cc1cccc(Nc2ncnc3cc(OCCOC)c4c(c23)OCCNC4)c1', 'CCOC(=O)C(C)CNc1nc(-c2ccc(N(C)C)cc2)c2c(c1C#N)CC(C)(C)OC2', 'Cn1cc(-c2cc(C(O)=NCc3ccc(F)cc3Cl)ccc2C2CC(C)(C(F)(F)F)Oc3ccccc32)cn1', 'O=c1oc2ccccc2n1CCCCCCCCN1CCN(C2=NS(=O)(=O)c3ccccc32)CC1', 'CCSc1sc(-c2cc[nH]n2)nc1O', 'Nc1ncc(-c2[nH]c(N3CCOCC3)nc2-c2ccccn2)cc1C(F)(F)F', 'CC(C)(C)NC(=O)c1ccc(Cl)c(-c2ccc3c(c2)CCCN3C(=N)O)c1', 'CC1CCc2nc(O)c(C(=O)N(C)c3nc4ccccc4s3)cc2C1']\n",
      "['O=c1c(N2CCOCC2)coc2c1c(=O)n(Cc1ccccc1)c1ccc(Cl)cc21', 'CN1CC(C)(COc2ccc(C(=N)N)cc2)Oc2ccc(N(Cc3ccc(F)cc3)C(=O)C(=O)O)cc21', 'CN(C)S(=O)(=O)c1ccc2c(c1)C(=NNC(=O)NO)C(=O)N2c1ccccc1', 'CN(C)C=C1C(=O)C(=O)N(Cc2ccncc2)C1=O', 'Cn1cc2c(=O)n(Cc3ccccc3)nc-2c2c[n+](C)ccc21', 'O=C(Nc1ccccc1)c1cc(S(=O)(=O)N2CCOCC2)c2ccc(Cl)cc2c1O', 'CN(C)CCN1C(=O)c2cccc3cc4snnc4c(c23)C1=O', 'CCOC(=O)C12CC1CN(Cc1ccc3c(c1)OCCO3)C2', 'CCC=c1sc2nc(C)nc(SCCOc3ccc(C)cc3)c2c1=O', 'COc1cc(C=NNC(=O)Cn2nnc(-c3ccccc3F)n2)c([N+](=O)[O-])cc1OC']\n",
      "['CC1Nc2ccc(C#N)cc2S(=O)(=O)N1Cc1ccccc1', 'NC1=Nc2nc3ccccc3n2C(c2ccc(Cl)cc2)N1', 'Cn1c(N2CCNCC2)c(C#N)c2ccc([N+](=O)[O-])cc21', 'COc1ccc(C2=NOC(c3cc4ccccn4c3)C2O)cc1', 'Cc1ccc(NC2=NS(=O)(=O)c3sc(Cl)cc3N2)cc1', 'O=C(CCS(=O)(=O)c1cc(Cl)cc2scnc12)NCc1ccccc1Cl', 'N#Cc1nc(-c2ccc(Cl)c(Cl)c2)oc1NCCCO', 'c1ccc2c(Nc3ccncc3)nc(-c3ccncc3)nc2c1', 'CSc1ncc(-c2ccc([N+](=O)[O-])cc2)n1C', 'Cc1c(Cc2ccc(=O)n(Cc3ccccc3)n2)c2cc(F)cc(F)c2n1Cc1ccc(F)cc1']\n",
      "['COc1cc2c(N3CCN(C(S)=NCc4cccnc4)CC3)ncnc2cc1OCCN1CCCCC1', 'CCOc1c(CC2CCCCC2)cc(CC)nc1N', 'O=CNNc1ccc(Br)cc1', 'O=[N+]([O-])c1ccc(Cc2nc3ccccc3n2S(=O)(=O)c2ccc(-c3cnco3)cc2)cc1', 'CC(C)(C)NC(=O)c1cnnn1-c1ccccc1', 'CN1CCN(c2cnc3cccc(NC(S)=NCCc4ccccn4)c3c2)CC1', 'Cc1ccc(Nc2c(-c3ccc(O)cc3)nc3[nH]cnn23)cc1', 'O=c1ssc2c1c(=O)[nH]c1nc(-c3cccc(Cl)c3)c(-c3ccccc3)cc12', 'CCNC1C=C(C(=O)O)CC(N)C1NC(C)=O', 'OC(COc1ccccc1)CC(O)C[S+]1CC(O)C(O)C1CO']\n",
      "['N=C(Cc1ccc2c(c1)OCO2)NC1C(=O)N(c2cccc(F)c2)C1c1ccco1', 'NCCCC1NC(=O)C(CCCNC(=N)N)NC(=O)C(CO)NC(=O)CC(CC(=O)O)NC(=O)CNC(=O)C(CCCN=C(N)N)NC1=O', 'COC(O)=Nc1ccc2c(c1)N=C(O)CCC=CCC(N1CCC(c3nccc(Cl)c3F)N(Cc3cc(C)no3)CC1=O)c1ncc-2[nH]1', 'Cc1c(N(CCC(F)(F)F)S(=O)(=O)c2ccccc2F)sc2ccccc12', 'Cc1c(C(=O)N2CCCc3ccccc32)sc2ncccc12', 'Cc1ccc(-c2nccc3nc(O)ccc23)cc1', 'CONc1nc(Nc2ccc3ncsc3c2)nc(N2CCOCC2)n1', 'CSc1nnc(-c2ccncc2)n1C', 'COc1cccc(C=Nc2nncc3ccccc23)c1O', 'COc1cc(F)c(-c2nc(C(=O)Nc3cnccc3C3CC(C)C(n4ncc5ccncc54)C(N)C3)ccc2F)c(F)c1']\n",
      "['Cc1noc(C)c1-c1ccc2cnc(Nc3ccc(C4CCN(CCO)CC4)cc3)n2c1', 'COc1ccc(C(C(=O)NC2CCCC2)N(C(=O)c2snc(C(N)=O)c2N)c2cccc(F)c2)cc1', 'CC1CNc2c(cccc2S(=O)(=O)NC(CCCN=C(N)N)C(=O)N2CC(C)CC(C)C2)C1', 'CC(C)CCCC(=O)c1c2c(c(O)c3c1OC1(C)CCC(O)(C(C)C)C1C3)C(=O)C1=C(O)C3(O)C(=O)C(C(N)=O)=C(O)C(N(C)C)C3C(O)C1C2', 'CCc1nnc(NCc2cc3cccc(C)c3nc2Cl)s1', 'O=[N+]([O-])c1cc(C(F)(F)F)c(Cl)c([N+](=O)[O-])c1Nc1nc(-c2cc3cc4c(cc3s2)OCO4)cs1', 'COC(=O)C1=COC(OC2OC(CO)C(O)C(O)(CO)C2O)C2C(C(C)=O)=COC(O2)C1', 'OCC1OC(SSCCF)C(OF)C(O)C1O', 'CS(=O)(=O)C(C#N)=NNc1c([N+](=O)[O-])cc(S(N)(=O)=O)cc1[N+](=O)[O-]', 'NNc1nc(C(=O)NCc2cccc(NS(N)(=O)=O)c2)c2ccccc2n1']\n",
      "['C[N+](C)(C)c1ccc(C=CC=NNC(=O)c2nc3ccccc3[nH]2)c([N+](=O)[O-])c1', 'N#Cc1ccc(-c2nnn(CC(=O)c3ccco3)n2)cc1', 'NC1=NC(CCOc2cc(F)cc(S(=O)(=O)C3(S(=O)(=O)c4ccccc4)CCNC3)c2)CO1', 'COC(=O)c1cc(CNC(=O)c2cccs2)cc(NC(=O)c2cc(-c3ccncc3)c[nH]2)c1', 'Clc1ccc(CN2CCc3nnc(CN4CCNCC4)n3CC2)cc1', 'CN1C(=O)CC(c2ccco2)=NN(CC#N)C1c1ccco1', 'CCN(C)C(=O)Oc1ccc(C2CCCCC2)cc1', 'c1nc(CN2CCCC(Nc3ncnc4ccsc34)C2)c[nH]1', 'CN1C2CC(OC(=O)c3ccc(Cl)cc3)CC1C(C(=O)OCCc1ccccc1)C2', 'Nc1cc2c(=O)c(C(=O)O)cn(S(=O)(=O)c3ccc(OC(F)(F)F)cc3)c2cc1N1CCOCC1']\n",
      "['CC(N=C(O)c1cc(C(=O)N2CCCC2C)n2c1CCCC2)c1ccccc1', 'CCCCCCCCOc1ccc(NC(=O)C(CC(=O)O)NC(=O)Cc2cc(F)c(F)c(F)c2)cc1', 'COc1ccc(F)cc1-c1nc2cnc3[nH]ccc3c2n1C1CCCN(S(C)(=O)=O)C1', 'C=C(CO)C1CCC2(C(=O)OCCc3ccc(O)cc3)CCC3(COC(C)=O)C(CCC4C5(C)CCC(O)C(C)(COC(C)=O)C5CCC43C)C12', 'CC(CC1(C(N)=O)CCOCC1)N=c1[nH]cnc(N)c1C#N', 'Brc1ccccc1-n1c(CNCCc2ccccn2)nc2ccccc21', 'O=C(CCCC(=O)C1=CCCC12CCCCC2)Nc1cccc2cccnc12', 'CCC(C(=O)O)N1C(=O)C(=C(c2ccccc2)c2cc(F)ccc2F)SC1=S', 'NS(=O)(=O)OCC1OC(n2cnc3c(NC(=O)c4cc(Br)c(Br)[nH]4)ncnc32)CC1O', 'NCc1csc(NC(=O)NCCc2ccc(Oc3ccncc3-c3cccnc3)c(F)c2)n1']\n",
      "['NC(CCc1ccc(C#CCC(=O)O)cc1)C(=O)O', 'c1ccc(Cc2c[nH]cn2)cc1', 'C=CCc1c(C)nc2ccc(C(=O)O)cc2c1SCc1ccccc1Cl', 'Nc1ncnc2c1ncn2C=CCC1CC(CO)C(O)C1O', 'COCc1ccc2c(c1)n1ncc(Cl)c1n[n+]2[O-]', 'COCOCOC1=C(C(C)=O)N2C(=O)C(NC(=O)Cn3ccc(N)nc3=O)C2SC1', 'ClCc1cc2oc3ccccc3c2nc1Cl', 'COc1ccccc1N1CCN(S(=O)(=O)c2cc3c(cc2Br)OCC(=O)N3)CC1', 'Cc1ncn(Nc2cccc(O)c2)c1-c1cccc(C#N)c1', 'CCc1ccccc1NCc1coc(-c2ccc(Br)cc2)n1']\n",
      "['COCC(C(=O)Nc1sc2c(c1C#N)CCC2)N1c2ccccc2Sc2ccc(Cl)cc21', 'COc1cccc(CN(c2ccc(C(=O)NCCSC3CCCCC3)cc2)S(C)(=O)=O)c1', 'O=C1NC(c2ccccc2)(c2ccccc2)C(=O)N1CCCCCN1CCC(n2c(O)nc3ccccc32)CC1', 'Clc1cc2nn(Cc3ccccc3)nc2cc1CN1CCN(Cc2ccccc2)CC1', 'CNc1nc(-n2cncn2)nc(NC2C(Cc3nc4cc(C5=Cc6cc(Cl)ccc6N(C)C5)sc4cc3F)C2(C)C)c1F', 'O=C(COc1ccc(Cl)cc1Cl)NN=C(CC(=O)c1ccccc1)CC(=O)c1ccccc1', 'CC(C)(C)C(=O)Nc1c([N+](=O)[O-])cc(C(F)(F)F)cc1[N+](=O)[O-]', 'O=C(O)c1ccc(COc2ccc(-c3cc(F)c4nc(CC(F)(F)F)n(Cc5cccc(Cl)c5)c4c3)cc2)cc1', 'CS(=O)(=O)Nc1nc2ccc(F)c(-c3ccc4c(c3)CCC4N(CC(F)(F)F)C(=O)CCCc3ccccc3)c2s1', 'NC(=O)c1nccn1Cc1cccc(C(N)=O)c1']\n",
      "['CCN1CCCc2c(OCCF)c(OC)cc(OC(=O)NC)c2C1', 'COc1ccc(Nc2ncc3nc(Nc4ccccc4Cl)n(C4CCCC4)c3n2)cc1', 'Cn1c(S)nnc1C(=O)N1CCN(c2cc3c(cc2F)c(=O)c(C(=O)O)cn3CCF)CC1', 'CCOCc1c(C)c(C(=O)NCCOc2ccc(OC)cc2)c(C)n1Cc1ccc(Cl)c(Cl)c1', 'C=CCNc1nc2cc3c(cc2s1)C1CCN(CC4CC4)C1C3', 'CCOC1=C2CN(S(=O)(=O)c3ccc(C)cc3)C(c3ccc(Cl)cc3)CC2N(S(=O)(=O)c2ccccc2C)C(c2ccccc2)C1', 'Nc1cc(C(F)(F)F)ccc1N1CCO[N+]([O-])=C1c1ccc(Cl)cc1', 'O=S(=O)(NCCCCN1c2ccccc2Sc2ccc(C(F)(F)F)cc21)c1ccc(F)cc1', 'CC1=C(c2ccc(C(C)C(=O)OCC[N+](C)(C)C)cc2)Sc2ccccc2N1', 'O=C(O)CCC1CCC(c2ccc(-c3noc(C4CCC4)n3)cc2)CC1']\n",
      "['CCc1cc(-c2nc(-c3ccc(Cl)c(N4CCN(C)CC4)c3)cs2)ccn1', 'Cc1ccc(CSCc2noc(C)n2)cc1', 'Fc1cc(F)cc(C#Cc2cnc3ccccc3n2)c1', 'COc1ncc(-c2nn(Cc3ccccc3F)c3ncnc(N)c23)cc1NS(=O)(=O)c1ccc(F)cc1F', 'OCCN1CCN(C(S)=Nc2cc(Oc3cccc(C(F)(F)F)c3)cc(C(F)(F)F)c2)CC1', 'CC1CCN(S(=O)(=O)Nc2nncs2)CC1', 'CC(C)=C1CCCC2(C)C3=C(C(=O)C(O)C12C)C1C(=O)OC(C)C1CC3', 'CNc1ncc(-c2ccnc3[nH]c(C4CCOC4)cc23)cc1-c1ncccc1N1CCOC(C)(C)C1', 'CC(Cn1nc(CCC(N)=O)n(C)c1=O)=NOC(=O)c1ccccc1', 'CN1CN=C(O)c2oc3c(Cl)cc(-c4cccnc4F)cc3c21']\n",
      "['N#Cc1ccccc1OCCCN1CCN(c2ccc(F)cc2)CC1', 'Nc1ncnc2nc(-c3ccoc3)c(-c3ccco3)nc12', 'CC(C)c1ccc(NC(=O)Cn2c(=O)cc(-c3ccccc3)c3c(C#N)cnn32)cc1', 'CCCC(CCC)N1CCc2cn(-c3ccccc3)c3nc(C)cc1c23', 'O=C(Nc1ccc(Br)cc1Br)c1cc(S(=O)(=O)N2CCCCC2)ccc1F', 'Cc1cc(C)c(NC(=O)c2sc(=S)n(Cc3ccco3)c2C)c(Br)c1', 'CCSSNN(C(=O)c1cccc(Cl)c1)N(C(=O)c1ccccc1)N(C(=O)c1ccccc1)C(C)(C)c1ccccc1', 'Cc1c(OC2OC(CO)C(O)C(O)C2O)cc(Cc2ccc(CP(c3ccccc3)(c3ccccc3)c3ccccc3)cc2)cc1C(=O)C=Cc1ccccc1', 'Cc1cc(O)c(Cn2c(=O)oc3ccccc32)cc1C', 'O=C1C(O)=C(C(Nc2cscc2-c2ccccc2NS(=O)(=O)c2ccccc2)C(F)(F)F)C(=O)c2c(F)ccc(F)c21']\n",
      "['CN(c1ccc2c(c1)OCO2)S(=O)(=O)c1cccc(NC(=O)CNC2CCCC2)c1', 'CON=C(C(=O)NC1C(=O)N2C(C(=O)O)=C(C[n+]3ccc(-c4cc(C)[nH]n4)cc3)CSC12)c1csc(N)n1', 'CN(CCN=[N+]=[N-])CC(O)COC(c1ccccc1)c1ccccc1', 'CC(=O)OCCCCCOC(C)=O', 'CC(CCc1ccc(-c2csnn2)cc1)(C(=O)NO)S(C)(=O)=O', 'CCNC(=O)c1noc(-c2cc(C(C)C)c(O)cc2O)c1NC(=O)c1ncc[nH]1', 'O=C(Nc1cnn(Cc2ccc3ccccc3c2)c1)c1cnn2cccnc12', 'Cc1c(Cl)ccc2c1CCc1c(C(=O)Nc3ccc(Cl)c(-c4ccncc4)c3)noc1-2', 'OC(=NC1OCC(O)(CO)C1O)c1cccc(N=C(O)N2Cc3ccccc3C2)c1', 'Cc1ccccc1NC(=O)C1CC1c1ccc(Cl)cc1']\n",
      "['Cc1nccn1-c1nc(C(=O)NC23CC4CC(CC(C4)C2)C3)cs1', 'CC(Br)C(=O)Nc1cccc(C(=O)NC(=O)Nc2ccc3c(c2)OCO3)c1', 'N#Cc1cccc(N2CCc3cccc(CNC(=O)Nc4ccc(Cl)cc4C(F)(F)F)c32)c1', 'S=C(Nc1ccc(Cl)cc1)NC1CCC(CCn2ccnc2)OC1CO', 'O=C(OC(c1ccc(Cl)cc1)c1cnccn1)N1CC=C(c2ccccc2)CC1', 'O=c1cc2c(nn1Cc1cccc([N+](=O)[O-])c1)-c1ccccc1CC2', 'CN1C=CCC2=NCCN2c2ccccc21', 'CN(C)C(=S)SCC(=O)Nc1ccc(S(N)(=O)=O)cc1', 'CCc1cnc(N2CCSCC2)nc1NCC1COc2ccccc2O1', 'C(#Cc1ccc[n+](CCCc2ccccc2)c1)CC[n+]1cccc2ccccc21']\n",
      "['Cc1ccc2nonc2c1C', 'c1ccc2[nH]c(SCc3nc4nc(C5CCCN5)cc(NCc5ccc6ccccc6n5)n4n3)nc2c1', 'CCCN(C1=NCCN1)C1CCCN(C(=O)C=Cc2ccccc2F)C1', 'CN1CCc2ccc(Nc3ncc4c(n3)-c3c(nn(C)c3Cc3ccccc3)CC4)cc2CC1', 'CC(C)=CCC1CC2(CC=C(C)C)C(=O)C(C)(C)C(CC=C(C)C)(C(=O)C(C(=O)c3ccccc3)=C2O)C1(C)CC(=O)O', 'CS(=O)(=O)CCN1CCC(C(=O)Oc2ccc([N+](=O)[O-])cc2)CC1', 'OC(c1ccccc1)(c1ccccc1)C(O)(Cn1ccnc1)c1ccc(Br)cc1', 'CC(C)(C)C1Nc2ccccc2S(=O)(=O)n2cccc21', 'CCNC(=NS(=O)(=O)c1cc(N)cnc1Nc1ccc(Cl)c(Cn2ccnc2)c1)c1ccccc1', 'CC12OC1C(=O)c1c(cc3n(c1=O)Cc1ccccc1-3)C2=O']\n",
      "['CCCC12CCC(=O)NC1CCC1C2CCC2(C)C(C(=O)NCC(=O)OC)CCC12', 'CCC1(NCC(=O)N2C(C#N)CCC2C#N)CCCC1', 'CNC(C)(C)C(=O)N=C(N)NCCc1ccccc1', 'CCN(Cc1ccco1)C(=O)CCNC(C)=O', 'COC(CNS(=O)(=O)c1ccc2c(c1)sc(=O)n2C)OC', 'CC(=O)Oc1ccc(C=C2Oc3cc(OS(C)(=O)=O)ccc3C2=O)cc1OC(C)=O', 'CCc1ccc(Cn2c(C)c(C(=O)NCc3ccccn3)sc2=O)cc1', 'CC(C(=O)NO)N(Cc1cccs1)S(=O)(=O)C=Cc1ccccc1', 'CCOc1nc(-c2ccccc2Cl)cc(-n2nc(C)cc2C)n1', 'O=S1(=O)c2cccnc2N(C2CCCC2)c2cccnc21']\n",
      "['O=C(c1oc(C(F)(F)F)nc1-c1ccccc1)N1CCN(c2ccccc2)CC1', 'COCC1(CNC(=O)COc2ccc(F)cc2Cl)CCCOC1', 'CN(C)C1C(O)=C(C(N)=O)C(=O)C2(O)C(O)=C3C(=O)c4c(O)c(NS(C)(=O)=O)cc(F)c4CC3CC12', 'O=S1(=O)CC(=NNC(=S)Nc2ccc(Cl)c(Cl)c2)C(c2ccccc2)C1', 'Cc1cc(C)c2c(oc3nc(C)nc(NC(C)c4ccccn4)c32)c1', 'Oc1nc(SCc2ccco2)ncc1Cc1ccccc1', 'CNCc1cn(-c2ccc(C(=O)NCCCC(=O)NO)cc2)nc1-c1ccc2c(c1)OCO2', 'O=C1COc2cc(Cn3cc(C(O)=NCc4c(F)cc(F)cc4F)cn3)ccc2N1', 'Cc1cccc(OC(=O)CCN2c3ccccc3Sc3ccccc32)c1C', 'Cc1cc(CCC#N)cc(C)c1Cc1cc(CCl)cc(CCl)c1']\n",
      "['COc1c(C(C#N)=CN(C)C)c(C)nn1-c1ccccc1', 'N=C1NC(N2CCN(c3ccccn3)CC2)c2coc(n2)-c2coc(Cl)c21', 'COC(=O)CCCCc1cccnc1', 'O=S(=O)(c1ccccc1)N(Cc1c[nH]cn1)c1ccc(N2CCN(C(=S)Nc3ccncc3)CC2)cc1', 'O=C1NCCc2nc(-c3ccncc3)sc21', 'Cc1c([N+](=O)[O-])nn(CC(=O)Nc2ccc(-c3nc4cc(C(F)(F)F)ccc4o3)cc2)c1C', 'NCc1csc(Br)c1', 'O=C(CSc1nnc(Cc2csc(NC(=O)CCl)n2)n1NC(=O)c1ccccc1O)NN=Cc1ccccc1O', 'COc1ccc(Br)cc1C(=O)N1CCCC(n2cncn2)C1', 'ON=Cc1cc[n+](CC=CC[n+]2cccc(C=NO)c2)cc1']\n",
      "['C(=Cc1cccnc1)c1cc(OCCCCN2CCCC2)ccc1Oc1ccc(Cl)cc1', 'OC1CNC(CCOC(c2ccc(Cl)cc2)(c2ccc(Cl)cc2)c2ccc(Cl)cc2)C(O)C1O', 'CNCCCN=C(O)c1cc(NC(=O)c2cc(-c3ccc(F)cn3)c(Cl)cc2Cl)n(-c2ccccc2)n1', 'N=C(N)c1ccc(-c2ccc3[nH]c(-c4cc(CC(=O)O)ccc4O)c(Cc4ccccc4)c3c2)cc1', 'N=C(O)c1ccc(-c2cnc3ccc(NCc4ccc(Cl)c(Cl)c4)nn23)cc1', 'Nc1nc([N+](=O)[O-])cn1S(=O)(=O)c1c(Br)cc(Br)cc1Br', 'O=c1[nH]cnc2c(-n3cc(CCN4CCC(O)(CCCCc5ccccn5)CC4)cn3)cccc12', 'N=C(Cc1ccc2ccccc2c1)N1CCOCC1', 'N#CC1C(c2ccc3c(c2)OCCO3)OC(n2cnc3c(N)nc(N)nc32)C1O', 'CN1CCN(C2=Nc3cc(Cl)ccc3Sc3ccccc32)CC1']\n",
      "['N=C(N)c1cc2cc(-c3c(O)cccc3O)ccc2s1', 'O=C(CCC(C(=O)c1ccccc1)C(=S)Nc1ccccc1)Nc1ccccc1', 'Cc1noc(CNc2coc(C)n2)n1', 'Cc1cccc(CCNC(=O)c2cc(Sc3cnc(Nc4cccc(S(C)(=O)=O)c4)s3)ccc2N)c1', 'Cc1cc2c(c(Br)c1C(C)CN1CCOCC1)CCCC2', 'CNS(=O)(=O)Nc1cccc(Cn2c(=O)oc3ccc(C)cc32)c1', 'CCN(c1ccc(C(O)(C(F)(F)F)C(F)(F)F)cc1)C(COCC(F)(F)F)c1ccccc1', 'O=C1CC2(CCCC2)CC(=O)N1c1ccc2ncsc2c1', 'O=P(O)(O)C(Nc1ccc(O)cc1)c1ccc(O)cc1', 'CN1CCN(Cc2ccccc2C(c2ccccc2F)N2CCN(c3cccc(Cl)c3)CC2)CC1']\n",
      "['O=C(O)c1ccc(Nc2[nH]nc3c2CN(C(=O)CC(=O)O)C3(C(=O)O)c2ccccc2)cc1', 'C=Cc1cccc(NC(=O)Nn2c(-c3ccncc3)nc3ccccc3c2=O)c1', 'COc1cc([N+](=O)[O-])c2oc(-c3cccs3)cc(=O)c2c1', 'c1csc(C2NCCc3sccc32)c1', 'Cc1nc2ccc(CN(c3sc(C(C)(C)C)nc3C#N)S(=O)(=O)c3ccc4ncoc4c3)cc2o1', 'COc1ccccc1Oc1c(C=C2SC(=S)N(C(CS(C)(=O)=O)C(C)C)C2=O)c(C)nn1-c1ccccc1', 'N#Cc1cccnc1NCCNC(=O)Cc1nc(N2CCOCC2)cc(=O)[nH]1', 'C=CCn1c(S)nnc1-c1cnn2ccccc12', 'COc1cc(C=C2CSC(=O)NC2=O)ccc1OC(=O)c1ccccc1O', 'COC1CCCN(C(=O)c2ccc(C3C(CC3c3ccc(Cl)cc3)C3CCN(C4CCCC4)CC3)cc2)C1']\n",
      "['O=C(C=Cn1cncn1)c1cccc([N+](=O)[O-])c1', 'CC1(C)CC(C)(C)CC2(C1)NC(=O)N(CC(=O)c1ccc(F)cc1)C2=O', 'C=C(c1ccc(OCCCN2CCCCCC2)cc1)c1ccc(OCCN2C(=O)C(C)=C(OC)C2=O)cc1Cl', 'O=S(=O)(NCc1ccc2c(c1)OCO2)c1c(Cl)cc(Cl)cc1Cl', 'CNC(=O)Oc1cccc(F)c1', 'Clc1ccc(-c2nn3c(NC4CCCC4)nnc3s2)cc1', 'CCCCCC(O)C#CCCCCCCCCCC1CCC(O)C(O)C1', 'Oc1ccc2oc3ncc(OC4OC(COC5OC(COC6OC(CO)C(O)C(O)C6O)C(O)C(O)C5O)C(O)C(O)C4O)c(O)c3c2c1', 'CC(OC(=O)c1nc(Cl)ccc1Cl)c1ccccc1', 'Clc1ccc(Br)cc1CN1CCN(CCOCc2ccccc2)CC1']\n",
      "['C=CCN=C(O)c1cc(C#N)ccc1C1C2=C(CCC2=O)N(c2cccc(C(F)F)c2)C(=O)N1C(O)=NC', 'c1nncc2c1CCC2', 'CC(C)n1c(CCCOc2ccncc2)nc(N(Cc2ccccc2)Cc2ccccc2)c1C(=O)NCc1ccc(Cl)cc1', 'CC(=O)N(CCc1nc(C2=NCCN2)cs1)C(C)=O', 'CCCC(=Nc1cccs1)N1CCN(C(=O)Nc2cccc(Cl)c2)CC1', 'O=P(O)(O)CN1CCOCC1', 'CC(Sc1ccccn1)C(=O)Nc1cccc2c1CCC2', 'Brc1cccc(NC(=S)c2ccc(OCC3CS3)cc2)c1', 'O=c1cc(-c2ccc(OCCOCCOCCN(CCOCCOc3cc(=O)oc4ccccc34)Cc3cc(O)cc(O)c3)cc2)oc2ccccc12', 'CSc1ccc(Oc2nc(C)ccc2C(=NO)N2CC(C)CC(C)C2)c(C)c1']\n",
      "['O=C(O)c1ccsc1SCc1nc(-c2ccc(Br)cn2)no1', 'CC(C)S(=O)(=O)NC(CC1CCCC(N(C)c2ncnc3[nH]cnc23)C1)c1ccccc1', 'CC(=C1N=C(C)N=C1O)c1ccc2[nH]ncc2c1', 'O=CC(CC(=O)O)NC(=O)CN1C(=O)C(NC(=O)c2ccc3ccccc3c2)CC(=O)N1CCC(=O)c1ccc(Cl)cc1', 'CN(CCOC1C=CC(=O)C(Cc2cc3ccccc3s2)O1)Cc1c[nH]cn1', 'COC1=CC(=O)c2c([nH]c(CNc3cccnc3Cl)c2C)C1=O', 'Cc1cc(C)n2nc(SCC(=O)Nc3ccc(Cl)cc3C)nc2n1', 'COc1ccc(C(=O)Nc2ccc3sc(C)nc3c2)cc1Br', 'Cc1ccc2c(c1)nc(NCCN)c1c3ccccc3[nH]c21', 'CCCC1(C)Oc2cc(C)ccc2C(NC(=O)c2nn[nH]n2)C1O']\n",
      "['COc1ccc(C(=O)c2ccc3oc(-c4cc([N+](=O)[O-])c(CC(=O)O)c(I)c4)nc3c2)cc1', 'Cc1ccc(S(=O)(=O)NN=Cc2ccc(O)c3ncccc23)cc1', 'CCOC(=O)c1[nH]c2ccc(CCN3C(=O)CNC3=O)cc2c1CCN(C)C', 'Sc1nnc(CSCc2ccccc2)n1Cc1ccccc1', 'O=C(CCC1CN(Cc2ccccc2)CCO1)NO', 'c1ccc(N2CCN(CCCc3c(-c4ccccc4)[nH]c4ccccc34)CC2)cc1', 'CC1CCCC(C)N1Cc1cc(N2C(=O)CCC2C(=O)NCc2ccncc2)ccc1Cl', 'CN(C)c1ccc(-c2nc3ccc(O)cc3s2)cc1Cl', 'CCCCCC(=O)c1cccc(O)c1C(=O)O', 'O=C(NCCc1ccc(F)cc1)c1onc(CSc2ccccc2)c1C(=O)NCC1CC1']\n",
      "['O=C1Nc2c(CNC(CO)C(=O)O)n[nH]c2N(Cc2ccccc2)C1=O', 'Fc1cc(OC(F)(F)F)cc(N2Cc3ccccc3OC2c2sccc2CCN2CCCC2)c1', 'CC1(C)Cc2nc3sc(C=CC(=O)N4CCOCC4)c(N)c3cc2CO1', 'CCc1c(COc2ccc(CCO)cc2)c(COc2ccc(-c3ccc(O)cc3)c(C(C)C)c2)noc1=O', 'N#CC1(c2ccc(-c3ccc(N4CC(Cn5ccnn5)OC4=O)cc3F)cn2)C2COCC21', 'Fc1ccc2ccc3c(c2c1)C(OCCNCc1ccc(Cl)cc1)Cc1nn(Cc2ccc(Cl)c(Cl)c2)c(Nc2ccc(Cl)cc2)c1-3', 'FC(CN1CCOCC1)OC(Cn1cncn1)c1ccccc1Cl', 'CCC(=C(C#N)C(=O)Nc1ccccc1OC)N1CCCC1', 'NC(CCl)c1cccc(OCc2ccc3ccccc3c2)c1N1CCNCC1', 'CCCCCCOc1c(OC)cc(C2NC(=S)NC(C)=C2C(=O)Nc2cccc([N+](=O)[O-])c2)cc1OC']\n",
      "['CCOP(=O)(OCC)C(O)c1cccc(Oc2ccc(Cl)cc2Cl)c1', 'O=C(O)c1ccccc1NC(=O)N1CCc2ccccc2C1', 'COc1ccc(S(=O)(=O)N2CCN(CC(=O)N3CCOCC3)CC2)cc1OC', 'OCC#Cc1ccccc1C#Cc1ccccc1', 'NC(CNc1nc(-c2ccncc2F)nc2c(-c3ccc(N4CCOCC4)cc3)csc12)Cc1ccccc1', 'COc1ccc(NS(=O)(=O)C(F)(F)F)cc1CC(=O)NC1CCCc2cc(CN3CCCCC3)ccc21', 'N#Cc1[nH]nc2cc(Cl)sc12', 'NC(=O)c1c(F)ccc(OCC2CC(O)C(O)C2)c1F', 'Cc1ccc(Oc2cc(C(=NO)NCc3cccs3)ccn2)c(C)c1', 'CCOc1c2ccc(C(=O)NCc3ccc(F)c([N+](=O)[O-])c3)cc2nn1CC(=O)NC']\n",
      "['CC(C)(C)CC(C)(C)Nc1nc(N2CCN(c3ncc(F)cn3)CC2)ncc1C(=O)C(C)(C)C', 'COc1cc2c(C)c(CCC(=O)N3CCCC(C)C3)c(=O)oc2c(C=O)c1O', 'CCCCCCCC#CCc1cccc(B2OC(C)(C)C(C)(C)O2)c1', 'c1cncc(Nc2nnc(Nc3ccc(-c4nc5ccccc5o4)cc3)s2)c1', 'COC(=O)C1=C(C)NC(=S)NC1c1ccc(O)cc1', 'c1cncc(CCNc2nc(NCCOc3cnnc(C4CC4)n3)c3sccc3n2)c1', 'COc1cccc(Cn2c(SCC(=O)NCC3CCCO3)nc3c(oc4ccccc43)c2=O)c1', 'NC1CN(c2ccc(C(=O)N3CCc4ccc(-c5cc[nH]n5)cc43)c(C(F)(F)F)n2)CC1c1cc(F)cc(F)c1', 'CSc1nc(-c2ccc(F)cc2)c(-c2ccnc(NC(CO)c3ccccc3)c2)[nH]1', 'OCCCN=c1cc(-c2ccccc2)oc2ccccc12']\n",
      "['C#CCn1c(=O)cc(NC2CCCC(N)C2)n(Cc2ccccc2)c1=O', 'COc1ccccc1C(CC(=O)O)Nc1ccc(C)nc1[N+](=O)[O-]', 'N=c1oc2ccc(O)cc2cc1C(=O)NCCCN1CCOCC1', 'COc1ccc(-c2nc(C(F)(F)F)sc2-c2ccc(OC)c3nc(C(F)(F)F)ccc23)cc1', 'CCOC(=O)N1CCN(C(=O)C(C)NS(=O)(=O)c2ccc3c(c2)C(C)(C)C(=O)N3C)CC1', 'Cc1ccc(S(=O)(=O)ON=C2Cc3c([nH]c4ccccc34)C3(CCN(Cc4ccccc4)CC3)C2)cc1', 'O=C(NC(CSc1ccccc1)Cc1ccccc1)c1cc2ccccc2cc1O', 'CCCCc1nc2cc(N)c(Cl)cc2n1Cc1ccc(-c2ccccc2C(=O)O)cc1', 'CCCN(CCC)c1cc(N(CC)c2ccc(OC)cc2Cl)c2nc(N(CCC)CCC)ccc2n1', 'O=C(O)C1(O)N(Cc2cc(Cc3nc(-c4ccco4)no3)ccc2Cl)C(=O)c2ccccc21']\n",
      "['N=C(N)C1CCCN1c1nc(-c2nccc3[nH]ccc23)c(-c2ccncc2)s1', 'COc1cc(-c2ccc[nH]2)nc2cccc([N+](=O)[O-])c12', 'N#CCC1(n2cc(-c3c(F)ccnc3OC3CC3)cn2)CN(C2CCN(C(=O)OC3CC3)CC2)C1', 'CC(NC(=O)c1ccc(NC(=O)N2Cc3cccnc3C2)cc1)c1ccc(S(N)(=O)=O)cc1', 'COc1ccc2nc3n(c(=O)c2c1)-c1ccccc1O3', 'CC1CCN(c2oc(-c3ccsc3)nc2S(=O)(=O)c2ccc(Br)cc2)CC1', 'COCCN1C(=N)NC(c2sc3ccccc3c2Cl)C1=O', 'Brc1ccc2nn(-c3ccccc3)nc2c1', 'Cc1ccc(CCC(NC(CCc2ccccc2)C(=O)O)C(=O)O)cc1', 'O=C(O)c1ccc(Cl)c(S(=O)(=O)Nc2ccc(-c3cc(-c4ccccc4)nc(S)n3)cc2)c1']\n",
      "['COc1ccc(C23CC4(C)C(c5ccc([N+](=O)[O-])cc5)=NN(c5ccccc5)C4N2N=N3)cc1', 'O=C(O)CC1CCC(c2ccc(C(=CCC(O)CNc3ncccn3)c3ccc(F)cc3N3CCSCC3)cc2Cl)CC1', 'S=C1C=C(Nc2ccc3[nH]ncc3c2)CN1', 'Nc1cc(O)nc(NO)n1', 'O=C1C(=Cc2ccccc2O)CNCC1C(c1ccccc1Br)c1ccccc1Br', 'OCc1ccc(-c2cncc(N(CCC(F)(F)F)CCN3CCOCC3)c2)o1', 'Oc1nsnc1N1CCOCC1', 'O=C(O)C1CC2CCCC2C2CCCC12', 'NS(=O)(=O)c1ccccc1NS(=O)(=O)c1cccs1', 'Cc1cccc(C)c1CNc1ccnc(N2CCN(C)CC2)n1']\n",
      "['CCCCS(=O)(=O)c1nsnc1C', 'Cc1onc(-c2c(Cl)cccc2Cl)c1C(=O)NCCOc1ccccc1', 'O=C(COc1ccccc1)N1CC(c2ccncc2)C1', 'COc1cccc(N2CC(C(=O)NCCC(C)C)CC2=O)c1', 'COc1cccc(NC(=O)Cn2c(=O)n(Cc3ccccc3)c(=O)c3ccc(C(=O)NCc4ccccc4F)cc32)c1', 'CCN(Cc1cn(Cc2cccc(C#N)n2)nn1)c1ccc(C(=O)NO)cc1', 'CCC(C)COc1cccc(N2C(N)=NC(N)=NC2(C)C)c1', 'CCSC1=NC(=C=Cc2cccnc2)C(Nc2ccccc2F)=N1', 'CN(CCCCCOc1ccc(C(=O)c2ccc(F)cc2)cc1)Cc1ccccc1', 'NC(Cc1ccc(Cl)s1)c1csc(Nc2ncccn2)n1']\n",
      "['O=[N+]([O-])c1cc(-c2cccc(F)c2)nc2ccccc12', 'ON=C(NC1CCCC1)c1ccccc1', 'Cc1c(NC(=O)c2cccc(N3CCN(C(=O)c4ccco4)CC3)c2)c(=O)n(-c2ccccc2)n1C', 'CC1(C)Oc2ccc(Br)cc2C(N2CCCC2)C1O', 'Brc1ncnc2[nH]c3ccc(Oc4ccncc4)cc3c12', 'COc1cc2nnc(-c3cccnc3)n2cn1', 'CC(C)C(NCCc1ccoc1)C(=O)N(C)Cc1nc(C2CC2)no1', 'CN1C(=O)C(=Cc2ccc(O)cc2)SC1=S', 'O=[N+]([O-])c1ccccc1OCC(O)CNCCOc1cccc(I)c1OC1CCCC1', 'NS(=O)(=O)c1cc2cc(Br)ccc2oc1=O']\n",
      "['NNC(=O)CC(N)=NNC(=O)c1ccccc1', 'CCCCCNc1n[n+](-c2ccc(Br)cc2)c(-c2ccc(Br)cc2)s1', 'COc1cccc(C2=C(NC(=O)c3ccccc3OC)C(=O)c3ccccc3C2=O)c1', 'CCOc1cc2ncc(C#N)c(Nc3cccc([N+](=O)[O-])c3)c2cc1NC(=O)CCN1CCOCC1', 'COCCNC(=O)N1C(CO)C(c2cc(-c3nnc(C)o3)c(F)cc2C)C1CNC(=O)C(F)(F)F', 'CC(NC(=O)OC(C)(C)C)C(=O)Nc1ccccc1-c1nc(NCCNC(=O)OC(C)(C)C)ncc1O', 'Cc1cc(COc2ccc(C(=O)NCC3(Cc4cn5ccccc5n4)C(=O)NC(=O)NC3=O)cc2)c2ccccc2n1', 'O=C(CN1CCOCC1)Nc1nc(-c2ccc3c(c2)CCCC3)cs1', 'Cc1[nH]c2ccc(C3C(C(=O)NO)C3c3ccccc3)cc2c(=O)c1Br', 'CC(=O)c1ccc(C=C2c3nc4ccccc4cc3C(=O)N2Cc2ccco2)cc1']\n",
      "['Cc1nc2c(OCc3ccncc3)cccn2c1NS(C)(=O)=O', 'Clc1ccc(C=NNc2cc(N3CCOCC3)ncn2)o1', 'O=C1COCC2C(NC(=O)OCc3[nH]cnc3Br)Cc3c([nH]c4ccccc34)C(=O)N12', 'COc1ccc2oc(=O)c(S(=O)(=O)Nc3ccccc3-c3ccccc3)cc2c1', 'CCOc1ccc(Sc2ccc([N+](=O)[O-])cc2N)cc1', 'Nc1[nH]cnc2nc(-c3ccc(O)cc3)c(-c3ccc(O)cc3)c1-2', 'CC(C)OC(=O)C(=Cc1ccccc1)N(C(=O)C(C)C)c1ccccc1', 'CC1N=C(N=c2[nH]nc(-c3ccc4[nH]cc(-c5ncn[nH]5)c4c3)s2)N=C1S', 'NS(=O)(=O)c1ccc(NS(=O)(=O)C(F)(F)C(F)(F)C(F)(F)C(F)(F)C(F)(F)C(F)(F)C(F)(F)F)c(Br)c1', 'Cc1nn(Cl)c(C)c1NC(=O)N(Cc1ccccc1)Cc1cccc(Oc2ccccc2)c1']\n",
      "['c1ccc(CCN(Cc2cc(-c3ccc4c(c3)OCO4)no2)c2nc(C3CC3)nc3ccccc23)cc1', 'NC(=O)c1cnc2ccc(S(=O)(=O)Nc3ccc(C(=O)NC(Cc4ccccc4)C(O)CNc4ccc(CO)cc4)cc3)cc2c1Nc1ccccc1', 'CCN(CC)CCCCC(C)Nc1n[n+]([O-])c2cc3ccccc3cc2[n+]1[O-]', 'Cc1cc(C)nc(NC(=O)c2ccc3ncsc3c2)c1', 'C=C1C(=O)C2(C(O)C1OC(=O)c1ccccc1[N+](=O)[O-])C(C)CCC1C(C)(C)CCCC12C', 'Fc1ccc2c(c1)CN(CCC1CCC(NC(=S)Nc3ccccc3)CC1)CC2', 'O=c1oc2ccccc2c(=O)n1-c1cccc(F)c1', 'CC(C)C(F)(F)C1=Cc2nc1c(F)c1ccccc1n2C1CCC1', 'CCC=C1C(=O)C2C3CCC4CC(OC=O)CCC4(C)C3CCC21C', 'CC(C)c1ccc(Nc2oc(COc3ccccc3F)nc2C#N)cc1']\n",
      "['CN(c1ccnc(Nc2nc(-c3cc4ccccc4o3)cs2)n1)C1COC1', 'ON=Cc1cnc(-c2ccccc2)s1', 'CN1CCN(c2sc(C(F)(F)F)c3c2C(=O)c2ccccc2-3)CC1', 'O=C1CN(S(=O)(=O)c2ccccc2)CCN1S(=O)(=O)c1ccccc1', 'COc1ccc(NC(=O)c2cc(NC(=O)CCc3nc4ccccc4n3Cc3ccc(Cl)cc3)cn2C)cc1Cl', 'COc1ccc(CNc2oc(COc3ccc(F)cc3)nc2C#N)cn1', 'O=C(Nc1cc(C(O)=NC2(CCO)Cn3ccnc3C2)nn1-c1ccccc1)c1cc(-c2ccccn2)c(F)cc1Cl', 'CCc1nn(Cc2ccc(C(=O)Nc3cccc(S(=O)(=O)N(C)C)c3)cc2)c(CC)c1CC(=O)O', 'O=C(CCc1nnc(-c2ccccc2)o1)NCC1CCCO1', 'N=C(N)NOCCCOc1cc(Cl)c(N)cc1Cl']\n",
      "['Fc1c2ncccc2c(F)n1CCCN1CCOCC1', 'CSc1ccc(Nc2nc(=Nc3ccc(SC)cc3)sn2C)cc1', 'O=C(NCCOCCOCCNC(=O)Nc1ccc(-c2sccc2CN2CCNCC2)s1)NC12CC3CC(CC(C3)C1)C2', 'COC1COCCC1NC1CC2CN(C(=O)c3cc(Cl)cc(C(F)(F)F)c3)CC2(C(=O)N2CCc3ncc(C(F)(F)F)cc3C2)C1', 'CCC(=O)N1CCN(CC(=O)NCCN2C(=O)SC(=Cc3cccnc3)C2=O)CC1', 'CC(=O)OC1CC2C(C)(C)C(=O)C=CC2(C)C2C(O)CC3(C)C(c4ccoc4)OC(=O)C4OC43C12C', 'CCCN1CCN=C1C=NO', 'O=c1c(SSc2nc3ccccc3[nH]2)coc2ccccc12', 'COc1ccccc1COc1ccc2cc(NC(=O)C3CC3)n(CC(=O)NC(C)(C)CO)c2c1', 'COC(=O)c1[nH]c2cccc(OC)c2c1NC(=O)c1c(-c2ccccc2)n[nH]c1C']\n",
      "['N=C(N)c1ccc(-c2ccc(N)cc2)o1', 'O=C1Cc2nc(NC(=O)CCNC(=O)c3cccc(-n4cnnn4)c3)sc2-c2ccccc2N1', 'N=C(N)C1CCN(C(=O)Cc2cc(C(F)(F)F)cc(C(F)(F)F)c2)CC1', 'Cc1cc(CN(CC(N)=O)C(C)C)c(Cl)cc1C1=NCCN1', 'Clc1ccc2c(c1)OC(c1ccccc1)C2n1ccnc1', 'Cc1nc(C)c(CC(=O)NC2CCC(CCN3CCN(c4nccc5c4CCO5)CC3)CC2)s1', 'CCCCOc1ccc(C(=O)NCC(=O)NN=Cc2cccs2)cc1', 'CN(C)C(=O)c1cc2cnc(Nc3ccc(-c4cnc(N5CCOCC5)nc4)cn3)nc2n1C1CCCC(N)C1', 'O=C(O)C(CN=C(O)N1CCc2cnc(NC3CCOCC3)nc2C1)c1ccccc1', 'Cc1cc(Nc2nc(NCCO)c3cnn(-c4ccc(F)cc4)c3n2)ccc1-n1cc(C(N)=O)cn1']\n",
      "['CC(O)(CNc1ccc(C(=O)O)cc1)C(=O)O', 'c1ccc(-c2nnnn2Cc2ccccc2)cc1', 'O=C1CSc2c(cccc2[N+](=O)[O-])N1C1CC1', 'Cn1nnc(NC(=O)CCC2CCCC2)n1', 'CCC(C(N)=O)N1CC(=O)N=C(SCc2ccccc2)NCCCCC=CCC(C(=O)O)NC(=O)CC(O)(CC)C1=O', 'CCOc1ccccc1CNC(=O)CCC(=O)N1CCOc2ccccc21', 'COc1cc2occ(CNCc3ccc(OC(C)C)c(OC)c3)c2cc1OC', 'CCN(c1ncc(Br)cn1)C1CCN(C(=O)OC(C)(C)C)CC1', 'C=CCN1CC(C(O)(C(F)(F)F)C(F)(F)F)OCC1C', 'COc1nn(CCO)c(=O)c2c(N)sc(C(N)=O)c12']\n",
      "['COC(=O)C1=C(NS(=O)(=O)c2ccc(C)cc2)CCS1', 'CCCCN1CCN=C1C=NO', 'N#CSCC(=O)OCC1CN(c2cccc(N3CC[S+]([O-])CC3)c2)C(=O)O1', 'CC(=O)OCC1(C)CCCC2(C)c3cc(-c4c(C)cc(Cl)cc4C)ccc3C(C)CC(=O)C12', 'O=C(c1cc(O)cc(C(=O)O)c1)c1cc(F)c(O)c(F)c1Cl', 'COc1ccc(Nc2cc(-c3ccc(C(N)=O)cc3)ccc2N(CCNC(C)C)CCN(C)C)cc1', 'NC(=O)NCc1nn2ccc(Br)cc2c1-c1ccccc1Cl', 'CCOC(CCN1CCC(COc2ccc(C(=O)c3c[nH]cc(C)c3=O)cc2)C(CO)C1)OCC', 'O=C(c1ccc([N+](=O)[O-])cc1Cl)N1CCCC1', 'COc1ccc(NCC=C(C)C)cc1']\n",
      "['CCC1NC(=O)C(CCCNC(=N)N)NC(=O)C2CCCN2C(=O)C(CO)NC(=O)C(Cc2ccc(O)cc2)NC1=O', 'O=C1Nc2ccccc2-c2cnnn21', 'Cc1cccc(NC(c2ccc(Cl)cc2Cl)c2ccc3ccc(C=O)cc3c2O)n1', 'O=C(C=Cc1c(F)ccc(OCc2cccc(C(F)(F)F)c2)c1F)NS(=O)(=O)c1cccs1', 'Cc1nc(C)n(CC2CCCN2Cc2nc(-c3cccs3)no2)n1', 'COC(=O)C1=C(C)NC(SCC(N)=O)=C(C#N)C1c1ccc(OC)c(OC)c1OC', 'CCC1COCCN1C(S)=Nc1cccc(S(C)(=O)=O)c1', 'CCCc1ccccc1OCCN(c1ccsc1C(=O)NCC)S(C)(=O)=O', 'COc1cnc(C(=O)Nc2ccc(F)c(C3(C(F)F)N=C(N)OC4CC43)c2)cn1', 'CN(Cc1c(F)c(F)c(F)c(F)c1F)C(=O)C(C)(C)c1cc(F)cc(F)c1']\n",
      "['Oc1[nH]c(NCc2ccc(Cl)cc2)nc2ncnc1-2', 'CCOC(=O)Cc1n[nH]c2c1CCCC2', 'O=C(NC(=S)Nc1c(F)cc(SC(F)F)cc1F)c1cnccn1', 'c1csc(C(c2ccccc2)N2CCN(Cc3ccc4c5c(cccc35)CC4)CC2)c1', 'COc1cccc2c1C13CCN(CC4CC4)C(C2)C1CCC(=O)C3', 'CN(C1CCC(N2CCC2)C1O)S(=O)(=O)c1ccccc1Cc1ccccc1', 'OC1CCN(c2ccc(Nc3nc(-c4ccc5ccccc5c4)cs3)cc2)CC1', 'CC(NCc1ccc2c(ccn2Cc2ccccc2)c1)C12CC3CC(CC(C3)C1)C2', 'O=[N+]([O-])c1ccc(-c2cscc2-c2ccccc2)cc1', 'CCOc1ccc2oc(C(=O)N3CCC(n4ccnc4)CC3)c(C)c2c1']\n",
      "['O=C1OCC2=C1C(c1ccc(-c3ccc(-c4ccco4)o3)c(F)c1)c1cc3[nH]ccc3cc1N2']\n"
     ]
    }
   ],
   "source": [
    "for batch in data:\n",
    "    print(batch)"
   ],
   "metadata": {
    "collapsed": false,
    "ExecuteTime": {
     "end_time": "2024-04-01T14:44:23.245400051Z",
     "start_time": "2024-04-01T14:44:23.178787774Z"
    }
   },
   "id": "aabc93ccf04ceb1d"
  },
  {
   "cell_type": "code",
   "execution_count": null,
   "outputs": [],
   "source": [
    "def get_inputs(self, dataset, task, batch_size, device=None, idx=None):\n",
    "\n",
    "    if idx is None:\n",
    "        sampled_idx = torch.randperm(len(dataset))[:batch_size]\n",
    "    else:\n",
    "        sampled_idx = idx\n",
    "    mlm_probability = self.mlm_probability\n",
    "\n",
    "    if dataset.target_label is None:\n",
    "        inputs = [dataset[idx] for idx in sampled_idx]\n",
    "        target = None\n",
    "    else:\n",
    "        inputs = [dataset[idx][0] for idx in sampled_idx]\n",
    "        target = torch.Tensor([dataset[idx][1] for idx in sampled_idx])\n",
    "        \n",
    "\n",
    "    \n",
    "    mask = torch.einsum('bi, bj -> bij', (inputs['attention_mask'], inputs['attention_mask'])).unsqueeze(1)\n",
    "    mask = mask if self.use_pad_token_attention_mask else None\n",
    "    eos_mask = inputs['input_ids'] == self.eos_token_id\n",
    "\n",
    "    if task == 'lm':\n",
    "        mlm_probability = 0.0\n",
    "        inputs, labels = self.prepare_tokens(\n",
    "            self.set_generation_task_token(inputs['input_ids']), inputs['special_tokens_mask'], mlm_probability)\n",
    "    elif task == 'mlm':\n",
    "        inputs, labels = self.prepare_tokens(\n",
    "            self.set_prediction_task_token(inputs['input_ids']), inputs['special_tokens_mask'], mlm_probability)\n",
    "        # inputs = self.set_prediction_task_token(inputs)\n",
    "    else:\n",
    "        raise ValueError('Variable `task` must be either `lm` or `mlm`.')\n",
    "\n",
    "    inputs = {'input_ids': inputs, 'attention_mask': mask, 'labels': labels, 'target': target, 'eos_mask': eos_mask}\n",
    "\n",
    "    if device is not None:\n",
    "        for key, value in inputs.items():\n",
    "            if value is not None:\n",
    "                inputs[key] = value.pin_memory().to(device, non_blocking=True)\n",
    "\n",
    "    return inputs"
   ],
   "metadata": {
    "collapsed": false
   },
   "id": "c2c38b65058e6494"
  },
  {
   "cell_type": "code",
   "execution_count": null,
   "outputs": [],
   "source": [
    "Load ZINC test between 0.7, 0.8\n",
    "\n",
    "Sample 64\n",
    "\n",
    "For Each generate 10 samples \n",
    "\n",
    "Look for how many it is ok "
   ],
   "metadata": {
    "collapsed": false
   },
   "id": "d353ced6a49831d"
  },
  {
   "cell_type": "code",
   "execution_count": 14,
   "outputs": [
    {
     "name": "stderr",
     "output_type": "stream",
     "text": [
      "100%|██████████| 238706/238706 [03:28<00:00, 1143.79it/s]\n"
     ]
    }
   ],
   "source": [
    "# Load ZINC test\n",
    "    \n",
    "smiles = read_strings_from_file('/home/adam/Projects/hybrid-transformer/data/guacamol/test/smiles.txt')\n",
    "qed = get_objective(smiles_list=smiles, objective='qed')"
   ],
   "metadata": {
    "collapsed": false,
    "ExecuteTime": {
     "end_time": "2024-04-02T13:12:30.369890133Z",
     "start_time": "2024-04-02T13:09:01.577917495Z"
    }
   },
   "id": "41a68fd2302313ec"
  },
  {
   "cell_type": "code",
   "execution_count": 15,
   "outputs": [],
   "source": [
    "smiles_high_qed = [smile for smile, value in zip(smiles, qed) if value >= 0.7 and value < 0.8]"
   ],
   "metadata": {
    "collapsed": false,
    "ExecuteTime": {
     "end_time": "2024-04-02T13:12:33.328058560Z",
     "start_time": "2024-04-02T13:12:31.711707090Z"
    }
   },
   "id": "657e64369ff91997"
  },
  {
   "cell_type": "code",
   "execution_count": 19,
   "outputs": [],
   "source": [
    "import random\n",
    "\n",
    "smiles_high_qed_sampled = random.sample(smiles_high_qed, 64)"
   ],
   "metadata": {
    "collapsed": false,
    "ExecuteTime": {
     "end_time": "2024-04-02T13:12:59.807642164Z",
     "start_time": "2024-04-02T13:12:59.756489638Z"
    }
   },
   "id": "b385756ae073e403"
  },
  {
   "cell_type": "code",
   "execution_count": 21,
   "outputs": [
    {
     "data": {
      "text/plain": "['COc1cc(C2CC(c3ccc(SC)cc3)=NN2)cc(OC)c1OC',\n 'COc1ccc(-c2[nH]nc(C)c2-c2ccc(Cl)cc2)c(O)c1',\n 'COc1ccc(Nc2ccnc(Nc3ccc(OC)cc3)n2)cc1',\n 'Fc1ccc(CC2CCNCC2)cc1',\n 'CC(C)(C)NC(=O)COc1coc(CN2CCN(Cc3ccccc3)CC2)cc1=O',\n 'COc1ccnc(N2CCN(C(=O)COCC(F)(F)F)CC2)n1',\n 'CCn1ncc2c1-c1c(C)sc(C)c1CCC2',\n 'CCS(=O)(=O)CCC(=O)NNC(=O)N1Cc2ccccc2Oc2ccc(Cl)cc21',\n 'CN(C)C(=O)c1cccc(-c2ccc(C3C(CO)N4CCCCN(C(=O)C5CCC5)CC34)cc2)c1',\n 'CCCOC(=O)c1ccc(Cl)cc1NC(=O)c1ccccc1Cl',\n 'Cc1ccc(-c2nc(CS(=O)(=O)CC(=O)NCCN3CCCC3)c(C)o2)cc1',\n 'OC(CC1CCCCN1)C1CC(c2ccccc2)=Nc2c(Cl)cc(Cl)cc21',\n 'O=C(O)c1ccccc1CSc1nc2ccccc2[nH]1',\n 'C[n+]1ccccc1COc1ccc(C(C)(C)C)cc1',\n 'CC(C)C(CO)NC(=O)c1ccc(NC(=O)N2Cc3ccccc3C2)cc1',\n 'O=C1C2=C(CCCC2)C(=O)N1c1ccc(Cl)cc1F',\n 'COc1ccc(CCn2ccnc2-c2cc3n(n2)CCCNC3)cc1',\n 'NC(Cc1cccc(-c2cccc(CC(=O)O)c2)c1)C(=O)O',\n 'CC(C)(C)c1cc(C(=O)N2CCS(=O)(=O)CC2)c(NC(=O)Nc2ccc(Cl)cc2)s1',\n 'COc1cccc2cc(C(=O)Nc3ccccc3)c(=O)oc12',\n 'Cc1ccc(C(=O)O)cc1N1CCC1=O',\n 'COc1nc(Cl)nc(Nc2ccc(Cl)c(OCC=C(C)C)c2)n1',\n 'COC(=O)N1C=CC=C(C2C(C#N)=C(C)N=C(C)C2=C(O)OC)C1',\n 'CCC(CC)C(=O)Nc1cccc(-c2ccc3nncn3n2)c1',\n 'COc1ccccc1Nc1nc(N)c2ccccc2n1',\n 'CCCNC(=O)CCc1c(C)nc2c(c(C)nn2-c2ccccc2)c1C',\n 'CC(C)(C)Cc1ccc(C(N)=O)c(O)n1',\n 'CCc1nc(CN(C)CC2CCN(CCO)CC2)no1',\n 'O=C(CCCc1ccncc1)c1ccccc1',\n 'CCCCCc1cc2c(CCCCN)cccc2nc1N',\n 'CC(C)N(C)c1nc2cc(C(=O)O)ccc2nc1-c1ccncc1',\n 'CCc1nnc2n1-c1cc(F)c(-c3cccnc3)cc1CC2',\n 'COc1ccccc1NC(=O)N1CCC(c2nc(-c3ccccc3)no2)CC1',\n 'Oc1ccc(-c2nc3cc(O)cc(C4CCCC4)c3o2)cc1',\n 'CC(=O)Nc1ccc(-c2cc3ncn(C)c(=O)c3c(NC(C)C)n2)cn1',\n 'CC1(C)N=C(c2ccc(Cl)c(Cl)c2)N([O])C1(C)C',\n 'CCN(CC(=O)Nc1ccc2c(c1)OCCO2)CC(=O)Nc1cc(C)on1',\n 'COCCNC(=O)C1(CCCc2cccnc2)CCCN1C',\n 'CN(CCc1ccc2c(c1)OCO2)CC1CCC2CCOc3cccc1c32',\n 'Cc1ccc(O)c2[nH]c(-c3ccc(N(C)C)cc3)nc12',\n 'Cc1ccc(-c2nnc(NC(=O)C=Cc3ccc(F)cc3)s2)cc1',\n 'CCC1CC(n2cnc3c(N)ncnc32)C(O)C1O',\n 'Brc1cccc(-c2cnnc(OCc3ccccc3)c2)c1',\n 'Cc1nc(CN2CCCC(Cn3cc(CCO)nn3)C2)c2ccccn12',\n 'CCCCC(=O)N1c2ccccc2C(C)(c2ccccc2)CC1(C)C',\n 'COc1cc(OCC(C)=O)cc2oc(=O)ccc12',\n 'Cc1c(Br)c(C(N)=O)nn1C',\n 'CCCc1ccc(NC(=O)c2ccc(NS(=O)(=O)N(C)C)cc2)cc1',\n 'CC1(C)SC(C)(C)N(C=O)C1C(=O)O',\n 'COc1cccc2c1c(O)c(C(=O)N(C)c1ccc(C(F)(F)F)cc1)c(=O)n2C',\n 'CN1CCN(c2ccc(NC(=O)c3cccc(I)c3)cc2Cl)CC1',\n 'Fc1cccc(F)c1Nc1nc2c(N3CCCC3)ncnc2s1',\n 'COCCNc1cc(C)nc2ccccc12',\n 'Cc1ccc(-c2noc(CNC(=O)c3ccc(C)c(Cl)c3)n2)cc1',\n 'COc1cc(NC(=O)C(=O)NC(C)(C)C)ccc1-c1nc[nH]n1',\n 'CN(CC(=O)Nc1ccc(Cl)cc1)C(=O)COc1ncnc2ccccc12',\n 'CSc1ccc(CN(CCO)C(=O)CCc2cccc(F)c2)cc1',\n 'O=C(Nc1ccccc1)c1cc2ccc(O)cc2oc1=O',\n 'Cc1nc(-c2nc(N(C)C)nc3ccsc23)sc1C',\n 'COC(=O)c1cc(Cl)cc(Cl)c1OS(=O)(=O)N(C)C',\n 'CN(C)C12CCN(CC(N)=O)C(C(c3ccc(Cl)cc3)C1)C(c1ccc(Cl)cc1)C2',\n 'CN(C)c1nc2ccc(NC(=O)c3c(C(=O)N4CCC4)cnn3C)cn2n1',\n 'Cc1nn(C2CCOCC2)c2sc(C(=O)NC3CCC(N4CCC(CO)CC4)CC3)cc12',\n 'CN1CCCC(Cn2nc(C(=O)N3CCOCC3)c3c2-c2ccccc2S(=O)(=O)C3)C1']"
     },
     "execution_count": 21,
     "metadata": {},
     "output_type": "execute_result"
    }
   ],
   "source": [
    "smiles_high_qed_sampled"
   ],
   "metadata": {
    "collapsed": false,
    "ExecuteTime": {
     "end_time": "2024-04-02T13:13:04.851243834Z",
     "start_time": "2024-04-02T13:13:04.804739135Z"
    }
   },
   "id": "599cd0db4b87445e"
  },
  {
   "cell_type": "code",
   "execution_count": 13,
   "outputs": [
    {
     "data": {
      "text/plain": "['Cc1cc2c(c3oc(CCCC#N)cc13)C(=O)c1c(O)cccc1C2=O',\n 'C=CCN1C(=O)C(=NNC(=S)NC2OC(COC(C)=O)C(OC(C)=O)C(OC(C)=O)C2OC(C)=O)c2ccccc21',\n 'O=C1C(=Cc2ccc(F)cc2)CCOc2c1ccc1ccccc21',\n 'CC(C)CNc1cc(NCC(C)C)nc(NCC(C)C)n1',\n 'CN1CCN(CCCOc2ccc(N3C(=O)C(=Cc4ccc(Oc5ccc([N+](=O)[O-])cc5)cc4)SC3=S)cc2)CC1',\n 'COc1ccc2ccccc2c1C1CC1NC(C)=O',\n 'Cc1ccc(-n2c(=O)[nH]cc(C(=O)Nc3ccc4c(c3)OCCO4)c2=O)cc1',\n 'Cc1ccc(NCc2nnc(SCC(=O)NCCc3ccccc3)n2C)cc1',\n 'CCCNC(=O)c1ccc2c(c1)N=C(C)c1c(C)ccc(C)c1S2',\n 'COc1ccc(Cn2ccn(CC(=O)Nc3cc(C)ccc3C)c(=O)c2=O)cc1',\n 'Cn1nccc1C(=O)NN=Cc1c(O)ccc2ccccc12',\n 'CCOC(=O)Nc1cc(N)c2c(n1)NC(C)C(c1ccccc1)=N2',\n 'Cn1nc(N)c2ncc(C(Cl)(Cl)Cl)nc21',\n 'CC(C)CC(NC(=O)C(N)Cc1ccccc1)C(=O)NC(CC1CCCCC1)C(O)c1nccs1',\n 'CON=C1C2CC(C)CC1C(c1cccc(Cl)c1)NC2c1cccc(Cl)c1',\n 'Cn1cc(NC(=O)c2cc(NC(=O)c3ccc(C=Cc4cnc5ccccc5c4)cc3)cn2C)cc1C(=O)NCCNC(=N)N',\n 'Nc1nc(-c2ccc(Cl)cc2)c(CC(=O)O)s1',\n 'COc1cc(OC)c2c(=O)c3c([nH]c2c1)CCCC3',\n 'O=C(OC1CC2CC1C1CCCCN1C2=O)N1CCC(c2ccccc2)CC1',\n 'CCCCCCCCCCCCCCCCCCP(=O)(O)OC1CCC2(C)C(CCC3C2CCC2(C)C(C(C)CCCC(C)C)CCC32)C1',\n 'O=C(CN1CCOCC1)N1CCCc2c1c(=O)oc1ccc(OCc3ccccc3)cc21',\n 'CCOc1ccccc1NC(=O)c1c(NC(=O)c2ccccc2)sc2c1CCCC2',\n 'Cc1ccc(OCC(=O)OCC(=O)c2ccccc2)cc1C',\n 'CCC(=O)N(N(CCCl)S(C)(=O)=O)S(C)(=O)=O',\n 'CC(Nc1nccc(N2C(=O)OCC2C(C)C)n1)c1ccccn1',\n 'COc1ccc(C(=O)N2CCc3[nH]c(=NC(C)c4ccc(C(F)(F)F)cc4)n(OC)c(=O)c3C2)c(OC)n1',\n 'NC(c1csc(Nc2ccccn2)n1)c1ccccc1Cl',\n 'COc1ccc2[nH]c3c(c2c1)CCN1C(=O)C(CC(=O)NCCc2ccccn2)CC(C(=O)N2CCCCC2)C31C',\n 'COc1ccc(-c2sc(-c3ccc(Cl)cc3)nc2O)cc1',\n 'CCOc1ccccc1N1CCN(CC(O)CNC(=O)c2cccnc2Sc2ccc(C)cc2)CC1',\n 'Cc1ccc(Cl)cc1NC(=O)c1nc(C)c(C)nc1C(=O)NCCC(C)C',\n 'CCCOC1CC(O)CC(CCn2c(-c3ccc(F)cc3)c(-c3ccccc3)c(C(O)=Nc3ccccc3)c2C(C)C)O1',\n 'Cc1ccc(S(=O)(=O)N2CC3C(=O)CC(c4ccccc4)N(S(=O)(=O)c4ccccc4C)C3CC2c2ccccc2)cc1',\n 'CCOC(=O)CC1C(=O)NCCN1S(=O)(=O)c1cc(Cl)c(Cl)cc1Cl',\n 'O=C(NCCCN1CCOCC1)c1cc(-c2ccc3c(c2)CCO3)n[nH]1',\n 'CCCC1(N2CCC(n3c(=O)c(C(=O)O)nc4ccccc43)CC2)CCCCCCC1',\n 'O=C(O)Cc1ccc2onc(-c3ccc(Cl)cc3)c2c1',\n 'COc1cccc(NC(=O)NNC(=O)c2ccc3c(c2)NC(=O)C(C)(C)O3)c1',\n 'Cc1ccc(NS(=O)(=O)c2cc3[nH]c(=O)c(=O)[nH]c3cc2C)cc1Cl',\n 'CCCCCCN(C)C(=O)Oc1nsnc1-c1c(Cl)cccc1Cl',\n 'Cc1ccc(NC(=O)CCC2CCCCC2)cc1NC(=O)c1ccncc1',\n 'Cc1c(CC(=O)O)c2cc(F)ccc2n1S(=O)(=O)c1cc(Cl)ccc1Cl',\n 'O=C1Cc2cc(S(=O)(=O)NNc3ccc(Br)cc3)ccc2N1',\n 'O=C1N=C(N2CCOCC2)CN1c1ccc(Br)cc1',\n 'Cc1nn(C)c(C)c1N(C(F)F)S(=O)(=O)c1c(Cl)cc(CCCCC2CCNCC2)cc1Cl',\n 'CN1C(=O)C(c2c(O)[nH]c3ccccc23)=NC1=S',\n 'O=C(COCC(F)(F)F)Nc1nncs1',\n 'CCCCC12C3CC4C5C(C)C(C6OC(=O)C(C)=C6OC)OC5(O3)C1C(O)CN42',\n 'CCN(CC)C(=N)C(C#N)=NNc1ccc(C)cc1',\n 'O=S(=O)(c1ccc(Br)cc1)N1CCN(c2noc3ccccc23)CC1',\n 'O=C(C=Cc1ccc(SCCCCCCN2CCCCC2)cc1)c1ccccc1',\n 'NCC(=O)NCC(=O)NCC(=O)O',\n 'OC1=NC(=Cc2cnn3c(=NC4CC4)nc(OCc4cccc(O)n4)[nH]c23)C(O)=N1',\n 'CC(CNc1cc(Nc2cc(Cl)ccc2F)nc2c(C=C3N=C(O)N=C3O)cnn12)N1CCOCC1',\n 'CCC1CCCCN1c1ccc(-c2nc(-c3ccc4nc[nH]c4c3)no2)cc1COC',\n 'O=C(Cn1sc2ccccc2c1=O)NCc1cn(CSc2ccccc2)nn1',\n 'COc1cc(-c2csc3ccccc23)cc(C=O)c1O',\n 'CC[Si](CC)(c1ccc(O)cc1)c1ccc(O)cc1',\n 'COP(=O)(Nc1ccc(Nc2c3ccccc3nc3ccccc23)c(N(C)C)c1)OC',\n 'COc1cc2oc(Cc3cc(OC)c(OC)cc3OCC=Cc3ccccc3)c(-c3ccccc3)c2cc1O',\n 'CCC(C(=O)Nc1ccc(-c2ccnc(C)c2)cc1)c1cccc(C)c1',\n 'O=C(O)c1cn(C2CC2)c2cc(N3CCN(C(=O)CO)CC3)c(F)cc2c1=O',\n 'Cc1c(-c2ccnc(C(F)(F)F)c2)c(=O)c(C(O)=NCc2ccc(S(C)(=O)=O)cn2)cn1C(C)C',\n 'CCCCCCC1CCCc2c1cc(O)c1c2OC(C)(C)C2CC=C(C)CC12',\n 'CC(C)[S+]([O-])CCCCCN=C=S',\n 'CC(C)Cc1ccc(-c2ccc3c(c2)C(=O)N(C2CCC(=O)NC2=O)C3=O)cc1',\n 'COc1ccccc1NC(=O)NC1COC(C)(C)OC1c1ccccc1',\n 'CCOC(=O)C1(O)CC(c2ccccc2)C2=C(CC(C)(C)CC2=O)O1',\n 'CCOC(=O)c1cnc(CN)c2cc(OC)c(OC)c(OC)c12',\n 'O=C(Nc1ccccc1C(=O)O)c1ccc(C(=O)c2ccc3ccccc3c2)cc1',\n 'CCc1ccc(C(=O)NCC2CCCN2CC)o1',\n 'COc1ccc(-n2cnc3scc(-c4ccc(OC)c(OC)c4)c3c2=O)cc1',\n 'CCS(=O)(=O)c1ccc(Oc2ccc(F)cc2F)c(-c2cn(C)c(=O)c3[nH]ccc23)c1',\n 'CN(C)C(=O)C1(c2ccc(NC(=O)c3ncc(C#N)[nH]3)c(C3=CCC(C)(C)CC3)c2)CCOCC1',\n 'CN1CCN(C(=S)c2ccc(-c3cccc(Cl)c3Cl)o2)CC1',\n 'Cc1ccc(-n2nc(C(C)(C)C)cc2NC(=O)Nc2ccc(Oc3ccnc(Nc4ccc5[nH]ccc5c4)n3)c3ccccc23)cc1',\n 'Cc1cc(-c2ccccc2)nc2sc(C(=O)N3CCOCC3)c(N)c12',\n 'CC(C)c1ccc(C=CC(=O)N2CCCCCC2)cc1',\n 'O=C(Cc1cccc(C(F)(F)F)c1)N1CCN(CC(=O)N2CCCC2)CC1',\n 'Cc1cccc2nc(NC(=O)c3ccnc(C(F)(F)F)c3)n(C3CCCCN(C(=O)C=CCN(C)C)C3)c12',\n 'Cc1nccc(OCc2cncc(-c3ccc4c(c3)CCC(=O)N4C)c2)n1',\n 'COc1ccc2c(=O)c3c(OC)cc(OC)c(-c4cccc(C#N)c4)c3oc2c1OC',\n 'Cc1ncc(C(CN=C(O)c2cccc(Cl)c2Cl)N2CCC(=O)CC2)cn1',\n 'COc1ccc(C(=O)CCc2ccccc2)cc1OC1CCOC1',\n 'N=C(N)NCCCC(NC(=O)c1cccs1)C(=O)NC(CCCCN)C(=O)NC(C(N)=O)c1ccc(OCc2ccccc2)cc1',\n 'Nc1ncnc(NC(CO)c2nc3cccc(Cl)c3c(=O)n2-c2ccccc2)c1C#Cc1ccc(F)cn1',\n 'CC=Cc1ccc(OCCNCc2ccccc2)c(OC)c1',\n 'COc1ccc(C=CC(=O)c2cccc(F)c2)cc1',\n 'CS(=O)(=O)c1ccc(N(CC2CCCC2)C(=O)Nc2nc3ccc(S(C)(=O)=O)cc3s2)cc1',\n 'COC(=O)c1cccc2c1c(C(=O)c1ccc(Cn3c(C)nc4cccnc43)cc1)cn2C(=O)N(C)C',\n 'O=C(O)c1cn(-c2ccc(F)cc2F)c2nc(N3CC4CC3CN4)c(F)cc2c1=O',\n 'c1csc(CNc2nccc3[nH]c4ccccc4c23)c1',\n 'CCN(CC)CCCCn1cnc2c(O)nc(Nc3ccccc3)nc21',\n 'CC(=O)OCC(OC(C)=O)C(OC(C)=O)C(OC(C)=O)C(C=NNc1nc2ccccc2c(=O)[nH]1)=NNc1nc2ccccc2c(=O)[nH]1',\n 'COc1ccc(CCN2CCC(c3nc(COCC(F)(F)F)c(-c4ccccc4)o3)CC2)cc1S(=O)(=O)NCCNC(C)=O',\n 'CCC(C)(C)n1nnnc1C(c1ccc(N(C)C)cc1)N1CCN(C2CCCCC2)CC1',\n 'CC(C)(C)S(=O)(=O)N1CC2CCC=CCC=C2C1CCO',\n 'CCN1CCN(Cc2ccc(NC(=O)c3ccc(C)c(NC(=O)c4nccnc4N)c3)cc2C(F)(F)F)CC1',\n 'Nc1ncc(C2CCOCC2)cc1-c1ccc(C(=O)NCc2ccccc2Cl)cc1',\n 'O=C(O)c1ccc2c(C(=O)O)c(O)ccc2c1',\n 'COc1cnn(C)c(=O)c1-c1ccc(CC(NC(=O)c2cccn2C)C(=O)O)cc1',\n 'COc1ccc(C2c3[nH]c4ccccc4c3CC3C(=O)N(CC4CC4)CC(=O)N32)cc1',\n 'CN(C)c1ccc(C(=O)Nc2cccc(COc3cncc(C(N)=O)c3)c2)cc1',\n 'COc1ccc(-c2cc3ccnc(-c4ccccc4)n3n2)cc1',\n 'NC1=NC(CCc2ccc(Nc3cc(C(F)(F)F)cc(Cl)n3)cc2)CO1',\n 'O=C(O)CC1CC(c2cccc(Cl)c2)C2(C(O)=Nc3cc(Cl)ccc32)N(CC2CC2)C1=O',\n 'O=C(NCCc1cnccn1)c1ccc(S(=O)(=O)NC2CCC2)cc1',\n 'CC1(C)N=C(N)N=C(N)C1c1ccc(Cl)cc1',\n 'COc1ccccc1C=CC(=O)N(C)C1CCN(CCCCCNC(=O)C=Cc2ccc(Cl)c(Cl)c2)CC1',\n 'CC(O)(CO)C(O)COP(=O)(O)O',\n 'O=C(c1cccs1)c1c(O)nc2cc(Cl)ccc2c1O',\n 'COc1ccc(Oc2ncc3nc(C)c(=O)n(Cc4cccs4)c3n2)cc1',\n 'CCC1(c2ccc(CSc3ccccc3)cc2)Oc2ccccc2-n2cccc2C1=O',\n 'CC(=O)c1ccc(N2CCN(Cc3ccc(C)o3)CC2)cc1',\n 'COc1ccc2c(c1)CCCN2c1cc(C)nc2ccccc12',\n 'Cn1c(-c2ccc3cc(NC(=O)C4CC4)ncc3c2)cccc1=O',\n 'CC1CCP(=O)(c2ccccc2)CC1',\n 'N=C(N)NCCCC(NC(=O)C(Cc1ccccc1)NC(=O)C(CO)NC(=O)C(Cc1ccccc1)NC(=O)CNC(=O)CN)C(=O)NN(CC(N)=O)Cc1ccccc1',\n 'CN1CCN(C(=S)SCc2nc(N)nc(Nc3ccc(F)cc3)n2)CC1',\n 'Fc1ccc(-c2nc(-c3cccnc3)cs2)cc1',\n 'Cc1ccccc1CCCN1CCS(=O)(=O)CC1C',\n 'N=C(N)c1cccc(-c2cc(-c3cc(C(=N)N)ccc3Cl)no2)c1',\n 'CC(NC(=O)CSc1ncccn1)c1ccc2c(c1)OCO2',\n 'CCCN1C(=O)N2CCCCN=C2c2ncn(CCC)c21',\n 'N#Cc1ccc2cc1Oc1ccc3cccc(c3c1)NC(=O)C(Cc1cccnc1)NCc1cncn1C2',\n 'Cc1ccc(CC(=O)OCC(=O)c2ccc[nH]2)cc1C',\n 'CCCOc1cc(NC(C)=O)c(NC(=N)N)cc1C(=O)O',\n 'Cc1cccc(COCC(Cc2ccccc2)N2CCN(C(=O)c3cccc(C)c3)CCC2=O)c1',\n 'Fc1ccc(-n2cc(OCCN3CCCCC3)c3cc(Cl)ccc32)cc1',\n 'O=C(NCCCN1CCCC1)c1ccc(CSCc2cccc(Cl)c2)o1',\n 'C=CC(O)=Nc1cccc(-c2cnc3[nH]cc(Cl)c3c2)c1',\n 'N=C(O)c1cc(-c2ccc(Oc3cccc(OC(F)(F)F)c3)cc2)cc(C(O)CO)n1',\n 'COCCCC(c1ccccc1)n1cc(-c2ccc(N3CCc4cccc(C(O)=Nc5nc6ccccc6s5)c4C3)nc2C(=O)O)cn1',\n 'O=S(=O)(NCCCN1c2ccccc2OCc2cccnc21)c1ccc(OC(F)(F)F)cc1',\n 'CSC1=Nc2nc3c(c(-c4ccc(Cl)cc4)c2C(N2CCNCC2)N1)CCCC3=Cc1ccc(Cl)cc1',\n 'C=C(CNCCO)C1CCC2(CO)CCC3(C)C(CCC4C5(C)CCC(NCCOC)C(C)(C)C5CCC43C)C12',\n 'CC(C)COc1ccc(C(=O)N2CCCCC2CCN2CCOCC2)cc1',\n 'CN(C(=O)CNC(=O)c1cc2cc(Cl)ccc2[nH]1)C1CCCCCC1',\n 'O=S(=O)(c1ccccc1)N1CCC(N2CCN(c3ccccc3)CC2)CC1',\n 'CN(C)Cc1cc(N=Nc2ccccc2)ccc1O',\n 'Cc1cc(C)c2[nH]c(C)c(CC(=O)N(C)CCN(C)C)c2c1',\n 'O=C(c1ccc(NS(=O)(=O)C=Cc2ccccc2)cc1)N1CCCCC1',\n 'O=C(C1CC(F)(F)CN1C(=O)CCN1C(=O)c2ccccc2C1=O)N1CCCC1',\n 'Cn1cc(-c2cnc(N3CCCC3)nc2)cc1C(=O)N1CCOCC1',\n 'Cc1cccc(NC(=O)c2ccc[n+](CC(=O)Nc3ccc(Cl)cc3)c2)c1',\n 'Cn1c(=O)c2nc(N)[nH]c2n(C)c1=O',\n 'O=c1c2c([nH]c3ccc(-c4ccc(C(F)(F)F)cc4)cc13)CCCC2',\n 'CCC(=O)C1C(c2cccc3ccccc23)CC2CCC1N2C',\n 'COc1ccc(CN(C)C)cc1Nc1nccc(-c2c(-c3cccc(NC(=O)c4c(F)cccc4F)c3)nc3sccn23)n1',\n 'Oc1ccc2c(c1)C13CCCCC1C(C2)N(CC1CCCO1)CC3',\n 'S=C(NCc1ccccc1)N1CCC(c2c[nH]cn2)CC1',\n 'COc1ccc(Nc2c3c(nc4ccc(NC(=O)C=Cc5cc(OC)c(OC)c(OC)c5)cc24)CCCC3)cc1OC',\n 'CCCCCN1C(=O)CC(C(=O)NC(Cc2c[nH]cn2)C(=O)N2CCCC2C(N)=O)NC1=O',\n 'Cc1cc(CN2CCC(Nc3nc(N)n4nc(-c5ccco5)nc4n3)CC2)no1',\n 'COc1ccc(OC(F)(F)F)cc1C1COC2(CCCNC2c2ccccc2)C1',\n 'CCC(CC)C(=O)Nc1cc(NC(=N)N)ccc1OCC(=O)O',\n 'Cc1ccc(N=C(O)c2cc(C#N)cc(C(C)(C)C)c2)cc1-n1ccn2nc(-c3cccnc3)cc12',\n 'CCCc1nc2ccccc2c(=O)n1CC(=O)c1ccc(OC)cc1',\n 'Cn1cc(F)ccc1=N',\n 'O=C(c1csc(-c2cccnc2)n1)N1CCc2cc3nccc(N4CCN5CCCC5C4)c3cc21',\n 'CC12CCC(O)CC1=CCC1C2CCC2(C)C(=NN=C3C(=O)Nc4ccc(I)cc43)CCC12',\n 'N=C(N)Nc1nc(O)c(Br)c(-c2ccccc2)n1',\n 'COc1cc(C=CC(=O)NCCc2c[nH]c3ccccc23)ccc1O',\n 'CCCCCCCCCCCC[N+](C)(CCCCCCCCCCCC)Cc1cc(OC)c2c(c1)C(=O)c1cc(OC)cc(OC)c1C2=O',\n 'Nc1nc(=O)n(C2C[Se]C(CO)O2)cc1F',\n 'Cc1ccc(NC(S)=NCCc2ccc(S(N)(=O)=O)cc2)cc1C',\n 'Cc1ccccc1NC(=O)Nc1ccc(-c2ncn(Cc3ccc(CCC(=O)O)cc3)n2)cc1',\n 'Cc1nc(CC(=O)C(F)(F)F)oc1C',\n 'O=C(CCCc1ccc(Cl)cc1)N1CCC(c2nnc[nH]2)CC1',\n 'COc1ccc(N2CCN(C(c3ccccc3OC)c3nnnn3C3CCCC3)CC2)cc1',\n 'O=C(O)CCCCCCCOc1ccc2c(=O)c(-c3ccc(O)cc3)coc2c1',\n 'O=C(c1ccc2c(c1)OCCO2)C1CCN(Cc2coc(-c3cccnc3)n2)CC1',\n 'CN(C)c1ccc(NC(=O)Nc2ccc(OS(N)(=O)=O)cc2)cc1',\n 'CCN=c1[nH][nH]c2cc(NC(O)=NCc3ncccc3Cl)ncc12',\n 'C=C(C)C1CCC2(C(=O)NCCCCCCCC(=O)NC(C)C(=O)O)CCC3(C)C(CCC4C5(C)CCC(O)C(C)(C)C5CCC43C)C12',\n 'CC(C)c1ccc2[nH]cc(CCC(=O)Nc3ccncc3)c2c1',\n 'Cc1ccc(C(CC(=O)O)C2CCOC(C)(C)C2)cc1',\n 'Cc1[nH]c2ccccc2c1CCNc1ncnc2c1CCNCC2',\n 'CNc1nc(C2CCCCC2)nc(N2CCC(C(=O)NCc3ccccc3C(F)(F)F)CC2)n1',\n 'CC1(O)c2ccccc2-c2c1c(OCC(F)(F)F)nc1ccc(Br)cc21',\n 'COc1cccc2cc(CNC(C)(C)C(=O)N3CCC(O)CC3)oc12',\n 'Oc1ccc2c3c([nH]c2c1)CN(CCCCc1ccccc1)CC3',\n 'C=CC1(C)CC1C(=O)CCC(O[Si](C)(C)C(C)(C)C)c1ccccc1I',\n 'S=C(NCCC1=CCCCC1)Nc1nccs1',\n 'COc1ccc(-c2cc(C(=O)N3CCN(C(=O)c4cccnc4Nc4ccccc4)CC3)nc3cc(-c4ccccc4)nn23)cc1',\n 'CC1=C(C#N)C(=O)NC(=O)C1=Cc1c(C)nn(-c2ccc(C)cc2)c1O',\n 'O=C1CC2(CCCC2)CC(=O)N1CCCCN1CCN(c2cc(Cl)ccc2Cl)CC1',\n 'Cc1cc(C)c(C)c(S(=O)(=O)NC(C(=O)NCCc2ccco2)C(C)C)c1C',\n 'Cc1cc(-c2cccc(F)c2)cc(CNc2c(C)ccc(OCC(=O)O)c2C)c1F',\n 'CC(C)Oc1ccc(Nc2ncc(C(O)=NC(C)C(=O)O)c(=O)n2Cc2ccc(Cl)cc2)cc1F',\n 'COCCNCc1ccc(C=Cc2cncc(C#N)c2Nc2ccc3[nH]ccc3c2C)cc1',\n 'Cc1ccccc1N1CCN(CC2CCc3cccnc3C(O)C2)CC1',\n 'CN1CCN(c2cc(C(F)(F)F)nc(N3CCCC(C(=O)NCCc4ccc(C#N)cc4)C3)n2)CC1',\n 'ClC1(Cl)C2OC(COCc3ccccc3)C(OCc3ccccc3)C(OCc3ccccc3)C21',\n 'O=C(c1cccc(F)c1)N1CCC2(CCCN(C(c3ccccc3)c3ccccc3)C2)CC1',\n 'CCOC(=O)N1CCN(C(COCc2cc(C(F)(F)F)cc(C(F)(F)F)c2)c2ccccc2)CC1',\n 'CC(C)OC(=O)CCCC=CCC1C(O)CC(O)C1C=CC(O)CCc1cccc(-c2ccco2)c1',\n 'CC(C)CC1NC(=O)C(c2cccs2)NC(=O)C2CCCN2C(=O)C(CC(=O)O)NC(=O)C(Cc2c[nH]c3ccccc23)NC1=O',\n 'CC(OC(=O)NC1CNC1=O)c1ccc(C2CCCCC2)cc1',\n 'CSC1CC(C(=O)O)N(C(=O)C(CCCCN)OP(=O)(O)CCCCc2ccccc2)C1',\n 'CC1CCC(NC(=O)c2cc3cccnc3n(CCC(=O)O)c2=O)CC1',\n 'O=C(COc1ccccc1-c1ccccc1)NCc1ccco1',\n 'COc1ccc(F)cc1-c1c[nH]c2c(NC(C)=O)cccc12',\n 'COc1ccc(C=CC(=O)ONC2=NCCCCC2)cc1OC',\n 'CC(C)OC(=O)CCCC=CCC1C(O)CC(O)C1C=CC(O)CCc1cccc(-c2ccccc2)c1',\n 'COc1cc(C(=O)O)ccc1Cc1cn(Cc2cccc(C#N)c2)c2ccc(NC(=O)CC3CCCC3)cc12',\n 'CN1C(=O)C(=NOC(=O)c2ccccc2Br)c2ccccc21',\n 'CC1(NC(=O)c2ccc(C#Cc3cccc(F)c3)cn2)COC1',\n 'O=C(O)Cc1ccccc1Oc1c(Cl)cc(Cl)cc1Cl',\n 'O=C1CC(C(=O)O)CC(=O)N1',\n 'Fc1ccccc1CN=C(S)NC1CCCCC1',\n 'CCOC(=O)C1CCCN(CCC(=O)N2CCCC23CCCCC3)C1',\n 'CCNC(=S)NC1CC(C)(C)Oc2ccc(F)cc21',\n 'O=c1c2cc(-c3ccccc3)sc2nc2ccc(-c3nnn[nH]3)cn12',\n 'O=c1c(-c2ccc3c(c2)OCO3)coc2cc(O)c(O)cc12',\n 'O=C1c2ccccc2C(OCc2cccc(CO)c2)(c2ccc(Cl)cc2)N1Cc1ccc([N+](=O)[O-])cc1',\n 'CC(=NNc1nc(N)cc(Cl)n1)c1cccc(N)c1',\n 'O=C(Nc1cccnc1)c1ccc2ccccc2c1O',\n 'CCOCCOC(=O)Cn1cnc2scc(-c3ccc(C)cc3)c2c1=O',\n 'COC(=O)c1ccc(COc2ccc(-c3nn[nH]n3)cc2)cc1',\n 'O=C1OC2CN(Cc3ccccc3)CC2N1CCCN1CCOCC1',\n 'COc1cc2cc3c4c(cc(OC)c(OC)c4c2cc1OC)C(=O)N3C',\n 'CN1C2=C(C(c3ccc(Br)cc3)Oc3cc(F)ccc32)C(c2ccc(Br)cc2)n2ncnc21',\n 'COc1cc(-c2nnc(-c3cc4ccccc4nc3C)o2)cc(OC)c1OC',\n 'O=C1c2ccccc2C(=O)c2c(NCC(O)CNCc3ccccc3)ccc(NCC(O)CCl)c21',\n 'CCOc1ccc2nc(C)c(CN3CCOCC3)c(O)c2c1',\n 'C=CC(=O)N(CCCN1CCOCC1)c1cc2c(Nc3cccc(Br)c3)ncnc2cn1',\n 'COCCOc1nc(NC(=O)Cc2cc(OC)ccc2OC)cc(N)c1C#N',\n 'CCCN1Cc2cc(OC)ccc2CC(C)C1=O',\n 'O=C1NC(=S)SC1=CCCc1ccccc1',\n 'c1cnc2ccc(C(c3nnnn3C3CCCCC3)N3CCCCC3)cc2c1',\n 'Cc1ccc(NC(=O)CN2C(=O)c3ccccc3Sc3ccc(C(=O)N4CCOCC4)cc32)c(Cl)c1',\n 'COc1ccc(C=Cc2nc(N)nc(-c3ccccc3O)n2)cc1',\n 'Cc1ccc(NC(=O)Cc2nc(-c3c[nH]c(C(=O)N4CCCC4)c3)cs2)c(C)c1',\n 'O=C1CCC(N2C(=O)c3cccc(C=CN4CCCC4=O)c3C2=O)C(=O)N1',\n 'CCOC(=O)NN=Cc1ccc(F)cc1',\n 'CC(C)(O)C(NC(=O)N1CCC(c2ccc(-c3ccccc3)cc2)CC1)C(=O)NO',\n 'Nc1n[nH]c(SCC(=O)N2CCN(c3ccc(F)cc3)CC2)n1',\n 'COc1ccc(OC)c(Sc2ccc([N+](=O)[O-])cc2C=NNC(=N)N)c1',\n 'CC1(C)Cc2c(c(N3CCOCC3)nc3sc4c(N(CCO)CCN5CCOCC5)ncnc4c23)CO1',\n 'Cc1cc(NC(=O)NCCCSc2nncn2C)no1',\n 'CCNC(=O)C1OC(n2cnc3c(N)nc(C#CNCCc4ccc(F)cc4)nc32)C(O)C1O',\n 'CCOC(=O)c1cnc(-n2nc(C)cc2C)nc1Nc1ccc(O)cc1',\n 'O=C1CN(C(=O)CCc2nc3ccccc3c(=O)[nH]2)CCN1',\n 'CCC(C)C1NC(=O)C(CC(=O)O)NC(=O)c2cc([N+](=O)[O-])cc(I)c2NCCC(C(N)=O)NC1=O',\n 'CCC(CN1CCC(CN=C(O)c2ccc(Cl)c(Cl)c2)NC(CCN2C(=O)CC(C)(C)C2=O)C1=O)c1ccccc1',\n 'COC(=O)C(CCNC(=N)CCl)NC(C)=O',\n 'CN1CCCC1CCN(CC(N)=O)C(=O)CC1C(=O)N(CCc2ccc(Cl)cc2Cl)CC(=O)N1CCc1ccc(Cl)cc1Cl',\n 'COc1cccc(C(C)(O)c2nc(-c3cccc(NC(C)=O)c3)cs2)c1',\n 'Cc1cc2c(NCCN(C)C)c3c(c(NCCN(C)C)c2o1)C(=O)c1ccccc1C3=O',\n 'CC(=O)OC1C(O)CC(C)C23OC(C)(C)C(CC(OC(=O)c4ccccc4)C12COC(=O)c1ccccc1)C3OC(=O)c1ccccc1',\n 'CNc1c(NS(=O)(=O)c2ccc(OC)cc2)c(=O)oc2ccccc12',\n 'CCOC(=O)c1cc(-c2ccccc2)n2c1c(-c1ccc(CN3CCC(c4nnc(-c5ccccn5)[nH]4)CC3)cc1)nc1ccccc12',\n 'Cc1ccc(C)c(N2CCN(C(=O)CCNS(=O)(=O)c3ccc4c(c3)oc(=O)n4C)CC2)c1',\n 'Cn1cncc1CN1CCC(O)(Cn2nc(-c3cccs3)oc2=O)CC1',\n 'CC(C)(C)NC(=O)c1cnn(-c2ccccc2)c1NC(=O)c1ccccc1',\n 'CN(C1CCC(n2cc(C(=N)O)c(Nc3ccc(Cl)cc3)n2)C(C#N)C1)C1(C)COC1',\n 'CN(c1ccc(OCC(=O)N2CCCCC2)cc1)S(=O)(=O)c1cccs1',\n 'Cc1c(CNC(=O)c2cn(CCC3CCCCN3)nn2)cnn1C',\n 'CCCCCCCCCCCCCCCOC(CNC(=O)CCCCCCCCCCC)COP(=O)([O-])OCC[N+](C)(C)C',\n 'CCN1CCCC(n2c(-c3ccccc3)nc(C)c2-c2cccc(C=CC(=O)NO)c2)C1',\n 'O=[N+]([O-])c1ccc2c(c1)nnn2-c1ccccc1',\n 'CCN1CCCC1CNS(=O)(=O)c1ccc(F)c(Cl)c1',\n 'Cc1ccc2cccc(OC(=O)N(C)c3ccccc3)c2n1',\n 'Cc1cc(NC(=O)c2ccccc2)c2cc(NC(=O)Nc3cccc(F)c3)ccc2n1',\n 'CCOC(=O)c1sc(=Nc2ccc3oc(=O)ccc3c2)n(C)c1C',\n 'CC(C)C1C2C(C(=O)N1CC1=CCC(Cl)C=C1)C(C1C=CC(C#N)=CC1)N1CCCC21',\n 'O=C(Nc1cccc(C(F)(F)F)c1)c1ccccc1NC(=O)C1CCCCCC1',\n 'CC1Cc2cc(Br)cc3[nH]c(=O)c(=O)n(c23)C1CC(=O)O',\n 'CNc1ccc(N(CCI)CCI)cc1',\n 'Fc1ccccc1C1=NOC(Cc2ccccc2)C1',\n 'COCCCNCC(=O)N1CCN(c2ccc(Nc3ncc4c(C)c(C(C)=O)c(=O)n(C5CCCC5)c4n3)nc2)CC1',\n 'CCn1c(CCNC(=O)COc2ccccc2)nc2cc(C=CC(=O)NO)ccc21',\n 'O=c1[nH]c(=O)n(C2CCCC2CO)cc1I',\n 'COc1ccccc1N1CCN(C(CNS(=O)(=O)c2ccc(C)cc2)c2cccnc2)CC1',\n 'O=C(NC1CCCC1)c1cccc2c1C(=O)c1ccc(C=Cc3ccccc3)cc1S2(=O)=O',\n 'COc1ccc(C(=N)N)cc1-c1cc(-c2ccc(C(=N)N)cc2[N+](=O)[O-])no1',\n 'CSc1nn(-c2ccccc2)c2cc(NC(=O)C3(N)CCNCC3)ccc12',\n 'N#CC1=C(N)Oc2ccc(Sc3nc4ccccc4s3)cc2C1c1c[nH]c2ccccc12',\n 'Cc1c[n+](CCO)ccc1C=Cc1cccc2ccccc12',\n 'CN1CCN(c2nc(N)c3ncnc(Nc4cc(C(=O)Nc5cccc(C(F)(F)F)c5)ccc4Cl)c3n2)CC1',\n 'Nc1cc(C(=O)NCC2CCN(CCc3ccccc3)C2)ccn1',\n 'Nc1cccc2cc(S(=O)(=O)Nc3ccc(C(=O)O)cc3)ccc12',\n 'CC1(c2cc(NC(=O)c3ncc(C#N)cc3Cl)ccc2F)CS2(=O)=NCCCCN2C(N)=N1',\n 'CCCN(CCCCNC(=O)N=Nc1cc(F)c(F)c(F)c1)C1Cc2ccccc2C1',\n 'COc1ccc(C(=O)O)c(Br)c1OCc1ccccc1',\n 'CCc1oc2c(C)c(OC(C)C)ccc2c(=O)c1Br',\n 'O=C(O)c1nnn(-c2ccc(OC(F)(F)F)cc2)c1-c1ccncc1',\n 'Nc1ncnc2c1ncn2C1C(O)C(O)C2(COP(=O)(O)O)CC12',\n 'C=C(C)C1(O)CC(C)C2(O)C(C=C(COC(=O)Cc3ccccc3)CC3(O)C(=O)C(C)=CC32)C1O',\n 'CCN=C(O)N1C(=O)N(c2cccc(C(F)F)c2)C2=C(C(=O)CC2)C1c1ccc(C#N)cc1S(C)(=O)=O',\n 'CCC(OC(=O)c1cccs1)C(=O)NCc1ccc(C)cc1',\n 'CC1(C)CC(=O)c2ccc(OCc3cccc(Br)c3)cc2O1',\n 'COc1ccccc1N1CCN(S(=O)(=O)c2cc3c(cc2C)OCC(=O)N3)CC1',\n 'CCCn1c(=O)c2nc(-c3cnn(Cc4ccc(C)cc4)c3)[nH]c2n(CCC)c1=O',\n 'CNC1CC(C(=O)OC)C2(C)CCC3C(=O)OC(c4ccoc4)CC3(C)C2C1=O',\n 'O=c1cc(N2CCNCC2)nc2sc(-c3cccc(-c4ccnc(F)c4)c3)nn12',\n 'CC(=O)NC1C(Sc2n[nH]c(-c3cc4ccccc4[nH]3)n2)OC(COC(C)=O)C(OC(C)=O)C1OC(C)=O',\n 'CCNC(=O)c1cn2cc(-c3ccccc3Cl)n(CC3CC3)c(=O)c2n1',\n 'COc1ccc2oc([N+](=O)[O-])cc2c1',\n 'Cc1ccc(NC(=O)Cc2ncon2)cc1Cl',\n 'Cc1ccccc1C(=O)NNC(=S)NC(=O)COc1ccccc1',\n 'Cc1cc2c(c(=O)n1C)C(c1cn(C3CC(O)C(CO)O3)c(=O)[nH]c1=O)C(C#N)=C(N)O2',\n 'Cc1cnc(-c2ccc(OCC(O)CNC(C)(C)C)cc2)[nH]1',\n 'CN(C)c1ncc2cc(-c3c(Cl)cccc3Cl)c(=O)n(C)c2n1',\n 'O=C(c1cccnc1)N1CCc2ncnc(N3CCOCC3)c2CC1',\n 'COc1ccccc1CNC(=O)CCNS(=O)(=O)c1cccc2nsnc12',\n 'CC1=CC(C)(C)N(Cc2ccccc2)c2ccc(O)cc21',\n 'NC(=O)c1c(NC(=O)C2CC=CCC2C(=O)O)sc2c1CCCCC2',\n 'N=C(N)c1cccc(CC(NS(=O)(=O)c2ccc3ccccc3c2)C(=O)N2CCN(CCO)CC2)c1',\n 'Cc1cccc(Nc2nnc3cc(-c4c(C)cccc4C)cc(C)c3n2)c1',\n 'COC(=O)c1ccc(OP(=O)(Oc2ccc(C(=O)OC)cc2)C(NC(=O)OCc2ccccc2)C(C)C)cc1',\n 'CC(C)CCCCCCCCCCCCC=CCCC=CCCCC(=O)OCC(O)CO',\n 'C[S+](C)CCOC(=O)C(=[N+]=[N-])c1ccc([N+](=O)[O-])cc1',\n 'CC(C(=O)NCCCNc1c2c(nc3ccccc13)CCCC2)c1ccc(-c2ccc(OCCCCCCO[N+](=O)[O-])cc2)c(F)c1',\n 'CCn1cc(C(=O)O)c(=O)c2cc(F)c(N3CCN(C(=S)NC(=O)c4c(OC)cccc4OC)CC3)cc21',\n 'CCCC(Nc1cncc(-c2cc(OC)c(OC)c(OC)c2)c1)c1ccccc1',\n 'CC(C)CC(OC(=O)C(Cc1ccc(O)cc1)NC(=O)C(N)CCCN=C(N)N)C(=O)N1CCCC1C(=O)NC(C(=O)O)C(C)O',\n 'COc1ccc(Nc2nnc(SCC(=O)NC3CC3)s2)cc1',\n 'CNC(=O)C1c2ccccc2-c2ccc(OCCN3CCCCC3)cc21',\n 'COC(=O)CCCc1nc2ccccc2c(=O)[nH]1',\n 'Cn1cc(-c2cnc3[nH]cc(-c4cc(N5CCc6cc(F)ccc65)nc(N)n4)c3c2)cn1',\n 'CCc1c(-c2ccc(O)cc2)nn(-c2ccc(O)cc2)c1C1CCCCC1',\n 'COC(=O)c1ccc(COC(=O)CNC(=O)c2ccc(-c3ccccc3)cc2)cc1',\n 'NC(CCc1cccc(Cl)c1)(C(=O)O)C1CC1C(=O)O',\n 'CN(C)CCC(NC(=O)c1cccc(-c2ccccc2)c1)c1ccc2ccccc2c1',\n 'O=C(c1cc(Cc2c[nH]c(=O)c3cc(Cl)c(Cl)n23)ccc1F)N1CCN(c2ncnc3ccccc23)CC1',\n 'COc1cc2c(cc1C(F)(F)F)N(C(=O)Nc1ccc(C(C)(C)C)c(-c3cccnc3)c1)CC2',\n 'CCCCCCCOc1c(C(=O)NN=C2C(=O)Nc3ccccc32)sc(C(=O)NN=C2C(=O)Nc3ccccc32)c1OCCCCCCC',\n 'CCNC=C1C=C(C=O)c2c(ccc3c(C)cc(=O)oc23)C1=O',\n 'Cc1cc(C(=O)NCc2ccc3c(c2)OCO3)c(C)o1',\n 'Cc1cc2nccc(-c3ccc(Cl)c([N+](=O)[O-])c3)n2n1',\n 'COc1ccccc1C(=O)Nc1cc(C)c(OCC(=O)N2CCOCC2)c(C)c1',\n 'COC(=O)NCCOc1cc(C)ccc1C',\n 'CCc1cc2c(C3=NNC(=O)C3(C)C)ccc(C)n2n1',\n 'C=C(Cl)CNS(=O)(=O)c1ccc(N)cc1',\n 'CC(=NN(C)C(=N)O)c1ccc2ncc(C(O)c3c(F)cc4ncccc4c3F)n2n1',\n 'O=C(CCC1CCCN(C(=O)c2cc(F)ccc2F)C1)N1CCN(c2ccccn2)CC1',\n 'COCCNc1nccc(-c2[nH]c(C3OCC(C)(C(=O)NCC4CC4)CO3)nc2-c2ccc(F)cc2)n1',\n 'CNC(=O)c1c(-c2ccc(F)cc2)oc2cc(N(C)S(C)(=O)=O)c(-c3ccc4c(c3)-c3cc5ccccc5n3CCO4)cc12',\n 'Cc1ccc(-c2cc(C(=O)NN=Cc3cccnc3)[nH]n2)o1',\n 'Cc1cc(C)nc(NN=Cc2sccc2C)n1',\n 'O=C(O)c1cc(C(=O)O)cc(-c2ccc(C=C3SC(=S)N(NC(=O)c4cccs4)C3=O)o2)c1',\n 'COc1ccc(-c2nc(N)s[n+]2-c2ccccc2)cc1',\n 'CN1CCC2(C)c3cc(O)ccc3N(C)C2O1',\n 'Cc1cc(C)n(-c2nc3ccccc3nc2N2CCCC2)n1',\n 'CC(C1COC(c2ccccc2)(c2ccccc2)O1)[N+](C)(C)C',\n 'COc1cccc(C2COc3c(-c4cccc(OC(F)(F)F)c4)cccc3N2CC(O)C(F)(F)F)c1',\n 'COc1cc2ncnc(Nc3cccc(C(F)(F)F)c3)c2cc1OC',\n 'Cc1nc2cc(OCC(O)CN3CCN(Cc4noc(-c5cccc(F)c5)n4)CC3)ccc2s1',\n 'COc1cc(-c2nc(CSc3nc(N)cc(N)n3)cs2)ccc1OCCF',\n 'COc1cc(Nc2ncc3c(n2)CCN(Cc2cccc(C)c2)C3)cc(OC)c1',\n 'Cc1cc(Cl)ccc1Nc1c(C(=O)N2CCC3(CC2)OCc2ccccc23)cnc2c(S(=O)(=O)NC(=O)C3CC3)cnn12',\n 'CCCCOC1C=CCC1CCO',\n 'O=C(Nc1ccc(F)c(Nc2ccc3c(c2)OCc2ccc(OCCN4CCOCC4)cc2C3=O)c1)c1ccccc1',\n 'Cc1nn(-c2ccccc2)c(-c2ccccc2)c1C1CC(c2ccc(Br)cc2)=NO1',\n 'CCN(CC)c1nc2sc(C(=O)NC(C)(C)C(=O)OC)cc2s1',\n 'CC(C)CC(NC(=O)C(NC(=O)C(N)CCC(=O)O)C(C)C)C(=O)NC(Cc1ccccc1)C(O)C(=O)Nc1cc(C(=O)O)cc(C(=O)O)c1',\n 'CC(C)(C)c1ccc(C(=O)N2CCN(c3ccc(Nc4ccncc4)nn3)CC2)cc1',\n 'C=CCNC(=S)NN=C(C)c1cccnc1',\n 'S=C(Nc1ccc2c[nH]nc2c1)Nc1ccc(Cl)cc1Cl',\n 'CCSCC1CC(O)(c2ccccc2)C(c2ccccc2)C(c2ccc(Cl)cc2)O1',\n 'Cc1cc(C)c2nc(NC(=N)N)nc(C)c2c1',\n 'COCCN(CCOC)S(=O)(=O)NCCCCCNc1nc(-c2ccccn2)cs1',\n 'COC(=O)N1CCOC(C(=O)N2CCC(c3cc(-c4ccncc4)c(-c4ccc(F)cc4)[nH]3)CC2)C1',\n 'COc1ccc(C2Nc3ccccc3C(=O)N2Cc2ccco2)cc1',\n 'CC(C)S(=O)(=O)N1CCc2cccc(N3CCN(C(=O)C(Cc4ccc(Cl)cc4)NC(=O)C4Cc5ccccc5CN4)CC3)c2C1',\n 'COc1c(OC2CCN(C)CC2)ccc2cc(NC(=O)CCCC=CCCCC(=O)Nc3cc4ccc(OC5CCN(C)CC5)c(OC)c4oc3=O)c(=O)oc12',\n 'Cc1ccc(Cc2c(-c3ccc(F)cc3)sc(N)c2C(=O)c2ccc(Cl)cc2)cc1',\n 'CCCCNC(=O)CC1N=C2c3ccccc3N=C(SCC(=O)Nc3ccccc3C)N2C1=O',\n 'NC(=O)c1nn(-c2ccc3c(c2)OCO3)c2c1COc1ccc(NC(=O)c3ccc(N)cc3Cl)cc1-2',\n 'Cc1ccc(OCCSc2nc3ccc(NC(=O)c4ccco4)cc3s2)cc1',\n 'Clc1cccc(OC(c2cccnc2)C2CCCNC2)c1Cl',\n 'COc1cc(OC)c(C=Cc2cc[n+](C)c3ccccc23)c(OC)c1',\n 'COc1cc(OC)c(OC)cc1CNC(=O)c1cc(S(=O)(=O)N2CCOCC2)ccc1F',\n 'COc1ncc(N2CCC(CC#N)(n3cc(C(=N)O)c(Nc4ccc(F)cc4)n3)CC2)cn1',\n 'C=CCCCCCCCCC(=O)CC(=O)NC1CCOC1=O',\n 'COc1ccc(-n2c(C)cc(CNCc3ccc(CN(C)C)cc3)c2C)cc1',\n 'O=C(Nc1cccc(Cl)c1)c1cc(S(=O)(=O)NCCc2ccc(Cl)cc2)ccc1F',\n 'COc1cc(C=C2C(=O)N(CC(C)C)C(=O)N(CC(C)C)C2=O)ccc1O',\n 'CCCCCCCCCCCCCCOc1c(C[N+](C)(C)C)cccc1C[N+](C)(C)C',\n 'CC(C)c1noc(-c2cc(Cl)nc(Oc3ccc4c(c3)N(S(=O)(=O)c3ccc(Cl)cc3)CCC4)c2)n1',\n 'C1COC2(CCC3C4OC4CC32)O1',\n 'NC(=O)c1ccc(-c2ccnc3[nH]ccc23)cc1',\n 'CN1C(=O)N(Cc2ccc(Cl)cc2)S(=O)(=O)c2cscc21',\n 'CCN(C(=O)c1ccc2c(c1)N(Cc1cccc(Cl)c1)C(=O)c1ccccc1[S+]2[O-])c1ccccc1',\n 'C=CCN1C(=O)N(Cc2ccc3ccccc3c2)C(Cc2ccccc2)C(O)C(O)C1Cc1ccccc1',\n '[N-]=[N+]=Nc1nc2c(N)[n+]3cnc2n1C1OC(COP(=O)([O-])OP(=O)(O)OCC2CC3C(O)C2O)C(O)C1O',\n 'CC(C)CC(O)C(O)C(CC1CCCCC1)NC(=O)C(NC(=O)C(Cc1ccccc1)NS(=O)(=O)N1CCOCC1)OCC(F)(F)F',\n 'CC(=O)NCC1CN(c2ccc(N3CCN(c4cc(C#N)ccn4)CC3)c(F)c2)C(=O)O1',\n 'Cc1cccc(-c2nc(CN(C)CCC#N)co2)c1',\n 'O=C(Nc1ccc(CCCc2nnn[nH]2)cc1)c1ccc(OCc2ccc3ccccc3n2)cc1',\n 'CCc1nnc2c(NCCc3ccc(OC)c(OC)c3)nc3ccccc3n12',\n 'CCOC(=O)C1C(c2ccccc2[N+](=O)[O-])NC(c2ccccc2[N+](=O)[O-])C(C(=O)c2ccc(Cl)cc2)S1(=O)=O',\n 'Cc1nnc(C2CCN(C(=O)c3cnc4ccccc4n3)CC2)s1',\n 'CCc1ncnc(-c2cc(F)c(C(=O)N3CC4(CN(C)C4)C3)c(F)c2)c1C#Cc1ccc(N)nc1',\n 'CCNC(=O)Nc1nc2ccc(-c3ccncc3)cc2s1',\n 'CCNc1cc2c(nn1)CCN(C(=O)c1ccc(C(N)=O)cc1)C2',\n 'CC(C)CC(NC(=O)CCC(N)C(=O)O)C(=O)NC(CC(=O)O)C(=O)O',\n 'CC(=CCOc1ccccc1CN(C)C(=O)c1ccc(-c2ccco2)cc1)CCC(=O)O',\n 'CNS(=O)(=O)c1cccc(C(=O)OCC(=O)N2CCN(C(=O)c3ccco3)CC2)c1',\n 'CCC(C)c1ccc(C(O)Cn2ccnc2)cc1',\n 'CCOC(=O)c1c(N2C(=O)Nc3ccccc3N2O)sc2c1CCCCC2',\n 'COc1ccc2[nH]cc(C=C(C#N)S(=O)(=O)c3ccccc3)c2c1',\n 'O=C(NCC(c1cccnc1)N1CCN(Cc2ccccc2)CC1)C(=O)Nc1ccc(F)cc1',\n 'COC(=O)CCC(=O)Nc1cccc(OCc2ccc3ccc(C)cc3n2)c1',\n 'CN1CCN(c2ccc(CO)cc2F)CC1',\n 'O=C(O)C=C1OC2CC(=O)N2C1(CC=Cc1ccccc1)C(=O)OCc1ccccc1',\n 'CC=CC(N)=O',\n 'OCC1OC(n2cnnc2S)C(O)C1O',\n 'CC1(C(C(=O)OCc2ccccc2)N2C(=O)C(NC(=O)Nc3ccccc3)C2C=Cc2ccccc2)OCCO1',\n 'CCC(C)c1c(Cl)sc2nc(O)c(-c3cccc(Oc4ccccc4)c3)c(O)c12',\n 'O=C(CCN1C(=O)C2CC=CCC2C1=O)Nc1ccc(S(=O)(=O)N2CCCCC2)cc1',\n 'C#CCN(C)c1nc2nc(CCC3CCN(Cc4ccccc4)CC3)ccc2c(-c2ccccc2)c1C#N',\n 'COc1cccc(C(=O)N(c2ccc(C)cc2)C2C=CS(=O)(=O)C2)c1',\n 'CCOC(=O)c1c(C)[nH]c(C(=O)OCc2ccc(C)cc2)c1C',\n 'COc1ccc(S(=O)(=O)N2Cc3cc(-c4ccc(C#N)o4)ccc3N(Cc3cncn3C)CC2Cc2ccc(OCc3ccccc3)cc2)cc1',\n 'CCCCC(=Cc1cc(OCc2ccc3nc(C(F)(F)F)cc(OC)c3c2)ccc1OCc1ccc(C(F)(F)F)cc1)C(=O)O',\n 'O=C(COc1ccc2c(c1)CCC2)COc1ccc2c(c1)CCC2',\n 'O=C(O)CC(O)(CCCCCCCc1ccc(Cl)cc1Cl)C(=O)O',\n 'COc1ccc(C(=O)N(C)C2CCN(C(=O)C3CCN(C(C)=O)CC3)CC2c2ccc(Cl)c(Cl)c2)cc1',\n 'CCC1(c2ccccc2)NC(=O)N(CC(=O)Nc2cccc(S(=O)(=O)N3CCCC3)c2)C1=O',\n 'CCCCn1c(=O)[nH]c(=O)c2c1nc(-c1ccc(CC)c([N+](=O)[O-])c1)n2C',\n 'O=C(O)c1cc(C2CC2)ccc1Nc1ccc(-c2ccccc2F)nc1',\n 'Cc1noc(CN2CCN(C(=O)c3ccccn3)CC2)n1',\n 'COc1cc(CCC(=O)Nc2ccc(C(=O)NO)cc2)ccc1OCc1ccccn1',\n 'CCOC(=O)c1c(NC(=O)CN2C(=O)NC3(CCC(CC)CC3)C2=O)sc(C)c1-c1ccc(C)cc1',\n 'CC(C)S(=O)(=O)c1ccc(CC2CCN(C3CCN(C(=O)c4cccc5ccccc45)CC3)CC2)cc1',\n 'COc1cc(S(=O)(=O)N2CCN(C(=O)c3ccco3)CC2)c(OC)cc1C',\n 'CC(C)n1c(NC(=O)c2ccc3cc4n(c3c2)CCCNC4=O)nc2ccccc21',\n 'CCOC(=O)c1nc2ccccc2nc1Oc1ccc(F)cc1',\n 'NNC(=O)C(Cc1c[nH]cn1)NC(=O)c1cc(C23CC4CC(CC(C4)C2)C3)c2ccccc2n1',\n 'CCCCc1nc2cc(NC(=O)c3ccccc3Cl)ccc2n1Cc1ccc(-c2ccccc2C(=O)O)cc1',\n 'Cc1cc(C)nc(SCCCn2c(O)nc3ccccc32)n1',\n 'O=C(NCCc1ccccc1)C(=O)NCC(c1ccc2c(c1)OCO2)N1CCOCC1',\n 'O=C1C(=C(O)Cc2ccccc2Cl)C(=O)N(c2ccc(Cl)cc2)N1c1ccc(Cl)cc1',\n 'N#CC1(CCCNCCc2ccc(O)cc2)CCCc2c(O)cccc21',\n 'Cc1ccc(NC(=S)NC(=O)c2ccc(-c3ccc(Cl)cc3)o2)c(O)c1',\n 'CCOc1ccc(C(=O)NN=Cc2ccc(-c3ccc(S(=O)(=O)Nc4ncccn4)cc3)o2)cc1',\n 'O=C1CC2(CCCC2)C(O)C(=O)N1CCCCN1CCN(c2ncccn2)CC1',\n 'Cn1c(CC(=O)Nc2ccccc2)nc(N2CCOCC2)cc1=O',\n 'CCCC(CCC)C(=O)Nc1nnc(S(N)(=O)=O)s1',\n 'CC(=O)OCC(=O)C(CCc1ccccc1)NC(=O)C1COC(C)(C)N1C(=O)OCc1ccccc1',\n 'CCC(CC(=O)NCc1ccccc1)n1c(N)nc2cc(Cl)ccc21',\n 'O=C(O)c1ccc(N2C(=O)C(=Cc3ccc(Br)cc3)SC2=S)cc1',\n 'CC1(C)CC(c2nc(-c3ccc(F)c(N=C(O)c4cnc5ccccn45)c3)no2)C1',\n 'COc1cnc(C(O)=Nc2cccc(C3(C)C=CSC(=N)N3)c2)cn1',\n 'Cn1ncc2cc([N+](=O)[O-])ccc21',\n 'COC(=O)C1=C(O)C(=Cc2cc(C)n(-c3ccccc3C)c2C)N=C1C',\n 'COc1ccc(CCC(C)NCc2ccccc2OC)cc1',\n 'Cc1c(Cl)cc(O)c2nc(CCc3nc(N4CCCC4)nn3C)nn12',\n 'CC1CCC2C(C)(Br)C(Nc3ccc(O)c(CN4CCN(c5ccccc5)CC4)c3)OC3OC4(C)CCC1C32OO4',\n 'CN(CCCN1C(=S)CSC1c1cc(C(C)(C)C)c(O)c(C(C)(C)C)c1)CCOc1ccc2c(c1)OCO2',\n 'c1ccn(CCCCCOc2ccc(C3=NCCO3)cc2)c1',\n 'Cc1nc2ccc(Nc3ncc(N=C(O)C(C)(C)O)c(=O)n3Cc3ccc(Cl)cc3)cc2s1',\n 'N#Cc1c[n+]([O-])c2ccc(Cl)cc2[n+]1[O-]',\n 'COc1cccc(N2CCN(C(=O)c3cccc(S(=O)(=O)N4CCCC4)c3)CC2)c1',\n 'CC1=C(C(=O)Nc2ccccc2Cl)C(c2ccccc2O)C(C(=O)Nc2ccccc2Cl)=C(C)N1',\n 'COc1ccc(N2CCc3c(-n4ccc(-c5nccs5)n4)ccnc32)c(OC)c1',\n 'CC(=CC(=O)O)c1cc2c(-c3cc(C(C)(C)C)cc(C(C)(C)C)c3C)cccc2s1',\n 'C=CCNC(=O)c1onc(CCl)c1C(=O)OC',\n 'CC1COCCN1c1nc(N2CCOCC2C)c2ccc(-c3ccc(F)nc3)nc2n1',\n 'CN(CC(=O)Nc1cccc(S(=O)(=O)NC2=NCCC2)c1)Cc1cccc(F)c1',\n 'O=C(O)Cn1cc(Cc2nc3c(F)c(F)cc(F)c3s2)c2cc(Br)ccc21',\n 'Cc1c(CCN2CCN(CCc3ccc(C#N)c(F)c3Cl)CC2)ccc2c1COC2=O',\n 'Cc1ccc(Cc2c(-c3ccccc3)nc3cc(C)c(Br)c(C)n23)cc1',\n 'CC1CCC(C(=O)c2ccc3nc4c(cc3c2)CCCCC4)CC1',\n 'Cc1ccc(S(=O)(=O)c2scc(-c3ccccc3)c2C)cc1',\n 'CCCCOC(=O)NCCc1nc(-c2ccc(C3CCCCC3)cc2)c[nH]1',\n 'Cc1c(C)c(C=O)c(C)c(C(CCCCCC(=O)O)c2ccccc2)c1O',\n 'COc1cccc(C=CC(=O)OCc2c(-c3ccccc3Cl)c3cc(Cl)ccc3[nH]c2=O)c1',\n 'CCC(C)Oc1oc(=O)c2cc([N+](=O)[O-])ccc2c1Cl',\n 'CC(=O)NCC1CN(c2ccc3c(c2)CCCC(=Cc2cccn2C)C3=O)C(=O)O1',\n 'CCOCCOCCOc1ccc(NC(=O)NC23CC4CC(CC(C4)C2)C3)cc1',\n 'O=C(O)C1Cc2[nH]cnc2C(c2cccnc2)N1',\n 'CC(C)COc1ccc(CN(CC(=O)NCc2ccccc2Cl)S(=O)(=O)c2ccc(CN3CCN(C)CC3)cc2)cc1',\n 'Cn1cc(C2=NOC(C(=O)NC3(c4ccccc4F)CCCC3)C2)cn1',\n 'COc1ccc(NC(=O)n2sc3ccccc3c2=O)cc1',\n 'CC(C)(C)c1ccc(CN2CCCCC(NC(=O)c3cc(-c4ccccc4Cl)cs3)C2)cc1',\n 'N#Cc1ccc(N2CC3(CCN(c4nccs4)C3)C2)nc1',\n 'OC(c1ccc(N(Cc2ccccc2)CC(F)(F)F)c(Cl)c1)(C(F)(F)F)C(F)(F)F',\n 'NCCCC1NC(CN=C(O)c2cccc3cc(Br)ccc23)CCN(CC(c2ccccc2)c2ccccc2)C1=O',\n 'C=CC(C)(O)CCC1C(=C)CCC(Br)C1(C)CCC1OC1(C)C',\n 'CC(C)c1ccc(S(=O)(=O)N2CCN(C(=O)CN3C(=O)NC4(CCCC4)C3=O)CC2)cc1',\n 'COc1c(O)c(O)c2c(=O)cc(-c3ccccc3)oc2c1OC',\n 'CCc1ccc(NS(=O)(=O)c2ccc(Cl)cc2OC)cc1',\n 'COC1COCCC1NC1CC2OC(=O)CC2(C(=O)N2CCc3ncc(C(F)(F)F)cc3C2)C1',\n 'Cn1cncc1C(OCc1ccc(C#N)c(N2CCCC(O)C2)n1)c1ccc(C#N)c(-c2ccccc2C(F)(F)F)c1',\n 'COc1cc2ccc3c[n+]4ccccc4cc3c2cc1OC',\n 'COC(=O)CCCC1C2CCCN3CCCC(CN1C(=O)NCCCl)C23',\n 'CS(=O)(=O)C1CCN(C2CN(c3cc(C#N)cc(Nc4nc(NC5CC5)c5ncc(C#N)n5n4)c3Cl)C2)C1',\n 'Cc1cc(C)n(-c2ccc(NC(=O)C3CCCCN3C(=O)c3cc(C)oc3C)cc2)n1',\n 'COc1cc(OC)c(C(c2ccccc2)c2c(O)c(OC)c3oc4c(OC)c(OC)c(OC)c(O)c4c(=O)c3c2O)cc1OC',\n 'O=C(Nc1ccccc1)c1cccc(N2C(=O)C3C4C=CC(C5CC45)C3C2=O)c1',\n 'CN1CCC(c2[nH]nc(-c3cccc(Cl)c3)c2-c2ccncc2)CC1',\n 'C#CCN(C)C(=O)c1cc(-c2ccc3c(N4CCOCC4C)nc(N4CCOCC4C)nc3n2)ccc1F',\n 'CC1=C(CC(=O)NCC(=O)NCC(=O)O)c2cc(F)ccc2C1=Cc1ccc([S+](C)[O-])cc1',\n 'NS(=O)(=O)OCC1CC(Nc2ccnc(C(=O)NC3CCc4ccccc43)c2)C(O)C1O',\n 'O=C1CCCCN1c1ccc(N2CCc3c(-c4nc[nH]n4)nn(-c4ccc(Br)cc4)c3C2=O)cc1',\n 'CCCN1CCC(NC(=O)C2CCN(C(C)=O)CC2)CC1',\n 'CCC(N=C(O)c1cc(C(=O)N2CCCC2C)n2c1CSCC2)c1ccccc1',\n 'CC1=CCC2C(C)(C)CCCC2(C)C12CCC(C)(CC=CCO)O2',\n 'O=C(CSc1nc2cc(C(=O)NC3CCCC3)ccc2c(=O)n1CC1CCCO1)c1cccc(Cl)c1',\n 'Cc1cc(OCC(=O)NCC2(N3CCOCC3)CCCCC2)ccc1Cl',\n 'O=c1[nH]c(C2CCCNC2)nc2c1oc1ccc(Br)cc12',\n 'O=C(C=Cc1ccc(OC(F)(F)F)cc1)NCc1ccco1',\n 'CC1CN(C(=O)c2cn3c4c(cccc24)OCC3C2CCCCC2)CCN1',\n 'CC12CCC3C4CCC(=O)C(Cl)=C4CCC3C1CCC2O',\n 'CCc1ccc(C2C(C(=O)OC)=C(N)OC3=C2C(=O)CC(C)(C)C3)cc1',\n 'CCNC(=O)c1c(NC(=O)c2cc(=O)c3ccc(C)c(C)c3o2)sc2c1CCCC2',\n 'COc1ccccc1Nc1nnc(SCc2cc(=O)n3ccsc3n2)s1',\n 'COc1ccc2c(c1)CCC(NC(=O)C1CCC(CNS(=O)(=O)c3ccccc3F)CC1)C2Cc1cccnc1',\n 'O=C(O)CCCN1C(=O)CC2(CC(CCC3CCNCC3)=NO2)C1=O',\n 'CCCn1c(O)c(N=N)c2ccccc21',\n 'CCOC(=O)c1cnc(SCC(=O)NCc2ccco2)nc1N',\n 'O=C(O)CC(O)(CC(O)CCCCCCc1ccc(Cl)cc1OCc1ccccc1)C(=O)O',\n 'COc1ccccc1C(=O)Nc1cc(C2CC2)[nH]n1',\n 'NS(=O)(=O)NCCC1CCN(c2ncnc3cc(Cl)ccc23)CC1',\n 'O=C(NCc1ccncc1)C1CCCN1C(=O)C1CCCN1C(=O)c1cccc2ccccc12',\n 'O=C(Nc1ccc(O)c2c(=O)cc(-c3ccccc3Cl)oc12)c1ccc(Br)cc1',\n 'O=C(CN1CCCCC1)Nc1ccc(N=C2SCC(=O)N2Cc2cccs2)cc1',\n 'CCNC(=O)Nc1ccc(-c2nc3c(c(N4CCOCC4C)n2)CCN(c2nccn2C)C3)cc1',\n 'O=C(O)c1nc2ccc(Cl)cc2[nH]c1=O',\n 'Cc1csc(C(Cc2cccs2)NCc2cc3c(cc2C)OCO3)n1',\n 'COc1ccc(N2C(N)=C(C#N)C(c3ccsc3)C3=C2CCCC3=O)c(OC)c1',\n 'CN1CCC(c2c(O)cc(O)c3c(=O)cc(-c4ccccc4)oc23)C1CO',\n 'CN(C)C12CCNC(C(c3ccccc3)C1)C(c1ccccc1)C2',\n 'CCCCN(C(=O)c1cc(-c2cc3c(cc2C(=O)N2Cc4ccccc4CC2CN2CCOCC2)OCO3)n2c1CCCC2)c1ccc(O)cc1',\n 'CC(=O)OC1CC2(C)C(C(C)=O)CCC2C2CCC3CC4(CC(=O)C3(C)C12)OCCO4',\n 'N=C(N)NN=C(c1ccccc1)c1ccc(Cl)c(Cl)c1',\n 'O=C(NC(Cc1ccc(OCCC2CO2)cc1)C(=O)Nc1ccc([N+](=O)[O-])cc1)c1ccccc1',\n 'COc1ccc(S(=O)(=O)NCC(=O)N(Cc2ccco2)C(C(=O)NC(C)(C)C)C(C)C)cc1',\n 'CCC1OC2c3ccccc3COC2C1OC(=O)c1ccccc1',\n 'Cc1nc(-c2ccc(C(=O)N3CC(c4ccc(Cl)cc4)C(C)(N(C)C(=O)Oc4ccc(F)cc4)C3)cc2)no1',\n 'CC(C)C(NC(=O)c1nc(-c2ccc(NC(=O)Nc3ccc(Cl)cc3)cc2)no1)C(=O)O',\n 'COc1ccc2c(c1)CN(C(=O)Nc1ccc(C(=O)NCCCc3ccccc3)cc1)C2',\n 'Cc1ccc([N+](=O)[O-])c(NCCCCC(N)C(=O)O)c1',\n 'CCc1nc2ccc(C(=O)Nc3cccc(OCC(=O)N(C)C)c3)cn2c1N(CC)CCOC',\n 'CCCC(C)=NNc1nc(-c2ccc(I)cc2)cs1',\n 'CC(C)(C)c1ccc(S(=O)(=O)c2ccccc2Cl)cc1',\n 'CN(c1cccnn1)C1CCN(C(=O)c2n[nH]c3c2CCC3)CC1',\n 'O=C1CC(c2ccccc2)CC(=O)C1Sc1ccc(Cl)cc1',\n 'CCOP(=S)(OCC)Oc1ccccc1NC(C)=O',\n 'CCCN(CCC)Cc1cccc(-c2cc(Cl)c(S(=O)(=O)N(C)c3c(C)nn(C)c3C)c(Cl)c2)c1',\n 'Cc1ccc(C(=O)Nc2nc3nc(-c4ccccc4)cc(O)n3n2)cc1',\n 'Cc1nc(-c2cccc3ccccc23)ccc1C(=O)O',\n 'CN1CCN(CC(=O)Nc2ccc3nc4c5[nH]c6ccccc6c5ccn4c(=O)c3c2)CC1',\n 'COc1ccc(Oc2ncccc2C(=O)NCc2ccccc2Cl)cc1',\n 'O=C(C=Cc1ccccc1)c1cccc(O)c1CN1CCOCC1',\n 'Cc1cc(C)cc(NC(=O)CSc2nnc(CNC(=O)c3ccco3)n2C)c1',\n 'CCc1n[nH]c(C2CN(C(=O)c3ccc4c(c3)COC4)CCO2)n1',\n 'O=C(CCS(=O)(=O)c1ccc(Cl)cc1)NCCc1c[nH]c2ccccc12',\n 'O=C(Nc1cc(Cl)cc(Cl)c1)Nc1ccccc1C(=O)NCC1CC1',\n 'COc1cc(NC(C)CCCN)c(OC)c2c(C)ccnc12',\n 'Fc1cccc(CN2CCC3(CCCN3c3ncccn3)CC2)c1',\n 'O=C(CCNCc1ccccc1)N1c2ccccc2CCc2ccccc21',\n 'Cc1cc(NC(=O)c2cc(NC3CCCCC3)ncn2)ccc1O',\n 'N#Cc1cc(I)c2[nH]c3c(c2c1)CC(=O)Nc1cccnc1-3',\n 'CCc1nnc(CNC2CCc3nc(C(C)C)nn3C2)o1',\n 'COc1cc2ccn(-c3ccc(C(N)=O)c(NC4CCC(O)CC4)c3)c2cc1OC',\n 'CCCCCCCCCCCCCCCCCNC(=O)OCCOCCOC(=O)N(Cc1cccc[n+]1CC)C(=O)OCC',\n 'O=C(NC(CC1CCCCC1)C(=O)NC(CC1CCNC1=O)C(O)S(=O)(=O)O)OCc1cccc(Br)c1',\n 'CCCOC(=O)c1ccc(NC(=O)c2c(O)c3ccccc3n(Cc3ccccc3)c2=O)cc1',\n 'CC(C)c1cc(C(=O)N2CCC3(CCc4ccccc4C(=O)N3)C2)no1',\n 'COCCCN(C)C1c2ccccc2C2(CCNCC2)C1O',\n 'CC(=O)Nc1cccc(-c2ccc(Cc3ocnc3C(=O)N(C)CCc3ccccc3)cc2)c1',\n 'CNC(=O)C(NC(=O)c1ccc(-c2cccc(CNC(=O)c3ccnc(Cl)c3)c2)o1)C1CCCCC1',\n 'Cn1c(=O)c2c3c(ccc2n(C)c1=O)ncn3C',\n 'Cc1occc(=O)c1OCc1noc(C(=O)NCC(C)C)n1',\n 'COC(=O)C1=C(Cn2cccn2)NC(C)=C(C#N)C1c1ccc(F)cc1Cl',\n 'CC(C)(NC(=O)c1ccc(C2CCCC2)c(-c2cccc(Cl)c2)n1)c1nccs1',\n 'N#Cc1ccc(-c2cc3c(o2)C(=O)N(Cc2ccccc2-c2cncc(F)c2)c2ccc(N4CCNCC4)cc2C3)cc1',\n 'CCCCONC(=O)c1cn(C)nc1OCc1cccc(C(F)(F)F)c1',\n 'CC1=C2CC3C(CCC4=CC(=O)CCC43C)C2CCC2(C1)OC1CC(C)CN(CCCl)C1C2C',\n 'Cc1ccc(-c2nnn(CC(=O)N(c3ccc(F)cc3)C(C(=O)NC3CCCC3)c3ccco3)n2)o1',\n 'NC(=O)c1ccc(-c2cc(-c3ccccn3)cnc2N)cc1',\n 'O=C(c1ccc(F)c(F)c1)N1CCN2C(=O)c3ccccc3C12C1CCCCC1',\n 'Cc1cc(Br)cn2c(Cc3ccccc3)c(-c3ccc(F)cc3)nc12',\n 'Cc1csc(C(=O)NC2CCC(NC(=O)c3cc(F)cnc3Oc3cccc(-c4ccc(CN5CC(C)NC(C)C5)cc4CN4CCOCC4)c3)CC2)n1',\n 'COc1ccc(Br)cc1CCc1c(F)cccc1C(=O)N=C(N)NCC1CCNCC1',\n 'N#Cc1ccc2sn(-c3ccc(Cl)cc3)c(=O)c2c1',\n 'Cc1cc(C)c(C)c(C[N+]2=CN3CCCCC3C2)c1C',\n 'CC1(C)CC2(S(=O)(=O)c3ccccc3)ON1CC2S(=O)(=O)c1ccccc1',\n 'CC(C)(C)OC(=O)N1CCC(C(=O)Nc2ccc(C(=O)N3CCCCC3)cc2)CC1',\n 'COc1cccc(NC(=O)Nc2ccccc2CN2CCC(Cc3ccccc3)CC2)c1',\n 'CC(C)(C)c1cc(NC(=O)Nc2cccc(Cl)c2Cl)n(-c2ccc(N)cc2)n1',\n 'COC(=O)CCSCC=C(C)CCn1cc(-c2cccc3ccccc23)nn1',\n 'COc1cc(NC(=O)c2cccs2)c(C(=O)NCc2ccc(C)cc2)cc1OC',\n 'ClC(Cl)(Cl)c1nc(Oc2ccc3ccccc3n2)c2ccccc2n1',\n 'CC(Cn1cnc2c(N)ncnc21)OCP(=O)(NC(C)C(=O)OCc1ccccc1)Oc1cccc2ccccc12',\n 'CNC(=O)CSc1nnnn1-c1ccc(C)cc1C',\n 'N#Cc1cccc(COc2cc(OCCCN3CCCC3)ccc2C(=O)Nc2cccc(O)c2)c1',\n 'C=CC(=O)Nc1cccc(Nc2nc(Nc3ccc(Oc4ccnc(C(=O)NC)c4)cc3)ncc2F)c1',\n 'CC(N)C(=O)OCCOC(=O)C12CCC(C)(C)CC1C1=CCC3C4(C)CCC(OC(=O)CO[N+](=O)[O-])C(C)(C)C4CCC3(C)C1(C)CC2',\n 'Cc1ccccc1OCC(=O)Nc1ccc(-c2nc3cc(C(C)O)ccc3o2)cc1',\n 'CCOc1ccc(C(=O)N2CCN(C(=O)c3csc(Cc4n[nH]c(=O)c5ccccc45)c3)CC2)cc1',\n 'N=C(N)NC(=O)Nc1cc(F)c(Cl)c(Br)c1',\n 'CCC(N)(C#Cc1cnc(N)c2c(-c3ccc(NC(=O)Nc4cccc(C)c4)cc3)csc12)CC',\n 'CCN1CC(C)(C)n2c(c(O)c3c(=O)n(Cc4ccc(F)cc4)ncc32)C1=O',\n 'CN(C)C1COC2(CCN(Cc3ccncc3)CC2)C1',\n 'N=C(N)CCCCCCCCC(=N)N',\n 'CCOP(=O)(Cn1cc(Cn2c(Cl)nc3c2c(=O)n(C)c(=O)n3C)nn1)OCC',\n 'COc1ccc(CN2C(=O)CC3(C2=O)C(=O)N(CC(=O)O)c2ccc(Cl)cc23)cc1F',\n 'COc1ccc(OC(=O)CC(O)CC(O)CCn2c(-c3ccc(F)cc3)c(-c3ccccc3)c(C(=O)Nc3ccccc3)c2C(C)C)cc1',\n 'COc1ccc(C(=O)N2CCCC3c4ccccc4CC32)cc1O',\n 'CC1(C)Cc2c(sc(N=CN3CCCC3)c2C#N)C(C)(C)N1',\n 'NCCNc1cccc(-c2cc(NC3CCC(O)CC3)ncc2Cl)n1',\n 'c1ccc(CNc2nc(CN3CCCCC3)nc3ccsc23)cc1',\n 'CS(=O)(=O)c1ccc(OCC(=O)O)c(-c2ccccc2)c1',\n 'CC(C)(C)N1C(=O)CN=C(c2ccccc2)c2cc(Cl)ccc21',\n 'O=C(CCn1nnc2ccccc2c1=O)N(CC1CCOC1)C1CC1',\n 'NC(=O)C1CCC(CN2CCC(=C(c3ccccc3)c3ccc(F)cc3)CC2)O1',\n 'Cc1ccccc1-n1nc(C)c(-c2cc(F)c3nccnc3c2)c1Nc1ccccc1C(=O)O',\n 'Cc1ccc2c(c1)C(=O)N(CCOC(=S)N(C(=O)c1ccc(Cl)cc1)c1ccc([N+](=O)[O-])cc1)C2=O',\n 'O=C(CN1C(=O)NC2(CCOc3ccccc32)C1=O)Nc1ccc(F)c(F)c1F',\n 'CCc1ccc(-n2c(=O)c3cccnc3n2CC(=O)N(CC)c2cccc(C)c2)cc1',\n 'CCN1C(=O)C(CC(=O)Nc2ccc(F)cc2)N(Cc2cccs2)C1=S',\n 'CCOC(=O)c1sc(NC(=O)c2cccc(NS(C)(=O)=O)c2)c(C#N)c1C',\n 'O=C(COc1ccc(Cl)cc1Cl)NC1CCSC1=O',\n 'O=C(CCCN1C(=O)SC(=CC=Cc2ccccc2)C1=O)Nc1ccc(O)cc1',\n 'CC(C)C(NC(=O)OC(C)(C)C)C(=O)NC(Cc1ccccc1)C(O)C(NCc1ccccc1)C(=O)NC(C(=O)NCc1ccccc1)C(C)C',\n 'O=S(=O)(c1ccccc1)c1sc2ncccc2c1-c1ccc(Cl)cc1',\n 'Cc1cccc2nc(CNC(=O)C3CCC(=O)N(Cc4ccccc4F)C3)cn12',\n 'CCc1cc(CCCCN)sc1CCCCCCCCN',\n 'CC(=O)Nc1nc(OCc2ccccc2)c2ncn(C3OC(O)C(O)C3O)c2n1',\n 'CC(c1nc2cnc(N3CCCC(C(=O)N4CCCC4)C3)[nH]c-2n1)n1cc(Cl)cn1',\n 'O=C(O)c1ccc2c(c1)S(=O)(=O)c1cc(Cl)ccc1C2=O',\n 'CCS(=O)(=O)N1CCC2OCCC2(C(=O)NC)C1',\n '[C-]#[N+]C1C(C)=NC2=C(C(=O)NC2)C1c1ccc2n[nH]c(C)c2c1',\n 'CC1(C)OC(c2ccc(S(C)(=O)=O)cc2)=C(c2ccc(C=O)s2)C1=O',\n 'CN1CCN(Cc2ccccc2CNC(=O)c2ccc(Br)cc2)CC1',\n 'Cn1ccc(=Nc2ncc(Cl)c(CCc3ccccc3C3(C(=N)O)CC3)n2)[nH]1',\n 'CN1c2ccc(Cl)cc2N(c2ccccc2)C(=O)c2cn(Cc3cccc(O)c3)nc21',\n 'CCNC(=S)N1CCN(c2ccccc2OCC)CC1',\n 'CCN1CCCCC1C(=O)N1CCC(OCCOC)CC1',\n 'COc1ccccc1NC(=O)NC(CCC(=O)N1CCN(c2nsc3ccccc23)CC1)C(=O)N1CCN(c2nsc3ccccc23)CC1',\n 'N#CC(=Cc1ccc(O)c(O)c1)C(=O)NCc1cccc(CNC(=O)C(C#N)=Cc2ccc(O)c(O)c2)c1',\n 'Cn1c(=O)c2[nH]c(Cc3ccc(OCCCn4ccnc4)cc3)nc2n(C)c1=O',\n 'COc1c(C)cnc(CN2CCOC(Cn3cncn3)C2)c1C',\n 'O=C(c1cccnc1)C1CCCN(c2nnc(C3CC3)o2)C1',\n 'Cc1cc(C)c(NC(=O)CC(C)N)c(C)c1',\n 'CCn1c(C=C2SC(=O)N(CC(=O)N3CCCC3)C2=O)nc2ccccc21',\n 'CCOC(=O)C=CC(CC1CCNC1=O)NC(=O)C(Cc1ccc(F)c(F)c1)n1ccc2cc(Br)[nH]c2c1=O',\n 'COc1cc(C(=O)NC2CN(C)C2)ccc1Nc1ncc2c(n1)-c1c(nn(C)c1-c1ccccc1Cl)CC2',\n 'COC(=O)CSc1nc2cc(-n3nc(C(C)(C)C)oc3=O)c(F)cc2s1',\n 'CCCCCCCCCC=C(NC(=O)C1CC1(C)C)C(=O)O',\n 'CC(C=Cc1ccc(F)cc1)=NO',\n 'CC(=O)N1C(=O)C(O)(C(F)(F)F)c2cc(C)ccc21',\n 'CCOC(=O)C(=O)Nc1ccc(Cl)ccc1=O',\n 'CCOC(=O)N1CCC(NC(=O)c2cc(C(=O)Nc3ccc(S(=O)(=O)N4CCCCC4)cc3)ccc2CO)CC1',\n 'CCCCCCCCCCCCCCC1CCCN1CCCP(=O)(O)O',\n 'COc1cccc(N2C(=O)C(=CN(C)C)c3ccccc32)c1',\n 'CCCCCCCC(NC(=O)C(CC(=O)O)NC(C)=O)C(=O)O',\n 'COc1c(-c2ccccc2F)oc2ccc(N)cc2c1=O',\n 'CCS(=O)(=O)c1ncc(Cl)c(C(=O)N(Cc2ccccc2)c2ccc(OC)cc2)n1',\n 'c1ccc2nc(COc3ccc(-c4n[nH]cc4-c4ccncc4)cc3)ccc2c1',\n 'Clc1ccc(-c2ccc(C3=NOC(c4ccncn4)N3c3ccc(N4CCNCC4)cc3)o2)cc1',\n 'Cc1ccc(C(=O)Nc2cc(C(N)=O)ccc2N2CCCCC2)cc1F',\n 'CCOC(=O)C(NO)C(Sc1ccccc1)c1ccc(OC)cc1',\n 'CC(=O)NCCn1c(SCc2ccc(C)cc2C)nc2ccccc2c1=O',\n 'CCc1cc(C(=O)NC2CC(C(=O)Nc3cc(C)on3)N(C(=O)c3coc4ccccc34)C2)n(C)n1',\n 'COc1ccc(C2CC(=O)N(CC(=O)Nc3cc(C)ccc3C)c3ccccc3S2)cc1',\n 'CC1=C(C)C(=NOC(=O)c2cccc([N+](=O)[O-])c2)C=CC1=O',\n 'CC(C)N1C(=O)C(C)(C)c2cc(-c3ccc(C#N)n3C)cc(F)c21',\n 'COC(C)(C)C=CCC(C)C1CCC2(C)C3C(O)C=C4C(CCC(O)C4(C)C)C3(C=O)CCC12C',\n 'CNC(=O)c1cccc(CCNC2CCSc3ccccc32)c1',\n 'CC(OS(N)(=O)=O)C(C)OS(N)(=O)=O',\n 'C(=Cc1n[nH]c2cc(-c3ccncc3)ccc12)c1ccc(-c2ccccc2)cc1',\n 'CN1CCC(N(C)C(=O)c2cnn(-c3ccccc3-c3ccco3)c2C2CC2)CC1',\n 'COc1ccccc1C=C1N=C(C)N(c2ccc(C(C)=NN=C3NC(=O)CS3)cc2)C1=O',\n 'CCOC(=O)C=Cc1ccc2c(-c3ccc(OCC(=O)O)cc3)nocc1-2',\n 'CC(C)Oc1ccccc1CNc1nnnn1-c1cccc(Cl)c1Cl',\n 'CCN(Cc1cccc(C(=O)Nc2ncc(C)s2)c1)C1COCC1O',\n 'COC(=O)C(CCCN(C)CCCc1nc2cc(OC)ccc2[nH]1)(c1ccc(Br)cc1)C(C)C',\n 'O=C(Nc1ccc(C(=O)N2CCCC2)cc1)c1ccccc1Br',\n 'CC(=O)OC1C#CC=CC#CCC2C(=O)N(C(=O)NCc3cccc4ccccc34)C12',\n 'Clc1ncc[nH]1',\n 'N#CCCCCOc1c2ccoc2cc2oc(=O)ccc12',\n 'N#Cc1cccc(NC(=O)NNc2nc3ccccc3c(=O)n2-c2ccccc2)c1',\n 'CC1=NN(c2ccc(S(=O)(=O)O)cc2)C2(C1)C(Cl)C(=O)N2c1nc2ccccc2s1',\n 'CCc1cc(CC2CS(=O)(=O)CC(NCc3cccc(C(C)(C)C)c3)C2O)cc(F)c1N',\n 'CCCCCC(=O)Nc1ccc2cn(Cc3ccc(C(=O)O)cc3)nc2c1',\n 'CCCCN(C)C(=O)CN1C(=O)CCn2nc(-c3cn(C)c4ccccc34)cc21',\n 'CNC(=O)c1cc2c(Oc3ccc(-c4cncn4C)cc3)cncc2s1',\n 'O=C(O)c1c(Cl)c(Cl)c(Cl)c(Cl)c1-c1c2c3ccccc3c(=O)cc-2oc2cc(O)c3ccccc3c12',\n 'O=C(COc1coc(CN2CCOCC2)cc1=O)Nc1ccc(Cl)cc1',\n 'CN(c1ccc(NC(=O)Nc2cc(C(F)(F)F)ccc2F)cc1)c1ccnc(Nc2cccc(CS(C)(=O)=O)c2)n1',\n 'COc1ccc(C=Cc2onc(C)c2S(=O)(=O)N2CCC(C(=O)NCCC(C)C)CC2)cc1',\n 'COc1ccc(NC(=O)CSc2nnnn2C2CCCCC2)c(OC)c1',\n 'COc1ccc(CCNC(=O)c2cc(S(=O)(=O)N3CCCC(C)C3)cn2C)cc1OC',\n 'O=C1NC(c2ccc(Cl)cc2)(c2ccc(Cl)cc2)C(=O)N1Cc1ccccc1',\n 'Cn1c(=O)n(C)c2cc(NS(=O)(=O)c3ccc(C(C)(C)C)cc3)c(NCc3ccccc3)cc21',\n 'COc1ccc(-c2oc3ccc(C)cc3c2C(=O)c2cc(OC)cc(OC)c2)cc1',\n 'CC(=O)Nc1ccc(C2CC(c3ccc([N+](=O)[O-])cc3)=Nc3ccccc3[S+]2[O-])cc1',\n '[C-]#[N+]c1cc(NCC(=O)NC2CC(N3CCC(O)(c4cncs4)CC3)C2)c2cc(C(F)(F)F)ccc2n1',\n 'O=C(Cn1nc(Cc2cccnc2)c2ccccc2c1=O)Nc1ccccc1F',\n 'Oc1nnc2c3cc(-c4ccccc4)c(-c4ccc(CN5CCC(c6n[nH]c(-c7ccccn7)n6)CC5)cc4)nc3ccn12',\n 'O=C(C(=O)N1CCC(Oc2ccc(Cl)cc2)CC1)c1c[nH]c2ccccc12',\n 'N#CCC1=C(C#N)CC(c2ccc([N+](=O)[O-])cc2)=C(CC(=O)c2ccc([N+](=O)[O-])cc2)O1',\n 'O=C(O)c1cn(C2CC2)c2cc(N3CCN(CC=CCN4CCN(c5cc6c(cc5F)c(=O)c(C(=O)O)cn6C5CC5)CC4)CC3)c(F)cc2c1=O',\n 'N#CC(N=C(O)C1CCC(c2nnn3cnc4[nH]ccc4c23)CC1)c1ccccc1',\n 'CCOC(=O)c1sc(=S)n(C)c1NC(=O)c1ccc(OC)cc1',\n 'Cc1cccc2cc3ccc4ccccc4c3cc12',\n 'Cc1nccn1CC(O)c1ccc(Cl)cc1',\n 'CSc1ccc2nc(C(=O)O)cc(O)c2c1',\n 'COc1cccc(C2C3=C(O)OCC3=Nc3cc4c(cc32)OCO4)c1',\n 'OC1CNC(CNC(COCOc2ccccc2F)c2ccccc2)C1O',\n 'COc1ccccc1OCC1SCCN1C(=O)C(C)(C)C',\n 'Cc1cc(Nc2cc(C3CC3)[nH]n2)nc(NCc2cc(-c3ccc(F)cc3)no2)n1',\n 'CC(=O)NC(Cc1ccc(O)cc1)C(=O)NC(CCC(=O)O)C(=O)NC(C)C(=O)NC(CC(=O)O)C(=O)CNS(=O)(=O)CCc1ccccc1',\n 'CN1CCC(c2cccc(Nc3nc4c(-c5ccc(S(C)(=O)=O)cc5)cccn4n3)c2)CC1',\n 'COc1cncc(-c2ccc3nnc(-c4cccc(OC(F)(F)F)c4)n3c2)c1',\n 'CCCCc1c(-c2cccc(F)c2)ncn1CCc1ccccc1OC',\n 'CCc1c(C)nc(OC)c(NC(=O)C(C)(C)C)c1C(C)(O)c1cc(C)cc(C)c1',\n 'Cc1cccc(NS(=O)(=O)c2ccc3c(c2)OCCO3)c1',\n 'CCOC(=O)c1cnn(CC(O)c2ccccc2)c1NC(=O)NCc1cccc(Br)c1',\n 'Clc1ccc2nc(CCNCc3ccc(-c4nnc5n4-c4cccnc4Nc4ccccc4-5)cc3)[nH]c2c1',\n 'O=C(O)C(Cc1c[nH]c2ccccc12)NC(=O)C(CS)C(c1ccccc1)c1ccccc1',\n 'CCOC(=O)n1cc(F)c(=O)n(C(=O)CC)c1=O',\n 'CCC(CO)NC(=O)c1cccc(CCC(C)(C)O)c1',\n 'Cn1cc(Cl)nc(N2CCC(Oc3cc(F)ccc3Cl)CC2)c1=O',\n 'Cc1ccc(NC(=O)c2n[nH]c3ccccc23)cc1',\n 'CCCC(C(=O)O)=C1OC2CC(=O)N2C1C(=O)O',\n 'O=c1cc(-c2nc3ccccc3[nH]2)[nH]c2nc(-c3nc4ccccc4[nH]3)cc(-c3ccc(Cl)cc3)c12',\n 'CC(=O)N1CCC(n2cc(-c3cccc(OCc4ccccc4)c3)c3c(N)ncnc32)CC1',\n 'CC(C)c1cc(C(C)C)c(S(=O)(=O)NC(Cc2cccc(C(=N)N)c2)C(=O)N2CCOCC2)c(C(C)C)c1',\n 'CCCC(C)COc1ccc(C(CO)NC(=O)C2CC2c2cccs2)c(C)c1',\n 'CC1(CC(=O)NCc2ccc(Oc3ccc(F)cc3)cc2)CC2(CCCCC2)OO1',\n 'Cc1ccc(C2CN3C=CSC3=N2)cc1C',\n 'COc1ccccc1N1CCN(Cc2ccc(CN(Cc3ccccc3)C(C)=O)n2C)CC1',\n 'O=C(Nc1ccc(F)cc1)N1CCc2cc(S(=O)(=O)N3CCN(c4cccc(Cl)c4)CC3)ccc21',\n 'COc1cc2nc3c(C=Cc4cc(OC)c(OC)c(OC)c4)ccc(OC)c3nc2cc1OC',\n 'COc1cncc(OC)c1C1CCCC(=O)N1Cc1cccc(-n2cccn2)n1',\n 'CCCCCCN1CC(CN(C)c2ccc(C(=O)NC(CCC(=O)O)C(=O)O)cc2)=Nc2c(N)nc(N)nc21',\n 'Cc1nc(C)c(C(=O)N2CCc3nnc(C4CCCCN4C)n3CC2)o1',\n 'N#Cc1ccc(NC(=O)C(O)(C[S+]([O-])c2ccccc2)C(F)(F)F)cc1C(F)(F)F',\n 'COc1ccc2c(OCC3CC4C(=O)N(C)CCCCC=CC5CC5(C(=O)NS(=O)(=O)C5CC5)NC(=O)N34)cc(-c3ccccc3)nc2c1',\n 'O=C(c1ccc2[nH]nnc2c1)N1CCN(c2ccc(C(F)(F)F)cn2)CC1',\n 'COC1=CC(C2SCCCS2)=NC1=Cc1[nH]c(C)cc1C',\n 'CCC(C)(C)C(=O)C(=O)N1CCCCC1C(=O)OC(CCc1ccc(OC)c(OC)c1)c1ccccc1',\n 'CCOC(=O)C(CCSCC1OC(n2ccc3c(N)ncnc32)C(O)C1O)NC(=O)COC',\n 'COc1ccc(-c2oc3ncnc(NCCCN(C)C)c3c2-c2ccc(OC)cc2)cc1',\n 'Cc1nc2ccccc2c(=O)n1CC1CCC(C(=O)N2CCN(c3ccccc3)CC2)CC1',\n 'Cc1ccc(OCc2ccccc2-c2nnc(Cc3cccnc3Cl)o2)cc1',\n 'C=C(C)Cn1cc(C(=O)O)c(=O)c2ccc3c(nnn3C)c21',\n 'CCOC(=O)CNC(=O)C12CC3CC(C1)CC(c1ccc(C)cc1)(C3)C2',\n 'Cc1cc(CCCCCOc2ccc(C3=NCCO3)cc2)on1',\n 'O=[N+]([O-])c1cccc(NC(=S)Nc2nc3c(s2)CCCC3)c1',\n 'CCc1nc(C)nc2cc(-c3ccc(OC)cc3)nn12',\n 'O=C(OCCN1CCN(C2=NS(=O)(=O)c3ccccc32)CC1)c1ccccc1F',\n 'Brc1ccc(COc2ccc(C(C3CC3)n3cnc4ccccc43)cc2)cc1',\n 'O=C(c1ccc(Cl)cc1)N1CCN(C(=O)c2ccc(Cl)cc2)C1=S',\n 'O=C1Nc2cccnc2N(C2CCCC2)c2ncccc21',\n 'CNC(=O)c1cn(C)c2c1C(C)(C)Cc1cnc(Nc3ccc(CN4CCN(C)CC4)cc3)nc1-2',\n 'Cc1cc(C)nc(N2CC3CN(C(=O)c4ccccc4-n4nccn4)CC32)n1',\n 'CN(C)C(=O)NC1(c2ccccc2)CCN(CC2CC2(C(=O)N(C)Cc2ccccc2)c2ccc(Cl)c(Cl)c2)CC1',\n 'COc1ccc(CCN(C)CCOc2ccc(NS(C)(=O)=O)cc2N)cc1OC',\n 'CCC(NC(=O)Nc1cc(OC)ccc1OC)c1c(-n2cccc2)sc2c1CCN(CC)C2',\n 'O=C(O)CC(CC(=O)c1ccc(I)cc1)c1ccccc1',\n 'CCOc1ccc(-n2c(C)c3c(C)nnc(-c4ccc(Cl)cc4)c3c2C)cc1',\n 'Cc1cccc2nc(C3CC3)c(Oc3ccc(-c4ccccc4-c4nn[nH]n4)cc3)c(C(=O)O)c12',\n 'COc1ccc(CN2C(=O)C(CS)NC(=O)C2Cc2ccc([N+](=O)[O-])cc2)cc1',\n 'CCOc1ccc(Cc2ccc(OC)c(C3SC(CO)C(O)C(O)C3O)c2)cc1',\n 'COc1ccc(-c2nnnn2C(C)C)cc1',\n 'OC1CCN(c2ccnc(NCCc3ccccc3Cl)n2)C1',\n 'COc1ccccc1N1CCN(CCCN(c2ccc(F)cc2)c2ccc(F)cc2)CC1',\n 'Cn1nc(-c2ccccc2)c2c1OC(N)=C(C#N)C2c1ccc(C#N)cc1',\n 'CNc1nc(Nc2cc3c(cc2Cl)c(C(=O)N(C)C)cn3C)ncc1C(F)(F)F',\n 'CC(C)(C)c1cc(C(O)(C(=O)O)C(=O)O)cc(C(C)(C)C)c1O',\n 'CCCCCCCCCCCCCCCCNc1ccc(C(C)O)cc1',\n 'COc1cccc(C2COCC3(C2)OCCNC3c2ccc(F)cc2)c1',\n 'COCC(C)(C)n1cc(C(=O)c2cncc(NC(=O)Cn3ccc(C(F)(F)F)n3)c2)c2cnc(N)nc21',\n 'CCOC(=O)CCCCCc1cccc2cncn12',\n 'CN1CCOc2ncnc(N)c2C1=O',\n 'Clc1cc(N2CCCCC2)nc(SCc2ccccc2)n1',\n 'CCCCN(CCCC)c1nc2ccccc2c(=O)o1',\n 'O=[N+]([O-])c1cc(COc2nnnn2-c2ccccc2[N+](=O)[O-])cc([N+](=O)[O-])c1',\n 'CCCCCCCOc1c(O)cc(CN(C)C)cc1O',\n 'CC(NC(=O)c1ccccc1)=C(C(=O)c1ccccc1)C1OC(C)(C)OC1C1COC(C)(C)O1',\n 'Cc1[nH]c2ccccc2c1C(=O)C(=O)N1CCN(C)CC1',\n 'COc1ccc(-c2csc(Nc3ccc(S(=O)(=O)Nc4cc(OC)nc(OC)n4)cc3)n2)cc1',\n 'COc1ccccc1NS(=O)(=O)c1cccc(NC(=O)c2nn(C)c(=O)c3ccccc23)c1',\n 'O=C(c1cc(F)cc(N2CCNCC2)c1)N1CCN(C(=O)c2ccc(OC3CCNC3)c(C3CCC(F)(F)CC3)c2)CC1',\n 'O=C(NC1CCCC(NC(=O)c2cccc(F)c2)C1)c1cccc(F)c1',\n 'CCCc1nc(C)c2cnn(C)c(=O)n12',\n 'CC=CC=CC(=O)OC(C)CC',\n 'CCN(CC)c1ccc(C=NNC(=O)c2ccc3[nH]cnc3c2)cc1',\n 'N#CN=C(NCCCCCCS(=O)(=O)N(OCCN1CCOCC1)C1CCCCC1)Nc1ccncc1',\n 'CC(OC(=O)C1CC(=O)N(Cc2ccco2)C1)C(=O)Nc1cccc(C#N)c1',\n 'COc1ccc2c3c1OC1C(=O)CCC4(NCC#Cc5ccc(Cl)cc5)C(C2)N(CC2CC2)CCC314',\n 'C=CCNC1C(c2ccccc2)=CC2CCC1C2',\n 'Clc1ccc(C(c2ccccc2)N2CCN(CCNc3ccnc4cc(Cl)ccc34)CC2)cc1',\n 'CC12CCC(SCCCN)CC1CCC1C2CCC2(C)C(C3=CC(=O)OC3)CC3OC312',\n 'CN(CCCOc1ccc2c(=O)c3ccccc3oc2c1)Cc1cccc(OC(=O)Nc2ccccc2)c1',\n 'CCN(CC)CCOc1cc(OC)c(OC)c2oc(-c3ccc(OC)cc3)c(O)c(=O)c12',\n 'Cc1ccc(C=CC(=O)c2cc(CN(C)C)c(O)c(CN(C)C)c2)cc1',\n 'Cc1cccc(C)c1NC(=O)CNC(=O)c1ccc(N2CCCC2=O)cc1',\n 'Cc1cccc(N2CCC(N3CCN(C4CCCCC4)C(CCO)C3)CC2)c1C',\n 'CC(C)COc1ccc(C(=O)Nc2ccccc2[N+](=O)[O-])cc1',\n 'Cc1ccc(-c2cc3ccccc3c(NCc3ccccc3)n2)cc1',\n 'COc1ccc(CN2CCN(CCOc3ccc(C(=O)NC(=N)N)cc3NC(=O)c3ccc(Cl)cc3)CC2)c(OC)c1OC',\n 'Clc1ccc(COc2ccn3c(CC4CC4)nnc3c2Cl)cc1',\n 'NS(=O)(=O)c1ccc(N2C3=C(C(=O)CCC3)C(c3ccc(Cl)cc3Cl)c3c2nc(CCl)[nH]c3=O)cc1',\n 'Cc1cc(NC(=O)CSc2ccccn2)no1',\n 'O=C(Nc1ccc(C2CCCCC2)cc1)c1cccnc1NCc1ccncc1',\n 'COc1nn2cc(-c3c(F)cccc3F)nc2s1',\n 'CN(Cc1ccco1)C(=O)c1cccc(S(=O)(=O)N2CCN(Cc3ccccc3)CC2)c1',\n 'CC(C)C(=O)NC1COC2(CCN(C(=O)c3cccnc3)CC2)C1',\n 'C=C1N(c2cccc(Cl)c2)C(=O)OC1(C)C',\n 'CC(NC(=O)Cc1ccc(S(=O)(=O)N2CCOCC2)s1)c1ccc(Cl)cc1Cl',\n 'N#Cc1ccsc1Nc1ccccc1[N+](=O)[O-]',\n 'CN(C)c1ccc(C(=O)N2CCCN(Cc3cscn3)CC2)nn1',\n 'Cc1ccc2c(O)c(C(=O)NCCc3ccc(O)cc3)ccc2n1',\n 'CC12CCC3C(C(Cc4ccc([N+](=O)[O-])cc4)=CC4=CC(=O)CCC43C)C1CCC2=O',\n 'COc1cc(N2CC3CN(C(=O)c4ccccc4-n4nccn4)CC3C2)nc(N(C)C)n1',\n 'Nc1nc(N)c2c(CNc3ccc(Cl)c(Cl)c3)coc2n1',\n 'COc1cccc(-c2nc(N)c(C(=O)c3cc(OC)c(OC)c(OC)c3)s2)c1',\n 'O=C1CC(c2ccccc2F)Nc2cc3c(cc21)OCO3',\n 'COc1ccc(C=C2CCCC3=C(c4ccc(OC)cc4)Nc4ccccc4N=C23)cc1',\n 'CC1=CC(COc2ccccc2)OC2(C1)C(=O)N(Cc1ccccc1)c1ccccc12',\n 'COc1cc(O)c2c(c1)C=CCC(O)C(O)C(=O)C=C(C)OC2=O',\n 'CC1(C)CC(=O)C2=C(C1)N(NC(=O)c1ccncc1)C1=C(C(=O)CC(C)(C)C1)C2c1ccc([N+](=O)[O-])cc1',\n 'O=C(NCc1ccc(Cl)cc1Cl)C1CCN(S(=O)(=O)c2cccc3ncccc23)CC1',\n 'CC(C)(C)OC(=O)NC(Cc1ccccc1)C(O)CC(Cc1ccccc1)C(=O)NC1c2ccccc2CC1C(N)=O',\n 'Cc1cc(C2=C(c3ccc(Cl)c(Cl)c3)CC3CCC2S3)on1',\n 'Cc1coc2c1c(=O)oc1c3cccc(F)c3ccc21',\n 'COc1nc(C)c(Nc2nc(Cl)cn(C(COC(=O)Nc3cccc(C#N)c3)C3CC3)c2=O)cc1C',\n 'O=C(CCN1CCc2ccccc21)N1CC(C(=O)N2CCOCC2)C1',\n 'O=C(O)Cc1nc(C2CCCCC2)oc1-c1ccco1',\n 'CC=CC=CC(=O)NCC',\n 'COc1ccccc1C(=O)c1c(C(=O)O)ccc2ccccc12',\n 'CCCCN(CCCC)CC(O)c1cc(Oc2cccc(C(F)(F)F)c2)cc2c(Cl)cc(Cl)cc12',\n 'O=C(Cn1c(=O)n(-c2ccccn2)c2ccccc21)Nc1ccc2c(c1)CC1(C2)N=C(c2ccccn2)NC1=O',\n 'O=C1NC(NS(=O)(=O)c2ccccc2)(C(F)(F)F)C(=O)N1c1cccc(Cl)c1',\n 'O=C(NCCO)c1sc2ncccc2c1C1CN(C2CCCC2)CCO1',\n 'COc1ccccc1COCCCOc1ccc(C2CCNCC2OCc2cc(OC)c3ccccc3c2OC)cn1',\n 'C=CCc1c(OC(C)=O)c2cccnc2n(-c2cccc(C(F)(F)F)c2)c1=O',\n 'Nc1ccc(-c2ccc3c(c2)CNCC3c2ccc(Cl)c(Cl)c2)nn1',\n 'Cc1ccc2c(NCc3ccc(NC(=O)c4ccc(F)cc4)cc3)nc(N3CCNC(C)C3)nc2c1',\n 'CCN1C(C(=O)NC(Cc2ccccc2)C(=O)C(=O)NCCNS(=O)(=O)c2ccc([N+](=O)[O-])cc2)Cc2cc3c(cc2S1(=O)=O)OCCO3',\n 'CCOc1ccc(-c2cccc(NS(=O)(=O)c3ccc(Cl)s3)c2)nn1',\n 'O=c1c(-c2cccc(C(F)(F)F)c2)coc2c(O)c(O)ccc12',\n 'O=C(Oc1cc2oc(=O)cc(-c3ccccc3)c2cc1Cl)C1CCCCC1',\n 'O=NN(C(=O)NC1CCC(C(=O)O)CC1)C1CCC(C(=O)O)CC1',\n 'CC(=CCN(C)C)c1ccc(-c2ccccc2)cc1',\n 'Cc1ccc(S(=O)(=O)Nc2ccc(N(C)S(=O)(=O)c3ccc(C)cc3)cc2)cc1',\n 'N=C(N)NCCCC1NC(=O)CCNC(=O)C(Cc2ccc3ccccc3c2)NC(=O)C(CCCNC(=N)N)NC1=O',\n 'Nc1ncnc2c1ncn2C1OC(CO)C(O)C1N',\n 'COc1cc(F)c(C(C)C)cc1-c1ccc(C)cc1CN1C(=O)OC(c2cc(C(F)(F)F)cc(C(F)(F)F)c2)C1C',\n 'Cc1ccc(NC(=O)COc2coc(CN3CCc4ccccc4C3)cc2=O)cc1Cl',\n 'Cn1nnnc1COc1ccc(Nc2ncc(F)c(Nc3ccc(OCc4nnnn4C)cc3)n2)cc1',\n 'Cn1cnc(CC2COC(=O)C2C(O)c2ccccc2)c1',\n 'CC(C)c1nc(CN(C)C(=O)NC(C(=O)NC(Cc2ccccc2)C(O)CN2CCN(Cc3ccccc3)CC2C(=O)NC(C)(C)C)C(C)C)cs1',\n 'Cn1nc(C(N)=O)c2c1-c1nc(Nc3ccccc3)ncc1CC2(C)C',\n 'O=C(Cc1n[nH]c(=O)[nH]c1=O)NN=Cc1cccc([N+](=O)[O-])c1',\n 'COc1cc(OC)c(C(=O)C(C)=O)cc1OC',\n 'CCCCCC=C(c1cc(Br)c(OC)c(C(=O)OC)c1)c1cc(Br)c(OC)c(C(=O)OC)c1',\n 'Cc1cc(C)c2c(CCC(=O)O)c(C(=O)O)[nH]c2c1',\n 'COC(=O)c1ccc2[nH]c3c(c2c1)CC(C)CC3',\n 'CC(O)=NC1CCC(N=C(O)c2cnc(-n3ncc4cc(C#N)c(=N)[nH]c43)cc2NC(C)C)CC1',\n 'O=C1c2ccccc2-c2nnc(-c3ccc(F)c(F)c3)cc21',\n 'CC12CCC(CN(CCN3CCN(c4cccc(Cl)c4)C3=O)C1)C2(C)C',\n 'Cc1noc(C)c1-c1nnc(-c2ccc(OC(F)(F)F)cc2)o1',\n 'O=C(O)CCCC=C(c1cccnc1)c1cccc(CCNS(=O)(=O)c2ccccc2[N+](=O)[O-])c1',\n 'N=C(N)SCCCn1c(-c2cccc3ccccc23)c(C2=CC(=O)NC2=O)c2ccccc21',\n 'CCc1cc2c(C(=O)Nc3cc[n+]([O-])cc3OC)cnc(OC)c2o1',\n 'O=C(c1cccc(Cl)n1)N1CCN2C(=O)c3ccccc3C12c1ccc(Cl)cc1',\n 'C=C(C(=O)OCC)C(O)c1cccc(Cl)c1',\n 'COc1ccc2c(c1)C(=O)c1c-2c(N)nc2ccccc12',\n 'CCn1c(CN(C)C)nnc1C1CCN(c2nccc(NC)n2)CC1',\n 'O=C(O)Cc1cn(Cc2ccccc2)c2ccc(OCCCOc3cccc(Oc4ccc(Cl)cc4)c3)cc12',\n 'Cn1cncc1C(OCc1ccc(C#N)cc1-c1cccc2ccccc12)c1ccc(C#N)nc1',\n 'Fc1ccc(C2CCN(C3CCC(CNCc4cc(C(F)(F)F)cc(C(F)(F)F)c4)(c4ccccc4)CC3)CC2)cc1',\n 'Cc1ccc2nc(SCC(=O)NN3C(=O)c4ccccc4C3=O)n(-c3ccccc3)c(=O)c2c1',\n 'CC(C)NC(=O)CCC(=O)N1CCC(c2noc3cc(F)ccc23)CC1',\n 'CC(C)(C)NC(=O)c1ccc(-c2cc(NC3CC3)n3ncc(C=C4N=C(O)N=C4O)c3n2)s1',\n 'C(=NNc1nc2ccccc2[nH]1)c1cccs1',\n 'N#Cc1cc(S(=O)(=O)Nc2ccc(F)cn2)ccc1Oc1ccccc1-c1ccccc1',\n 'c1ccc(CCN2CCc3[nH]c4ccccc4c3C2)nc1',\n 'COn1c(NC(C)c2ccc(C(F)(F)F)cc2)nc2c(c1=O)CN(C(=O)C=Cc1ccc(Cl)cc1)CC2',\n 'CCCNCCC[PH](c1ccccc1)(c1ccccc1)c1ccccc1',\n 'CC(=NNC(=O)Cn1c(=O)c(C)nc2ccccc21)c1ccccc1',\n 'COc1cc2c(c(OC)c1OC)C(=O)OC2OP(=O)(Cc1cccc2ccccc12)OC1OC(=O)c2c1cc(OC)c(OC)c2OC',\n 'O=C(Nc1oc(-c2ccccc2)nc1-c1ccccc1)c1cc2ccccc2o1',\n 'O=C1Nc2ccccc2C1=Cc1ccc2c(C=Cc3ccccn3)n[nH]c2c1',\n 'CC(=NNc1ncc(Cl)c(Nc2ccccc2S(=O)(=O)C(C)C)n1)c1ccc(C)cc1',\n 'Cc1cccc(CSc2nnc(C3CCCN3C(=O)OC(C)(C)C)o2)c1',\n 'CC(C)N=C(S)N1CCCN(c2ncccc2[N+](=O)[O-])CC1',\n 'Cc1csc2nc(C(C)NC(=O)C=Cc3ccsc3)oc(=O)c12',\n 'N#CCC(=O)NCC1CN(c2cc(F)c(C3C4CS(=O)(=O)CC43)c(F)c2)C(=O)O1',\n 'CCCCOc1ccccc1NC(=O)c1ccc(O)nc1',\n 'O=C(CN(c1ccc(F)cc1)S(=O)(=O)c1ccccc1)NC1CCCCCC1',\n 'O=C(Nc1sc(-c2ccccc2)nc1-c1ccccc1)c1cc2ccccc2s1',\n 'O=C(NN=Cc1cccc(Br)c1)Nc1nnc(S)s1',\n 'O=C(C1=C(O)C(=Cc2ccc3ccccc3c2)CCC1)c1ccccc1',\n 'COc1ccc(-n2nnnc2SCc2ccc([N+](=O)[O-])cc2[N+](=O)[O-])cc1',\n 'FC(F)(F)c1ccccc1C=NOc1ccccc1',\n 'O=C(COC(=O)CCc1nc(O)c2ccccc2n1)Nc1ccc(Cl)cn1',\n 'CCCCCCCCC[N+]12CC[N+](CCCCC[N+]34CC[N+](CCCCCCCCC)(CC3)CC4)(CC1)CC2',\n 'COc1ccc(-c2cc(=O)c3c(O)cc(O)c(-c4cc(-c5cc(=O)c6c(O)cc(O)cc6o5)ccc4O)c3o2)cc1',\n 'CCOc1ccc(C2C3=C(O)CCCC3=Nc3nc(C(F)(F)F)nn32)cc1OC',\n 'O=C(COc1ccc(C(=O)c2ccccc2Br)cc1)Nc1cccnc1',\n 'CC(C)c1ccc(Nc2c([N+](=O)[O-])nn(-c3ccc4c(c3)OCCO4)[n+]2[O-])cc1',\n 'CC(CNC1CCCCC1)Oc1cccc2ccc(N)nc12',\n 'COC(=O)c1cc2c3c(n1)c(=O)c(=O)c(Cl)c-3n(C)c2=O',\n 'Nc1ccc2c3c(n(CCCCl)c(=O)c2c1)-c1cc2c(cc1C3=O)OCO2',\n 'Cc1nc(C2CCCCC2)c(-c2ccc(S(N)(=O)=O)c(F)c2)o1',\n 'O=C(NC1CCCCC1)c1nc(O)c2nnn(Cc3ccccc3Cl)c2n1',\n 'CN1CCC(Nc2cc(Nc3cc(C4CC4)[nH]n3)nc(-c3ccccc3)n2)CC1',\n 'CCOC(=O)c1ccc(-c2ccc(C=C(C#N)C(=O)NCc3cccs3)o2)cc1',\n 'O=C1c2ccccc2CCCN1CCN1CCC(n2c(=O)oc3ccccc32)CC1',\n 'CNC(S)=NS(=O)(=O)c1cc(CCNC(=O)c2cc(Cl)ccc2OC)c(C)c(C)c1OC',\n 'Cc1c(-c2cccc(OCCCC(=O)O)c2)c(=O)n(CC(N)c2ccccc2)c(=O)n1Cc1c(F)cccc1C(F)(F)F',\n 'COc1cc(O)c2c(O)cc(-c3cccc(OC(F)(F)F)c3F)nc2c1',\n 'O=C1C(O)=C(C(O)=NCCCc2ccc(Cl)c(Cl)c2)CN1Cc1ccc(F)cc1',\n 'C=CCN(C(C(=O)OC)C(C)C)S(=O)(=O)CCNCc1ccccc1',\n 'Cc1ccc(-c2nnc(CSc3nc4cc5c(cc4cc3C)OCO5)o2)cc1',\n 'OC(C=Cc1ccc(Cl)c(Cl)c1)=NCCCCCN1CCC(CCCN=C(O)C2CC2c2ccccc2)CC1',\n 'CCC1C(C)CC2C(=O)OC(C)C2C1C=Cc1ccc(-c2ccccc2C)cn1',\n 'COc1ccc(N2CCN(C(=O)CCCCCn3c(=S)[nH]c4cc5c(cc4c3=O)OCO5)CC2)cc1',\n 'CCOc1ccc(NC(=O)C2=C(C)NC(C)=C(C(=O)Nc3ccc(OCC)cc3)C2c2ccccc2)cc1',\n 'Cc1cc(N2CCNC(CC(=O)NCc3ccc4c(c3)OCO4)C2)nc(-n2ccnc2)n1',\n 'CCCCOc1ccc2[nH]c3c([N+](=O)[O-])ccc4c3c(nn4CCN(CC)CC)c2c1',\n 'O=c1[nH]c2ccccc2n1C1CCN(C2CCN(Cc3ccccc3C(F)(F)F)CC2)CC1',\n 'CC(C)Nc1nc(-c2ccc(CCN3CCOCC3)cc2)cc2ncn(C)c(=O)c12',\n 'O=C(NCc1ncccc1F)c1nc2c(-c3ccccc3)cccc2[nH]1',\n 'NC(=O)C1CCN(c2nccnc2OC2CN(c3ccc4ccccc4n3)C2)CC1',\n 'CS(=O)(=O)N(CC(=O)NC1CCCC1)C1CCCCC1',\n 'Cn1c(C2CCN(Cc3cc(C(=O)O)c(=O)n4ccccc34)CC2)nc2ccccc21',\n 'CC(=O)Oc1ccccc1C(=O)OC1COC2C(O)COC12',\n 'CCCCCC(O)c1c(CC=CCO)cc2c(c1OC)C(=O)C=C(OC)C2=O',\n 'CCOC(=O)c1cn2ccc(C)cc2n1',\n 'CCCc1ccc(OC)c(-c2cc(CCC)c(O)c(NC(C)=O)c2)c1',\n 'COc1ccc(CCC(=O)c2cc(OC)c(OC)c(OC)c2)cc1O',\n 'CC1(C(F)(F)F)Cn2c(nc(N3CC4CC3CO4)cc2=O)N1CCc1ccc(N)cc1',\n 'O=C(C=Cc1ccco1)OCC(=O)c1cccc([N+](=O)[O-])c1',\n 'CCc1ccccc1NC(=O)CN(c1ccccc1)S(=O)(=O)c1ccsc1C(=O)OC',\n 'CC(C)c1nnc(CN(C)C(c2ccc(F)cc2)c2cccnc2)o1',\n 'COc1ccc(Cl)c(-c2nnc3sc(-c4ccnc(F)c4)nn23)c1',\n 'CN(Cc1ccccc1)C(=O)C(Cc1ccccc1)NC(=O)C1CCCN1C(S)=NCc1ccccc1Br',\n 'COc1ccc(CNC(=O)c2ccc(OC(F)F)c(OCC3CC3)c2)cc1OC',\n 'CCN1CCN(C(=O)CN(c2ccc(C)cc2)S(C)(=O)=O)CC1',\n 'COc1ccc2[nH]cc(CCNC(=O)c3ccc([N+](=O)[O-])cc3)c2c1',\n 'CN(C)CCn1ccc2ccc(C3CCOCC3)cc21',\n 'O=[N+]([O-])c1cccc(-c2csc(NN=C3NCC(=Cc4ccc5c(c4)OCO5)S3)n2)c1',\n 'Cc1ccc(C)c(CSc2nnc(C(N)C(C)C)o2)c1',\n 'COc1ccc(C(=O)N2CCC(Nc3nccc(-c4ccc(Cl)cc4)n3)CC2)c(OC)c1',\n 'CCOc1ccc(CCNC(=O)c2csc(Br)n2)cc1OCC',\n 'Cc1cccc(CN2CCCn3c(nnc3CN3CCCC3=O)C2)n1',\n 'N#CN1Cc2[nH]nc(C(=O)N3CCC(c4ccc(F)c(F)c4C(F)(F)F)CC3)c2C1',\n 'CN(c1ccccc1)S(=O)(=O)c1ccc(C(C)(C)C)cc1',\n 'COC(=O)C(Cc1ccc(-c2cccs2)cc1)NC(=O)CCCCCCC(=O)NO',\n 'CC1(C)c2[nH]nc(NC(=O)c3ccc4ccccc4n3)c2CN1C(=O)N1CC2CCCN2CC1Cc1ccccc1',\n 'Cn1cnc2c(F)c(Nc3ccc(Br)cc3Cl)c(C(=O)NOCCO)cc21',\n 'COc1cccc(CCNCc2coc(-c3ccc(O)cc3)n2)c1',\n 'CC(C)(c1nc(-c2cccc3[nH]ncc23)nc2c1OCC1COCCN21)S(C)(=O)=O',\n 'CCc1nc(Nc2ccc(NC(C)=O)cc2)c2oc3ccccc3c2n1',\n 'CCOC(=O)C1=C(c2ccc(-n3c(C)nc4cnccc43)cc2)NC(C)=C(C(N)=O)C1c1ccccc1Cl',\n 'COc1ccc2c3c1OC1C(O)C(CO)(CCCCc4ccccc4)CC4C(C2)N(C)CCC341',\n 'CCC(=O)NC(c1cccs1)c1cc(Br)c2cccnc2c1O',\n 'COc1ccc(OC)c(C(=O)c2ccccn2)c1',\n 'C=C1CC2C3C=C(NC(C)=O)C4=CC(=O)CCC4(C)C3CCC2(C)C1(OC(C)=O)C(C)=O',\n 'Cc1[nH]cnc1C(=O)NN=C1SC(CC(=O)O)C(=O)N1c1ccccc1',\n 'COc1ccc(CN2CCC(c3cc(N=C(O)c4cnn5cccnc45)n(-c4ccc(C)cc4)n3)CC2)cn1',\n 'O=C(NCc1ccco1)C1(S(=O)(=O)c2ccccc2)CC=CC1',\n 'O=C(NC(=S)NNC(=O)c1cccs1)c1ccccc1',\n 'NS(=O)(=O)CC(CC(=O)Nc1ccc(Oc2ccc(Cl)c(Cl)c2)cc1)c1ccc(O)cc1',\n 'COC(=O)c1nc2n(n1)C(c1cccc(Cl)c1)C1=C(O)CC(C)(C)CC1=N2',\n 'O=c1[nH]nc2c3c(cccc13)NC(c1ccc(F)cc1)C2c1nccs1',\n 'OC(Cc1c(Cl)ccc(Cl)c1F)=NC1COc2ncccc21',\n 'O=C(Cn1ncc2c(=O)oc3ccccc3c21)NCc1cccnc1',\n 'CS(=O)(=O)c1ccc(-n2cnc(Cl)c2-c2cc3ccccc3o2)cc1',\n 'CC(NP(=O)(OCC1OC(n2ccc(=O)[nH]c2=O)C(C)(F)C1O)Oc1ccc(Br)cc1)C(=O)OC1CCCCC1',\n 'CC(C)Oc1cc(CN2CCC(Nc3nc4ccccc4o3)CC2)cc(OC(C)C)c1',\n 'Cc1ccc(-c2cn3cccnc3n2)cc1NC(=O)C(C)(C)Oc1ccc(Cl)cc1',\n 'CCCCC(Sc1nc(NC)c2cnn(-c3ccccc3)c2n1)C(N)=O',\n 'COc1ccc(Nc2nc(C#N)nc(NC3CCCCC3)n2)cc1',\n 'O[S+](Cc1nc(OCC(F)(F)F)c2c(-c3ccccc3)csc2n1)c1nc2ccccc2[nH]1',\n 'COc1ccccc1-c1c(C)nn2c(N)c(-c3ccc(Cl)cc3)cnc12',\n 'O=C(Nc1ccccc1)C1CCN(C(=O)Cn2c(=O)sc3ccc(Cl)cc32)CC1',\n 'CN(CCO)C1=C(N2CC2)C(=O)C(N(C)CCO)=C(N2CC2)C1=O',\n 'NC(=S)N1N=C(c2ccccc2)CC1c1ccc(Cl)cc1',\n 'Cc1nc2c(s1)C(C(O)=NCc1c(C)cc(Cl)cc1Cl)CCC2',\n 'CC(C)CCN1C(=O)c2ccccc2CC1(C)C(=O)NC1CCCCC1',\n 'CN(C)C(=O)Nc1ccccc1',\n 'COc1ccc(C(=O)Nc2c(C)cccc2Cl)cc1OC1CCCC1',\n 'O=C(CS(=O)(=O)c1cn(Cc2ccc(F)cc2)c2ccccc12)N1CCCCC1',\n 'CON=C(C(=O)NC1CN2CC(C(=O)CF)=C(C(=O)O)N2C1=O)c1csc(N)n1',\n 'Nc1ncnc2snc(-c3ccc(NC(=O)Nc4cc(C(F)(F)F)ccc4F)cc3)c12',\n 'C=C1C(C)CC(OC(=O)C=Cc2ccccc2)C2(C)C1C(=O)C=C1C(OC)OC(OC)C12',\n 'COc1ccc(C=NNC(=O)c2cc(Cl)c(Cl)[nH]2)cc1',\n 'O=C(COc1cccc(Cl)c1)NC1CCN(Cc2ccc(-c3ccccn3)cc2)CC1',\n 'COc1cc2ncnc(Oc3ccc(NC(=O)NCCC4CCCCC4)cc3)c2cc1OC',\n 'Cc1cccc(CCNC(=O)C2CCN(S(=O)(=O)c3c(C)nn(C)c3C)CC2)c1',\n 'O=C(COc1ccccc1)Nc1cc(NC(=O)COc2ccccc2)cc(C(=O)O)c1',\n 'c1cnc(N2CCN(Cc3ccc(CN4CCN(c5ncccn5)CC4)cc3)CC2)nc1',\n 'Cc1cccc(Oc2ccc(-c3nc(N)nc(N)n3)cc2)c1',\n 'COc1cc2nc(C3CCC3)nc(N3CCN(c4ccccc4F)CC3)c2cc1OC',\n 'O=C(NCCCN1CCCC1)c1ccc2c(=O)n(-c3cccc(F)c3)c(=O)[nH]c2c1',\n 'CC1CNCC(O)C(O)C1O',\n ...]"
     },
     "execution_count": 13,
     "metadata": {},
     "output_type": "execute_result"
    }
   ],
   "source": [
    "smiles"
   ],
   "metadata": {
    "collapsed": false,
    "ExecuteTime": {
     "end_time": "2024-04-02T13:08:28.147600006Z",
     "start_time": "2024-04-02T13:08:28.114131544Z"
    }
   },
   "id": "cb1d4f5c2dc2de7b"
  },
  {
   "cell_type": "code",
   "execution_count": 7,
   "outputs": [
    {
     "data": {
      "text/plain": "0.8625"
     },
     "execution_count": 7,
     "metadata": {},
     "output_type": "execute_result"
    }
   ],
   "source": [
    "552 / 640"
   ],
   "metadata": {
    "collapsed": false,
    "ExecuteTime": {
     "end_time": "2024-04-03T13:44:13.771854581Z",
     "start_time": "2024-04-03T13:44:13.723584352Z"
    }
   },
   "id": "26e8ec50211bc6d2"
  },
  {
   "cell_type": "code",
   "execution_count": null,
   "outputs": [],
   "source": [],
   "metadata": {
    "collapsed": false
   },
   "id": "48646f01402da9dc"
  }
 ],
 "metadata": {
  "kernelspec": {
   "display_name": "Python 3",
   "language": "python",
   "name": "python3"
  },
  "language_info": {
   "codemirror_mode": {
    "name": "ipython",
    "version": 2
   },
   "file_extension": ".py",
   "mimetype": "text/x-python",
   "name": "python",
   "nbconvert_exporter": "python",
   "pygments_lexer": "ipython2",
   "version": "2.7.6"
  }
 },
 "nbformat": 4,
 "nbformat_minor": 5
}
