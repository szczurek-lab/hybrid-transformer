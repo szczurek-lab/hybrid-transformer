{
 "cells": [
  {
   "cell_type": "markdown",
   "source": [
    "# Run Joint Learning Benchmark"
   ],
   "metadata": {
    "collapsed": false
   },
   "id": "b26dcdcd117802dc"
  },
  {
   "cell_type": "code",
   "execution_count": 1,
   "outputs": [
    {
     "name": "stdout",
     "output_type": "stream",
     "text": [
      "/home/adam/Projects/hybrid-transformer\n"
     ]
    }
   ],
   "source": [
    "%cd .."
   ],
   "metadata": {
    "collapsed": false,
    "ExecuteTime": {
     "end_time": "2024-03-31T18:23:39.941557661Z",
     "start_time": "2024-03-31T18:23:39.940656617Z"
    }
   },
   "id": "422d4f35c0246db1"
  },
  {
   "cell_type": "code",
   "execution_count": 2,
   "outputs": [
    {
     "name": "stderr",
     "output_type": "stream",
     "text": [
      "/home/adam/miniconda3/envs/hybrid-transformer/lib/python3.11/site-packages/tqdm/auto.py:21: TqdmWarning: IProgress not found. Please update jupyter and ipywidgets. See https://ipywidgets.readthedocs.io/en/stable/user_install.html\n",
      "  from .autonotebook import tqdm as notebook_tqdm\n",
      "2024-03-31 20:23:43.635323: I tensorflow/core/util/port.cc:113] oneDNN custom operations are on. You may see slightly different numerical results due to floating-point round-off errors from different computation orders. To turn them off, set the environment variable `TF_ENABLE_ONEDNN_OPTS=0`.\n",
      "2024-03-31 20:23:43.675157: I external/local_tsl/tsl/cuda/cudart_stub.cc:31] Could not find cuda drivers on your machine, GPU will not be used.\n",
      "2024-03-31 20:23:43.832440: E external/local_xla/xla/stream_executor/cuda/cuda_dnn.cc:9261] Unable to register cuDNN factory: Attempting to register factory for plugin cuDNN when one has already been registered\n",
      "2024-03-31 20:23:43.832468: E external/local_xla/xla/stream_executor/cuda/cuda_fft.cc:607] Unable to register cuFFT factory: Attempting to register factory for plugin cuFFT when one has already been registered\n",
      "2024-03-31 20:23:43.833162: E external/local_xla/xla/stream_executor/cuda/cuda_blas.cc:1515] Unable to register cuBLAS factory: Attempting to register factory for plugin cuBLAS when one has already been registered\n",
      "2024-03-31 20:23:43.841277: I tensorflow/core/platform/cpu_feature_guard.cc:182] This TensorFlow binary is optimized to use available CPU instructions in performance-critical operations.\n",
      "To enable the following instructions: AVX2 AVX512F AVX512_VNNI FMA, in other operations, rebuild TensorFlow with the appropriate compiler flags.\n",
      "2024-03-31 20:23:44.884405: W tensorflow/compiler/tf2tensorrt/utils/py_utils.cc:38] TF-TRT Warning: Could not find TensorRT\n"
     ]
    }
   ],
   "source": [
    "import os\n",
    "import torch\n",
    "import wandb\n",
    "\n",
    "from hybrid_transformer.configs.task import TaskConfig\n",
    "from hybrid_transformer.configs.model import ModelConfig\n",
    "from hybrid_transformer.configs.trainer import TrainerConfig\n",
    "from hybrid_transformer.configs.logger import LoggerConfig\n",
    "\n",
    "from hybrid_transformer.utils.datasets.auto import AutoDataset\n",
    "from hybrid_transformer.utils.tokenizers.auto import AutoTokenizer\n",
    "from hybrid_transformer.models.auto import AutoModel\n",
    "from hybrid_transformer.utils.loggers.wandb import WandbLogger\n",
    "\n",
    "from hybrid_transformer.trainers.trainer import Trainer\n",
    "\n",
    "from scripts.pretrain.train import DEFAULT_CONFIG_FILES\n",
    "\n",
    "from hybrid_transformer.utils.objectives.guacamol.objective import GUACAMOL_TASKS\n",
    "from hybrid_transformer.models.prediction import PREDICTION_MODEL_CONFIGS\n",
    "%load_ext autoreload\n",
    "%autoreload 2"
   ],
   "metadata": {
    "collapsed": false,
    "ExecuteTime": {
     "end_time": "2024-03-31T18:23:46.485225545Z",
     "start_time": "2024-03-31T18:23:39.940860746Z"
    }
   },
   "id": "388ac09832efcd15"
  },
  {
   "cell_type": "code",
   "execution_count": 3,
   "outputs": [
    {
     "name": "stdout",
     "output_type": "stream",
     "text": [
      "WARNING:tensorflow:From /home/adam/miniconda3/envs/hybrid-transformer/lib/python3.11/site-packages/tensorflow/python/util/deprecation.py:588: calling function (from tensorflow.python.eager.polymorphic_function.polymorphic_function) with experimental_relax_shapes is deprecated and will be removed in a future version.\n",
      "Instructions for updating:\n",
      "experimental_relax_shapes is deprecated, use reduce_retracing instead\n",
      "Loaded bbbp data.\n",
      "number of parameters: 38.06M\n",
      "tokens per iteration will be: 512\n",
      "Using cuda device\n",
      "Random seed set to 1337\n",
      "num decayed parameter tensors: 63, with 38,116,352 parameters\n",
      "num non-decayed parameter tensors: 25, with 12,800 parameters\n",
      "using fused AdamW: True\n"
     ]
    }
   ],
   "source": [
    "# Load configs\n",
    "\n",
    "task_config_path = lambda: f'./configs/tasks/molecule_net/{guacamol_task}/config.json'\n",
    "\n",
    "\n",
    "for guacamol_task in ['bbbp']:\n",
    "    \n",
    "    task_config = TaskConfig.from_pretrained(task_config_path())\n",
    "    task_config.validate = False\n",
    "    task_config.split = 'test'\n",
    "    task_config.num_samples = 100\n",
    "    dataset = AutoDataset.from_config(task_config)\n",
    "    print(f\"Loaded {task_config.target_label} data.\")\n",
    "    \n",
    "    for model_name, path_to_model_config in PREDICTION_MODEL_CONFIGS.items():\n",
    "        \n",
    "        model_config = ModelConfig.from_pretrained(path_to_model_config)\n",
    "        model_config.prediction_task = 'classification'\n",
    "        trainer_config = TrainerConfig.from_pretrained('./configs/trainers/debug/')\n",
    "        trainer_config.compile = False\n",
    "        logger_config = LoggerConfig.from_pretrained(DEFAULT_CONFIG_FILES['logger'])\n",
    "        \n",
    "        out_dir = f'./results/regression_task/guacamol/{model_name}/{guacamol_task}'\n",
    "        trainer_config.out_dir = out_dir\n",
    "        logger_config.name = model_name + '_' + guacamol_task\n",
    "        logger_config.project = 'debug'\n",
    "        trainer_config.enable_save_checkpoint = False\n",
    "        task_config.validate = False\n",
    "        logger_config.wandb_log = False\n",
    "        \n",
    "        task_config.validate = False\n",
    "        dataset = AutoDataset.from_config(task_config)\n",
    "        tokenizer = AutoTokenizer.from_config(task_config)                \n",
    "        model = AutoModel.from_config(model_config)\n",
    "        logger = WandbLogger(logger_config, [task_config, model_config, trainer_config])\n",
    "        trainer = Trainer(config=trainer_config, model=model, train_dataset=dataset, eval_dataset=dataset, tokenizer=tokenizer, logger=logger)\n",
    "        trainer._train_init()\n",
    "        model.eval()\n",
    "        # results = trainer.test(dataset)\n",
    "        \n",
    "\n",
    "        "
   ],
   "metadata": {
    "collapsed": false,
    "ExecuteTime": {
     "end_time": "2024-03-31T18:23:48.315204429Z",
     "start_time": "2024-03-31T18:23:46.485460886Z"
    }
   },
   "id": "3f4cb44e009419ba"
  },
  {
   "cell_type": "code",
   "execution_count": 18,
   "outputs": [
    {
     "data": {
      "text/plain": "('C([C@@H](C(=O)OCC)N[C@@H](C)C(N1CCC[C@H]1C(=O)O)=O)Cc1ccccc1', tensor([0.]))"
     },
     "execution_count": 18,
     "metadata": {},
     "output_type": "execute_result"
    }
   ],
   "source": [
    "trainer.model.generate(\n",
    "    task='lm', input_ids=inputs['input_ids'], attention_mask=inputs['attention_mask'],\n",
    "    max_length=inputs['input_ids'].size(1) + 10, num_beams=5, num_return_sequences=5)"
   ],
   "metadata": {
    "collapsed": false,
    "ExecuteTime": {
     "end_time": "2024-03-25T12:52:06.298280935Z",
     "start_time": "2024-03-25T12:52:06.264846539Z"
    }
   },
   "id": "4900a0d01d45ef26"
  },
  {
   "cell_type": "code",
   "execution_count": 10,
   "outputs": [],
   "source": [
    "from hybrid_transformer.models.utils import GuacamolModelWrapper\n",
    "\n",
    "temperature = 1.0\n",
    "top_k = 5\n",
    "\n",
    "wrapper_model = GuacamolModelWrapper(trainer.model, trainer.tokenizer, 64, trainer.device, temperature=temperature, top_k=top_k)"
   ],
   "metadata": {
    "collapsed": false,
    "ExecuteTime": {
     "end_time": "2024-03-31T18:30:42.832972617Z",
     "start_time": "2024-03-31T18:30:42.788937558Z"
    }
   },
   "id": "66faf75adcc37fe3"
  },
  {
   "cell_type": "code",
   "execution_count": 11,
   "outputs": [],
   "source": [
    "samples = wrapper_model.generate(number_samples=64)"
   ],
   "metadata": {
    "collapsed": false,
    "ExecuteTime": {
     "end_time": "2024-03-31T18:31:50.999395226Z",
     "start_time": "2024-03-31T18:30:43.503530650Z"
    }
   },
   "id": "28dc4de48a1dcc1f"
  },
  {
   "cell_type": "code",
   "execution_count": 9,
   "outputs": [
    {
     "data": {
      "text/plain": "['[13C][V+5][unused5][SH5][14CH2][Al+3][CuH2-][V][Si][Si][Ru][Ru][Cf][SiH3][Yb][Ac-][Na-2][Hf+2][Hf+2][At][SH-]#[se]%16%16[Rh+2][Cr+2][Mo+4][13C][Ho+3][Ho+3][C+4][RuH2][Ru-][Pd][Ti+5][Ti+5][Er+3][Er+3]1[N+3][N+3][35S][S@@+][S@@+][ClH+][o+]%11[Hg+2][Cu][Yb+3][Mg]%16%16%16%16%19=[13CH]1[Bi+][Ni+][B][2NH][O-2][Ni][KH][Fm][Pt+2][124I-][124I-][124I-][Dy+3][Dy+3][SH3+][O-2][O-2][Al][AlH3][p-][Pd+4][TaH3][CH2][Cm][Ho+3][Na+][P][Th]p[Ni][Tl+]22[Sn][Ag+2][IH][IH][Zr+4][SeH][SeH][Ir][18F][OH3+][11C]6[Al+2][YH][Ca+2][Er][BH3-][Ce][c-][Al-][Al-][Mo+2]%15%22[NH+][Nb+5][Nb+5]8[Ni+3][Ni+3][AlH4]%20[Cr+6][Tl+2]',\n '[S][Sn+2][Sr+2][Ir]8[SH2][CaH2][Hg+2][Nd][123I][Nd][Nd][SH3+][Hf][Gd+3][nH+][Ti+6][Mg+2][Mg+2][Sc+2][BH-][BH-][NH3+][Mn+3][N@@H+][NH3+][K][31P][Tb][Tb][Tb][P@][Ir+4][19F][unused7][Si@H][cH-]O[SeH][2NH][2NH][W+4][LaH][AlH4-][Li+][Ca+2][Ca+2][K+][PH-][As-][AsH2][Cr-][Cr-][Te][NH-][NH-][AlH4-][OH3+][OH3+]%13[Eu+3][GeH][AsH2][AlH][Th][CH2-][124I-][cH-][cH-][C@][C@][AsH+]5[Ni+2][Ce+4][Ce+4]c[Sn+][Sn+][14CH2][Cs][Rh+2][Ba+]s[35S][OH3+][OH3+][H-][H-][H-][H-][H-][2H][C@][Mo+4][Mo+4][CH3-][Ru-2]~[N@+][35S][BH3-]N[14c][15nH][YH][W+][15CH][9CH3][PH3+][Nd][Re][13C@H][siH]B[Xe+][Xe+][Xe+][Xe+][SiH4+][Hg+2][O-][Pt+4][c][Ru-2][Pr+3][Pr+3][Si@@H]',\n '[NH2-][V+3][V+3]FF[CH2-][CH2-][CuH2-][Fe+3][Mo+4][14cH][AsH2][F][Sm+2][C-2][SH-][p-][15CH][15CH][Si@][P@H][Mn+4][AcH][SiH4+][SeH+][Al+][N-][Th]ClClPP[Hf+3][GeH2][AsH4+][Pb][Pb][Pb][11CH3][14CH][Cu-][Cu-][TeH2][Cr-][Cr-][IH+][IH+][13CH2][13CH2][n-][n-][P+2]-[B+3][Ru+][13c][13c][13c][Na-][Pb+3][Co+3][C+][AlH2+][OH3+][Cu-2][U+2][U+2][U+2][U+2][U+2][Sm+3][Si+2][Si+2][In+2][S@+][AsH2][se][AlH2-]p[Yb+3][OH2+][OH2+][OH2+][Pt+4][Os+4][Y+3][RuH2][Ti][W][123I-][c-][SiH][Zr+3][Na-2][Ni+3][Ni+3][Tc][NH][Ir+2][Pd+2][N@+][Na][N@@+][BH3-][I+3][IrH][IrH][unused9][Y-]688[S-][S-][B+][Cr+2][18F-][OH+][OH+][OH+][OH+][Sc+3][Rh+4][SH3+]',\n '%10[Hf+2][Cu+3][Cu+3][Cr+2][Cl-][V+2][Ar][AlH4-][Bi+2][Al-][Al-][TeH][BH2][2H]#[unused8][IH-][CH2-][O+][O+][O+][Cm][Cm][Er+3][Er+3][Te][Pd+4][Zr+2][Zr+2][Th+4][S+2][V+4][13CH3][Ir+][Ir+][Xe+][Rh+4][Ni][Eu][Ir+4][Cr+4][Rb][Rb][Si+][Xe+][Pb]o11s[CH2-][Gd+3][Nd][Ag-]O[RuH][15n]%14[Ru+][cH+][cH+][cH+][N+][Pd+2][32P][C][C][C]%10%10[Eu][Si+]%11%23%23[B][Mg][n-][In+3][Cd][Pt-2][N@+][N@+][Si@@][CaH2][ClH+][Os+4][C@H]%19%19[CH-][NH+3][NH+3][Ba][Ba][Cs][O][Zr+3][BH2-][BH2-][Mo][Bi+2]%14[BH2-][NiH2][15nH][13C@H][Os+2][Os+2][Na][32P][Sn+4][Sn+4][N@][ArH][Yb+2][Hf+4]9[PH4+][Zr+2][Zr+2][P-3][18F][OH2+][Na+]',\n '[Sm+2][CH3-][Ta][Ta][SiH2][Gd][Gd][Gd][Mo+4][Mo+4][Na-][Pb][Cs+][Cs+][Fe+3][As-][n+][se+][se+][H+][N@@+][11c][S-2][Ce+4][Ce+3][Pt+4][AlH2][OH-][118Sn][Ta][Li-][Cu-2][15OH2][15OH2][Fe][pH]F[15CH][SiH4][9CH][9CH][V+2][SH3+][PH+][60Co]%14[18OH2][Na-][IH2+][cH-][Zr-2][Zr-2][Pt+4]8[S@@+][PdH2][Au][Rh][Rh][Lu][Lu][Lu][Lu][Se][Al+][O-][O-]Cl[Ti+][Ti+]9[Mn+3][Ir+2][Ta+5][Au+3][Au+3][unused8]%20[Na][Na]%12[15NH2][Sb+3][Hf+3][Nb+3][O-][Ti][Zr+2][Zr+2][13c][PH2][PH2][15NH2][15NH2][15NH2][Bi+][Ir-][Cl+3][Ga+][NaH][Si@H][U][Cr+6][Cr+6][SiH][SiH][SiH][S][Sn+4][O-][O-][SH2][SH2][SH2][N+]%21Br[Na-2][15NH][TeH2][Ce][Cl+2][14C@H][S+4][Nb+3][Rh-3][Rh-3]',\n '[Li+][Sn+3][BrH+][MgH][YH][67Ga][Nb+3][Cl+3][Si@@H][Si@@H][V]*[SeH][Eu+3][Eu+3][Pb+2][229Th][229Th][Ag-][Ag-][Sb+5][Mo+2][Hf+2][Pb+3][Pr][Os-2][Os-2][P+2][IrH2][P@][P@][P@][Br-][Pd+4][Ir+2][Co+3][Ca+][P+2][P+2][P+2][Cf][pH][PH2][Na][TeH][AlH4][PH+][PH+][PH+][Ir+4][S@+][AsH][Sn+][123I].[2NH][13CH3][13C][B+][Zn+][229Th][229Th][229Th][S+2][AsH2][CuH2-][Cr+][Cr+][c+]C[Li-][Eu][SbH2][Ir][Ce+2][Ce+2][125I][Ni-]=[Zr-2][13cH][Tb+3][Nb+4][Sn+3][67Ga+3][C+][C+][S+][o+][Dy+3][Ti+6][ClH2+][Ba][Ba][Hg+2][Mg+][153Sm][Rh-3][PH4][Sb+][PH+][11CH3][11CH3][Ho][C][AcH]%15[P][AlH-][Li+][NH3+2]b[Li][Dy][Dy][Dy][IH+][Br+][CH2+][13C@@H][Mg+2][Mg+2][Be+2][Be+2][Sn+2][Sn+2][AcH]',\n '[CaH2][Th+4][unused8][S+][AlH3][Hf+4][Se+][Dy+3][At][99Tc][99Tc][Cs][CH2-][Cn][Cn][Cn][PH2][PH2][Na-2][Rh+4][15NH2][Mo+2][Mg+2][Mg+2]N%12[SeH][Cd][NH3+2][Pb][IH+][Al][Al][Al][Fe-4][13cH][13cH][13cH][13cH][CH3+][P@@H][Ru+2][Sc+2][Fe+3][CH2-][Ta+5][Ta+5][Ta+5][Ta+5][C-4][Rb+][Sm][S+2][SiH3][SeH2][N][60Co][PH-][GeH2][Cs+][LiH][B][18OH2][Ga+][Cu+2][SH5][Ti+4][Ac]8[TaH3][I+][AlH][Rh-][V+3][13c][13c][13c][13c][13c][13c][unused5][Se][Se][O]P[UH][W+4][SH2+][Rh-][S@+][S@+][Ti+6][SH3+][Sb][P-3]BrBrBr[Ni+3][BH2][Pt-][Pt-][7NaH]ccc[AlH3][Re][Na+][C+][C+][C+][MgH][B+][IH-][IH-][Y][Ca][Ca][Sb+2][SiH3][211At][Rh][As+3][Y-][Nb+3][unused9]',\n '[Zr+][SeH2][C-4][W+4][SiH4][Zn+2][Se+][Fe+3][NH3+2][Ca+][Na-][BH-][Cl+][Pb+3][Na-2][Pd+3][14CH3][BaH][C@@][Pt+2][Pt+2][14C]9[Ga+3][Ga+3][AlH3][SH2][SH2][Si-]))[O][n+][Cr][Cr][SH+][Al+][Pr]\\\\\\\\[CH+][NH-][Br-][H-][K][K][K][CH3+][O-2][O-2][S@@+][Sr][Si+2][Si+2][Ac]#[PH3][Zn+][O-][Mn+4][C+][Cu+2][Pt+4][Hf][K+][P+3][Zn+][Zn+][Ir+2][N+][In+][In+][SnH2][Ba][Cu-][KH][Se][Se][Se][Se][Se][Se][Sr+2][Sr+2][OH][Gd][Gd][Mg+]/[125I][125I][NH3+2][15CH][13N][Ir][123I-][123I-]3[Er][64Cu][64Cu][64Cu][CH-][CH-][O-2][Cu-2]o[Li][AlH-][9CH][9CH][9CH][9CH][S-2][S-2][La][13C@H][13C@H][13C@H][Au+][Au+][Cr+3][AlH2]((([Fe]',\n 'B[S+][SeH2][SeH2][Al+2][ArH][AlH-][Sb][SH+][15NH][Na+][Ac-][Ac-][LiH][124I][124I][Sb+][Sr+2][Sr+2][Sn+2][BaH][C-][C-][Ir+3][n+][n+][Rh+3][Se][Se][S+][S+][60Co][60Co][N@H+]%10[153Sm]%11[BiH3][S+4][S+4][S][LaH][C@H][Hf][Hf][CH+]%16%16%16\\\\[se][IH+]c[S@@+][Cd+2][C-2][C-2]nnn[Bi+5]%22[OH3+][Cd+][Sn][Re][Mn+2][131I][N][N]~~~[Al][ClH2+][35S][Sr+2][Sb+2][Sb+3][Lu][Lu][Re+4][La+3][La+3][18OH2][Sr+2]##[TaH3][TaH3][Pd-][NH3+][NH3+][Ge][Ge][H]//[Eu][Zr+][P+][P+][siH][s+][Bi]~~[W+6][Yb][SiH][N@@H+]%14[TeH2][Zn][Zn][Zn][Lu][7NaH][Yb+3][SbH2][18O][Si][AlH3][Rh-][At][At]',\n '[14c][CaH2][CaH2][H+][cH-]*[Ag+2]%11[Ac]%20[Cr][Yb][Yb][Yb+3]99[unused5][Pb]c[IrH][IrH][Ce+3][2NH][2NH][2NH][Pb+2][Pb+2][Pb+2][Ti+3][Ti+3][Si@][Bi+3][Bi+3][CH][OH][SH5][SH5][SH5][118Sn][Pt-][P+3][P+3][Si][Ce+4][1H][NaH][Fe-4][Fe-4][SeH][B+3][La][Nb+4][Nb+4][Ca+][67Ga][Ag+][BH2-][SnH3][Sr+2][Sr+2][Sr+2][118Sn][32P][OH2+][P@@][cH-][cH-]%15%22[Fe+4][Cd][ZrH2][ZrH2][ZrH2][C-2][C-2][Ir+4][FH+2][Rb+][Er][F][Ni+3][14C][W][Bi+5][Bi+5][KH][Sn+4][Cr+6][N+3][Co+3]~~[N+][N+][15nH][CH-][Ba+2][Sm+2][Pt-][Pt-][Pt-][Pb+3][Re+4][C@@H][Ni][V+2][V+2][V+2][V+2][V+2][13CH][C@@][C@@][TeH2][Nb][Yb][Ag+3][At][At][At][At][At][Pd-][Pd-][AsH3][N+3]',\n '[CaH2][67Ga][Ag][K+][K+][SH2+][9CH][Rh][13C@H][13C@H][V+4][Ru-][Ce+4][14C@H][Bi+3][Bi+3][Na-][PtH+2][Hg+2][Hg+2][H+][n+][Re][32P][CH3-][In+2][N@H+][N@H+][Pt][67Ga+3][Ag+]b[Si][Si][N-][Pb][Ho][Ho][SH][Ni+3][Eu+3][SiH2][SiH2][P+][Fe-3][Li+][Li+][Li+]>>>>[Ba+2][Ba+2][IrH2][NH3+][NH-][Xe+][Rh-][Sb+3]%20[La][Na-][Na-][13CH2][AsH+][1H][1H][1H][Fe-4][Bi+2][ClH+][ClH+][LaH][LaH][LaH][Bi+][Eu+3][Zn][Pd+][Xe][B+][S@@][Y][AlH2-][IH-][OH-][Si@]5[Fe+6][Fe+6][15n][15n][15n]1\\\\[CH3-][CH3-][HeH][Gd][Dy][15nH][15nH][BrH+][BrH+][BrH+][Sb+5][Rh+4][Rh+4][Rh+4][C-][SH][Ti+6][c+][Ru+3][Ru+3][siH][SnH2][SnH2][SnH2][Ca][Hf+3][Hf+3][Al+2][Ti+6][Pr+3][MgH][SnH4][SnH4][N@+]',\n '[Ru-][Zr-2][Zr-2][Zr+][Zr+][Ac-][O][O][Ag+3][Ag+3][Sr][Sr][Ni+3][Hg][N][Eu]%21[Ag+3][Ru][Ru][Si@H][Cl+][Sm+2][HeH][Ni+3][Ni-][Pt-][Pt-][11CH3][Mg][Na-2]SS[PH3][PH3][AlH4-][VH][153Sm][Cu+2][Cu+2][Pd-2][Ag+2][V+3][Pt+4][Eu+3]***[U+2][Sn+2][Sn+2][15n][15n][15n][15NH2][15NH2][Ho][Zr+4][PH3][C@H][Sn+2][Sn+2][Sn+2][Ir+][14CH][SiH4][SiH4][Sn+4][Mn+][Mn+][Co+]c[Bi+3][Bi+3][67Ga][67Ga][W+4][W+4][Al+2][CuH2-][SH2][NiH2][N+2][Mg]%13[N+2][AcH][AcH][Bi+3][Cu][Sb-][Hf+4][Ru-][Sn+2][Eu+3][O-][Na+][Na+][Sm][SiH][O][Sr][BH2][BH-][BH-][Hg+2]%12[13C]c[Mo+2]8[V+3][P@@][N@H+][SH3+][Be][Be][Be][Be][Be][BH2-][Cs][Cs][Hf+3][At][unused10][Re+5][Re+5]',\n '[BaH][BaH][Co][14c][C-2][Li+][Pr+3][Cr][Os][Nb+3][Au+][ArH]C[Mo+4][Mo+4]%13%13[15n][Mo+2][C@]9##[SH+][Gd][Co]8[Sn+3][In+][In+][Co+2][Os+4][15CH][SH2][SH2][123I][SiH3][13CH][Ir+3][SnH3][14CH3][Mg][PH-][BH4-]%23[Ho][SH]66[P-][Ni+2][Ta+5][Pb+4]%14%24[Bi+3][Tl+][AlH2][SH3+][13N][I][Nb+4][Cl+2][Cl+2][Cl+2][Li+][Li+][S@@][P@@H][In+3][Na-2][Na-2][Pd+4][PH2+][Hg+2][unused6][unused6][2NH][Si+2][Ni+2][211At][11CH3][AsH+][AsH+][AlH2+][229Th][As+][Ir][AlH2+][Ga+][Hf][pH][Ru+2][NH2+][Th][BH3-][BH3-]=[Bi][Ac-][I+2][nH][Pb+3][118Sn][32P][se+][se+][Ru-2][Ni][Cr-][13c][AlH][Ru-2][AlH][Fe-3][Fe+4][PdH2][unused5][Fe+2][c+][68Ga][68Ga][14c][As+][Se-]%19',\n '[Al-][Sb+5][Si@][14cH][14cH][Er+3][Sb-][Sb-][Hf+2][Hf+2][IH2+][SbH2][SbH2][Tb+3][2H][Mg+2][Sb+5][Dy][Dy][IH2+][BH2][Mo+4][Mo+4][Mo+4]s[te][Tl+2][Pt+2][H][H][H][C@][Si@H][Si@H][CH3+][18OH2][18OH2]%11[AsH4+][Sb-][19F][19F][Cs+][Ru-][As+][S@+][S@+][S@+][F-][Nb+4][Nb+4][Cr-][SnH2][V+2][V+2][V+2][Fr][13C][13C][13C][13C][n+][F-][N@][Au+][As-][Mo+2][Mo+2][AlH2+][Pb][Pb][SH][SH-][Ir+3][Sn+4][Pd+4][Ti][CH3][Rh-3][Rh-3][Rh-3][Rh-3][N][P@@][15OH2][15OH2][Hg+2][Hg+2][13C][Fe+3][Cl+2][Cl+2][c+][c+][124I-][125I][B+][B+][Au-][Pt]%20[18OH][Xe][W+4][Y-][Y-][Cn][Rh][Si@]%20[18F][Pt-2][Pd+2][Pd+2][Pd+2][c-][c-][BiH3][Cr+4][Cr+4][Cr+4][Cr+4][Ru+][GeH]%22%22[Ce]',\n '%24[Cl+2][I+3][Mn][13N][YH][unused9][As+][Fe+3][s+][Ru+3][Ti+3][Sb+5][Os-2]I[C-4][C-4][C-4][PH4+][Y+3][OH2+][Nb+3][Ac-][BiH3][CH2][CH2][Rh+][S+][S+][S+][SbH2][Nb+5]n[Ir][18OH]8[SiH]%12[Ac-][AsH3][AsH3][Ag+2][Ag+2][Ce+4][Ir+3][PH4][C-][In+][In+][13C]%24%24[Pd+2][Pd+2][Pd+2][Pd+2][SiH4+][PH-][V+4]OO[Lu][P@@][Ho+3][SH2][Sb-][AsH+][F+][CH2-][CH2-]C[O-][O-][Al][Al][60Co][RuH][Sn+4][Sn+4][Sn+4][Cr+3][B+3]-[Re+5][S+2]b[Ir+4][Se-][10B][125I]\\\\[siH]N[Cl+3][Cl+3][Pb+4][Si+2][W+][Na-2][Ru-][Sm]/[AlH][Pd][SH2+]PP[NiH2][Ru+][SbH][SbH][13N][125I][Cu-][Cu-][n-][13C@@H][Ti+3][Cu+2][SbH2][SbH2][31P][SH-][Ir+2][Cm]',\n '[Pt+2][Pt+2][N+][Ar][Ag+][Bi][Cl-][Sb][RuH2][Co][W+]O[131I][U+6][IH2+][W+][BiH3]%11[15CH][15CH][15CH][Tc][N][Cl+][Cl+][Ru-2][Ru-2][Ru-2][Pt+4][Pt-][Cu][CH]3[Cu][Ag+3][Cr]8[Te][TeH]P[Sc+2][Cu]b[AlH-][N-][W+4][TeH2][13C@H][Ca+][Ba+2][Zr+][123I][Eu+3][13CH][13CH][BH3-][Fr][Y-][Si][FH+2][V+3][V+3][NH4+][NH4+][NH4+][AlH3]Cl[SnH2][Cu+2][13N][NH2-][Pb+4][Zn][Sn][N][Si@@][Ni+3][GeH][SnH][Al+3][Ac][AsH4+][Bi][Bi][Ru-][n-][RuH][Cu][124I][Sb+]6[GeH2][GeH2][GeH2][Li-][TeH][TeH][TeH][TeH][TeH][TeH][AlH2][Cr+2][C-2][Zr][Zn]%22[PH3][PdH2][s+][Hf]%22[SiH2][Mn+][Mn+][Si+][PH][Mn][Mn][U][Si][N-3][N-3][15NH2][N+3][IH+][Os-2]',\n '[IH][Si@H]%24[SbH][Ir+2]6%14P[CH+][RuH2][SH+][13CH3][c+][I][I][Fe][Fe][Zr][Tb][Sb+][Sb+][BaH][Si@][68Ga][Pr][Si@][Si@][Be][Nd+]%12[N-3][11c][P+2][Rh+2][K][SH+][123I-][CH+][Si@@][Si@@][Si@@][Cu-][Bi][124I][SeH]Cl[Br+2][Sm][Cu-][Mn+][Sr][Tl+2][68Ga][ZrH2][Si+4]~~~[Os+2]~~[C-][Cu-][Cu-][Cu-][In+][AlH4]%19[N+][Os-2][Ta+5][V]777[ZrH2]BrBr[Ho+3][BaH][NH3+2][Al+2][o+]%24[N-3][Ba+]8[RuH2][GeH2]2[P-][Cr+2][Dy+3][Bi+][AsH3][Ba+2][Ti+2][Zr+2][118Sn][118Sn][OH-][Ti+5][Ti+5][PH2+][V+5][2H][2H][P+][S][NH3+][NH3+][14C@H][BrH+][W+4][c-][c-][NH3+][Hf+2][Hf+2][68Ga][N+3][3H][3H][AsH+][Yb][Hf+3][F]',\n '[Nb+5][SH+][Os-2][Ni][Ni][Ni]%14%14[IH2+][Cr+3][AlH2-][W][Ca+2][Mo+4][Mo+4][Rh-3][Rh-3][Rh-3][Rh-3][Cr+6][Si+][nH+][nH+][Ru-2][Ti+][Al][14C][CH][p-][H-][24NaH][In+][H+][se][Ti+3][Ti+3][13CH2][13CH2][13CH2][Sn+][Si+][Si+][Ir+4][Si@H][Cr+2][VH][VH]ss[Cu+3][Cu+3][Cu+3][Co+]Cl[Si-][14CH][N@+][N@+][BH2][Hg][Sn][Cd+2][At][Re][Re][Ti+6][229Th][Nd+3][Fe-3][Ba+][AlH3][Si-][C@][Y]%18[Xe]1[Zr+4][Os+4][N+][Zr+3][Zr+3][Sn][BiH3][Co+][Br+2][PH2+][BH2][BH2][BH2][Cd][18F][131I][19F][Hf+4][19F][19F][19F][19F]II[BH3-][AlH3][CH3-][CH3-][CH3-][CH3-][Pb+4][U+6][Cl+][Cl+][C+][Ho][Pb+3][14C][Mn+2][15N][15N][15N][15N][2H][2H][Au+][Zr][Zr][Zr][c]',\n '[Sb][PH3][125I][131I][Xe+][GeH3][Tl+2][Ag+3][CH+][CH+][CH+][Ce+2][Zr-2][CH2+][PH4+][Ni-][Ni-][Ni-][Ni+3][Ru](((([PdH2][Sn][Ge][24NaH][I+2][I+2][Nb+5][Nb+5][Na-][Na-][Ar][13C@@H][Ru+][IH-][Ti+4][MgH][11c][Mg+2][AlH2-][SeH2][Ag+3][Ce+4][Ce+4][Pd+4][Pd+4]2[W][PH4][Ir+2][Tb][7NaH][unused6][AlH][1H][1H][As+][Xe][se+][Sn+4][Cs][Cs][Cs][V+5][V+5][NH+][Gd+3][N+2][Sm][V+3][C-2][FH+2][unused10][Mo+2]%23S[unused8][32P][unused5]%12%12[S-2][In+][SbH2][Sr+2][BrH+][Tl][Al+2][Pt-2][Fe+3][Fe+3][Fe+3][Fe+3][Er+3][124I][P+3][14C@H]8[B+][B+][Ir+2][NH4+][Eu+3][Pb+2][TaH3][NiH2][B+3][123I-][RuH][P-3][15N][68Ga][15nH][CH+][Lu][9CH3][Mn+4][14C][Tl+3][Ag-][Ag-][Ag-][Y][PH2+][OH]',\n '[14C][Yb][SH5][CH-][Xe+][Cd+][N@@][Re+5][Zn][Na+][Na+][18O][18O][18O][Cd+2][BH2-][Cr+6][P@@H][124I-][Pd+4][BH2][V+5][Hg][P-3][31P][LiH][V+2][Ce+4][2H][CH+][P@][Sb+][Ce][Ce][CuH2-]\\\\[Th][SH-]/*[La][Cm][Cm][At][24NaH].[Rh-3]/6B[K][18O][18O][SiH3][Os-2][p-][Ga+3][Cd+][U+2][PH3+][AcH][AcH][B+2][Bi+2][Re+5][Cf][PtH+2][PtH+2][PtH+2]%10[AcH][Ho][Cl+2][Cl+2][Au+][SnH3][Ru][S@][125I][Be+2][CH3+][Nb+3][I][N@+][La][La][BiH3][N][Rh+3][Br+][13C][3H][S-][IrH][IrH][IrH][S-][N-][BaH2]**[Rb+][SnH2][SnH2][CH3+][CH3+][N+][Al][Mo][unused10][Ti+4][Ni+][Li]4[AsH][CH2-][Al-][Cr+6][AsH4+][Al][YH][Fm][PH2][PH+][68Ga][Ir-][118Sn][Cu-]',\n '[GeH][124I][Co+2][Xe][Xe][OH2+][CH3][OH2+][Rh-][13CH][13CH][N@+][GeH]6[Pt-2][SH5][CaH2][SH2][Sc+3][S@@+][14C@H][S-][Yb][14CH3][Fr][Fe+2][32P][Bi+5][Pt+2][Pt+2][AsH3][KH][Mo+4][Bi][Pt-][BH][PtH+2][Ce][Pb][Ga][Ga][Os+2][U+6][As-][As-][Tc][Sc][Sc][C][sH+][sH+][Ir+][Ir+][AsH+][NH-][NH-][NiH2][Br+][HeH][Os+2][15NH][PH+][S][C+4][La+3][CuH2][Fe-3][NH3+2][Fe+2][Na-][VH][KH][KH][PH4][Be][Be][Be][Be][Be][Ni-][Bi+2][N@H+][15CH][Ti+3][Ti+3][AlH-][AlH-][AlH-]B[AlH2+][CH2-][unused6][Ge][13N][13N][13N][BiH3][BiH3][BiH3][OH-][OH-][OH-][Pd+3][Bi][SH-][Fe+3]\\\\\\\\[Sb+3][IH-]1[Os+2][Sm+3][18F-][At]6[SiH][S@][Ru-2][ZrH2][Al+3][229Th][N@@H+][N@@H+][N@@H+]F[Bi+3][153Sm]',\n '[S-2][Au][Au]%11[Os+2][Cs][Hf+4][Hg+][P-][64Cu][11CH3][11CH3][BiH3][Li+]88[Pt][Sm+3][nH]%10%10[Mn+][P+][P+][P+][P+][P+][Co+3][SiH][AlH4][U+6][K]O[Cr+2][Cr+2][Ho+3][15NH][NH-][Cd+2][CH3-][F-][19F][19F][19F][AcH][Ru+2][Li-][SnH2]F[18F][PH-][LiH][Ag-]%11[Zr+][Zr+][Yb+2][Pb+4][Pb+4][Hf+4][nH+][AlH2+][C-4][U+6][Mn+][Mn+][Xe+][Xe+][Xe+][Pd+3][Os+2][AsH2][Ba+][Ba+][18F-][18F-][In+2][Sr+2][Au-]~%23[BH4-][SH][Mn][Ac-][I]n[P-][TaH3][13C][N+]%19[Cs+][15OH2][NH2+][Na-][SH2][Sm][Sm][Si+][C@@H]p[Pt][B-][Cd+][Rh-]%10[U+2][F+][N@][PdH2][S-][S-][Sc+2][Al+2][W+][W+][15NH2][15nH][15nH][15nH][B-][U][RuH2][RuH2][NH3+][Ru+]',\n '[Lu][se][Si][Si][S+][AsH3][Ti+][Ti+][Ti+][Ti+][14C][13C][123I]%17[Tc][Tc][P+][N@][Li][cH-][Fe+4][SH2+][CuH2-][Si][Si][2H][2H][CH3-][F]%16[13CH][Y-][C@][P-][In][AlH3][Ba][Yb+3][Yb+3][9CH][P][SnH3][Hf+4][Hf+4][OH3+][N][N][N][N]C[siH][Pd+3][Pd+3][Pd+3][Pd+3]%21[Sc+3][68Ga]%12[Si@@H][S-2][S-2][Mo+4][Mo+4][1H][S@@+][SnH2][SnH2][P@@][GeH3][Cl+2]4[V+3][19F][CH][ClH+][Pd+3][15CH][As+][As+][Ta+5][Ta+5][Si@][64Cu][Cl+][Cl+][NiH2][NiH2][NiH2][Mn+4][Mn+4][NaH][SH5][Sr][Sr][Ti+][Re+4][Re+4][67Ga+3]c[32P][c+][c+][I-][19F][PH2+][AsH+][I+3][ClH2+][Re]%22b[S@][SiH][Se][Mn+][Au+][Au+][Mn+2][Cm][NH3+2][Ce+2][211At]p~[Fe+2]Cl',\n '[Tl+2]%12[Fe+4][U][Dy][Th+4][Os+2][CuH2-][CH+][Th+4][Th+4][Sb+5][SbH][Pt-2][18OH]6[BrH+][BrH+][BrH+][14cH]o[U+2][TeH2][P@H][P@H][PH2]F[Zr+4][Zr+4][Pb+2][Pb+2][B+3][Sc][Pt+2][ClH+][K][RuH][NH][Se][Se][AsH+][AlH4][AlH4][NH2]88[IrH][I+][I+][15NH][Zn][Nb+5]%10[Al+2][CH2+][13c][Fe-3][35S][35S][K][K][PH3][PH3][KH][Ti][IH+][Rb][Rb][Cu][B+3][B+3][B+3][CH3][CH3][BaH2]o[Br+2][Br+2][AlH2+][Sn+4][Pd+2][Au][Ti+2][Tc][Ag][14c][ZrH2][Ni][Ru+3][Ru+3][Ru+3][pH][NiH2][Ca+][Rh-3][Rh-3][S@@+]\\\\\\\\\\\\[Al+][Al+][Lu][Lu][OH+][14C][NH2][W][124I][PH]))[Si+]CC[I-].[Au+][BaH][BaH]5[Fr][7NaH][UH][Gd+3]',\n '[Ce+4][1H][U+6][Si@@H][SH2][La+3][S@+][S@+][UH][Mn+3][Au][Yb+3]b[Mg][U+6][Ce+4][F-][Co+][AlH-][AlH-][AcH][AcH][AcH][AcH]p[AlH2-][c][c][15CH][Cd][153Sm][Rh+2][Ce+3][Ce+3][Th+4][Mg+][Cs][SiH2][SiH2][Rb+][Nb+3][In+2]%20[Pb][Au][Ce][UH][UH][Rh-][10B][10B][15NH][24NaH][AcH][13c][SH-][SeH][Sr+2][Mn+6][Mn+6][Fe][15NH]77[SiH4][Li+][Li+][TeH2][C-2][Th+4][BH3-][BH3-][P@][P@][15N][Nb+4][As-][AlH4][SH3+][Be][Cd][Ru][O-2][PH4][Gd+3][ZrH2]o[Br+][NiH2][Li-][c][Pd+4][In+][S+4][Al+3][Al+3][Al+3][ClH+][35S][35S][18O][Sn+][Sn+][Se][Se][Se][Se][SeH][Cl+3][Cl+3][Cl+3][Cl+3][Cl+3][unused6][unused6]B[N@][153Sm][153Sm][13cH][18F-][Er+3][As][La][La][Y+3][SbH2]%19',\n '[Mo+4][V+5][Eu][Sb]%12[Ga+][Fe+4][U+6][s+][Mo+4]~[Nb][Br-][Cu+2][7NaH][B+3][CaH2]%11[Mo][CH-][Sb-][Pb+2][N@@][VH][BH-][BH-][NH+][NH+]\\\\[Cr+4][Ti+][9CH3][In+][BH-][AlH2-][13C@@H][Ni][Cl+3][K+][Si@@][Y+3][W+6][W+6][211At]8[24NaH][24NaH][BH2][Pr+3][18F][Ni+][2NH][2NH][Al+2][Th][Ti+6][KH][K][K][Nb+4][Al+][Ag+3][sH+][Pt-][Pt-][Pt-][PH4+][Ca][Ca][V][nH][S][13N][229Th][18OH2][Y+3][Li+][Li+][Sc][Sc][99Tc][99Tc][unused6][unused6][unused6][V+3][Li-][125I][125I][Pb+2]666[15OH2][15OH2][P+2][Zr+4][Zr+4][Cr][Sb+][Fe][Fe][Nb+4][13C][13C][15n][I][TeH][TeH][BH4-][BH4-][BH4-][BH4-][Al][Al][Si@@][GeH][SH2][Ru+][Co+2][Co+2][Sn+2][Sn+3]([Fe+2][IH][P+3]',\n '[Nb+5][Nb+5][67Ga+3][NiH2][Cr][Ge][Ge][Nb+3][UH][Tb][SiH4][Zr-2][Zr-2]O[Cr+][Mn+4].[15NH2]%14[PdH2][PdH2][PdH2][PdH2][Al-][Al-][Al-][GeH2][Cu+3]S[124I][H+][H+][H+][32P][Mn+][Zr+2][C+4][15OH2][15OH2][Bi+3][Yb+3][SiH4][SeH2][Cf][18F-]([AlH4][PdH2][F][F][In+][Pt+2]7[Pt][Fe-3][Fe-3][Ca][VH][VH][P-][Ta][Ta][Eu+3][C@@][18F-][N-]%13[Mn+2][3H]%14%14[S@][P+][SiH4+][C-2][C-2][C-2][C-2][C-2][GeH][ZrH2][Cd+][H-][H-][H-][Hf+4][Ga+3][Ga+3][Ga+3][Ga+3][N-3][N-3][O-2][60Co][C@][PtH+2][PtH+2][S-2][Xe][Ag-][Hf+3][Hf+3]pp[NiH2][S+2]%14[AlH2][13N]SS[AsH][se+][Hf][se][13C@H][14c]2[B-][B-][Ba+][F][Pb+2][B+][C+][C+]Br',\n '[Bi+5][CH3+]c[NH2][PH2+]/[SiH3][SiH3][Er+3][Sr][Sr][Sr][Si][124I-][N@@H+][Hg][Cu+2][Cd+][Nd+3][Lu][BH3-][N+3]#[Tb][Mn+4][Fe+3][Fe+3][Zn+2][c][nH][Au+][Au+][n-][11C][IrH][LiH][13C][Ni-][PH3+][s+][13CH][13CH][Sb+3][Br-][B][B]c[Rb+][Bi+].[NiH][N@H+]7[BiH3][Mn][Mn][Sn+4]C[SiH][SiH][P@@H][P@@H]2[Tl][Sc][CH-][Eu][Eu][sH+][Sb+][Sr][Si][PH4][3H][3H][3H][3H]/[Gd+3][1H][Cr+6][Na-2][W+6][Pd+][Al+][Br+]/[siH][siH][Mn][Cs][Cs][Cs][Mn][14cH][Os+2][S-2][NH3+2][NH3+2][H-][SbH][KH][Ac]%15[Rh][Rh][S-][Si]/[SH2]%12%12[Ca+2][Ca+2][Ca+2][Br-][Pd-][Pd-][Dy]8[KH][Cl-][Cd+][GeH][Si@@][OH]',\n '[Si@H][C@H]Br[Dy][Dy][Dy][Dy][Xe+][Zr][ZrH2][NH+3][9CH3][Pd+][SiH4+][SiH3][W+][W+][C@@]C[Rh-3][Os-2][Os-2][Os-2][K+][se+][Pb][Er+3][Er+3][HeH][HeH][HeH]%21[N-3][As-][Ac-][As][PH+][C-][V+2][te][PH4][Ba][Ac-][TaH3]p[p-][p-][Re][IH-][NH+3][AcH][NH+][H][Ag+][GeH3][BH2-][125I][Xe+][Si][Zn][Ca+][Ca+][pH][Mo][Hg][N-][Bi+3][Bi+3][Bi+3][CaH2][H+][H+][Sb+5][Ga][Ga][Sn+3]4[H+][W+][AsH+][N+][S][Pd-][Lu][N-3][U+6][Nd][Nd][I-][123I-][C@@H]%12%12%12[Ag-][unused5][PH+]%20[Mo+2][Mn+2][N@@][Ti+4][Cu+3][PH4+][AsH2][La][PH4+][Pb+2]b[unused9][SbH2][Pb][BaH][Ti+][FH+2][OH+][OH+][123I][Sr][Zr+3][Zr+3][NH3+2][SiH3][18F][Fe][AlH4][Ba][Yb+2]',\n '[Pb][BiH3][Hf+3][unused7][unused7]N[SnH3][Cn][Cn][te][15OH2][B+3][B+3][B-]Br[S-2][Zr+][Pr]O[Ru+3][o+][o+][unused8][153Sm][Os+2][Cf][Co+3][IH][AsH+][Zn+2][Tc][Tc][Tc][Si@][Bi+][Bi+][Bi+][153Sm][153Sm][Hf+2][LiH][IH2+][Ac][Ac]~[unused10][unused10][unused10][unused10][Pt-][AlH4][Co+2][NH2][BaH2][Pd][C+4][C+4][pH][SbH2][V+2][11C][11C][P-][Pr+3][Mn+3][124I-][14c][14c][14c][Mn][Th][Pb][Re][IH-][IH-][CH2+][Si-][118Sn][AlH][Co+2][Co+2][NH4+][NH+][AlH][AlH][Nd][H][35S][Nb+4][NH3+][NH3+][Yb+3][Mg+][Al+2][Al+2][Fe+4][Fe+4][PH5][PH5][S+2][S+2][H-][H-][H-][Sm+2][PH-][Si@@H][Si@@H][Si@@H][Cu][Si@][NiH2][24NaH][N-][unused6][NH3+][C@@H][Co+2][Si][Si][SiH4+]=[SH-][SH-][SH-][ClH+][ClH+][Pt+2]',\n '[Hf+3][As+3][211At][S@@]%11[CuH2-][Se][Ti+][Tl+3][N-3][CH2+]=[SH-][GeH3][Hg+][15n][124I][15OH2][F-][Zn+2][Ag+][CH3+][NH2+][NH2+][Zr][Zr][Zr][Zr][Pb+2][Pb+2][Hf+3][c-]>>[Ni-][Ni-][BH2-][Yb+2]CC[18F][18F]I[B+3][B+3][13C][Ho+3][Ba][Ba][pH][Pd+2][Pd+2][Se][Se][Se][Se][Se][Se][AsH][F+][SH3+][SH3+]%24[PH-][PH-][Mn+2][Cr+]cc[Dy][AsH]%22[Sc+3][NaH][Rh-3][SiH2][Fe-4][C@@][123I][N@+][Ac-][Au+][unused6][O][N@@][N@@][Co+][As+3][As+3][As+3][K+][Bi+3][BH2][BH2][Br+][B+3][B+3][N@][Cu+3][Cu+3][Cu+3][Cu+3][Mo][Mo][Mo][OH+][BaH][IH][IH][IH][I+][NH-]#[SbH][18O][SH2][Br-][Zr-2][Zr-2][Fe+4][Bi+5][Fe+6][V][V][C][Yb][Na-]3',\n '[Ni-][U][Si+4][Li+][Li+][Li+][Li+][Ba+][Co+2][Pd+][N@@+][Y-][Cr-][Sc][Zn+2][BrH+][2H][Mn+4][Zr+4][Zr+4][Y+3][Br-][Br-][FH+2][FH+2]%19%19%19[Bi+2][Se+][Mn][Au][Bi+2][Bi+2][Bi+2]4[Sn+4][CH2+][Fe][N@]--[SnH4][Pr+3][Pr+3][Nd+][Co+][Co+][15n][Co][Co][c][99Tc][K+][K+][K+][siH][Pr+3][B+2][Zr+3][Cr+3][BH3-][Rh+3][BH4-][BH4-][123I][Bi][131I][GeH2][F+][Sm+2][Sm+2]Cl[NH4+]Br[Re]%15%15[Au-][unused6]%17%13%13[Nb+5][Nb+5][Mn+4][Nb+4][Nb+4][Zn+][Ce][IrH][229Th][229Th][In+][In+][Ba][Ba][AcH][Zr+2][11C]%17[Ho+3][AsH][SbH2][SbH2][3H][Ir+4][V+5][14c][Y+3][Ru+2][7NaH][Pt-2][Zr+2][TeH2][NH2+][TaH3][Y+3][Y+3][18O][C][C]N[Ba][Ba][P@@][Si+2][Re]',\n '[Xe][Xe][SnH4][N+3][GeH2][BH2-][Ho][14CH3][Ba][Be+2][Be+2][Be+2][Sb+3][Na+][Rh][N-3][CH3+][S+4][Pd-2][Cf][Cr+4][Cr+4][S@+]Br[Ca+]FF[Fr][Be][C+][BH2-][BH2-][BH2-][Ce+2][H+][nH+][OH3+][PH-][AlH2][CuH2-][CuH2-][CaH2][CaH2][Rh-3][NiH][C-4][Br+2][Si+4][Cr+][Sc+2][Sc+2][Tb]c[NaH][9CH3][15N][Mg+][N+][Gd+3][Be+2][Sr][Sr][BH][SeH+][123I-][V][SH+][SH+]%10%10[V+4][Tl][Hg][SiH4+][CuH2][N+][CH2-][CH2-][Fm][Ga][Ga][Ga][BH3-][123I][Re+5][Ni][Ni][Ni][Ca+][10B][Pb+2][Ar][Ce+3]*[SH2][67Ga+3][124I-][S+][Sb+][18O][Pb+2][N][Na-2][C@@][Cr-][At][Sn][Zn+2][C@H][unused5]F[Sn+][V+2][AsH4+][Er][Er]FFFF[AsH2][IH][IH][NiH2][I-][Ir+][Fe][Pd+4]',\n '[Bi+][Bi+][Bi+][N-3][N-3][N-3]%21[Al+][Al+][N@@H+][W]s[NiH][C@@][C@@][Ba+][V+2][NaH][18OH2][K][K][CaH2][Si+2][11CH3][14CH2][Na][Cu-][Pd+2][125I][S-2]~[Al-][Cr+4][Cr+4][Cr+4][CH2][S-][PH][unused8][n-][Pb][S@@][19F][W+6][Cl+2][O][Na-2][Dy][Dy][S@+][Sb+2][PdH2][PdH2][Ar][10B][Pt+2]BrBr[BH2-][PH+][PH+][PH+][AlH2][Ac-][Ni+3][Ni+3][Zn+2][Zn+2][Y-][Cr+6][Ir][Cl+3][Cl+3][Eu][AlH4-][AlH4-][Y][Ta+5][Al+2][Al+2][La][Hf+4]66[cH+][Tb][Mn+][Pd+4][K][K][K][K][BH4-][Mo+4][Cm][Cm][Cm][Cs+][Cs+][Ag+3][C@H][Al+][c][c][NH-][NH-][2H][S@@][PH2][32P][2NH]9[Zr+][Na-][cH-][Tl+][N+3][Cr+][Br+2][Br+2][K+][19F][siH][Rh-3][Pt+4][15CH]',\n '[SiH4][24NaH][Tl+2]>>[GeH2][nH][C-4]11#[Fe+3][F][CH3][C+][C@@][Ti+6][Ru+][Be][HeH][24NaH][P+][Cn]%11%11[OH+][OH+][As+][CH3+][CH3+][Cd][Cd]%17[N-3][N-3]%14[C@H][C@H][24NaH][68Ga][Cr+3][Lu][Lu][As+3][Re+5][14CH][14CH][Bi+2][9CH][9CH][9CH][9CH][9CH][Os][Os][Os][Cr-][Zr+][nH+][Co+][In+][15NH][15NH][Ho+3][Sr+2][Sn+2][Co+3][Cf][Nd+][F+][IH-][SnH2][SnH2][SnH2][SnH2][c+][K+][As+][AsH+][AsH+]~[123I][Rb][Rb][Rb][N+][Ac][Ac][te]%11[Ru+3][Ru+3][Ru+3][Ru+3][NiH2][Y+3][In+2][In+2][In+2][131I][131I][LiH][SiH4+][Mo][Mo][Sc+2][Sc+2][Hf+3][Rh+4][Ru][te]3[13C][se][Yb+2][67Ga][Cl-][SnH4][Sm][Sm][BaH2][Ru+3][Ag][Hf+4][Ba+2][Sc][Ar]',\n '[Cr][Si@H][Cl+][SH][Sn+][Mn+6][Mn+6][Mo+2][Co+][Ho+3][7NaH][B+2][PdH2][SiH2][Na-2][Ce+3][Zn][Zn][15NH2][N@@H+][Yb+2][Yb+2][Yb+2][Ir+][Ir+][68Ga][C@][C@][Os+4][pH][C@H][In][In][Al+2][Gd+3][Ba+2][Au][Os][Zn+2][unused10][O+][K+][K+][NH+][Se-][Gd+3][Gd+3][V][Ba+][Ba+][AlH4][Hg+2][Hg+2][NH+3][NH+3][Cd][Pd][AlH2][In+][In+2][24NaH][Mn+][Bi+5][Se+][TeH3][123I][123I][BH4-][F][F][Sc][Th+4][Cs][14CH3][Ba][Bi+3][se][Se][CH+][CH+][Xe+][NH3+][Cu-]B[KH][KH][KH][KH][Re][PdH2][Pb+3][C-2][Na][IrH2][SH3+][PH-][14CH3][As-][SbH2][Si-][AsH2]F[UH][Ti][11CH3][11CH3][Mn+6][Mn+6][Cm][15OH2][15OH2][YH][BH4-]%19%19[OH3+][Mn+3]o[U][Ir][Ce+2][Ir+2][Au+3][Au+3][Zn+2][Se+][S+]',\n '[Yb+2][Ta+5][S-2][S-2][C@][C@][C@][N@@H+][Cr+2][Pr][Mo][Os+2]c8[Nb+5][N@@H+][N@@H+][BaH2][BaH2][PH-][S@@][S@@][14C@H][Sn+3][P+][K+][24NaH][BH-][I+2][I+2][Os][Nd][Ti+2][Si+]/P[14C][At][PH2][Si][Nb+3][Al+2][Al+2][SeH+][NH2][Bi][Cm][Cm][Cm][C-][B+][Mn][W+6][Yb+2][Ru][AsH+][Ag+3]OO[Ca][Ca][Pt][Li-][Tb+3][PH4][Ca+][SH2][Au-][Br-][Br-][OH3+][Zr+4][o+][Hg][Ir][Ir][13C@@H][Se][13C][CuH2][SbH][Si][Si][Pt-2][Pt-2][Fe][Ag][Ir+4][Zn]555[IH+][unused5]%21%21[p-][Eu][nH+]%10[Cs][Rh+3][B][B][Sn+4][Sn+4][Ti+5][Cd+2][Cd+2][CH3+][Ru-][Hg][Sm][Ba+][Tl][SiH4+][Cr+4][VH][VH]N[9CH3][Eu][I+3][I+3][Ir+2][BH3-][60Co]',\n '[Pb][68Ga][unused6][unused6][CuH2-][Ni-][Ni-][14CH2][Tl][Tl].[AsH4+][Si+][31P][Th+4][YH][U][Tb+3][Al][B+3][Os][CuH2-][Be+2][BH2-][Sm+3][Sm+3][Sm+3][Ti+5][K+][K+][NH4+][NH4+][NH4+][Cr+][Cr+][PH2][PH2][Pd+4][VH][VH][Ag+3]\\\\[NH3+2][Ar][Pd-2][Ga][Ga][Ga][Cr][Nd+]p[FH+2][FH+2][Mo+6][Br][Br][Hg+2][Ho+3][124I][14CH]Br[nH][nH][C@@][S-2][31P][31P][O][Ti+6][Tc][S+2][Pd+][Pb+2][99Tc][Ce+3][123I-][Sb+2][Sb+2][Ru-2][Ru-2][Ag+3][24NaH][Se][Se][unused6][24NaH][Cu-]p[F]%19[Re][Re][Re+5][I+3][I+3][Eu][Eu][Eu]%16[C@][Cu+2][Cu+2][C][C-4][64Cu][Zr-2][Th][Th][Th][H-][Ni+][Ni+][Pb][13C@H][BaH2][Sm][Hf+3][15NH]4[Sm+3][Cd+][SiH3][SiH3][K][CuH2][CuH2][14cH]',\n '[NH3+2][Ag][Sn][Hg+][AlH4-][AlH4-][Sc+2][Sn+4][N+3][I+][Cs+][Sb+5][Nd+][Nd+][Pb+3][Sm+3][Sm+3][Cu][9CH3][9CH3][nH+][nH+]FFF[SH+][F-][FH+2][Zr][Sr][Pr][Ca+2][AlH2][Pb+4][Pb+4][Pb+4][SeH][Os-2][Os-2][Os-2][Ir-]>>[9CH][9CH][CH+][Al+][SH+][IrH][AsH][Y][IH-][Yb][14cH][Co][Sr][ZrH2][La][131I][131I][131I][131I][Cd+][Cd+][SnH4]%15[S@+][S@+][Fm][N-][In+2][SeH2][As-]%17[Sc+3][Pr+3][Cl+3][Bi]3[CH2][BH-][Ag-][Ag-][V+4][13C@H][se][se][Re+4][SnH4]=[Ni][123I][BH4-][Fr][Ge][SH2][SH2][Ce+3][Ce+3][Y][Sr+2][Sr+2][Ca][SiH4][BH-][IH]%17[Mn+][Ba][c-]%10[Cl+][N+3][O][I+2][I+2][O][Ni+][PH4+][Pd+2][Si@@][Si@@][Si@@][P+3][P+3][As+]',\n '[SbH]B[S-2][Eu+3][Ho][Cu+][C-4][Tl][Sb-][Pt-][Br+][Pt][Pd][Pd][VH][Au-]o[U+6][Os+4][Os+4][U][Si+4][S-2][Zr][Ga][pH][Cl][Cu][Cu][SH2+]9[Re+5][Re+5][Eu+3][Eu+3][Eu+3][V+2][Cu+][Co+2][Y][Pb+4][In+3][Pr+3][Rh-3][Zr+].[CaH2][CaH2][P+2][P+2][Ba+][Li][Pb][Ti+2][Ti+2][Ti+2][Rh+2][La][Fe+3]%19%19[Sc+2][W+][C][C][Nb][Ir+3][Ir+3][MgH][18F][Fe-4][unused6][Fe-3][UH][Cs+][I+3][P+3]3.[OH3+][OH3+][OH3+][S@@][C-][N@H+][Be+2][Be+2][C+4][Ir+3][N@@H+]b%176[Zr-2][YH][SbH2][BH2-][SeH+][13N][Zr-2][Zr-2][Ti+5][Ti+5][S+]%22[Ru][Ru][Ru][Ru][BrH+][BrH+][BrH+][Rh+3][Rh+3][Rh+3]/[Pt+4][Si+][Mo][Y+3][CH3][CH3][Si][SbH2][SbH2][SbH2][P+3]',\n '[Pb][AlH2][Mn+2][Dy][Pb+3][n+][V+2][Si+][Mg][Ir+][Be+2][Mn+3][Mo+4][Mo+4][15OH2][Sb+2][TaH3][Zr+4][Mo+4][Ir+2][Tl+][CH-][CH-][Pt-][Zr+3][Zr+3][Zn+2][Se-][O-2][O-2][Co+][CH2][CH2][Nd+3][Zr+][Cn][1H][Ir-][Cr+4][F][153Sm][LiH][Pt][Zn][Zn][Si+2][Dy][Ag][Ag][S+]%11[p-][P@@][P@@][P@@][P@@][S-][NH3+][NH3+][NH3+][NH3+][NH3+][68Ga][te][C@][C@][C@][Nd+3][Pb+3])[Tb+3][Tb+3][PdH2][Y][O-]-[unused8][Ag][Li-][Fm]%14[Se][14C][Bi][AsH4+][AsH4+][Rh+4][Li][Pd+2][Re][SiH4][AsH3][Br+2][Br+2][O+][OH3+][OH3+][OH3+][AlH3][99Tc][99Tc][31P][CH2+][Ti+][C-][AsH][Sc+2][AlH2][HeH][HeH][HeH][N@+][Na-][CH2+][unused6][K+][K+]7[As+][As+3][153Sm][Eu][Eu]',\n '[Eu+3][24NaH][c][F-][15OH2][I][Rb][Li+][Li+][Gd][S+4][Rh-3][ZrH2][Sb-][N+2]Cl[Ir+4])[V][19F][SiH4][SiH4][TeH2]Cl[Ho+3][Li][15OH2][C-2][Cl+][BH3-][Mg][ArH][Cl-][Cl-][In][Au-][In][PH][PH][Zr+3][Zr+3][O][W+6][W+6][Pt+4][Rh-][14c][c][Sn+2][Sn+2][Mo][S-][P@H][P@H][P+2][P+2][P+2][P+2][BH2-][BH2-][Si-][18F-][CuH2][Sb+2][Sb+2][As+3][As+3][Re+5][As-][Mo+4][Zn][PH]B[S-][B+3][B+3][B+3][B+3][B+3][Mg][W+][N@@H+][N@@H+][In+3][Ir+2][Ir+2][SH5][PtH+2][Sm+3][BaH][BaH][SeH-][Zr+4][N+2][N+2][N+2][K][K][S@+][In+][Si@@]%23%23[TeH2]22[CH3+][GeH3][Ir+3][Ir+3][Os-2][SH][Nb+5][BH-][Sn+][SeH+][Cm][Cm][VH][Si+]%24[11CH3][OH+][V][GeH2]Br[Na+][Na+]',\n '[Zr+2]Br[VH][S@@+][SnH4][Fe][Fe][Cn][Au+][13CH][CuH2][Ti+4][Zr+][15NH][PH][13C@@H][Ag+][Ag+][125I][18OH2][Er+3][s+][13CH2][Sb+3][Nd+3][Nd+3][Cm][IH][AlH4-][67Ga][Au+][67Ga][In][Ti+][13CH2][13CH2][13CH2][Ag+][Br+][15nH][Pb+3][W][W+][W+][123I][Hf+2][Hf+2][Hf+2][Si+4][123I][32P]n[Cs+][Cs+]([Mo]ClCl[GeH3][Sc+3][Ru+][123I][123I][SiH4+][Sc][Rh+3][UH]88[Ge][Os-2][Os-2][Cl+2][15NH2][15NH2][15NH2][15NH2][Hg+2][Hg+2][Hg+2][Hg+2][unused9][64Cu][64Cu][64Cu][64Cu][64Cu][unused10]=[PH][19F][K+][K+][Co+2][CH2][CH2][Rh+][229Th][K][C-4][CH3][unused8][124I][Li-][Er][Ce][Ce][Ce][F+][W][Cl-][Cl-][Cl-][Br-][Cl+2][Zr][BH2-][BH2-]N[C+][15n][Mn+4][Re+5][Pb][32P]',\n '[Na-2][Li+][Rh+4][CH+][Rh+][IH][Sb+5][cH-][Sr][18F-][SeH2][Sr+2][Sr+2][124I-][ArH][N+3][N+3][Pd+3][U][Pd+3][15nH][NH+3][Nd+3][Ta+5][Cd+][Ce+4][FH+2][SiH4][La+3][c-]%11[NiH][N][As+3][W+4][W+4][229Th][Ga][Ga][Ga][Tb][PH4]%21[Pb+2][13c][Na-][Pd+3][sH+][ZrH2][ZrH2][Re+5][Pd-2][Pd-2][Sn+][BH2]~[Si+4][Rh+4][Si@H][Rh]b[Ir+4][Ir+4][N@][S@@+][unused7][CH3-][C@@][N@@]\\\\[11c][Be][Rh+4][Rh+4][GeH3][As-][67Ga]%14%17[Si@H][Sb+3][Pb+2][14c][Th][Th][Sb+2][se+][RuH2][Cl+][N+3][N+3][V+3][15n][c-][c-][Rh-3][Rh-3][Rh-3][Rh-3][Rh-3]b[SH5][F][F][B+][B+][B+][Zr][NiH2][19F][Si@H][AlH][Ru-][Ru-][Ru-][SiH4][Br+][AlH4][Nb+5][Nb+5][Nb+5][13C@@H][Yb][Yb][Pb+4][Pb+4][Co+3]',\n '[NiH2][Rh][Rh][123I-][Si+][Bi+5][Li+][Li+][Ce+3][SH5][Te][Eu][Ac]6666[OH3+][OH3+][13c][13c][Cl+][Cl+][Cr+3][Cr+3]([13C@@H][13CH][FH+2][I+][sH+][sH+][Sm+2][Sm+2][Sm+2][Sm+2][Cr][Mo+4][Sb+][Sb+][Al+2][Al+2][Er+3][Cf][Cf][PtH+2][PtH+2][PtH+2][BiH3][BiH3][AlH3][S@+][S@+][Mo]P[N][NH4+][NH4+][11C][N+3][Ta+5][K][15OH2][Sn+][ClH2+][ClH2+][Br-][Mg+][Zn][Zn][TaH3][TaH3][TaH3][TaH3][TaH3][As][Na+][PH3+][Cs][Cs][Cl-][AlH3][Ac-][PH][PH][Re+4][Ir-]F[13CH][NiH][Pt+4][Ir+3][Mo+4][60Co][13c][Ag+][F-][PH4+][Ta][P@H][P@H][P@H][P@H][67Ga][Mg][Co+3][S@@][TeH2][TeH2][TeH2][TeH2][Au+3][Sn+3][SH]%18[SbH][S-2][S-2][Fe][GeH2]%24[Ce+2][Pb][Mn+3][Mn+3][Na][Lu][N]',\n '[K+][Nd+][Hf+2][Pt+2][Ru+][Ru+][V+4][SiH2][Bi+2][Bi+2][Sc][TaH3][TaH3][Zn+2][Zn+2][OH2+][W+6][W+6][Ta][Fe+4][NH2]%22[BH-]n[C@H][C@H][Sb+][Sb][Ba][Ba][BaH][cH-][cH-][o+][Fe+4][Fe+4][W+4][W+4][P@H][Cl+2][18F][Dy+3][Dy+3][Ru+2][Pt-2][Pt-2][Sn]s[N+3][H-][H-][118Sn][Ir+2][Ir+2][Ir+4][LiH][OH2+][Tl]4=[Yb][SbH][Mn+][TeH3][TeH3][I+2][NH2+][P+2][Cu+2][Cu+2][SiH4][S+][S+][Mn][Ga][24NaH][SnH3][I-][BaH][Na-][V+5]=[Pb+3][Pb+3]%20[64Cu][64Cu]4[S@][W+6][Mo][18F][Cl+2][Cl+2][Cr+4][Cr+4][Ni][13CH][Au-][Eu][sH+][Sm+3][Pr+3][Pr+3][Os][NH-][NH-][Rh-3]F[U][U][U][U][C-][As][31P][O-][O-][O-][O-]%24[Tl+2]N[N@@+][PH3+][LaH]',\n '[P+2][32P][Re+4][Rh][Na][Ni+][123I-][Ag+2][Ag+2][O-2][14CH][Ce+2][Pb][Pb]s[Au][Mo][O][SiH][SiH][U+2][Pr][C-][AlH3][Os-2][Ru+][Xe][S+4][Si@@][V+3][V+2][SH2][SH2][P@@H][P@@H][CaH2][IrH2][Ru-][18OH][IH-][Pt+4][9CH][3H][AlH3][BH4-][NH+][S+][Th+4][Se-][Se-][Y-][Y-]2[Pt][125I]n[Pt-][60Co][Pb+3][Bi+2][Bi+2][Mo+2][Mo+2]ss[SiH2][SiH2][p-][p-][211At]S[n+][Yb+2][Rh-3][AcH][211At][Co+][Fe+4][Si-][Si-][Si-][N+2][SiH2][SiH2][As+3][As+3][Au+3][Au+3][SnH2][C@@H][Sc+3][Ge][Br+][As+][Ir+2][Zn+]7/[U][Hg+2][Zr+4][SnH3][p-][Pt+2][RuH2]1BrBrBrBr[Nb+3][CH+][Hg+2][Hg+2][W+6][U][U]7[As-][Cr]%15[N+2][Cu+3][Tl+][AsH4+][NH2-][N+]',\n '[BH3-][AsH4+][15nH][15nH][Pd-][NaH][Ca+][Ca+][Mn][Pd-2][Na-][Dy]b[Sr+2][ClH2+][ClH2+][n+][n+][Ac-][cH+][ClH2+]%22[Cr+3][2H][2H][2H][Cs+][Cs+][RuH][Ce+4][PH4][Al-][124I][124I]B[SbH2][Ir][SbH][Ag+][Co][Rb][Rb][Si+4][Sm][11CH3][11CH3][11CH3][11CH3][SH2][SH2][SH2][PH4][SiH3][Mn][CH3-][W][Pd+4][99Tc]3[AlH2-][AlH2-][Fe-4].[Sr][Sr][Sc][Sc][Sc][SnH3][PH][PH][Hg+2]S[Sn+3][124I-][p-][Mn+4][Hg][SeH+][Sc+3][Tc][La+3][Mo+4][Li+][Gd+3][Gd+3][Gd+3][BrH+][Ca+2]%23[S+4][V+3][Au-][BaH2][SH5][IH2+][Mn+6][Mn+6][PH2][Mn][123I-]s[13c][MgH][PH4+]OOO[Pt-2][s+][unused8][Cl+2][Pt-2][Pt-2][Cu+2][Cl+][Pd+4][35S][35S][AlH2][SnH4][VH][VH][VH]%24[Ir+4][Se+][W]',\n '[31P][Tl+]%14[Na+][Na+][125I][Pt+4][SnH2][SnH2][Cu-2][123I-][U+6][U+6][U+6][U+6][U+6][Y][Y][24NaH][pH][Cr+2][Zr+][Hf+3]B[Hf][Hf][Bi+5]II[S@@][Si+4][N+2][PH2+][Sr][TeH]\\\\[Cl+3][V+5][V+5][AsH+]C%14[CH2][O]%18[Br+][Li+][Li+]%23%23[Cr-][Cl+2]%24[Sc][Sc][Ba][Ba][Ba][14C@H][14C@H][14C@H][14C@H][PH4+][PH4+][SiH][Tl][nH][nH][nH]%20[Er+3][Er+3][K+][C-]o[Si]3[67Ga+3][PH2][PH2][Tl+3][Hf][F-][Ag+3][Ag+3][125I][Zr+2][Zr+2][Zr+2][Tl+2][BH2][Nb+5][15CH][15CH][O+][O+][In+][Zn][Ni-][Ir+]%19%19[CH2][18F-][p-][Fe+3][Fe+3][Pt-][Pt-][Pt-][Sn+][CaH2][60Co][Yb]1[Al+2][Cr+4][Cr+4][Cr+4][SH3+][124I][CH3+][Ce+3][Ce+3][SH2]',\n '[Mn+6][Mn+6][Mn+6][Ni+3][AsH4+][VH][VH][Tb][Tb][Os][Os][BH3-]N[Ni-][CH2][Ti+][H-][H-][H-][C-][C-][Cu-][Cu-][Hg+][Si+2][13N][Mg+2][N@][N@][Bi+][KH]%14%14[S+2][13c][V+5][V+5][Bi+3][Se][Se][Se][Se][Se][Se][PH3][14CH][NH2][Tl][c-][Ba][BH2-][Zr+2]N=[99Tc][B][AlH2][Ce+4][Sb-][VH][AlH][C-4][Mo+2][Th][Th][Nd][Nd]c[PH2][Zn]%15%15[Ti+3][Ti+3][V][AlH2+][9CH3][ZrH2][Ar][N@@+][NH][14CH2][Cl+2][Ru+3][N+3][Ni+2][Ru-2][Sm+2][Sm+2][U+2][U+2][Ce+4][Rh+][Rh+][SeH][SeH][SeH][YH][Ag-][Ir+2][C@@H][N+2][n+][Cr-][SnH2][SnH2][SnH2][Pt-][S-2][Fe+6][SH2+][Th]7[Se+][S@@][V][CuH2-][As][KH][Tb][Tb][Ni-][OH2+][Ac]',\n 'n[IrH2][I+][PH5][14C@H][P-][14C@H][OH2+][31P][31P][IH][GeH2][14cH][Cu-2][S][15nH][PH+][S@@+][S@@+][124I][Hf+3][Hf+3][Hf+3][P+][P+][P+][124I-][Ru]([1H][NH][GeH][Tl+3][Hf+2][SbH][K+][K+]/[SH2][SH2][Sc+2][Nd+3][F+][Ho][P-3][P-3][Zn+2][VH])[Fe-3][14CH2][15n][118Sn][118Sn][14c][Al+3][S+][15NH2][Tb+3][Tb+3][14CH2][p-][p-][p-][p-][Bi+5][SH2+][In+][Cr-]3[Si+2][PH][MgH][IH-][Si+][pH]%10[35S][35S][Os][F-][SH5][SH5][SH5][Si@@][Si@@][Si@@][Bi+5][Bi+5][O-][Ga+][Ga+][AlH2-][Y][Y][Y]%10%10%10[Sc][Li+][Rh-][PtH+2][S-2]%12[AsH3][NH-][NH-][NH-][Ir-][Ca][Ti+4][14c][14C@H][P@@H][CH2][CH2][CH2][Ir+4][Ir+4][Ir+4][V+5][35S][35S][Cl+3]',\n '[Pt-2][Pt-2][UH][Ag-][Ag-][CH][AlH2+][Zr+][SiH3][Xe][C+][123I-][Zr][Zr][N][N][Zn][Zn][Ba+2][Ba+2][Gd+3][ClH+][ClH+][Zr+4][18OH2][Zn+][At][Hf+2][Hf+2][Hf+2][s+][Mo+4][Mo+4][N@][Cf][Pb][siH][unused8]P[Hg+2][Hg+2][Fe+3][Cd+2][Er+3][Cr+6][Cr+6][p-][NH-][Pd+3][Pd+3][Pd+3][Pd+3][Pd+3][Ac][Fr][U+2][Bi+3][IH][Bi+5]*[Ru][Cl+2][Cl+2][Al][13CH3][Rh][9CH][9CH][Na-][Nb+5][14c][Al-][Cd+][unused7][123I][B+2])[Sm+3][Cl][Pt+4][I+2][cH+][Cf][At][Sb+][Cu-2][B][N@H+][SnH2][AsH][FH+2][PH2+][I-][PH4+][SH+]C[Ga+][Ga+3]=[U][U][P-][P-][BiH3][BiH3][18F-][nH+][Ho+3][15OH2][Fe+4][Ce][Ti+6][c+][unused6][unused6][CH-][c+][AlH2-][14CH2][14CH2][OH3+][Co+2][se+][AsH][Mn+3][sH+]',\n '[SeH2][se+][CaH2][W+6][W+6][IH2+][Yb][Yb][PtH+2][Cm][Fe+3][Si@@][Si@@][NH4+][Sr+2][As+][Er+3][C@@][C@@][SbH2][Cd+2][NH4+].[CH3]%18[N+][unused8][N@@][Ti+2][Ti+2][Mo+2][Mo+2][I+2][I+2][Fe+4][RuH][SnH3][Au][CH+][Pb+3][Sb-][Ar][Ar][BaH2][BaH2][18OH2][Bi][Bi][Bi]F[ClH2+][V+5][Ag+2][Fe][2H][KH][Ac][Ca+]s[V+2][V+2][Si+4][Fe][Fe]8[Ho][AcH][nH][S-2][Zr+][IrH2][Cl+][Re][Au+][O-][Rh][Rh][Rh][13CH3][Mn+6][P-3][N-][13CH][Bi+][Hf][Na-2][Si@@][Si@@][U][123I][Er][Er]o[CH-][IrH2][Fe][Ba+][Cr][SnH3][V+5][AlH2+][Sc][PH3+][Pt+4][13C][Yb+2][NaH][GeH3][S@+][S@+][S@+][Sr+2][B-][Hg+2][BH2-][CH3][unused9][C@@][C@@][C@@][C@H][C@H][C@H][C@H][Pb+4][W+][Mg+]',\n '[PH3+][PH3+][UH][Hf][Y][H+][NH3+2][Ir+3][PH4][Tb][GeH2][Os+4][AsH4+][AsH4+][AsH4+][Ni+][Sc+3][Re+5][ClH2+][W+][Si@@][n+][Co+][13CH][S@@+][11C][P@@]3[Sr][Au+][Au+][NH3+][PH3][Co][Sm+3][Bi+3][14c][c][HeH][15N][SnH][NH4+][NH4+][Tl+2][24NaH][U][Si][Ti][Se+][Ti+6][Ag+][2H][2H][c+][Ir][Tb][131I][AlH2+][Na+][In+2][24NaH][24NaH][Te][Ar][P@@][Dy][Ho][Mn+][Mn+][OH2+][OH2+][Th+4][CH+][64Cu]>>[Si@@H][GeH][123I-][V+2][V+2][V+2][64Cu][N-3]%20[Ga][Al-][ArH][YH][PH5][TeH3][TeH3][Br][Br][In+3][P-]%16[Pd-2][K+][K+][K+][Fe+2][N@H+][Cl][K+][SiH4][SiH4][I-][11c][11c][Zn+][Zn+][Zn+][123I][Li-][YH][Ca][siH][Ir+3][Nb+5][Cs]1[Br+2][Br+2][C-2][P+][Xe+][C@][Sr+2]',\n '[Mo+2][Pb+2][Dy][Pb+2][Sn+][SeH-][SiH3][Pr][SiH2][SiH2][SiH2][Si@][Si@][Ho][Pd+2][NaH][Re+4][SeH2][Be][Cd+][Cd+][Cd+][Cd+][Pb+3][Sn][Sn][Mg+][13CH3][N@@H+][GeH2][Br+2][123I-][123I-][123I-][123I-][AlH2+][Ru-2][Th][Th][SiH4+][SiH4+][Cd+][BrH+]%16[Si][Si][Si][CuH2-][Bi+2][Bi+2][Ta+5][unused8][31P][Ar]%19[Bi+3][Bi+3][Bi+3][Ca][Na+][PdH2][Mg+][Li+][131I][Yb+2][Ti+3][PH+][PH+][14C][Nd+3][SeH+]222[TeH2][15nH][Cm][siH][Mn+2][Sb-][Tl][64Cu][W][Rb+][Tc][Th][3H][60Co]%24B[9CH3][Er][Li][At][In+3][In+3][U][LaH][Ba]ssss[NH-][NH-]=[S-2][GeH2][13cH][Ru+3][67Ga][PH5][NH3+2][Sb][Cs+][In][VH][Pb+4][Zr+][CH][CH][CH][Ni-][Zr-2][Zr-2][Au+][Li+][C-]',\n '[ZrH2][SeH-]/[Gd+3][Nd][Nd][68Ga][68Ga][Na-2][n-][N-3][Cl][s+][s+][U+6][Sb+5][LaH][BrH+][BrH+][BrH+][Ir-][OH+][Ti+5][Ti+5][Fe-3][UH][Na-][Na-]S[SH3+][15NH2][O][O][SH][At][67Ga+3][PH][N@+][N@+]~[In+3][15nH][C]pp[BH2][Hg+2][Hg+2][Ho+3][SiH2][SiH2][SiH2][Ti+6][18O][Ti+6][Ti+6][Ir+4][Ir+4][Cs][2H][2H][2H][2H][P+][P+][124I][Tc][Tc]%22[Sb+][TaH3][Mn+4][P+][SiH4+][As+][NH-][TeH2][Mo+6][2H][BH][Ac][Dy+3][24NaH][AlH]%11[Hf+2][Al+]%18%18[Ga+3][Ga+3][c-][BiH3][Br][NiH][C][C][Sb+5][Sb+5][Sb+5][Sn][TaH3]%15[AsH][AsH][I+][I+][SeH][unused10][Pb+3][Bi][11C][P@H]-[Sb+])[S+][OH3+][Y-][Y-][Nd+][C@H][Ti+2][BaH2][Zr+4][te][Cr+3]',\n '[S@+][Na+][Al+2][Cs+][Cs+][S@@][S@@][124I-][Y-][Xe+][BH][SiH][Tb+3][SH3+][Ru+][Cu-2][Tl][Tl][Ti+2][Fe+4][Fe+4][Fe+4][Fe+4][V][31P][MgH][N@@+][Ta+5][Ta+5][Ta+5][SeH+][IH2+][IH2+][IH2+]%24[Sb-][Sb-][Cl+2][Sn+]n[Y+3][32P][67Ga+3][Si@H][V+5][Pr][Zn+2][Zn+2][Ir][Si@H][Fe][Ir+]6[BH2-][S][Ir+2]I[GeH][Cl-][KH][Er+3][Er+3][Er+3][Ce+4][Cd+][Ca+][W+6][N@+][V+5]--[P@@H][15N][15N][Pt-][Mg+][18F-][S+4][13C][Yb][Ga+3][Ir+2][Ir+2][U+6][Nb+3][Fe+4][I+2][GeH][Tb][18F][Ir-]6[IH-][Rh+4][Rh+4][Eu][Co+3][SiH3][Sc+3][Ta][CH-][14C][14C][14C][La+3][La+3]7[H-][H-][Cu+3][Sn+3][Sn+3][S+][S+][Mo+2][Ho][Ho][Ho][Pd+2][Pd+2][Nd][Nd][Pd+2][Pd+2][CaH2][Ti+3][Zn][OH3+]',\n '[Be+2][Bi+5][In+][Ru-][Pb][SnH4][SnH4][SnH4][SnH4][B+3][N@]>>[2NH][Nd+3][Fe][14CH3][14CH3][Ba][Ti+][Nd][unused6][S@]-[In+3][In+3][In+3][N@H+][AlH][As+][As+][As+][O][IH-][Ag+][IH-][Tb][124I][Er+3][C+][Cr+6][Ni+2][Ni+2]%17[Cs+][Si-]%20[Al-]/[o+][o+][Si@H][118Sn][Al+][Zn+][NaH][NaH][SiH][SiH][SbH][Sc+2][p-][1H][13C][Ti+2][Ti+2][Ti+2][S@@+][Ag+3]OO[U+2][N+2][V+3][V+3][SnH2][Ir-][BH-][Cl+][Pt-2][Pt-2][AlH-][AlH-][15N][Lu]B[Cl][H][Dy][N+][AlH2-]%16[Te][Cl-][Be][Y-][F-][Rh-3][Rh-3][Sc+2][Fe-4][V][Cr+2][Br-]C[Cl+3][Sn][AlH2][ClH2+][PdH2][35S][Al+2][Fe+4][Rh+][67Ga][In+3][In+3][Au+][Pr+3][BiH3][Nb+5][Nb+5][Ru+2][Sb-][68Ga][V+3][Ac-]/',\n '[Br+][O+][O+][IrH][IrH][IrH][Li][Cd][Bi+]%14%14[Bi+2][Tc][Tc][Tc][Mo+4][Mo+4][NH2+][Ba][Cr+4][SiH3][SiH3]8[B][Zr-2][14cH][Cd+][Cd+][Cd+][N+][Hf+4][Rh+3][Ru+2]%12[Pd][Rh+2][Tl+3][Rb+][10B][nH][Yb+3][Yb+3][BaH2][Si@][SiH][Pd+3][Pd+3][Pd+3][Bi+3][OH2+][NiH2][NiH2][Ni+3][64Cu]PP[Fe-4][AlH-]%13[W+][W+][W+][Pb][Pb][Nb+3][BaH2][15NH2][P-][13c][124I-][124I-][unused8][se+][Na-][2H][Al+2][CH3+][IH][P@@][Tl+3][Ru][60Co]%14[Hf+3][P+3][S@@+][S@@+][LaH][PH]I[Ru-][Ru-][Mn+4][Cl-]%16%16[Cu+3][Cu+3][Ac][Ac][Ac][Mn+6][67Ga][67Ga][AlH2][Al][Al][Rh-3][Zr+][YH][YH][13CH3][AlH][YH][BH-][BH-][Ru-2][Ru-2][11C][V+3][se][Ni+][Bi+2][Bi+2][Os+2][K+]',\n '[Tl+2][Cl-][PH4+][S+4][S+4][In+][Pd+3][H+][se][se][se][124I][211At][AsH2][Si+4][Eu+3][Eu+3][KH][SH2][Gd+3][Gd+3][IH2+][Rb][Rb][15NH2][Ru-2][CH2][YH][YH][Cd+][SnH][P@][P@][P@][Al+2][Sb+3][Si+2][B+3][Ti+][Sb+5][Cu+2][Mo+2][CH][Ru-][B+3][B+3][B+3][1H][OH3+][CuH2][Cu+2][OH2+][123I-][As-][123I-][123I-][123I-]F[AsH+][AsH+][Y][Y][Os+4][SiH3][Si@H]%17%17[Cu+3][15NH2][Fe+2][Fe+2][Fe-4][Nd+][Ga][Ga][CH][SH+][Ti+4][Ti+4][s+][W+][W+][Zr+4][AsH][AsH][Au]N1[Ga][NH3+][NH3+][67Ga+3]%20[CH3+]I[18O][Pt+2][Ti+][NH+][NH+][Sb+5][unused6][unused6][Cr+3][CH2-][Cd+][Cd+][BH2-][Na-2][Te][PH-][NH][NH][11C][B][Sm+2][c+][13c][Nd+3][Nd+3][U+6][U+6][U+6][Br][Re+4][Co+2][Zn+2][Co+]',\n '[OH2+][N@][I+][NaH]#[S-][S-]P[Si@@][B][SH3+]o[W+][Au+][Ag+3][SeH][S+2][P@@H][ClH2+]~[Rh][15NH2][H+][s+][C][c+][c+][c+][c+][Ti+3][Pb+2][siH][7NaH][N+2][N+2][2H][2H][N+3][14cH][Rb+][68Ga][68Ga][13N][15CH][SeH][SeH][SeH][C-2][Cr][Xe][Ru+2][N@+][Zr-2][SeH-][SeH-][B+][B+][U+2][Rb][Dy][Se+][Bi+2][I][131I][13cH][N@@H+][N@@H+][IH-][S-][TaH3][Cr][AsH3][68Ga][Nd+3][VH][PH3+][S@+][S@+][Fe+2][Ar][As][PH3+][In+3][Ag-][se]~~~[Rb][Rb][Rb][Rb][AsH+][AsH+][Co+][MgH][F-][Si@@][Si@@][N@H+][P+2][Na-2][Xe+][SH-]b[GeH2][CaH2][PH4+][Ga+][Mg][Os][P-3]cc[N@@][SeH][SeH][SeH][SH+][SH+][Ti+2][Ti+2][Cd+][P-3][15NH2][Mn+][IH2+]',\n '[Te][Te][Eu+3][Cl+][Cl+]BrBr[Na-2][Mn+3][PH2][Cu-2][Be+2][O-][Xe][14C][Ag][Ir+3][se][se][Mn+4][nH+][NH2-][NH2-][14C@H][unused10]P[Sb-][C][Nb+5][Nb+5][LiH][SH+][124I][124I][BaH][99Tc][N@][F][Re+4][Ti][Ti][N@@H+][unused7][AsH+][AsH+][Hf+3][Hf+3][SnH4][Ga+3][Ga+3][Rh+2][124I][PtH+2][Zr+2][unused5][Ho+3]%22[Ba+2][C@H]O[CH3+][Na+][Br-][S@+][Mo][14C]nnnn[Mn+3][131I][131I][Rh][Rh][Rh][Rh][CH][Yb+3][Yb+3][N@@H+][Ce+4][Mg+2][Nb+3][Ga+][NH4+][UH][SeH2][P@@][Th+4][Bi+5][13N][13N][13N][13N][s+][CH+][CH+][Mg+2][15NH2][15NH2][15NH2][15NH2][Si][Dy][S+4][Xe][Xe][13cH][13cH][Rh-3][S][N-][Pb+3][211At]8[AsH4+][AsH4+][AsH4+][AsH4+][PH3+][Au-][Au-][Pd-2][GeH][Th+4]',\n '[Be][Be][Yb+2][V+2][C@@][C@@][C@@][AlH2][O-][Eu][Sc+2][Sc+2][Rb][131I][Ir+4][2NH][2NH][NH+3][SeH2][Ni+3][Dy+3][Yb][nH][Ti+4][Ti+4][10B][10B][Al+2][Al+2][Al+2][W+6][Co+3][H+][C@@][C@@][C-][CH3+][PH4+][PH4+][24NaH][24NaH][14C@H][14C@H][14C@H][14C@H][211At][IrH][64Cu][Pd-2][S-2][1H][Fr][Sn][Ag-][Tb+3][CaH2][CaH2])[SH3+][AsH+][Ac-][AlH3][Li][Si@H][Li+][N-3][PH5][PH5][Si@@][SiH2][Gd][Gd]=[Sc][Sc][Mn][Mn][B-][B-][Si@][Bi+3][14C][Zr][Hg+][Zr-2][Zr-2][P-3][P-3][O][O][BH-][PH5][Cu+2][Ba][Ba][Sm+3][In+2][Rh-][Ho][Cd+2][Ca][Ca][SbH2][SbH2][SbH2][SbH2][SbH2][SbH2][Ca][Ca][Ca][Fr][Pd+4][SeH2][Th+4][Th+4][SH+][unused6][Ir-][NaH][1H]O[Si][Sn+3]\\\\\\\\6[GeH]',\n '[Os][67Ga][Ir+][NH][Rb][153Sm][1H]S[CaH2][CH][N@@H+][NiH2][NiH2][Li+][BH][PH4][Na-2][te][FH+2][18OH2][Cu-2][O+][18F-][Mo][18OH][18OH]%17I[P@@H][Ga+][Rb][IH+][Ce+3][Tb+3]5[F+]%20[Th][Ga][Rh-3][Bi][11CH3][GeH]ss[Pt-2][Pt-2][Sc][Sc][Sc][V][V][V][W+4][W+4][U+2][LaH][U+6][Cu-][Hg][unused8][Os+2][Os+2][BiH3][S+]\\\\[Mn+6][N@@H+][7NaH]%20[unused9][BH-][BH-][Hf][B-]%23[Nd+3][Rb][11C][Br+2][Ho+3][Pd][Pd][Rb+][P-][PH3+][PH3+][U][14CH3][U+2][U+2][Er][Er][AsH3]SS[In+2][OH][Hf+3][N-]))[Ba+][Th][Hf+4][Mg+][Mg+][Mg+][Na-][Na-][Ce+4][n+][NH+]%13[Mo+6][Si@@H][Si@@H][N][CH2][Fe]5[c][c][AsH4+][Tl+][Y+3][F+]/']"
     },
     "execution_count": 9,
     "metadata": {},
     "output_type": "execute_result"
    }
   ],
   "source": [
    "samples"
   ],
   "metadata": {
    "collapsed": false,
    "ExecuteTime": {
     "end_time": "2024-03-31T18:30:34.267499326Z",
     "start_time": "2024-03-31T18:30:34.211039587Z"
    }
   },
   "id": "31ce82c823b9ae4a"
  },
  {
   "cell_type": "code",
   "execution_count": 14,
   "outputs": [],
   "source": [
    "task = 'lm'\n",
    "inputs = trainer.get_batch(split='train', task=task)\n",
    "trainer.model.zero_grad()\n",
    "outputs = trainer.model(\n",
    "    task=task, input_ids=inputs['input_ids'], attention_mask=inputs['attention_mask'],\n",
    "    labels=inputs['labels'], target=inputs['target'], eos_mask=inputs['eos_mask'])\n",
    "outputs['loss'].backward()"
   ],
   "metadata": {
    "collapsed": false,
    "ExecuteTime": {
     "end_time": "2024-03-25T12:51:47.815824805Z",
     "start_time": "2024-03-25T12:51:47.473215438Z"
    }
   },
   "id": "9b53ef6249769421"
  },
  {
   "cell_type": "code",
   "execution_count": 20,
   "outputs": [
    {
     "ename": "AttributeError",
     "evalue": "'NoneType' object has no attribute 'view'",
     "output_type": "error",
     "traceback": [
      "\u001B[0;31m---------------------------------------------------------------------------\u001B[0m",
      "\u001B[0;31mAttributeError\u001B[0m                            Traceback (most recent call last)",
      "Cell \u001B[0;32mIn[20], line 1\u001B[0m\n\u001B[0;32m----> 1\u001B[0m grads \u001B[38;5;241m=\u001B[39m \u001B[43m{\u001B[49m\u001B[43mname\u001B[49m\u001B[43m:\u001B[49m\u001B[43m \u001B[49m\u001B[43mparams\u001B[49m\u001B[38;5;241;43m.\u001B[39;49m\u001B[43mgrad\u001B[49m\u001B[38;5;241;43m.\u001B[39;49m\u001B[43mview\u001B[49m\u001B[43m(\u001B[49m\u001B[38;5;241;43m-\u001B[39;49m\u001B[38;5;241;43m1\u001B[39;49m\u001B[43m)\u001B[49m\u001B[38;5;241;43m.\u001B[39;49m\u001B[43mcpu\u001B[49m\u001B[43m(\u001B[49m\u001B[43m)\u001B[49m\u001B[38;5;241;43m.\u001B[39;49m\u001B[43mclone\u001B[49m\u001B[43m(\u001B[49m\u001B[43m)\u001B[49m\u001B[38;5;241;43m.\u001B[39;49m\u001B[43mnumpy\u001B[49m\u001B[43m(\u001B[49m\u001B[43m)\u001B[49m\u001B[43m \u001B[49m\u001B[38;5;28;43;01mfor\u001B[39;49;00m\u001B[43m \u001B[49m\u001B[43mname\u001B[49m\u001B[43m,\u001B[49m\u001B[43m \u001B[49m\u001B[43mparams\u001B[49m\u001B[43m \u001B[49m\u001B[38;5;129;43;01min\u001B[39;49;00m\u001B[43m \u001B[49m\u001B[43mtrainer\u001B[49m\u001B[38;5;241;43m.\u001B[39;49m\u001B[43mmodel\u001B[49m\u001B[38;5;241;43m.\u001B[39;49m\u001B[43mnamed_parameters\u001B[49m\u001B[43m(\u001B[49m\u001B[43m)\u001B[49m\u001B[43m \u001B[49m\u001B[38;5;28;43;01mif\u001B[39;49;00m\u001B[43m \u001B[49m\u001B[38;5;124;43m\"\u001B[39;49m\u001B[38;5;124;43mweight\u001B[39;49m\u001B[38;5;124;43m\"\u001B[39;49m\u001B[43m \u001B[49m\u001B[38;5;129;43;01min\u001B[39;49;00m\u001B[43m \u001B[49m\u001B[43mname\u001B[49m\u001B[43m}\u001B[49m\n",
      "Cell \u001B[0;32mIn[20], line 1\u001B[0m, in \u001B[0;36m<dictcomp>\u001B[0;34m(.0)\u001B[0m\n\u001B[0;32m----> 1\u001B[0m grads \u001B[38;5;241m=\u001B[39m {name: \u001B[43mparams\u001B[49m\u001B[38;5;241;43m.\u001B[39;49m\u001B[43mgrad\u001B[49m\u001B[38;5;241;43m.\u001B[39;49m\u001B[43mview\u001B[49m(\u001B[38;5;241m-\u001B[39m\u001B[38;5;241m1\u001B[39m)\u001B[38;5;241m.\u001B[39mcpu()\u001B[38;5;241m.\u001B[39mclone()\u001B[38;5;241m.\u001B[39mnumpy() \u001B[38;5;28;01mfor\u001B[39;00m name, params \u001B[38;5;129;01min\u001B[39;00m trainer\u001B[38;5;241m.\u001B[39mmodel\u001B[38;5;241m.\u001B[39mnamed_parameters() \u001B[38;5;28;01mif\u001B[39;00m \u001B[38;5;124m\"\u001B[39m\u001B[38;5;124mweight\u001B[39m\u001B[38;5;124m\"\u001B[39m \u001B[38;5;129;01min\u001B[39;00m name}\n",
      "\u001B[0;31mAttributeError\u001B[0m: 'NoneType' object has no attribute 'view'"
     ]
    }
   ],
   "source": [
    "grads = {name: params.grad.view(-1).cpu().clone().numpy() for name, params in trainer.model.named_parameters() if \"weight\" in name}"
   ],
   "metadata": {
    "collapsed": false,
    "ExecuteTime": {
     "end_time": "2024-03-23T15:29:14.117992824Z",
     "start_time": "2024-03-23T15:29:13.985615887Z"
    }
   },
   "id": "a2c0feaea65f235f"
  },
  {
   "cell_type": "code",
   "execution_count": 57,
   "outputs": [
    {
     "name": "stdout",
     "output_type": "stream",
     "text": [
      "transformer.wte.weight\n",
      "transformer.wpe.weight\n",
      "transformer.h.0.ln_1.weight\n",
      "transformer.h.0.attn_1.q_proj.weight\n",
      "transformer.h.0.attn_1.kv_proj.weight\n",
      "transformer.h.0.attn_1.out_proj.weight\n",
      "transformer.h.0.ln_2.weight\n",
      "transformer.h.0.mlp.fc.weight\n",
      "transformer.h.0.mlp.proj.weight\n",
      "transformer.h.1.ln_1.weight\n",
      "transformer.h.1.attn_1.q_proj.weight\n",
      "transformer.h.1.attn_1.kv_proj.weight\n",
      "transformer.h.1.attn_1.out_proj.weight\n",
      "transformer.h.1.ln_2.weight\n",
      "transformer.h.1.mlp.fc.weight\n",
      "transformer.h.1.mlp.proj.weight\n",
      "transformer.h.2.ln_1.weight\n",
      "transformer.h.2.attn_1.q_proj.weight\n",
      "transformer.h.2.attn_1.kv_proj.weight\n",
      "transformer.h.2.attn_1.out_proj.weight\n",
      "transformer.h.2.ln_2.weight\n",
      "transformer.h.2.mlp.fc.weight\n",
      "transformer.h.2.mlp.proj.weight\n",
      "transformer.h.3.ln_1.weight\n",
      "transformer.h.3.attn_1.q_proj.weight\n",
      "transformer.h.3.attn_1.kv_proj.weight\n",
      "transformer.h.3.attn_1.out_proj.weight\n",
      "transformer.h.3.ln_2.weight\n",
      "transformer.h.3.mlp.fc.weight\n",
      "transformer.h.3.mlp.proj.weight\n",
      "transformer.h.4.ln_1.weight\n",
      "transformer.h.4.attn_1.q_proj.weight\n",
      "transformer.h.4.attn_1.kv_proj.weight\n",
      "transformer.h.4.attn_1.out_proj.weight\n",
      "transformer.h.4.ln_2.weight\n",
      "transformer.h.4.mlp.fc.weight\n",
      "transformer.h.4.mlp.proj.weight\n",
      "transformer.h.5.ln_1.weight\n",
      "transformer.h.5.attn_1.q_proj.weight\n",
      "transformer.h.5.attn_1.kv_proj.weight\n",
      "transformer.h.5.attn_1.out_proj.weight\n",
      "transformer.h.5.ln_2.weight\n",
      "transformer.h.5.mlp.fc.weight\n",
      "transformer.h.5.mlp.proj.weight\n",
      "transformer.h.6.ln_1.weight\n",
      "transformer.h.6.attn_1.q_proj.weight\n",
      "transformer.h.6.attn_1.kv_proj.weight\n",
      "transformer.h.6.attn_1.out_proj.weight\n",
      "transformer.h.6.ln_2.weight\n",
      "transformer.h.6.mlp.fc.weight\n",
      "transformer.h.6.mlp.proj.weight\n",
      "transformer.h.7.ln_1.weight\n",
      "transformer.h.7.attn_1.q_proj.weight\n",
      "transformer.h.7.attn_1.kv_proj.weight\n",
      "transformer.h.7.attn_1.out_proj.weight\n",
      "transformer.h.7.ln_2.weight\n",
      "transformer.h.7.mlp.fc.weight\n",
      "transformer.h.7.mlp.proj.weight\n",
      "transformer.h.8.ln_1.weight\n",
      "transformer.h.8.attn_1.q_proj.weight\n"
     ]
    },
    {
     "ename": "RuntimeError",
     "evalue": "shape '[2, 128, 8, 64]' is invalid for input of size 262144",
     "output_type": "error",
     "traceback": [
      "\u001B[0;31m---------------------------------------------------------------------------\u001B[0m",
      "\u001B[0;31mRuntimeError\u001B[0m                              Traceback (most recent call last)",
      "Cell \u001B[0;32mIn[57], line 9\u001B[0m\n\u001B[1;32m      7\u001B[0m \u001B[38;5;28mprint\u001B[39m(name)\n\u001B[1;32m      8\u001B[0m \u001B[38;5;28;01mif\u001B[39;00m name \u001B[38;5;241m==\u001B[39m \u001B[38;5;124m'\u001B[39m\u001B[38;5;124mtransformer.h.8.attn_1.q_proj.weight\u001B[39m\u001B[38;5;124m'\u001B[39m:\n\u001B[0;32m----> 9\u001B[0m     q \u001B[38;5;241m=\u001B[39m \u001B[43mparams\u001B[49m\u001B[38;5;241;43m.\u001B[39;49m\u001B[43mview\u001B[49m\u001B[43m(\u001B[49m\u001B[43mB\u001B[49m\u001B[43m,\u001B[49m\u001B[43m \u001B[49m\u001B[43mT\u001B[49m\u001B[43m,\u001B[49m\u001B[43m \u001B[49m\u001B[43mnum_heads\u001B[49m\u001B[43m,\u001B[49m\u001B[43m \u001B[49m\u001B[43mC\u001B[49m\u001B[43m \u001B[49m\u001B[38;5;241;43m/\u001B[39;49m\u001B[38;5;241;43m/\u001B[39;49m\u001B[43m \u001B[49m\u001B[43mnum_heads\u001B[49m\u001B[43m)\u001B[49m\u001B[38;5;241m.\u001B[39mtranspose(\u001B[38;5;241m1\u001B[39m, \u001B[38;5;241m2\u001B[39m)\n\u001B[1;32m     10\u001B[0m \u001B[38;5;28;01mif\u001B[39;00m name \u001B[38;5;241m==\u001B[39m \u001B[38;5;124m'\u001B[39m\u001B[38;5;124mtransformer.h.8.attn_1.kv_proj.weight\u001B[39m\u001B[38;5;124m'\u001B[39m:\n\u001B[1;32m     11\u001B[0m     grad_kv_proj \u001B[38;5;241m=\u001B[39m params\u001B[38;5;241m.\u001B[39mgrad\n",
      "\u001B[0;31mRuntimeError\u001B[0m: shape '[2, 128, 8, 64]' is invalid for input of size 262144"
     ]
    }
   ],
   "source": [
    "B = inputs['input_ids'].size(0)\n",
    "T = inputs['input_ids'].size(1)\n",
    "C = trainer.model.embedding_dim\n",
    "num_heads = trainer.model.num_heads\n",
    "\n",
    "for name, params in trainer.model.named_parameters():\n",
    "    print(name)\n",
    "    if name == 'transformer.h.8.attn_1.q_proj.weight':\n",
    "        q = params.view(B, T, num_heads, C // num_heads).transpose(1, 2)\n",
    "    if name == 'transformer.h.8.attn_1.kv_proj.weight':\n",
    "        grad_kv_proj = params.grad\n",
    "    if name == 'transformer.h.8.attn_1.out_proj.weight':\n",
    "        grad_out_proj = params.grad    "
   ],
   "metadata": {
    "collapsed": false,
    "ExecuteTime": {
     "end_time": "2024-03-23T15:50:17.278879604Z",
     "start_time": "2024-03-23T15:50:17.229853641Z"
    }
   },
   "id": "f00764e0a69fb408"
  },
  {
   "cell_type": "code",
   "execution_count": 61,
   "outputs": [
    {
     "data": {
      "text/plain": "262144"
     },
     "execution_count": 61,
     "metadata": {},
     "output_type": "execute_result"
    }
   ],
   "source": [
    "B * T * num_heads * C // num_heads * 2"
   ],
   "metadata": {
    "collapsed": false,
    "ExecuteTime": {
     "end_time": "2024-03-23T15:50:42.356174461Z",
     "start_time": "2024-03-23T15:50:42.312348612Z"
    }
   },
   "id": "8a9a4ebe45983f8c"
  },
  {
   "cell_type": "code",
   "execution_count": 60,
   "outputs": [
    {
     "data": {
      "text/plain": "262144"
     },
     "execution_count": 60,
     "metadata": {},
     "output_type": "execute_result"
    }
   ],
   "source": [
    "512 * 512 "
   ],
   "metadata": {
    "collapsed": false,
    "ExecuteTime": {
     "end_time": "2024-03-23T15:50:35.580239387Z",
     "start_time": "2024-03-23T15:50:35.546452918Z"
    }
   },
   "id": "3a6cb58053a7ec2"
  },
  {
   "cell_type": "code",
   "execution_count": 44,
   "outputs": [
    {
     "data": {
      "text/plain": "torch.Size([512, 512])"
     },
     "execution_count": 44,
     "metadata": {},
     "output_type": "execute_result"
    }
   ],
   "source": [
    "k, v = self.kv_proj(x).split(self.embed_dim, dim=2)\n",
    "k = k.view(B, T, self.num_heads, C // self.num_heads).transpose(1, 2)  # (B, nh, T, hs)\n",
    "q = q.view(B, T, self.num_heads, C // self.num_heads).transpose(1, 2)  # (B, nh, T, hs)\n",
    "v = v.view(B, T, self.num_heads, C // self.num_heads).transpose(1, 2) "
   ],
   "metadata": {
    "collapsed": false,
    "ExecuteTime": {
     "end_time": "2024-03-23T15:35:43.708460110Z",
     "start_time": "2024-03-23T15:35:43.662888630Z"
    }
   },
   "id": "9f46e292c5a2c67d"
  },
  {
   "cell_type": "code",
   "execution_count": 99,
   "outputs": [
    {
     "data": {
      "text/plain": "tensor([1., 0.], device='cuda:0')"
     },
     "execution_count": 99,
     "metadata": {},
     "output_type": "execute_result"
    }
   ],
   "source": [
    "inputs['target']"
   ],
   "metadata": {
    "collapsed": false
   },
   "id": "e8b8212bdee6cba3"
  },
  {
   "cell_type": "code",
   "execution_count": 95,
   "outputs": [
    {
     "data": {
      "text/plain": "tensor([1., 0., 1., 0.])"
     },
     "execution_count": 95,
     "metadata": {},
     "output_type": "execute_result"
    }
   ],
   "source": [
    "sized_mismatched_keys = []\n",
    "for k, v in self.model.state_dict().items():\n",
    "    if v.size() != loaded['model'][k].size():\n",
    "        a = set_attr(self.model, k.split(\".\"), None)\n",
    "        sized_mismatched_keys.append(k)\n",
    "\n",
    "self.model.load_state_dict(loaded['model'], strict=False)\n",
    "for missed_key in sized_mismatched_keys:\n",
    "    set_attr(self.model, missed_key.split(\".\"), torch.nn.Parameter(loaded['model'][missed_key]).to(device))"
   ],
   "metadata": {
    "collapsed": false
   },
   "id": "da3675587409ae99"
  },
  {
   "cell_type": "code",
   "execution_count": 74,
   "outputs": [],
   "source": [
    "predictions = []\n",
    "targets = []"
   ],
   "metadata": {
    "collapsed": false,
    "ExecuteTime": {
     "end_time": "2024-03-23T12:05:32.004898845Z",
     "start_time": "2024-03-23T12:05:31.974733192Z"
    }
   },
   "id": "499347b80e846757"
  },
  {
   "cell_type": "code",
   "execution_count": 75,
   "outputs": [],
   "source": [
    "\n",
    "prediction = torch.argmax(outputs['prediction'], dim=1) if trainer.model.prediction_task == 'classification' else outputs['prediction']\n",
    "predictions.extend(dataset.undo_target_transform(prediction.cpu()))\n",
    "targets.extend(dataset.undo_target_transform(inputs['target'].cpu()))\n",
    "\n"
   ],
   "metadata": {
    "collapsed": false,
    "ExecuteTime": {
     "end_time": "2024-03-23T12:05:32.374782584Z",
     "start_time": "2024-03-23T12:05:32.337465809Z"
    }
   },
   "id": "dd182dbccf01494e"
  },
  {
   "cell_type": "code",
   "execution_count": 80,
   "outputs": [
    {
     "data": {
      "text/plain": "[tensor([3.3848], dtype=torch.float64), tensor([3.3848], dtype=torch.float64)]"
     },
     "execution_count": 80,
     "metadata": {},
     "output_type": "execute_result"
    }
   ],
   "source": [
    "predictions"
   ],
   "metadata": {
    "collapsed": false,
    "ExecuteTime": {
     "end_time": "2024-03-23T12:06:35.159799108Z",
     "start_time": "2024-03-23T12:06:35.127162952Z"
    }
   },
   "id": "14364f19fa3d98a5"
  },
  {
   "cell_type": "code",
   "execution_count": 77,
   "outputs": [
    {
     "data": {
      "text/plain": "[tensor([1.3889], dtype=torch.float64), tensor([2.6244], dtype=torch.float64)]"
     },
     "execution_count": 77,
     "metadata": {},
     "output_type": "execute_result"
    }
   ],
   "source": [
    "targets"
   ],
   "metadata": {
    "collapsed": false,
    "ExecuteTime": {
     "end_time": "2024-03-23T12:05:39.289509003Z",
     "start_time": "2024-03-23T12:05:39.245342741Z"
    }
   },
   "id": "593987cd166c9cb0"
  },
  {
   "cell_type": "code",
   "execution_count": 78,
   "outputs": [
    {
     "data": {
      "text/plain": "tensor([-0.6547,  0.3695], device='cuda:0')"
     },
     "execution_count": 78,
     "metadata": {},
     "output_type": "execute_result"
    }
   ],
   "source": [
    "inputs['target']"
   ],
   "metadata": {
    "collapsed": false,
    "ExecuteTime": {
     "end_time": "2024-03-23T12:05:58.892097743Z",
     "start_time": "2024-03-23T12:05:58.842013678Z"
    }
   },
   "id": "a3d24b4c8b27946"
  },
  {
   "cell_type": "code",
   "execution_count": 27,
   "outputs": [],
   "source": [
    "import deepchem as dc\n",
    "from deepchem.feat.molecule_featurizers.raw_featurizer import RawFeaturizer"
   ],
   "metadata": {
    "collapsed": false,
    "ExecuteTime": {
     "end_time": "2024-01-04T17:25:05.747285375Z",
     "start_time": "2024-01-04T17:25:05.703962864Z"
    }
   },
   "id": "74dffa001accfd7a"
  },
  {
   "cell_type": "code",
   "execution_count": 30,
   "outputs": [],
   "source": [
    "featurizer = RawFeaturizer(smiles=True)\n",
    "splitter = 'random'\n",
    "target_transforms = None\n",
    "a, b, c = dc.molnet.load_lipo(featurizer=featurizer, splitter=splitter)"
   ],
   "metadata": {
    "collapsed": false,
    "ExecuteTime": {
     "end_time": "2024-01-04T17:25:19.193980728Z",
     "start_time": "2024-01-04T17:25:19.159187096Z"
    }
   },
   "id": "a500b312228c7eb9"
  },
  {
   "cell_type": "code",
   "execution_count": 33,
   "outputs": [
    {
     "data": {
      "text/plain": "True"
     },
     "execution_count": 33,
     "metadata": {},
     "output_type": "execute_result"
    }
   ],
   "source": [
    "c is not None"
   ],
   "metadata": {
    "collapsed": false,
    "ExecuteTime": {
     "end_time": "2024-01-04T17:25:28.482695689Z",
     "start_time": "2024-01-04T17:25:28.449894547Z"
    }
   },
   "id": "a3e80a7a897a9b2b"
  },
  {
   "cell_type": "code",
   "execution_count": 34,
   "outputs": [],
   "source": [
    "target_transforms = c if c is not None else None"
   ],
   "metadata": {
    "collapsed": false,
    "ExecuteTime": {
     "end_time": "2024-01-04T17:26:14.043338859Z",
     "start_time": "2024-01-04T17:26:14.001073012Z"
    }
   },
   "id": "d633c5256398a48"
  },
  {
   "cell_type": "code",
   "execution_count": 35,
   "outputs": [
    {
     "data": {
      "text/plain": "[<deepchem.trans.transformers.NormalizationTransformer at 0x7f8e91352750>]"
     },
     "execution_count": 35,
     "metadata": {},
     "output_type": "execute_result"
    }
   ],
   "source": [
    "target_transforms"
   ],
   "metadata": {
    "collapsed": false,
    "ExecuteTime": {
     "end_time": "2024-01-04T17:26:16.344486625Z",
     "start_time": "2024-01-04T17:26:16.315351990Z"
    }
   },
   "id": "2c953f163a7be495"
  },
  {
   "cell_type": "code",
   "execution_count": 9,
   "outputs": [
    {
     "data": {
      "text/plain": "tensor(0.6860)"
     },
     "execution_count": 9,
     "metadata": {},
     "output_type": "execute_result"
    }
   ],
   "source": [
    "import torch\n",
    "\n",
    "torch.Tensor([0.571, 0.914, 0.573]).mean()"
   ],
   "metadata": {
    "collapsed": false,
    "ExecuteTime": {
     "end_time": "2024-01-05T10:14:44.109514766Z",
     "start_time": "2024-01-05T10:14:44.099372529Z"
    }
   },
   "id": "fe90305e9a8df97f"
  },
  {
   "cell_type": "code",
   "execution_count": 10,
   "outputs": [],
   "source": [
    "from hybrid_transformer.utils.datasets.utils import load_txt_into_list\n",
    "\n",
    "data = load_txt_into_list('../data/guacamol/train/smiles.txt')"
   ],
   "metadata": {
    "collapsed": false,
    "ExecuteTime": {
     "end_time": "2024-01-05T13:16:10.250596938Z",
     "start_time": "2024-01-05T13:16:10.099608902Z"
    }
   },
   "id": "edc4a1c3496a1149"
  },
  {
   "cell_type": "code",
   "execution_count": 11,
   "outputs": [
    {
     "data": {
      "text/plain": "1273104"
     },
     "execution_count": 11,
     "metadata": {},
     "output_type": "execute_result"
    }
   ],
   "source": [
    "len(data)"
   ],
   "metadata": {
    "collapsed": false,
    "ExecuteTime": {
     "end_time": "2024-01-05T13:16:14.661290004Z",
     "start_time": "2024-01-05T13:16:14.653849987Z"
    }
   },
   "id": "a6385e3be5ac3338"
  },
  {
   "cell_type": "code",
   "execution_count": null,
   "outputs": [],
   "source": [],
   "metadata": {
    "collapsed": false
   },
   "id": "431e0a5b9d71e590"
  }
 ],
 "metadata": {
  "kernelspec": {
   "display_name": "Python 3",
   "language": "python",
   "name": "python3"
  },
  "language_info": {
   "codemirror_mode": {
    "name": "ipython",
    "version": 2
   },
   "file_extension": ".py",
   "mimetype": "text/x-python",
   "name": "python",
   "nbconvert_exporter": "python",
   "pygments_lexer": "ipython2",
   "version": "2.7.6"
  }
 },
 "nbformat": 4,
 "nbformat_minor": 5
}
